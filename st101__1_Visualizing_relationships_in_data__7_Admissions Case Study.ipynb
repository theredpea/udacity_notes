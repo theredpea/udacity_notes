{
 "cells": [
  {
   "cell_type": "markdown",
   "metadata": {},
   "source": [
    "# UC Berkeley conducted a study\n",
    "## To see if admissions are gender-biased\n",
    "### An example of *Simpson's Paradox*\n",
    "But this is ***fake*** data"
   ]
  },
  {
   "cell_type": "code",
   "execution_count": 1,
   "metadata": {
    "collapsed": false
   },
   "outputs": [],
   "source": [
    "import pandas as pd\n",
    "import numpy as np\n",
    "import matplotlib.pyplot as plt\n",
    "\n",
    "%matplotlib inline"
   ]
  },
  {
   "cell_type": "code",
   "execution_count": 2,
   "metadata": {
    "collapsed": false
   },
   "outputs": [],
   "source": [
    "a1_m_app = 900\n",
    "a1_m_acc = 450\n",
    "\n",
    "def admissions_1(app=a1_m_app, acc=a1_m_acc):\n",
    "    \"\"\"\n",
    "    :param app: the denominator in a rate; defaults to men applied\n",
    "    :param acc: the numerator in a rate; defaults to men acceptd\n",
    "    :returns: acceptance rate among men in major 1 (but can )\n",
    "    \"\"\"\n",
    "    return (acc/float(app))*100"
   ]
  },
  {
   "cell_type": "code",
   "execution_count": 8,
   "metadata": {
    "collapsed": false
   },
   "outputs": [],
   "source": [
    "def admissions_1_with_df():\n",
    "    df = pd.DataFrame(index=['Major A'], data={'Applied': [900] ,'Admitted': [450]})\n",
    "    df['Fraction Admitted'] = df['Admitted']/df['Applied']\n",
    "    return df['Fraction Admitted'] * 100   \n",
    "\n",
    "assert admissions_1_with_df()[0]== 50, '50 perent of men are admitted to major A'\n",
    "    "
   ]
  },
  {
   "cell_type": "code",
   "execution_count": 9,
   "metadata": {
    "collapsed": false
   },
   "outputs": [],
   "source": [
    "assert admissions_1() == 50, '50 percent of men were admitted to major 1'\n",
    "admissions_1_solution = 'https://www.udacity.com/course/viewer#!/c-st101/l-48759015/e-48686794/m-48742017'"
   ]
  },
  {
   "cell_type": "code",
   "execution_count": 10,
   "metadata": {
    "collapsed": false
   },
   "outputs": [],
   "source": [
    "a2_m_app = 100\n",
    "a2_m_acc = 10\n",
    "\n",
    "def admissions_2(app=a2_m_app, acc=a2_m_acc):\n",
    "    \"\"\"\n",
    "    :returns : acceptance rate among men in major 2\n",
    "    \"\"\"\n",
    "    return admissions_1(app, acc)"
   ]
  },
  {
   "cell_type": "code",
   "execution_count": 12,
   "metadata": {
    "collapsed": true
   },
   "outputs": [],
   "source": [
    "def admissions_2_with_df():\n",
    "    df = pd.DataFrame(index=['Major A', 'Major B'], data={'Applied': [900, 100] ,'Admitted': [450, 10]})\n",
    "    df['Fraction Admitted'] = df['Admitted']/df['Applied']\n",
    "    return df['Fraction Admitted'] * 100   \n",
    "\n",
    "assert admissions_2_with_df()[1]== 10, '10 perent of men are admitted to major  B'\n",
    "    "
   ]
  },
  {
   "cell_type": "code",
   "execution_count": 13,
   "metadata": {
    "collapsed": false
   },
   "outputs": [],
   "source": [
    "assert admissions_2() == 10, '10 percent of men were admitted to major 2'\n",
    "admissions_2_solution = 'https://www.udacity.com/course/viewer#!/c-st101/l-48759015/e-48759013/m-48697539'"
   ]
  },
  {
   "cell_type": "code",
   "execution_count": 14,
   "metadata": {
    "collapsed": false
   },
   "outputs": [],
   "source": [
    "a1_f_app, a1_f_acc = 100, 80\n",
    "a2_f_app, a2_f_acc = 900, 180\n",
    "def admissions_3():\n",
    "    \"\"\"\n",
    "    :returns : acc rate among females in major 1\n",
    "    \"\"\"\n",
    "    \n",
    "    #a tuple; first value is acc rate among females in major 1,\n",
    "    #second value is acc rate among femals in major 2\n",
    "    return admissions_1(a1_f_app, a1_f_acc)#, admissions_1(a2_f_app, a2_f_acc)"
   ]
  },
  {
   "cell_type": "code",
   "execution_count": 40,
   "metadata": {
    "collapsed": false
   },
   "outputs": [],
   "source": [
    "def admissions_3_panel():\n",
    "    return pd.Panel({'Male': pd.DataFrame({\n",
    "                    'Applied': pd.Series({'Major A': 900, 'Major B':100}), \n",
    "                    'Admitted': pd.Series({'Major A' : 450, 'Major B': 10})\n",
    "    }),\n",
    "                 'Female': pd.DataFrame({\n",
    "                     'Applied': pd.Series({'Major A' : 100, 'Major B': 900}),\n",
    "                     'Admitted': pd.Series({ 'Major A': 80, 'Major B': 180})\n",
    "                 })})\n",
    "    return panel\n",
    "\n",
    "def admissions_3_with_panel():\n",
    "    panel = admissions_3_panel()\n",
    "    return (panel['Female']['Admitted']/ panel['Female']['Applied'])\n",
    "\n",
    "assert np.isclose(admissions_3_with_panel()['Major A'], 0.8), '80 percent of women were admitted to Major A'"
   ]
  },
  {
   "cell_type": "code",
   "execution_count": 41,
   "metadata": {
    "collapsed": false
   },
   "outputs": [],
   "source": [
    "assert admissions_3() == 80, '80 percent of females admitted to major 1'\n",
    "admissions_3_solution = 'https://www.udacity.com/course/viewer#!/c-st101/l-48759015/e-48748094/m-48723349'"
   ]
  },
  {
   "cell_type": "code",
   "execution_count": 42,
   "metadata": {
    "collapsed": false
   },
   "outputs": [],
   "source": [
    "def admissions_4():\n",
    "    \n",
    "    \"\"\"\n",
    "    :returns : acc rate among females in major 2\n",
    "    \"\"\"\n",
    "    return admissions_1(a2_f_app, a2_f_acc)"
   ]
  },
  {
   "cell_type": "code",
   "execution_count": 35,
   "metadata": {
    "collapsed": true
   },
   "outputs": [],
   "source": [
    "assert np.isclose(admissions_3_with_panel()['Major B'], 0.2), '20 percent of women were admitted to Major B'"
   ]
  },
  {
   "cell_type": "code",
   "execution_count": 36,
   "metadata": {
    "collapsed": false
   },
   "outputs": [],
   "source": [
    "assert admissions_4() == 20, '20 percent of females admitted to major 2'\n",
    "admissions_4_solution = 'https://www.udacity.com/course/viewer#!/c-st101/l-48759015/e-48686795/m-48701380'"
   ]
  },
  {
   "cell_type": "code",
   "execution_count": 37,
   "metadata": {
    "collapsed": false
   },
   "outputs": [],
   "source": [
    "def gender_bias():\n",
    "    \"\"\"\n",
    "    :returns: A naive conclusion about gender bias; that \n",
    "    'a higher rate of women' were accepted into both majors\n",
    "    \"\"\"\n",
    "    return admissions_4() > admissions_2() and admissions_3() > admissions_1()"
   ]
  },
  {
   "cell_type": "code",
   "execution_count": 48,
   "metadata": {
    "collapsed": true
   },
   "outputs": [],
   "source": [
    "def gender_bias_panel():\n",
    "    panel = admissions_3_panel()\n",
    "    compare_male_female = (panel['Female']['Admitted']/ panel['Female']['Applied'])> (panel['Male']['Admitted']/ panel['Male']['Applied'])\n",
    "    return compare_male_female # (compare_male_female).sum()"
   ]
  },
  {
   "cell_type": "code",
   "execution_count": 53,
   "metadata": {
    "collapsed": false
   },
   "outputs": [],
   "source": [
    "def gender_bias_interp():\n",
    "    return ({0: 'Yes biased towards men', 1: 'Biased to keep them apart', 2:'Yes, biased towards women'}).get(gender_bias_panel().sum())"
   ]
  },
  {
   "cell_type": "code",
   "execution_count": 54,
   "metadata": {
    "collapsed": false
   },
   "outputs": [
    {
     "data": {
      "text/plain": [
       "'Yes, biased towards women'"
      ]
     },
     "execution_count": 54,
     "metadata": {},
     "output_type": "execute_result"
    }
   ],
   "source": [
    "gender_bias_interp()"
   ]
  },
  {
   "cell_type": "code",
   "execution_count": 57,
   "metadata": {
    "collapsed": false
   },
   "outputs": [],
   "source": [
    "assert gender_bias() == True, 'Naively thinking there is gender bias; higher proportion of women getting into both majors'\n",
    "gender_bias_solution = 'https://www.udacity.com/course/viewer#!/c-st101/l-48759015/e-48759014/m-48742015'"
   ]
  },
  {
   "cell_type": "code",
   "execution_count": 60,
   "metadata": {
    "collapsed": false
   },
   "outputs": [],
   "source": [
    "def aggregation(a1=a1_m_acc, a2=a2_m_acc):\n",
    "    \"\"\"\n",
    "    Blows your mind away;\n",
    "    :param a1 : first subset\n",
    "    :param a2 : second subset\n",
    "    :returns: Number of males accepted to both majors (i.e. aggregates)\n",
    "    \n",
    "    \"\"\"\n",
    "    return a1+a2\n",
    "\n",
    "\n",
    "    "
   ]
  },
  {
   "cell_type": "code",
   "execution_count": 64,
   "metadata": {
    "collapsed": false
   },
   "outputs": [
    {
     "data": {
      "text/html": [
       "<div>\n",
       "<table border=\"1\" class=\"dataframe\">\n",
       "  <thead>\n",
       "    <tr style=\"text-align: right;\">\n",
       "      <th></th>\n",
       "      <th>Female</th>\n",
       "      <th>Male</th>\n",
       "    </tr>\n",
       "  </thead>\n",
       "  <tbody>\n",
       "    <tr>\n",
       "      <th>Admitted</th>\n",
       "      <td>260</td>\n",
       "      <td>460</td>\n",
       "    </tr>\n",
       "    <tr>\n",
       "      <th>Applied</th>\n",
       "      <td>1000</td>\n",
       "      <td>1000</td>\n",
       "    </tr>\n",
       "  </tbody>\n",
       "</table>\n",
       "</div>"
      ],
      "text/plain": [
       "          Female  Male\n",
       "Admitted     260   460\n",
       "Applied     1000  1000"
      ]
     },
     "execution_count": 64,
     "metadata": {},
     "output_type": "execute_result"
    }
   ],
   "source": [
    "#SUms across the most minor of axes first, the major vs minor, which is the last key\n",
    "admissions_3_panel().sum()"
   ]
  },
  {
   "cell_type": "code",
   "execution_count": 66,
   "metadata": {
    "collapsed": false
   },
   "outputs": [
    {
     "data": {
      "text/plain": [
       "460"
      ]
     },
     "execution_count": 66,
     "metadata": {},
     "output_type": "execute_result"
    }
   ],
   "source": [
    "#SUms across the most minor of axes first, the major vs minor, which is the last key\n",
    "admissions_3_panel().sum()['Male']['Admitted']"
   ]
  },
  {
   "cell_type": "code",
   "execution_count": 68,
   "metadata": {
    "collapsed": false
   },
   "outputs": [
    {
     "data": {
      "text/plain": [
       "0.46000000000000002"
      ]
     },
     "execution_count": 68,
     "metadata": {},
     "output_type": "execute_result"
    }
   ],
   "source": [
    "admissions_3_panel().sum()['Male']['Admitted']/admissions_3_panel().sum()['Male']['Applied']"
   ]
  },
  {
   "cell_type": "code",
   "execution_count": 59,
   "metadata": {
    "collapsed": false
   },
   "outputs": [
    {
     "name": "stdout",
     "output_type": "stream",
     "text": [
      "460 males accepted out of a total of 1000\n"
     ]
    }
   ],
   "source": [
    "msg = '460 males accepted out of a total of {}'.format(a1_m_app + a2_m_app)\n",
    "print(msg)\n",
    "assert aggregation() == 460, msg\n",
    "aggregation_solution = 'https://www.udacity.com/course/viewer#!/c-st101/l-48759015/e-48723631/m-48680639'"
   ]
  },
  {
   "cell_type": "code",
   "execution_count": 38,
   "metadata": {
    "collapsed": false
   },
   "outputs": [],
   "source": [
    "def aggregation_2():\n",
    "    \"\"\"\n",
    "    :returns: Rate of males accepted to both majors (i.e. aggregates)\n",
    "    \"\"\"\n",
    "    return admissions_1(aggregation(a1_m_app, a2_m_app), aggregation())"
   ]
  },
  {
   "cell_type": "code",
   "execution_count": 40,
   "metadata": {
    "collapsed": false
   },
   "outputs": [],
   "source": [
    "assert aggregation_2()==46, '46 percent of men aggregately accepted in majors 1 and 2'\n",
    "aggregation_2_solution = 'https://www.udacity.com/course/viewer#!/c-st101/l-48759015/e-48755046/m-48721290'"
   ]
  },
  {
   "cell_type": "code",
   "execution_count": 69,
   "metadata": {
    "collapsed": false
   },
   "outputs": [],
   "source": [
    "def aggregation_3():\n",
    "    \"\"\"\n",
    "    :returns: Rate of females accepted to both majors (i.e. aggregates)\n",
    "    \"\"\"\n",
    "    return admissions_1(aggregation(a1_f_app, a2_f_app), aggregation(a1_f_acc, a2_f_acc))"
   ]
  },
  {
   "cell_type": "code",
   "execution_count": 70,
   "metadata": {
    "collapsed": false
   },
   "outputs": [
    {
     "data": {
      "text/plain": [
       "0.26000000000000001"
      ]
     },
     "execution_count": 70,
     "metadata": {},
     "output_type": "execute_result"
    }
   ],
   "source": [
    "admissions_3_panel().sum()['Female']['Admitted']/admissions_3_panel().sum()['Female']['Applied']"
   ]
  },
  {
   "cell_type": "code",
   "execution_count": 44,
   "metadata": {
    "collapsed": false
   },
   "outputs": [],
   "source": [
    "assert aggregation_3()==26, 'Only 26 percent of women aggregately accepted in majors 1 and 2'\n",
    "aggregation_3_solution = 'https://www.udacity.com/course/viewer#!/c-st101/l-48759015/e-48704341/m-48742016'"
   ]
  },
  {
   "cell_type": "code",
   "execution_count": 45,
   "metadata": {
    "collapsed": false
   },
   "outputs": [],
   "source": [
    "def gender_bias_revisited():\n",
    "    \"\"\"\n",
    "    :returns: who is being favored based on aggregation\n",
    "    \"\"\"\n",
    "    return 'Male' if  aggregation_2() > aggregation_3() else 'Female'"
   ]
  },
  {
   "cell_type": "code",
   "execution_count": 47,
   "metadata": {
    "collapsed": false
   },
   "outputs": [],
   "source": [
    "assert gender_bias_revisited() == 'Male', 'Males are being favored in the aggregate'\n",
    "gender_bias_revisited_solution = 'https://www.udacity.com/course/viewer#!/c-st101/l-48759015/e-48723632/m-48695545'"
   ]
  },
  {
   "cell_type": "code",
   "execution_count": 56,
   "metadata": {
    "collapsed": false
   },
   "outputs": [],
   "source": [
    "def danger_of_statistics():\n",
    "    \"\"\"\n",
    "    Statistics can be ambiguous\n",
    "    In choosing how to graph your data, you can majorly impact what people think to be the case\n",
    "    'I never believe in statistics I did not doctor myself'\n",
    "    :returns: Who is this quote attributed to\n",
    "    \n",
    "    \"\"\"\n",
    "    from urllib import request\n",
    "    quote_page = request.urlopen('http://feureau.com/post/30466610497/i-never-believe-in-statistics-i-didnt-doctor-myself').read().decode('utf-8')\n",
    "    return 'Winston Churchill' if 'Winston Churchill' in quote_page else '...'\n",
    "    "
   ]
  },
  {
   "cell_type": "code",
   "execution_count": 58,
   "metadata": {
    "collapsed": false
   },
   "outputs": [],
   "source": [
    "assert danger_of_statistics()=='Winston Churchill', 'Winston Churchill said it; the other answers are tempting'\n",
    "danger_of_statistics_2 = 'https://www.udacity.com/course/viewer#!/c-st101/l-48759015/e-48755047/m-48697534'"
   ]
  },
  {
   "cell_type": "code",
   "execution_count": null,
   "metadata": {
    "collapsed": false
   },
   "outputs": [],
   "source": []
  }
 ],
 "metadata": {
  "kernelspec": {
   "display_name": "Python 3",
   "language": "python",
   "name": "python3"
  },
  "language_info": {
   "codemirror_mode": {
    "name": "ipython",
    "version": 3
   },
   "file_extension": ".py",
   "mimetype": "text/x-python",
   "name": "python",
   "nbconvert_exporter": "python",
   "pygments_lexer": "ipython3",
   "version": "3.6.0"
  }
 },
 "nbformat": 4,
 "nbformat_minor": 0
}
