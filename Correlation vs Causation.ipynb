{
 "metadata": {
  "name": "",
  "signature": "sha256:2811a4806499133e6b4fa1f52442ce68d1e9a038ad35715a0459a9d3f5676aa7"
 },
 "nbformat": 3,
 "nbformat_minor": 0,
 "worksheets": [
  {
   "cells": [
    {
     "cell_type": "code",
     "collapsed": false,
     "input": [
      "correlation = \n",
      "causation = \n",
      "confusion = ['common']\n"
     ],
     "language": "python",
     "metadata": {},
     "outputs": [
      {
       "ename": "SyntaxError",
       "evalue": "invalid syntax (<ipython-input-1-64bd0ab164fd>, line 1)",
       "output_type": "pyerr",
       "traceback": [
        "\u001b[1;36m  File \u001b[1;32m\"<ipython-input-1-64bd0ab164fd>\"\u001b[1;36m, line \u001b[1;32m1\u001b[0m\n\u001b[1;33m    correlation =\u001b[0m\n\u001b[1;37m                  ^\u001b[0m\n\u001b[1;31mSyntaxError\u001b[0m\u001b[1;31m:\u001b[0m invalid syntax\n"
       ]
      }
     ],
     "prompt_number": 1
    },
    {
     "cell_type": "code",
     "collapsed": false,
     "input": [
      "mortality_description = 'sick, do what? study...'\n",
      "study = {'in_hospital':{\n",
      "            'total': 40,\n",
      "            'died': 4 },\n",
      "         'died': {\n",
      "            'total':8000,\n",
      "            'died': 20\n",
      "        }\n",
      "}\n",
      "         \n",
      "    \n"
     ],
     "language": "python",
     "metadata": {},
     "outputs": [],
     "prompt_number": 4
    },
    {
     "cell_type": "code",
     "collapsed": false,
     "input": [
      "mortality_description = 'sick, do what? read a study, it says...'\n",
      "in_h = 40 #Realizing later that this implicitly referred to \"all people\"; \n",
      "#Later distinguish between the people who are a sick and those who arent\n",
      "n_in_h = 8000\n",
      "in_h_a_d = 4\n",
      "n_in_h_a_d = 20\n",
      "d_g_in_h = in_h_a_d / in_h\n",
      "d_g_n_in_h = n_in_h_a_d / n_in_h\n",
      "\n",
      "         \n",
      "    \n"
     ],
     "language": "python",
     "metadata": {},
     "outputs": [],
     "prompt_number": 24
    },
    {
     "cell_type": "code",
     "collapsed": false,
     "input": [
      "mortality = [_*100 for _ in (d_g_in_h, d_g_n_in_h)]"
     ],
     "language": "python",
     "metadata": {},
     "outputs": [],
     "prompt_number": 25
    },
    {
     "cell_type": "code",
     "collapsed": false,
     "input": [
      "mortality"
     ],
     "language": "python",
     "metadata": {},
     "outputs": [
      {
       "metadata": {},
       "output_type": "pyout",
       "prompt_number": 26,
       "text": [
        "[10.0, 0.25]"
       ]
      }
     ],
     "prompt_number": 26
    },
    {
     "cell_type": "code",
     "collapsed": false,
     "input": [
      "deciding = true_means_stay_false_means_go_to_hospital = \\\n",
      "'chances_of_dying_in_hospital_are_40_times_larger_than_at_home' == \\\n",
      "'staying_at_home_makes_you_less_likely_to_die'"
     ],
     "language": "python",
     "metadata": {},
     "outputs": [],
     "prompt_number": 27
    },
    {
     "cell_type": "code",
     "collapsed": false,
     "input": [
      "deciding"
     ],
     "language": "python",
     "metadata": {},
     "outputs": [
      {
       "metadata": {},
       "output_type": "pyout",
       "prompt_number": 28,
       "text": [
        "False"
       ]
      }
     ],
     "prompt_number": 28
    },
    {
     "cell_type": "code",
     "collapsed": false,
     "input": [
      "'Chances of dying in hospital are 40 times larger than at home' \\\n",
      "== \\\n",
      "'Being in a hospital increases your probability of dying by a factor of 40'"
     ],
     "language": "python",
     "metadata": {},
     "outputs": [
      {
       "metadata": {},
       "output_type": "pyout",
       "prompt_number": 29,
       "text": [
        "False"
       ]
      }
     ],
     "prompt_number": 29
    },
    {
     "cell_type": "code",
     "collapsed": false,
     "input": [
      "#The first deciding value is the correct way of interpreting \\\n",
      "#the  introduction of a new variable here:\n",
      "#section considering_health \n",
      "h_in_h = 4\n",
      "h_in_h_a_d = 0\n",
      "d_g_h_in_h = h_in_h_a_d / h_in_h\n",
      "h_n_in_h = 7960\n",
      "h_n_in_h_a_d = 20\n",
      "d_g_h_n_in_h = h_n_in_h_a_d / h_n_in_h\n",
      "\n",
      "mortality_considering_health = [100*_ for _ in (d_g_h_in_h, d_g_h_n_in_h)]"
     ],
     "language": "python",
     "metadata": {},
     "outputs": [],
     "prompt_number": 21
    },
    {
     "cell_type": "code",
     "collapsed": false,
     "input": [
      "mortality_considering_health"
     ],
     "language": "python",
     "metadata": {},
     "outputs": [
      {
       "metadata": {},
       "output_type": "pyout",
       "prompt_number": 22,
       "text": [
        "[0.0, 0.25125628140703515]"
       ]
      }
     ],
     "prompt_number": 22
    },
    {
     "cell_type": "code",
     "collapsed": false,
     "input": [
      "moral_of_story = 'consider all possible variables'"
     ],
     "language": "python",
     "metadata": {},
     "outputs": [],
     "prompt_number": 23
    },
    {
     "cell_type": "code",
     "collapsed": false,
     "input": [
      "\n",
      "#...Wrong, because I did not understand \\\n",
      "#That in_h was, in fact, defined:\n",
      "import pandas as pd\n",
      "p_in_h = 0.5 \n",
      "n_in_h = 1 - in_h #this was never defined;\n",
      "#To make things \"simple\", make the values equal\n"
     ],
     "language": "python",
     "metadata": {},
     "outputs": [],
     "prompt_number": 31
    },
    {
     "cell_type": "code",
     "collapsed": false,
     "input": [
      "p_in_h = in_h / (in_h + n_in_h)\n",
      "p_in_h\n",
      "#this represents the distribution in the blue-colored oval\n"
     ],
     "language": "python",
     "metadata": {},
     "outputs": [
      {
       "metadata": {},
       "output_type": "pyout",
       "prompt_number": 34,
       "text": [
        "40.0"
       ]
      }
     ],
     "prompt_number": 34
    },
    {
     "cell_type": "code",
     "collapsed": false,
     "input": [
      "p_d_g_in_h = d_g_in_h\n",
      "p_d_g_n_in_h = d_g_n_in_h"
     ],
     "language": "python",
     "metadata": {},
     "outputs": [],
     "prompt_number": 35
    },
    {
     "cell_type": "code",
     "collapsed": false,
     "input": [
      "p_d_g_in_h"
     ],
     "language": "python",
     "metadata": {},
     "outputs": [
      {
       "metadata": {},
       "output_type": "pyout",
       "prompt_number": 36,
       "text": [
        "0.1"
       ]
      }
     ],
     "prompt_number": 36
    },
    {
     "cell_type": "code",
     "collapsed": false,
     "input": [
      "p_d_g_n_in_h"
     ],
     "language": "python",
     "metadata": {},
     "outputs": [
      {
       "metadata": {},
       "output_type": "pyout",
       "prompt_number": 37,
       "text": [
        "0.0025"
       ]
      }
     ],
     "prompt_number": 37
    },
    {
     "cell_type": "code",
     "collapsed": false,
     "input": [
      "#These last two reprsent the disbribution in their respective red-colored ovals"
     ],
     "language": "python",
     "metadata": {},
     "outputs": [],
     "prompt_number": 38
    },
    {
     "cell_type": "code",
     "collapsed": false,
     "input": [],
     "language": "python",
     "metadata": {},
     "outputs": []
    }
   ],
   "metadata": {}
  }
 ]
}