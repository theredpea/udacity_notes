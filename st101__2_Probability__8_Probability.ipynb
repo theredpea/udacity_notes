{
 "metadata": {
  "name": "",
  "signature": "sha256:287144afe5b3bddd6c21ba2a4b84b3921411fc8d5aa37fa3b2c42d523f34f68e"
 },
 "nbformat": 3,
 "nbformat_minor": 0,
 "worksheets": [
  {
   "cells": [
    {
     "cell_type": "markdown",
     "metadata": {},
     "source": [
      "#Probability is the opposite of statistics"
     ]
    },
    {
     "cell_type": "markdown",
     "metadata": {},
     "source": [
      " - In statistics\n",
      "    - given data\n",
      "    - infer causes\n",
      " - In probability\n",
      "    - given causes\n",
      "    - predict data"
     ]
    },
    {
     "cell_type": "code",
     "collapsed": false,
     "input": [
      "#In a fair coin\n",
      "p_h = 0.5 # 1 of 2 ; 1/2\n",
      "\n",
      "def fair_coin():\n",
      "    \"\"\"\n",
      "    :returns: prob of tails\n",
      "    \"\"\"\n",
      "    return p_h #Same as prob of heads\n",
      "\n",
      "assert fair_coin()==0.5, 'prob tails is 0.5'\n",
      "fair_coin_solution = 'https://www.udacity.com/course/viewer#!/c-st101/l-48738235/e-48738233/m-48698595'\n"
     ],
     "language": "python",
     "metadata": {},
     "outputs": [],
     "prompt_number": 2
    },
    {
     "cell_type": "code",
     "collapsed": false,
     "input": [
      "def loaded_coin_1():\n",
      "    \"\"\"\n",
      "    :returns: probability of heads\n",
      "    if a loaded coin always lands heads\n",
      "    \"\"\"\n",
      "    return 1\n",
      "\n",
      "assert loaded_coin_1()==1, 'An \"always\" probability is 1; same as 100%'\n",
      "loaded_coin_1_solution = 'https://www.udacity.com/course/viewer#!/c-st101/l-48738235/e-48754089/m-48721344'"
     ],
     "language": "python",
     "metadata": {},
     "outputs": [],
     "prompt_number": 4
    },
    {
     "cell_type": "code",
     "collapsed": false,
     "input": [
      "def loaded_coin_2():\n",
      "    \"\"\"\n",
      "    :returns: probability of tails\n",
      "    if a loaded coin always lands heads\n",
      "    \"\"\"\n",
      "    return 0\n",
      "assert loaded_coin_1()==1, 'An \"never\" probability is 0; same as 0%'\n",
      "loaded_coin_1_solution = 'https://www.udacity.com/course/viewer#!/c-st101/l-48738235/e-48699715/m-48693696'"
     ],
     "language": "python",
     "metadata": {},
     "outputs": [],
     "prompt_number": 5
    },
    {
     "cell_type": "code",
     "collapsed": false,
     "input": [
      "p_t = fair_coin()\n",
      "assert  p_h==p_t, 'A fair coin has equal probabilities in both outcomes H or T'\n",
      "assert p_h+p_t==1, 'The sum of all probabilities should be one'\n"
     ],
     "language": "python",
     "metadata": {},
     "outputs": [],
     "prompt_number": 12
    },
    {
     "cell_type": "code",
     "collapsed": false,
     "input": [
      "assert loaded_coin_1()+loaded_coin_2()==1, 'The sum of all probabilities should be one'\\\n",
      "'even in the loaded case; a loaded coin does not defy probabilities'\n",
      " "
     ],
     "language": "python",
     "metadata": {},
     "outputs": [],
     "prompt_number": 14
    },
    {
     "cell_type": "code",
     "collapsed": false,
     "input": [
      "def p_(h=None, t=None): \n",
      "    #if h is not None:\n",
      "    #    return 1-h\n",
      "    #elif t is not None:\n",
      "    #    return 1-t\n",
      "    #else:\n",
      "    #    return 1\n",
      "    \n",
      "    return 1-(h or t or 0)\n",
      "\n",
      "#Returns 1 by default; the totality\n",
      "assert p_()==1\n",
      "#Other standard probabilities\n",
      "assert p_(h=1)==0\n",
      "assert p_(h=0.5)==0.5\n",
      "assert p_(t=0.2)==0.8\n",
      "#Uses first nonzero arg\n",
      "assert p_(h=0,t=1)==0\n",
      "assert p_(h=0.2, t=0.5)==0.8"
     ],
     "language": "python",
     "metadata": {},
     "outputs": [],
     "prompt_number": 37
    },
    {
     "cell_type": "code",
     "collapsed": false,
     "input": [
      "p_(h=0.24)"
     ],
     "language": "python",
     "metadata": {},
     "outputs": [
      {
       "metadata": {},
       "output_type": "pyout",
       "prompt_number": 33,
       "text": [
        "0.76"
       ]
      }
     ],
     "prompt_number": 33
    },
    {
     "cell_type": "code",
     "collapsed": false,
     "input": [
      "None + 0"
     ],
     "language": "python",
     "metadata": {},
     "outputs": [
      {
       "ename": "TypeError",
       "evalue": "unsupported operand type(s) for +: 'NoneType' and 'int'",
       "output_type": "pyerr",
       "traceback": [
        "\u001b[1;31m---------------------------------------------------------------------------\u001b[0m\n\u001b[1;31mTypeError\u001b[0m                                 Traceback (most recent call last)",
        "\u001b[1;32m<ipython-input-30-0587a0ddb24e>\u001b[0m in \u001b[0;36m<module>\u001b[1;34m()\u001b[0m\n\u001b[1;32m----> 1\u001b[1;33m \u001b[1;32mNone\u001b[0m \u001b[1;33m+\u001b[0m \u001b[1;36m0\u001b[0m\u001b[1;33m\u001b[0m\u001b[0m\n\u001b[0m",
        "\u001b[1;31mTypeError\u001b[0m: unsupported operand type(s) for +: 'NoneType' and 'int'"
       ]
      }
     ],
     "prompt_number": 30
    },
    {
     "cell_type": "code",
     "collapsed": false,
     "input": [
      "1 and 'yes'"
     ],
     "language": "python",
     "metadata": {},
     "outputs": [
      {
       "metadata": {},
       "output_type": "pyout",
       "prompt_number": 31,
       "text": [
        "'yes'"
       ]
      }
     ],
     "prompt_number": 31
    },
    {
     "cell_type": "code",
     "collapsed": false,
     "input": [],
     "language": "python",
     "metadata": {},
     "outputs": []
    }
   ],
   "metadata": {}
  }
 ]
}