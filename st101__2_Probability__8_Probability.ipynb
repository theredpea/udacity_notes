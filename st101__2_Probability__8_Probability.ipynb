{
 "metadata": {
  "name": "",
  "signature": "sha256:f486cc569834f6aa07723f9b4bbe84e1e3197f0cf328fd57a3bfc2c2c93f89cf"
 },
 "nbformat": 3,
 "nbformat_minor": 0,
 "worksheets": [
  {
   "cells": [
    {
     "cell_type": "markdown",
     "metadata": {},
     "source": [
      "#Probability is the opposite of statistics"
     ]
    },
    {
     "cell_type": "markdown",
     "metadata": {},
     "source": [
      " - In statistics\n",
      "    - given data\n",
      "    - infer causes\n",
      " - In probability\n",
      "    - given causes\n",
      "    - predict data"
     ]
    },
    {
     "cell_type": "code",
     "collapsed": false,
     "input": [
      "#In a fair coin\n",
      "p_h = 0.5 # 1 of 2 ; 1/2\n",
      "\n",
      "def fair_coin():\n",
      "    \"\"\"\n",
      "    :returns: prob of tails\n",
      "    \"\"\"\n",
      "    return p_h #Same as prob of heads\n",
      "\n",
      "assert fair_coin()==0.5, 'prob tails is 0.5'\n",
      "fair_coin_solution = 'https://www.udacity.com/course/viewer#!/c-st101/l-48738235/e-48738233/m-48698595'\n"
     ],
     "language": "python",
     "metadata": {},
     "outputs": [],
     "prompt_number": 2
    },
    {
     "cell_type": "code",
     "collapsed": false,
     "input": [
      "def loaded_coin_1():\n",
      "    \"\"\"\n",
      "    :returns: probability of heads\n",
      "    if a loaded coin always lands heads\n",
      "    \"\"\"\n",
      "    return 1\n",
      "\n",
      "assert loaded_coin_1()==1, 'An \"always\" probability is 1; same as 100%'\n",
      "loaded_coin_1_solution = 'https://www.udacity.com/course/viewer#!/c-st101/l-48738235/e-48754089/m-48721344'"
     ],
     "language": "python",
     "metadata": {},
     "outputs": [],
     "prompt_number": 3
    },
    {
     "cell_type": "code",
     "collapsed": false,
     "input": [
      "def loaded_coin_2():\n",
      "    \"\"\"\n",
      "    :returns: probability of tails\n",
      "    if a loaded coin always lands heads\n",
      "    \"\"\"\n",
      "    return 0\n",
      "assert loaded_coin_1()==1, 'An \"never\" probability is 0; same as 0%'\n",
      "loaded_coin_1_solution = 'https://www.udacity.com/course/viewer#!/c-st101/l-48738235/e-48699715/m-48693696'"
     ],
     "language": "python",
     "metadata": {},
     "outputs": [],
     "prompt_number": 4
    },
    {
     "cell_type": "code",
     "collapsed": false,
     "input": [
      "p_t = fair_coin()\n",
      "assert  p_h==p_t, 'A fair coin has equal probabilities in both outcomes H or T'\n",
      "assert p_h+p_t==1, 'The sum of all probabilities should be one'\n"
     ],
     "language": "python",
     "metadata": {},
     "outputs": [],
     "prompt_number": 5
    },
    {
     "cell_type": "code",
     "collapsed": false,
     "input": [
      "assert loaded_coin_1()+loaded_coin_2()==1, 'The sum of all probabilities should be one'\\\n",
      "'even in the loaded case; a loaded coin does not defy probabilities'\n",
      " "
     ],
     "language": "python",
     "metadata": {},
     "outputs": [],
     "prompt_number": 6
    },
    {
     "cell_type": "code",
     "collapsed": false,
     "input": [
      "def p_(h=None, t=None): \n",
      "    #if h is not None:\n",
      "    #    return 1-h\n",
      "    #elif t is not None:\n",
      "    #    return 1-t\n",
      "    #else:\n",
      "    #    return 1\n",
      "    \n",
      "    return 1-(h or t or 0)\n",
      "\n",
      "#Returns 1 by default; the totality\n",
      "assert p_()==1\n",
      "#Other standard probabilities\n",
      "assert p_(h=1)==0\n",
      "assert p_(h=0.5)==0.5\n",
      "assert p_(t=0.2)==0.8\n",
      "#Uses first nonzero arg\n",
      "assert p_(h=0,t=1)==0\n",
      "assert p_(h=0.2, t=0.5)==0.8"
     ],
     "language": "python",
     "metadata": {},
     "outputs": [],
     "prompt_number": 7
    },
    {
     "cell_type": "markdown",
     "metadata": {},
     "source": [
      "#Note my new way of specifying solution; in the docstring"
     ]
    },
    {
     "cell_type": "code",
     "collapsed": false,
     "input": [
      "def loaded_coin_3(h=0.75):\n",
      "    \"\"\"\n",
      "    :returns: P(Tails) if P(Heads) = 0.75\n",
      "    Solution https://www.udacity.com/course/viewer#!/c-st101/l-48738235/e-48750147/m-48698590\n",
      "    \"\"\"\n",
      "    return p_(h=h)\n"
     ],
     "language": "python",
     "metadata": {},
     "outputs": [],
     "prompt_number": 8
    },
    {
     "cell_type": "code",
     "collapsed": false,
     "input": [
      "assert loaded_coin_3()==0.25"
     ],
     "language": "python",
     "metadata": {},
     "outputs": [],
     "prompt_number": 9
    },
    {
     "cell_type": "markdown",
     "metadata": {},
     "source": [
      "[Symbol links](http://www.rapidtables.com/math/symbols/Statistical_Symbols.htm)"
     ]
    },
    {
     "cell_type": "markdown",
     "metadata": {},
     "source": [
      "#1st Basic Probability Law\n",
      "#P(A) = 1 - P(\u00acA)"
     ]
    },
    {
     "cell_type": "code",
     "collapsed": false,
     "input": [
      "#Stated in Python with the p_ function\n",
      "p_a = 0.25\n",
      "p_n_a = p_(p_a)\n",
      "p_a, p_n_a\n",
      "\n",
      "def complementary_outcomes(p_a, p_n_a):\n",
      "    \"\"\"\n",
      "    asserts the basic law of probability\n",
      "    https://www.udacity.com/course/viewer#!/c-st101/l-48738235/m-48742067\n",
      "    \"\"\"\n",
      "    assert p_a == 1 - p_n_a, 'Does not follow basic law in probability'\n",
      "\n",
      "complementary_outcomes(p_a, p_n_a)"
     ],
     "language": "python",
     "metadata": {},
     "outputs": [],
     "prompt_number": 10
    },
    {
     "cell_type": "code",
     "collapsed": false,
     "input": [
      "import itertools\n",
      "import pandas as pd\n",
      "import numpy as np\n",
      "\n",
      "h,t='h','t'\n",
      "#Scenario whre it's a fair coin; each element represents a side of the coin\n",
      "s_fair_coin = [(h,t)]\n",
      "#Scenario where H first flip; H second flip; each element represents a scenario\n",
      "s_h_a_h = [(h,h)] # \"_a_ for AND ; _s for scenario \n",
      "#All scenarios; \"Every possible outcome\"; each element represents a scenario\n",
      "s_all = [(h,t),\n",
      "         (h,h),\n",
      "         (t,h),\n",
      "         (t,t)]\n",
      "\n",
      "# itertools.product can determine all the scenarios\n",
      "assert set(s_all) == set(itertools.product(*2*s_fair_coin))\n",
      "\n",
      "#DataFrame doesn't accept print(list(zip(*s_all)))\n",
      "truth_table = pd.DataFrame.from_records(s_all, columns=('f_1', 'f_2'))\n",
      "truth_table.index.name = 'Truth Table for coin flipped successively'\n",
      "print(truth_table)\n",
      "    \n",
      "def two_flips_1(num_coins=2):\n",
      "    \"\"\"\n",
      "    :returns: P(H, H) Probability of flipping heads twice\n",
      "    Of a fair_coin\n",
      "    P(H) one head; \n",
      "    P(H,H) one head followed by another head\n",
      "    P(H \u2229 H) a head AND a head\n",
      "    Solution: https://www.udacity.com/course/viewer#!/c-st101/l-48738235/e-48754090/m-48697594\n",
      "    \"\"\"\n",
      "    \n",
      "    \n",
      "    return len(s_h_a_h) / len(s_all)"
     ],
     "language": "python",
     "metadata": {},
     "outputs": [
      {
       "output_type": "stream",
       "stream": "stdout",
       "text": [
        "                                          f_1 f_2\n",
        "Truth Table for coin flipped successively        \n",
        "0                                           h   t\n",
        "1                                           h   h\n",
        "2                                           t   h\n",
        "3                                           t   t\n"
       ]
      }
     ],
     "prompt_number": 11
    },
    {
     "cell_type": "code",
     "collapsed": false,
     "input": [
      "two_flips_1()"
     ],
     "language": "python",
     "metadata": {},
     "outputs": [
      {
       "metadata": {},
       "output_type": "pyout",
       "prompt_number": 25,
       "text": [
        "0.25"
       ]
      }
     ],
     "prompt_number": 25
    },
    {
     "cell_type": "code",
     "collapsed": false,
     "input": [
      "def two_flips_2(p_h=0.6):\n",
      "    \"\"\"\n",
      "    :returns: P(T) when P(H) is 0.6; a biased coin\n",
      "    Solution: https://www.udacity.com/course/viewer#!/c-st101/l-48738235/e-48738234/m-48678786\n",
      "    \"\"\"\n",
      "    return p_(p_h)"
     ],
     "language": "python",
     "metadata": {},
     "outputs": [],
     "prompt_number": 13
    },
    {
     "cell_type": "code",
     "collapsed": false,
     "input": [
      "assert two_flips_2() == 0.4, 'P(T) when coin is biased P(H); is 40% or 0.4'"
     ],
     "language": "python",
     "metadata": {},
     "outputs": [],
     "prompt_number": 14
    },
    {
     "cell_type": "markdown",
     "metadata": {},
     "source": [
      "#2nd Basic Probabiliy Law\n",
      "##P(H, H) = P(H \u2229 H) = P(H) * P(H)"
     ]
    },
    {
     "cell_type": "code",
     "collapsed": false,
     "input": [
      "def basic_prob_law(p_1, p_2):\n",
      "    \"\"\"\n",
      "    :returns: joint probability of\n",
      "    both events happening\n",
      "    \n",
      "    \"\"\"\n",
      "    return p_1 * p_2\n",
      "\n",
      "assert basic_prob_law(0.5, 0.5) == 0.25, 'Asserting result of two_flips_1'\n",
      "\n"
     ],
     "language": "python",
     "metadata": {},
     "outputs": [],
     "prompt_number": 15
    },
    {
     "cell_type": "code",
     "collapsed": false,
     "input": [
      "import operator\n",
      "import functools\n",
      "\n",
      "def basic_prob_law_reduction(p_list):\n",
      "    \"\"\"\n",
      "    :returns: joint probability\n",
      "    of all events in a list happening\n",
      "    by applying 2nd law\n",
      "    http://stackoverflow.com/a/13840436/1175496\n",
      "    \"\"\"\n",
      "    assert all([_<=1 for _ in p_list])\n",
      "    return functools.reduce(operator.mul, p_list)\n",
      "\n",
      "assert np.allclose(basic_prob_law_reduction((0.2,0.2)),0.04), 'Two events each independent and 20% likely to happen, likelihood of both happening is 4%'\n"
     ],
     "language": "python",
     "metadata": {},
     "outputs": [],
     "prompt_number": 16
    },
    {
     "cell_type": "code",
     "collapsed": false,
     "input": [
      "\n",
      "def two_flips_3(p_h=0.6):\n",
      "    \"\"\"\n",
      "    :returns: a truth table for all coin flips;\n",
      "    With an add'l column for the (joint probabiliy)\n",
      "    of the first two columns based on a coin\n",
      "    biased at P(H) = 0.6\n",
      "    \n",
      "    Uses apply\n",
      "    http://stackoverflow.com/a/16033048/1175496\n",
      "    Solution:\n",
      "    https://www.udacity.com/course/viewer#!/c-st101/l-48738235/e-48750148/m-48697599\n",
      "    \"\"\"\n",
      "    #Probabiliy dict, used as a map\n",
      "    #Keys must correspond to possibilities/scenarios\n",
      "    p_dict = dict(h=p_h,\n",
      "                  t=p_(p_h))\n",
      "    truth_table['p_1']= truth_table['f_1'].map(p_dict)\n",
      "    truth_table['p_2']= truth_table['f_2'].map(p_dict)\n",
      "    truth_table['joint_prob'] = truth_table[['p_1','p_2']].apply(basic_prob_law_reduction, axis=1)\n",
      "    #.map(p_dict) * truth_table\n",
      "    return truth_table['joint_prob']"
     ],
     "language": "python",
     "metadata": {},
     "outputs": [],
     "prompt_number": 17
    },
    {
     "cell_type": "code",
     "collapsed": false,
     "input": [
      "assert np.allclose(two_flips_3().data,pd.Series(data=(0.24,0.36,0.24,0.16))), 'Possibilities are 0.6 * 0.4, 0.6*0.6, 0.4 * 0.6, and 0.4 * 0.4'"
     ],
     "language": "python",
     "metadata": {},
     "outputs": [],
     "prompt_number": 18
    },
    {
     "cell_type": "code",
     "collapsed": false,
     "input": [
      "two_flips_3()"
     ],
     "language": "python",
     "metadata": {},
     "outputs": [
      {
       "metadata": {},
       "output_type": "pyout",
       "prompt_number": 19,
       "text": [
        "Truth Table for coin flipped successively\n",
        "0                                            0.24\n",
        "1                                            0.36\n",
        "2                                            0.24\n",
        "3                                            0.16\n",
        "Name: joint_prob, dtype: float64"
       ]
      }
     ],
     "prompt_number": 19
    },
    {
     "cell_type": "code",
     "collapsed": false,
     "input": [
      "def two_flips_4():\n",
      "    \"\"\"\n",
      "    :returns: sum of truth tables for two successive flips of biased coin\n",
      "    Solution: \n",
      "    https://www.udacity.com/course/viewer#!/c-st101/l-48738235/e-48751112/m-48692689\n",
      "    \"\"\"\n",
      "    return two_flips_3().sum()"
     ],
     "language": "python",
     "metadata": {},
     "outputs": [],
     "prompt_number": 20
    },
    {
     "cell_type": "code",
     "collapsed": false,
     "input": [
      "assert two_flips_4() == 1.0, 'Sum of probabilities should be equal to 1'"
     ],
     "language": "python",
     "metadata": {},
     "outputs": [],
     "prompt_number": 22
    },
    {
     "cell_type": "code",
     "collapsed": false,
     "input": [
      "def two_flips_5():\n",
      "    \"\"\"\n",
      "    :returns: P(H,H) of a coin whose P(H) = 1\n",
      "    Solution: \n",
      "    https://www.udacity.com/course/viewer#!/c-st101/l-48738235/e-48752122/m-48721348\n",
      "    \"\"\"\n",
      "    \n",
      "    return basic_prob_law(1, 1)"
     ],
     "language": "python",
     "metadata": {},
     "outputs": [],
     "prompt_number": 23
    },
    {
     "cell_type": "code",
     "collapsed": false,
     "input": [
      "assert two_flips_5()==1, 'Joint prob of P(H) twice in a row in biased coin'"
     ],
     "language": "python",
     "metadata": {},
     "outputs": [],
     "prompt_number": 24
    },
    {
     "cell_type": "code",
     "collapsed": false,
     "input": [
      "truth_table[['f_1','f_2']]"
     ],
     "language": "python",
     "metadata": {},
     "outputs": [
      {
       "html": [
        "<div style=\"max-height:1000px;max-width:1500px;overflow:auto;\">\n",
        "<table border=\"1\" class=\"dataframe\">\n",
        "  <thead>\n",
        "    <tr style=\"text-align: right;\">\n",
        "      <th></th>\n",
        "      <th>f_1</th>\n",
        "      <th>f_2</th>\n",
        "    </tr>\n",
        "    <tr>\n",
        "      <th>Truth Table for coin flipped successively</th>\n",
        "      <th></th>\n",
        "      <th></th>\n",
        "    </tr>\n",
        "  </thead>\n",
        "  <tbody>\n",
        "    <tr>\n",
        "      <th>0</th>\n",
        "      <td> h</td>\n",
        "      <td> t</td>\n",
        "    </tr>\n",
        "    <tr>\n",
        "      <th>1</th>\n",
        "      <td> h</td>\n",
        "      <td> h</td>\n",
        "    </tr>\n",
        "    <tr>\n",
        "      <th>2</th>\n",
        "      <td> t</td>\n",
        "      <td> h</td>\n",
        "    </tr>\n",
        "    <tr>\n",
        "      <th>3</th>\n",
        "      <td> t</td>\n",
        "      <td> t</td>\n",
        "    </tr>\n",
        "  </tbody>\n",
        "</table>\n",
        "</div>"
       ],
       "metadata": {},
       "output_type": "pyout",
       "prompt_number": 27,
       "text": [
        "                                          f_1 f_2\n",
        "Truth Table for coin flipped successively        \n",
        "0                                           h   t\n",
        "1                                           h   h\n",
        "2                                           t   h\n",
        "3                                           t   t"
       ]
      }
     ],
     "prompt_number": 27
    },
    {
     "cell_type": "code",
     "collapsed": false,
     "input": [
      "def one_head_1(exact_num_heads=1,t_t=None):\n",
      "    \"\"\"\n",
      "    :returns: P(Exactly on H) in two coin flips of fair coin\n",
      "    Solution:\n",
      "    https://www.udacity.com/course/viewer#!/c-st101/l-48738235/e-48700596/m-48729224\n",
      "    \"\"\"\n",
      "    t_t = t_t if t_t is not None else truth_table[['f_1','f_2']].copy()\n",
      "    \n",
      "    has_num_heads = lambda flip: (flip=='h').sum()==exact_num_heads\n",
      "    t_t['one_h']=t_t.apply(has_num_heads, axis=1)\n",
      "    \n",
      "    num_heads_count = t_t['one_h'].sum()\n",
      "    total_count = len(t_t)\n",
      "    \n",
      "    return num_heads_count/total_count\n",
      "\n",
      "assert one_head_1()==0.5, 'Two scenarios out of a total of four scenarios; 2/4 == 0.5 possibility of exactly one head'\n",
      "#del truth_table['one_h']"
     ],
     "language": "python",
     "metadata": {},
     "outputs": [],
     "prompt_number": 68
    },
    {
     "cell_type": "code",
     "collapsed": false,
     "input": [
      "def one_head_2(exact_num_heads=1, t_t=None):\n",
      "    \"\"\"\n",
      "    :returns: Table; 'one_h' column is true when there is just one head;\n",
      "    Sorted the same way Sebastian has displayed it; first the heads in flip_1 then the heads in flip_2\n",
      "    'h' is alphabetically before 't', so...\n",
      "    Solution: https://www.udacity.com/course/viewer#!/c-st101/l-48738235/e-48683881/m-48701431\n",
      "    \"\"\"\n",
      "    t_t = t_t if t_t is not None else truth_table[['f_1','f_2']].copy()\n",
      "    one_head_1(exact_num_heads, t_t)\n",
      "    return t_t.copy().sort(['f_1', 'f_2'])"
     ],
     "language": "python",
     "metadata": {},
     "outputs": [],
     "prompt_number": 71
    },
    {
     "cell_type": "code",
     "collapsed": false,
     "input": [
      "assert np.allclose(one_head_2()['one_h'], pd.Series((False, True, True, False))),'Scenarios with one flip are False, True, True, False if '"
     ],
     "language": "python",
     "metadata": {},
     "outputs": [],
     "prompt_number": 72
    },
    {
     "cell_type": "code",
     "collapsed": false,
     "input": [
      "def one_of_three_1(t_t=None):\n",
      "    \"\"\"\n",
      "    :returns: P(Exactly one H) in truth table with three flips; fair coin\n",
      "    Solution:  https://www.udacity.com/course/viewer#!/c-st101/l-48738235/e-48684856/m-48697602\n",
      "    \"\"\"\n",
      "    three_flips = pd.DataFrame(data=list(itertools.product('ht', 'ht', 'ht')), columns=('f_1','f_2','f_3'))\n",
      "    t_t = t_t if t_t is not None else three_flips\n",
      "    return one_head_1(t_t=t_t)"
     ],
     "language": "python",
     "metadata": {},
     "outputs": [],
     "prompt_number": 76
    },
    {
     "cell_type": "code",
     "collapsed": false,
     "input": [
      "assert one_of_three_1()==0.375, 'Should have 3 scenarios with one heads of 8 possible scenarios; 3/8 == 0.375'"
     ],
     "language": "python",
     "metadata": {},
     "outputs": [],
     "prompt_number": 78
    },
    {
     "cell_type": "code",
     "collapsed": false,
     "input": [
      "def one_of_three_2(t_t=None,p_h=0.6):\n",
      "    \"\"\"\n",
      "    :returns: P(Exactly on H) in truth table with three flips; P(H) = 0.6 coin\n",
      "    Solution: https://www.udacity.com/course/viewer#!/c-st101/l-48738235/e-48752123/m-48697603\n",
      "    \"\"\"\n",
      "    prob_map = dict(h=p_h,t=p_(p_h))\n",
      "    three_flips = pd.DataFrame(data=list(itertools.product('ht', 'ht', 'ht')), columns=('f_1','f_2','f_3'))\n",
      "    t_t = t_t if t_t is not None else three_flips\n",
      "    t_t['p']=t_t.apply(lambda x: basic_prob_law_reduction(x.map(prob_map)), axis=1)\n",
      "    t_t['one_head']=t_t.apply(lambda x: (x=='h').sum()==1, axis=1)\n",
      "    print(t_t)\n",
      "    prob_where_one_head = t_t['p'][t_t['one_head']].sum()\n",
      "    return prob_where_one_head"
     ],
     "language": "python",
     "metadata": {},
     "outputs": [],
     "prompt_number": 92
    },
    {
     "cell_type": "code",
     "collapsed": false,
     "input": [
      "assert np.allclose(one_of_three_2(),0.288), 'Probability should be 0.096 * 3==0.288; 0.096 comes from P(H) * P(T) * P(T), 0.6 * 0.4 * 0.4'"
     ],
     "language": "python",
     "metadata": {},
     "outputs": [
      {
       "output_type": "stream",
       "stream": "stdout",
       "text": [
        "  f_1 f_2 f_3      p one_head\n",
        "0   h   h   h  0.216    False\n",
        "1   h   h   t  0.144    False\n",
        "2   h   t   h  0.144    False\n",
        "3   h   t   t  0.096     True\n",
        "4   t   h   h  0.144    False\n",
        "5   t   h   t  0.096     True\n",
        "6   t   t   h  0.096     True\n",
        "7   t   t   t  0.064    False\n"
       ]
      }
     ],
     "prompt_number": 93
    },
    {
     "cell_type": "code",
     "collapsed": false,
     "input": [
      "def even_roll():\n",
      "    \"\"\"\n",
      "    :returns: probability that the die is even\n",
      "    Solution: https://www.udacity.com/course/viewer#!/c-st101/l-48738235/e-48751113/m-48697589\n",
      "    \n",
      "    \"\"\"\n",
      "    roll_prob = pd.Series(range(1,7))\n",
      "    return (roll_prob%2==0).sum() / len(roll_prob)"
     ],
     "language": "python",
     "metadata": {},
     "outputs": [],
     "prompt_number": 95
    },
    {
     "cell_type": "code",
     "collapsed": false,
     "input": [
      "assert even_roll()==0.5, 'Half dice scenarios (2, 4, 6) are even; the other half odd. Half probability is 0.5'"
     ],
     "language": "python",
     "metadata": {},
     "outputs": [],
     "prompt_number": 97
    },
    {
     "cell_type": "code",
     "collapsed": false,
     "input": [
      "def doubles():\n",
      "    \"\"\"\n",
      "    :returns: probability that a throw is a double; i.e. same number on both first and second throws\n",
      "    Solution: https://www.udacity.com/course/viewer#!/c-st101/l-48738235/e-48754091/m-48678784\n",
      "    \"\"\"\n",
      "    two_rolls = (range(1,7),)*2\n",
      "    two_roll_prob = pd.DataFrame(list(itertools.product(*two_rolls)), columns=('r1','r2'))\n",
      "    \n",
      "    return (two_roll_prob['r1']== two_roll_prob['r2']).sum() / len(two_roll_prob)"
     ],
     "language": "python",
     "metadata": {},
     "outputs": [],
     "prompt_number": 103
    },
    {
     "cell_type": "code",
     "collapsed": false,
     "input": [
      "assert np.allclose(doubles(), 1/6.), '6 outcomes have both rolls the same; out of 36 possible outcome. 6/36 = 1/6 = 0.166'"
     ],
     "language": "python",
     "metadata": {},
     "outputs": [],
     "prompt_number": 108
    },
    {
     "cell_type": "markdown",
     "metadata": {},
     "source": [
      "#Summary\n",
      " - Prob event  P(E)\n",
      " - Prob opposite P(\u00acE) = 1-P(E)\n",
      " - Prob of composite event P(E,E) = P(E) * P(E)"
     ]
    },
    {
     "cell_type": "code",
     "collapsed": false,
     "input": [],
     "language": "python",
     "metadata": {},
     "outputs": []
    }
   ],
   "metadata": {}
  }
 ]
}