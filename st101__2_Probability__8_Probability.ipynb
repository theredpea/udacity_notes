{
 "metadata": {
  "name": "",
  "signature": "sha256:c2025ac552a3c3fa854ca499631c32f63b544a6a0f81633c3447469f840fa591"
 },
 "nbformat": 3,
 "nbformat_minor": 0,
 "worksheets": [
  {
   "cells": [
    {
     "cell_type": "markdown",
     "metadata": {},
     "source": [
      "#Probability is the opposite of statistics"
     ]
    },
    {
     "cell_type": "markdown",
     "metadata": {},
     "source": [
      " - In statistics\n",
      "    - given data\n",
      "    - infer causes\n",
      " - In probability\n",
      "    - given causes\n",
      "    - predict data"
     ]
    },
    {
     "cell_type": "code",
     "collapsed": false,
     "input": [
      "#In a fair coin\n",
      "p_h = 0.5 # 1 of 2 ; 1/2\n",
      "\n",
      "def fair_coin():\n",
      "    \"\"\"\n",
      "    :returns: prob of tails\n",
      "    \"\"\"\n",
      "    return p_h #Same as prob of heads\n",
      "\n",
      "assert fair_coin()==0.5, 'prob tails is 0.5'\n",
      "fair_coin_solution = 'https://www.udacity.com/course/viewer#!/c-st101/l-48738235/e-48738233/m-48698595'\n"
     ],
     "language": "python",
     "metadata": {},
     "outputs": [],
     "prompt_number": 2
    },
    {
     "cell_type": "code",
     "collapsed": false,
     "input": [
      "def loaded_coin_1():\n",
      "    \"\"\"\n",
      "    :returns: probability of heads\n",
      "    if a loaded coin always lands heads\n",
      "    \"\"\"\n",
      "    return 1\n",
      "\n",
      "assert loaded_coin_1()==1, 'An \"always\" probability is 1; same as 100%'\n",
      "loaded_coin_1_solution = 'https://www.udacity.com/course/viewer#!/c-st101/l-48738235/e-48754089/m-48721344'"
     ],
     "language": "python",
     "metadata": {},
     "outputs": [],
     "prompt_number": 4
    },
    {
     "cell_type": "code",
     "collapsed": false,
     "input": [
      "def loaded_coin_2():\n",
      "    \"\"\"\n",
      "    :returns: probability of tails\n",
      "    if a loaded coin always lands heads\n",
      "    \"\"\"\n",
      "    return 0\n",
      "assert loaded_coin_1()==1, 'An \"never\" probability is 0; same as 0%'\n",
      "loaded_coin_1_solution = 'https://www.udacity.com/course/viewer#!/c-st101/l-48738235/e-48699715/m-48693696'"
     ],
     "language": "python",
     "metadata": {},
     "outputs": [],
     "prompt_number": 5
    },
    {
     "cell_type": "code",
     "collapsed": false,
     "input": [
      "p_t = fair_coin()\n",
      "assert  p_h==p_t, 'A fair coin has equal probabilities in both outcomes H or T'\n",
      "assert p_h+p_t==1, 'The sum of all probabilities should be one'\n"
     ],
     "language": "python",
     "metadata": {},
     "outputs": [],
     "prompt_number": 12
    },
    {
     "cell_type": "code",
     "collapsed": false,
     "input": [
      "assert loaded_coin_1()+loaded_coin_2()==1, 'The sum of all probabilities should be one'\\\n",
      "'even in the loaded case; a loaded coin does not defy probabilities'\n",
      " "
     ],
     "language": "python",
     "metadata": {},
     "outputs": [],
     "prompt_number": 14
    },
    {
     "cell_type": "code",
     "collapsed": false,
     "input": [
      "def p_(h=None, t=None): \n",
      "    #if h is not None:\n",
      "    #    return 1-h\n",
      "    #elif t is not None:\n",
      "    #    return 1-t\n",
      "    #else:\n",
      "    #    return 1\n",
      "    \n",
      "    return 1-(h or t or 0)\n",
      "\n",
      "#Returns 1 by default; the totality\n",
      "assert p_()==1\n",
      "#Other standard probabilities\n",
      "assert p_(h=1)==0\n",
      "assert p_(h=0.5)==0.5\n",
      "assert p_(t=0.2)==0.8\n",
      "#Uses first nonzero arg\n",
      "assert p_(h=0,t=1)==0\n",
      "assert p_(h=0.2, t=0.5)==0.8"
     ],
     "language": "python",
     "metadata": {},
     "outputs": [],
     "prompt_number": 37
    },
    {
     "cell_type": "markdown",
     "metadata": {},
     "source": [
      "#Note my new way of specifying conclusions"
     ]
    },
    {
     "cell_type": "code",
     "collapsed": false,
     "input": [
      "def loaded_coin_3(h=0.75):\n",
      "    \"\"\"\n",
      "    :returns: P(Tails) if P(Heads) = 0.75\n",
      "    Solution https://www.udacity.com/course/viewer#!/c-st101/l-48738235/e-48750147/m-48698590\n",
      "    \"\"\"\n",
      "    return p_(h=h)\n"
     ],
     "language": "python",
     "metadata": {},
     "outputs": [],
     "prompt_number": 40
    },
    {
     "cell_type": "code",
     "collapsed": false,
     "input": [
      "assert loaded_coin_3()==0.25"
     ],
     "language": "python",
     "metadata": {},
     "outputs": [],
     "prompt_number": 41
    },
    {
     "cell_type": "markdown",
     "metadata": {},
     "source": [
      "[Symbol links](http://www.rapidtables.com/math/symbols/Statistical_Symbols.htm)"
     ]
    },
    {
     "cell_type": "markdown",
     "metadata": {},
     "source": [
      "#1st Basic Probability Law\n",
      "#P(A) = 1 - P(\u00acA)"
     ]
    },
    {
     "cell_type": "code",
     "collapsed": false,
     "input": [
      "#Stated in Python with the p_ function\n",
      "p_a = 0.25\n",
      "p_n_a = p_(p_a)\n",
      "p_a, p_n_a\n",
      "\n",
      "def complementary_outcomes(p_a, p_n_a):\n",
      "    \"\"\"\n",
      "    asserts the basic law of probability\n",
      "    https://www.udacity.com/course/viewer#!/c-st101/l-48738235/m-48742067\n",
      "    \"\"\"\n",
      "    assert p_a == 1 - p_n_a, 'Does not follow basic law in probability'\n",
      "\n",
      "complementary_outcomes(p_a, p_n_a)"
     ],
     "language": "python",
     "metadata": {},
     "outputs": [],
     "prompt_number": 49
    },
    {
     "cell_type": "code",
     "collapsed": false,
     "input": [
      "import itertools\n",
      "import pandas as pd\n",
      "import numpy as np\n",
      "\n",
      "h,t='h','t'\n",
      "#Scenario whre it's a fair coin; each element represents a side of the coin\n",
      "s_fair_coin = [(h,t)]\n",
      "#Scenario where H first flip; H second flip; each element represents a scenario\n",
      "s_h_a_h = [(h,h)] # \"_a_ for AND ; _s for scenario \n",
      "#All scenarios; \"Every possible outcome\"; each element represents a scenario\n",
      "s_all = [(h,t),\n",
      "         (h,h),\n",
      "         (t,h),\n",
      "         (t,t)]\n",
      "\n",
      "# itertools.product can determine all the scenarios\n",
      "assert set(s_all) == set(itertools.product(*2*s_fair_coin))\n",
      "\n",
      "#DataFrame doesn't accept print(list(zip(*s_all)))\n",
      "truth_table = pd.DataFrame.from_records(s_all, columns=('f_1', 'f_2'))\n",
      "truth_table.index.name = 'Truth Table for coin flipped successively'\n",
      "print(truth_table)\n",
      "    \n",
      "def two_flips_1(num_coins=2):\n",
      "    \"\"\"\n",
      "    :returns: P(H, H) Probability of flipping heads twice\n",
      "    Of a fair_coin\n",
      "    P(H) one head; \n",
      "    P(H,H) one head followed by another head\n",
      "    P(H \u2229 H) a head AND a head\n",
      "    Solution: https://www.udacity.com/course/viewer#!/c-st101/l-48738235/e-48754090/m-48697594\n",
      "    \"\"\"\n",
      "    \n",
      "    \n",
      "    return len(s_h_a_h) / len(s_all)"
     ],
     "language": "python",
     "metadata": {},
     "outputs": [
      {
       "output_type": "stream",
       "stream": "stdout",
       "text": [
        "                                          f_1 f_2\n",
        "Truth Table for coin flipped successively        \n",
        "0                                           h   t\n",
        "1                                           h   h\n",
        "2                                           t   h\n",
        "3                                           t   t\n"
       ]
      }
     ],
     "prompt_number": 168
    },
    {
     "cell_type": "code",
     "collapsed": false,
     "input": [
      "two_flips_1()\n",
      "d=pd.DataFrame()"
     ],
     "language": "python",
     "metadata": {},
     "outputs": [],
     "prompt_number": 126
    },
    {
     "cell_type": "code",
     "collapsed": false,
     "input": [
      "def two_flips_2(p_h=0.6):\n",
      "    \"\"\"\n",
      "    :returns: P(T) when P(H) is 0.6; a biased coin\n",
      "    Solution: https://www.udacity.com/course/viewer#!/c-st101/l-48738235/e-48738234/m-48678786\n",
      "    \"\"\"\n",
      "    return p_(p_h)"
     ],
     "language": "python",
     "metadata": {},
     "outputs": [],
     "prompt_number": 127
    },
    {
     "cell_type": "code",
     "collapsed": false,
     "input": [
      "assert two_flips_2() == 0.4, 'P(T) when coin is biased P(H); is 40% or 0.4'"
     ],
     "language": "python",
     "metadata": {},
     "outputs": [],
     "prompt_number": 116
    },
    {
     "cell_type": "markdown",
     "metadata": {},
     "source": [
      "#2nd Basic Probabiliy Law\n",
      "##P(H, H) = P(H \u2229 H) = P(H) * P(H)"
     ]
    },
    {
     "cell_type": "code",
     "collapsed": false,
     "input": [
      "def basic_prob_law(p_1, p_2):\n",
      "    \"\"\"\n",
      "    :returns: joint probability of\n",
      "    both events happening\n",
      "    \n",
      "    \"\"\"\n",
      "    return p_1 * p_2\n",
      "\n",
      "assert basic_prob_law(0.5, 0.5) == 0.25, 'Asserting result of two_flips_1'\n",
      "\n"
     ],
     "language": "python",
     "metadata": {},
     "outputs": [],
     "prompt_number": 161
    },
    {
     "cell_type": "code",
     "collapsed": false,
     "input": [
      "import operator\n",
      "import functools\n",
      "\n",
      "def basic_prob_law_reduction(p_list):\n",
      "    \"\"\"\n",
      "    :returns: joint probability\n",
      "    of all events in a list happening\n",
      "    by applying 2nd law\n",
      "    http://stackoverflow.com/a/13840436/1175496\n",
      "    \"\"\"\n",
      "    assert all([_<=1 for _ in p_list])\n",
      "    return functools.reduce(operator.mul, p_list)\n",
      "\n",
      "assert np.allclose(basic_prob_law_reduction((0.2,0.2)),0.04), 'Two events each independent and 20% likely to happen, likelihood of both happening is 4%'\n"
     ],
     "language": "python",
     "metadata": {},
     "outputs": [],
     "prompt_number": 170
    },
    {
     "cell_type": "code",
     "collapsed": false,
     "input": [
      "\n",
      "def two_flips_3(p_h=0.6):\n",
      "    \"\"\"\n",
      "    :returns: a truth table for all coin flips;\n",
      "    With an add'l column for the (joint probabiliy)\n",
      "    of the first two columns based on a coin\n",
      "    biased at P(H) = 0.6\n",
      "    \n",
      "    Uses apply\n",
      "    http://stackoverflow.com/a/16033048/1175496\n",
      "    \"\"\"\n",
      "    #Probabiliy dict, used as a map\n",
      "    #Keys must correspond to possibilities/scenarios\n",
      "    p_dict = dict(h=p_h,\n",
      "                  t=p_(p_h))\n",
      "    truth_table['p_1']= truth_table['f_1'].map(p_dict)\n",
      "    truth_table['p_2']= truth_table['f_2'].map(p_dict)\n",
      "    truth_table['joint_prob'] = truth_table[['p_1','p_2']].apply(basic_prob_law_reduction, axis=1)\n",
      "    #.map(p_dict) * truth_table\n",
      "    return truth_table['joint_prob']"
     ],
     "language": "python",
     "metadata": {},
     "outputs": [],
     "prompt_number": 169
    },
    {
     "cell_type": "code",
     "collapsed": false,
     "input": [
      "assert np.allclose(two_flips_3().data,pd.Series(data=(0.24,0.36,0.24,0.16))), 'Possibilities are 0.6 * 0.4, 0.6*0.6, 0.4 * 0.6, and 0.4 * 0.4'"
     ],
     "language": "python",
     "metadata": {},
     "outputs": [],
     "prompt_number": 173
    },
    {
     "cell_type": "code",
     "collapsed": false,
     "input": [
      "truth_table"
     ],
     "language": "python",
     "metadata": {},
     "outputs": [
      {
       "html": [
        "<div style=\"max-height:1000px;max-width:1500px;overflow:auto;\">\n",
        "<table border=\"1\" class=\"dataframe\">\n",
        "  <thead>\n",
        "    <tr style=\"text-align: right;\">\n",
        "      <th></th>\n",
        "      <th>f_1</th>\n",
        "      <th>f_2</th>\n",
        "      <th>joint_prob</th>\n",
        "      <th>p_1</th>\n",
        "      <th>p_2</th>\n",
        "    </tr>\n",
        "    <tr>\n",
        "      <th>Truth Table for coin flipped successively</th>\n",
        "      <th></th>\n",
        "      <th></th>\n",
        "      <th></th>\n",
        "      <th></th>\n",
        "      <th></th>\n",
        "    </tr>\n",
        "  </thead>\n",
        "  <tbody>\n",
        "    <tr>\n",
        "      <th>0</th>\n",
        "      <td> h</td>\n",
        "      <td> t</td>\n",
        "      <td> 0.24</td>\n",
        "      <td> 0.6</td>\n",
        "      <td> 0.4</td>\n",
        "    </tr>\n",
        "    <tr>\n",
        "      <th>1</th>\n",
        "      <td> h</td>\n",
        "      <td> h</td>\n",
        "      <td> 0.36</td>\n",
        "      <td> 0.6</td>\n",
        "      <td> 0.6</td>\n",
        "    </tr>\n",
        "    <tr>\n",
        "      <th>2</th>\n",
        "      <td> t</td>\n",
        "      <td> h</td>\n",
        "      <td> 0.24</td>\n",
        "      <td> 0.4</td>\n",
        "      <td> 0.6</td>\n",
        "    </tr>\n",
        "    <tr>\n",
        "      <th>3</th>\n",
        "      <td> t</td>\n",
        "      <td> t</td>\n",
        "      <td> 0.16</td>\n",
        "      <td> 0.4</td>\n",
        "      <td> 0.4</td>\n",
        "    </tr>\n",
        "  </tbody>\n",
        "</table>\n",
        "</div>"
       ],
       "metadata": {},
       "output_type": "pyout",
       "prompt_number": 160,
       "text": [
        "                                          f_1 f_2  joint_prob  p_1  p_2\n",
        "Truth Table for coin flipped successively                              \n",
        "0                                           h   t        0.24  0.6  0.4\n",
        "1                                           h   h        0.36  0.6  0.6\n",
        "2                                           t   h        0.24  0.4  0.6\n",
        "3                                           t   t        0.16  0.4  0.4"
       ]
      }
     ],
     "prompt_number": 160
    },
    {
     "cell_type": "code",
     "collapsed": false,
     "input": [],
     "language": "python",
     "metadata": {},
     "outputs": []
    }
   ],
   "metadata": {}
  }
 ]
}