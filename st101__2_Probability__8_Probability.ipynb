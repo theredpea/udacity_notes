{
 "metadata": {
  "name": "",
  "signature": "sha256:9856bfa228b74346911af27ce6377574a4d5d999b69c4517ea30a39590d1169d"
 },
 "nbformat": 3,
 "nbformat_minor": 0,
 "worksheets": [
  {
   "cells": [
    {
     "cell_type": "markdown",
     "metadata": {},
     "source": [
      "#Probability is the opposite of statistics"
     ]
    },
    {
     "cell_type": "markdown",
     "metadata": {},
     "source": [
      " - In statistics\n",
      "    - given data\n",
      "    - infer causes\n",
      " - In probability\n",
      "    - given causes\n",
      "    - predict data"
     ]
    },
    {
     "cell_type": "code",
     "collapsed": false,
     "input": [
      "#In a fair coin\n",
      "p_h = 0.5 # 1 of 2 ; 1/2\n",
      "\n",
      "def fair_coin():\n",
      "    \"\"\"\n",
      "    :returns: prob of tails\n",
      "    \"\"\"\n",
      "    return p_h #Same as prob of heads\n",
      "\n",
      "assert fair_coin()==0.5, 'prob tails is 0.5'\n",
      "fair_coin_solution = 'https://www.udacity.com/course/viewer#!/c-st101/l-48738235/e-48738233/m-48698595'\n"
     ],
     "language": "python",
     "metadata": {},
     "outputs": [],
     "prompt_number": 2
    },
    {
     "cell_type": "code",
     "collapsed": false,
     "input": [
      "def loaded_coin_1():\n",
      "    \"\"\"\n",
      "    :returns: probability of heads\n",
      "    if a loaded coin always lands heads\n",
      "    \"\"\"\n",
      "    return 1\n",
      "\n",
      "assert loaded_coin_1()==1, 'An \"always\" probability is 1; same as 100%'\n",
      "loaded_coin_1_solution = 'https://www.udacity.com/course/viewer#!/c-st101/l-48738235/e-48754089/m-48721344'"
     ],
     "language": "python",
     "metadata": {},
     "outputs": [],
     "prompt_number": 4
    },
    {
     "cell_type": "code",
     "collapsed": false,
     "input": [
      "def loaded_coin_2():\n",
      "    \"\"\"\n",
      "    :returns: probability of tails\n",
      "    if a loaded coin always lands heads\n",
      "    \"\"\"\n",
      "    return 0\n",
      "assert loaded_coin_1()==1, 'An \"never\" probability is 0; same as 0%'\n",
      "loaded_coin_1_solution = 'https://www.udacity.com/course/viewer#!/c-st101/l-48738235/e-48699715/m-48693696'"
     ],
     "language": "python",
     "metadata": {},
     "outputs": [],
     "prompt_number": 5
    },
    {
     "cell_type": "code",
     "collapsed": false,
     "input": [
      "p_t = fair_coin()\n",
      "assert  p_h==p_t, 'A fair coin has equal probabilities in both outcomes H or T'\n",
      "assert p_h+p_t==1, 'The sum of all probabilities should be one'\n"
     ],
     "language": "python",
     "metadata": {},
     "outputs": [],
     "prompt_number": 12
    },
    {
     "cell_type": "code",
     "collapsed": false,
     "input": [
      "assert loaded_coin_1()+loaded_coin_2()==1, 'The sum of all probabilities should be one'\\\n",
      "'even in the loaded case; a loaded coin does not defy probabilities'\n",
      " "
     ],
     "language": "python",
     "metadata": {},
     "outputs": [],
     "prompt_number": 14
    },
    {
     "cell_type": "code",
     "collapsed": false,
     "input": [
      "def p_(h=None, t=None): \n",
      "    #if h is not None:\n",
      "    #    return 1-h\n",
      "    #elif t is not None:\n",
      "    #    return 1-t\n",
      "    #else:\n",
      "    #    return 1\n",
      "    \n",
      "    return 1-(h or t or 0)\n",
      "\n",
      "#Returns 1 by default; the totality\n",
      "assert p_()==1\n",
      "#Other standard probabilities\n",
      "assert p_(h=1)==0\n",
      "assert p_(h=0.5)==0.5\n",
      "assert p_(t=0.2)==0.8\n",
      "#Uses first nonzero arg\n",
      "assert p_(h=0,t=1)==0\n",
      "assert p_(h=0.2, t=0.5)==0.8"
     ],
     "language": "python",
     "metadata": {},
     "outputs": [],
     "prompt_number": 37
    },
    {
     "cell_type": "code",
     "collapsed": false,
     "input": [
      "def loaded_coin_3(h=0.75):\n",
      "    \"\"\"\n",
      "    :returns: P(Tails) if P(Heads) = 0.75\n",
      "    Solution https://www.udacity.com/course/viewer#!/c-st101/l-48738235/e-48750147/m-48698590\n",
      "    \"\"\"\n",
      "    return p_(h=h)"
     ],
     "language": "python",
     "metadata": {},
     "outputs": [],
     "prompt_number": 38
    },
    {
     "cell_type": "code",
     "collapsed": false,
     "input": [
      "assert loaded_coin_3()==0.25"
     ],
     "language": "python",
     "metadata": {},
     "outputs": [],
     "prompt_number": 39
    }
   ],
   "metadata": {}
  }
 ]
}