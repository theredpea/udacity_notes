{
 "metadata": {
  "name": "",
  "signature": "sha256:18cbcc09aa7481fc44bfc8b92db109834026c8a96f16d5160532ed5decda62ba"
 },
 "nbformat": 3,
 "nbformat_minor": 0,
 "worksheets": [
  {
   "cells": [
    {
     "cell_type": "markdown",
     "metadata": {},
     "source": [
      "#Statististics\n",
      "#From Data to Decisions\n",
      "\n",
      "#All Disciplines\n",
      "- Social Sciences\n",
      "- Medicine\n",
      "- Engineering\n",
      "- Public Policy\n",
      "- Psychology\n",
      "- Climatology\n",
      "- Robotics\n",
      "- Archaeology\n",
      "- Health Sciences\n",
      "- Finance\n",
      "- Business & Marketing\n",
      "\n",
      "even...\n",
      "- Biology\n",
      "- Physics"
     ]
    },
    {
     "cell_type": "code",
     "collapsed": false,
     "input": [
      "import pandas as pd, numpy as np"
     ],
     "language": "python",
     "metadata": {},
     "outputs": [],
     "prompt_number": 2
    },
    {
     "cell_type": "code",
     "collapsed": false,
     "input": [
      "size_v_cost = pd.DataFrame(dict(size=(1400,\n",
      "                                      2400,\n",
      "                                      1800,\n",
      "                                      1900,\n",
      "                                      1300,\n",
      "                                      1100), \n",
      "                                cost=(112000,\n",
      "                                      192000,\n",
      "                                      144000,\n",
      "                                      152000,\n",
      "                                      104000,\n",
      "                                      88000)))\n"
     ],
     "language": "python",
     "metadata": {},
     "outputs": [],
     "prompt_number": 3
    },
    {
     "cell_type": "code",
     "collapsed": false,
     "input": [
      "\n",
      "def valuing_houses_1(size=1300, svc=None):\n",
      "    \"\"\"\n",
      "    :param size: Size (in sqft) of house\n",
      "    :returns: How much money should you pay for that house\n",
      "    \"\"\"\n",
      "    svc =  size_v_cost if svc is None else svc\n",
      "    return svc.cost[svc.size==size].iget(0)"
     ],
     "language": "python",
     "metadata": {},
     "outputs": [],
     "prompt_number": 4
    },
    {
     "cell_type": "code",
     "collapsed": false,
     "input": [
      "valuing_houses_1_answer = 'https://www.udacity.com/course/viewer#!/c-st101/l-48696651/e-48727691/m-48734093'\n",
      "assert valuing_houses_1()==104000, 'A house of 1300 sq ft sold for 104,000 you should pay 104,000 {}'.format(valuing_houses_1_answer)"
     ],
     "language": "python",
     "metadata": {},
     "outputs": [],
     "prompt_number": 5
    },
    {
     "cell_type": "code",
     "collapsed": false,
     "input": [
      "def valuing_houses_2():\n",
      "    return valuing_houses_1(1800)"
     ],
     "language": "python",
     "metadata": {},
     "outputs": [],
     "prompt_number": 6
    },
    {
     "cell_type": "code",
     "collapsed": false,
     "input": [
      "valuing_houses_2_answer = 'https://www.udacity.com/course/viewer#!/c-st101/l-48696651/e-48532777/m-48719197'\n",
      "assert valuing_houses_2()==144000, 'A house of 1300 sq ft sold for 144,000 you should pay 144,000 {}'.format(valuing_houses_2_answer)"
     ],
     "language": "python",
     "metadata": {},
     "outputs": [],
     "prompt_number": 7
    },
    {
     "cell_type": "code",
     "collapsed": false,
     "input": [
      "def valuing_houses_3():\n",
      "    return valuing_houses_1(2100)"
     ],
     "language": "python",
     "metadata": {},
     "outputs": [],
     "prompt_number": 8
    },
    {
     "cell_type": "markdown",
     "metadata": {},
     "source": [
      "#Will cause an error because there is no house that is 2100 sq ft"
     ]
    },
    {
     "cell_type": "code",
     "collapsed": false,
     "input": [
      "valuing_houses_3()"
     ],
     "language": "python",
     "metadata": {},
     "outputs": [
      {
       "ename": "IndexError",
       "evalue": "index out of bounds",
       "output_type": "pyerr",
       "traceback": [
        "\u001b[1;31m---------------------------------------------------------------------------\u001b[0m\n\u001b[1;31mIndexError\u001b[0m                                Traceback (most recent call last)",
        "\u001b[1;32m<ipython-input-9-b23e957ca477>\u001b[0m in \u001b[0;36m<module>\u001b[1;34m()\u001b[0m\n\u001b[1;32m----> 1\u001b[1;33m \u001b[0mvaluing_houses_3\u001b[0m\u001b[1;33m(\u001b[0m\u001b[1;33m)\u001b[0m\u001b[1;33m\u001b[0m\u001b[0m\n\u001b[0m",
        "\u001b[1;32m<ipython-input-8-450cae9adcc7>\u001b[0m in \u001b[0;36mvaluing_houses_3\u001b[1;34m()\u001b[0m\n\u001b[0;32m      1\u001b[0m \u001b[1;32mdef\u001b[0m \u001b[0mvaluing_houses_3\u001b[0m\u001b[1;33m(\u001b[0m\u001b[1;33m)\u001b[0m\u001b[1;33m:\u001b[0m\u001b[1;33m\u001b[0m\u001b[0m\n\u001b[1;32m----> 2\u001b[1;33m     \u001b[1;32mreturn\u001b[0m \u001b[0mvaluing_houses_1\u001b[0m\u001b[1;33m(\u001b[0m\u001b[1;36m2100\u001b[0m\u001b[1;33m)\u001b[0m\u001b[1;33m\u001b[0m\u001b[0m\n\u001b[0m",
        "\u001b[1;32m<ipython-input-4-b72983aee7d1>\u001b[0m in \u001b[0;36mvaluing_houses_1\u001b[1;34m(size, svc)\u001b[0m\n\u001b[0;32m      6\u001b[0m     \"\"\"\n\u001b[0;32m      7\u001b[0m     \u001b[0msvc\u001b[0m \u001b[1;33m=\u001b[0m  \u001b[0msize_v_cost\u001b[0m \u001b[1;32mif\u001b[0m \u001b[0msvc\u001b[0m \u001b[1;32mis\u001b[0m \u001b[1;32mNone\u001b[0m \u001b[1;32melse\u001b[0m \u001b[0msvc\u001b[0m\u001b[1;33m\u001b[0m\u001b[0m\n\u001b[1;32m----> 8\u001b[1;33m     \u001b[1;32mreturn\u001b[0m \u001b[0msvc\u001b[0m\u001b[1;33m.\u001b[0m\u001b[0mcost\u001b[0m\u001b[1;33m[\u001b[0m\u001b[0msvc\u001b[0m\u001b[1;33m.\u001b[0m\u001b[0msize\u001b[0m\u001b[1;33m==\u001b[0m\u001b[0msize\u001b[0m\u001b[1;33m]\u001b[0m\u001b[1;33m.\u001b[0m\u001b[0miget\u001b[0m\u001b[1;33m(\u001b[0m\u001b[1;36m0\u001b[0m\u001b[1;33m)\u001b[0m\u001b[1;33m\u001b[0m\u001b[0m\n\u001b[0m",
        "\u001b[1;32m/home/ubuntu/anaconda3/lib/python3.4/site-packages/pandas/core/series.py\u001b[0m in \u001b[0;36m_ixs\u001b[1;34m(self, i, axis)\u001b[0m\n\u001b[0;32m    458\u001b[0m         \"\"\"\n\u001b[0;32m    459\u001b[0m         \u001b[1;32mtry\u001b[0m\u001b[1;33m:\u001b[0m\u001b[1;33m\u001b[0m\u001b[0m\n\u001b[1;32m--> 460\u001b[1;33m             \u001b[1;32mreturn\u001b[0m \u001b[0m_index\u001b[0m\u001b[1;33m.\u001b[0m\u001b[0mget_value_at\u001b[0m\u001b[1;33m(\u001b[0m\u001b[0mself\u001b[0m\u001b[1;33m.\u001b[0m\u001b[0mvalues\u001b[0m\u001b[1;33m,\u001b[0m \u001b[0mi\u001b[0m\u001b[1;33m)\u001b[0m\u001b[1;33m\u001b[0m\u001b[0m\n\u001b[0m\u001b[0;32m    461\u001b[0m         \u001b[1;32mexcept\u001b[0m \u001b[0mIndexError\u001b[0m\u001b[1;33m:\u001b[0m\u001b[1;33m\u001b[0m\u001b[0m\n\u001b[0;32m    462\u001b[0m             \u001b[1;32mraise\u001b[0m\u001b[1;33m\u001b[0m\u001b[0m\n",
        "\u001b[1;32m/home/ubuntu/anaconda3/lib/python3.4/site-packages/pandas/index.cpython-34m.so\u001b[0m in \u001b[0;36mpandas.index.get_value_at (pandas/index.c:2353)\u001b[1;34m()\u001b[0m\n",
        "\u001b[1;32m/home/ubuntu/anaconda3/lib/python3.4/site-packages/pandas/index.cpython-34m.so\u001b[0m in \u001b[0;36mutil.get_value_at (pandas/index.c:13452)\u001b[1;34m()\u001b[0m\n",
        "\u001b[1;31mIndexError\u001b[0m: index out of bounds"
       ]
      }
     ],
     "prompt_number": 9
    },
    {
     "cell_type": "markdown",
     "metadata": {},
     "source": [
      "#Let's interpolate\n"
     ]
    },
    {
     "cell_type": "code",
     "collapsed": false,
     "input": [
      "def valuing_houses_3(sizes=(2100,), size=2100):\n",
      "    \"\"\"\n",
      "    Interpolates dependent linearly over independent\n",
      "    http://stackoverflow.com/a/27217695/1175496\n",
      "    :returns : Expected cost of new house given its sq footage\n",
      "    \"\"\"\n",
      "    svc_appended = size_v_cost.copy().append(pd.DataFrame({'size':sizes}), True)\n",
      "    cost_interpolated = pd.Series(index=svc_appended.size, data=svc_appended.cost.values).order().interpolate(method='values')[size]\n",
      "    return cost_interpolated"
     ],
     "language": "python",
     "metadata": {},
     "outputs": [],
     "prompt_number": 10
    },
    {
     "cell_type": "code",
     "collapsed": false,
     "input": [
      "valuing_houses_3_answer = 'https://www.udacity.com/course/viewer#!/c-st101/l-48696651/e-48532778/m-48204890'\n",
      "assert valuing_houses_3() == 168000, 'Expected value of 2,100 sq ft home is 168,000 {}'.format(valuing_houses_3_answer)"
     ],
     "language": "python",
     "metadata": {},
     "outputs": [],
     "prompt_number": 11
    },
    {
     "cell_type": "code",
     "collapsed": false,
     "input": [
      "def valuing_houses_4():\n",
      "    return valuing_houses_3(sizes=(1500,), size=1500)"
     ],
     "language": "python",
     "metadata": {},
     "outputs": [],
     "prompt_number": 12
    },
    {
     "cell_type": "code",
     "collapsed": false,
     "input": [
      "valuing_houses_4_answer = 'https://www.udacity.com/course/viewer#!/c-st101/l-48696651/e-48696650/m-48299936'\n",
      "assert valuing_houses_4() == 120000, 'Expected value of  1,500 sq ft home is 120,000 {}'.format(valuing_houses_4_answer)"
     ],
     "language": "python",
     "metadata": {},
     "outputs": [],
     "prompt_number": 13
    },
    {
     "cell_type": "markdown",
     "metadata": {},
     "source": [
      "#Proportionality is Constant\n",
      "It turns out that cost per sq ft is the same for all house datapoints"
     ]
    },
    {
     "cell_type": "code",
     "collapsed": false,
     "input": [
      "def valuing_houses_5():\n",
      "    cost_per_sqft = size_v_cost.cost/size_v_cost.size\n",
      "    different_costs_per_sqft = cost_per_sqft.value_counts()\n",
      "    assert len(different_costs_per_sqft)==1, 'There are multiple costs per sq ft, cannot return just one'\n",
      "    return cost_per_sqft.iloc[0]"
     ],
     "language": "python",
     "metadata": {},
     "outputs": [],
     "prompt_number": 32
    },
    {
     "cell_type": "code",
     "collapsed": false,
     "input": [
      "valuing_houses_5_answer = 'https://www.udacity.com/course/viewer#!/c-st101/l-48696651/e-48369931/m-48634702'\n",
      "assert valuing_houses_5()==80, 'Cost per sq ft ($/sqft) should be 80 {}'.format(valuing_houses_5_answer)"
     ],
     "language": "python",
     "metadata": {},
     "outputs": [],
     "prompt_number": 33
    },
    {
     "cell_type": "code",
     "collapsed": false,
     "input": [],
     "language": "python",
     "metadata": {},
     "outputs": []
    }
   ],
   "metadata": {}
  }
 ]
}