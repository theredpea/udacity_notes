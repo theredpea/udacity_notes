{
 "cells": [
  {
   "cell_type": "code",
   "execution_count": 4,
   "metadata": {
    "collapsed": false
   },
   "outputs": [],
   "source": [
    "import pandas as pd\n",
    "import numpy as np\n",
    "import matplotlib.pyplot as plt\n",
    "\n",
    "def voting_1():\n",
    "    \"\"\"\n",
    "    Prints pie graph of 50/50 split\n",
    "    :returns: pie split\n",
    "    \"\"\"\n",
    "    pd.Series(('A','B')).pie()"
   ]
  },
  {
   "cell_type": "markdown",
   "metadata": {},
   "source": [
    "# Pie Charts\n",
    "Use pie charts to visualize *relative* data"
   ]
  },
  {
   "cell_type": "code",
   "execution_count": 5,
   "metadata": {
    "collapsed": false
   },
   "outputs": [],
   "source": [
    "%matplotlib  inline\n",
    "fifty=pd.Series((1,1))\n"
   ]
  },
  {
   "cell_type": "code",
   "execution_count": 6,
   "metadata": {
    "collapsed": false
   },
   "outputs": [
    {
     "data": {
      "image/png": "[encoded data removed]",
      "text/plain": [
       "<matplotlib.figure.Figure at 0x1ea37e1e198>"
      ]
     },
     "metadata": {},
     "output_type": "display_data"
    }
   ],
   "source": [
    "def voting_1():\n",
    "    #fifty.plot(kind='pie', figsize=(6,6))\n",
    "    pd.Series(index=('A','B'), data=(0.5, 0.5)).plot(kind='pie', colors=('red', 'blue'), figsize=(6,6), legend=False, startangle=90)\n",
    "    \n",
    "voting_1()"
   ]
  },
  {
   "cell_type": "code",
   "execution_count": 3,
   "metadata": {
    "collapsed": false
   },
   "outputs": [],
   "source": [
    "voting_1_solution = 'https://www.udacity.com/course/viewer#!/c-st101/l-48646868/e-48648859/m-48729157'"
   ]
  },
  {
   "cell_type": "code",
   "execution_count": 7,
   "metadata": {
    "collapsed": false
   },
   "outputs": [],
   "source": [
    "def voting_2():\n",
    "    \"\"\"\n",
    "    prints pie chart, good for relative data\n",
    "    :returns : \n",
    "    \"\"\"\n",
    "    votes = pd.DataFrame(index=('A','B'), data={'Votes':(724, 181)})\n",
    "    return 100*votes.Votes/votes.Votes.sum()"
   ]
  },
  {
   "cell_type": "code",
   "execution_count": 10,
   "metadata": {
    "collapsed": false
   },
   "outputs": [
    {
     "data": {
      "text/plain": [
       "A    80.0\n",
       "B    20.0\n",
       "dtype: float64"
      ]
     },
     "execution_count": 10,
     "metadata": {},
     "output_type": "execute_result"
    }
   ],
   "source": [
    "def voting_2_with_series():\n",
    "    \"\"\"\n",
    "    Calculates the percentage of each value in a series relative to sum of a series\n",
    "    \"\"\"\n",
    "    votes = pd.Series({'A': 724, 'B': 181})\n",
    "    #Multiplying by 100 only to convert to proportion of \"100\" for \"percent\"\n",
    "    return 100* votes/votes.sum()\n",
    "voting_2_with_series()"
   ]
  },
  {
   "cell_type": "code",
   "execution_count": 16,
   "metadata": {
    "collapsed": false
   },
   "outputs": [],
   "source": [
    "assert (voting_2().values==pd.Series((80,20))).all(), '80 percent votes for A, only 20 percent voted for B'\n",
    "assert (np.allclose(voting_2().values, pd.Series((80,20)))), '80 percent votes for A, only 20 percent voted for B'\n",
    "assert (np.allclose(voting_2_with_series(), pd.Series((80, 20)))), '80 A, 20 B'\n",
    "voting_2_solution = 'https://www.udacity.com/course/viewer#!/c-st101/l-48646868/e-48747153/m-48697516'"
   ]
  },
  {
   "cell_type": "code",
   "execution_count": 17,
   "metadata": {
    "collapsed": false
   },
   "outputs": [
    {
     "data": {
      "text/plain": [
       "0    80\n",
       "1    20\n",
       "dtype: int64"
      ]
     },
     "execution_count": 17,
     "metadata": {},
     "output_type": "execute_result"
    }
   ],
   "source": [
    "pd.Series((80, 20))"
   ]
  },
  {
   "cell_type": "code",
   "execution_count": 18,
   "metadata": {
    "collapsed": false
   },
   "outputs": [],
   "source": [
    "def voting_3():\n",
    "    voting_2().plot(kind='pie', colors=('red', 'blue'), legend=False, figsize=(6,6), startangle=90)"
   ]
  },
  {
   "cell_type": "code",
   "execution_count": 19,
   "metadata": {
    "collapsed": false
   },
   "outputs": [
    {
     "data": {
      "image/png": "[encoded data removed]",
      "text/plain": [
       "<matplotlib.figure.Figure at 0x1ea3811dc50>"
      ]
     },
     "metadata": {},
     "output_type": "display_data"
    }
   ],
   "source": [
    "voting_3()\n",
    "voting_3_solution = 'https://www.udacity.com/course/viewer#!/c-st101/l-48646868/e-48728369/m-48723323'"
   ]
  },
  {
   "cell_type": "code",
   "execution_count": 23,
   "metadata": {
    "collapsed": false
   },
   "outputs": [],
   "source": [
    "def relative_data(new_size_b=23000):\n",
    "    \"\"\"\n",
    "    Prints pie chart same as voting_3, just invariant to the total number of votes;\n",
    "    relative sizes\n",
    "    :params new_size_b: new size B\n",
    "    :returns: the size of A  voters based on voting_2() percentages (80%)\n",
    "    \"\"\"\n",
    "    #total size should be 23,000 / 0.2 = 115,000\n",
    "    total_size = new_size_b/(voting_2()['B']/100)\n",
    "    \n",
    "    #new_size is 80% of the total size; 92000\n",
    "    #print(total_size) \n",
    "    new_size_a = total_size * (voting_2()['A']/100)\n",
    "    new_size =  pd.Series({'A': new_size_a, 'B': new_size_b})#index=('A','B'), data=( new_size_a, new_size_b))\n",
    "    new_size.plot(kind='pie', colors=('red', 'blue'), legend=False, figsize=(6,6), startangle=90)\n",
    "    return new_size['A']"
   ]
  },
  {
   "cell_type": "code",
   "execution_count": 25,
   "metadata": {
    "collapsed": false
   },
   "outputs": [
    {
     "data": {
      "image/png": "[encoded data removed]",
      "text/plain": [
       "<matplotlib.figure.Figure at 0x1ea34991780>"
      ]
     },
     "metadata": {},
     "output_type": "display_data"
    }
   ],
   "source": [
    "assert relative_data() == 92000, 'The 23K is 20% , so the total is 115K , so the 80% should be  92K, not {}'.format(relative_data())\n",
    "relative_data_solution = 'https://www.udacity.com/course/viewer#!/c-st101/l-48646868/e-48726369/m-48721272'"
   ]
  },
  {
   "cell_type": "code",
   "execution_count": null,
   "metadata": {
    "collapsed": true
   },
   "outputs": [],
   "source": [
    "def relative_data_sebastians_way(new_size_b=23000):\n",
    "    #The values stay relative to *the whole* i.e. some percentage of 100\n",
    "    # But the values also stay relative to *one another* , as Sebastian explains\n",
    "    \"\"\"https://classroom.udacity.com/courses/st101/lessons/48646868/concepts/487263690923\n",
    "    You can see this, because 80's exactly 4 times as much as 20. So if you took 23,000, divide by \"\"\"\n",
    "    relative_proportion = voting_2().A/voting_2().B\n",
    "    \n"
   ]
  },
  {
   "cell_type": "code",
   "execution_count": 142,
   "metadata": {
    "collapsed": false
   },
   "outputs": [],
   "source": [
    "def pick_the_breaks(series=None, colors=list(reversed(('blue','red','black')))):\n",
    "    \"\"\"\n",
    "    Suppose you're taking a Udacity class\n",
    "    Following age distribution\n",
    "    \"\"\"\n",
    "    students = series if series is not None else pd.Series(index=('13-19','20-32','33-999'), data=(12000, 96000, 36000)).iloc[::-1]\n",
    "    students.plot(kind='pie', colors=colors, startangle=90, figsize=(6,6))\n",
    "    return pd.Series([_/(1/12) for _ in reversed((students  )/ students.sum())]).cumsum()"
   ]
  },
  {
   "cell_type": "code",
   "execution_count": 143,
   "metadata": {
    "collapsed": false
   },
   "outputs": [
    {
     "data": {
      "image/png": "[encoded data removed]",
      "text/plain": [
       "<matplotlib.figure.Figure at 0x9d5c780>"
      ]
     },
     "metadata": {},
     "output_type": "display_data"
    }
   ],
   "source": [
    "assert pick_the_breaks()[0]==1., 'Percentages should be at 1/12, 8/12 (9/12 cumulatively), and 3/12 (12/12 cumulatively) respectively'"
   ]
  },
  {
   "cell_type": "code",
   "execution_count": 144,
   "metadata": {
    "collapsed": false
   },
   "outputs": [],
   "source": [
    "pick_the_breaks_solution = 'https://www.udacity.com/course/viewer#!/c-st101/l-48646868/e-48726370/m-48678723'"
   ]
  },
  {
   "cell_type": "code",
   "execution_count": 145,
   "metadata": {
    "collapsed": false
   },
   "outputs": [],
   "source": [
    "def pick_the_breaks_2():\n",
    "    return pick_the_breaks()[1]"
   ]
  },
  {
   "cell_type": "code",
   "execution_count": 146,
   "metadata": {
    "collapsed": false
   },
   "outputs": [
    {
     "data": {
      "image/png": "[encoded data removed]",
      "text/plain": [
       "<matplotlib.figure.Figure at 0x9eb9898>"
      ]
     },
     "metadata": {},
     "output_type": "display_data"
    }
   ],
   "source": [
    "assert pick_the_breaks_2() == 9, 'Second one is 9'\n",
    "pick_the_breaks_2_solution = 'https://www.udacity.com/course/viewer#!/c-st101/l-48646868/e-48532783/m-48742003'"
   ]
  },
  {
   "cell_type": "code",
   "execution_count": 149,
   "metadata": {
    "collapsed": false
   },
   "outputs": [],
   "source": [
    "def build_a_chart():\n",
    "    return pick_the_breaks(pd.Series(index=list('ABCD'), data=(175, 50, 25, 50)).iloc[::-1], colors=list(reversed(('black', \n",
    "                                                                                                        'blue', 'red', 'green'))))"
   ]
  },
  {
   "cell_type": "code",
   "execution_count": 152,
   "metadata": {
    "collapsed": false
   },
   "outputs": [
    {
     "data": {
      "image/png": "[encoded data removed]",
      "text/plain": [
       "<matplotlib.figure.Figure at 0x9e9eac8>"
      ]
     },
     "metadata": {},
     "output_type": "display_data"
    }
   ],
   "source": [
    "assert np.allclose(build_a_chart(), pd.Series(data=(7,9,10,12))), 'Respective twelfths are 7, 9, 10, for A, B, C. '\n",
    "build_a_chart_solution = 'https://www.udacity.com/course/viewer#!/c-st101/l-48646868/e-48747154/m-48739045'"
   ]
  },
  {
   "cell_type": "code",
   "execution_count": 157,
   "metadata": {
    "collapsed": false
   },
   "outputs": [],
   "source": [
    "def inferring_counts(series=None, new_total = 240000, colors=list(reversed(('black', \n",
    "                                                                                                        'blue', 'red', 'green')))):\n",
    "    \"\"\"\n",
    "    Applying the same percentages to a series of a different total\n",
    "    \"\"\"\n",
    "    students = series if series is not None else pd.Series(index=list('ABCD'), data=(175, 50, 25, 50)).iloc[::-1]\n",
    "    students = (students/students.sum())*new_total\n",
    "    students.plot(kind='pie', colors=colors, startangle=90, figsize=(6,6))\n",
    "    return students"
   ]
  },
  {
   "cell_type": "code",
   "execution_count": 164,
   "metadata": {
    "collapsed": false
   },
   "outputs": [
    {
     "data": {
      "image/png": "[encoded data removed]",
      "text/plain": [
       "<matplotlib.figure.Figure at 0x9d5c9b0>"
      ]
     },
     "metadata": {},
     "output_type": "display_data"
    }
   ],
   "source": [
    "\n",
    "assert np.all(inferring_counts()==pd.Series(index=list('ABCD'), data=(140000, 40000, 20000, 40000))[::-1]), 'Values should be A 140K,  B 40K,  C 20K, D 40K'"
   ]
  },
  {
   "cell_type": "code",
   "execution_count": 165,
   "metadata": {
    "collapsed": false
   },
   "outputs": [],
   "source": [
    "inferring_counts_solution = 'https://www.udacity.com/course/viewer#!/c-st101/l-48646868/e-48717441/m-48742005'"
   ]
  },
  {
   "cell_type": "code",
   "execution_count": null,
   "metadata": {
    "collapsed": false
   },
   "outputs": [],
   "source": []
  }
 ],
 "metadata": {
  "kernelspec": {
   "display_name": "Python 3",
   "language": "python",
   "name": "python3"
  },
  "language_info": {
   "codemirror_mode": {
    "name": "ipython",
    "version": 3
   },
   "file_extension": ".py",
   "mimetype": "text/x-python",
   "name": "python",
   "nbconvert_exporter": "python",
   "pygments_lexer": "ipython3",
   "version": "3.6.0"
  }
 },
 "nbformat": 4,
 "nbformat_minor": 0
}
