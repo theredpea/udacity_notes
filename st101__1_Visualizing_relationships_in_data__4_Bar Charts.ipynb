{
 "cells": [
  {
   "cell_type": "markdown",
   "metadata": {},
   "source": [
    "# Barcharts and Histograms\n",
    "## Aggregate data;\n",
    " - Barchart - 2D data\n",
    " - Histograms - 1D data"
   ]
  },
  {
   "cell_type": "code",
   "execution_count": 1,
   "metadata": {
    "collapsed": false
   },
   "outputs": [],
   "source": [
    "def summary():\n",
    "    \"\"\"\n",
    "    Both use vertical bars;\n",
    "    Aggregate data\n",
    "    :returns: barchart or histogram\n",
    "    \"\"\"\n",
    "    pass"
   ]
  },
  {
   "cell_type": "code",
   "execution_count": 2,
   "metadata": {
    "collapsed": false
   },
   "outputs": [],
   "source": [
    "import pandas as pd\n",
    "import matplotlib.pyplot as plt\n",
    "import numpy as np\n"
   ]
  },
  {
   "cell_type": "code",
   "execution_count": 3,
   "metadata": {
    "collapsed": false
   },
   "outputs": [],
   "source": [
    "%matplotlib inline"
   ]
  },
  {
   "cell_type": "code",
   "execution_count": 4,
   "metadata": {
    "collapsed": false
   },
   "outputs": [
    {
     "data": {
      "image/png": "[encoded data removed]",
      "text/plain": [
       "<matplotlib.figure.Figure at 0x210d82d0748>"
      ]
     },
     "metadata": {},
     "output_type": "display_data"
    }
   ],
   "source": [
    "s_v_c = pd.DataFrame({'house_size':pd.Series((13, 14, 16, 19, 21, 23))*100,\n",
    "                    'cost':pd.Series((88,72,94,86,112,98))*1000})\n",
    "def scatter_plot(svc=None, highlight_size=2400):\n",
    "    \"\"\"\n",
    "    Graphs sizes horizontally\n",
    "    And costs vertically\n",
    "    http://matplotlib.org/examples/shapes_and_collections/scatter_demo.html\n",
    "    Cannot use pandas native .plot method, does not handle color keyword arg?\n",
    "    \"\"\"\n",
    "    svc = s_v_c if svc is None else svc\n",
    "    color =  (svc.house_size==highlight_size)*1\n",
    "    size = [100]*len(svc)\n",
    "    kind='scatter'\n",
    "    cmap='PuRd'\n",
    "    plt.scatter(svc.house_size, svc.cost, c=color, s=size, cmap=cmap, edgecolor='black')\n",
    "    #svc.plot('size', 'cost', c=color, s=[100]*len(size_v_cost), kind='scatter', cmap='PuRd')\n",
    "\n",
    "def checking_linearity(svc=None):\n",
    "    \"\"\"\n",
    "    When a line governs the relationship of two datapoints; \n",
    "    the data is called 'linear'\n",
    "    Linearity is a rare occurrence in statistics\n",
    "    \"\"\"\n",
    "    \n",
    "    svc = size_v_cost_changed if svc is None else svc\n",
    "    scatter_plot(svc)\n",
    "    #print(plt.ylim())\n",
    "    #plt.ylim(min(svc.cost), max(svc.cost))\n",
    "    plt.plot([min(svc.house_size), max(svc.house_size)], [min(svc.cost), max(svc.cost)], color='black', ls='dotted')#vlines\n",
    "    \n",
    "checking_linearity(s_v_c)"
   ]
  },
  {
   "cell_type": "code",
   "execution_count": 5,
   "metadata": {
    "collapsed": false
   },
   "outputs": [],
   "source": [
    "checking_linearity_solution = 'https://www.udacity.com/course/viewer#!/c-st101/l-48727696/e-48702501/m-48724214'"
   ]
  },
  {
   "cell_type": "code",
   "execution_count": 6,
   "metadata": {
    "collapsed": false
   },
   "outputs": [],
   "source": [
    "def interpolation(svc=None, n=0):\n",
    "    \"\"\"\n",
    "    :param n: The size for which to return expected cost\n",
    "    :returns : How much to pay for an 'n' sq ft house\n",
    "    \"\"\"\n",
    "    svc=svc.append(pd.DataFrame({'house_size':(n,)}), True)\n",
    "    ordered = pd.Series(index=svc.house_size, data=svc.cost.values).sort_index()\n",
    "    #Must sort by size; (even though it appears to be the independent variable) \n",
    "    #some w/ more size still cost less; \n",
    "    \n",
    "    print(ordered)\n",
    "    return (ordered #Orders by the index, which is size in sq ft; interpolation depends on order (see OP)\n",
    "    .interpolate(method='index')[n]) #Interpolate using method 'index'"
   ]
  },
  {
   "cell_type": "code",
   "execution_count": 7,
   "metadata": {
    "collapsed": false
   },
   "outputs": [
    {
     "name": "stdout",
     "output_type": "stream",
     "text": [
      "house_size\n",
      "1300     88000.0\n",
      "1400     72000.0\n",
      "1600     94000.0\n",
      "1900     86000.0\n",
      "2100    112000.0\n",
      "2200         NaN\n",
      "2300     98000.0\n",
      "dtype: float64\n"
     ]
    },
    {
     "data": {
      "text/plain": [
       "105000.0"
      ]
     },
     "execution_count": 7,
     "metadata": {},
     "output_type": "execute_result"
    }
   ],
   "source": [
    "interpolation(s_v_c, 2200)\n"
   ]
  },
  {
   "cell_type": "code",
   "execution_count": 8,
   "metadata": {
    "collapsed": false
   },
   "outputs": [],
   "source": [
    "def interpolation(svc=None, num=2200):\n",
    "    \"\"\"\n",
    "    :returns: expected value based on closest two bounding points\n",
    "    \"\"\"\n",
    "    \n",
    "    svc = s_v_c if svc is None else svc\n",
    "    svc_series = pd.Series(index=svc.house_size, data=svc.cost.values)\n",
    "    return (s_v_c.cost[s_v_c.house_size<num].max() + s_v_c.cost[s_v_c.house_size>num].min())/2"
   ]
  },
  {
   "cell_type": "code",
   "execution_count": 9,
   "metadata": {
    "collapsed": false
   },
   "outputs": [],
   "source": [
    "interpolation_solution = 'https://www.udacity.com/course/viewer#!/c-st101/l-48727696/e-48532779/m-48480448'\n",
    "assert interpolation()==105000, 'The answer is the average of the cost of homes sized 2100 and 2300'"
   ]
  },
  {
   "cell_type": "code",
   "execution_count": 10,
   "metadata": {
    "collapsed": false
   },
   "outputs": [],
   "source": [
    "def trust():\n",
    "    svc = s_v_c.copy()\n",
    "    svc = svc.append(pd.DataFrame({'size':(2200,),'cost':(105000,)}), True)\n",
    "    #print(svc)\n",
    "    scatter_plot(svc, 2200)\n",
    "    return False\n",
    "    "
   ]
  },
  {
   "cell_type": "code",
   "execution_count": 11,
   "metadata": {
    "collapsed": false
   },
   "outputs": [
    {
     "data": {
      "text/plain": [
       "'Not a lot of trust in this number...'"
      ]
     },
     "execution_count": 11,
     "metadata": {},
     "output_type": "execute_result"
    },
    {
     "data": {
      "image/png": "[encoded data removed]",
      "text/plain": [
       "<matplotlib.figure.Figure at 0x210db477208>"
      ]
     },
     "metadata": {},
     "output_type": "display_data"
    }
   ],
   "source": [
    "trust()\n",
    "'Not a lot of trust in this number...'"
   ]
  },
  {
   "cell_type": "code",
   "execution_count": 12,
   "metadata": {
    "collapsed": false
   },
   "outputs": [],
   "source": [
    "trust_solution = 'https://www.udacity.com/course/viewer#!/c-st101/l-48727696/e-48728368/m-48439340'"
   ]
  },
  {
   "cell_type": "markdown",
   "metadata": {},
   "source": [
    " - Likelihood that a squiggly line predicts these points?\n",
    " - More likely that a linear line predicts them and the distance from this line is called \"noise\""
   ]
  },
  {
   "cell_type": "markdown",
   "metadata": {},
   "source": [
    "*Bars help smooth out differences*\n",
    "\n",
    "All the data falling between two points on x-axis can be summarized by a single point on y-axis \n"
   ]
  },
  {
   "cell_type": "code",
   "execution_count": 13,
   "metadata": {
    "collapsed": false
   },
   "outputs": [],
   "source": [
    "def grouping_data(svc=None, s=1000, e=1500):\n",
    "    \n",
    "    svc = s_v_c if svc is None else svc\n",
    "    return s_v_c.cost[(s_v_c.house_size>=s) & (s_v_c.house_size<=e)].mean()"
   ]
  },
  {
   "cell_type": "code",
   "execution_count": 14,
   "metadata": {
    "collapsed": false
   },
   "outputs": [],
   "source": [
    "assert grouping_data()== 80000, \"Answer is halfway point between 88K and 72K\""
   ]
  },
  {
   "cell_type": "code",
   "execution_count": 15,
   "metadata": {
    "collapsed": false
   },
   "outputs": [],
   "source": [
    "grouping_data_solution='https://www.udacity.com/course/viewer#!/c-st101/l-48727696/e-48747152/m-48729153'"
   ]
  },
  {
   "cell_type": "code",
   "execution_count": 36,
   "metadata": {
    "collapsed": false
   },
   "outputs": [
    {
     "data": {
      "image/png": "[encoded data removed]",
      "text/plain": [
       "<matplotlib.figure.Figure at 0x210db8dbcc0>"
      ]
     },
     "metadata": {},
     "output_type": "display_data"
    }
   ],
   "source": [
    "def grouping_data_2_and_grouping_data_3():\n",
    "    # df.groupby(pd.cut(df[\"B\"], np.arange(0, 1.0+0.155, 0.155))).sum()\n",
    "    # https://stackoverflow.com/a/21441621/1175496\n",
    "    # https://stackoverflow.com/questions/29498652/plot-bar-graph-from-pandas-dataframe\n",
    "    mean_cost = s_v_c.groupby(pd.cut(s_v_c.house_size, np.arange(1000,2501,500))).mean().cost\n",
    "    mean_cost.plot(kind='bar')\n",
    "    s_v_c.groupby(pd.cut(s_v_c.house_size, np.arange(1000,2501,500))).mean().cost.plot(kind='line')\n",
    "    #print(mean_cost)\n",
    "    middle_bar=mean_cost.iloc[1]\n",
    "    top_bar = mean_cost.iloc[-1]\n",
    "    \n",
    "    #middle_index=mean_cost.index[1]\n",
    "    #print(middle_bar)\n",
    "    #x is just index 0, 1, 2, when using a bar chart.\n",
    "    plt.annotate(middle_bar, xy = (1, middle_bar), xytext = (0, 0), textcoords = 'offset points')\n",
    "    plt.annotate(top_bar, xy = (len(mean_cost)-1, top_bar), xytext = (0, 0), textcoords = 'offset points')\n",
    "grouping_data_2_and_grouping_data_3()"
   ]
  },
  {
   "cell_type": "code",
   "execution_count": 27,
   "metadata": {
    "collapsed": false
   },
   "outputs": [
    {
     "data": {
      "text/plain": [
       "array([1000, 1500, 2000, 2500])"
      ]
     },
     "execution_count": 27,
     "metadata": {},
     "output_type": "execute_result"
    }
   ],
   "source": [
    "np.arange(1000,2501,500)"
   ]
  },
  {
   "cell_type": "code",
   "execution_count": 28,
   "metadata": {
    "collapsed": false
   },
   "outputs": [
    {
     "ename": "NameError",
     "evalue": "name 'df' is not defined",
     "output_type": "error",
     "traceback": [
      "\u001b[0;31m---------------------------------------------------------------------------\u001b[0m",
      "\u001b[0;31mNameError\u001b[0m                                 Traceback (most recent call last)",
      "\u001b[0;32m<ipython-input-28-4f7442b90a2b>\u001b[0m in \u001b[0;36m<module>\u001b[0;34m()\u001b[0m\n\u001b[0;32m----> 1\u001b[0;31m \u001b[0mdf\u001b[0m\u001b[1;33m[\u001b[0m\u001b[1;34m\"B\"\u001b[0m\u001b[1;33m]\u001b[0m\u001b[1;33m\u001b[0m\u001b[0m\n\u001b[0m",
      "\u001b[0;31mNameError\u001b[0m: name 'df' is not defined"
     ]
    }
   ],
   "source": [
    "df[\"B\"]"
   ]
  },
  {
   "cell_type": "code",
   "execution_count": 30,
   "metadata": {
    "collapsed": false
   },
   "outputs": [],
   "source": [
    "def grouping_data_2(svc=None, s=1500, e=2000):\n",
    "    return (grouping_data(svc, s, e))\n",
    "#NameError: name 'df' is not defined\n",
    "#df.groupby(pd.cut(df[\"B\"], np.arange(0, 1.0+0.155, 0.155))).sum()"
   ]
  },
  {
   "cell_type": "code",
   "execution_count": 31,
   "metadata": {
    "collapsed": false
   },
   "outputs": [],
   "source": [
    "assert grouping_data_2()==90000, \"Answer is halfway point between 86K and 94K\""
   ]
  },
  {
   "cell_type": "code",
   "execution_count": 32,
   "metadata": {
    "collapsed": false
   },
   "outputs": [],
   "source": [
    "grouping_data_2_solution='https://www.udacity.com/course/viewer#!/c-st101/l-48727696/e-48717440/m-48680614'"
   ]
  },
  {
   "cell_type": "code",
   "execution_count": 88,
   "metadata": {
    "collapsed": false
   },
   "outputs": [],
   "source": [
    "def grouping_data_3(svc=None, s=2000, e=2500):\n",
    "    return grouping_data(svc, s, e)"
   ]
  },
  {
   "cell_type": "code",
   "execution_count": 90,
   "metadata": {
    "collapsed": false
   },
   "outputs": [],
   "source": [
    "assert grouping_data_3()==105000, 'Answer is halfway between 86 and 112K'\n",
    "grouping_data_3_solution = 'https://www.udacity.com/course/viewer#!/c-st101/l-48727696/e-48532781/m-48695529'"
   ]
  },
  {
   "cell_type": "code",
   "execution_count": 91,
   "metadata": {
    "collapsed": false
   },
   "outputs": [],
   "source": [
    "def bar_charts():\n",
    "    \"\"\"\n",
    "    :returns: if bar charts are cool\n",
    "    \"\"\"\n",
    "    return True\n",
    "assert bar_charts(), 'Bar charts are cool according to Sebastian'\n",
    "bar_charts_solution = 'https://www.udacity.com/course/viewer#!/c-st101/l-48727696/e-48727695/m-48701367'"
   ]
  },
  {
   "cell_type": "code",
   "execution_count": 41,
   "metadata": {
    "collapsed": false
   },
   "outputs": [],
   "source": [
    "income = pd.Series((132754, \n",
    "                    137192,\n",
    "                    122177,\n",
    "                    147121,\n",
    "                    143000,\n",
    "                    126010,\n",
    "                    129200,\n",
    "                    124312,\n",
    "                    128132))"
   ]
  },
  {
   "cell_type": "code",
   "execution_count": 42,
   "metadata": {
    "collapsed": false
   },
   "outputs": [
    {
     "data": {
      "text/plain": [
       "[125, 130, 135, 140, 145]"
      ]
     },
     "execution_count": 42,
     "metadata": {},
     "output_type": "execute_result"
    }
   ],
   "source": [
    "list(range(125,150,5))"
   ]
  },
  {
   "cell_type": "code",
   "execution_count": 43,
   "metadata": {
    "collapsed": false
   },
   "outputs": [
    {
     "data": {
      "text/plain": [
       "2    122177\n",
       "7    124312\n",
       "5    126010\n",
       "8    128132\n",
       "6    129200\n",
       "0    132754\n",
       "1    137192\n",
       "4    143000\n",
       "3    147121\n",
       "dtype: int64"
      ]
     },
     "execution_count": 43,
     "metadata": {},
     "output_type": "execute_result"
    }
   ],
   "source": [
    "income.sort_values()"
   ]
  },
  {
   "cell_type": "code",
   "execution_count": 73,
   "metadata": {
    "collapsed": false
   },
   "outputs": [],
   "source": [
    "#income.hist()\n",
    "#income.hist(bins=len(range(125,150,5)))\n",
    "#income.hist(bins=3)\n",
    "def histograms(bin=0):\n",
    "    \"\"\"\n",
    "    :returns : Value of frequency of the first bin\n",
    "    \"\"\"\n",
    "    income_hist = plt.hist(income.data,bins=pd.Series([120,130,140,150])*1000)\n",
    "    assert np.allclose(income_hist[0],np.array((5.,2.,2.))) #The values in each bin; len == n\n",
    "    assert np.allclose(income_hist[1], np.array((120000, 130000, 140000, 150000))) #The bin boundaries; lin == (n+1)\n",
    "    #Inspecting Patch\n",
    "    #<a list of 3 Patch objects>\n",
    "    print(income_hist[2][0])\n",
    "    #Patch objects are objects in pyplot ; for example, a Rectangle(120000,0;10000x5)\n",
    "    return income_hist[0][bin]"
   ]
  },
  {
   "cell_type": "code",
   "execution_count": 74,
   "metadata": {
    "collapsed": false
   },
   "outputs": [
    {
     "name": "stdout",
     "output_type": "stream",
     "text": [
      "Rectangle(120000,0;10000x5)\n"
     ]
    },
    {
     "data": {
      "image/png": "[encoded data removed]",
      "text/plain": [
       "<matplotlib.figure.Figure at 0x210dcf78320>"
      ]
     },
     "metadata": {},
     "output_type": "display_data"
    }
   ],
   "source": [
    "assert histograms()==5., 'The number of incomes falling in the first bin, 120K to 130K, should be 5, not {}'.format(histograms())\n",
    "histograms_solution = 'https://www.udacity.com/course/viewer#!/c-st101/l-48727696/e-48648858/m-48709161'"
   ]
  },
  {
   "cell_type": "code",
   "execution_count": 75,
   "metadata": {
    "collapsed": false
   },
   "outputs": [],
   "source": [
    "def histograms_2(bin=1):\n",
    "    return histograms(1)"
   ]
  },
  {
   "cell_type": "code",
   "execution_count": 76,
   "metadata": {
    "collapsed": false
   },
   "outputs": [
    {
     "name": "stdout",
     "output_type": "stream",
     "text": [
      "Rectangle(120000,0;10000x5)\n"
     ]
    },
    {
     "data": {
      "image/png": "[encoded data removed]",
      "text/plain": [
       "<matplotlib.figure.Figure at 0x210dcef9438>"
      ]
     },
     "metadata": {},
     "output_type": "display_data"
    }
   ],
   "source": [
    "assert histograms_2()==2., 'The second bin has frequency of 2 incomes (between 130K and 140K)'"
   ]
  },
  {
   "cell_type": "code",
   "execution_count": 77,
   "metadata": {
    "collapsed": false
   },
   "outputs": [],
   "source": [
    "histograms_2_solution = 'https://www.udacity.com/course/viewer#!/c-st101/l-48727696/e-48702503/m-48688776'"
   ]
  },
  {
   "cell_type": "code",
   "execution_count": 78,
   "metadata": {
    "collapsed": false
   },
   "outputs": [],
   "source": [
    "ages = pd.Series((21, 17, 9, 27, 39, 4, 32, 12, 14, 12, 38, 9, 19, 22, 14, 21, 3, 31, 8, 15, 33, 29))"
   ]
  },
  {
   "cell_type": "code",
   "execution_count": 79,
   "metadata": {
    "collapsed": false
   },
   "outputs": [
    {
     "data": {
      "text/plain": [
       "16     3\n",
       "5      4\n",
       "18     8\n",
       "2      9\n",
       "11     9\n",
       "7     12\n",
       "9     12\n",
       "8     14\n",
       "14    14\n",
       "19    15\n",
       "1     17\n",
       "12    19\n",
       "0     21\n",
       "15    21\n",
       "13    22\n",
       "3     27\n",
       "21    29\n",
       "17    31\n",
       "6     32\n",
       "20    33\n",
       "10    38\n",
       "4     39\n",
       "dtype: int64"
      ]
     },
     "execution_count": 79,
     "metadata": {},
     "output_type": "execute_result"
    }
   ],
   "source": [
    "ages.sort_values()"
   ]
  },
  {
   "cell_type": "code",
   "execution_count": 80,
   "metadata": {
    "collapsed": false
   },
   "outputs": [],
   "source": [
    "def age_distribution():\n",
    "    dist = plt.hist(ages,bins=[0,10, 20, 30, 40])\n",
    "    return dist[0]"
   ]
  },
  {
   "cell_type": "code",
   "execution_count": 86,
   "metadata": {
    "collapsed": false
   },
   "outputs": [
    {
     "ename": "ValueError",
     "evalue": "Grouper for '<class 'numpy.int64'>' not 1-dimensional",
     "output_type": "error",
     "traceback": [
      "\u001b[0;31m---------------------------------------------------------------------------\u001b[0m",
      "\u001b[0;31mValueError\u001b[0m                                Traceback (most recent call last)",
      "\u001b[0;32m<ipython-input-86-d026cdab3b38>\u001b[0m in \u001b[0;36m<module>\u001b[0;34m()\u001b[0m\n\u001b[0;32m----> 1\u001b[0;31m \u001b[0mages\u001b[0m\u001b[1;33m.\u001b[0m\u001b[0mgroupby\u001b[0m\u001b[1;33m(\u001b[0m\u001b[0mlist\u001b[0m\u001b[1;33m(\u001b[0m\u001b[0mrange\u001b[0m\u001b[1;33m(\u001b[0m\u001b[1;36m0\u001b[0m\u001b[1;33m,\u001b[0m\u001b[1;36m50\u001b[0m\u001b[1;33m,\u001b[0m\u001b[1;36m10\u001b[0m\u001b[1;33m)\u001b[0m\u001b[1;33m)\u001b[0m\u001b[1;33m)\u001b[0m\u001b[1;33m\u001b[0m\u001b[0m\n\u001b[0m",
      "\u001b[0;32mC:\\Users\\nnd\\AppData\\Local\\Continuum\\Anaconda3\\lib\\site-packages\\pandas\\core\\generic.py\u001b[0m in \u001b[0;36mgroupby\u001b[0;34m(self, by, axis, level, as_index, sort, group_keys, squeeze, **kwargs)\u001b[0m\n\u001b[1;32m   3989\u001b[0m         return groupby(self, by=by, axis=axis, level=level, as_index=as_index,\n\u001b[1;32m   3990\u001b[0m                        \u001b[0msort\u001b[0m\u001b[1;33m=\u001b[0m\u001b[0msort\u001b[0m\u001b[1;33m,\u001b[0m \u001b[0mgroup_keys\u001b[0m\u001b[1;33m=\u001b[0m\u001b[0mgroup_keys\u001b[0m\u001b[1;33m,\u001b[0m \u001b[0msqueeze\u001b[0m\u001b[1;33m=\u001b[0m\u001b[0msqueeze\u001b[0m\u001b[1;33m,\u001b[0m\u001b[1;33m\u001b[0m\u001b[0m\n\u001b[0;32m-> 3991\u001b[0;31m                        **kwargs)\n\u001b[0m\u001b[1;32m   3992\u001b[0m \u001b[1;33m\u001b[0m\u001b[0m\n\u001b[1;32m   3993\u001b[0m     \u001b[1;32mdef\u001b[0m \u001b[0masfreq\u001b[0m\u001b[1;33m(\u001b[0m\u001b[0mself\u001b[0m\u001b[1;33m,\u001b[0m \u001b[0mfreq\u001b[0m\u001b[1;33m,\u001b[0m \u001b[0mmethod\u001b[0m\u001b[1;33m=\u001b[0m\u001b[1;32mNone\u001b[0m\u001b[1;33m,\u001b[0m \u001b[0mhow\u001b[0m\u001b[1;33m=\u001b[0m\u001b[1;32mNone\u001b[0m\u001b[1;33m,\u001b[0m \u001b[0mnormalize\u001b[0m\u001b[1;33m=\u001b[0m\u001b[1;32mFalse\u001b[0m\u001b[1;33m)\u001b[0m\u001b[1;33m:\u001b[0m\u001b[1;33m\u001b[0m\u001b[0m\n",
      "\u001b[0;32mC:\\Users\\nnd\\AppData\\Local\\Continuum\\Anaconda3\\lib\\site-packages\\pandas\\core\\groupby.py\u001b[0m in \u001b[0;36mgroupby\u001b[0;34m(obj, by, **kwds)\u001b[0m\n\u001b[1;32m   1509\u001b[0m         \u001b[1;32mraise\u001b[0m \u001b[0mTypeError\u001b[0m\u001b[1;33m(\u001b[0m\u001b[1;34m'invalid type: %s'\u001b[0m \u001b[1;33m%\u001b[0m \u001b[0mtype\u001b[0m\u001b[1;33m(\u001b[0m\u001b[0mobj\u001b[0m\u001b[1;33m)\u001b[0m\u001b[1;33m)\u001b[0m\u001b[1;33m\u001b[0m\u001b[0m\n\u001b[1;32m   1510\u001b[0m \u001b[1;33m\u001b[0m\u001b[0m\n\u001b[0;32m-> 1511\u001b[0;31m     \u001b[1;32mreturn\u001b[0m \u001b[0mklass\u001b[0m\u001b[1;33m(\u001b[0m\u001b[0mobj\u001b[0m\u001b[1;33m,\u001b[0m \u001b[0mby\u001b[0m\u001b[1;33m,\u001b[0m \u001b[1;33m**\u001b[0m\u001b[0mkwds\u001b[0m\u001b[1;33m)\u001b[0m\u001b[1;33m\u001b[0m\u001b[0m\n\u001b[0m\u001b[1;32m   1512\u001b[0m \u001b[1;33m\u001b[0m\u001b[0m\n\u001b[1;32m   1513\u001b[0m \u001b[1;33m\u001b[0m\u001b[0m\n",
      "\u001b[0;32mC:\\Users\\nnd\\AppData\\Local\\Continuum\\Anaconda3\\lib\\site-packages\\pandas\\core\\groupby.py\u001b[0m in \u001b[0;36m__init__\u001b[0;34m(self, obj, keys, axis, level, grouper, exclusions, selection, as_index, sort, group_keys, squeeze, **kwargs)\u001b[0m\n\u001b[1;32m    368\u001b[0m                                                     \u001b[0mlevel\u001b[0m\u001b[1;33m=\u001b[0m\u001b[0mlevel\u001b[0m\u001b[1;33m,\u001b[0m\u001b[1;33m\u001b[0m\u001b[0m\n\u001b[1;32m    369\u001b[0m                                                     \u001b[0msort\u001b[0m\u001b[1;33m=\u001b[0m\u001b[0msort\u001b[0m\u001b[1;33m,\u001b[0m\u001b[1;33m\u001b[0m\u001b[0m\n\u001b[0;32m--> 370\u001b[0;31m                                                     mutated=self.mutated)\n\u001b[0m\u001b[1;32m    371\u001b[0m \u001b[1;33m\u001b[0m\u001b[0m\n\u001b[1;32m    372\u001b[0m         \u001b[0mself\u001b[0m\u001b[1;33m.\u001b[0m\u001b[0mobj\u001b[0m \u001b[1;33m=\u001b[0m \u001b[0mobj\u001b[0m\u001b[1;33m\u001b[0m\u001b[0m\n",
      "\u001b[0;32mC:\\Users\\nnd\\AppData\\Local\\Continuum\\Anaconda3\\lib\\site-packages\\pandas\\core\\groupby.py\u001b[0m in \u001b[0;36m_get_grouper\u001b[0;34m(obj, key, axis, level, sort, mutated)\u001b[0m\n\u001b[1;32m   2482\u001b[0m                         \u001b[0msort\u001b[0m\u001b[1;33m=\u001b[0m\u001b[0msort\u001b[0m\u001b[1;33m,\u001b[0m\u001b[1;33m\u001b[0m\u001b[0m\n\u001b[1;32m   2483\u001b[0m                         in_axis=in_axis) \\\n\u001b[0;32m-> 2484\u001b[0;31m             \u001b[1;32mif\u001b[0m \u001b[1;32mnot\u001b[0m \u001b[0misinstance\u001b[0m\u001b[1;33m(\u001b[0m\u001b[0mgpr\u001b[0m\u001b[1;33m,\u001b[0m \u001b[0mGrouping\u001b[0m\u001b[1;33m)\u001b[0m \u001b[1;32melse\u001b[0m \u001b[0mgpr\u001b[0m\u001b[1;33m\u001b[0m\u001b[0m\n\u001b[0m\u001b[1;32m   2485\u001b[0m \u001b[1;33m\u001b[0m\u001b[0m\n\u001b[1;32m   2486\u001b[0m         \u001b[0mgroupings\u001b[0m\u001b[1;33m.\u001b[0m\u001b[0mappend\u001b[0m\u001b[1;33m(\u001b[0m\u001b[0mping\u001b[0m\u001b[1;33m)\u001b[0m\u001b[1;33m\u001b[0m\u001b[0m\n",
      "\u001b[0;32mC:\\Users\\nnd\\AppData\\Local\\Continuum\\Anaconda3\\lib\\site-packages\\pandas\\core\\groupby.py\u001b[0m in \u001b[0;36m__init__\u001b[0;34m(self, index, grouper, obj, name, level, sort, in_axis)\u001b[0m\n\u001b[1;32m   2275\u001b[0m                 \u001b[1;32mif\u001b[0m \u001b[0mgetattr\u001b[0m\u001b[1;33m(\u001b[0m\u001b[0mself\u001b[0m\u001b[1;33m.\u001b[0m\u001b[0mgrouper\u001b[0m\u001b[1;33m,\u001b[0m \u001b[1;34m'ndim'\u001b[0m\u001b[1;33m,\u001b[0m \u001b[1;36m1\u001b[0m\u001b[1;33m)\u001b[0m \u001b[1;33m!=\u001b[0m \u001b[1;36m1\u001b[0m\u001b[1;33m:\u001b[0m\u001b[1;33m\u001b[0m\u001b[0m\n\u001b[1;32m   2276\u001b[0m                     \u001b[0mt\u001b[0m \u001b[1;33m=\u001b[0m \u001b[0mself\u001b[0m\u001b[1;33m.\u001b[0m\u001b[0mname\u001b[0m \u001b[1;32mor\u001b[0m \u001b[0mstr\u001b[0m\u001b[1;33m(\u001b[0m\u001b[0mtype\u001b[0m\u001b[1;33m(\u001b[0m\u001b[0mself\u001b[0m\u001b[1;33m.\u001b[0m\u001b[0mgrouper\u001b[0m\u001b[1;33m)\u001b[0m\u001b[1;33m)\u001b[0m\u001b[1;33m\u001b[0m\u001b[0m\n\u001b[0;32m-> 2277\u001b[0;31m                     \u001b[1;32mraise\u001b[0m \u001b[0mValueError\u001b[0m\u001b[1;33m(\u001b[0m\u001b[1;34m\"Grouper for '%s' not 1-dimensional\"\u001b[0m \u001b[1;33m%\u001b[0m \u001b[0mt\u001b[0m\u001b[1;33m)\u001b[0m\u001b[1;33m\u001b[0m\u001b[0m\n\u001b[0m\u001b[1;32m   2278\u001b[0m                 \u001b[0mself\u001b[0m\u001b[1;33m.\u001b[0m\u001b[0mgrouper\u001b[0m \u001b[1;33m=\u001b[0m \u001b[0mself\u001b[0m\u001b[1;33m.\u001b[0m\u001b[0mindex\u001b[0m\u001b[1;33m.\u001b[0m\u001b[0mmap\u001b[0m\u001b[1;33m(\u001b[0m\u001b[0mself\u001b[0m\u001b[1;33m.\u001b[0m\u001b[0mgrouper\u001b[0m\u001b[1;33m)\u001b[0m\u001b[1;33m\u001b[0m\u001b[0m\n\u001b[1;32m   2279\u001b[0m                 if not (hasattr(self.grouper, \"__len__\") and\n",
      "\u001b[0;31mValueError\u001b[0m: Grouper for '<class 'numpy.int64'>' not 1-dimensional"
     ]
    }
   ],
   "source": [
    "ages.groupby(list(range(0,50,10)))"
   ]
  },
  {
   "cell_type": "code",
   "execution_count": 88,
   "metadata": {
    "collapsed": false
   },
   "outputs": [
    {
     "data": {
      "text/plain": [
       "(0, 10]     5\n",
       "(10, 20]    7\n",
       "(20, 30]    5\n",
       "(30, 40]    5\n",
       "dtype: int64"
      ]
     },
     "execution_count": 88,
     "metadata": {},
     "output_type": "execute_result"
    }
   ],
   "source": [
    "de fage_distribution\n",
    "ages.groupby(pd.cut(ages, np.arange(0,41,10))).count()"
   ]
  },
  {
   "cell_type": "code",
   "execution_count": 84,
   "metadata": {
    "collapsed": false
   },
   "outputs": [
    {
     "data": {
      "text/plain": [
       "range(0, 10)"
      ]
     },
     "execution_count": 84,
     "metadata": {},
     "output_type": "execute_result"
    }
   ],
   "source": [
    "range(0,10)"
   ]
  },
  {
   "cell_type": "code",
   "execution_count": 71,
   "metadata": {
    "collapsed": false
   },
   "outputs": [
    {
     "data": {
      "image/png": "[encoded data removed]",
      "text/plain": [
       "<matplotlib.figure.Figure at 0x210dcf5a6d8>"
      ]
     },
     "metadata": {},
     "output_type": "display_data"
    }
   ],
   "source": [
    "assert np.allclose(age_distribution(), np.array((5.,7.,5.,5.))), 'Distribution should be 5, 7, 5, 5'\n",
    "age_distribution_solution = 'https://www.udacity.com/course/viewer#!/c-st101/l-48727696/e-48532782/m-48688775'"
   ]
  },
  {
   "cell_type": "code",
   "execution_count": 132,
   "metadata": {
    "collapsed": false
   },
   "outputs": [],
   "source": [
    "def summary():\n",
    "    \"\"\"\n",
    "    :returns: Summary of this lesson\n",
    "    \"\"\"\n",
    "    return 'Histogram is 1D data, Bar chart is 2D data, both group datapoints. '\\\n",
    "+ 'Histograms group by  frequencies in a bin, bar charts by averages of the bin'"
   ]
  },
  {
   "cell_type": "code",
   "execution_count": 133,
   "metadata": {
    "collapsed": false
   },
   "outputs": [
    {
     "name": "stdout",
     "output_type": "stream",
     "text": [
      "Histogram is 1D data, Bar chart is 2D data, both group datapoints. Histograms group by  frequencies in a bin, bar charts by averages of the bin\n"
     ]
    }
   ],
   "source": [
    "print(summary())"
   ]
  },
  {
   "cell_type": "code",
   "execution_count": null,
   "metadata": {
    "collapsed": false
   },
   "outputs": [],
   "source": []
  }
 ],
 "metadata": {
  "kernelspec": {
   "display_name": "Python 3",
   "language": "python",
   "name": "python3"
  },
  "language_info": {
   "codemirror_mode": {
    "name": "ipython",
    "version": 3
   },
   "file_extension": ".py",
   "mimetype": "text/x-python",
   "name": "python",
   "nbconvert_exporter": "python",
   "pygments_lexer": "ipython3",
   "version": "3.6.0"
  }
 },
 "nbformat": 4,
 "nbformat_minor": 0
}
