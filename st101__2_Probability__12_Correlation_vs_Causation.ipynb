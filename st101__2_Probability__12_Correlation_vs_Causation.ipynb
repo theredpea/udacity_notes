{
 "cells": [
  {
   "cell_type": "code",
   "execution_count": 3,
   "metadata": {
    "collapsed": true
   },
   "outputs": [],
   "source": [
    "import pandas as pd\n",
    "import numpy as np"
   ]
  },
  {
   "cell_type": "markdown",
   "metadata": {},
   "source": [
    "# Correlation vs Causation\n",
    "Simpsons Paradox in the number of students entering majors in UC Berkeley\n",
    "Another example of lack of insight, is the confusion of correlation and causation\n",
    "\n",
    "Let's see an example where we may be tempted to reach the wrong conclusion\n",
    "\n",
    "*I am reminded* that we discussed the \"Admissions Case Study\" in Lesson 7, for which I didn't make a note?\n",
    "https://classroom.udacity.com/courses/st101/lessons/48759015/concepts/487550470923\n",
    "\n",
    "Oh yes I do have notes, they're just in the first section \n",
    "http://localhost:8888/notebooks/udacity_notes/st101__1_Visualizing_relationships_in_data__7_Admissions%20Case%20Study.ipynb"
   ]
  },
  {
   "cell_type": "markdown",
   "metadata": {},
   "source": [
    "I am reminded of the data for Simpsons paradox. In each of their Major, females  had higher rates of admission as a proportion of female applicants. But in total, (i.e. across all majors; ..sum() the panel...) , women were accepted at a lower rate. \n"
   ]
  },
  {
   "cell_type": "code",
   "execution_count": 8,
   "metadata": {
    "collapsed": false
   },
   "outputs": [
    {
     "data": {
      "text/html": [
       "<div>\n",
       "<table border=\"1\" class=\"dataframe\">\n",
       "  <thead>\n",
       "    <tr style=\"text-align: right;\">\n",
       "      <th></th>\n",
       "      <th>Female</th>\n",
       "      <th>Male</th>\n",
       "    </tr>\n",
       "  </thead>\n",
       "  <tbody>\n",
       "    <tr>\n",
       "      <th>Admitted</th>\n",
       "      <td>260</td>\n",
       "      <td>460</td>\n",
       "    </tr>\n",
       "    <tr>\n",
       "      <th>Applied</th>\n",
       "      <td>1000</td>\n",
       "      <td>1000</td>\n",
       "    </tr>\n",
       "  </tbody>\n",
       "</table>\n",
       "</div>"
      ],
      "text/plain": [
       "          Female  Male\n",
       "Admitted     260   460\n",
       "Applied     1000  1000"
      ]
     },
     "execution_count": 8,
     "metadata": {},
     "output_type": "execute_result"
    }
   ],
   "source": [
    "def admissions_3_panel():\n",
    "    return pd.Panel({'Male': pd.DataFrame({\n",
    "                    'Applied': pd.Series({'Major A': 900, 'Major B':100}), \n",
    "                    'Admitted': pd.Series({'Major A' : 450, 'Major B': 10})\n",
    "    }),\n",
    "                 'Female': pd.DataFrame({\n",
    "                     'Applied': pd.Series({'Major A' : 100, 'Major B': 900}),\n",
    "                     'Admitted': pd.Series({ 'Major A': 80, 'Major B': 180})\n",
    "                 })})\n",
    "    return panel\n",
    "admissions_3_panel().sum()"
   ]
  },
  {
   "cell_type": "code",
   "execution_count": 11,
   "metadata": {
    "collapsed": false
   },
   "outputs": [
    {
     "data": {
      "text/plain": [
       "Female    260\n",
       "Male      460\n",
       "Name: Admitted, dtype: int64"
      ]
     },
     "execution_count": 11,
     "metadata": {},
     "output_type": "execute_result"
    }
   ],
   "source": [
    "#There is no need to compare the denominator; the number of those who applied\n",
    "#in each gender, since those numbers are the same.\n",
    "#Lets just consider the numerator; look how many more men were admitted than women;\n",
    "admissions_3_panel().sum().loc['Admitted']\n",
    "# No need to consider denom / admissions_3_panel().sum().loc['Applied']"
   ]
  },
  {
   "cell_type": "markdown",
   "metadata": {},
   "source": [
    "So how can we explain this? \n",
    " \n",
    "1. Women were \"smarter\" about where they applied individually? Or however to characterize: avoiding \"high rates of rejection\" that might seem typical of a Major, given men's rates?\n",
    "2. The only reason Women were considered to be favored, is that they had higer rates a) in a low-rate-(< 50%) value case; (i.e. Major B: 10% men vs 20% women), where the numbe of women applied was very *high*; 900, and generally men applied very *low*. \"Beating\" an admission proportion for very few men is not very relevant. On the other hand, seeing as only 180 women were admitted; the *low-rate* effect on a large number, the .sum() doesn't do much for women in total\n",
    "3. \"If more women would apply to Major A instead of Major B, we wouldnt observe any difference, or we may see a *total* bias towards women as well!\"\n",
    "\n",
    "In the above case; we needed to *aggregate* (i.e. sum up *across* Majors) to see the true effect of lower-admission-rates-for-women.\n",
    "\n",
    "In this Correlation vs Causation lesson we look at a similar phenomenon , but it goes the other way; we gain insight by *subdividing* our population into groups: those who are sick and those who are healthy ( a much more likely cause of death); keep this in mind for when Sebastian distinguishes between 'Sick' and 'Healthy'"
   ]
  },
  {
   "cell_type": "markdown",
   "metadata": {},
   "source": [
    "In my above list, trying to understand Simpsons paradox, I suggested \"If theyd just pick one Major over another\". I wanted a real example so I could rationalize why someone might *prefer* one over another. I could only wonder if one Major were *more difficult* than the other. I can't be sure? (and even if I were, I don't want to speculate about a gender preference for *more difficult things* ?), but I realize *aggregating on a different axis* is another way of *ignoring* gender, to see simply admission rates in each Major. Major B has lower admission rate; you're ~~more than twice as likely~~ almost three times as likely (2.78) to get admitted to Major A than Major B."
   ]
  },
  {
   "cell_type": "code",
   "execution_count": 13,
   "metadata": {
    "collapsed": false
   },
   "outputs": [
    {
     "data": {
      "text/html": [
       "<div>\n",
       "<table border=\"1\" class=\"dataframe\">\n",
       "  <thead>\n",
       "    <tr style=\"text-align: right;\">\n",
       "      <th></th>\n",
       "      <th>Admitted</th>\n",
       "      <th>Applied</th>\n",
       "    </tr>\n",
       "  </thead>\n",
       "  <tbody>\n",
       "    <tr>\n",
       "      <th>Major A</th>\n",
       "      <td>530</td>\n",
       "      <td>1000</td>\n",
       "    </tr>\n",
       "    <tr>\n",
       "      <th>Major B</th>\n",
       "      <td>190</td>\n",
       "      <td>1000</td>\n",
       "    </tr>\n",
       "  </tbody>\n",
       "</table>\n",
       "</div>"
      ],
      "text/plain": [
       "         Admitted  Applied\n",
       "Major A       530     1000\n",
       "Major B       190     1000"
      ]
     },
     "execution_count": 13,
     "metadata": {},
     "output_type": "execute_result"
    }
   ],
   "source": [
    "admissions_3_panel().sum(axis=0)"
   ]
  },
  {
   "cell_type": "code",
   "execution_count": 14,
   "metadata": {
    "collapsed": false
   },
   "outputs": [
    {
     "data": {
      "text/plain": [
       "2.7894736842105261"
      ]
     },
     "execution_count": 14,
     "metadata": {},
     "output_type": "execute_result"
    }
   ],
   "source": [
    "admitted=admissions_3_panel().sum(axis=0)['Admitted']\n",
    "admitted['Major A'] / admitted['Major B']"
   ]
  },
  {
   "cell_type": "code",
   "execution_count": 23,
   "metadata": {
    "collapsed": false
   },
   "outputs": [],
   "source": [
    "hospital_vs_home = pd.DataFrame(index=('total', 'died'), data={'in hospital': [40, 4], 'at home': [8000, 20]}, columns=['in hospital', 'at home'])"
   ]
  },
  {
   "cell_type": "code",
   "execution_count": 24,
   "metadata": {
    "collapsed": false
   },
   "outputs": [
    {
     "data": {
      "text/html": [
       "<div>\n",
       "<table border=\"1\" class=\"dataframe\">\n",
       "  <thead>\n",
       "    <tr style=\"text-align: right;\">\n",
       "      <th></th>\n",
       "      <th>in hospital</th>\n",
       "      <th>at home</th>\n",
       "    </tr>\n",
       "  </thead>\n",
       "  <tbody>\n",
       "    <tr>\n",
       "      <th>total</th>\n",
       "      <td>40</td>\n",
       "      <td>8000</td>\n",
       "    </tr>\n",
       "    <tr>\n",
       "      <th>died</th>\n",
       "      <td>4</td>\n",
       "      <td>20</td>\n",
       "    </tr>\n",
       "  </tbody>\n",
       "</table>\n",
       "</div>"
      ],
      "text/plain": [
       "       in hospital  at home\n",
       "total           40     8000\n",
       "died             4       20"
      ]
     },
     "execution_count": 24,
     "metadata": {},
     "output_type": "execute_result"
    }
   ],
   "source": [
    "hospital_vs_home"
   ]
  },
  {
   "cell_type": "markdown",
   "metadata": {},
   "source": [
    "# Indexing in Pandas\n",
    "\n",
    "I keep getting confused on this, hopefully this helps me remember what to avoid:\n",
    "## Don't use `ix`, use `loc` or `iloc`\n",
    "## Don't use `(...)`, use `[ indexer ]`"
   ]
  },
  {
   "cell_type": "code",
   "execution_count": 25,
   "metadata": {
    "collapsed": false
   },
   "outputs": [
    {
     "data": {
      "text/plain": [
       "in hospital    0.1000\n",
       "at home        0.0025\n",
       "dtype: float64"
      ]
     },
     "execution_count": 25,
     "metadata": {},
     "output_type": "execute_result"
    }
   ],
   "source": [
    "hospital_vs_home.loc['died']/ hospital_vs_home.loc['total']"
   ]
  },
  {
   "cell_type": "code",
   "execution_count": 36,
   "metadata": {
    "collapsed": false
   },
   "outputs": [],
   "source": [
    "\n",
    "def quiz_mortality():\n",
    "    \"\"\"Compute for me the percentages of the people who died -- in the hospital, and at home\"\"\"\n",
    "    return (hospital_vs_home.loc['died']/ hospital_vs_home.loc['total'])"
   ]
  },
  {
   "cell_type": "code",
   "execution_count": 38,
   "metadata": {
    "collapsed": false
   },
   "outputs": [],
   "source": [
    "actual_values = quiz_mortality().values\n",
    "expected_values =  [0.1000, 0.0025]\n",
    "assertion_msg = 'Expect the [hospital death rate, at-home death rate] to be {} , but actual values were {}'.format(expected_values, actual_values)\n",
    "assert np.allclose(actual_values, expected_values), assertion_msg\n"
   ]
  },
  {
   "cell_type": "markdown",
   "metadata": {},
   "source": [
    "# Chances\n",
    "Chances of dying in a hospital are 40 times larger than the chances of dying at home?\n",
    "This is an illustration of correlation\n",
    "## Correlation\n",
    "See next example; 40 times larger:"
   ]
  },
  {
   "cell_type": "code",
   "execution_count": 39,
   "metadata": {
    "collapsed": false
   },
   "outputs": [
    {
     "data": {
      "text/plain": [
       "40.0"
      ]
     },
     "execution_count": 39,
     "metadata": {},
     "output_type": "execute_result"
    }
   ],
   "source": [
    "quiz_mortality()['in hospital'] / quiz_mortality()['at home']"
   ]
  },
  {
   "cell_type": "code",
   "execution_count": 40,
   "metadata": {
    "collapsed": true
   },
   "outputs": [],
   "source": [
    "def quiz_deciding():\n",
    "    \"\"\"As a smart statistics student, knowing your chances of dying in the hospital are higher, will you stay at home\"\"\"\n",
    "    #I cannot explain why I should answer False, except Sebastian seems to be setting us up to expect that:\n",
    "    return False"
   ]
  },
  {
   "cell_type": "markdown",
   "metadata": {},
   "source": [
    "# Difference in  Language: Correlation vs Causation\n",
    "## Correlation Statement\n",
    "\n",
    " > Chances of dying in a hospital are 40 times larger than at home\n",
    "\n",
    "## Causation statement\n",
    "\n",
    " > Being in a hospital --and being in a hospital alone, i.e. no other cause -- increaes your probability of dying by a factor of 40"
   ]
  },
  {
   "cell_type": "markdown",
   "metadata": {},
   "source": [
    "I'll admit I have a hard time understanding the semantic difference; can we get more precise language to describe it? Notice I added some hyphens around the part that is implied in \"Causation\"; Sebastian whispers it\n"
   ]
  },
  {
   "cell_type": "code",
   "execution_count": 15,
   "metadata": {
    "collapsed": true
   },
   "outputs": [],
   "source": [
    "sick_healthy_panel = pd.Panel({'in hospital': {\n",
    "    'total' : {\n",
    "        'sick': 36,\n",
    "        'healthy':4\n",
    "    },\n",
    "    'died': {\n",
    "        'sick':4,\n",
    "        'healthy':0\n",
    "    }\n",
    "},\n",
    "          'at home': {\n",
    "              'total' : {\n",
    "                  'sick': 40,\n",
    "                  'healthy': 7960\n",
    "              },\n",
    "              'died' : {\n",
    "                  'sick': 20,\n",
    "                  'healthy': 20\n",
    "              }\n",
    "          }\n",
    "         })"
   ]
  },
  {
   "cell_type": "code",
   "execution_count": 21,
   "metadata": {
    "collapsed": false
   },
   "outputs": [
    {
     "data": {
      "text/plain": [
       "<class 'pandas.core.panel.Panel'>\n",
       "Dimensions: 2 (items) x 2 (major_axis) x 2 (minor_axis)\n",
       "Items axis: at home to in hospital\n",
       "Major_axis axis: healthy to sick\n",
       "Minor_axis axis: died to total"
      ]
     },
     "execution_count": 21,
     "metadata": {},
     "output_type": "execute_result"
    }
   ],
   "source": [
    "sick_healthy_panel"
   ]
  },
  {
   "cell_type": "code",
   "execution_count": 23,
   "metadata": {
    "collapsed": true
   },
   "outputs": [],
   "source": []
  },
  {
   "cell_type": "code",
   "execution_count": 22,
   "metadata": {
    "collapsed": false
   },
   "outputs": [
    {
     "data": {
      "text/html": [
       "<div>\n",
       "<table border=\"1\" class=\"dataframe\">\n",
       "  <thead>\n",
       "    <tr style=\"text-align: right;\">\n",
       "      <th></th>\n",
       "      <th>at home</th>\n",
       "      <th>in hospital</th>\n",
       "    </tr>\n",
       "  </thead>\n",
       "  <tbody>\n",
       "    <tr>\n",
       "      <th>died</th>\n",
       "      <td>40</td>\n",
       "      <td>4</td>\n",
       "    </tr>\n",
       "    <tr>\n",
       "      <th>total</th>\n",
       "      <td>8000</td>\n",
       "      <td>40</td>\n",
       "    </tr>\n",
       "  </tbody>\n",
       "</table>\n",
       "</div>"
      ],
      "text/plain": [
       "       at home  in hospital\n",
       "died        40            4\n",
       "total     8000           40"
      ]
     },
     "execution_count": 22,
     "metadata": {},
     "output_type": "execute_result"
    }
   ],
   "source": [
    "sick_healthy_panel.sum()"
   ]
  },
  {
   "cell_type": "code",
   "execution_count": 19,
   "metadata": {
    "collapsed": true
   },
   "outputs": [],
   "source": [
    "sick_healthy_panel_df = pd.Panel({'in hospital': pd.DataFrame({\n",
    "    'total' : pd.Series({\n",
    "        'sick': 36,\n",
    "        'healthy':4\n",
    "    }),\n",
    "    'died': pd.Series({\n",
    "        'sick':4,\n",
    "        'healthy':0\n",
    "    })\n",
    "}),\n",
    "          'at home': pd.DataFrame({\n",
    "              'total' : pd.Series({\n",
    "                  'sick': 40,\n",
    "                  'healthy': 7960\n",
    "              }),\n",
    "              'died' : pd.Series({\n",
    "                  'sick': 20,\n",
    "                  'healthy': 20\n",
    "              })\n",
    "          })\n",
    "         })"
   ]
  },
  {
   "cell_type": "code",
   "execution_count": 20,
   "metadata": {
    "collapsed": false
   },
   "outputs": [
    {
     "data": {
      "text/html": [
       "<div>\n",
       "<table border=\"1\" class=\"dataframe\">\n",
       "  <thead>\n",
       "    <tr style=\"text-align: right;\">\n",
       "      <th></th>\n",
       "      <th>at home</th>\n",
       "      <th>in hospital</th>\n",
       "    </tr>\n",
       "  </thead>\n",
       "  <tbody>\n",
       "    <tr>\n",
       "      <th>died</th>\n",
       "      <td>40</td>\n",
       "      <td>4</td>\n",
       "    </tr>\n",
       "    <tr>\n",
       "      <th>total</th>\n",
       "      <td>8000</td>\n",
       "      <td>40</td>\n",
       "    </tr>\n",
       "  </tbody>\n",
       "</table>\n",
       "</div>"
      ],
      "text/plain": [
       "       at home  in hospital\n",
       "died        40            4\n",
       "total     8000           40"
      ]
     },
     "execution_count": 20,
     "metadata": {},
     "output_type": "execute_result"
    }
   ],
   "source": [
    "sick_healthy_panel_df.sum()"
   ]
  },
  {
   "cell_type": "markdown",
   "metadata": {},
   "source": [
    "So, lesson\n",
    "\n",
    "1. The highest level that you pass to panel, i.e. the first level of keys remains the \"lowest level\" how I think of the data structure; that is,  the index of the Series\n",
    "2. The lowest level therefore, is the highest data structure level; the \"frames\" of the panel\n",
    "3. The \"frames\" of the panel are the first to be summed when doing sick_healthy_panel.sum() and since were interested in distinguishing sick vs healthy, we gotta rearrange!\n",
    "4. The way Sebastians written it, it's hard to contort into sick first as the highest level (they are separate rows in separate tables), but the middle row is OK, I can always Transpose..."
   ]
  },
  {
   "cell_type": "code",
   "execution_count": null,
   "metadata": {
    "collapsed": true
   },
   "outputs": [],
   "source": [
    "sick_healthy_panel_p = pd.Panel({'in hospital': {\n",
    "    'sick' : {\n",
    "        'total': 36,\n",
    "        'died':4\n",
    "    },\n",
    "    'healthy': {\n",
    "        'total':4,\n",
    "        'died':0\n",
    "    }\n",
    "},\n",
    "          'at home': {\n",
    "              'sick' : {\n",
    "                  'total': 40,\n",
    "                  'died': 7960\n",
    "              },\n",
    "              'died' : {\n",
    "                  'sick': 20,\n",
    "                  'healthy': 20\n",
    "              }\n",
    "          }\n",
    "         })"
   ]
  }
 ],
 "metadata": {
  "kernelspec": {
   "display_name": "Python 3",
   "language": "python",
   "name": "python3"
  },
  "language_info": {
   "codemirror_mode": {
    "name": "ipython",
    "version": 3
   },
   "file_extension": ".py",
   "mimetype": "text/x-python",
   "name": "python",
   "nbconvert_exporter": "python",
   "pygments_lexer": "ipython3",
   "version": "3.6.0"
  }
 },
 "nbformat": 4,
 "nbformat_minor": 2
}
