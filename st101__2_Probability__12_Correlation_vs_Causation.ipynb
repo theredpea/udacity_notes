{
 "cells": [
  {
   "cell_type": "code",
   "execution_count": 1,
   "metadata": {
    "collapsed": true
   },
   "outputs": [],
   "source": [
    "import pandas as pd\n",
    "import numpy as np"
   ]
  },
  {
   "cell_type": "markdown",
   "metadata": {},
   "source": [
    "# Correlation vs Causation\n",
    "Simpsons Paradox in the number of students entering majors in UC Berkeley\n",
    "Another example of lack of insight, is the confusion of correlation and causation\n",
    "\n",
    "Let's see an example where we may be tempted to reach the wrong conclusion\n",
    "\n",
    "*I am reminded* that we discussed the \"Admissions Case Study\" in Lesson 7, for which I didn't make a note?\n",
    "https://classroom.udacity.com/courses/st101/lessons/48759015/concepts/487550470923\n",
    "\n",
    "Oh yes I do have notes, they're just in the first section \n",
    "http://localhost:8888/notebooks/udacity_notes/st101__1_Visualizing_relationships_in_data__7_Admissions%20Case%20Study.ipynb"
   ]
  },
  {
   "cell_type": "markdown",
   "metadata": {},
   "source": [
    "I am reminded of the data for Simpsons paradox. In each of their Major, females  had higher rates of admission as a proportion of female applicants. But in total, (i.e. across all majors; ..sum() the panel...) , women were accepted at a lower rate. \n"
   ]
  },
  {
   "cell_type": "code",
   "execution_count": 2,
   "metadata": {
    "collapsed": false
   },
   "outputs": [
    {
     "data": {
      "text/html": [
       "<div>\n",
       "<table border=\"1\" class=\"dataframe\">\n",
       "  <thead>\n",
       "    <tr style=\"text-align: right;\">\n",
       "      <th></th>\n",
       "      <th>Female</th>\n",
       "      <th>Male</th>\n",
       "    </tr>\n",
       "  </thead>\n",
       "  <tbody>\n",
       "    <tr>\n",
       "      <th>Admitted</th>\n",
       "      <td>260</td>\n",
       "      <td>460</td>\n",
       "    </tr>\n",
       "    <tr>\n",
       "      <th>Applied</th>\n",
       "      <td>1000</td>\n",
       "      <td>1000</td>\n",
       "    </tr>\n",
       "  </tbody>\n",
       "</table>\n",
       "</div>"
      ],
      "text/plain": [
       "          Female  Male\n",
       "Admitted     260   460\n",
       "Applied     1000  1000"
      ]
     },
     "execution_count": 2,
     "metadata": {},
     "output_type": "execute_result"
    }
   ],
   "source": [
    "def admissions_3_panel():\n",
    "    return pd.Panel({'Male': pd.DataFrame({\n",
    "                    'Applied': pd.Series({'Major A': 900, 'Major B':100}), \n",
    "                    'Admitted': pd.Series({'Major A' : 450, 'Major B': 10})\n",
    "    }),\n",
    "                 'Female': pd.DataFrame({\n",
    "                     'Applied': pd.Series({'Major A' : 100, 'Major B': 900}),\n",
    "                     'Admitted': pd.Series({ 'Major A': 80, 'Major B': 180})\n",
    "                 })})\n",
    "    return panel\n",
    "admissions_3_panel().sum()"
   ]
  },
  {
   "cell_type": "code",
   "execution_count": 3,
   "metadata": {
    "collapsed": false
   },
   "outputs": [
    {
     "data": {
      "text/plain": [
       "Female    260\n",
       "Male      460\n",
       "Name: Admitted, dtype: int64"
      ]
     },
     "execution_count": 3,
     "metadata": {},
     "output_type": "execute_result"
    }
   ],
   "source": [
    "#There is no need to compare the denominator; the number of those who applied\n",
    "#in each gender, since those numbers are the same.\n",
    "#Lets just consider the numerator; look how many more men were admitted than women;\n",
    "admissions_3_panel().sum().loc['Admitted']\n",
    "# No need to consider denom / admissions_3_panel().sum().loc['Applied']"
   ]
  },
  {
   "cell_type": "markdown",
   "metadata": {},
   "source": [
    "So how can we explain this? \n",
    " \n",
    "1. Women were \"smarter\" about where they applied individually? Or however to characterize: avoiding \"high rates of rejection\" that might seem typical of a Major, given men's rates?\n",
    "2. The only reason Women were considered to be favored, is that they had higer rates a) in a low-rate-(< 50%) value case; (i.e. Major B: 10% men vs 20% women), where the numbe of women applied was very *high*; 900, and generally men applied very *low*. \"Beating\" an admission proportion for very few men is not very relevant. On the other hand, seeing as only 180 women were admitted; the *low-rate* effect on a large number, the .sum() doesn't do much for women in total\n",
    "3. \"If more women would apply to Major A instead of Major B, we wouldnt observe any difference, or we may see a *total* bias towards women as well!\"\n",
    "\n",
    "In the above case; we needed to *aggregate* (i.e. sum up *across* Majors) to see the true effect of lower-admission-rates-for-women.\n",
    "\n",
    "In this Correlation vs Causation lesson we look at a similar phenomenon , but it goes the other way; we gain insight by *subdividing* our population into groups: those who are sick and those who are healthy ( a much more likely cause of death); keep this in mind for when Sebastian distinguishes between 'Sick' and 'Healthy'"
   ]
  },
  {
   "cell_type": "markdown",
   "metadata": {},
   "source": [
    "In my above list, trying to understand Simpsons paradox, I suggested \"If theyd just pick one Major over another\". I wanted a real example so I could rationalize why someone might *prefer* one over another. I could only wonder if one Major were *more difficult* than the other. I can't be sure? (and even if I were, I don't want to speculate about a gender preference for *more difficult things* ?), but I realize *aggregating on a different axis* is another way of *ignoring* gender, to see simply admission rates in each Major. Major B has lower admission rate; you're ~~more than twice as likely~~ almost three times as likely (2.78) to get admitted to Major A than Major B."
   ]
  },
  {
   "cell_type": "code",
   "execution_count": 4,
   "metadata": {
    "collapsed": false
   },
   "outputs": [
    {
     "data": {
      "text/html": [
       "<div>\n",
       "<table border=\"1\" class=\"dataframe\">\n",
       "  <thead>\n",
       "    <tr style=\"text-align: right;\">\n",
       "      <th></th>\n",
       "      <th>Admitted</th>\n",
       "      <th>Applied</th>\n",
       "    </tr>\n",
       "  </thead>\n",
       "  <tbody>\n",
       "    <tr>\n",
       "      <th>Major A</th>\n",
       "      <td>530</td>\n",
       "      <td>1000</td>\n",
       "    </tr>\n",
       "    <tr>\n",
       "      <th>Major B</th>\n",
       "      <td>190</td>\n",
       "      <td>1000</td>\n",
       "    </tr>\n",
       "  </tbody>\n",
       "</table>\n",
       "</div>"
      ],
      "text/plain": [
       "         Admitted  Applied\n",
       "Major A       530     1000\n",
       "Major B       190     1000"
      ]
     },
     "execution_count": 4,
     "metadata": {},
     "output_type": "execute_result"
    }
   ],
   "source": [
    "admissions_3_panel().sum(axis=0)"
   ]
  },
  {
   "cell_type": "code",
   "execution_count": 5,
   "metadata": {
    "collapsed": false
   },
   "outputs": [
    {
     "data": {
      "text/plain": [
       "2.7894736842105261"
      ]
     },
     "execution_count": 5,
     "metadata": {},
     "output_type": "execute_result"
    }
   ],
   "source": [
    "admitted=admissions_3_panel().sum(axis=0)['Admitted']\n",
    "admitted['Major A'] / admitted['Major B']"
   ]
  },
  {
   "cell_type": "code",
   "execution_count": 6,
   "metadata": {
    "collapsed": false
   },
   "outputs": [],
   "source": [
    "hospital_vs_home = pd.DataFrame(index=('total', 'died'), data={'in hospital': [40, 4], 'at home': [8000, 20]}, columns=['in hospital', 'at home'])"
   ]
  },
  {
   "cell_type": "code",
   "execution_count": 7,
   "metadata": {
    "collapsed": false
   },
   "outputs": [
    {
     "data": {
      "text/html": [
       "<div>\n",
       "<table border=\"1\" class=\"dataframe\">\n",
       "  <thead>\n",
       "    <tr style=\"text-align: right;\">\n",
       "      <th></th>\n",
       "      <th>in hospital</th>\n",
       "      <th>at home</th>\n",
       "    </tr>\n",
       "  </thead>\n",
       "  <tbody>\n",
       "    <tr>\n",
       "      <th>total</th>\n",
       "      <td>40</td>\n",
       "      <td>8000</td>\n",
       "    </tr>\n",
       "    <tr>\n",
       "      <th>died</th>\n",
       "      <td>4</td>\n",
       "      <td>20</td>\n",
       "    </tr>\n",
       "  </tbody>\n",
       "</table>\n",
       "</div>"
      ],
      "text/plain": [
       "       in hospital  at home\n",
       "total           40     8000\n",
       "died             4       20"
      ]
     },
     "execution_count": 7,
     "metadata": {},
     "output_type": "execute_result"
    }
   ],
   "source": [
    "hospital_vs_home"
   ]
  },
  {
   "cell_type": "markdown",
   "metadata": {},
   "source": [
    "# Indexing in Pandas\n",
    "\n",
    "I keep getting confused on this, hopefully this helps me remember what to avoid:\n",
    "## Don't use `ix`, use `loc` or `iloc`\n",
    "## Don't use `(...)`, use `[ indexer ]`"
   ]
  },
  {
   "cell_type": "code",
   "execution_count": 8,
   "metadata": {
    "collapsed": false
   },
   "outputs": [
    {
     "data": {
      "text/plain": [
       "in hospital    0.1000\n",
       "at home        0.0025\n",
       "dtype: float64"
      ]
     },
     "execution_count": 8,
     "metadata": {},
     "output_type": "execute_result"
    }
   ],
   "source": [
    "hospital_vs_home.loc['died']/ hospital_vs_home.loc['total']"
   ]
  },
  {
   "cell_type": "code",
   "execution_count": 9,
   "metadata": {
    "collapsed": false
   },
   "outputs": [],
   "source": [
    "\n",
    "def quiz_mortality():\n",
    "    \"\"\"Compute for me the percentages of the people who died -- in the hospital, and at home\"\"\"\n",
    "    return (hospital_vs_home.loc['died']/ hospital_vs_home.loc['total'])"
   ]
  },
  {
   "cell_type": "code",
   "execution_count": 10,
   "metadata": {
    "collapsed": false
   },
   "outputs": [],
   "source": [
    "actual_values = quiz_mortality().values\n",
    "expected_values =  [0.1000, 0.0025]\n",
    "assertion_msg = 'Expect the [hospital death rate, at-home death rate] to be {} , but actual values were {}'.format(expected_values, actual_values)\n",
    "assert np.allclose(actual_values, expected_values), assertion_msg\n"
   ]
  },
  {
   "cell_type": "markdown",
   "metadata": {},
   "source": [
    "# Chances\n",
    "Chances of dying in a hospital are 40 times larger than the chances of dying at home?\n",
    "This is an illustration of correlation\n",
    "## Correlation\n",
    "See next example; 40 times larger:"
   ]
  },
  {
   "cell_type": "code",
   "execution_count": 11,
   "metadata": {
    "collapsed": false
   },
   "outputs": [
    {
     "data": {
      "text/plain": [
       "40.0"
      ]
     },
     "execution_count": 11,
     "metadata": {},
     "output_type": "execute_result"
    }
   ],
   "source": [
    "quiz_mortality()['in hospital'] / quiz_mortality()['at home']"
   ]
  },
  {
   "cell_type": "code",
   "execution_count": 12,
   "metadata": {
    "collapsed": true
   },
   "outputs": [],
   "source": [
    "def quiz_deciding():\n",
    "    \"\"\"As a smart statistics student, knowing your chances of dying in the hospital are higher, will you stay at home\"\"\"\n",
    "    #I cannot explain why I should answer False, except Sebastian seems to be setting us up to expect that:\n",
    "    return False"
   ]
  },
  {
   "cell_type": "markdown",
   "metadata": {},
   "source": [
    "# Difference in  Language: Correlation vs Causation\n",
    "## Correlation Statement\n",
    "\n",
    " > Chances of dying in a hospital are 40 times larger than at home\n",
    "\n",
    "## Causation statement\n",
    "\n",
    " > Being in a hospital --and being in a hospital alone, i.e. no other cause -- increaes your probability of dying by a factor of 40"
   ]
  },
  {
   "cell_type": "markdown",
   "metadata": {},
   "source": [
    "I'll admit I have a hard time understanding the semantic difference; can we get more precise language to describe it? Notice I added some hyphens around the part that is implied in \"Causation\"; Sebastian whispers it\n"
   ]
  },
  {
   "cell_type": "code",
   "execution_count": 13,
   "metadata": {
    "collapsed": true
   },
   "outputs": [],
   "source": [
    "sick_healthy_panel = pd.Panel({'in hospital': {\n",
    "    'total' : {\n",
    "        'sick': 36,\n",
    "        'healthy':4\n",
    "    },\n",
    "    'died': {\n",
    "        'sick':4,\n",
    "        'healthy':0\n",
    "    }\n",
    "},\n",
    "          'at home': {\n",
    "              'total' : {\n",
    "                  'sick': 40,\n",
    "                  'healthy': 7960\n",
    "              },\n",
    "              'died' : {\n",
    "                  'sick': 20,\n",
    "                  'healthy': 20\n",
    "              }\n",
    "          }\n",
    "         })"
   ]
  },
  {
   "cell_type": "code",
   "execution_count": 14,
   "metadata": {
    "collapsed": false
   },
   "outputs": [
    {
     "data": {
      "text/plain": [
       "<class 'pandas.core.panel.Panel'>\n",
       "Dimensions: 2 (items) x 2 (major_axis) x 2 (minor_axis)\n",
       "Items axis: at home to in hospital\n",
       "Major_axis axis: healthy to sick\n",
       "Minor_axis axis: died to total"
      ]
     },
     "execution_count": 14,
     "metadata": {},
     "output_type": "execute_result"
    }
   ],
   "source": [
    "sick_healthy_panel"
   ]
  },
  {
   "cell_type": "code",
   "execution_count": 15,
   "metadata": {
    "collapsed": false
   },
   "outputs": [
    {
     "data": {
      "text/html": [
       "<div>\n",
       "<table border=\"1\" class=\"dataframe\">\n",
       "  <thead>\n",
       "    <tr style=\"text-align: right;\">\n",
       "      <th></th>\n",
       "      <th>at home</th>\n",
       "      <th>in hospital</th>\n",
       "    </tr>\n",
       "  </thead>\n",
       "  <tbody>\n",
       "    <tr>\n",
       "      <th>died</th>\n",
       "      <td>40</td>\n",
       "      <td>4</td>\n",
       "    </tr>\n",
       "    <tr>\n",
       "      <th>total</th>\n",
       "      <td>8000</td>\n",
       "      <td>40</td>\n",
       "    </tr>\n",
       "  </tbody>\n",
       "</table>\n",
       "</div>"
      ],
      "text/plain": [
       "       at home  in hospital\n",
       "died        40            4\n",
       "total     8000           40"
      ]
     },
     "execution_count": 15,
     "metadata": {},
     "output_type": "execute_result"
    }
   ],
   "source": [
    "sick_healthy_panel.sum()"
   ]
  },
  {
   "cell_type": "markdown",
   "metadata": {},
   "source": [
    "This not the dataframe I expected; it erased the \"subdivision\" between sick and healthy! Let me try using pd.Series and pd.DataFrame:"
   ]
  },
  {
   "cell_type": "code",
   "execution_count": 16,
   "metadata": {
    "collapsed": true
   },
   "outputs": [],
   "source": [
    "sick_healthy_panel_df = pd.Panel({'in hospital': pd.DataFrame({\n",
    "    'total' : pd.Series({\n",
    "        'sick': 36,\n",
    "        'healthy':4\n",
    "    }),\n",
    "    'died': pd.Series({\n",
    "        'sick':4,\n",
    "        'healthy':0\n",
    "    })\n",
    "}),\n",
    "          'at home': pd.DataFrame({\n",
    "              'total' : pd.Series({\n",
    "                  'sick': 40,\n",
    "                  'healthy': 7960\n",
    "              }),\n",
    "              'died' : pd.Series({\n",
    "                  'sick': 20,\n",
    "                  'healthy': 20\n",
    "              })\n",
    "          })\n",
    "         })"
   ]
  },
  {
   "cell_type": "code",
   "execution_count": 17,
   "metadata": {
    "collapsed": false
   },
   "outputs": [
    {
     "data": {
      "text/html": [
       "<div>\n",
       "<table border=\"1\" class=\"dataframe\">\n",
       "  <thead>\n",
       "    <tr style=\"text-align: right;\">\n",
       "      <th></th>\n",
       "      <th>at home</th>\n",
       "      <th>in hospital</th>\n",
       "    </tr>\n",
       "  </thead>\n",
       "  <tbody>\n",
       "    <tr>\n",
       "      <th>died</th>\n",
       "      <td>40</td>\n",
       "      <td>4</td>\n",
       "    </tr>\n",
       "    <tr>\n",
       "      <th>total</th>\n",
       "      <td>8000</td>\n",
       "      <td>40</td>\n",
       "    </tr>\n",
       "  </tbody>\n",
       "</table>\n",
       "</div>"
      ],
      "text/plain": [
       "       at home  in hospital\n",
       "died        40            4\n",
       "total     8000           40"
      ]
     },
     "execution_count": 17,
     "metadata": {},
     "output_type": "execute_result"
    }
   ],
   "source": [
    "sick_healthy_panel_df.sum()"
   ]
  },
  {
   "cell_type": "markdown",
   "metadata": {},
   "source": [
    "Still no! So, lesson\n",
    "\n",
    "1. The highest level of keys (in dictionary hierarchy) corresponds to  the \"lowest level\" in terms of the data structure; the lowest level becomes column headers, which are also the \n",
    " 1. Then there is the question of the order they are summed: the column headers are the  **last** level to be summed... a bit counterintuitive for me...\n",
    " 2. And the question of the order we access them in index...\n",
    "2. The lowest level key in dictionary, is the highest data structure level; the \"frames\" of the panel...\n",
    "3. The \"frames\" of the panel are the **first** to be summed when doing sick_healthy_panel.sum() and since were interested in distinguishing sick vs healthy, we gotta rearrange!\n",
    "4. The way Sebastians written it, it's hard to contort into sick first as the highest level (they are separate rows in separate tables), but the middle row is OK, I can always Transpose a DataFrame, can I pivot the panel too?...\n",
    "\n",
    "\n",
    "5. No need to use pd.DataFrame or pd.Series except that it helps me be *sure/explicit* of what the values will come to represent; just remember the \"top-to-bottom, bottom-to-top\" discussed above"
   ]
  },
  {
   "cell_type": "code",
   "execution_count": 18,
   "metadata": {
    "collapsed": true
   },
   "outputs": [],
   "source": [
    "sick_healthy_panel_p = pd.Panel({'in hospital': {\n",
    "    'sick' : {\n",
    "        'total': 36,\n",
    "        'died':4\n",
    "    },\n",
    "    'healthy': {\n",
    "        'total':4,\n",
    "        'died':0\n",
    "    }\n",
    "},\n",
    "          'at home': {\n",
    "              'sick' : {\n",
    "                  'total': 40,\n",
    "                  'died': 20\n",
    "              },\n",
    "              'healthy' : {\n",
    "                  'total': 7960,\n",
    "                  'died': 20\n",
    "              }\n",
    "          }\n",
    "         })"
   ]
  },
  {
   "cell_type": "code",
   "execution_count": 19,
   "metadata": {
    "collapsed": false
   },
   "outputs": [
    {
     "data": {
      "text/html": [
       "<div>\n",
       "<table border=\"1\" class=\"dataframe\">\n",
       "  <thead>\n",
       "    <tr style=\"text-align: right;\">\n",
       "      <th></th>\n",
       "      <th>at home</th>\n",
       "      <th>in hospital</th>\n",
       "    </tr>\n",
       "  </thead>\n",
       "  <tbody>\n",
       "    <tr>\n",
       "      <th>healthy</th>\n",
       "      <td>7980</td>\n",
       "      <td>4</td>\n",
       "    </tr>\n",
       "    <tr>\n",
       "      <th>sick</th>\n",
       "      <td>60</td>\n",
       "      <td>40</td>\n",
       "    </tr>\n",
       "  </tbody>\n",
       "</table>\n",
       "</div>"
      ],
      "text/plain": [
       "         at home  in hospital\n",
       "healthy     7980            4\n",
       "sick          60           40"
      ]
     },
     "execution_count": 19,
     "metadata": {},
     "output_type": "execute_result"
    }
   ],
   "source": [
    "sick_healthy_panel_p.sum()"
   ]
  },
  {
   "cell_type": "code",
   "execution_count": 20,
   "metadata": {
    "collapsed": false
   },
   "outputs": [
    {
     "data": {
      "text/html": [
       "<div>\n",
       "<table border=\"1\" class=\"dataframe\">\n",
       "  <thead>\n",
       "    <tr style=\"text-align: right;\">\n",
       "      <th></th>\n",
       "      <th>healthy</th>\n",
       "      <th>sick</th>\n",
       "    </tr>\n",
       "  </thead>\n",
       "  <tbody>\n",
       "    <tr>\n",
       "      <th>at home</th>\n",
       "      <td>7980</td>\n",
       "      <td>60</td>\n",
       "    </tr>\n",
       "    <tr>\n",
       "      <th>in hospital</th>\n",
       "      <td>4</td>\n",
       "      <td>40</td>\n",
       "    </tr>\n",
       "  </tbody>\n",
       "</table>\n",
       "</div>"
      ],
      "text/plain": [
       "             healthy  sick\n",
       "at home         7980    60\n",
       "in hospital        4    40"
      ]
     },
     "execution_count": 20,
     "metadata": {},
     "output_type": "execute_result"
    }
   ],
   "source": [
    "sick_healthy_panel_p.sum().T"
   ]
  },
  {
   "cell_type": "markdown",
   "metadata": {},
   "source": [
    "# Ugh! Wrong again...\n",
    "I dont want to *add together* total + died; that distinction must be preserved to the last sum()! \n",
    "So I guess I'll bite the bullet and arrange these in order from most important to least important, which are, in order:\n",
    " 1. total vs died\n",
    " 2. sick vs healthy\n",
    " 3. *then* hospital vs home (which we consider a confounder, or whatever its called)\n",
    "\n",
    " --- \n",
    " (notice, the first two items could lead us to insights; i.e. that we suspect they died because they are sick. In other words, lower-dimensionalizing (from Panel to Dataframe) helps us investigate specific relationships)"
   ]
  },
  {
   "cell_type": "code",
   "execution_count": 33,
   "metadata": {
    "collapsed": true
   },
   "outputs": [],
   "source": [
    "sick_healthy_panel_f = pd.Panel({'total': {\n",
    "    'sick' : {\n",
    "        'in hospital': 36,\n",
    "        'at home':40\n",
    "    },\n",
    "    'healthy': {\n",
    "        'in hospital':4,\n",
    "        'at home':7960\n",
    "    }\n",
    "},\n",
    "          'died': {\n",
    "              'sick' : {\n",
    "                  'in hospital': 4,\n",
    "                  'at home': 20\n",
    "              },\n",
    "              'healthy' : {\n",
    "                  'in hospital': 0,\n",
    "                  'at home': 20\n",
    "              }\n",
    "          }\n",
    "         })"
   ]
  },
  {
   "cell_type": "code",
   "execution_count": 32,
   "metadata": {
    "collapsed": false
   },
   "outputs": [
    {
     "data": {
      "text/html": [
       "<div>\n",
       "<table border=\"1\" class=\"dataframe\">\n",
       "  <thead>\n",
       "    <tr style=\"text-align: right;\">\n",
       "      <th></th>\n",
       "      <th>died</th>\n",
       "      <th>total</th>\n",
       "    </tr>\n",
       "  </thead>\n",
       "  <tbody>\n",
       "    <tr>\n",
       "      <th>healthy</th>\n",
       "      <td>20</td>\n",
       "      <td>7964</td>\n",
       "    </tr>\n",
       "    <tr>\n",
       "      <th>sick</th>\n",
       "      <td>24</td>\n",
       "      <td>76</td>\n",
       "    </tr>\n",
       "  </tbody>\n",
       "</table>\n",
       "</div>"
      ],
      "text/plain": [
       "         died  total\n",
       "healthy    20   7964\n",
       "sick       24     76"
      ]
     },
     "execution_count": 32,
     "metadata": {},
     "output_type": "execute_result"
    }
   ],
   "source": [
    "#Oops, but died and total become the columns...\n",
    "sick_healthy_panel_f.sum()\n",
    "#It does *not* become what I thought it would;\n",
    "#I thought.... died and total would be Series index; changed my verbiage above\n",
    "#However, sum() sums across Series index before it Sums across Columns, so\n",
    "#sum also doesnt behave as I expect... meaning the sum().sum() still\n",
    "#preserves died/total distinction to the end:"
   ]
  },
  {
   "cell_type": "code",
   "execution_count": 34,
   "metadata": {
    "collapsed": false
   },
   "outputs": [
    {
     "data": {
      "text/plain": [
       "died       44\n",
       "total    8040\n",
       "dtype: int64"
      ]
     },
     "execution_count": 34,
     "metadata": {},
     "output_type": "execute_result"
    }
   ],
   "source": [
    "\n",
    "sick_healthy_panel_f.sum().sum()"
   ]
  },
  {
   "cell_type": "code",
   "execution_count": 35,
   "metadata": {
    "collapsed": false
   },
   "outputs": [
    {
     "data": {
      "text/html": [
       "<div>\n",
       "<table border=\"1\" class=\"dataframe\">\n",
       "  <thead>\n",
       "    <tr style=\"text-align: right;\">\n",
       "      <th></th>\n",
       "      <th>healthy</th>\n",
       "      <th>sick</th>\n",
       "    </tr>\n",
       "  </thead>\n",
       "  <tbody>\n",
       "    <tr>\n",
       "      <th>at home</th>\n",
       "      <td>20</td>\n",
       "      <td>20</td>\n",
       "    </tr>\n",
       "    <tr>\n",
       "      <th>in hospital</th>\n",
       "      <td>0</td>\n",
       "      <td>4</td>\n",
       "    </tr>\n",
       "  </tbody>\n",
       "</table>\n",
       "</div>"
      ],
      "text/plain": [
       "             healthy  sick\n",
       "at home           20    20\n",
       "in hospital        0     4"
      ]
     },
     "execution_count": 35,
     "metadata": {},
     "output_type": "execute_result"
    }
   ],
   "source": [
    "sick_healthy_panel_f['died']"
   ]
  },
  {
   "cell_type": "code",
   "execution_count": 24,
   "metadata": {
    "collapsed": true
   },
   "outputs": [],
   "source": [
    "from IPython.core.display import display, HTML\n"
   ]
  },
  {
   "cell_type": "code",
   "execution_count": 25,
   "metadata": {
    "collapsed": false
   },
   "outputs": [],
   "source": [
    "def considering_health():\n",
    "    \"\"\"\n",
    "    Please now fill out in percent, what is the percentage\n",
    "    of people that passed away, in each of the four columns\n",
    "    Using the order-of-indexing, which actually accept indexers \n",
    "    over your *Items* axis: Items axis: died to total, *first*\n",
    "    Even though those are the *last* to be summed.\n",
    "    Then uses a neat stack trick to print them in order Sebastian\n",
    "    asks for them\n",
    "    https://pandas.pydata.org/pandas-docs/stable/generated/pandas.DataFrame.stack.html\n",
    "    Adn then formats them properly, how nice!\n",
    "    https://stackoverflow.com/a/36175424/1175496\n",
    "    \"\"\"\n",
    "    fractions = sick_healthy_panel_f['died']/sick_healthy_panel_f['total']\n",
    "    \n",
    "    stack = fractions.stack()\n",
    "    \n",
    "    #Slight tweak using the `float_format` arg instead of `formatters` arg\n",
    "    float_format='{:,.2%}'.format\n",
    "    #html = stack.to_html(float_format=float_format)\n",
    "    \n",
    "    #display(HTML(html))\n",
    "    #darn, stack() creates a series\n",
    "    #AttributeError: 'Series' object has no attribute 'to_html'\n",
    "    \n",
    "    html = pd.DataFrame(data=stack).to_html(float_format=float_format)\n",
    "    #TODO: Order propertly: 1) in hospital, then at home 2) sick, then healthy\n",
    "    #Currently both are backwards\n",
    "    \n",
    "    #TODO: Create the mult-index into actual data values, and a new index which\n",
    "    #doesnt matter, and rename columns \"at-home vs hospital\", \"healthy vs sick\" and \"pct died\"\n",
    "    display(HTML(html))\n",
    "    "
   ]
  },
  {
   "cell_type": "code",
   "execution_count": 26,
   "metadata": {
    "collapsed": false,
    "scrolled": true
   },
   "outputs": [
    {
     "data": {
      "text/html": [
       "<table border=\"1\" class=\"dataframe\">\n",
       "  <thead>\n",
       "    <tr style=\"text-align: right;\">\n",
       "      <th></th>\n",
       "      <th></th>\n",
       "      <th>0</th>\n",
       "    </tr>\n",
       "  </thead>\n",
       "  <tbody>\n",
       "    <tr>\n",
       "      <th rowspan=\"2\" valign=\"top\">at home</th>\n",
       "      <th>healthy</th>\n",
       "      <td>0.25%</td>\n",
       "    </tr>\n",
       "    <tr>\n",
       "      <th>sick</th>\n",
       "      <td>50.00%</td>\n",
       "    </tr>\n",
       "    <tr>\n",
       "      <th rowspan=\"2\" valign=\"top\">in hospital</th>\n",
       "      <th>healthy</th>\n",
       "      <td>0.00%</td>\n",
       "    </tr>\n",
       "    <tr>\n",
       "      <th>sick</th>\n",
       "      <td>11.11%</td>\n",
       "    </tr>\n",
       "  </tbody>\n",
       "</table>"
      ],
      "text/plain": [
       "<IPython.core.display.HTML object>"
      ]
     },
     "metadata": {},
     "output_type": "display_data"
    }
   ],
   "source": [
    "considering_health()"
   ]
  },
  {
   "cell_type": "code",
   "execution_count": 27,
   "metadata": {
    "collapsed": false
   },
   "outputs": [
    {
     "data": {
      "text/plain": [
       "<class 'pandas.core.panel.Panel'>\n",
       "Dimensions: 2 (items) x 2 (major_axis) x 2 (minor_axis)\n",
       "Items axis: died to total\n",
       "Major_axis axis: at home to in hospital\n",
       "Minor_axis axis: healthy to sick"
      ]
     },
     "execution_count": 27,
     "metadata": {},
     "output_type": "execute_result"
    }
   ],
   "source": [
    "sick_healthy_panel_f"
   ]
  },
  {
   "cell_type": "code",
   "execution_count": 28,
   "metadata": {
    "collapsed": false
   },
   "outputs": [
    {
     "data": {
      "text/html": [
       "<div>\n",
       "<table border=\"1\" class=\"dataframe\">\n",
       "  <thead>\n",
       "    <tr style=\"text-align: right;\">\n",
       "      <th></th>\n",
       "      <th>died</th>\n",
       "      <th>total</th>\n",
       "    </tr>\n",
       "  </thead>\n",
       "  <tbody>\n",
       "    <tr>\n",
       "      <th>healthy</th>\n",
       "      <td>20</td>\n",
       "      <td>7964</td>\n",
       "    </tr>\n",
       "    <tr>\n",
       "      <th>sick</th>\n",
       "      <td>24</td>\n",
       "      <td>76</td>\n",
       "    </tr>\n",
       "  </tbody>\n",
       "</table>\n",
       "</div>"
      ],
      "text/plain": [
       "         died  total\n",
       "healthy    20   7964\n",
       "sick       24     76"
      ]
     },
     "execution_count": 28,
     "metadata": {},
     "output_type": "execute_result"
    }
   ],
   "source": [
    "sick_healthy_panel_f.sum()"
   ]
  },
  {
   "cell_type": "code",
   "execution_count": 39,
   "metadata": {
    "collapsed": false
   },
   "outputs": [
    {
     "data": {
      "text/html": [
       "<div>\n",
       "<table border=\"1\" class=\"dataframe\">\n",
       "  <thead>\n",
       "    <tr style=\"text-align: right;\">\n",
       "      <th></th>\n",
       "      <th>healthy</th>\n",
       "      <th>sick</th>\n",
       "    </tr>\n",
       "  </thead>\n",
       "  <tbody>\n",
       "    <tr>\n",
       "      <th>at home</th>\n",
       "      <td>20</td>\n",
       "      <td>20</td>\n",
       "    </tr>\n",
       "    <tr>\n",
       "      <th>in hospital</th>\n",
       "      <td>0</td>\n",
       "      <td>4</td>\n",
       "    </tr>\n",
       "  </tbody>\n",
       "</table>\n",
       "</div>"
      ],
      "text/plain": [
       "             healthy  sick\n",
       "at home           20    20\n",
       "in hospital        0     4"
      ]
     },
     "execution_count": 39,
     "metadata": {},
     "output_type": "execute_result"
    }
   ],
   "source": [
    "#So thats the effect for summing, which is nice\n",
    "#And then, for convenience, indexing goes in order of the dictionary depth (total/died - sick/health - home/hospital)\n",
    "#Which, I realize, is called:\n",
    "#Items total/died\n",
    "#Major sick/health\n",
    "#Minor home/hospital\n",
    "#Which, remember, the summing is:\n",
    "#Major is summed *first* ! \n",
    "#*then* Minor \n",
    "#*then* Items\n",
    "sick_healthy_panel_f\n",
    "sick_healthy_panel_f['died',:,:]"
   ]
  },
  {
   "cell_type": "code",
   "execution_count": 42,
   "metadata": {
    "collapsed": false
   },
   "outputs": [
    {
     "data": {
      "text/html": [
       "<div>\n",
       "<table border=\"1\" class=\"dataframe\">\n",
       "  <thead>\n",
       "    <tr style=\"text-align: right;\">\n",
       "      <th></th>\n",
       "      <th>died</th>\n",
       "      <th>total</th>\n",
       "    </tr>\n",
       "  </thead>\n",
       "  <tbody>\n",
       "    <tr>\n",
       "      <th>healthy</th>\n",
       "      <td>20</td>\n",
       "      <td>7960</td>\n",
       "    </tr>\n",
       "    <tr>\n",
       "      <th>sick</th>\n",
       "      <td>20</td>\n",
       "      <td>40</td>\n",
       "    </tr>\n",
       "  </tbody>\n",
       "</table>\n",
       "</div>"
      ],
      "text/plain": [
       "         died  total\n",
       "healthy    20   7960\n",
       "sick       20     40"
      ]
     },
     "execution_count": 42,
     "metadata": {},
     "output_type": "execute_result"
    }
   ],
   "source": [
    "\n",
    "sick_healthy_panel_f[:,'at home',:]"
   ]
  },
  {
   "cell_type": "code",
   "execution_count": 43,
   "metadata": {
    "collapsed": false
   },
   "outputs": [
    {
     "data": {
      "text/html": [
       "<div>\n",
       "<table border=\"1\" class=\"dataframe\">\n",
       "  <thead>\n",
       "    <tr style=\"text-align: right;\">\n",
       "      <th></th>\n",
       "      <th>died</th>\n",
       "      <th>total</th>\n",
       "    </tr>\n",
       "  </thead>\n",
       "  <tbody>\n",
       "    <tr>\n",
       "      <th>at home</th>\n",
       "      <td>20</td>\n",
       "      <td>7960</td>\n",
       "    </tr>\n",
       "    <tr>\n",
       "      <th>in hospital</th>\n",
       "      <td>0</td>\n",
       "      <td>4</td>\n",
       "    </tr>\n",
       "  </tbody>\n",
       "</table>\n",
       "</div>"
      ],
      "text/plain": [
       "             died  total\n",
       "at home        20   7960\n",
       "in hospital     0      4"
      ]
     },
     "execution_count": 43,
     "metadata": {},
     "output_type": "execute_result"
    }
   ],
   "source": [
    "\n",
    "sick_healthy_panel_f[:,:,'healthy']"
   ]
  },
  {
   "cell_type": "markdown",
   "metadata": {},
   "source": [
    "# Tying it together\n",
    "**Axis** : What is it called when you print(sick_healthy_panel_f) i.e. `Dimensions: 2 (items) x 2 (major_axis) x 2 (minor_axis)`\n",
    "**Sample** : The possible values for that axis\n",
    "**Dict Depth**: How deep in the dict I passed them; { 1: { 2: { 3 ...\n",
    "**First/Second Sum Result** : What this axis becomes *after* summing for the _nth_ time\n",
    "\n",
    "Two things I can't reconcile:\n",
    "## I'll call it the \"Axis\" style\n",
    "**Axis** and **Index Order** are consistent; in other words your slices must come from these respective axes: `[items, major, minor]`\n",
    "## I'll call it the \"Depth\" style\n",
    "**Dict Depth** and **Sum Order** are opposite from each other; reverse direction. Despite being in reverse,  I still consider both of the same \"style\" (i.e. imaging instead of \"Dict Depth\" I called it \"Number of Generations of Ancestors\", it would be \"3, 2, 1\", in the same order as Sum Order.\n",
    "\n",
    "But Axis and Depth don't reconcile; **Dict Depth** Depth Style [for summing] ( 1,2,3 -> 3,2,1 ) ---doesn't map to --- Axis Style [for indexing ] 1,3,2\n"
   ]
  },
  {
   "cell_type": "markdown",
   "metadata": {},
   "source": [
    "| Axis  | Sample        | Dict Depth | Sum Order | First Sum Result | Second Sum Result | Index Order | Index Example                         |\n",
    "|-------|---------------|------------|-----------|------------------|-------------------|-------------|---------------------------------------|\n",
    "| Items | died/total    | 1          | 3         | Columns          | Series/Index      | 1           | sick_healthy_panel_f['died',:,:]      |\n",
    "| Minor | healthy/sick  | 2          | 2         | Series/Index     | N/A               | 3           | sick_healthy_panel_f[:,:,'healthy']   |\n",
    "| Major | home/hospital | 3          | 1         | N/A              | N/A               | 2           | sick_healthy_panel_f[:,'at   home',:] |"
   ]
  },
  {
   "cell_type": "code",
   "execution_count": 45,
   "metadata": {
    "collapsed": false
   },
   "outputs": [
    {
     "ename": "KeyError",
     "evalue": "0",
     "output_type": "error",
     "traceback": [
      "\u001b[0;31m---------------------------------------------------------------------------\u001b[0m",
      "\u001b[0;31mKeyError\u001b[0m                                  Traceback (most recent call last)",
      "\u001b[0;32mC:\\Users\\nnd\\AppData\\Local\\Continuum\\Anaconda3\\lib\\site-packages\\pandas\\indexes\\base.py\u001b[0m in \u001b[0;36mget_loc\u001b[0;34m(self, key, method, tolerance)\u001b[0m\n\u001b[1;32m   2133\u001b[0m             \u001b[1;32mtry\u001b[0m\u001b[1;33m:\u001b[0m\u001b[1;33m\u001b[0m\u001b[0m\n\u001b[0;32m-> 2134\u001b[0;31m                 \u001b[1;32mreturn\u001b[0m \u001b[0mself\u001b[0m\u001b[1;33m.\u001b[0m\u001b[0m_engine\u001b[0m\u001b[1;33m.\u001b[0m\u001b[0mget_loc\u001b[0m\u001b[1;33m(\u001b[0m\u001b[0mkey\u001b[0m\u001b[1;33m)\u001b[0m\u001b[1;33m\u001b[0m\u001b[0m\n\u001b[0m\u001b[1;32m   2135\u001b[0m             \u001b[1;32mexcept\u001b[0m \u001b[0mKeyError\u001b[0m\u001b[1;33m:\u001b[0m\u001b[1;33m\u001b[0m\u001b[0m\n",
      "\u001b[0;32mpandas\\index.pyx\u001b[0m in \u001b[0;36mpandas.index.IndexEngine.get_loc (pandas\\index.c:4433)\u001b[0;34m()\u001b[0m\n",
      "\u001b[0;32mpandas\\index.pyx\u001b[0m in \u001b[0;36mpandas.index.IndexEngine.get_loc (pandas\\index.c:4279)\u001b[0;34m()\u001b[0m\n",
      "\u001b[0;32mpandas\\src\\hashtable_class_helper.pxi\u001b[0m in \u001b[0;36mpandas.hashtable.PyObjectHashTable.get_item (pandas\\hashtable.c:13742)\u001b[0;34m()\u001b[0m\n",
      "\u001b[0;32mpandas\\src\\hashtable_class_helper.pxi\u001b[0m in \u001b[0;36mpandas.hashtable.PyObjectHashTable.get_item (pandas\\hashtable.c:13696)\u001b[0;34m()\u001b[0m\n",
      "\u001b[0;31mKeyError\u001b[0m: 0",
      "\nDuring handling of the above exception, another exception occurred:\n",
      "\u001b[0;31mKeyError\u001b[0m                                  Traceback (most recent call last)",
      "\u001b[0;32m<ipython-input-45-94c7e7048fc9>\u001b[0m in \u001b[0;36m<module>\u001b[0;34m()\u001b[0m\n\u001b[0;32m----> 1\u001b[0;31m \u001b[0msick_healthy_panel_f\u001b[0m\u001b[1;33m[\u001b[0m\u001b[1;36m0\u001b[0m\u001b[1;33m]\u001b[0m\u001b[1;33m\u001b[0m\u001b[0m\n\u001b[0m",
      "\u001b[0;32mC:\\Users\\nnd\\AppData\\Local\\Continuum\\Anaconda3\\lib\\site-packages\\pandas\\core\\panel.py\u001b[0m in \u001b[0;36m__getitem__\u001b[0;34m(self, key)\u001b[0m\n\u001b[1;32m    272\u001b[0m             \u001b[1;32mreturn\u001b[0m \u001b[0mself\u001b[0m\u001b[1;33m.\u001b[0m\u001b[0m_getitem_multilevel\u001b[0m\u001b[1;33m(\u001b[0m\u001b[0mkey\u001b[0m\u001b[1;33m)\u001b[0m\u001b[1;33m\u001b[0m\u001b[0m\n\u001b[1;32m    273\u001b[0m         \u001b[1;32mif\u001b[0m \u001b[1;32mnot\u001b[0m \u001b[1;33m(\u001b[0m\u001b[0mis_list_like\u001b[0m\u001b[1;33m(\u001b[0m\u001b[0mkey\u001b[0m\u001b[1;33m)\u001b[0m \u001b[1;32mor\u001b[0m \u001b[0misinstance\u001b[0m\u001b[1;33m(\u001b[0m\u001b[0mkey\u001b[0m\u001b[1;33m,\u001b[0m \u001b[0mslice\u001b[0m\u001b[1;33m)\u001b[0m\u001b[1;33m)\u001b[0m\u001b[1;33m:\u001b[0m\u001b[1;33m\u001b[0m\u001b[0m\n\u001b[0;32m--> 274\u001b[0;31m             \u001b[1;32mreturn\u001b[0m \u001b[0msuper\u001b[0m\u001b[1;33m(\u001b[0m\u001b[0mPanel\u001b[0m\u001b[1;33m,\u001b[0m \u001b[0mself\u001b[0m\u001b[1;33m)\u001b[0m\u001b[1;33m.\u001b[0m\u001b[0m__getitem__\u001b[0m\u001b[1;33m(\u001b[0m\u001b[0mkey\u001b[0m\u001b[1;33m)\u001b[0m\u001b[1;33m\u001b[0m\u001b[0m\n\u001b[0m\u001b[1;32m    275\u001b[0m         \u001b[1;32mreturn\u001b[0m \u001b[0mself\u001b[0m\u001b[1;33m.\u001b[0m\u001b[0mix\u001b[0m\u001b[1;33m[\u001b[0m\u001b[0mkey\u001b[0m\u001b[1;33m]\u001b[0m\u001b[1;33m\u001b[0m\u001b[0m\n\u001b[1;32m    276\u001b[0m \u001b[1;33m\u001b[0m\u001b[0m\n",
      "\u001b[0;32mC:\\Users\\nnd\\AppData\\Local\\Continuum\\Anaconda3\\lib\\site-packages\\pandas\\core\\generic.py\u001b[0m in \u001b[0;36m__getitem__\u001b[0;34m(self, item)\u001b[0m\n\u001b[1;32m   1377\u001b[0m \u001b[1;33m\u001b[0m\u001b[0m\n\u001b[1;32m   1378\u001b[0m     \u001b[1;32mdef\u001b[0m \u001b[0m__getitem__\u001b[0m\u001b[1;33m(\u001b[0m\u001b[0mself\u001b[0m\u001b[1;33m,\u001b[0m \u001b[0mitem\u001b[0m\u001b[1;33m)\u001b[0m\u001b[1;33m:\u001b[0m\u001b[1;33m\u001b[0m\u001b[0m\n\u001b[0;32m-> 1379\u001b[0;31m         \u001b[1;32mreturn\u001b[0m \u001b[0mself\u001b[0m\u001b[1;33m.\u001b[0m\u001b[0m_get_item_cache\u001b[0m\u001b[1;33m(\u001b[0m\u001b[0mitem\u001b[0m\u001b[1;33m)\u001b[0m\u001b[1;33m\u001b[0m\u001b[0m\n\u001b[0m\u001b[1;32m   1380\u001b[0m \u001b[1;33m\u001b[0m\u001b[0m\n\u001b[1;32m   1381\u001b[0m     \u001b[1;32mdef\u001b[0m \u001b[0m_get_item_cache\u001b[0m\u001b[1;33m(\u001b[0m\u001b[0mself\u001b[0m\u001b[1;33m,\u001b[0m \u001b[0mitem\u001b[0m\u001b[1;33m)\u001b[0m\u001b[1;33m:\u001b[0m\u001b[1;33m\u001b[0m\u001b[0m\n",
      "\u001b[0;32mC:\\Users\\nnd\\AppData\\Local\\Continuum\\Anaconda3\\lib\\site-packages\\pandas\\core\\generic.py\u001b[0m in \u001b[0;36m_get_item_cache\u001b[0;34m(self, item)\u001b[0m\n\u001b[1;32m   1384\u001b[0m         \u001b[0mres\u001b[0m \u001b[1;33m=\u001b[0m \u001b[0mcache\u001b[0m\u001b[1;33m.\u001b[0m\u001b[0mget\u001b[0m\u001b[1;33m(\u001b[0m\u001b[0mitem\u001b[0m\u001b[1;33m)\u001b[0m\u001b[1;33m\u001b[0m\u001b[0m\n\u001b[1;32m   1385\u001b[0m         \u001b[1;32mif\u001b[0m \u001b[0mres\u001b[0m \u001b[1;32mis\u001b[0m \u001b[1;32mNone\u001b[0m\u001b[1;33m:\u001b[0m\u001b[1;33m\u001b[0m\u001b[0m\n\u001b[0;32m-> 1386\u001b[0;31m             \u001b[0mvalues\u001b[0m \u001b[1;33m=\u001b[0m \u001b[0mself\u001b[0m\u001b[1;33m.\u001b[0m\u001b[0m_data\u001b[0m\u001b[1;33m.\u001b[0m\u001b[0mget\u001b[0m\u001b[1;33m(\u001b[0m\u001b[0mitem\u001b[0m\u001b[1;33m)\u001b[0m\u001b[1;33m\u001b[0m\u001b[0m\n\u001b[0m\u001b[1;32m   1387\u001b[0m             \u001b[0mres\u001b[0m \u001b[1;33m=\u001b[0m \u001b[0mself\u001b[0m\u001b[1;33m.\u001b[0m\u001b[0m_box_item_values\u001b[0m\u001b[1;33m(\u001b[0m\u001b[0mitem\u001b[0m\u001b[1;33m,\u001b[0m \u001b[0mvalues\u001b[0m\u001b[1;33m)\u001b[0m\u001b[1;33m\u001b[0m\u001b[0m\n\u001b[1;32m   1388\u001b[0m             \u001b[0mcache\u001b[0m\u001b[1;33m[\u001b[0m\u001b[0mitem\u001b[0m\u001b[1;33m]\u001b[0m \u001b[1;33m=\u001b[0m \u001b[0mres\u001b[0m\u001b[1;33m\u001b[0m\u001b[0m\n",
      "\u001b[0;32mC:\\Users\\nnd\\AppData\\Local\\Continuum\\Anaconda3\\lib\\site-packages\\pandas\\core\\internals.py\u001b[0m in \u001b[0;36mget\u001b[0;34m(self, item, fastpath)\u001b[0m\n\u001b[1;32m   3541\u001b[0m \u001b[1;33m\u001b[0m\u001b[0m\n\u001b[1;32m   3542\u001b[0m             \u001b[1;32mif\u001b[0m \u001b[1;32mnot\u001b[0m \u001b[0misnull\u001b[0m\u001b[1;33m(\u001b[0m\u001b[0mitem\u001b[0m\u001b[1;33m)\u001b[0m\u001b[1;33m:\u001b[0m\u001b[1;33m\u001b[0m\u001b[0m\n\u001b[0;32m-> 3543\u001b[0;31m                 \u001b[0mloc\u001b[0m \u001b[1;33m=\u001b[0m \u001b[0mself\u001b[0m\u001b[1;33m.\u001b[0m\u001b[0mitems\u001b[0m\u001b[1;33m.\u001b[0m\u001b[0mget_loc\u001b[0m\u001b[1;33m(\u001b[0m\u001b[0mitem\u001b[0m\u001b[1;33m)\u001b[0m\u001b[1;33m\u001b[0m\u001b[0m\n\u001b[0m\u001b[1;32m   3544\u001b[0m             \u001b[1;32melse\u001b[0m\u001b[1;33m:\u001b[0m\u001b[1;33m\u001b[0m\u001b[0m\n\u001b[1;32m   3545\u001b[0m                 \u001b[0mindexer\u001b[0m \u001b[1;33m=\u001b[0m \u001b[0mnp\u001b[0m\u001b[1;33m.\u001b[0m\u001b[0marange\u001b[0m\u001b[1;33m(\u001b[0m\u001b[0mlen\u001b[0m\u001b[1;33m(\u001b[0m\u001b[0mself\u001b[0m\u001b[1;33m.\u001b[0m\u001b[0mitems\u001b[0m\u001b[1;33m)\u001b[0m\u001b[1;33m)\u001b[0m\u001b[1;33m[\u001b[0m\u001b[0misnull\u001b[0m\u001b[1;33m(\u001b[0m\u001b[0mself\u001b[0m\u001b[1;33m.\u001b[0m\u001b[0mitems\u001b[0m\u001b[1;33m)\u001b[0m\u001b[1;33m]\u001b[0m\u001b[1;33m\u001b[0m\u001b[0m\n",
      "\u001b[0;32mC:\\Users\\nnd\\AppData\\Local\\Continuum\\Anaconda3\\lib\\site-packages\\pandas\\indexes\\base.py\u001b[0m in \u001b[0;36mget_loc\u001b[0;34m(self, key, method, tolerance)\u001b[0m\n\u001b[1;32m   2134\u001b[0m                 \u001b[1;32mreturn\u001b[0m \u001b[0mself\u001b[0m\u001b[1;33m.\u001b[0m\u001b[0m_engine\u001b[0m\u001b[1;33m.\u001b[0m\u001b[0mget_loc\u001b[0m\u001b[1;33m(\u001b[0m\u001b[0mkey\u001b[0m\u001b[1;33m)\u001b[0m\u001b[1;33m\u001b[0m\u001b[0m\n\u001b[1;32m   2135\u001b[0m             \u001b[1;32mexcept\u001b[0m \u001b[0mKeyError\u001b[0m\u001b[1;33m:\u001b[0m\u001b[1;33m\u001b[0m\u001b[0m\n\u001b[0;32m-> 2136\u001b[0;31m                 \u001b[1;32mreturn\u001b[0m \u001b[0mself\u001b[0m\u001b[1;33m.\u001b[0m\u001b[0m_engine\u001b[0m\u001b[1;33m.\u001b[0m\u001b[0mget_loc\u001b[0m\u001b[1;33m(\u001b[0m\u001b[0mself\u001b[0m\u001b[1;33m.\u001b[0m\u001b[0m_maybe_cast_indexer\u001b[0m\u001b[1;33m(\u001b[0m\u001b[0mkey\u001b[0m\u001b[1;33m)\u001b[0m\u001b[1;33m)\u001b[0m\u001b[1;33m\u001b[0m\u001b[0m\n\u001b[0m\u001b[1;32m   2137\u001b[0m \u001b[1;33m\u001b[0m\u001b[0m\n\u001b[1;32m   2138\u001b[0m         \u001b[0mindexer\u001b[0m \u001b[1;33m=\u001b[0m \u001b[0mself\u001b[0m\u001b[1;33m.\u001b[0m\u001b[0mget_indexer\u001b[0m\u001b[1;33m(\u001b[0m\u001b[1;33m[\u001b[0m\u001b[0mkey\u001b[0m\u001b[1;33m]\u001b[0m\u001b[1;33m,\u001b[0m \u001b[0mmethod\u001b[0m\u001b[1;33m=\u001b[0m\u001b[0mmethod\u001b[0m\u001b[1;33m,\u001b[0m \u001b[0mtolerance\u001b[0m\u001b[1;33m=\u001b[0m\u001b[0mtolerance\u001b[0m\u001b[1;33m)\u001b[0m\u001b[1;33m\u001b[0m\u001b[0m\n",
      "\u001b[0;32mpandas\\index.pyx\u001b[0m in \u001b[0;36mpandas.index.IndexEngine.get_loc (pandas\\index.c:4433)\u001b[0;34m()\u001b[0m\n",
      "\u001b[0;32mpandas\\index.pyx\u001b[0m in \u001b[0;36mpandas.index.IndexEngine.get_loc (pandas\\index.c:4279)\u001b[0;34m()\u001b[0m\n",
      "\u001b[0;32mpandas\\src\\hashtable_class_helper.pxi\u001b[0m in \u001b[0;36mpandas.hashtable.PyObjectHashTable.get_item (pandas\\hashtable.c:13742)\u001b[0;34m()\u001b[0m\n",
      "\u001b[0;32mpandas\\src\\hashtable_class_helper.pxi\u001b[0m in \u001b[0;36mpandas.hashtable.PyObjectHashTable.get_item (pandas\\hashtable.c:13696)\u001b[0;34m()\u001b[0m\n",
      "\u001b[0;31mKeyError\u001b[0m: 0"
     ]
    }
   ],
   "source": [
    "sick_healthy_panel_f[0]"
   ]
  },
  {
   "cell_type": "code",
   "execution_count": 46,
   "metadata": {
    "collapsed": false
   },
   "outputs": [
    {
     "data": {
      "text/plain": [
       "[Index(['died', 'total'], dtype='object'),\n",
       " Index(['at home', 'in hospital'], dtype='object'),\n",
       " Index(['healthy', 'sick'], dtype='object')]"
      ]
     },
     "execution_count": 46,
     "metadata": {},
     "output_type": "execute_result"
    }
   ],
   "source": [
    "sick_healthy_panel_f.axes"
   ]
  },
  {
   "cell_type": "code",
   "execution_count": 47,
   "metadata": {
    "collapsed": false
   },
   "outputs": [
    {
     "data": {
      "text/html": [
       "<div>\n",
       "<table border=\"1\" class=\"dataframe\">\n",
       "  <thead>\n",
       "    <tr style=\"text-align: right;\">\n",
       "      <th></th>\n",
       "      <th>healthy</th>\n",
       "      <th>sick</th>\n",
       "    </tr>\n",
       "  </thead>\n",
       "  <tbody>\n",
       "    <tr>\n",
       "      <th>at home</th>\n",
       "      <td>20</td>\n",
       "      <td>20</td>\n",
       "    </tr>\n",
       "    <tr>\n",
       "      <th>in hospital</th>\n",
       "      <td>0</td>\n",
       "      <td>4</td>\n",
       "    </tr>\n",
       "  </tbody>\n",
       "</table>\n",
       "</div>"
      ],
      "text/plain": [
       "             healthy  sick\n",
       "at home           20    20\n",
       "in hospital        0     4"
      ]
     },
     "execution_count": 47,
     "metadata": {},
     "output_type": "execute_result"
    }
   ],
   "source": [
    "sick_healthy_panel_f['died']"
   ]
  },
  {
   "cell_type": "code",
   "execution_count": null,
   "metadata": {
    "collapsed": true
   },
   "outputs": [],
   "source": []
  }
 ],
 "metadata": {
  "kernelspec": {
   "display_name": "Python 3",
   "language": "python",
   "name": "python3"
  },
  "language_info": {
   "codemirror_mode": {
    "name": "ipython",
    "version": 3
   },
   "file_extension": ".py",
   "mimetype": "text/x-python",
   "name": "python",
   "nbconvert_exporter": "python",
   "pygments_lexer": "ipython3",
   "version": "3.6.0"
  }
 },
 "nbformat": 4,
 "nbformat_minor": 2
}
