{
 "metadata": {
  "name": "",
  "signature": "sha256:d28320d9357513652bb2bd26afd7521e3f05d20fcca918ec97a9f27795bbc0c0"
 },
 "nbformat": 3,
 "nbformat_minor": 0,
 "worksheets": [
  {
   "cells": [
    {
     "cell_type": "code",
     "collapsed": false,
     "input": [
      "def most_important_part():\n",
      "    parts=('Look at Data', 'Program Computers', 'Run Statistics', 'Eat Pizza')\n",
      "    return parts[0]"
     ],
     "language": "python",
     "metadata": {},
     "outputs": [],
     "prompt_number": 1
    },
    {
     "cell_type": "code",
     "collapsed": false,
     "input": [
      "most_important_part_answer = 'https://www.udacity.com/course/viewer#!/c-st101/l-48646867/e-48728367/m-48723299'\n",
      "assert most_important_part()=='Look at Data', 'A great stistician differs from an okay statistician by an ability to spend a lot of time *just* looking at data {}'.format(most_important_part_answer)"
     ],
     "language": "python",
     "metadata": {},
     "outputs": [],
     "prompt_number": 2
    },
    {
     "cell_type": "markdown",
     "metadata": {},
     "source": [
      "#Great vs Okay Statistician\n",
      "\"A great statistician differs from an okay statistician by her ability to spend time looking at data\""
     ]
    },
    {
     "cell_type": "code",
     "collapsed": false,
     "input": [
      "import pandas as pd\n",
      "import numpy as np\n",
      "import matplotlib.pyplot as plt\n",
      "size_v_cost = pd.DataFrame(dict(size=(1400,\n",
      "                                      2400,\n",
      "                                      1800,\n",
      "                                      1900,\n",
      "                                      1400,\n",
      "                                      1100), \n",
      "                                cost=(pd.Series((98,\n",
      "                                               168,\n",
      "                                               126,\n",
      "                                               133,\n",
      "                                               91,\n",
      "                                               77))*1000))) "
     ],
     "language": "python",
     "metadata": {},
     "outputs": [],
     "prompt_number": 6
    },
    {
     "cell_type": "code",
     "collapsed": false,
     "input": [
      "def linear_relationship_1(svc=None):\n",
      "    \"\"\"\n",
      "    Reuses function from previous section\n",
      "    :returns: True if there is a fixed $ amount per sq ft\n",
      "    \"\"\"\n",
      "    svc = size_v_cost if svc is None else svc\n",
      "    def valuing_houses_5(svc = None):\n",
      "        svc = size_v_cost if svc is None else svc\n",
      "        cost_per_sqft = svc.cost/svc.size\n",
      "        \n",
      "        different_costs_per_sqft = cost_per_sqft.value_counts()\n",
      "        num_rates = len(different_costs_per_sqft)\n",
      "        assert num_rates==1, 'There are {} costs per sq ft, cannot return just one'.format(num_rates)\n",
      "        return cost_per_sqft.iloc[0]\n",
      "    try:\n",
      "        return valuing_houses_5(svc)\n",
      "    except Exception as e:\n",
      "        print(e)\n",
      "        return False"
     ],
     "language": "python",
     "metadata": {},
     "outputs": [],
     "prompt_number": 20
    },
    {
     "cell_type": "code",
     "collapsed": false,
     "input": [
      "linear_relationship_1_answer = 'https://www.udacity.com/course/viewer#!/c-st101/l-48646867/e-48717438/m-48739019'\n",
      "assert  linear_relationship_1()==False, 'There is no linear relationship b/w data {}'.format(linear_relationship_1_answer)"
     ],
     "language": "python",
     "metadata": {},
     "outputs": [
      {
       "output_type": "stream",
       "stream": "stdout",
       "text": [
        "There are 2 costs per sq ft, cannot return just one\n"
       ]
      }
     ],
     "prompt_number": 21
    },
    {
     "cell_type": "code",
     "collapsed": false,
     "input": [
      "size_v_cost_changed = size_v_cost.copy()\n",
      "size_v_cost_changed.size[size_v_cost_changed.cost==91000]=1300\n",
      "\n",
      "def linear_relationship_2():\n",
      "    \n",
      "    return linear_relationship_1(size_v_cost_changed)"
     ],
     "language": "python",
     "metadata": {},
     "outputs": [],
     "prompt_number": 4
    },
    {
     "cell_type": "code",
     "collapsed": false,
     "input": [
      "linear_relationship_2_answer = 'https://www.udacity.com/course/viewer#!/c-st101/l-48646867/e-48737251/m-48619986'\n",
      "assert linear_relationship_2()==True, 'There is fixed dollar $70/sq ft dollar amount {}'.format(linear_relationship_2_answer)"
     ],
     "language": "python",
     "metadata": {},
     "outputs": [],
     "prompt_number": 5
    },
    {
     "cell_type": "markdown",
     "metadata": {},
     "source": [
      "#Use this command to plot inline"
     ]
    },
    {
     "cell_type": "code",
     "collapsed": false,
     "input": [
      "%matplotlib inline"
     ],
     "language": "python",
     "metadata": {},
     "outputs": [],
     "prompt_number": 12
    },
    {
     "cell_type": "code",
     "collapsed": false,
     "input": [
      "def scatter_plot(svc=None, highlight_size=2400):\n",
      "    \"\"\"\n",
      "    Graphs sizes horizontally\n",
      "    And costs vertically\n",
      "    http://matplotlib.org/examples/shapes_and_collections/scatter_demo.html\n",
      "    Cannot use pandas native .plot method, does not handle color keyword arg?\n",
      "    \"\"\"\n",
      "    svc = size_v_cost_changed if svc is None else svc\n",
      "    color =  (size_v_cost_changed.size==highlight_size)*1\n",
      "    size = [100]*len(size_v_cost)\n",
      "    kind='scatter'\n",
      "    cmap='PuRd'\n",
      "    plt.scatter(svc.size, svc.cost, c=color, s=size, cmap=cmap)\n",
      "    #svc.plot('size', 'cost', c=color, s=[100]*len(size_v_cost), kind='scatter', cmap='PuRd')"
     ],
     "language": "python",
     "metadata": {},
     "outputs": [],
     "prompt_number": 16
    },
    {
     "cell_type": "code",
     "collapsed": false,
     "input": [
      "scatter_plot()#plt.scatter(size_v_cost_changed.size, size_v_cost_changed.cost, cmap='binary')"
     ],
     "language": "python",
     "metadata": {},
     "outputs": [
      {
       "metadata": {},
       "output_type": "display_data",
       "png": "[encoded data removed]",
       "text": [
        "<matplotlib.figure.Figure at 0x89f0198>"
       ]
      }
     ],
     "prompt_number": 22
    },
    {
     "cell_type": "code",
     "collapsed": false,
     "input": [
      "scatter_plot_solution = 'https://www.udacity.com/course/viewer#!/c-st101/l-48646867/e-48646865/m-48693620'"
     ],
     "language": "python",
     "metadata": {},
     "outputs": [],
     "prompt_number": 63
    },
    {
     "cell_type": "code",
     "collapsed": false,
     "input": [
      "def picking_points(svc=None, highlight_size=1800):\n",
      "    \n",
      "    svc = size_v_cost_changed if svc is None else svc\n",
      "    scatter_plot(svc=svc, highlight_size=highlight_size)\n",
      "    #print(plt.ylim())\n",
      "    #plt.ylim(min(svc.cost), max(svc.cost))\n",
      "    print(plt.axes())\n",
      "    plt.plot([highlight_size, highlight_size], [plt.ylim()[0], plt.ylim()[1]], color='black', ls='dotted')#vlines(1900,0,18000)"
     ],
     "language": "python",
     "metadata": {},
     "outputs": [],
     "prompt_number": 67
    },
    {
     "cell_type": "code",
     "collapsed": false,
     "input": [
      "print((plt.ylim(), plt.xlim()))\n",
      "picking_points_solution = 'https://www.udacity.com/course/viewer#!/c-st101/l-48646867/e-48717439/m-48619987'\n",
      "picking_points()"
     ],
     "language": "python",
     "metadata": {},
     "outputs": [
      {
       "output_type": "stream",
       "stream": "stdout",
       "text": [
        "((0.0, 1.0), (0.0, 1.0))\n",
        "Axes(0.125,0.125;0.775x0.775)\n"
       ]
      },
      {
       "metadata": {},
       "output_type": "display_data",
       "png": "[encoded data removed]",
       "text": [
        "<matplotlib.figure.Figure at 0x843f5f8>"
       ]
      }
     ],
     "prompt_number": 68
    },
    {
     "cell_type": "code",
     "collapsed": false,
     "input": [
      "def linearity(svc=None):\n",
      "    \"\"\"\n",
      "    When a line governs the relationship of two datapoints; \n",
      "    the data is called 'linear'\n",
      "    Linearity is a rare occurrence in statistics\n",
      "    \"\"\"\n",
      "    \n",
      "    svc = size_v_cost_changed if svc is None else svc\n",
      "    scatter_plot(svc)\n",
      "    #print(plt.ylim())\n",
      "    #plt.ylim(min(svc.cost), max(svc.cost))\n",
      "    plt.plot([min(svc.size), max(svc.size)], [min(svc.cost), max(svc.cost)], color='black', ls='dotted')#vlines(1900,0,18000)"
     ],
     "language": "python",
     "metadata": {},
     "outputs": [],
     "prompt_number": 76
    },
    {
     "cell_type": "code",
     "collapsed": false,
     "input": [
      "linearity()"
     ],
     "language": "python",
     "metadata": {},
     "outputs": [
      {
       "metadata": {},
       "output_type": "display_data",
       "png": "[encoded data removed]",
       "text": [
        "<matplotlib.figure.Figure at 0x89b2e10>"
       ]
      }
     ],
     "prompt_number": 77
    },
    {
     "cell_type": "code",
     "collapsed": false,
     "input": [
      "size_v_cost_changed_2 = pd.DataFrame(dict(size=pd.Series((17,\n",
      "                                                21,\n",
      "                                                19,\n",
      "                                                13,\n",
      "                                                16,\n",
      "                                                22\n",
      "                                                ))*100, \n",
      "                                cost=(pd.Series((51,\n",
      "                                               63,\n",
      "                                               57,\n",
      "                                               39,\n",
      "                                               48,\n",
      "                                               66))*1000))) "
     ],
     "language": "python",
     "metadata": {},
     "outputs": [],
     "prompt_number": 84
    },
    {
     "cell_type": "markdown",
     "metadata": {},
     "source": [
      "#Can indeed draw a line through these datapoints:"
     ]
    },
    {
     "cell_type": "code",
     "collapsed": false,
     "input": [
      "def fixed_price(svc=None):\n",
      "    svc = svc if svc is not None else size_v_cost_changed_2\n",
      "    linearity(svc)\n",
      "def fixed_price_fixed_cost_per_sqft(svc=None):\n",
      "    svc = svc if svc is not None else size_v_cost_changed_2\n",
      "    fixed_price(svc)\n",
      "    return linear_relationship_1(svc)\n",
      "    "
     ],
     "language": "python",
     "metadata": {},
     "outputs": [],
     "prompt_number": 94
    },
    {
     "cell_type": "code",
     "collapsed": false,
     "input": [
      "\n",
      "assert fixed_price_fixed_cost_per_sqft() == 30; 'Price should be 30'\n",
      "fixed_price_solution = 'https://www.udacity.com/course/viewer#!/c-st101/l-48646867/e-48696652/m-48676929'"
     ],
     "language": "python",
     "metadata": {},
     "outputs": [
      {
       "metadata": {},
       "output_type": "display_data",
       "png": "[encoded data removed]",
       "text": [
        "<matplotlib.figure.Figure at 0x8a4b780>"
       ]
      }
     ],
     "prompt_number": 97
    },
    {
     "cell_type": "code",
     "collapsed": false,
     "input": [
      "size_v_cost_changed_3 = size_v_cost_changed_2.copy()\n",
      "size_v_cost_changed_3.cost = pd.Series((53, 65, 59, 41, 50, 68))*1000\n",
      "def price_per_square_foot(svc=None):\n",
      "    \"\"\"\"\n",
      "    :returns: Do we believe there is a fixed price per square foot\n",
      "    \"\"\"\n",
      "    svc = svc if svc is not None else size_v_cost_changed_3\n",
      "    return linear_relationship_1(svc)\n",
      "    "
     ],
     "language": "python",
     "metadata": {},
     "outputs": [],
     "prompt_number": 99
    },
    {
     "cell_type": "code",
     "collapsed": false,
     "input": [
      "assert price_per_square_foot()==False, 'There is not a fixed price per sq ft, even though you can draw a line connecting all points'\n",
      "price_per_square_foot_solution = 'https://www.udacity.com/course/viewer#!/c-st101/l-48646867/e-48696652/m-48619990'\n"
     ],
     "language": "python",
     "metadata": {},
     "outputs": [
      {
       "output_type": "stream",
       "stream": "stdout",
       "text": [
        "There are 6 costs per sq ft, cannot return just one\n"
       ]
      }
     ],
     "prompt_number": 102
    },
    {
     "cell_type": "code",
     "collapsed": false,
     "input": [
      "def make_your_own_2():\n",
      "    \"\"\"\n",
      "    :returns: Scatter plot helps us visualize if data is linear\n",
      "    \"\"\"\n",
      "    return linearity(size_v_cost_changed_3)\n"
     ],
     "language": "python",
     "metadata": {},
     "outputs": [],
     "prompt_number": 104
    },
    {
     "cell_type": "code",
     "collapsed": false,
     "input": [
      "make_your_own_2()"
     ],
     "language": "python",
     "metadata": {},
     "outputs": [
      {
       "metadata": {},
       "output_type": "display_data",
       "png": "[encoded data removed]",
       "text": [
        "<matplotlib.figure.Figure at 0x89b4908>"
       ]
      }
     ],
     "prompt_number": 105
    },
    {
     "cell_type": "code",
     "collapsed": false,
     "input": [
      "make_your_own_2_solution = 'https://www.udacity.com/course/viewer#!/c-st101/l-48646867/e-48733278/m-48634706'"
     ],
     "language": "python",
     "metadata": {},
     "outputs": [],
     "prompt_number": 106
    },
    {
     "cell_type": "code",
     "collapsed": false,
     "input": [
      "def find_the_constant(svc=None):\n",
      "    \"\"\"\n",
      "    Uses np.linalg.listsq\n",
      "    As described here:\n",
      "    http://docs.scipy.org/doc/numpy/reference/generated/numpy.linalg.lstsq.html\n",
      "    :returns: array\n",
      "    0-index is $/sqft\n",
      "    1-index is constant $ amount\n",
      "    \"\"\"\n",
      "    svc = svc if svc is not None else size_v_cost_changed_3\n",
      "    x = svc.size\n",
      "    y = svc.cost\n",
      "    A = np.vstack([x, np.ones(len(x))]).T\n",
      "    return np.linalg.lstsq(A, y)[0]"
     ],
     "language": "python",
     "metadata": {},
     "outputs": [],
     "prompt_number": 109
    },
    {
     "cell_type": "markdown",
     "metadata": {},
     "source": [
      "#Using the \"allclose\" method\n",
      "###http://stackoverflow.com/a/10580782/1175496"
     ]
    },
    {
     "cell_type": "code",
     "collapsed": false,
     "input": [
      "assert np.allclose(find_the_constant(size_v_cost_changed_3), np.array((30.,2000.))), 'The slope is $30 per sq ft, the y-intersect is $2,000'\n",
      "find_the_constant_solution = 'https://www.udacity.com/course/viewer#!/c-st101/l-48646867/e-48702499/m-48727300'"
     ],
     "language": "python",
     "metadata": {},
     "outputs": [],
     "prompt_number": 124
    },
    {
     "cell_type": "code",
     "collapsed": false,
     "input": [
      "size_v_cost_changed_4 = size_v_cost_changed_3.copy()\n",
      "size_v_cost_changed_4.cost[size_v_cost_changed_4.size==2100]=44000\n",
      "size_v_cost_changed_4.cost[size_v_cost_changed_4.size==1300]=82000\n",
      "#def is_it_linear(svc):\n",
      "size_v_cost_changed_4   \n",
      "def is_it_linear(svc=None):\n",
      "    svc = svc if svc is not None else size_v_cost_changed_4\n",
      "    return linearity(svc)"
     ],
     "language": "python",
     "metadata": {},
     "outputs": [],
     "prompt_number": 128
    },
    {
     "cell_type": "code",
     "collapsed": false,
     "input": [
      "is_it_linear()"
     ],
     "language": "python",
     "metadata": {},
     "outputs": [
      {
       "metadata": {},
       "output_type": "display_data",
       "png": "[encoded data removed]",
       "text": [
        "<matplotlib.figure.Figure at 0x89fc710>"
       ]
      }
     ],
     "prompt_number": 129
    },
    {
     "cell_type": "code",
     "collapsed": false,
     "input": [
      "#No, these points do not fall on a line; \n",
      "#size_v_cost_changed_4.size==1300 | size_v_cost_changed_4.size==2100\n",
      "def congratulations(svc=None):\n",
      "    svc = svc if svc is not None else size_v_cost_changed_4\n",
      "    plt.scatter(svc.size, svc.cost, s=100*len(svc), c= ((svc.size==1300) | (svc.size==2100))*1)"
     ],
     "language": "python",
     "metadata": {},
     "outputs": [],
     "prompt_number": 140
    },
    {
     "cell_type": "code",
     "collapsed": false,
     "input": [
      "congratulations()"
     ],
     "language": "python",
     "metadata": {},
     "outputs": [
      {
       "metadata": {},
       "output_type": "display_data",
       "png": "[encoded data removed]",
       "text": [
        "<matplotlib.figure.Figure at 0x89f0f28>"
       ]
      }
     ],
     "prompt_number": 141
    },
    {
     "cell_type": "code",
     "collapsed": false,
     "input": [],
     "language": "python",
     "metadata": {},
     "outputs": []
    }
   ],
   "metadata": {}
  }
 ]
}