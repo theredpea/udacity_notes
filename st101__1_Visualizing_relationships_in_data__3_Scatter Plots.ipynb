{
 "cells": [
  {
   "cell_type": "code",
   "execution_count": 1,
   "metadata": {
    "collapsed": false
   },
   "outputs": [],
   "source": [
    "def most_important_part():\n",
    "    parts=('Look at Data', 'Program Computers', 'Run Statistics', 'Eat Pizza')\n",
    "    return parts[0]"
   ]
  },
  {
   "cell_type": "code",
   "execution_count": 2,
   "metadata": {
    "collapsed": false
   },
   "outputs": [],
   "source": [
    "most_important_part_answer = 'https://www.udacity.com/course/viewer#!/c-st101/l-48646867/e-48728367/m-48723299'\n",
    "assert most_important_part()=='Look at Data', 'A great stistician differs from an okay statistician by an ability to spend a lot of time *just* looking at data {}'.format(most_important_part_answer)"
   ]
  },
  {
   "cell_type": "markdown",
   "metadata": {},
   "source": [
    "# Great vs Okay Statistician\n",
    " > A great statistician differs from an okay statistician by her ability to spend time looking at data"
   ]
  },
  {
   "cell_type": "code",
   "execution_count": 105,
   "metadata": {
    "collapsed": true
   },
   "outputs": [],
   "source": [
    "import pandas as pd\n",
    "import numpy as np\n",
    "import matplotlib.pyplot as plt"
   ]
  },
  {
   "cell_type": "code",
   "execution_count": 104,
   "metadata": {
    "collapsed": false
   },
   "outputs": [],
   "source": [
    "\n",
    "size_v_cost = pd.DataFrame(dict(house_size=(1400,\n",
    "                                      2400,\n",
    "                                      1800,\n",
    "                                      1900,\n",
    "                                      1400,\n",
    "                                      1100), \n",
    "                                cost=(pd.Series((98,\n",
    "                                               168,\n",
    "                                               126,\n",
    "                                               133,\n",
    "                                               91,\n",
    "                                               77))*1000))) "
   ]
  },
  {
   "cell_type": "code",
   "execution_count": 18,
   "metadata": {
    "collapsed": false
   },
   "outputs": [],
   "source": [
    "def linear_relationship_1(svc=None):\n",
    "    \"\"\"\n",
    "    Reuses function from previous section\n",
    "    :returns: True if there is a fixed $ amount per sq ft\n",
    "    \"\"\"\n",
    "    svc = size_v_cost if svc is None else svc\n",
    "    def valuing_houses_5(svc = None):\n",
    "        svc = size_v_cost if svc is None else svc\n",
    "        cost_per_sqft = svc.cost/svc.house_size\n",
    "        \n",
    "        different_costs_per_sqft = cost_per_sqft.value_counts()\n",
    "        num_rates = len(different_costs_per_sqft)\n",
    "        assert num_rates==1, 'There are {} costs per sq ft, cannot return just one'.format(num_rates)\n",
    "        return cost_per_sqft.iloc[0]\n",
    "    try:\n",
    "        return valuing_houses_5(svc)\n",
    "    except Exception as e:\n",
    "        print(e)\n",
    "        return False"
   ]
  },
  {
   "cell_type": "code",
   "execution_count": 19,
   "metadata": {
    "collapsed": false
   },
   "outputs": [
    {
     "name": "stdout",
     "output_type": "stream",
     "text": [
      "There are 2 costs per sq ft, cannot return just one\n"
     ]
    }
   ],
   "source": [
    "linear_relationship_1_answer = 'https://www.udacity.com/course/viewer#!/c-st101/l-48646867/e-48717438/m-48739019'\n",
    "assert  linear_relationship_1()==False, 'There is no linear relationship b/w data {}'.format(linear_relationship_1_answer)"
   ]
  },
  {
   "cell_type": "code",
   "execution_count": 20,
   "metadata": {
    "collapsed": true
   },
   "outputs": [],
   "source": [
    "def linear_relationship_1_clearer(svc=None):\n",
    "    \"\"\"\n",
    "    Extracts the important to simply answer Sebastians question\n",
    "    :returns: 'Is there a fixed dollar amount per square foot?'\n",
    "    \"\"\"\n",
    "    svc= (size_v_cost if svc is None else svc)\n",
    "    return len((svc.cost/svc.size).value_counts())==1"
   ]
  },
  {
   "cell_type": "code",
   "execution_count": 21,
   "metadata": {
    "collapsed": false
   },
   "outputs": [],
   "source": [
    "assert  linear_relationship_1_clearer()==False, 'There is no (i.e. False) linear relationship b/w data {}'.format(linear_relationship_1_answer)"
   ]
  },
  {
   "cell_type": "code",
   "execution_count": 41,
   "metadata": {
    "collapsed": true
   },
   "outputs": [],
   "source": [
    "def linear_relationship_1_sebastian_rationale(svc=None):\n",
    "    \"\"\"\n",
    "    Sebastian explains, there are two size values\n",
    "    Each of which have a distinct price value\n",
    "    So a GROUP BY ... COUNT(DISTINCT ...) equivalent is another way of thinking about the problem\n",
    "    https://stackoverflow.com/a/15411596/1175496\n",
    "    Uses the handy groupby function existing in a DataFrame\n",
    "        We can infer its behavior; you pass a parameter identifying the column you want to GROUPBY (duh)\n",
    "        The values of that column become the index in a new DataFrameGroupBy object \n",
    "        (*not* to be confused with the result of calling ...count() on the result),\n",
    "        Which produces a new DataFrame https://stackoverflow.com/a/10374456/1175496\n",
    "        DataFrameGroupBy are http://pandas.pydata.org/pandas-docs/stable/api.html#groupby\n",
    "        \n",
    "        The DataFrameGroupBy still has accessible all other columns, in this case the only one is `cost`\n",
    "        But imagine if the homes had a `color` column; we want to exclude `color` and focus on a *Series*\n",
    "        Where house_size is our *index* and cost is our (array of *values*); we get this Series \n",
    "        by getting the .cost column\n",
    "        \n",
    "        This produces a SeriesGroupBy; just as indexing produces a lower-dimensional result\n",
    "        (DataFrame --index--> Series ; DataFrameGroupBy --index--> SeriesGroupBy )\n",
    "        \n",
    "        \n",
    "        Dont let the SeriesGroupBy fool you. It prints as if it's an Index, pre-determined. \n",
    "        But it is still capable of applying the aggregation step / i.e. Computations\n",
    "        \n",
    "    :returns: Is there a fixed dollar amount per square foot?\n",
    "    \"\"\"\n",
    "    \n",
    "    svc= (size_v_cost if svc is None else svc)\n",
    "    svc.groupby('house_size').cost.nunique()\n",
    "    "
   ]
  },
  {
   "cell_type": "code",
   "execution_count": 42,
   "metadata": {
    "collapsed": false
   },
   "outputs": [
    {
     "data": {
      "text/plain": [
       "({1100: Int64Index([5], dtype='int64'),\n",
       "  1400: Int64Index([0, 4], dtype='int64'),\n",
       "  1800: Int64Index([2], dtype='int64'),\n",
       "  1900: Int64Index([3], dtype='int64'),\n",
       "  2400: Int64Index([1], dtype='int64')},\n",
       " {1100: array([5], dtype=int64),\n",
       "  1400: array([0, 4], dtype=int64),\n",
       "  1800: array([2], dtype=int64),\n",
       "  1900: array([3], dtype=int64),\n",
       "  2400: array([1], dtype=int64)})"
      ]
     },
     "execution_count": 42,
     "metadata": {},
     "output_type": "execute_result"
    }
   ],
   "source": [
    "size_v_cost.groupby('house_size').groups, size_v_cost.groupby('house_size').indices"
   ]
  },
  {
   "cell_type": "code",
   "execution_count": 43,
   "metadata": {
    "collapsed": false
   },
   "outputs": [
    {
     "data": {
      "text/plain": [
       "<pandas.core.groupby.SeriesGroupBy object at 0x00000216238EA390>"
      ]
     },
     "execution_count": 43,
     "metadata": {},
     "output_type": "execute_result"
    }
   ],
   "source": [
    "size_v_cost.groupby('house_size').cost"
   ]
  },
  {
   "cell_type": "code",
   "execution_count": 46,
   "metadata": {
    "collapsed": false
   },
   "outputs": [
    {
     "data": {
      "text/plain": [
       "{1100: Int64Index([5], dtype='int64'),\n",
       " 1400: Int64Index([0, 4], dtype='int64'),\n",
       " 1800: Int64Index([2], dtype='int64'),\n",
       " 1900: Int64Index([3], dtype='int64'),\n",
       " 2400: Int64Index([1], dtype='int64')}"
      ]
     },
     "execution_count": 46,
     "metadata": {},
     "output_type": "execute_result"
    }
   ],
   "source": [
    "size_v_cost.groupby('house_size').cost.groups"
   ]
  },
  {
   "cell_type": "code",
   "execution_count": 35,
   "metadata": {
    "collapsed": false
   },
   "outputs": [
    {
     "data": {
      "text/html": [
       "<div>\n",
       "<table border=\"1\" class=\"dataframe\">\n",
       "  <thead>\n",
       "    <tr style=\"text-align: right;\">\n",
       "      <th></th>\n",
       "      <th>cost</th>\n",
       "    </tr>\n",
       "    <tr>\n",
       "      <th>house_size</th>\n",
       "      <th></th>\n",
       "    </tr>\n",
       "  </thead>\n",
       "  <tbody>\n",
       "    <tr>\n",
       "      <th>1100</th>\n",
       "      <td>1</td>\n",
       "    </tr>\n",
       "    <tr>\n",
       "      <th>1400</th>\n",
       "      <td>2</td>\n",
       "    </tr>\n",
       "    <tr>\n",
       "      <th>1800</th>\n",
       "      <td>1</td>\n",
       "    </tr>\n",
       "    <tr>\n",
       "      <th>1900</th>\n",
       "      <td>1</td>\n",
       "    </tr>\n",
       "    <tr>\n",
       "      <th>2400</th>\n",
       "      <td>1</td>\n",
       "    </tr>\n",
       "  </tbody>\n",
       "</table>\n",
       "</div>"
      ],
      "text/plain": [
       "            cost\n",
       "house_size      \n",
       "1100           1\n",
       "1400           2\n",
       "1800           1\n",
       "1900           1\n",
       "2400           1"
      ]
     },
     "execution_count": 35,
     "metadata": {},
     "output_type": "execute_result"
    }
   ],
   "source": [
    "size_v_cost.groupby('house_size').count()#nunique()"
   ]
  },
  {
   "cell_type": "code",
   "execution_count": 37,
   "metadata": {
    "collapsed": false
   },
   "outputs": [
    {
     "data": {
      "text/plain": [
       "house_size\n",
       "1100    1\n",
       "1400    2\n",
       "1800    1\n",
       "1900    1\n",
       "2400    1\n",
       "Name: cost, dtype: int64"
      ]
     },
     "execution_count": 37,
     "metadata": {},
     "output_type": "execute_result"
    }
   ],
   "source": [
    "size_v_cost.groupby('house_size').cost.nunique()"
   ]
  },
  {
   "cell_type": "code",
   "execution_count": 39,
   "metadata": {
    "collapsed": false
   },
   "outputs": [
    {
     "data": {
      "text/plain": [
       "house_size\n",
       "1100    False\n",
       "1400     True\n",
       "1800    False\n",
       "1900    False\n",
       "2400    False\n",
       "Name: cost, dtype: bool"
      ]
     },
     "execution_count": 39,
     "metadata": {},
     "output_type": "execute_result"
    }
   ],
   "source": [
    "size_v_cost.groupby('house_size').cost.nunique()>1"
   ]
  },
  {
   "cell_type": "code",
   "execution_count": 50,
   "metadata": {
    "collapsed": false
   },
   "outputs": [
    {
     "data": {
      "text/plain": [
       "False"
      ]
     },
     "execution_count": 50,
     "metadata": {},
     "output_type": "execute_result"
    }
   ],
   "source": [
    "(size_v_cost.groupby('house_size').cost.nunique()>1).sum()==0"
   ]
  },
  {
   "cell_type": "code",
   "execution_count": 54,
   "metadata": {
    "collapsed": false
   },
   "outputs": [],
   "source": [
    "has_repeats=pd.DataFrame(dict(house_size=(100, 110, 100), cost=(50, 52, 50)))"
   ]
  },
  {
   "cell_type": "code",
   "execution_count": 56,
   "metadata": {
    "collapsed": false
   },
   "outputs": [
    {
     "data": {
      "text/plain": [
       "house_size\n",
       "100    1\n",
       "110    1\n",
       "Name: cost, dtype: int64"
      ]
     },
     "execution_count": 56,
     "metadata": {},
     "output_type": "execute_result"
    }
   ],
   "source": [
    "has_repeats.groupby('house_size').cost.nunique()"
   ]
  },
  {
   "cell_type": "code",
   "execution_count": 70,
   "metadata": {
    "collapsed": false
   },
   "outputs": [
    {
     "data": {
      "text/plain": [
       "0    False\n",
       "1    False\n",
       "2    False\n",
       "3    False\n",
       "4     True\n",
       "5    False\n",
       "Name: cost, dtype: bool"
      ]
     },
     "execution_count": 70,
     "metadata": {},
     "output_type": "execute_result"
    }
   ],
   "source": [
    "size_v_cost_changed = size_v_cost.copy()\n",
    "size_v_cost_changed.house_size.iloc[2]\n",
    "size_v_cost_changed.cost==91000\n"
   ]
  },
  {
   "cell_type": "code",
   "execution_count": 122,
   "metadata": {
    "collapsed": false
   },
   "outputs": [
    {
     "ename": "NotImplementedError",
     "evalue": "iLocation based boolean indexing on an integer type is not available",
     "output_type": "error",
     "traceback": [
      "\u001b[0;31m---------------------------------------------------------------------------\u001b[0m",
      "\u001b[0;31mNotImplementedError\u001b[0m                       Traceback (most recent call last)",
      "\u001b[0;32m<ipython-input-122-751459c41e82>\u001b[0m in \u001b[0;36m<module>\u001b[0;34m()\u001b[0m\n\u001b[0;32m----> 1\u001b[0;31m \u001b[0mpd\u001b[0m\u001b[1;33m.\u001b[0m\u001b[0mSeries\u001b[0m\u001b[1;33m(\u001b[0m\u001b[0mrange\u001b[0m\u001b[1;33m(\u001b[0m\u001b[1;36m4\u001b[0m\u001b[1;33m,\u001b[0m\u001b[1;36m9\u001b[0m\u001b[1;33m)\u001b[0m\u001b[1;33m)\u001b[0m\u001b[1;33m.\u001b[0m\u001b[0miloc\u001b[0m\u001b[1;33m[\u001b[0m\u001b[0mpd\u001b[0m\u001b[1;33m.\u001b[0m\u001b[0mSeries\u001b[0m\u001b[1;33m(\u001b[0m\u001b[0mrange\u001b[0m\u001b[1;33m(\u001b[0m\u001b[1;36m4\u001b[0m\u001b[1;33m,\u001b[0m\u001b[1;36m9\u001b[0m\u001b[1;33m)\u001b[0m\u001b[1;33m)\u001b[0m\u001b[1;33m==\u001b[0m\u001b[1;36m6\u001b[0m\u001b[1;33m]\u001b[0m\u001b[1;33m\u001b[0m\u001b[0m\n\u001b[0m",
      "\u001b[0;32mC:\\Users\\nnd\\AppData\\Local\\Continuum\\Anaconda3\\lib\\site-packages\\pandas\\core\\indexing.py\u001b[0m in \u001b[0;36m__getitem__\u001b[0;34m(self, key)\u001b[0m\n\u001b[1;32m   1310\u001b[0m             \u001b[1;32mreturn\u001b[0m \u001b[0mself\u001b[0m\u001b[1;33m.\u001b[0m\u001b[0m_getitem_tuple\u001b[0m\u001b[1;33m(\u001b[0m\u001b[0mkey\u001b[0m\u001b[1;33m)\u001b[0m\u001b[1;33m\u001b[0m\u001b[0m\n\u001b[1;32m   1311\u001b[0m         \u001b[1;32melse\u001b[0m\u001b[1;33m:\u001b[0m\u001b[1;33m\u001b[0m\u001b[0m\n\u001b[0;32m-> 1312\u001b[0;31m             \u001b[1;32mreturn\u001b[0m \u001b[0mself\u001b[0m\u001b[1;33m.\u001b[0m\u001b[0m_getitem_axis\u001b[0m\u001b[1;33m(\u001b[0m\u001b[0mkey\u001b[0m\u001b[1;33m,\u001b[0m \u001b[0maxis\u001b[0m\u001b[1;33m=\u001b[0m\u001b[1;36m0\u001b[0m\u001b[1;33m)\u001b[0m\u001b[1;33m\u001b[0m\u001b[0m\n\u001b[0m\u001b[1;32m   1313\u001b[0m \u001b[1;33m\u001b[0m\u001b[0m\n\u001b[1;32m   1314\u001b[0m     \u001b[1;32mdef\u001b[0m \u001b[0m_getitem_axis\u001b[0m\u001b[1;33m(\u001b[0m\u001b[0mself\u001b[0m\u001b[1;33m,\u001b[0m \u001b[0mkey\u001b[0m\u001b[1;33m,\u001b[0m \u001b[0maxis\u001b[0m\u001b[1;33m=\u001b[0m\u001b[1;36m0\u001b[0m\u001b[1;33m)\u001b[0m\u001b[1;33m:\u001b[0m\u001b[1;33m\u001b[0m\u001b[0m\n",
      "\u001b[0;32mC:\\Users\\nnd\\AppData\\Local\\Continuum\\Anaconda3\\lib\\site-packages\\pandas\\core\\indexing.py\u001b[0m in \u001b[0;36m_getitem_axis\u001b[0;34m(self, key, axis)\u001b[0m\n\u001b[1;32m   1604\u001b[0m \u001b[1;33m\u001b[0m\u001b[0m\n\u001b[1;32m   1605\u001b[0m         \u001b[1;32melif\u001b[0m \u001b[0mis_bool_indexer\u001b[0m\u001b[1;33m(\u001b[0m\u001b[0mkey\u001b[0m\u001b[1;33m)\u001b[0m\u001b[1;33m:\u001b[0m\u001b[1;33m\u001b[0m\u001b[0m\n\u001b[0;32m-> 1606\u001b[0;31m             \u001b[0mself\u001b[0m\u001b[1;33m.\u001b[0m\u001b[0m_has_valid_type\u001b[0m\u001b[1;33m(\u001b[0m\u001b[0mkey\u001b[0m\u001b[1;33m,\u001b[0m \u001b[0maxis\u001b[0m\u001b[1;33m)\u001b[0m\u001b[1;33m\u001b[0m\u001b[0m\n\u001b[0m\u001b[1;32m   1607\u001b[0m             \u001b[1;32mreturn\u001b[0m \u001b[0mself\u001b[0m\u001b[1;33m.\u001b[0m\u001b[0m_getbool_axis\u001b[0m\u001b[1;33m(\u001b[0m\u001b[0mkey\u001b[0m\u001b[1;33m,\u001b[0m \u001b[0maxis\u001b[0m\u001b[1;33m=\u001b[0m\u001b[0maxis\u001b[0m\u001b[1;33m)\u001b[0m\u001b[1;33m\u001b[0m\u001b[0m\n\u001b[1;32m   1608\u001b[0m \u001b[1;33m\u001b[0m\u001b[0m\n",
      "\u001b[0;32mC:\\Users\\nnd\\AppData\\Local\\Continuum\\Anaconda3\\lib\\site-packages\\pandas\\core\\indexing.py\u001b[0m in \u001b[0;36m_has_valid_type\u001b[0;34m(self, key, axis)\u001b[0m\n\u001b[1;32m   1516\u001b[0m             \u001b[1;32mif\u001b[0m \u001b[0mhasattr\u001b[0m\u001b[1;33m(\u001b[0m\u001b[0mkey\u001b[0m\u001b[1;33m,\u001b[0m \u001b[1;34m'index'\u001b[0m\u001b[1;33m)\u001b[0m \u001b[1;32mand\u001b[0m \u001b[0misinstance\u001b[0m\u001b[1;33m(\u001b[0m\u001b[0mkey\u001b[0m\u001b[1;33m.\u001b[0m\u001b[0mindex\u001b[0m\u001b[1;33m,\u001b[0m \u001b[0mIndex\u001b[0m\u001b[1;33m)\u001b[0m\u001b[1;33m:\u001b[0m\u001b[1;33m\u001b[0m\u001b[0m\n\u001b[1;32m   1517\u001b[0m                 \u001b[1;32mif\u001b[0m \u001b[0mkey\u001b[0m\u001b[1;33m.\u001b[0m\u001b[0mindex\u001b[0m\u001b[1;33m.\u001b[0m\u001b[0minferred_type\u001b[0m \u001b[1;33m==\u001b[0m \u001b[1;34m'integer'\u001b[0m\u001b[1;33m:\u001b[0m\u001b[1;33m\u001b[0m\u001b[0m\n\u001b[0;32m-> 1518\u001b[0;31m                     raise NotImplementedError(\"iLocation based boolean \"\n\u001b[0m\u001b[1;32m   1519\u001b[0m                                               \u001b[1;34m\"indexing on an integer type \"\u001b[0m\u001b[1;33m\u001b[0m\u001b[0m\n\u001b[1;32m   1520\u001b[0m                                               \"is not available\")\n",
      "\u001b[0;31mNotImplementedError\u001b[0m: iLocation based boolean indexing on an integer type is not available"
     ]
    }
   ],
   "source": [
    "pd.Series(range(4,9)).iloc[pd.Series(range(4,9))==6]"
   ]
  },
  {
   "cell_type": "code",
   "execution_count": 123,
   "metadata": {
    "collapsed": false
   },
   "outputs": [
    {
     "data": {
      "text/plain": [
       "2    6\n",
       "dtype: int32"
      ]
     },
     "execution_count": 123,
     "metadata": {},
     "output_type": "execute_result"
    }
   ],
   "source": [
    "#Oh the Series doesnt use .iloc; or at least not for boolean *vectors*, maybe that works for boolean *arrays*\n",
    "pd.Series(range(4,9))[pd.Series(range(4,9))==6]"
   ]
  },
  {
   "cell_type": "code",
   "execution_count": 127,
   "metadata": {
    "collapsed": false
   },
   "outputs": [
    {
     "data": {
      "text/plain": [
       "2    6\n",
       "dtype: int32"
      ]
     },
     "execution_count": 127,
     "metadata": {},
     "output_type": "execute_result"
    }
   ],
   "source": [
    "#Yep, it works with boolean *arrays*, which .`values` represents here:\n",
    "pd.Series(range(4,9)).iloc[(pd.Series(range(4,9))==6).values]"
   ]
  },
  {
   "cell_type": "code",
   "execution_count": 80,
   "metadata": {
    "collapsed": false
   },
   "outputs": [],
   "source": [
    "size_v_cost_changed = size_v_cost.copy()\n",
    "size_v_cost_changed.house_size[size_v_cost_changed.cost==91000]=1300\n",
    "\n",
    "def linear_relationship_2():\n",
    "    \n",
    "    return linear_relationship_1(size_v_cost_changed)"
   ]
  },
  {
   "cell_type": "code",
   "execution_count": 271,
   "metadata": {
    "collapsed": false
   },
   "outputs": [
    {
     "data": {
      "text/plain": [
       "0    70.0\n",
       "1    70.0\n",
       "2    70.0\n",
       "3    70.0\n",
       "4    70.0\n",
       "5    70.0\n",
       "dtype: float64"
      ]
     },
     "execution_count": 271,
     "metadata": {},
     "output_type": "execute_result"
    }
   ],
   "source": [
    "size_v_cost_changed.cost / size_v_cost_changed.house_size"
   ]
  },
  {
   "cell_type": "code",
   "execution_count": 83,
   "metadata": {
    "collapsed": false
   },
   "outputs": [
    {
     "data": {
      "text/plain": [
       "70.0"
      ]
     },
     "execution_count": 83,
     "metadata": {},
     "output_type": "execute_result"
    }
   ],
   "source": [
    "linear_relationship_2()"
   ]
  },
  {
   "cell_type": "code",
   "execution_count": 93,
   "metadata": {
    "collapsed": false
   },
   "outputs": [],
   "source": [
    "linear_relationship_2_answer = 'https://www.udacity.com/course/viewer#!/c-st101/l-48646867/e-48737251/m-48619986'\n",
    "assert bool(linear_relationship_2())==True, 'Was expecting to find a fixed dollar  amount {}'.format(linear_relationship_2_answer)\n",
    "assert linear_relationship_2()==70.0, 'Was expecting the amount to equal $70/sq ft  '"
   ]
  },
  {
   "cell_type": "markdown",
   "metadata": {},
   "source": [
    "# Use this command to plot inline"
   ]
  },
  {
   "cell_type": "code",
   "execution_count": 94,
   "metadata": {
    "collapsed": false
   },
   "outputs": [],
   "source": [
    "%matplotlib inline"
   ]
  },
  {
   "cell_type": "code",
   "execution_count": 328,
   "metadata": {
    "collapsed": false
   },
   "outputs": [],
   "source": [
    "def scatter_plot(svc=None, highlight_size=2400, size=100):\n",
    "    \"\"\"\n",
    "    Graphs sizes horizontally\n",
    "    And costs vertically\n",
    "    http://matplotlib.org/examples/shapes_and_collections/scatter_demo.html\n",
    "    Cannot use pandas native .plot method, does not handle color keyword arg?\n",
    "    \"\"\"\n",
    "    svc = size_v_cost_changed if svc is None else svc\n",
    "    highlight_rows = (size_v_cost_changed.house_size==highlight_size)\n",
    "    color = highlight_rows *1 # Wanted to shade the non-highlighted colors a bit darker, \n",
    "    #but realized that using `edgecolor` arg would also work + 0.5\n",
    "    size = [size]*len(size_v_cost)\n",
    "    kind='scatter'\n",
    "    cmap='PuRd'\n",
    "    plt.scatter(svc.house_size, svc.cost,c=color, s=size, cmap=cmap, edgecolor='black')\n",
    "    \n",
    "    expected_cost = svc[highlight_rows].cost.iloc[0]\n",
    "    xy_point_to_annotate = tuple(size_v_cost[['house_size','cost']][(size_v_cost_changed.house_size==highlight_size)].iloc[0])\n",
    "    \n",
    "    plt.annotate(expected_cost, xy = xy_point_to_annotate, xytext = (0, 0), textcoords = 'offset points')\n",
    "    \n",
    "    # Was doing this in desperation, when I didnt understand that xy \n",
    "    # was a *point* in domain of data, not a *point* on range of the cartesian grid plt.show()\n",
    "    #svc.plot('size', 'cost', c=color, s=[100]*len(size_v_cost), kind='scatter', cmap='PuRd')"
   ]
  },
  {
   "cell_type": "code",
   "execution_count": 242,
   "metadata": {
    "collapsed": false
   },
   "outputs": [
    {
     "data": {
      "text/plain": [
       "(2400, 168000)"
      ]
     },
     "execution_count": 242,
     "metadata": {},
     "output_type": "execute_result"
    }
   ],
   "source": [
    "tuple(size_v_cost[['house_size','cost']][(size_v_cost_changed.house_size==2400)].iloc[0])"
   ]
  },
  {
   "cell_type": "code",
   "execution_count": 243,
   "metadata": {
    "collapsed": false
   },
   "outputs": [
    {
     "data": {
      "text/plain": [
       "house_size      2500\n",
       "cost          168100\n",
       "Name: 1, dtype: int64"
      ]
     },
     "execution_count": 243,
     "metadata": {},
     "output_type": "execute_result"
    }
   ],
   "source": [
    "size_v_cost[['house_size','cost']][(size_v_cost_changed.house_size==2400)].iloc[0] + 100"
   ]
  },
  {
   "cell_type": "code",
   "execution_count": 244,
   "metadata": {
    "collapsed": false
   },
   "outputs": [
    {
     "data": {
      "text/plain": [
       "0    False\n",
       "1     True\n",
       "2    False\n",
       "3    False\n",
       "4    False\n",
       "5    False\n",
       "Name: house_size, dtype: bool"
      ]
     },
     "execution_count": 244,
     "metadata": {},
     "output_type": "execute_result"
    }
   ],
   "source": [
    "(size_v_cost_changed.house_size==2400)"
   ]
  },
  {
   "cell_type": "code",
   "execution_count": 245,
   "metadata": {
    "collapsed": false
   },
   "outputs": [
    {
     "data": {
      "text/plain": [
       "0    0.5\n",
       "1    1.5\n",
       "2    0.5\n",
       "3    0.5\n",
       "4    0.5\n",
       "5    0.5\n",
       "Name: house_size, dtype: float64"
      ]
     },
     "execution_count": 245,
     "metadata": {},
     "output_type": "execute_result"
    }
   ],
   "source": [
    "(size_v_cost_changed.house_size==2400)*1 + 0.5"
   ]
  },
  {
   "cell_type": "code",
   "execution_count": 246,
   "metadata": {
    "collapsed": false
   },
   "outputs": [
    {
     "data": {
      "image/png": "[encoded data removed]",
      "text/plain": [
       "<matplotlib.figure.Figure at 0x216254cd358>"
      ]
     },
     "metadata": {},
     "output_type": "display_data"
    }
   ],
   "source": [
    "scatter_plot()#plt.scatter(size_v_cost_changed.size, size_v_cost_changed.cost, cmap='binary')"
   ]
  },
  {
   "cell_type": "code",
   "execution_count": 247,
   "metadata": {
    "collapsed": false
   },
   "outputs": [
    {
     "data": {
      "image/png": "[encoded data removed]",
      "text/plain": [
       "<matplotlib.figure.Figure at 0x21624352cc0>"
      ]
     },
     "metadata": {},
     "output_type": "display_data"
    }
   ],
   "source": [
    "scatter_plot(highlight_size=1800)"
   ]
  },
  {
   "cell_type": "code",
   "execution_count": 248,
   "metadata": {
    "collapsed": true
   },
   "outputs": [],
   "source": [
    "def scatter_plots_3_picking_points():\n",
    "    \"\"\"\n",
    "    'For the third house in the list'\n",
    "    Third house in the list, using 0 indexed index location, is index 2\n",
    "    \"\"\"\n",
    "    return scatter_plot(highlight_size=size_v_cost.iloc[2].house_size)"
   ]
  },
  {
   "cell_type": "code",
   "execution_count": 249,
   "metadata": {
    "collapsed": false
   },
   "outputs": [
    {
     "data": {
      "image/png": "[encoded data removed]",
      "text/plain": [
       "<matplotlib.figure.Figure at 0x216243eb518>"
      ]
     },
     "metadata": {},
     "output_type": "display_data"
    }
   ],
   "source": [
    "scatter_plots_3_picking_points()"
   ]
  },
  {
   "cell_type": "code",
   "execution_count": 250,
   "metadata": {
    "collapsed": false
   },
   "outputs": [
    {
     "data": {
      "text/html": [
       "<div>\n",
       "<table border=\"1\" class=\"dataframe\">\n",
       "  <thead>\n",
       "    <tr style=\"text-align: right;\">\n",
       "      <th></th>\n",
       "      <th>cost</th>\n",
       "      <th>house_size</th>\n",
       "    </tr>\n",
       "  </thead>\n",
       "  <tbody>\n",
       "    <tr>\n",
       "      <th>0</th>\n",
       "      <td>98000</td>\n",
       "      <td>1400</td>\n",
       "    </tr>\n",
       "    <tr>\n",
       "      <th>1</th>\n",
       "      <td>168000</td>\n",
       "      <td>2400</td>\n",
       "    </tr>\n",
       "    <tr>\n",
       "      <th>2</th>\n",
       "      <td>126000</td>\n",
       "      <td>1800</td>\n",
       "    </tr>\n",
       "    <tr>\n",
       "      <th>3</th>\n",
       "      <td>133000</td>\n",
       "      <td>1900</td>\n",
       "    </tr>\n",
       "    <tr>\n",
       "      <th>4</th>\n",
       "      <td>91000</td>\n",
       "      <td>1400</td>\n",
       "    </tr>\n",
       "    <tr>\n",
       "      <th>5</th>\n",
       "      <td>77000</td>\n",
       "      <td>1100</td>\n",
       "    </tr>\n",
       "  </tbody>\n",
       "</table>\n",
       "</div>"
      ],
      "text/plain": [
       "     cost  house_size\n",
       "0   98000        1400\n",
       "1  168000        2400\n",
       "2  126000        1800\n",
       "3  133000        1900\n",
       "4   91000        1400\n",
       "5   77000        1100"
      ]
     },
     "execution_count": 250,
     "metadata": {},
     "output_type": "execute_result"
    }
   ],
   "source": [
    "size_v_cost"
   ]
  },
  {
   "cell_type": "code",
   "execution_count": 251,
   "metadata": {
    "collapsed": false
   },
   "outputs": [],
   "source": [
    "scatter_plot_solution = 'https://www.udacity.com/course/viewer#!/c-st101/l-48646867/e-48646865/m-48693620'"
   ]
  },
  {
   "cell_type": "code",
   "execution_count": 252,
   "metadata": {
    "collapsed": false
   },
   "outputs": [],
   "source": [
    "def picking_points(svc=None, highlight_size=1800):\n",
    "    \n",
    "    svc = size_v_cost_changed if svc is None else svc\n",
    "    scatter_plot(svc=svc, highlight_size=highlight_size)\n",
    "    #print(plt.ylim())\n",
    "    #plt.ylim(min(svc.cost), max(svc.cost))\n",
    "    print(plt.axes())\n",
    "    plt.plot([highlight_size, highlight_size], [plt.ylim()[0], plt.ylim()[1]], color='black', ls='dotted')#vlines(1900,0,18000)"
   ]
  },
  {
   "cell_type": "code",
   "execution_count": 253,
   "metadata": {
    "collapsed": false
   },
   "outputs": [
    {
     "name": "stdout",
     "output_type": "stream",
     "text": [
      "((0.0, 1.0), (0.0, 1.0))\n",
      "Axes(0.125,0.125;0.775x0.755)\n"
     ]
    },
    {
     "data": {
      "image/png": "[encoded data removed]",
      "text/plain": [
       "<matplotlib.figure.Figure at 0x2162446d198>"
      ]
     },
     "metadata": {},
     "output_type": "display_data"
    }
   ],
   "source": [
    "print((plt.ylim(), plt.xlim()))\n",
    "picking_points_solution = 'https://www.udacity.com/course/viewer#!/c-st101/l-48646867/e-48717439/m-48619987'\n",
    "picking_points()"
   ]
  },
  {
   "cell_type": "code",
   "execution_count": 468,
   "metadata": {
    "collapsed": false
   },
   "outputs": [],
   "source": [
    "def linear_ref_line(svc=None, size=100, zmin=1, zmax=1):\n",
    "    \"\"\"\n",
    "    When a line governs the relationship of two datapoints; \n",
    "    the data is called 'linear'\n",
    "    Linearity is a rare occurrence in statistics\n",
    "    \"\"\"\n",
    "    \n",
    "    svc = size_v_cost_changed if svc is None else svc\n",
    "    scatter_plot(svc, size=size)\n",
    "    #print(plt.ylim())\n",
    "    #plt.ylim(min(svc.cost), max(svc.cost))\n",
    "    plt.plot([min(svc.house_size)*zmin,  max(svc.house_size)*zmax], [min(svc.cost)*zmin, max(svc.cost)*zmax], color='black', ls='dotted')#vlines(1900,0,18000)"
   ]
  },
  {
   "cell_type": "code",
   "execution_count": 469,
   "metadata": {
    "collapsed": false
   },
   "outputs": [
    {
     "data": {
      "image/png": "[encoded data removed]",
      "text/plain": [
       "<matplotlib.figure.Figure at 0x216260a4b00>"
      ]
     },
     "metadata": {},
     "output_type": "display_data"
    }
   ],
   "source": [
    "linear_ref_line()"
   ]
  },
  {
   "cell_type": "code",
   "execution_count": 261,
   "metadata": {
    "collapsed": false
   },
   "outputs": [],
   "source": [
    "size_v_cost_changed_2 = pd.DataFrame(dict(house_size=pd.Series((17,\n",
    "                                                21,\n",
    "                                                19,\n",
    "                                                13,\n",
    "                                                16,\n",
    "                                                22\n",
    "                                                ))*100, \n",
    "                                cost=(pd.Series((51,\n",
    "                                               63,\n",
    "                                               57,\n",
    "                                               39,\n",
    "                                               48,\n",
    "                                               66))*1000))) "
   ]
  },
  {
   "cell_type": "markdown",
   "metadata": {},
   "source": [
    "*Can indeed draw a line through these datapoints:*"
   ]
  },
  {
   "cell_type": "code",
   "execution_count": 266,
   "metadata": {
    "collapsed": false
   },
   "outputs": [],
   "source": [
    "def fixed_price(svc=None):\n",
    "    svc = svc if svc is not None else size_v_cost_changed_2\n",
    "    linear_ref_line(svc)\n",
    "def fixed_price_fixed_cost_per_sqft(svc=None):\n",
    "    svc = svc if svc is not None else size_v_cost_changed_2\n",
    "    fixed_price(svc)\n",
    "    return linear_relationship_1(svc)\n",
    "    "
   ]
  },
  {
   "cell_type": "code",
   "execution_count": 268,
   "metadata": {
    "collapsed": false
   },
   "outputs": [
    {
     "data": {
      "image/png": "[encoded data removed]",
      "text/plain": [
       "<matplotlib.figure.Figure at 0x21623fd4128>"
      ]
     },
     "metadata": {},
     "output_type": "display_data"
    }
   ],
   "source": [
    "\n",
    "assert fixed_price_fixed_cost_per_sqft() == 30; 'Price should be 30'\n",
    "fixed_price_solution = 'https://www.udacity.com/course/viewer#!/c-st101/l-48646867/e-48696652/m-48676929'"
   ]
  },
  {
   "cell_type": "code",
   "execution_count": 270,
   "metadata": {
    "collapsed": false
   },
   "outputs": [
    {
     "data": {
      "text/plain": [
       "0    30.0\n",
       "1    30.0\n",
       "2    30.0\n",
       "3    30.0\n",
       "4    30.0\n",
       "5    30.0\n",
       "dtype: float64"
      ]
     },
     "execution_count": 270,
     "metadata": {},
     "output_type": "execute_result"
    }
   ],
   "source": [
    "size_v_cost_changed_2.cost/size_v_cost_changed_2.house_size"
   ]
  },
  {
   "cell_type": "code",
   "execution_count": 363,
   "metadata": {
    "collapsed": false
   },
   "outputs": [],
   "source": [
    "size_v_cost_changed_3 = size_v_cost_changed_2.copy()\n",
    "size_v_cost_changed_3.cost = pd.Series((53, 65, 59, 41, 50, 68))*1000\n",
    "def price_per_square_foot(svc=None):\n",
    "    \"\"\"\"\n",
    "    :returns: Do we believe there is a fixed price per square foot\n",
    "    \"\"\"\n",
    "    svc = svc if svc is not None else size_v_cost_changed_3\n",
    "    return linear_relationship_1(svc)\n",
    "    "
   ]
  },
  {
   "cell_type": "code",
   "execution_count": 380,
   "metadata": {
    "collapsed": false
   },
   "outputs": [
    {
     "data": {
      "text/html": [
       "<div>\n",
       "<table border=\"1\" class=\"dataframe\">\n",
       "  <thead>\n",
       "    <tr style=\"text-align: right;\">\n",
       "      <th></th>\n",
       "      <th>cost</th>\n",
       "      <th>house_size</th>\n",
       "    </tr>\n",
       "  </thead>\n",
       "  <tbody>\n",
       "    <tr>\n",
       "      <th>0</th>\n",
       "      <td>53000</td>\n",
       "      <td>1700</td>\n",
       "    </tr>\n",
       "    <tr>\n",
       "      <th>1</th>\n",
       "      <td>65000</td>\n",
       "      <td>2100</td>\n",
       "    </tr>\n",
       "    <tr>\n",
       "      <th>2</th>\n",
       "      <td>59000</td>\n",
       "      <td>1900</td>\n",
       "    </tr>\n",
       "    <tr>\n",
       "      <th>3</th>\n",
       "      <td>41000</td>\n",
       "      <td>1300</td>\n",
       "    </tr>\n",
       "    <tr>\n",
       "      <th>4</th>\n",
       "      <td>50000</td>\n",
       "      <td>1600</td>\n",
       "    </tr>\n",
       "    <tr>\n",
       "      <th>5</th>\n",
       "      <td>68000</td>\n",
       "      <td>2200</td>\n",
       "    </tr>\n",
       "  </tbody>\n",
       "</table>\n",
       "</div>"
      ],
      "text/plain": [
       "    cost  house_size\n",
       "0  53000        1700\n",
       "1  65000        2100\n",
       "2  59000        1900\n",
       "3  41000        1300\n",
       "4  50000        1600\n",
       "5  68000        2200"
      ]
     },
     "execution_count": 380,
     "metadata": {},
     "output_type": "execute_result"
    }
   ],
   "source": [
    "size_v_cost_changed_3"
   ]
  },
  {
   "cell_type": "code",
   "execution_count": 384,
   "metadata": {
    "collapsed": false
   },
   "outputs": [
    {
     "data": {
      "text/plain": [
       "3    31.538462\n",
       "4    31.250000\n",
       "0    31.176471\n",
       "2    31.052632\n",
       "1    30.952381\n",
       "5    30.909091\n",
       "dtype: float64"
      ]
     },
     "execution_count": 384,
     "metadata": {},
     "output_type": "execute_result"
    }
   ],
   "source": [
    "size_v_cost_changed_3.sort_values(by=['house_size']).cost/size_v_cost_changed_3.sort_values(by=['house_size']).house_size"
   ]
  },
  {
   "cell_type": "code",
   "execution_count": 275,
   "metadata": {
    "collapsed": false
   },
   "outputs": [
    {
     "data": {
      "text/plain": [
       "0    31.176471\n",
       "1    30.952381\n",
       "2    31.052632\n",
       "3    31.538462\n",
       "4    31.250000\n",
       "5    30.909091\n",
       "dtype: float64"
      ]
     },
     "execution_count": 275,
     "metadata": {},
     "output_type": "execute_result"
    }
   ],
   "source": [
    "size_v_cost_changed_3.cost/size_v_cost_changed_3.house_size"
   ]
  },
  {
   "cell_type": "code",
   "execution_count": 273,
   "metadata": {
    "collapsed": false
   },
   "outputs": [
    {
     "name": "stdout",
     "output_type": "stream",
     "text": [
      "There are 6 costs per sq ft, cannot return just one\n"
     ]
    }
   ],
   "source": [
    "assert price_per_square_foot()==False, 'There is not a fixed price per sq ft, even though you can draw a line connecting all points'\n",
    "price_per_square_foot_solution = 'https://www.udacity.com/course/viewer#!/c-st101/l-48646867/e-48696652/m-48619990'\n"
   ]
  },
  {
   "cell_type": "code",
   "execution_count": 325,
   "metadata": {
    "collapsed": false
   },
   "outputs": [],
   "source": [
    "def make_your_own_2(size=100):\n",
    "    \"\"\"\n",
    "    :returns: Scatter plot helps us visualize if data is linear\n",
    "    \"\"\"\n",
    "    return linear_ref_line(size_v_cost_changed_3,size=size)\n"
   ]
  },
  {
   "cell_type": "code",
   "execution_count": 324,
   "metadata": {
    "collapsed": false
   },
   "outputs": [
    {
     "data": {
      "image/png": "[encoded data removed]",
      "text/plain": [
       "<matplotlib.figure.Figure at 0x216254f2dd8>"
      ]
     },
     "metadata": {},
     "output_type": "display_data"
    }
   ],
   "source": [
    "make_your_own_2()"
   ]
  },
  {
   "cell_type": "code",
   "execution_count": 106,
   "metadata": {
    "collapsed": false
   },
   "outputs": [],
   "source": [
    "make_your_own_2_solution = 'https://www.udacity.com/course/viewer#!/c-st101/l-48646867/e-48733278/m-48634706'"
   ]
  },
  {
   "cell_type": "code",
   "execution_count": 296,
   "metadata": {
    "collapsed": false
   },
   "outputs": [],
   "source": [
    "def find_the_constant(svc=None):\n",
    "    \"\"\"\n",
    "    Uses np.linalg.listsq\n",
    "     > Return the least-squares solution to a linear matrix equation.\n",
    "    As described here:\n",
    "    http://docs.scipy.org/doc/numpy/reference/generated/numpy.linalg.lstsq.html\n",
    "    :returns: array\n",
    "    0-index is $/sqft\n",
    "    1-index is constant $ amount\n",
    "    \"\"\"\n",
    "    svc = svc if svc is not None else size_v_cost_changed_3\n",
    "    x = svc.house_size\n",
    "    y = svc.cost\n",
    "    A = np.vstack([x, np.ones(len(x))]).T\n",
    "    return np.linalg.lstsq(A, y)"
   ]
  },
  {
   "cell_type": "code",
   "execution_count": 297,
   "metadata": {
    "collapsed": false
   },
   "outputs": [
    {
     "data": {
      "text/plain": [
       "array([[  1.70000000e+03,   1.00000000e+00],\n",
       "       [  2.10000000e+03,   1.00000000e+00],\n",
       "       [  1.90000000e+03,   1.00000000e+00],\n",
       "       [  1.30000000e+03,   1.00000000e+00],\n",
       "       [  1.60000000e+03,   1.00000000e+00],\n",
       "       [  2.20000000e+03,   1.00000000e+00]])"
      ]
     },
     "execution_count": 297,
     "metadata": {},
     "output_type": "execute_result"
    }
   ],
   "source": [
    "np.vstack([size_v_cost_changed_3.house_size, np.ones(len(size_v_cost_changed_3.house_size))]).T"
   ]
  },
  {
   "cell_type": "markdown",
   "metadata": {},
   "source": [
    "#  Using the \"allclose\" method\n",
    "### http://stackoverflow.com/a/10580782/1175496"
   ]
  },
  {
   "cell_type": "code",
   "execution_count": 289,
   "metadata": {
    "collapsed": false
   },
   "outputs": [],
   "source": [
    "import numpy"
   ]
  },
  {
   "cell_type": "code",
   "execution_count": 299,
   "metadata": {
    "collapsed": false
   },
   "outputs": [],
   "source": [
    "slope, y_intersect = find_the_constant(size_v_cost_changed_3)[0]\n",
    "assert numpy.isclose(slope, 30), 'While individual ratios are different, the slope calculated with least-squares \\\n",
    "method is approximately 30 , same slope we expected when ratios were consistent'"
   ]
  },
  {
   "cell_type": "code",
   "execution_count": 298,
   "metadata": {
    "collapsed": false
   },
   "outputs": [],
   "source": [
    "assert np.allclose(find_the_constant(size_v_cost_changed_3)[0], np.array((30.,2000.))), 'The slope is $30 per sq ft, the y-intersect is $2,000'\n",
    "find_the_constant_solution = 'https://www.udacity.com/course/viewer#!/c-st101/l-48646867/e-48702499/m-48727300'"
   ]
  },
  {
   "cell_type": "code",
   "execution_count": 410,
   "metadata": {
    "collapsed": false
   },
   "outputs": [
    {
     "data": {
      "text/html": [
       "<div>\n",
       "<table border=\"1\" class=\"dataframe\">\n",
       "  <thead>\n",
       "    <tr style=\"text-align: right;\">\n",
       "      <th></th>\n",
       "      <th>cost</th>\n",
       "      <th>house_size</th>\n",
       "    </tr>\n",
       "  </thead>\n",
       "  <tbody>\n",
       "    <tr>\n",
       "      <th>0</th>\n",
       "      <td>53000</td>\n",
       "      <td>1700</td>\n",
       "    </tr>\n",
       "    <tr>\n",
       "      <th>1</th>\n",
       "      <td>44000</td>\n",
       "      <td>2100</td>\n",
       "    </tr>\n",
       "    <tr>\n",
       "      <th>2</th>\n",
       "      <td>59000</td>\n",
       "      <td>1900</td>\n",
       "    </tr>\n",
       "    <tr>\n",
       "      <th>3</th>\n",
       "      <td>82000</td>\n",
       "      <td>1300</td>\n",
       "    </tr>\n",
       "    <tr>\n",
       "      <th>4</th>\n",
       "      <td>50000</td>\n",
       "      <td>1600</td>\n",
       "    </tr>\n",
       "    <tr>\n",
       "      <th>5</th>\n",
       "      <td>68000</td>\n",
       "      <td>2200</td>\n",
       "    </tr>\n",
       "  </tbody>\n",
       "</table>\n",
       "</div>"
      ],
      "text/plain": [
       "    cost  house_size\n",
       "0  53000        1700\n",
       "1  44000        2100\n",
       "2  59000        1900\n",
       "3  82000        1300\n",
       "4  50000        1600\n",
       "5  68000        2200"
      ]
     },
     "execution_count": 410,
     "metadata": {},
     "output_type": "execute_result"
    }
   ],
   "source": [
    "size_v_cost_changed_4"
   ]
  },
  {
   "cell_type": "code",
   "execution_count": 408,
   "metadata": {
    "collapsed": false
   },
   "outputs": [
    {
     "data": {
      "text/plain": [
       "(array([   30.,  2000.]),\n",
       " array([  8.24111997e-23]),\n",
       " 2,\n",
       " array([  4.47213661e+03,   4.09877971e-01]))"
      ]
     },
     "execution_count": 408,
     "metadata": {},
     "output_type": "execute_result"
    }
   ],
   "source": [
    "find_the_constant(size_v_cost_changed_3)"
   ]
  },
  {
   "cell_type": "code",
   "execution_count": 304,
   "metadata": {
    "collapsed": false
   },
   "outputs": [
    {
     "data": {
      "text/plain": [
       "(array([    24.82142857,  16154.76190476]),\n",
       " array([  6.85815476e+08]),\n",
       " 2,\n",
       " array([  4.47213661e+03,   4.09877971e-01]))"
      ]
     },
     "execution_count": 304,
     "metadata": {},
     "output_type": "execute_result"
    }
   ],
   "source": [
    "find_the_constant(size_v_cost_changed_4)"
   ]
  },
  {
   "cell_type": "code",
   "execution_count": 306,
   "metadata": {
    "collapsed": true
   },
   "outputs": [],
   "source": [
    "x = numpy.array([0, 1, 2, 3])\n",
    "y = numpy.array([-1, 0.2, 0.9, 2.1])"
   ]
  },
  {
   "cell_type": "code",
   "execution_count": 307,
   "metadata": {
    "collapsed": false
   },
   "outputs": [
    {
     "data": {
      "text/plain": [
       "array([-0.        ,  5.        ,  2.22222222,  1.42857143])"
      ]
     },
     "execution_count": 307,
     "metadata": {},
     "output_type": "execute_result"
    }
   ],
   "source": [
    "x/y"
   ]
  },
  {
   "cell_type": "code",
   "execution_count": 309,
   "metadata": {
    "collapsed": false
   },
   "outputs": [
    {
     "data": {
      "image/png": "[encoded data removed]",
      "text/plain": [
       "<matplotlib.figure.Figure at 0x21623ff18d0>"
      ]
     },
     "metadata": {},
     "output_type": "display_data"
    }
   ],
   "source": [
    "is_it_linear()"
   ]
  },
  {
   "cell_type": "markdown",
   "metadata": {},
   "source": [
    "theredpea [9:12 AM] \n",
    "Hi, maths! I'm answering a Udacity question about a series of `x,y` points. Sebastian draws some points that are roughly linear, and asks \"are they linear\", and since a line could be drawn through the points in matplotlib, \n",
    "\n",
    "I understand his answer \"yes\". "
   ]
  },
  {
   "cell_type": "code",
   "execution_count": 313,
   "metadata": {
    "collapsed": false
   },
   "outputs": [
    {
     "data": {
      "image/png": "[encoded data removed]",
      "text/plain": [
       "<matplotlib.figure.Figure at 0x21623f8ff60>"
      ]
     },
     "metadata": {},
     "output_type": "display_data"
    }
   ],
   "source": [
    "make_your_own_2()"
   ]
  },
  {
   "cell_type": "markdown",
   "metadata": {},
   "source": [
    "However, he changes just the y-coordinate one point significantly, He asks \"are they linear\", and and since a single line can **no longer be drawn through the points in matplotlib**, I understand his answer \"no\"."
   ]
  },
  {
   "cell_type": "code",
   "execution_count": 314,
   "metadata": {
    "collapsed": false
   },
   "outputs": [
    {
     "data": {
      "image/png": "[encoded data removed]",
      "text/plain": [
       "<matplotlib.figure.Figure at 0x21623f37f28>"
      ]
     },
     "metadata": {},
     "output_type": "display_data"
    }
   ],
   "source": [
    "is_it_linear()"
   ]
  },
  {
   "cell_type": "markdown",
   "metadata": {},
   "source": [
    "But both these answers still rely on my visual judgment of a graph, and how well the line fits. If I were extremely discriminating, and I *zoomed* on my first graph, I would notice the line does not *exactly* pass through all points, so I could argue the data is *not* linear.\n"
   ]
  },
  {
   "cell_type": "code",
   "execution_count": 317,
   "metadata": {
    "collapsed": false
   },
   "outputs": [
    {
     "data": {
      "image/png": "[encoded data removed]",
      "text/plain": [
       "<matplotlib.figure.Figure at 0x216241abe80>"
      ]
     },
     "metadata": {},
     "output_type": "display_data"
    }
   ],
   "source": [
    "make_your_own_2()"
   ]
  },
  {
   "cell_type": "code",
   "execution_count": 346,
   "metadata": {
    "collapsed": false
   },
   "outputs": [
    {
     "data": {
      "text/plain": [
       "[1599.98, 1600.02, 49999.98, 50000.02]"
      ]
     },
     "execution_count": 346,
     "metadata": {},
     "output_type": "execute_result"
    },
    {
     "data": {
      "image/png": "[encoded data removed]",
      "text/plain": [
       "<matplotlib.figure.Figure at 0x21623cdf9e8>"
      ]
     },
     "metadata": {},
     "output_type": "display_data"
    }
   ],
   "source": [
    "make_your_own_2(size=5)\n",
    "#Zoom in:\n",
    "\n",
    "#plt.axis([1598, 1602, 49800, 50200])\n",
    "#plt.axis([1599.95, 1600.05, 49999.5, 50000.5])\n",
    "plt.axis([1599.98, 1600.02, 49999.98, 50000.02])\n",
    "#Ugh, very hard to *see*.... that they don't intersect!"
   ]
  },
  {
   "cell_type": "code",
   "execution_count": 444,
   "metadata": {
    "collapsed": false
   },
   "outputs": [
    {
     "data": {
      "text/plain": [
       "58999.999999999964"
      ]
     },
     "execution_count": 444,
     "metadata": {},
     "output_type": "execute_result"
    }
   ],
   "source": [
    "#Well  I can do it more precisely by just comparing the point (actual value)\n",
    "#With the expected value (i.e. what the y=mx + b  would produce)\n",
    "np.dot(find_the_constant(size_v_cost_changed_3)[0],np.array([1900, 1]))"
   ]
  },
  {
   "cell_type": "code",
   "execution_count": 443,
   "metadata": {
    "collapsed": false
   },
   "outputs": [
    {
     "data": {
      "text/plain": [
       "59000"
      ]
     },
     "execution_count": 443,
     "metadata": {},
     "output_type": "execute_result"
    }
   ],
   "source": [
    "size_v_cost_changed_3[size_v_cost_changed_3.house_size==1900].iloc[0].cost"
   ]
  },
  {
   "cell_type": "markdown",
   "metadata": {},
   "source": [
    "Yes the difference between those numbers is small, but there is a difference!\n",
    "But is it just floating-point math difference; 1e-8 is negligible; `np.isclose` would say *True*!"
   ]
  },
  {
   "cell_type": "code",
   "execution_count": 360,
   "metadata": {
    "collapsed": false
   },
   "outputs": [
    {
     "data": {
      "text/plain": [
       "False"
      ]
     },
     "execution_count": 360,
     "metadata": {},
     "output_type": "execute_result"
    }
   ],
   "source": [
    "np.dot(find_the_constant(size_v_cost_changed_3)[0],np.array([1600, 1]))==size_v_cost_changed_3[size_v_cost_changed_3.house_size==1600].iloc[0].cost"
   ]
  },
  {
   "cell_type": "code",
   "execution_count": 362,
   "metadata": {
    "collapsed": true
   },
   "outputs": [],
   "source": [
    "#And the difference is more exaggerated elsewhere\n",
    "def diff_than_expected(at_size=1600):\n",
    "    return np.dot(find_the_constant(size_v_cost_changed_3)[0],np.array([at_size, 1])) - size_v_cost_changed_3[size_v_cost_changed_3.house_size==at_size].iloc[0].cost"
   ]
  },
  {
   "cell_type": "code",
   "execution_count": 370,
   "metadata": {
    "collapsed": false
   },
   "outputs": [
    {
     "data": {
      "text/plain": [
       "(-2.9103830456733704e-11, -3.637978807091713e-11, -2.9103830456733704e-11)"
      ]
     },
     "execution_count": 370,
     "metadata": {},
     "output_type": "execute_result"
    }
   ],
   "source": [
    "#Ack, they're all pretty small!\n",
    "diff_than_expected(), diff_than_expected(2100), diff_than_expected(1700)"
   ]
  },
  {
   "cell_type": "markdown",
   "metadata": {},
   "source": [
    "What is a good way to quantify this measure of \"linearness\", instead of relying on my human judgement? \n",
    "I can check the value of residuals, which is super-small in the first case, but a big number in the second case:"
   ]
  },
  {
   "cell_type": "code",
   "execution_count": 371,
   "metadata": {
    "collapsed": false
   },
   "outputs": [
    {
     "data": {
      "text/plain": [
       "array([  8.24111997e-23])"
      ]
     },
     "execution_count": 371,
     "metadata": {},
     "output_type": "execute_result"
    }
   ],
   "source": [
    "find_the_constant(size_v_cost_changed_3)[1]"
   ]
  },
  {
   "cell_type": "code",
   "execution_count": 372,
   "metadata": {
    "collapsed": false
   },
   "outputs": [
    {
     "data": {
      "text/plain": [
       "array([  6.85815476e+08])"
      ]
     },
     "execution_count": 372,
     "metadata": {},
     "output_type": "execute_result"
    }
   ],
   "source": [
    "find_the_constant(size_v_cost_changed_4)[1]"
   ]
  },
  {
   "cell_type": "markdown",
   "metadata": {},
   "source": [
    "Or maybe I could use pearson correlation coefficient? https://docs.scipy.org/doc/scipy/reference/generated/scipy.stats.pearsonr.html"
   ]
  },
  {
   "cell_type": "code",
   "execution_count": 391,
   "metadata": {
    "collapsed": false
   },
   "outputs": [],
   "source": [
    "size_v_cost_changed_3_sorted = size_v_cost_changed_3.sort_values(by='house_size')"
   ]
  },
  {
   "cell_type": "code",
   "execution_count": 394,
   "metadata": {
    "collapsed": false
   },
   "outputs": [
    {
     "data": {
      "text/html": [
       "<div>\n",
       "<table border=\"1\" class=\"dataframe\">\n",
       "  <thead>\n",
       "    <tr style=\"text-align: right;\">\n",
       "      <th></th>\n",
       "      <th>cost</th>\n",
       "      <th>house_size</th>\n",
       "      <th>persqft</th>\n",
       "    </tr>\n",
       "  </thead>\n",
       "  <tbody>\n",
       "    <tr>\n",
       "      <th>3</th>\n",
       "      <td>41000</td>\n",
       "      <td>1300</td>\n",
       "      <td>31.538462</td>\n",
       "    </tr>\n",
       "    <tr>\n",
       "      <th>4</th>\n",
       "      <td>50000</td>\n",
       "      <td>1600</td>\n",
       "      <td>31.250000</td>\n",
       "    </tr>\n",
       "    <tr>\n",
       "      <th>0</th>\n",
       "      <td>53000</td>\n",
       "      <td>1700</td>\n",
       "      <td>31.176471</td>\n",
       "    </tr>\n",
       "    <tr>\n",
       "      <th>2</th>\n",
       "      <td>59000</td>\n",
       "      <td>1900</td>\n",
       "      <td>31.052632</td>\n",
       "    </tr>\n",
       "    <tr>\n",
       "      <th>1</th>\n",
       "      <td>65000</td>\n",
       "      <td>2100</td>\n",
       "      <td>30.952381</td>\n",
       "    </tr>\n",
       "    <tr>\n",
       "      <th>5</th>\n",
       "      <td>68000</td>\n",
       "      <td>2200</td>\n",
       "      <td>30.909091</td>\n",
       "    </tr>\n",
       "  </tbody>\n",
       "</table>\n",
       "</div>"
      ],
      "text/plain": [
       "    cost  house_size    persqft\n",
       "3  41000        1300  31.538462\n",
       "4  50000        1600  31.250000\n",
       "0  53000        1700  31.176471\n",
       "2  59000        1900  31.052632\n",
       "1  65000        2100  30.952381\n",
       "5  68000        2200  30.909091"
      ]
     },
     "execution_count": 394,
     "metadata": {},
     "output_type": "execute_result"
    }
   ],
   "source": [
    "size_v_cost_changed_3_sorted['persqft'] = size_v_cost_changed_3_sorted.cost/size_v_cost_changed_3_sorted.house_size; size_v_cost_changed_3_sorted"
   ]
  },
  {
   "cell_type": "code",
   "execution_count": 399,
   "metadata": {
    "collapsed": false
   },
   "outputs": [
    {
     "data": {
      "text/plain": [
       "(1.0, 0.0)"
      ]
     },
     "execution_count": 399,
     "metadata": {},
     "output_type": "execute_result"
    }
   ],
   "source": [
    "import scipy.stats\n",
    "#https://stackoverflow.com/a/6665059/1175496\n",
    "scipy.stats.pearsonr(size_v_cost_changed_3_sorted.house_size, size_v_cost_changed_3_sorted.cost)\n",
    "#Holy hell it gets a perfect correlation score!?"
   ]
  },
  {
   "cell_type": "code",
   "execution_count": 418,
   "metadata": {
    "collapsed": false
   },
   "outputs": [],
   "source": [
    "#sanity check\n",
    "#A value is trying to be set on a copy of a slice from a DataFrame -- because _sorted is the copy\n",
    "#size_v_cost_changed_3_sorted_tweak = size_v_cost_changed_3_sorted.copy()\n",
    "size_v_cost_changed_3_tweak = size_v_cost_changed_3.copy()\n",
    "#size_v_cost_changed_3_sorted_tweak.cost.iloc[(size_v_cost_changed_3_sorted_tweak.house_size==2200).values]=68005\n",
    "size_v_cost_changed_3_tweak.cost[size_v_cost_changed_3_tweak.house_size==2200]=68005\n"
   ]
  },
  {
   "cell_type": "code",
   "execution_count": 419,
   "metadata": {
    "collapsed": false
   },
   "outputs": [
    {
     "data": {
      "text/html": [
       "<div>\n",
       "<table border=\"1\" class=\"dataframe\">\n",
       "  <thead>\n",
       "    <tr style=\"text-align: right;\">\n",
       "      <th></th>\n",
       "      <th>cost</th>\n",
       "      <th>house_size</th>\n",
       "    </tr>\n",
       "  </thead>\n",
       "  <tbody>\n",
       "    <tr>\n",
       "      <th>0</th>\n",
       "      <td>53000</td>\n",
       "      <td>1700</td>\n",
       "    </tr>\n",
       "    <tr>\n",
       "      <th>1</th>\n",
       "      <td>65000</td>\n",
       "      <td>2100</td>\n",
       "    </tr>\n",
       "    <tr>\n",
       "      <th>2</th>\n",
       "      <td>59000</td>\n",
       "      <td>1900</td>\n",
       "    </tr>\n",
       "    <tr>\n",
       "      <th>3</th>\n",
       "      <td>41000</td>\n",
       "      <td>1300</td>\n",
       "    </tr>\n",
       "    <tr>\n",
       "      <th>4</th>\n",
       "      <td>50000</td>\n",
       "      <td>1600</td>\n",
       "    </tr>\n",
       "    <tr>\n",
       "      <th>5</th>\n",
       "      <td>68005</td>\n",
       "      <td>2200</td>\n",
       "    </tr>\n",
       "  </tbody>\n",
       "</table>\n",
       "</div>"
      ],
      "text/plain": [
       "    cost  house_size\n",
       "0  53000        1700\n",
       "1  65000        2100\n",
       "2  59000        1900\n",
       "3  41000        1300\n",
       "4  50000        1600\n",
       "5  68005        2200"
      ]
     },
     "execution_count": 419,
     "metadata": {},
     "output_type": "execute_result"
    }
   ],
   "source": [
    "size_v_cost_changed_3_tweak"
   ]
  },
  {
   "cell_type": "code",
   "execution_count": 421,
   "metadata": {
    "collapsed": false
   },
   "outputs": [
    {
     "data": {
      "text/plain": [
       "(0.99999998642141197, 2.7656707815211843e-16)"
      ]
     },
     "execution_count": 421,
     "metadata": {},
     "output_type": "execute_result"
    }
   ],
   "source": [
    "\n",
    "scipy.stats.pearsonr(size_v_cost_changed_3_tweak.house_size, size_v_cost_changed_3_tweak.cost)"
   ]
  },
  {
   "cell_type": "code",
   "execution_count": 425,
   "metadata": {
    "collapsed": false
   },
   "outputs": [
    {
     "data": {
      "text/plain": [
       "(0.44721359549995793, 0.45018485575210093)"
      ]
     },
     "execution_count": 425,
     "metadata": {},
     "output_type": "execute_result"
    }
   ],
   "source": [
    "\n",
    "scipy.stats.pearsonr((-2,-1,0,1,2), (2, 1, 2, 3, 2))"
   ]
  },
  {
   "cell_type": "code",
   "execution_count": 430,
   "metadata": {
    "collapsed": false
   },
   "outputs": [
    {
     "data": {
      "text/plain": [
       "(array([ 0.2,  2. ]), array([ 1.6]), 2, array([ 3.16227766,  2.23606798]))"
      ]
     },
     "execution_count": 430,
     "metadata": {},
     "output_type": "execute_result"
    }
   ],
   "source": [
    "np.linalg.lstsq(np.vstack([np.array((-2,-1,0,1,2)), np.ones(len(np.array((-2,-1,0,1,2))))]).T, np.array((2, 1, 2, 3, 2)))"
   ]
  },
  {
   "cell_type": "code",
   "execution_count": 440,
   "metadata": {
    "collapsed": false
   },
   "outputs": [
    {
     "data": {
      "text/plain": [
       "<matplotlib.axes._subplots.AxesSubplot at 0x216240359b0>"
      ]
     },
     "execution_count": 440,
     "metadata": {},
     "output_type": "execute_result"
    },
    {
     "data": {
      "image/png": "[encoded data removed]",
      "text/plain": [
       "<matplotlib.figure.Figure at 0x216244bb550>"
      ]
     },
     "metadata": {},
     "output_type": "display_data"
    }
   ],
   "source": [
    "pd.Series(index=(-2,-1,0,1,2), data=(2, 1, 2, 3, 2)).plot()\n"
   ]
  },
  {
   "cell_type": "code",
   "execution_count": 445,
   "metadata": {
    "collapsed": false
   },
   "outputs": [
    {
     "data": {
      "text/plain": [
       "<matplotlib.axes._subplots.AxesSubplot at 0x21625c9a278>"
      ]
     },
     "execution_count": 445,
     "metadata": {},
     "output_type": "execute_result"
    },
    {
     "data": {
      "image/png": "[encoded data removed]",
      "text/plain": [
       "<matplotlib.figure.Figure at 0x21625cfd940>"
      ]
     },
     "metadata": {},
     "output_type": "display_data"
    }
   ],
   "source": [
    "pd.DataFrame(dict(x=(-2,-1,0,1,2), y=(2, 1, 2, 3, 2))).plot(kind='scatter', x='x', y='y')\n"
   ]
  },
  {
   "cell_type": "markdown",
   "metadata": {},
   "source": [
    "# Realization\n",
    "Fixed cost per sq ft, is essentially asking if linear & intercept is 0;\n",
    "\n",
    "Whereas linearity is just asking if linear.\n"
   ]
  },
  {
   "cell_type": "code",
   "execution_count": 467,
   "metadata": {
    "collapsed": false
   },
   "outputs": [
    {
     "data": {
      "image/png": "[encoded data removed]",
      "text/plain": [
       "<matplotlib.figure.Figure at 0x21626308c18>"
      ]
     },
     "metadata": {},
     "output_type": "display_data"
    }
   ],
   "source": [
    "linear_ref_line(size_v_cost_changed, zmin=-100, zmax=-100)"
   ]
  },
  {
   "cell_type": "code",
   "execution_count": 482,
   "metadata": {
    "collapsed": false
   },
   "outputs": [
    {
     "data": {
      "text/plain": [
       "<matplotlib.text.Annotation at 0x2162601b048>"
      ]
     },
     "execution_count": 482,
     "metadata": {},
     "output_type": "execute_result"
    },
    {
     "data": {
      "image/png": "[encoded data removed]",
      "text/plain": [
       "<matplotlib.figure.Figure at 0x216262d9d68>"
      ]
     },
     "metadata": {},
     "output_type": "display_data"
    }
   ],
   "source": [
    "#zmin and zmax only work because they are scaling \"vectors\"\n",
    "#vectors, by definition, exist in relation to the origin. \n",
    "#And that's also what I'm demonstrating, that you can only see the line go through the origin\n",
    "#When there is a fixed cost per sqft\n",
    "linear_ref_line(size_v_cost_changed, zmin=-1, zmax=2)\n",
    "plt.axis([-10, 10, -linear_relationship_1(size_v_cost_changed)*10,  linear_relationship_1(size_v_cost_changed)*10])\n",
    "plt.plot(x=(0,), y=(0,),size=100, type='scatter')\n",
    "plt.annotate('origin (0,0)', xy=(0,0))\n"
   ]
  },
  {
   "cell_type": "code",
   "execution_count": 460,
   "metadata": {
    "collapsed": false
   },
   "outputs": [
    {
     "data": {
      "text/plain": [
       "0    70.0\n",
       "1    70.0\n",
       "2    70.0\n",
       "3    70.0\n",
       "4    70.0\n",
       "5    70.0\n",
       "dtype: float64"
      ]
     },
     "execution_count": 460,
     "metadata": {},
     "output_type": "execute_result"
    }
   ],
   "source": [
    "size_v_cost_changed.cost/size_v_cost_changed.house_size"
   ]
  },
  {
   "cell_type": "code",
   "execution_count": 453,
   "metadata": {
    "collapsed": false
   },
   "outputs": [
    {
     "data": {
      "image/png": "[encoded data removed]",
      "text/plain": [
       "<matplotlib.figure.Figure at 0x21625e910f0>"
      ]
     },
     "metadata": {},
     "output_type": "display_data"
    }
   ],
   "source": [
    "linear_ref_line(size_v_cost_changed)"
   ]
  },
  {
   "cell_type": "code",
   "execution_count": 489,
   "metadata": {
    "collapsed": false
   },
   "outputs": [],
   "source": [
    "size_v_cost_changed_4 = size_v_cost_changed_3.copy()\n",
    "size_v_cost_changed_4.cost[size_v_cost_changed_4.house_size==2100]=44000\n",
    "size_v_cost_changed_4.cost[size_v_cost_changed_4.house_size==1300]=82000\n",
    "#def is_it_linear(svc):\n",
    "size_v_cost_changed_4   \n",
    "def is_it_linear(svc=None):\n",
    "    svc = svc if svc is not None else size_v_cost_changed_4\n",
    "    return linear_ref_line(svc)"
   ]
  },
  {
   "cell_type": "code",
   "execution_count": 490,
   "metadata": {
    "collapsed": false
   },
   "outputs": [
    {
     "data": {
      "text/html": [
       "<div>\n",
       "<table border=\"1\" class=\"dataframe\">\n",
       "  <thead>\n",
       "    <tr style=\"text-align: right;\">\n",
       "      <th></th>\n",
       "      <th>cost</th>\n",
       "      <th>house_size</th>\n",
       "    </tr>\n",
       "  </thead>\n",
       "  <tbody>\n",
       "    <tr>\n",
       "      <th>0</th>\n",
       "      <td>53000</td>\n",
       "      <td>1700</td>\n",
       "    </tr>\n",
       "    <tr>\n",
       "      <th>1</th>\n",
       "      <td>44000</td>\n",
       "      <td>2100</td>\n",
       "    </tr>\n",
       "    <tr>\n",
       "      <th>2</th>\n",
       "      <td>59000</td>\n",
       "      <td>1900</td>\n",
       "    </tr>\n",
       "    <tr>\n",
       "      <th>3</th>\n",
       "      <td>82000</td>\n",
       "      <td>1300</td>\n",
       "    </tr>\n",
       "    <tr>\n",
       "      <th>4</th>\n",
       "      <td>50000</td>\n",
       "      <td>1600</td>\n",
       "    </tr>\n",
       "    <tr>\n",
       "      <th>5</th>\n",
       "      <td>68000</td>\n",
       "      <td>2200</td>\n",
       "    </tr>\n",
       "  </tbody>\n",
       "</table>\n",
       "</div>"
      ],
      "text/plain": [
       "    cost  house_size\n",
       "0  53000        1700\n",
       "1  44000        2100\n",
       "2  59000        1900\n",
       "3  82000        1300\n",
       "4  50000        1600\n",
       "5  68000        2200"
      ]
     },
     "execution_count": 490,
     "metadata": {},
     "output_type": "execute_result"
    }
   ],
   "source": [
    "size_v_cost_changed_4"
   ]
  },
  {
   "cell_type": "code",
   "execution_count": 495,
   "metadata": {
    "collapsed": false
   },
   "outputs": [],
   "source": [
    "#No, these points do not fall on a line; \n",
    "#size_v_cost_changed_4.size==1300 | size_v_cost_changed_4.size==2100\n",
    "def congratulations(svc=None):\n",
    "    svc = svc if svc is not None else size_v_cost_changed_4\n",
    "    plt.scatter(svc.house_size, svc.cost, s=100*len(svc), c= ((svc.house_size==1300) | (svc.house_size==2100))*1, edgecolor='black')"
   ]
  },
  {
   "cell_type": "code",
   "execution_count": 496,
   "metadata": {
    "collapsed": false
   },
   "outputs": [
    {
     "data": {
      "image/png": "[encoded data removed]",
      "text/plain": [
       "<matplotlib.figure.Figure at 0x216264d7550>"
      ]
     },
     "metadata": {},
     "output_type": "display_data"
    }
   ],
   "source": [
    "congratulations()"
   ]
  },
  {
   "cell_type": "code",
   "execution_count": 502,
   "metadata": {
    "collapsed": false
   },
   "outputs": [],
   "source": [
    "zero_to_five = pd.Series(range(0,6))\n",
    "x_and_two_x = pd.DataFrame(dict(x=zero_to_five.apply(lambda x:x), two_x=zero_to_five.apply(lambda x:2*x)))"
   ]
  },
  {
   "cell_type": "code",
   "execution_count": 503,
   "metadata": {
    "collapsed": false
   },
   "outputs": [
    {
     "data": {
      "text/html": [
       "<div>\n",
       "<table border=\"1\" class=\"dataframe\">\n",
       "  <thead>\n",
       "    <tr style=\"text-align: right;\">\n",
       "      <th></th>\n",
       "      <th>two_x</th>\n",
       "      <th>x</th>\n",
       "    </tr>\n",
       "  </thead>\n",
       "  <tbody>\n",
       "    <tr>\n",
       "      <th>0</th>\n",
       "      <td>0</td>\n",
       "      <td>0</td>\n",
       "    </tr>\n",
       "    <tr>\n",
       "      <th>1</th>\n",
       "      <td>2</td>\n",
       "      <td>1</td>\n",
       "    </tr>\n",
       "    <tr>\n",
       "      <th>2</th>\n",
       "      <td>4</td>\n",
       "      <td>2</td>\n",
       "    </tr>\n",
       "    <tr>\n",
       "      <th>3</th>\n",
       "      <td>6</td>\n",
       "      <td>3</td>\n",
       "    </tr>\n",
       "    <tr>\n",
       "      <th>4</th>\n",
       "      <td>8</td>\n",
       "      <td>4</td>\n",
       "    </tr>\n",
       "    <tr>\n",
       "      <th>5</th>\n",
       "      <td>10</td>\n",
       "      <td>5</td>\n",
       "    </tr>\n",
       "  </tbody>\n",
       "</table>\n",
       "</div>"
      ],
      "text/plain": [
       "   two_x  x\n",
       "0      0  0\n",
       "1      2  1\n",
       "2      4  2\n",
       "3      6  3\n",
       "4      8  4\n",
       "5     10  5"
      ]
     },
     "execution_count": 503,
     "metadata": {},
     "output_type": "execute_result"
    }
   ],
   "source": [
    "x_and_two_x"
   ]
  },
  {
   "cell_type": "code",
   "execution_count": null,
   "metadata": {
    "collapsed": true
   },
   "outputs": [],
   "source": []
  }
 ],
 "metadata": {
  "kernelspec": {
   "display_name": "Python 3",
   "language": "python",
   "name": "python3"
  },
  "language_info": {
   "codemirror_mode": {
    "name": "ipython",
    "version": 3
   },
   "file_extension": ".py",
   "mimetype": "text/x-python",
   "name": "python",
   "nbconvert_exporter": "python",
   "pygments_lexer": "ipython3",
   "version": "3.6.0"
  }
 },
 "nbformat": 4,
 "nbformat_minor": 0
}
