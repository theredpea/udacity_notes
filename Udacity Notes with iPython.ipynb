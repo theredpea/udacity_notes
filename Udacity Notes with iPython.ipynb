{
 "metadata": {
  "name": "",
  "signature": "sha256:201e2cb9160a9ff3f2fbb0d6af95ee4795cfc37369c676189b5ab1eefbf8646b"
 },
 "nbformat": 3,
 "nbformat_minor": 0,
 "worksheets": [
  {
   "cells": [
    {
     "cell_type": "markdown",
     "metadata": {},
     "source": [
      "#Filename Convention"
     ]
    },
    {
     "cell_type": "markdown",
     "metadata": {},
     "source": [
      "##Using Udacity's API\n",
      "Learn more at https://s3.amazonaws.com/content.udacity-data.com/techdocs/UdacityCourseCatalogAPIDocumentation-v0.pdf"
     ]
    },
    {
     "cell_type": "code",
     "collapsed": false,
     "input": [
      "import json,urllib, re\n",
      "#Can't use urlli.urlopen that's Python 2.x, this is Python 3.x\n",
      "courses = {}\n",
      "\n",
      "def get_courses():\n",
      "    \"\"\"\n",
      "    {\n",
      "        \"courses\":[\n",
      "        {\n",
      "        \"key\":\"cs101\",\n",
      "        \"title\":\"IntrotoComputerScience\",\n",
      "        \"homepage\":\"https://www.udacity.com/course/cs101\",\n",
      "        \"subtitle\":\"BuildaSearchEngine&aSocialNetwork\",\n",
      "        \"level\":\"beginner\",\n",
      "        \"starter\":true,\n",
      "        \"image\":\"https://lh5.ggpht.com/ITepKi-2pz4Q6lrLfv6QDNViEG\u2026\",\n",
      "        \"banner_image\":\"https://lh4.ggpht.com/9L_ZBdT4T19FvJGW\u2026\",\n",
      "        \"teaser_video\":{\n",
      "        \"youtube_url\":\"https://www.youtube.com/watch?v=Pm_WAWZNbdA\"\n",
      "        },\n",
      "        \"summary\":\"Inthisintroductorycourse,you'lllearn\u2026\",\n",
      "        \"short_summary\":\"Learnkeycomputerscienceconceptsin\u2026\",\n",
      "        \"required_knowledge\":\"Thereisnopriorprogramming\u2026\",\n",
      "        \"expected_learning\":\"You'lllearntheprogramminglanguage\u2026\",\n",
      "        \"featured\":true,\n",
      "        \"syllabus\":\"###Lesson1:HowtoGetStarted\u2026\",\n",
      "        \"faq\":\"###Whendoesthecoursebegin?Thisclassisself\u2026\",\n",
      "        \"full_course_available\":true,\n",
      "        \"expected_duration\":3,\n",
      "        \"expected_duration_unit\":\"months\",\n",
      "        \"new_release\":false,\n",
      "        \"tracks\":[\"DataScience\",\"WebDevelopment\",\"SoftwareEng\"],\n",
      "        \"affiliates\":[],\n",
      "        \"instructors\":[{\"name\":\"DaveEvans\",\"bio\":\"Daveis...\",\n",
      "        \"image\":\"https://lh6.ggpht.com/1x-8cXA7J\u2026\"}]\n",
      "        },\n",
      "        {\n",
      "        \"key\":\"cs046\",\n",
      "        \"title\":\"IntrotoJavaProgramming\",\n",
      "        \"faq\":\"\",\n",
      "        \"affiliates\":[\n",
      "        {\"name\":\"SanJoseStateUniversity\",\n",
      "        \"image\":\"https://lh3.ggpht.com/MpxH41jmm6mn0XOaVq6d\u2026\"}\n",
      "        ],\n",
      "        \"instructors\":[\n",
      "        {\"name\":\"CayHorstmann\",\"bio\":\"CaygrewupinNorth\u2026\",\n",
      "        \"image\":\"https://lh5.ggpht.com/b-pMaSLEZOPel9P2s4AIo\u2026\"}\n",
      "        ],\n",
      "        \u2026\n",
      "        },\n",
      "        \u2026\n",
      "        ],\n",
      "        \"tracks\":[\n",
      "        {\n",
      "        \"courses\":[\"cs101\",\"ud359\",\"ud827\",\"ud201\",\"ud617\",\u2026],\n",
      "        \"name\":\"DataScience\",\n",
      "        \"description\":\"Learndatasciencefromindustryexperts\u2026\"\n",
      "        },\n",
      "        \u2026\n",
      "        ]\n",
      "        }\n",
      "    :returns: list of dicts with course info described https://s3.amazonaws.com/content.udacity-data.com/techdocs/UdacityCourseCatalogAPIDocumentation-v0.pdf\n",
      "    \"\"\"\n",
      "    global courses \n",
      "    if not courses:\n",
      "        courses = json.loads(urllib.request.urlopen('https://www.udacity.com/public-api/v0/courses').read().decode('utf-8'))\n",
      "    return courses.get('courses')\n",
      "\n",
      "def get_course(course_title=None, course_key=None):\n",
      "    \"\"\"\n",
      "    :param course_title: the course 'title'\n",
      "    :param course_key: the course 'key'.\n",
      "    :raises ArgumentError: If course_title and course_key are both Falsey\n",
      "    :raises IndexError: If no courses match params\n",
      "    :returns: dict with course info where title or key matches params\n",
      "    \"\"\"\n",
      "    if not (course_title or course_key):\n",
      "        raise ArgumentError('Must provide course_title or course_key.')\n",
      "    try:\n",
      "        course_list = filter(lambda x: x.get('title') == course_title or x.get('key') == course_key, get_courses())\n",
      "        course = list(course_list)[0]\n",
      "    except (IndexError, Exception) as e:\n",
      "        raise ValueError('No such course: \"{}\"'.format(e))\n",
      "    return course\n",
      "\n",
      "def get_course_lessons(course_dict):\n",
      "    \"\"\"\n",
      "    Lessons are punctuated by Problem Sets (generally with same name as lesson), at least in this case:\n",
      "    https://www.udacity.com/course/progress#!/c-st101\n",
      "    :param course_dict: dict representing course. Should have key 'syllabus' where value is Markdown'd string\n",
      "    :returns: dict. 'num' is int (or 0 if cannot parse). 'title' is string name\n",
      "    \"\"\"\n",
      "    return list((int(_[0] or '0'), _[1]) for _ in re.findall('Lesson\\s*(\\d*)\\.?\\s*([^\\n]*)', course_dict.get('syllabus', '')))\n",
      "\n",
      "def get_course_lesson(course_dict, lesson_num=None, lesson_name=None):\n",
      "    if not (lesson_num or lesson_name):\n",
      "        raise ArgumentError('Must provide lesson_num or lesson_name')\n",
      "    try:\n",
      "        lesson_list = filter(lambda x: x[0]==lesson_num or x[1] == lesson_name, get_course_lessons(course_dict))\n",
      "        lesson = list(lesson_list)[0]\n",
      "    except (IndexError, Exception) as e:\n",
      "        raise ValueError('No such lesson: \"{}\"'.format(e))\n",
      "    return lesson\n"
     ],
     "language": "python",
     "metadata": {},
     "outputs": [],
     "prompt_number": 2
    },
    {
     "cell_type": "code",
     "collapsed": false,
     "input": [
      "def pynb_filename(course_title=None, course_key=None, lesson_num=None, lesson_name=None, section_name=None, section_number=None, slide_name=None, problem_set=False):\n",
      "    \"\"\"Return filename for a python notebook made for a particular section\n",
      "\n",
      "    :param course_title: ex 'Intro to Statitistics' Represents course from link https://www.udacity.com/courses#!/all. Corresponds to folder. \n",
      "    :param course_key:   ex 'st101' Alternative to course_title.\n",
      "    :param lesson_num: ex 1 (corresponding to 'Visualizing relationships in data'). Represents lesson in syllabus. Corresponds to file. \n",
      "    :param lesson_name: : ex 'Visualizing relationships in data'. Alternative to lesson_num\n",
      "    :param section_name: ex 1. Represents an item from dropdown in course. Corresponds to class.\n",
      "    :param slide_title: ex 'Welcome'. Corresponds to public method.\n",
      "    :param problem_set: ex False . True if this section is a problem_set.\n",
      "    :returns Formatted filename; the rest (directory, class) is up to you:\n",
      "    \"\"\"\n",
      "    course = get_course(course_title, course_key)\n",
      "    course_key = course.get('key')\n",
      "    \n",
      "    lesson = get_course_lesson(course, lesson_num, lesson_name)\n",
      "    lesson_name = lesson[1].replace(':','').strip().replace(' ','_')\n",
      "    lesson_number = lesson[0]\n",
      "    section_name = section_name.replace(':', '').strip().replace('/','')\n",
      "    \n",
      "    return '{0}__{1}_{2}__{3}_{4}{5}.ipynb'.format(course_key, \n",
      "                                       lesson_number,\n",
      "                                       lesson_name,\n",
      "                                       section_number or '',\n",
      "                                       section_name or '',\n",
      "                                       ('__' + slide_name if slide_name else  ''))"
     ],
     "language": "python",
     "metadata": {},
     "outputs": [],
     "prompt_number": 3
    },
    {
     "cell_type": "code",
     "collapsed": false,
     "input": [
      "pynb_filename(course_key='st101', lesson_num=7)\n"
     ],
     "language": "python",
     "metadata": {},
     "outputs": [
      {
       "ename": "AttributeError",
       "evalue": "'NoneType' object has no attribute 'replace'",
       "output_type": "pyerr",
       "traceback": [
        "\u001b[1;31m---------------------------------------------------------------------------\u001b[0m\n\u001b[1;31mAttributeError\u001b[0m                            Traceback (most recent call last)",
        "\u001b[1;32m<ipython-input-5-f9713f8d9aae>\u001b[0m in \u001b[0;36m<module>\u001b[1;34m()\u001b[0m\n\u001b[1;32m----> 1\u001b[1;33m \u001b[0mpynb_filename\u001b[0m\u001b[1;33m(\u001b[0m\u001b[0mcourse_key\u001b[0m\u001b[1;33m=\u001b[0m\u001b[1;34m'st101'\u001b[0m\u001b[1;33m,\u001b[0m \u001b[0mlesson_num\u001b[0m\u001b[1;33m=\u001b[0m\u001b[1;36m7\u001b[0m\u001b[1;33m)\u001b[0m\u001b[1;33m\u001b[0m\u001b[0m\n\u001b[0m",
        "\u001b[1;32m<ipython-input-3-bcadb9ba77a2>\u001b[0m in \u001b[0;36mpynb_filename\u001b[1;34m(course_title, course_key, lesson_num, lesson_name, section_name, section_number, slide_name, problem_set)\u001b[0m\n\u001b[0;32m     17\u001b[0m     \u001b[0mlesson_name\u001b[0m \u001b[1;33m=\u001b[0m \u001b[0mlesson\u001b[0m\u001b[1;33m[\u001b[0m\u001b[1;36m1\u001b[0m\u001b[1;33m]\u001b[0m\u001b[1;33m.\u001b[0m\u001b[0mreplace\u001b[0m\u001b[1;33m(\u001b[0m\u001b[1;34m':'\u001b[0m\u001b[1;33m,\u001b[0m\u001b[1;34m''\u001b[0m\u001b[1;33m)\u001b[0m\u001b[1;33m.\u001b[0m\u001b[0mstrip\u001b[0m\u001b[1;33m(\u001b[0m\u001b[1;33m)\u001b[0m\u001b[1;33m.\u001b[0m\u001b[0mreplace\u001b[0m\u001b[1;33m(\u001b[0m\u001b[1;34m' '\u001b[0m\u001b[1;33m,\u001b[0m\u001b[1;34m'_'\u001b[0m\u001b[1;33m)\u001b[0m\u001b[1;33m\u001b[0m\u001b[0m\n\u001b[0;32m     18\u001b[0m     \u001b[0mlesson_number\u001b[0m \u001b[1;33m=\u001b[0m \u001b[0mlesson\u001b[0m\u001b[1;33m[\u001b[0m\u001b[1;36m0\u001b[0m\u001b[1;33m]\u001b[0m\u001b[1;33m\u001b[0m\u001b[0m\n\u001b[1;32m---> 19\u001b[1;33m     \u001b[0msection_name\u001b[0m \u001b[1;33m=\u001b[0m \u001b[0msection_name\u001b[0m\u001b[1;33m.\u001b[0m\u001b[0mreplace\u001b[0m\u001b[1;33m(\u001b[0m\u001b[1;34m':'\u001b[0m\u001b[1;33m,\u001b[0m \u001b[1;34m''\u001b[0m\u001b[1;33m)\u001b[0m\u001b[1;33m.\u001b[0m\u001b[0mstrip\u001b[0m\u001b[1;33m(\u001b[0m\u001b[1;33m)\u001b[0m\u001b[1;33m.\u001b[0m\u001b[0mreplace\u001b[0m\u001b[1;33m(\u001b[0m\u001b[1;34m'/'\u001b[0m\u001b[1;33m,\u001b[0m\u001b[1;34m''\u001b[0m\u001b[1;33m)\u001b[0m\u001b[1;33m\u001b[0m\u001b[0m\n\u001b[0m\u001b[0;32m     20\u001b[0m \u001b[1;33m\u001b[0m\u001b[0m\n\u001b[0;32m     21\u001b[0m     return '{0}__{1}_{2}__{3}_{4}{5}.ipynb'.format(course_key, \n",
        "\u001b[1;31mAttributeError\u001b[0m: 'NoneType' object has no attribute 'replace'"
       ]
      }
     ],
     "prompt_number": 5
    },
    {
     "cell_type": "code",
     "collapsed": false,
     "input": [
      "pynb_filename(course_key='st101', lesson_num=1)\n"
     ],
     "language": "python",
     "metadata": {},
     "outputs": [
      {
       "ename": "AttributeError",
       "evalue": "'NoneType' object has no attribute 'replace'",
       "output_type": "pyerr",
       "traceback": [
        "\u001b[1;31m---------------------------------------------------------------------------\u001b[0m\n\u001b[1;31mAttributeError\u001b[0m                            Traceback (most recent call last)",
        "\u001b[1;32m<ipython-input-6-bed363903de6>\u001b[0m in \u001b[0;36m<module>\u001b[1;34m()\u001b[0m\n\u001b[1;32m----> 1\u001b[1;33m \u001b[0mpynb_filename\u001b[0m\u001b[1;33m(\u001b[0m\u001b[0mcourse_key\u001b[0m\u001b[1;33m=\u001b[0m\u001b[1;34m'st101'\u001b[0m\u001b[1;33m,\u001b[0m \u001b[0mlesson_num\u001b[0m\u001b[1;33m=\u001b[0m\u001b[1;36m1\u001b[0m\u001b[1;33m)\u001b[0m\u001b[1;33m\u001b[0m\u001b[0m\n\u001b[0m",
        "\u001b[1;32m<ipython-input-3-bcadb9ba77a2>\u001b[0m in \u001b[0;36mpynb_filename\u001b[1;34m(course_title, course_key, lesson_num, lesson_name, section_name, section_number, slide_name, problem_set)\u001b[0m\n\u001b[0;32m     17\u001b[0m     \u001b[0mlesson_name\u001b[0m \u001b[1;33m=\u001b[0m \u001b[0mlesson\u001b[0m\u001b[1;33m[\u001b[0m\u001b[1;36m1\u001b[0m\u001b[1;33m]\u001b[0m\u001b[1;33m.\u001b[0m\u001b[0mreplace\u001b[0m\u001b[1;33m(\u001b[0m\u001b[1;34m':'\u001b[0m\u001b[1;33m,\u001b[0m\u001b[1;34m''\u001b[0m\u001b[1;33m)\u001b[0m\u001b[1;33m.\u001b[0m\u001b[0mstrip\u001b[0m\u001b[1;33m(\u001b[0m\u001b[1;33m)\u001b[0m\u001b[1;33m.\u001b[0m\u001b[0mreplace\u001b[0m\u001b[1;33m(\u001b[0m\u001b[1;34m' '\u001b[0m\u001b[1;33m,\u001b[0m\u001b[1;34m'_'\u001b[0m\u001b[1;33m)\u001b[0m\u001b[1;33m\u001b[0m\u001b[0m\n\u001b[0;32m     18\u001b[0m     \u001b[0mlesson_number\u001b[0m \u001b[1;33m=\u001b[0m \u001b[0mlesson\u001b[0m\u001b[1;33m[\u001b[0m\u001b[1;36m0\u001b[0m\u001b[1;33m]\u001b[0m\u001b[1;33m\u001b[0m\u001b[0m\n\u001b[1;32m---> 19\u001b[1;33m     \u001b[0msection_name\u001b[0m \u001b[1;33m=\u001b[0m \u001b[0msection_name\u001b[0m\u001b[1;33m.\u001b[0m\u001b[0mreplace\u001b[0m\u001b[1;33m(\u001b[0m\u001b[1;34m':'\u001b[0m\u001b[1;33m,\u001b[0m \u001b[1;34m''\u001b[0m\u001b[1;33m)\u001b[0m\u001b[1;33m.\u001b[0m\u001b[0mstrip\u001b[0m\u001b[1;33m(\u001b[0m\u001b[1;33m)\u001b[0m\u001b[1;33m.\u001b[0m\u001b[0mreplace\u001b[0m\u001b[1;33m(\u001b[0m\u001b[1;34m'/'\u001b[0m\u001b[1;33m,\u001b[0m\u001b[1;34m''\u001b[0m\u001b[1;33m)\u001b[0m\u001b[1;33m\u001b[0m\u001b[0m\n\u001b[0m\u001b[0;32m     20\u001b[0m \u001b[1;33m\u001b[0m\u001b[0m\n\u001b[0;32m     21\u001b[0m     return '{0}__{1}_{2}__{3}_{4}{5}.ipynb'.format(course_key, \n",
        "\u001b[1;31mAttributeError\u001b[0m: 'NoneType' object has no attribute 'replace'"
       ]
      }
     ],
     "prompt_number": 6
    },
    {
     "cell_type": "code",
     "collapsed": false,
     "input": [
      "pynb_filename(course_key='st101', lesson_num=1, section_name='Scatter Plots', section_number = 3)\n"
     ],
     "language": "python",
     "metadata": {},
     "outputs": [
      {
       "metadata": {},
       "output_type": "pyout",
       "prompt_number": 7,
       "text": [
        "'st101__1_Visualizing_relationships_in_data__3_Scatter Plots.ipynb'"
       ]
      }
     ],
     "prompt_number": 7
    },
    {
     "cell_type": "code",
     "collapsed": false,
     "input": [
      "pynb_filename(course_key='st101', lesson_num=8)\n"
     ],
     "language": "python",
     "metadata": {},
     "outputs": [
      {
       "ename": "ValueError",
       "evalue": "No such lesson: \"list index out of range\"",
       "output_type": "pyerr",
       "traceback": [
        "\u001b[1;31m---------------------------------------------------------------------------\u001b[0m\n\u001b[1;31mValueError\u001b[0m                                Traceback (most recent call last)",
        "\u001b[1;32m<ipython-input-8-710cf7a7214e>\u001b[0m in \u001b[0;36m<module>\u001b[1;34m()\u001b[0m\n\u001b[1;32m----> 1\u001b[1;33m \u001b[0mpynb_filename\u001b[0m\u001b[1;33m(\u001b[0m\u001b[0mcourse_key\u001b[0m\u001b[1;33m=\u001b[0m\u001b[1;34m'st101'\u001b[0m\u001b[1;33m,\u001b[0m \u001b[0mlesson_num\u001b[0m\u001b[1;33m=\u001b[0m\u001b[1;36m8\u001b[0m\u001b[1;33m)\u001b[0m\u001b[1;33m\u001b[0m\u001b[0m\n\u001b[0m",
        "\u001b[1;32m<ipython-input-3-bcadb9ba77a2>\u001b[0m in \u001b[0;36mpynb_filename\u001b[1;34m(course_title, course_key, lesson_num, lesson_name, section_name, section_number, slide_name, problem_set)\u001b[0m\n\u001b[0;32m     14\u001b[0m     \u001b[0mcourse_key\u001b[0m \u001b[1;33m=\u001b[0m \u001b[0mcourse\u001b[0m\u001b[1;33m.\u001b[0m\u001b[0mget\u001b[0m\u001b[1;33m(\u001b[0m\u001b[1;34m'key'\u001b[0m\u001b[1;33m)\u001b[0m\u001b[1;33m\u001b[0m\u001b[0m\n\u001b[0;32m     15\u001b[0m \u001b[1;33m\u001b[0m\u001b[0m\n\u001b[1;32m---> 16\u001b[1;33m     \u001b[0mlesson\u001b[0m \u001b[1;33m=\u001b[0m \u001b[0mget_course_lesson\u001b[0m\u001b[1;33m(\u001b[0m\u001b[0mcourse\u001b[0m\u001b[1;33m,\u001b[0m \u001b[0mlesson_num\u001b[0m\u001b[1;33m,\u001b[0m \u001b[0mlesson_name\u001b[0m\u001b[1;33m)\u001b[0m\u001b[1;33m\u001b[0m\u001b[0m\n\u001b[0m\u001b[0;32m     17\u001b[0m     \u001b[0mlesson_name\u001b[0m \u001b[1;33m=\u001b[0m \u001b[0mlesson\u001b[0m\u001b[1;33m[\u001b[0m\u001b[1;36m1\u001b[0m\u001b[1;33m]\u001b[0m\u001b[1;33m.\u001b[0m\u001b[0mreplace\u001b[0m\u001b[1;33m(\u001b[0m\u001b[1;34m':'\u001b[0m\u001b[1;33m,\u001b[0m\u001b[1;34m''\u001b[0m\u001b[1;33m)\u001b[0m\u001b[1;33m.\u001b[0m\u001b[0mstrip\u001b[0m\u001b[1;33m(\u001b[0m\u001b[1;33m)\u001b[0m\u001b[1;33m.\u001b[0m\u001b[0mreplace\u001b[0m\u001b[1;33m(\u001b[0m\u001b[1;34m' '\u001b[0m\u001b[1;33m,\u001b[0m\u001b[1;34m'_'\u001b[0m\u001b[1;33m)\u001b[0m\u001b[1;33m\u001b[0m\u001b[0m\n\u001b[0;32m     18\u001b[0m     \u001b[0mlesson_number\u001b[0m \u001b[1;33m=\u001b[0m \u001b[0mlesson\u001b[0m\u001b[1;33m[\u001b[0m\u001b[1;36m0\u001b[0m\u001b[1;33m]\u001b[0m\u001b[1;33m\u001b[0m\u001b[0m\n",
        "\u001b[1;32m<ipython-input-2-64abb666eb1f>\u001b[0m in \u001b[0;36mget_course_lesson\u001b[1;34m(course_dict, lesson_num, lesson_name)\u001b[0m\n\u001b[0;32m    100\u001b[0m         \u001b[0mlesson\u001b[0m \u001b[1;33m=\u001b[0m \u001b[0mlist\u001b[0m\u001b[1;33m(\u001b[0m\u001b[0mlesson_list\u001b[0m\u001b[1;33m)\u001b[0m\u001b[1;33m[\u001b[0m\u001b[1;36m0\u001b[0m\u001b[1;33m]\u001b[0m\u001b[1;33m\u001b[0m\u001b[0m\n\u001b[0;32m    101\u001b[0m     \u001b[1;32mexcept\u001b[0m \u001b[1;33m(\u001b[0m\u001b[0mIndexError\u001b[0m\u001b[1;33m,\u001b[0m \u001b[0mException\u001b[0m\u001b[1;33m)\u001b[0m \u001b[1;32mas\u001b[0m \u001b[0me\u001b[0m\u001b[1;33m:\u001b[0m\u001b[1;33m\u001b[0m\u001b[0m\n\u001b[1;32m--> 102\u001b[1;33m         \u001b[1;32mraise\u001b[0m \u001b[0mValueError\u001b[0m\u001b[1;33m(\u001b[0m\u001b[1;34m'No such lesson: \"{}\"'\u001b[0m\u001b[1;33m.\u001b[0m\u001b[0mformat\u001b[0m\u001b[1;33m(\u001b[0m\u001b[0me\u001b[0m\u001b[1;33m)\u001b[0m\u001b[1;33m)\u001b[0m\u001b[1;33m\u001b[0m\u001b[0m\n\u001b[0m\u001b[0;32m    103\u001b[0m     \u001b[1;32mreturn\u001b[0m \u001b[0mlesson\u001b[0m\u001b[1;33m\u001b[0m\u001b[0m\n",
        "\u001b[1;31mValueError\u001b[0m: No such lesson: \"list index out of range\""
       ]
      }
     ],
     "prompt_number": 8
    },
    {
     "cell_type": "code",
     "collapsed": false,
     "input": [
      "pynb_filename(course_key='st101', lesson_num=1, section_name='Teaser')"
     ],
     "language": "python",
     "metadata": {},
     "outputs": [
      {
       "metadata": {},
       "output_type": "pyout",
       "prompt_number": 9,
       "text": [
        "'st101__1_Visualizing_relationships_in_data___Teaser.ipynb'"
       ]
      }
     ],
     "prompt_number": 9
    },
    {
     "cell_type": "code",
     "collapsed": false,
     "input": [
      "pynb_filename(course_key='st101', lesson_num=1, section_name='Looking at Data')"
     ],
     "language": "python",
     "metadata": {},
     "outputs": [
      {
       "metadata": {},
       "output_type": "pyout",
       "prompt_number": 10,
       "text": [
        "'st101__1_Visualizing_relationships_in_data___Looking at Data.ipynb'"
       ]
      }
     ],
     "prompt_number": 10
    },
    {
     "cell_type": "code",
     "collapsed": false,
     "input": [
      "pynb_filename(course_key='st101', lesson_num=1, section_name='Scatter Plots')"
     ],
     "language": "python",
     "metadata": {},
     "outputs": [
      {
       "metadata": {},
       "output_type": "pyout",
       "prompt_number": 11,
       "text": [
        "'st101__1_Visualizing_relationships_in_data___Scatter Plots.ipynb'"
       ]
      }
     ],
     "prompt_number": 11
    },
    {
     "cell_type": "code",
     "collapsed": false,
     "input": [
      "pynb_filename(course_key='st101', lesson_num=1, section_name='Bar Charts', section_number = 4)"
     ],
     "language": "python",
     "metadata": {},
     "outputs": [
      {
       "metadata": {},
       "output_type": "pyout",
       "prompt_number": 12,
       "text": [
        "'st101__1_Visualizing_relationships_in_data__4_Bar Charts.ipynb'"
       ]
      }
     ],
     "prompt_number": 12
    },
    {
     "cell_type": "code",
     "collapsed": false,
     "input": [
      "pynb_filename(course_key='st101', lesson_num=1, section_name='Pie Charts', section_number=5)"
     ],
     "language": "python",
     "metadata": {},
     "outputs": [
      {
       "metadata": {},
       "output_type": "pyout",
       "prompt_number": 13,
       "text": [
        "'st101__1_Visualizing_relationships_in_data__5_Pie Charts.ipynb'"
       ]
      }
     ],
     "prompt_number": 13
    },
    {
     "cell_type": "code",
     "collapsed": false,
     "input": [
      "pynb_filename(course_key='st101', lesson_num=1, section_name='Programming Charts', section_number=6)"
     ],
     "language": "python",
     "metadata": {},
     "outputs": [
      {
       "metadata": {},
       "output_type": "pyout",
       "prompt_number": 14,
       "text": [
        "'st101__1_Visualizing_relationships_in_data__6_Programming Charts.ipynb'"
       ]
      }
     ],
     "prompt_number": 14
    },
    {
     "cell_type": "code",
     "collapsed": false,
     "input": [
      "pynb_filename(course_key='st101', lesson_num=1, section_name='Admissions Case Study', section_number=7)"
     ],
     "language": "python",
     "metadata": {},
     "outputs": [
      {
       "metadata": {},
       "output_type": "pyout",
       "prompt_number": 15,
       "text": [
        "'st101__1_Visualizing_relationships_in_data__7_Admissions Case Study.ipynb'"
       ]
      }
     ],
     "prompt_number": 15
    },
    {
     "cell_type": "code",
     "collapsed": false,
     "input": [
      "get_course_lessons(get_course(course_key='st101'))"
     ],
     "language": "python",
     "metadata": {},
     "outputs": [
      {
       "metadata": {},
       "output_type": "pyout",
       "prompt_number": 16,
       "text": [
        "[(1, ': Visualizing relationships in data'),\n",
        " (2, ': Probability '),\n",
        " (3, ': Estimation '),\n",
        " (4, ': Outliers and Normal Distribution '),\n",
        " (5, ': Inference'),\n",
        " (6, ': Regression'),\n",
        " (7, ': Final Exam')]"
       ]
      }
     ],
     "prompt_number": 16
    },
    {
     "cell_type": "code",
     "collapsed": false,
     "input": [
      "pynb_filename(course_key='st101', lesson_num=1, section_name='Problem Set 1: Visualization')"
     ],
     "language": "python",
     "metadata": {},
     "outputs": [
      {
       "metadata": {},
       "output_type": "pyout",
       "prompt_number": 17,
       "text": [
        "'st101__1_Visualizing_relationships_in_data___Problem Set 1 Visualization.ipynb'"
       ]
      }
     ],
     "prompt_number": 17
    },
    {
     "cell_type": "code",
     "collapsed": false,
     "input": [
      "pynb_filename(course_key='st101', lesson_num=2, section_name='Probability', section_number=8)"
     ],
     "language": "python",
     "metadata": {},
     "outputs": [
      {
       "metadata": {},
       "output_type": "pyout",
       "prompt_number": 18,
       "text": [
        "'st101__2_Probability__8_Probability.ipynb'"
       ]
      }
     ],
     "prompt_number": 18
    },
    {
     "cell_type": "code",
     "collapsed": false,
     "input": [
      "pynb_filename(course_key='st101', lesson_num=2, section_name='Conditional Probability', section_number=9)"
     ],
     "language": "python",
     "metadata": {},
     "outputs": [
      {
       "metadata": {},
       "output_type": "pyout",
       "prompt_number": 19,
       "text": [
        "'st101__2_Probability__9_Conditional Probability.ipynb'"
       ]
      }
     ],
     "prompt_number": 19
    },
    {
     "cell_type": "code",
     "collapsed": false,
     "input": [],
     "language": "python",
     "metadata": {},
     "outputs": [],
     "prompt_number": 19
    }
   ],
   "metadata": {}
  }
 ]
}