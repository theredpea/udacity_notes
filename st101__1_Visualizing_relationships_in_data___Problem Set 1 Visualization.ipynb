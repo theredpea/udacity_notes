{
 "cells": [
  {
   "cell_type": "code",
   "execution_count": 2,
   "metadata": {
    "collapsed": false
   },
   "outputs": [],
   "source": [
    "import pandas as pd\n",
    "import numpy as np\n",
    "import matplotlib.pyplot as plt\n",
    "%matplotlib inline\n",
    "\n",
    "def gpa_scatter_plot():\n",
    "    \"\"\"\n",
    "    :returns: tuple; \n",
    "    first value true if the data is linear,\n",
    "    second value true if the data  is exact\n",
    "    \"\"\"\n",
    "    #But I want to use code to generate data that looks like his\n",
    "    #And then use code to derive the answers; that a line seems appropriate\n",
    "    #But the line would not be exact...\n",
    "    return (True, False)\n",
    "\n",
    "    "
   ]
  },
  {
   "cell_type": "code",
   "execution_count": 3,
   "metadata": {
    "collapsed": true
   },
   "outputs": [],
   "source": [
    "from scipy.stats import pearsonr "
   ]
  },
  {
   "cell_type": "code",
   "execution_count": 10,
   "metadata": {
    "collapsed": false
   },
   "outputs": [],
   "source": [
    "assert gpa_scatter_plot()== (True, False), 'Data appears linear, but not exact, fair amount of deviation'\n",
    "gpa_scatter_plot_solution = 'https://www.udacity.com/course/viewer#!/c-st101/l-48299988/e-48723633/m-48403763'"
   ]
  },
  {
   "cell_type": "code",
   "execution_count": 11,
   "metadata": {
    "collapsed": false
   },
   "outputs": [],
   "source": [
    "def scatter_plot_region():\n",
    "    \"\"\"\n",
    "    :returns : where a point is, if HS GPA == College GPA\n",
    "    On a graph where a 45 degree line is plotted\n",
    "    \"\"\"\n",
    "    return 'On the line'\n"
   ]
  },
  {
   "cell_type": "code",
   "execution_count": 12,
   "metadata": {
    "collapsed": false
   },
   "outputs": [],
   "source": [
    "assert scatter_plot_region() == 'On the line', 'By definition, this line contains all points where HS GPA == College GPA'\n",
    "scatter_plot_region_solution = 'https://www.udacity.com/course/viewer#!/c-st101/l-48299988/e-48755048/m-48369769'"
   ]
  },
  {
   "cell_type": "code",
   "execution_count": 13,
   "metadata": {
    "collapsed": false
   },
   "outputs": [],
   "source": [
    "def scatter_plot_regions_2():\n",
    "    \"\"\"\n",
    "    :returns : where a point is, if his HS GPA < College GPA\n",
    "    On a graph where 45 degree line is plotted\n",
    "    \"\"\"\n",
    "    return 'Below the line'\n",
    "\n"
   ]
  },
  {
   "cell_type": "code",
   "execution_count": 14,
   "metadata": {
    "collapsed": false
   },
   "outputs": [],
   "source": [
    "assert scatter_plot_regions_2() == 'Below the line', 'If HS GPA is below College GPA, and HS GPA is plotted on the x-axis (considered independent variable?) then a studnet with HS GPA < College GPA is below the line'\n",
    "scatter_plot_regions_2_solution = 'https://www.udacity.com/course/viewer#!/c-st101/l-48299988/e-48605866/m-48738056'"
   ]
  },
  {
   "cell_type": "code",
   "execution_count": 4,
   "metadata": {
    "collapsed": false
   },
   "outputs": [],
   "source": [
    "def page_load_scatter_plot():\n",
    "    \"\"\"\n",
    "    :returns: tuple,  re: Page-Load-Time (on x-axis) and CTR (on y-axis)\n",
    "    0-index if related\n",
    "    1-index if linear\n",
    "    2-index if exact\n",
    "    3-index if positive\n",
    "    4-index if negative\n",
    "    \"\"\"\n",
    "    positive = False\n",
    "    return (True, False, False, positive, not positive)\n"
   ]
  },
  {
   "cell_type": "code",
   "execution_count": 6,
   "metadata": {
    "collapsed": true
   },
   "outputs": [],
   "source": [
    "def relationship():\n",
    "    return ('related', 'negative')"
   ]
  },
  {
   "cell_type": "code",
   "execution_count": 8,
   "metadata": {
    "collapsed": true
   },
   "outputs": [],
   "source": [
    "def relationship_2():\n",
    "    return { 'related' : True, 'linear' : False, 'exact' : False, 'positive': False, 'negative' : True }"
   ]
  },
  {
   "cell_type": "code",
   "execution_count": 9,
   "metadata": {
    "collapsed": false
   },
   "outputs": [
    {
     "data": {
      "text/plain": [
       "{'exact': False,\n",
       " 'linear': False,\n",
       " 'negative': True,\n",
       " 'positive': False,\n",
       " 'related': True}"
      ]
     },
     "execution_count": 9,
     "metadata": {},
     "output_type": "execute_result"
    }
   ],
   "source": [
    "relationship_2()"
   ]
  },
  {
   "cell_type": "code",
   "execution_count": 17,
   "metadata": {
    "collapsed": false
   },
   "outputs": [],
   "source": [
    "assert page_load_scatter_plot()==(True, False, False, False, True), 'Data appears related (i.e. page load time affects CTR) to slope downward and to right, but then flattens out; not completely linear. Not exact; some deviations. Slopes downward therefore negative, therefore not positive'\n",
    "page_load_scatter_plot_solution = 'https://www.udacity.com/course/viewer#!/c-st101/l-48299988/e-48452977/m-48717285'"
   ]
  },
  {
   "cell_type": "code",
   "execution_count": 10,
   "metadata": {
    "collapsed": false
   },
   "outputs": [],
   "source": [
    "upward_data = pd.Series((1, 2.1, 3, 3.9, 5, 6.1))\n",
    "exact_level_data = pd.Series((3, 3.1, 2.9, 3, 3.2, 2.8))\n",
    "nonexact_level_data = pd.Series((3, 4, 2, 3, 4.1, 2.1))\n",
    "downward_data = pd.Series(list(reversed(upward_data)))#[::-1]) #pd.Series()"
   ]
  },
  {
   "cell_type": "code",
   "execution_count": 34,
   "metadata": {
    "collapsed": false
   },
   "outputs": [
    {
     "data": {
      "image/png": "[encoded data removed]",
      "text/plain": [
       "<matplotlib.figure.Figure at 0x2c8757ca550>"
      ]
     },
     "metadata": {},
     "output_type": "display_data"
    }
   ],
   "source": [
    "def add_more_level_datapoints(already_level_series, num_times=10, shrink=1):\n",
    "    \"\"\"\n",
    "    Nates own function which tries to 'add noise' \n",
    "    to the data\"\"\"\n",
    "    r=already_level_series.copy()\n",
    "    for i in range(num_times):\n",
    "        a=already_level_series.copy()\n",
    "        \n",
    "        i=a.index+np.random.rand(len(a))/shrink)\n",
    "        d=np.random.permutation(a.data)+np.random.rand(len(a))\n",
    "        \n",
    "        r=r.append(pd.Series(index=i, data=d))\n",
    "    return r\n",
    "\n",
    "def learning_to_barchart(data=None,num_bins=5):\n",
    "    \"\"\"\n",
    "    Bar charts with bins\n",
    "    \"\"\"\n",
    "    #import itertools\n",
    "    m_sorted = (data if data is not None else exact_level_data).sort_index()\n",
    "    #using numpy.linspace https://docs.scipy.org/doc/numpy/reference/generated/numpy.linspace.html\n",
    "    # to create the bins \n",
    "    #linspace is nice because it accepts a num argument, and determines the even space needed for each bar\n",
    "    #versus a range(...) function, which would \n",
    "    m_bins = np.linspace(min(m_sorted.index), max(m_sorted.index), num_bins+1)\n",
    "    \n",
    "    binning_m = pd.cut(m_sorted.index, m_bins)\n",
    "    m_bins_means = map(np.mean, zip(m_bins, m_bins[1:]))\n",
    "    binned_meaned = m_sorted.groupby(binning_m).mean()\n",
    "    #print(binned_meaned)\n",
    "    w=m_bins[1]-m_bins[0]\n",
    "    #print(binned_meaned)\n",
    "    plt.bar(list(m_bins_means), binned_meaned.data,width=w)\n",
    "learning_to_barchart()\n",
    "    #plt.bar(bm.index,bm.data)"
   ]
  },
  {
   "cell_type": "code",
   "execution_count": 35,
   "metadata": {
    "collapsed": false
   },
   "outputs": [],
   "source": [
    "from plotting import *\n",
    "\n",
    "def bar_chart_to_scatter_plot():\n",
    "    \"\"\"\n",
    "    \n",
    "    :returns : which bar chart looks most similar;\n",
    "    Uses subplots to plot the examples:\n",
    "    http://matplotlib.org/mpl_examples/subplots_axes_and_figures/subplot_demo.py\n",
    "    \"\"\"\n",
    "    \n",
    "    plt.show()\n",
    "    shrink = 3\n",
    "    plots =[upward_data, \n",
    "               add_more_level_datapoints(upward_data, shrink), \n",
    "               exact_level_data,\n",
    "               add_more_level_datapoints(exact_level_data, shrink), \n",
    "               nonexact_level_data,\n",
    "               add_more_level_datapoints(nonexact_level_data, shrink), \n",
    "               downward_data,\n",
    "               add_more_level_datapoints(downward_data, shrink), \n",
    "               downward_data]\n",
    "    plt.figure(figsize=(len(plots),10))\n",
    "    for i, d in enumerate(plots):\n",
    "        d=d.copy().sort_index()\n",
    "        #First draw scatter plot on the left\n",
    "        #plt.axis([0,6,0,6])\n",
    "        plt.subplot(len(plots),2,i*2+1)\n",
    "        plt.scatter(d.index, d.data)\n",
    "        \n",
    "        #Then corresponding *bar* plot on the right\n",
    "        #plt.axis([0,6,0,6])\n",
    "        plt.subplot(len(plots),2,i*2+2)\n",
    "        #print(d.index)\n",
    "        #print(d.data)\n",
    "        #This is Udacity's; doesn't work well; doesn't bin \n",
    "        #barplot(d.index,d.data)\n",
    "        #This doesn't work quite right yet either\n",
    "        learning_to_barchart(d)\n",
    "        #plt.hist((d+0.01).data, bins=[0,1,2,3,4,5])\n",
    "        #plt.bar(d.index, d.data)\n",
    "    plt.show()\n",
    "    return 'downward_data'\n",
    "    "
   ]
  },
  {
   "cell_type": "code",
   "execution_count": 36,
   "metadata": {
    "collapsed": false
   },
   "outputs": [
    {
     "ename": "ValueError",
     "evalue": "all the input arrays must have same number of dimensions",
     "output_type": "error",
     "traceback": [
      "\u001b[0;31m---------------------------------------------------------------------------\u001b[0m",
      "\u001b[0;31mValueError\u001b[0m                                Traceback (most recent call last)",
      "\u001b[0;32m<ipython-input-36-7de48fbe8de9>\u001b[0m in \u001b[0;36m<module>\u001b[0;34m()\u001b[0m\n\u001b[0;32m----> 1\u001b[0;31m \u001b[1;32massert\u001b[0m \u001b[0mbar_chart_to_scatter_plot\u001b[0m\u001b[1;33m(\u001b[0m\u001b[1;33m)\u001b[0m\u001b[1;33m==\u001b[0m\u001b[1;34m'downward_data'\u001b[0m\u001b[1;33m,\u001b[0m \u001b[1;34m'The bar chart should slope downwards more steeply than his, but a downward bar chart is the closest'\u001b[0m\u001b[1;33m\u001b[0m\u001b[0m\n\u001b[0m\u001b[1;32m      2\u001b[0m \u001b[0mbar_chart_to_scatter_plot_solution\u001b[0m\u001b[1;33m=\u001b[0m\u001b[1;34m'https://www.udacity.com/course/viewer#!/c-st101/l-48299988/e-48748095/m-48403762'\u001b[0m\u001b[1;33m\u001b[0m\u001b[0m\n",
      "\u001b[0;32m<ipython-input-35-7bdb45563898>\u001b[0m in \u001b[0;36mbar_chart_to_scatter_plot\u001b[0;34m()\u001b[0m\n\u001b[1;32m     12\u001b[0m     \u001b[0mshrink\u001b[0m \u001b[1;33m=\u001b[0m \u001b[1;36m3\u001b[0m\u001b[1;33m\u001b[0m\u001b[0m\n\u001b[1;32m     13\u001b[0m     plots =[upward_data, \n\u001b[0;32m---> 14\u001b[0;31m                \u001b[0madd_more_level_datapoints\u001b[0m\u001b[1;33m(\u001b[0m\u001b[0mupward_data\u001b[0m\u001b[1;33m,\u001b[0m \u001b[0mshrink\u001b[0m\u001b[1;33m)\u001b[0m\u001b[1;33m,\u001b[0m\u001b[1;33m\u001b[0m\u001b[0m\n\u001b[0m\u001b[1;32m     15\u001b[0m                \u001b[0mexact_level_data\u001b[0m\u001b[1;33m,\u001b[0m\u001b[1;33m\u001b[0m\u001b[0m\n\u001b[1;32m     16\u001b[0m                \u001b[0madd_more_level_datapoints\u001b[0m\u001b[1;33m(\u001b[0m\u001b[0mexact_level_data\u001b[0m\u001b[1;33m,\u001b[0m \u001b[0mshrink\u001b[0m\u001b[1;33m)\u001b[0m\u001b[1;33m,\u001b[0m\u001b[1;33m\u001b[0m\u001b[0m\n",
      "\u001b[0;32m<ipython-input-34-529eac8d22bd>\u001b[0m in \u001b[0;36madd_more_level_datapoints\u001b[0;34m(already_level_series, num_times, shrink)\u001b[0m\n\u001b[1;32m     10\u001b[0m         \u001b[0md\u001b[0m\u001b[1;33m=\u001b[0m\u001b[0mnp\u001b[0m\u001b[1;33m.\u001b[0m\u001b[0mrandom\u001b[0m\u001b[1;33m.\u001b[0m\u001b[0mpermutation\u001b[0m\u001b[1;33m(\u001b[0m\u001b[0ma\u001b[0m\u001b[1;33m.\u001b[0m\u001b[0mdata\u001b[0m\u001b[1;33m)\u001b[0m\u001b[1;33m+\u001b[0m\u001b[0mnp\u001b[0m\u001b[1;33m.\u001b[0m\u001b[0mrandom\u001b[0m\u001b[1;33m.\u001b[0m\u001b[0mrand\u001b[0m\u001b[1;33m(\u001b[0m\u001b[0mlen\u001b[0m\u001b[1;33m(\u001b[0m\u001b[0ma\u001b[0m\u001b[1;33m)\u001b[0m\u001b[1;33m)\u001b[0m\u001b[1;33m\u001b[0m\u001b[0m\n\u001b[1;32m     11\u001b[0m \u001b[1;33m\u001b[0m\u001b[0m\n\u001b[0;32m---> 12\u001b[0;31m         \u001b[0mr\u001b[0m\u001b[1;33m=\u001b[0m\u001b[0mr\u001b[0m\u001b[1;33m.\u001b[0m\u001b[0mappend\u001b[0m\u001b[1;33m(\u001b[0m\u001b[0mpd\u001b[0m\u001b[1;33m.\u001b[0m\u001b[0mSeries\u001b[0m\u001b[1;33m(\u001b[0m\u001b[0mindex\u001b[0m\u001b[1;33m=\u001b[0m\u001b[0mi\u001b[0m\u001b[1;33m,\u001b[0m \u001b[0mdata\u001b[0m\u001b[1;33m=\u001b[0m\u001b[0md\u001b[0m\u001b[1;33m)\u001b[0m\u001b[1;33m)\u001b[0m\u001b[1;33m\u001b[0m\u001b[0m\n\u001b[0m\u001b[1;32m     13\u001b[0m     \u001b[1;32mreturn\u001b[0m \u001b[0mr\u001b[0m\u001b[1;33m\u001b[0m\u001b[0m\n\u001b[1;32m     14\u001b[0m \u001b[1;33m\u001b[0m\u001b[0m\n",
      "\u001b[0;32mC:\\Users\\nnd\\AppData\\Local\\Continuum\\Anaconda3\\lib\\site-packages\\pandas\\core\\series.py\u001b[0m in \u001b[0;36mappend\u001b[0;34m(self, to_append, ignore_index, verify_integrity)\u001b[0m\n\u001b[1;32m   1595\u001b[0m             \u001b[0mto_concat\u001b[0m \u001b[1;33m=\u001b[0m \u001b[1;33m[\u001b[0m\u001b[0mself\u001b[0m\u001b[1;33m,\u001b[0m \u001b[0mto_append\u001b[0m\u001b[1;33m]\u001b[0m\u001b[1;33m\u001b[0m\u001b[0m\n\u001b[1;32m   1596\u001b[0m         return concat(to_concat, ignore_index=ignore_index,\n\u001b[0;32m-> 1597\u001b[0;31m                       verify_integrity=verify_integrity)\n\u001b[0m\u001b[1;32m   1598\u001b[0m \u001b[1;33m\u001b[0m\u001b[0m\n\u001b[1;32m   1599\u001b[0m     \u001b[1;32mdef\u001b[0m \u001b[0m_binop\u001b[0m\u001b[1;33m(\u001b[0m\u001b[0mself\u001b[0m\u001b[1;33m,\u001b[0m \u001b[0mother\u001b[0m\u001b[1;33m,\u001b[0m \u001b[0mfunc\u001b[0m\u001b[1;33m,\u001b[0m \u001b[0mlevel\u001b[0m\u001b[1;33m=\u001b[0m\u001b[1;32mNone\u001b[0m\u001b[1;33m,\u001b[0m \u001b[0mfill_value\u001b[0m\u001b[1;33m=\u001b[0m\u001b[1;32mNone\u001b[0m\u001b[1;33m)\u001b[0m\u001b[1;33m:\u001b[0m\u001b[1;33m\u001b[0m\u001b[0m\n",
      "\u001b[0;32mC:\\Users\\nnd\\AppData\\Local\\Continuum\\Anaconda3\\lib\\site-packages\\pandas\\tools\\merge.py\u001b[0m in \u001b[0;36mconcat\u001b[0;34m(objs, axis, join, join_axes, ignore_index, keys, levels, names, verify_integrity, copy)\u001b[0m\n\u001b[1;32m   1449\u001b[0m                        \u001b[0mkeys\u001b[0m\u001b[1;33m=\u001b[0m\u001b[0mkeys\u001b[0m\u001b[1;33m,\u001b[0m \u001b[0mlevels\u001b[0m\u001b[1;33m=\u001b[0m\u001b[0mlevels\u001b[0m\u001b[1;33m,\u001b[0m \u001b[0mnames\u001b[0m\u001b[1;33m=\u001b[0m\u001b[0mnames\u001b[0m\u001b[1;33m,\u001b[0m\u001b[1;33m\u001b[0m\u001b[0m\n\u001b[1;32m   1450\u001b[0m                        \u001b[0mverify_integrity\u001b[0m\u001b[1;33m=\u001b[0m\u001b[0mverify_integrity\u001b[0m\u001b[1;33m,\u001b[0m\u001b[1;33m\u001b[0m\u001b[0m\n\u001b[0;32m-> 1451\u001b[0;31m                        copy=copy)\n\u001b[0m\u001b[1;32m   1452\u001b[0m     \u001b[1;32mreturn\u001b[0m \u001b[0mop\u001b[0m\u001b[1;33m.\u001b[0m\u001b[0mget_result\u001b[0m\u001b[1;33m(\u001b[0m\u001b[1;33m)\u001b[0m\u001b[1;33m\u001b[0m\u001b[0m\n\u001b[1;32m   1453\u001b[0m \u001b[1;33m\u001b[0m\u001b[0m\n",
      "\u001b[0;32mC:\\Users\\nnd\\AppData\\Local\\Continuum\\Anaconda3\\lib\\site-packages\\pandas\\tools\\merge.py\u001b[0m in \u001b[0;36m__init__\u001b[0;34m(self, objs, axis, join, join_axes, keys, levels, names, ignore_index, verify_integrity, copy)\u001b[0m\n\u001b[1;32m   1595\u001b[0m         \u001b[0mself\u001b[0m\u001b[1;33m.\u001b[0m\u001b[0mcopy\u001b[0m \u001b[1;33m=\u001b[0m \u001b[0mcopy\u001b[0m\u001b[1;33m\u001b[0m\u001b[0m\n\u001b[1;32m   1596\u001b[0m \u001b[1;33m\u001b[0m\u001b[0m\n\u001b[0;32m-> 1597\u001b[0;31m         \u001b[0mself\u001b[0m\u001b[1;33m.\u001b[0m\u001b[0mnew_axes\u001b[0m \u001b[1;33m=\u001b[0m \u001b[0mself\u001b[0m\u001b[1;33m.\u001b[0m\u001b[0m_get_new_axes\u001b[0m\u001b[1;33m(\u001b[0m\u001b[1;33m)\u001b[0m\u001b[1;33m\u001b[0m\u001b[0m\n\u001b[0m\u001b[1;32m   1598\u001b[0m \u001b[1;33m\u001b[0m\u001b[0m\n\u001b[1;32m   1599\u001b[0m     \u001b[1;32mdef\u001b[0m \u001b[0mget_result\u001b[0m\u001b[1;33m(\u001b[0m\u001b[0mself\u001b[0m\u001b[1;33m)\u001b[0m\u001b[1;33m:\u001b[0m\u001b[1;33m\u001b[0m\u001b[0m\n",
      "\u001b[0;32mC:\\Users\\nnd\\AppData\\Local\\Continuum\\Anaconda3\\lib\\site-packages\\pandas\\tools\\merge.py\u001b[0m in \u001b[0;36m_get_new_axes\u001b[0;34m(self)\u001b[0m\n\u001b[1;32m   1683\u001b[0m                 \u001b[0mnew_axes\u001b[0m\u001b[1;33m[\u001b[0m\u001b[0mi\u001b[0m\u001b[1;33m]\u001b[0m \u001b[1;33m=\u001b[0m \u001b[0max\u001b[0m\u001b[1;33m\u001b[0m\u001b[0m\n\u001b[1;32m   1684\u001b[0m \u001b[1;33m\u001b[0m\u001b[0m\n\u001b[0;32m-> 1685\u001b[0;31m         \u001b[0mnew_axes\u001b[0m\u001b[1;33m[\u001b[0m\u001b[0mself\u001b[0m\u001b[1;33m.\u001b[0m\u001b[0maxis\u001b[0m\u001b[1;33m]\u001b[0m \u001b[1;33m=\u001b[0m \u001b[0mself\u001b[0m\u001b[1;33m.\u001b[0m\u001b[0m_get_concat_axis\u001b[0m\u001b[1;33m(\u001b[0m\u001b[1;33m)\u001b[0m\u001b[1;33m\u001b[0m\u001b[0m\n\u001b[0m\u001b[1;32m   1686\u001b[0m         \u001b[1;32mreturn\u001b[0m \u001b[0mnew_axes\u001b[0m\u001b[1;33m\u001b[0m\u001b[0m\n\u001b[1;32m   1687\u001b[0m \u001b[1;33m\u001b[0m\u001b[0m\n",
      "\u001b[0;32mC:\\Users\\nnd\\AppData\\Local\\Continuum\\Anaconda3\\lib\\site-packages\\pandas\\tools\\merge.py\u001b[0m in \u001b[0;36m_get_concat_axis\u001b[0;34m(self)\u001b[0m\n\u001b[1;32m   1737\u001b[0m \u001b[1;33m\u001b[0m\u001b[0m\n\u001b[1;32m   1738\u001b[0m         \u001b[1;32mif\u001b[0m \u001b[0mself\u001b[0m\u001b[1;33m.\u001b[0m\u001b[0mkeys\u001b[0m \u001b[1;32mis\u001b[0m \u001b[1;32mNone\u001b[0m\u001b[1;33m:\u001b[0m\u001b[1;33m\u001b[0m\u001b[0m\n\u001b[0;32m-> 1739\u001b[0;31m             \u001b[0mconcat_axis\u001b[0m \u001b[1;33m=\u001b[0m \u001b[0m_concat_indexes\u001b[0m\u001b[1;33m(\u001b[0m\u001b[0mindexes\u001b[0m\u001b[1;33m)\u001b[0m\u001b[1;33m\u001b[0m\u001b[0m\n\u001b[0m\u001b[1;32m   1740\u001b[0m         \u001b[1;32melse\u001b[0m\u001b[1;33m:\u001b[0m\u001b[1;33m\u001b[0m\u001b[0m\n\u001b[1;32m   1741\u001b[0m             concat_axis = _make_concat_multiindex(indexes, self.keys,\n",
      "\u001b[0;32mC:\\Users\\nnd\\AppData\\Local\\Continuum\\Anaconda3\\lib\\site-packages\\pandas\\tools\\merge.py\u001b[0m in \u001b[0;36m_concat_indexes\u001b[0;34m(indexes)\u001b[0m\n\u001b[1;32m   1755\u001b[0m \u001b[1;33m\u001b[0m\u001b[0m\n\u001b[1;32m   1756\u001b[0m \u001b[1;32mdef\u001b[0m \u001b[0m_concat_indexes\u001b[0m\u001b[1;33m(\u001b[0m\u001b[0mindexes\u001b[0m\u001b[1;33m)\u001b[0m\u001b[1;33m:\u001b[0m\u001b[1;33m\u001b[0m\u001b[0m\n\u001b[0;32m-> 1757\u001b[0;31m     \u001b[1;32mreturn\u001b[0m \u001b[0mindexes\u001b[0m\u001b[1;33m[\u001b[0m\u001b[1;36m0\u001b[0m\u001b[1;33m]\u001b[0m\u001b[1;33m.\u001b[0m\u001b[0mappend\u001b[0m\u001b[1;33m(\u001b[0m\u001b[0mindexes\u001b[0m\u001b[1;33m[\u001b[0m\u001b[1;36m1\u001b[0m\u001b[1;33m:\u001b[0m\u001b[1;33m]\u001b[0m\u001b[1;33m)\u001b[0m\u001b[1;33m\u001b[0m\u001b[0m\n\u001b[0m\u001b[1;32m   1758\u001b[0m \u001b[1;33m\u001b[0m\u001b[0m\n\u001b[1;32m   1759\u001b[0m \u001b[1;33m\u001b[0m\u001b[0m\n",
      "\u001b[0;32mC:\\Users\\nnd\\AppData\\Local\\Continuum\\Anaconda3\\lib\\site-packages\\pandas\\indexes\\base.py\u001b[0m in \u001b[0;36mappend\u001b[0;34m(self, other)\u001b[0m\n\u001b[1;32m   1474\u001b[0m         \u001b[1;32mif\u001b[0m \u001b[0mlen\u001b[0m\u001b[1;33m(\u001b[0m\u001b[0mtyps\u001b[0m\u001b[1;33m)\u001b[0m \u001b[1;33m==\u001b[0m \u001b[1;36m1\u001b[0m\u001b[1;33m:\u001b[0m\u001b[1;33m\u001b[0m\u001b[0m\n\u001b[1;32m   1475\u001b[0m             \u001b[1;32mreturn\u001b[0m \u001b[0mself\u001b[0m\u001b[1;33m.\u001b[0m\u001b[0m_append_same_dtype\u001b[0m\u001b[1;33m(\u001b[0m\u001b[0mto_concat\u001b[0m\u001b[1;33m,\u001b[0m \u001b[0mname\u001b[0m\u001b[1;33m=\u001b[0m\u001b[0mname\u001b[0m\u001b[1;33m)\u001b[0m\u001b[1;33m\u001b[0m\u001b[0m\n\u001b[0;32m-> 1476\u001b[0;31m         \u001b[1;32mreturn\u001b[0m \u001b[0m_concat\u001b[0m\u001b[1;33m.\u001b[0m\u001b[0m_concat_index_asobject\u001b[0m\u001b[1;33m(\u001b[0m\u001b[0mto_concat\u001b[0m\u001b[1;33m,\u001b[0m \u001b[0mname\u001b[0m\u001b[1;33m=\u001b[0m\u001b[0mname\u001b[0m\u001b[1;33m)\u001b[0m\u001b[1;33m\u001b[0m\u001b[0m\n\u001b[0m\u001b[1;32m   1477\u001b[0m \u001b[1;33m\u001b[0m\u001b[0m\n\u001b[1;32m   1478\u001b[0m     \u001b[1;32mdef\u001b[0m \u001b[0m_append_same_dtype\u001b[0m\u001b[1;33m(\u001b[0m\u001b[0mself\u001b[0m\u001b[1;33m,\u001b[0m \u001b[0mto_concat\u001b[0m\u001b[1;33m,\u001b[0m \u001b[0mname\u001b[0m\u001b[1;33m)\u001b[0m\u001b[1;33m:\u001b[0m\u001b[1;33m\u001b[0m\u001b[0m\n",
      "\u001b[0;32mC:\\Users\\nnd\\AppData\\Local\\Continuum\\Anaconda3\\lib\\site-packages\\pandas\\types\\concat.py\u001b[0m in \u001b[0;36m_concat_index_asobject\u001b[0;34m(to_concat, name)\u001b[0m\n\u001b[1;32m    407\u001b[0m     to_concat = [x._values if isinstance(x, Index) else x\n\u001b[1;32m    408\u001b[0m                  for x in to_concat]\n\u001b[0;32m--> 409\u001b[0;31m     \u001b[1;32mreturn\u001b[0m \u001b[0mself\u001b[0m\u001b[1;33m.\u001b[0m\u001b[0m_shallow_copy_with_infer\u001b[0m\u001b[1;33m(\u001b[0m\u001b[0mnp\u001b[0m\u001b[1;33m.\u001b[0m\u001b[0mconcatenate\u001b[0m\u001b[1;33m(\u001b[0m\u001b[0mto_concat\u001b[0m\u001b[1;33m)\u001b[0m\u001b[1;33m,\u001b[0m \u001b[1;33m**\u001b[0m\u001b[0mattribs\u001b[0m\u001b[1;33m)\u001b[0m\u001b[1;33m\u001b[0m\u001b[0m\n\u001b[0m\u001b[1;32m    410\u001b[0m \u001b[1;33m\u001b[0m\u001b[0m\n\u001b[1;32m    411\u001b[0m \u001b[1;33m\u001b[0m\u001b[0m\n",
      "\u001b[0;31mValueError\u001b[0m: all the input arrays must have same number of dimensions"
     ]
    }
   ],
   "source": [
    "assert bar_chart_to_scatter_plot()=='downward_data', 'The bar chart should slope downwards more steeply than his, but a downward bar chart is the closest'\n",
    "bar_chart_to_scatter_plot_solution='https://www.udacity.com/course/viewer#!/c-st101/l-48299988/e-48748095/m-48403762'"
   ]
  },
  {
   "cell_type": "code",
   "execution_count": 249,
   "metadata": {
    "collapsed": false
   },
   "outputs": [
    {
     "data": {
      "image/png": "[encoded data removed]",
      "text/plain": [
       "<matplotlib.figure.Figure at 0xbb98cf8>"
      ]
     },
     "metadata": {},
     "output_type": "display_data"
    },
    {
     "data": {
      "image/png": "[encoded data removed]",
      "text/plain": [
       "<matplotlib.figure.Figure at 0xb5032b0>"
      ]
     },
     "metadata": {},
     "output_type": "display_data"
    }
   ],
   "source": [
    "assert pie_chart_to_histogram()=='two_bars_roughly_equal', 'Two bars should be roughly equal'\n",
    "pie_chart_to_histogram_solution = 'https://www.udacity.com/course/viewer#!/c-st101/l-48299988/e-48686796/m-48725201'"
   ]
  },
  {
   "cell_type": "code",
   "execution_count": 257,
   "metadata": {
    "collapsed": false
   },
   "outputs": [],
   "source": [
    "hist_data = pd.Series(np.ones(4))\n",
    "def histogram_to_pie_chart(h=hist_data):\n",
    "    \"\"\"\n",
    "    Given a histogram, which pie chart came from roughly same data\n",
    "    \"\"\"\n",
    "    h.plot(kind='bar', width=1)\n",
    "    plt.figure(figsize=(6,6))\n",
    "    h.plot(kind='pie')\n",
    "    return 'roughly_all_portions_equal'\n",
    "    "
   ]
  },
  {
   "cell_type": "code",
   "execution_count": 258,
   "metadata": {
    "collapsed": false
   },
   "outputs": [
    {
     "data": {
      "image/png": "[encoded data removed]",
      "text/plain": [
       "<matplotlib.figure.Figure at 0xa37e9b0>"
      ]
     },
     "metadata": {},
     "output_type": "display_data"
    },
    {
     "data": {
      "image/png": "[encoded data removed]",
      "text/plain": [
       "<matplotlib.figure.Figure at 0xbc086a0>"
      ]
     },
     "metadata": {},
     "output_type": "display_data"
    }
   ],
   "source": [
    "assert histogram_to_pie_chart()=='roughly_all_portions_equal', 'All portions look roughly equal'\n",
    "histogram_to_pie_chart_solution = 'https://www.udacity.com/course/viewer#!/c-st101/l-48299988/e-48759016/m-48403765'"
   ]
  }
 ],
 "metadata": {
  "kernelspec": {
   "display_name": "Python 3",
   "language": "python",
   "name": "python3"
  },
  "language_info": {
   "codemirror_mode": {
    "name": "ipython",
    "version": 3
   },
   "file_extension": ".py",
   "mimetype": "text/x-python",
   "name": "python",
   "nbconvert_exporter": "python",
   "pygments_lexer": "ipython3",
   "version": "3.6.0"
  }
 },
 "nbformat": 4,
 "nbformat_minor": 0
}
