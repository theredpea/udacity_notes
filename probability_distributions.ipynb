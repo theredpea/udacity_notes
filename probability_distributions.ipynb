{
 "metadata": {
  "name": "",
  "signature": "sha256:d4e34155bbcd79fc44b798467308d6ee466a3d94c6123dd329e597d4fba8fbb4"
 },
 "nbformat": 3,
 "nbformat_minor": 0,
 "worksheets": [
  {
   "cells": [
    {
     "cell_type": "code",
     "collapsed": false,
     "input": [
      "premise = 'continuous distributions have probability 0 at any given point;'\\\n",
      "' can only measure cumulative probabilities -- that is, between a range of continuous values'\n",
      "\n",
      "def p_in_range(min, max, bottom_range, top_range):\n",
      "    assert max>=top_range, 'top_range too large'\n",
      "    assert min<=bottom_range, 'bottom_range too small'\n",
      "    return abs((top_range-bottom_range)/(max-min))\n",
      "\n",
      "p_in_range(0,360, 0, 180)"
     ],
     "language": "python",
     "metadata": {},
     "outputs": [
      {
       "metadata": {},
       "output_type": "pyout",
       "prompt_number": 4,
       "text": [
        "0.5"
       ]
      }
     ],
     "prompt_number": 4
    },
    {
     "cell_type": "code",
     "collapsed": false,
     "input": [
      "p_in_range(0,360, 260, 290) #30 / 360 == 1 / 12"
     ],
     "language": "python",
     "metadata": {},
     "outputs": [
      {
       "metadata": {},
       "output_type": "pyout",
       "prompt_number": 5,
       "text": [
        "0.08333333333333333"
       ]
      }
     ],
     "prompt_number": 5
    },
    {
     "cell_type": "code",
     "collapsed": false,
     "input": [
      "p_in_range(0,360, 179, 180) #1 / 360"
     ],
     "language": "python",
     "metadata": {},
     "outputs": [
      {
       "metadata": {},
       "output_type": "pyout",
       "prompt_number": 7,
       "text": [
        "0.002777777777777778"
       ]
      }
     ],
     "prompt_number": 7
    },
    {
     "cell_type": "code",
     "collapsed": false,
     "input": [
      "density_description = 'approximately the probability in continuous spaces'\n",
      "density_rule_1 = 'each outcome has equal value'\n",
      "density_rule_2 = 'area integrates to 1'\n",
      "\n",
      "area = 1\n",
      "area_w = 360\n",
      "area_h = area/area_w\n",
      "area_h"
     ],
     "language": "python",
     "metadata": {},
     "outputs": [
      {
       "metadata": {},
       "output_type": "pyout",
       "prompt_number": 9,
       "text": [
        "0.002777777777777778"
       ]
      }
     ],
     "prompt_number": 9
    },
    {
     "cell_type": "code",
     "collapsed": false,
     "input": [
      "seconds_per_year = 365 * 24 * 60 * 60\n",
      "1/seconds_per_year\n",
      "#Oh, \"Just the seconds of the time\"; that is the 59\n",
      "seconds_in_minute = 60\n",
      "1/seconds_in_minute"
     ],
     "language": "python",
     "metadata": {},
     "outputs": [
      {
       "metadata": {},
       "output_type": "pyout",
       "prompt_number": 11,
       "text": [
        "0.016666666666666666"
       ]
      }
     ],
     "prompt_number": 11
    },
    {
     "cell_type": "code",
     "collapsed": false,
     "input": [
      "def changing_density_2():\n",
      "    total_p = 1\n",
      "    morning_width = 12\n",
      "    afternoon_width = 12\n",
      "    \n",
      "    #morning_width * b * 2 + afternoon_width * b = 1\n",
      "    #b(morning_width * 2 + afternoon_width) = 1\n",
      "    b = 1/(morning_width * 2 + afternoon_width)\n",
      "    a = 2 * b\n",
      "    return a,b\n",
      "changing_density_2()"
     ],
     "language": "python",
     "metadata": {},
     "outputs": [
      {
       "metadata": {},
       "output_type": "pyout",
       "prompt_number": 13,
       "text": [
        "(0.05555555555555555, 0.027777777777777776)"
       ]
      }
     ],
     "prompt_number": 13
    },
    {
     "cell_type": "code",
     "collapsed": false,
     "input": [
      "def changing_density_his_way():\n",
      "    b_afternoon_area = 1/3\n",
      "    #b_morning_area = 1/3\n",
      "    #a_morning_area_less_b = 1/3\n",
      "    a_morning_area = 2/3\n",
      "    b_afternoon_width = 12\n",
      "    #b_afternoon_height * b_afternoon_width = b_afternoon_area\n",
      "    b_afternoon_height = b_afternoon_area/b_afternoon_width\n",
      "    return b_afternoon_height\n",
      "changing_density_his_way()"
     ],
     "language": "python",
     "metadata": {},
     "outputs": [
      {
       "metadata": {},
       "output_type": "pyout",
       "prompt_number": 16,
       "text": [
        "0.027777777777777776"
       ]
      }
     ],
     "prompt_number": 16
    },
    {
     "cell_type": "code",
     "collapsed": false,
     "input": [
      "assert sum(12*_ for _ in changing_density_2())==1"
     ],
     "language": "python",
     "metadata": {},
     "outputs": [],
     "prompt_number": 17
    },
    {
     "cell_type": "code",
     "collapsed": false,
     "input": [
      "uniform_distribution = 'each outcome has equal value'"
     ],
     "language": "python",
     "metadata": {},
     "outputs": [],
     "prompt_number": 19
    },
    {
     "cell_type": "code",
     "collapsed": false,
     "input": [
      "drop_max = 3.5 #minutes\n",
      "drop_min = 3 #minutes\n",
      "drop_diff = drop_max - drop_min\n",
      "drop_area = 1 #It drops somewhere in here\n",
      "#According to graph....\n",
      "#it has uniform distrubtion; of 1\n",
      "#The name is calculate_density\n",
      "#What does that mean? What is density?\n",
      "#The question explicitly wants the value of \"a\"\n",
      "\n",
      "calculate_density = a = drop_area / drop_diff\n",
      "calculate_density"
     ],
     "language": "python",
     "metadata": {},
     "outputs": [
      {
       "metadata": {},
       "output_type": "pyout",
       "prompt_number": 21,
       "text": [
        "2.0"
       ]
      }
     ],
     "prompt_number": 21
    },
    {
     "cell_type": "code",
     "collapsed": false,
     "input": [
      "#Note he calls the \"normalizer\" = 1/2\n",
      "\n",
      "#The probability is larger than 1 in this case;\n",
      "#a>1\n",
      "\n"
     ],
     "language": "python",
     "metadata": {},
     "outputs": [],
     "prompt_number": 22
    },
    {
     "cell_type": "code",
     "collapsed": false,
     "input": [
      "density_properties =[\n",
      "'positive', #this is the same as >0; 0 is not positive; f(x) can be 0\n",
      "'non-negative', #this is the same as >=0; f(x) can be 0 or gt zero. Can't be anything else. True\n",
      "'continuous', #Many examples of discontinuous functions; stepwise functions are discontinous; stewpise functions \n",
      "#continuous function is what you'd expect http://en.wikipedia.org/wiki/Continuous_function\n",
      "\n",
      "'smaller than or equal to 1', #This is disproved when he says that the height\n",
      "#of the peak of any f(x); \n",
      "#including one with a uniform distribution; could be greater than one \n",
      "#He emphasizes, \"this is a key point; densities can be higher than probability\"\n",
      "'none of above'\n",
      "] #Identify only those that are true of f(x);\n",
      "#Control is a checkbox;\n"
     ],
     "language": "python",
     "metadata": {},
     "outputs": [],
     "prompt_number": 23
    },
    {
     "cell_type": "code",
     "collapsed": false,
     "input": [],
     "language": "python",
     "metadata": {},
     "outputs": []
    }
   ],
   "metadata": {}
  }
 ]
}