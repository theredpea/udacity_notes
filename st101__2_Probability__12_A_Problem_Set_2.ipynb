{
 "cells": [
  {
   "cell_type": "code",
   "execution_count": 1,
   "metadata": {
    "collapsed": true
   },
   "outputs": [],
   "source": [
    "import pandas as pd\n",
    "import numpy as np"
   ]
  },
  {
   "cell_type": "code",
   "execution_count": 2,
   "metadata": {
    "collapsed": true
   },
   "outputs": [],
   "source": [
    "import collections\n",
    "#Forgot about itertools, all-important\n",
    "#Has Permutation, Combionation, and what I needed: Product\n",
    "import itertools"
   ]
  },
  {
   "cell_type": "code",
   "execution_count": 3,
   "metadata": {
    "collapsed": false
   },
   "outputs": [],
   "source": [
    "possible_outcome =  pd.Series(list(itertools.product(*[('H', 'T')]*4)))"
   ]
  },
  {
   "cell_type": "code",
   "execution_count": 4,
   "metadata": {
    "collapsed": false
   },
   "outputs": [
    {
     "data": {
      "text/plain": [
       "0     (H, H, H, H)\n",
       "1     (H, H, H, T)\n",
       "2     (H, H, T, H)\n",
       "3     (H, H, T, T)\n",
       "4     (H, T, H, H)\n",
       "5     (H, T, H, T)\n",
       "6     (H, T, T, H)\n",
       "7     (H, T, T, T)\n",
       "8     (T, H, H, H)\n",
       "9     (T, H, H, T)\n",
       "10    (T, H, T, H)\n",
       "11    (T, H, T, T)\n",
       "12    (T, T, H, H)\n",
       "13    (T, T, H, T)\n",
       "14    (T, T, T, H)\n",
       "15    (T, T, T, T)\n",
       "dtype: object"
      ]
     },
     "execution_count": 4,
     "metadata": {},
     "output_type": "execute_result"
    }
   ],
   "source": [
    "possible_outcome"
   ]
  },
  {
   "cell_type": "code",
   "execution_count": 5,
   "metadata": {
    "collapsed": true
   },
   "outputs": [],
   "source": [
    "flip=('H, T')"
   ]
  },
  {
   "cell_type": "code",
   "execution_count": 6,
   "metadata": {
    "collapsed": false
   },
   "outputs": [
    {
     "data": {
      "text/plain": [
       "1"
      ]
     },
     "execution_count": 6,
     "metadata": {},
     "output_type": "execute_result"
    }
   ],
   "source": [
    "flip.count('H')"
   ]
  },
  {
   "cell_type": "code",
   "execution_count": 7,
   "metadata": {
    "collapsed": false
   },
   "outputs": [
    {
     "data": {
      "text/plain": [
       "2"
      ]
     },
     "execution_count": 7,
     "metadata": {},
     "output_type": "execute_result"
    }
   ],
   "source": [
    "('H', 'H', 'T').count('H')"
   ]
  },
  {
   "cell_type": "code",
   "execution_count": 8,
   "metadata": {
    "collapsed": false
   },
   "outputs": [
    {
     "data": {
      "text/plain": [
       "0    (H, H, H, H)\n",
       "1    (H, H, H, T)\n",
       "2    (H, H, T, H)\n",
       "3    (H, H, T, T)\n",
       "4    (H, T, H, H)\n",
       "dtype: object"
      ]
     },
     "execution_count": 8,
     "metadata": {},
     "output_type": "execute_result"
    }
   ],
   "source": [
    "possible_outcome.compress\n",
    "possible_outcome.head()"
   ]
  },
  {
   "cell_type": "code",
   "execution_count": 9,
   "metadata": {
    "collapsed": false
   },
   "outputs": [],
   "source": [
    "range_series = pd.Series(range(5), range(-1,4))"
   ]
  },
  {
   "cell_type": "code",
   "execution_count": 10,
   "metadata": {
    "collapsed": false
   },
   "outputs": [
    {
     "data": {
      "text/plain": [
       "2    3\n",
       "3    4\n",
       "dtype: int32"
      ]
     },
     "execution_count": 10,
     "metadata": {},
     "output_type": "execute_result"
    }
   ],
   "source": [
    "range_series[lambda x: x>2]"
   ]
  },
  {
   "cell_type": "code",
   "execution_count": 11,
   "metadata": {
    "collapsed": false
   },
   "outputs": [
    {
     "data": {
      "text/plain": [
       "dtype('O')"
      ]
     },
     "execution_count": 11,
     "metadata": {},
     "output_type": "execute_result"
    }
   ],
   "source": [
    "possible_outcome.dtype"
   ]
  },
  {
   "cell_type": "code",
   "execution_count": 12,
   "metadata": {
    "collapsed": false
   },
   "outputs": [
    {
     "data": {
      "text/plain": [
       "tuple"
      ]
     },
     "execution_count": 12,
     "metadata": {},
     "output_type": "execute_result"
    }
   ],
   "source": [
    "type(possible_outcome.iloc[0])"
   ]
  },
  {
   "cell_type": "code",
   "execution_count": 13,
   "metadata": {
    "collapsed": false
   },
   "outputs": [
    {
     "data": {
      "text/plain": [
       "0     (H, H, H, H)\n",
       "1     (H, H, H, T)\n",
       "2     (H, H, T, H)\n",
       "3     (H, H, T, T)\n",
       "4     (H, T, H, H)\n",
       "5     (H, T, H, T)\n",
       "6     (H, T, T, H)\n",
       "7     (H, T, T, T)\n",
       "8     (T, H, H, H)\n",
       "9     (T, H, H, T)\n",
       "10    (T, H, T, H)\n",
       "11    (T, H, T, T)\n",
       "12    (T, T, H, H)\n",
       "13    (T, T, H, T)\n",
       "14    (T, T, T, H)\n",
       "15    (T, T, T, T)\n",
       "dtype: object"
      ]
     },
     "execution_count": 13,
     "metadata": {},
     "output_type": "execute_result"
    }
   ],
   "source": [
    "possible_outcome.where(lambda t:t)"
   ]
  },
  {
   "cell_type": "code",
   "execution_count": 14,
   "metadata": {
    "collapsed": false
   },
   "outputs": [
    {
     "ename": "ValueError",
     "evalue": "where requires an ndarray like object for its condition",
     "output_type": "error",
     "traceback": [
      "\u001b[0;31m---------------------------------------------------------------------------\u001b[0m",
      "\u001b[0;31mValueError\u001b[0m                                Traceback (most recent call last)",
      "\u001b[0;32m<ipython-input-14-49e8b1dd748c>\u001b[0m in \u001b[0;36m<module>\u001b[0;34m()\u001b[0m\n\u001b[1;32m      2\u001b[0m \u001b[1;31m#ValueError: where requires an ndarray like object for its condition\u001b[0m\u001b[1;33m\u001b[0m\u001b[1;33m\u001b[0m\u001b[0m\n\u001b[1;32m      3\u001b[0m \u001b[1;33m\u001b[0m\u001b[0m\n\u001b[0;32m----> 4\u001b[0;31m \u001b[0mpossible_outcome\u001b[0m\u001b[1;33m.\u001b[0m\u001b[0mwhere\u001b[0m\u001b[1;33m(\u001b[0m\u001b[1;32mlambda\u001b[0m \u001b[0mt\u001b[0m\u001b[1;33m:\u001b[0m \u001b[0mlist\u001b[0m\u001b[1;33m(\u001b[0m\u001b[0mt\u001b[0m\u001b[1;33m)\u001b[0m\u001b[1;33m[\u001b[0m\u001b[1;36m0\u001b[0m\u001b[1;33m]\u001b[0m\u001b[1;33m==\u001b[0m\u001b[1;34m'H'\u001b[0m\u001b[1;33m)\u001b[0m\u001b[1;33m\u001b[0m\u001b[0m\n\u001b[0m",
      "\u001b[0;32mC:\\Users\\nnd\\AppData\\Local\\Continuum\\Anaconda3\\lib\\site-packages\\pandas\\core\\generic.py\u001b[0m in \u001b[0;36mwhere\u001b[0;34m(self, cond, other, inplace, axis, level, try_cast, raise_on_error)\u001b[0m\n\u001b[1;32m   4811\u001b[0m         \u001b[0mother\u001b[0m \u001b[1;33m=\u001b[0m \u001b[0mcom\u001b[0m\u001b[1;33m.\u001b[0m\u001b[0m_apply_if_callable\u001b[0m\u001b[1;33m(\u001b[0m\u001b[0mother\u001b[0m\u001b[1;33m,\u001b[0m \u001b[0mself\u001b[0m\u001b[1;33m)\u001b[0m\u001b[1;33m\u001b[0m\u001b[0m\n\u001b[1;32m   4812\u001b[0m         return self._where(cond, other, inplace, axis, level, try_cast,\n\u001b[0;32m-> 4813\u001b[0;31m                            raise_on_error)\n\u001b[0m\u001b[1;32m   4814\u001b[0m \u001b[1;33m\u001b[0m\u001b[0m\n\u001b[1;32m   4815\u001b[0m     @Appender(_shared_docs['where'] % dict(_shared_doc_kwargs, cond=\"False\",\n",
      "\u001b[0;32mC:\\Users\\nnd\\AppData\\Local\\Continuum\\Anaconda3\\lib\\site-packages\\pandas\\core\\generic.py\u001b[0m in \u001b[0;36m_where\u001b[0;34m(self, cond, other, inplace, axis, level, try_cast, raise_on_error)\u001b[0m\n\u001b[1;32m   4558\u001b[0m         \u001b[1;32melse\u001b[0m\u001b[1;33m:\u001b[0m\u001b[1;33m\u001b[0m\u001b[0m\n\u001b[1;32m   4559\u001b[0m             \u001b[1;32mif\u001b[0m \u001b[1;32mnot\u001b[0m \u001b[0mhasattr\u001b[0m\u001b[1;33m(\u001b[0m\u001b[0mcond\u001b[0m\u001b[1;33m,\u001b[0m \u001b[1;34m'shape'\u001b[0m\u001b[1;33m)\u001b[0m\u001b[1;33m:\u001b[0m\u001b[1;33m\u001b[0m\u001b[0m\n\u001b[0;32m-> 4560\u001b[0;31m                 raise ValueError('where requires an ndarray like object for '\n\u001b[0m\u001b[1;32m   4561\u001b[0m                                  'its condition')\n\u001b[1;32m   4562\u001b[0m             \u001b[1;32mif\u001b[0m \u001b[0mcond\u001b[0m\u001b[1;33m.\u001b[0m\u001b[0mshape\u001b[0m \u001b[1;33m!=\u001b[0m \u001b[0mself\u001b[0m\u001b[1;33m.\u001b[0m\u001b[0mshape\u001b[0m\u001b[1;33m:\u001b[0m\u001b[1;33m\u001b[0m\u001b[0m\n",
      "\u001b[0;31mValueError\u001b[0m: where requires an ndarray like object for its condition"
     ]
    }
   ],
   "source": [
    "#\n",
    "#ValueError: where requires an ndarray like object for its condition\n",
    "\n",
    "possible_outcome.where(lambda t: list(t)[0]=='H')"
   ]
  },
  {
   "cell_type": "code",
   "execution_count": null,
   "metadata": {
    "collapsed": false
   },
   "outputs": [],
   "source": [
    "#\n",
    "#ValueError: where requires an ndarray like object for its condition\n",
    "def has_len(t):\n",
    "    return len(t)\n",
    "possible_outcome.where(has_len) # lambda t: len(t))"
   ]
  },
  {
   "cell_type": "code",
   "execution_count": null,
   "metadata": {
    "collapsed": false
   },
   "outputs": [],
   "source": [
    "help(possible_outcome.where)"
   ]
  },
  {
   "cell_type": "code",
   "execution_count": null,
   "metadata": {
    "collapsed": false
   },
   "outputs": [],
   "source": [
    "possible_outcome.loc[lambda x: True]"
   ]
  },
  {
   "cell_type": "code",
   "execution_count": null,
   "metadata": {
    "collapsed": false
   },
   "outputs": [],
   "source": [
    "test = pd.Series({\n",
    "383:    3.000000,\n",
    "663:    1.000000,\n",
    "726:    1.000000,\n",
    "737:    9.000000,\n",
    "833:    8.166667\n",
    "})\n",
    "\n",
    "test.loc[lambda x : x!=1]\n",
    "\n",
    "test[lambda x: x!=1]"
   ]
  },
  {
   "cell_type": "code",
   "execution_count": null,
   "metadata": {
    "collapsed": false
   },
   "outputs": [],
   "source": [
    "test2 = pd.Series({\n",
    "383:   (1,2,3),\n",
    "663:    (1,2,3),\n",
    "726:    (1,2),\n",
    "737:    (1,2,3),\n",
    "833:    (1,2,3)\n",
    "})\n",
    "\n",
    "\n",
    "test2.loc[lambda x : x!=1]\n",
    "\n",
    "test2[lambda x: x!=1]\n",
    "\n",
    "    "
   ]
  },
  {
   "cell_type": "code",
   "execution_count": null,
   "metadata": {
    "collapsed": false
   },
   "outputs": [],
   "source": [
    "\n",
    "# pandas\\index.pyx in pandas.index.Int64Engine._check_type (pandas\\index.c:8171)()\n",
    "\n",
    "# KeyError: True\n",
    "test2[lambda x: len(x)!=2]"
   ]
  },
  {
   "cell_type": "code",
   "execution_count": null,
   "metadata": {
    "collapsed": false
   },
   "outputs": [],
   "source": [
    "possible_outcome.apply(lambda x: x.count('H')==1)"
   ]
  },
  {
   "cell_type": "code",
   "execution_count": null,
   "metadata": {
    "collapsed": false
   },
   "outputs": [],
   "source": [
    "help(possible_outcome.compress)"
   ]
  },
  {
   "cell_type": "code",
   "execution_count": null,
   "metadata": {
    "collapsed": false
   },
   "outputs": [],
   "source": [
    "test = pd.Series({\n",
    "383:    3.000000,\n",
    "663:    1.000000,\n",
    "726:    1.000000,\n",
    "737:    9.000000,\n",
    "833:    8.166667\n",
    "})\n",
    "\n",
    "test.compress(lambda x: str(x)=='3')"
   ]
  },
  {
   "cell_type": "code",
   "execution_count": null,
   "metadata": {
    "collapsed": true
   },
   "outputs": [],
   "source": [
    "series_of_tuples = possible_outcome"
   ]
  },
  {
   "cell_type": "code",
   "execution_count": null,
   "metadata": {
    "collapsed": false
   },
   "outputs": [],
   "source": [
    "series_of_tuples.loc[lambda x: x.count('H')==1]"
   ]
  },
  {
   "cell_type": "code",
   "execution_count": null,
   "metadata": {
    "collapsed": false
   },
   "outputs": [],
   "source": [
    "series_of_tuples.head()"
   ]
  },
  {
   "cell_type": "code",
   "execution_count": null,
   "metadata": {
    "collapsed": false
   },
   "outputs": [],
   "source": [
    "''.join (('H','H'))"
   ]
  },
  {
   "cell_type": "code",
   "execution_count": null,
   "metadata": {
    "collapsed": false
   },
   "outputs": [],
   "source": [
    "series_of_tuples.apply(''.join)"
   ]
  },
  {
   "cell_type": "code",
   "execution_count": null,
   "metadata": {
    "collapsed": false
   },
   "outputs": [],
   "source": [
    "series_of_tuples.apply(''.join).dtype"
   ]
  },
  {
   "cell_type": "code",
   "execution_count": null,
   "metadata": {
    "collapsed": false
   },
   "outputs": [],
   "source": [
    "series_of_tuples.apply(''.join).str.count('H')==1"
   ]
  },
  {
   "cell_type": "code",
   "execution_count": null,
   "metadata": {
    "collapsed": false
   },
   "outputs": [],
   "source": [
    "series_of_tuples.apply(lambda x: pd.Series(x))"
   ]
  },
  {
   "cell_type": "code",
   "execution_count": null,
   "metadata": {
    "collapsed": true
   },
   "outputs": [],
   "source": [
    "dataframe_of_tests = series_of_tuples.apply(lambda x: pd.Series(x))"
   ]
  },
  {
   "cell_type": "code",
   "execution_count": null,
   "metadata": {
    "collapsed": false
   },
   "outputs": [],
   "source": [
    "dataframe_of_tests "
   ]
  },
  {
   "cell_type": "code",
   "execution_count": null,
   "metadata": {
    "collapsed": false
   },
   "outputs": [],
   "source": [
    "dataframe_of_tests.dtypes"
   ]
  },
  {
   "cell_type": "code",
   "execution_count": 15,
   "metadata": {
    "collapsed": false
   },
   "outputs": [
    {
     "ename": "NameError",
     "evalue": "name 'dataframe_of_tests' is not defined",
     "output_type": "error",
     "traceback": [
      "\u001b[0;31m---------------------------------------------------------------------------\u001b[0m",
      "\u001b[0;31mNameError\u001b[0m                                 Traceback (most recent call last)",
      "\u001b[0;32m<ipython-input-15-4622aff85b7d>\u001b[0m in \u001b[0;36m<module>\u001b[0;34m()\u001b[0m\n\u001b[0;32m----> 1\u001b[0;31m \u001b[0mdataframe_of_tests\u001b[0m\u001b[1;33m.\u001b[0m\u001b[0mapply\u001b[0m\u001b[1;33m(\u001b[0m\u001b[1;32mlambda\u001b[0m \u001b[0mx\u001b[0m\u001b[1;33m:\u001b[0m \u001b[0mprint\u001b[0m\u001b[1;33m(\u001b[0m\u001b[0mx\u001b[0m\u001b[1;33m)\u001b[0m \u001b[1;32mor\u001b[0m  \u001b[0mx\u001b[0m\u001b[1;33m,\u001b[0m \u001b[0maxis\u001b[0m\u001b[1;33m=\u001b[0m\u001b[1;36m1\u001b[0m\u001b[1;33m)\u001b[0m\u001b[1;33m\u001b[0m\u001b[0m\n\u001b[0m",
      "\u001b[0;31mNameError\u001b[0m: name 'dataframe_of_tests' is not defined"
     ]
    }
   ],
   "source": [
    "dataframe_of_tests.apply(lambda x: print(x) or  x, axis=1)"
   ]
  },
  {
   "cell_type": "code",
   "execution_count": 16,
   "metadata": {
    "collapsed": false
   },
   "outputs": [
    {
     "ename": "NameError",
     "evalue": "name 'series_of_tuples' is not defined",
     "output_type": "error",
     "traceback": [
      "\u001b[0;31m---------------------------------------------------------------------------\u001b[0m",
      "\u001b[0;31mNameError\u001b[0m                                 Traceback (most recent call last)",
      "\u001b[0;32m<ipython-input-16-438903312c06>\u001b[0m in \u001b[0;36m<module>\u001b[0;34m()\u001b[0m\n\u001b[0;32m----> 1\u001b[0;31m \u001b[0mseries_of_strings\u001b[0m \u001b[1;33m=\u001b[0m \u001b[0mseries_of_tuples\u001b[0m\u001b[1;33m.\u001b[0m\u001b[0mapply\u001b[0m\u001b[1;33m(\u001b[0m\u001b[1;34m''\u001b[0m\u001b[1;33m.\u001b[0m\u001b[0mjoin\u001b[0m\u001b[1;33m)\u001b[0m\u001b[1;33m\u001b[0m\u001b[0m\n\u001b[0m",
      "\u001b[0;31mNameError\u001b[0m: name 'series_of_tuples' is not defined"
     ]
    }
   ],
   "source": [
    "series_of_strings = series_of_tuples.apply(''.join)"
   ]
  },
  {
   "cell_type": "code",
   "execution_count": 17,
   "metadata": {
    "collapsed": false
   },
   "outputs": [
    {
     "ename": "NameError",
     "evalue": "name 'series_of_strings' is not defined",
     "output_type": "error",
     "traceback": [
      "\u001b[0;31m---------------------------------------------------------------------------\u001b[0m",
      "\u001b[0;31mNameError\u001b[0m                                 Traceback (most recent call last)",
      "\u001b[0;32m<ipython-input-17-b1cec428c746>\u001b[0m in \u001b[0;36m<module>\u001b[0;34m()\u001b[0m\n\u001b[0;32m----> 1\u001b[0;31m \u001b[0mseries_of_strings\u001b[0m\u001b[1;33m.\u001b[0m\u001b[0mstr\u001b[0m\u001b[1;33m.\u001b[0m\u001b[0mcount\u001b[0m\u001b[1;33m(\u001b[0m\u001b[1;34m'H'\u001b[0m\u001b[1;33m)\u001b[0m\u001b[1;33m==\u001b[0m\u001b[1;36m1\u001b[0m\u001b[1;33m\u001b[0m\u001b[0m\n\u001b[0m",
      "\u001b[0;31mNameError\u001b[0m: name 'series_of_strings' is not defined"
     ]
    }
   ],
   "source": [
    "series_of_strings.str.count('H')==1"
   ]
  },
  {
   "cell_type": "code",
   "execution_count": 18,
   "metadata": {
    "collapsed": false
   },
   "outputs": [
    {
     "ename": "NameError",
     "evalue": "name 'series_of_strings' is not defined",
     "output_type": "error",
     "traceback": [
      "\u001b[0;31m---------------------------------------------------------------------------\u001b[0m",
      "\u001b[0;31mNameError\u001b[0m                                 Traceback (most recent call last)",
      "\u001b[0;32m<ipython-input-18-0f74dc0d7f72>\u001b[0m in \u001b[0;36m<module>\u001b[0;34m()\u001b[0m\n\u001b[0;32m----> 1\u001b[0;31m \u001b[0mseries_of_strings\u001b[0m\u001b[1;33m.\u001b[0m\u001b[0mstr\u001b[0m\u001b[1;33m.\u001b[0m\u001b[0mfind\u001b[0m\u001b[1;33m(\u001b[0m\u001b[1;34m'H'\u001b[0m\u001b[1;33m)\u001b[0m\u001b[1;33m==\u001b[0m\u001b[1;36m0\u001b[0m\u001b[1;33m\u001b[0m\u001b[0m\n\u001b[0m",
      "\u001b[0;31mNameError\u001b[0m: name 'series_of_strings' is not defined"
     ]
    }
   ],
   "source": [
    "series_of_strings.str.find('H')==0"
   ]
  },
  {
   "cell_type": "code",
   "execution_count": 19,
   "metadata": {
    "collapsed": false
   },
   "outputs": [
    {
     "ename": "NameError",
     "evalue": "name 'series_of_strings' is not defined",
     "output_type": "error",
     "traceback": [
      "\u001b[0;31m---------------------------------------------------------------------------\u001b[0m",
      "\u001b[0;31mNameError\u001b[0m                                 Traceback (most recent call last)",
      "\u001b[0;32m<ipython-input-19-209a627b7aea>\u001b[0m in \u001b[0;36m<module>\u001b[0;34m()\u001b[0m\n\u001b[0;32m----> 1\u001b[0;31m \u001b[0mseries_of_strings\u001b[0m\u001b[1;33m[\u001b[0m\u001b[1;33m(\u001b[0m\u001b[0mseries_of_strings\u001b[0m\u001b[1;33m.\u001b[0m\u001b[0mstr\u001b[0m\u001b[1;33m.\u001b[0m\u001b[0mcount\u001b[0m\u001b[1;33m(\u001b[0m\u001b[1;34m'H'\u001b[0m\u001b[1;33m)\u001b[0m\u001b[1;33m==\u001b[0m\u001b[1;36m1\u001b[0m\u001b[1;33m)\u001b[0m \u001b[1;33m&\u001b[0m \u001b[1;33m(\u001b[0m\u001b[0mseries_of_strings\u001b[0m\u001b[1;33m.\u001b[0m\u001b[0mstr\u001b[0m\u001b[1;33m.\u001b[0m\u001b[0mfind\u001b[0m\u001b[1;33m(\u001b[0m\u001b[1;34m'H'\u001b[0m\u001b[1;33m)\u001b[0m\u001b[1;33m==\u001b[0m\u001b[1;36m0\u001b[0m\u001b[1;33m)\u001b[0m\u001b[1;33m]\u001b[0m\u001b[1;33m\u001b[0m\u001b[0m\n\u001b[0m",
      "\u001b[0;31mNameError\u001b[0m: name 'series_of_strings' is not defined"
     ]
    }
   ],
   "source": [
    "series_of_strings[(series_of_strings.str.count('H')==1) & (series_of_strings.str.find('H')==0)]"
   ]
  },
  {
   "cell_type": "code",
   "execution_count": 20,
   "metadata": {
    "collapsed": false
   },
   "outputs": [
    {
     "ename": "NameError",
     "evalue": "name 'series_of_strings' is not defined",
     "output_type": "error",
     "traceback": [
      "\u001b[0;31m---------------------------------------------------------------------------\u001b[0m",
      "\u001b[0;31mNameError\u001b[0m                                 Traceback (most recent call last)",
      "\u001b[0;32m<ipython-input-20-4dabc61dbecf>\u001b[0m in \u001b[0;36m<module>\u001b[0;34m()\u001b[0m\n\u001b[1;32m      1\u001b[0m \u001b[1;33m\u001b[0m\u001b[0m\n\u001b[0;32m----> 2\u001b[0;31m \u001b[0mexactly_one_head\u001b[0m \u001b[1;33m=\u001b[0m \u001b[0mseries_of_strings\u001b[0m\u001b[1;33m.\u001b[0m\u001b[0mstr\u001b[0m\u001b[1;33m.\u001b[0m\u001b[0mcount\u001b[0m\u001b[1;33m(\u001b[0m\u001b[1;34m'H'\u001b[0m\u001b[1;33m)\u001b[0m\u001b[1;33m==\u001b[0m\u001b[1;36m1\u001b[0m\u001b[1;33m\u001b[0m\u001b[0m\n\u001b[0m\u001b[1;32m      3\u001b[0m \u001b[0mfirst_flip_is_head\u001b[0m \u001b[1;33m=\u001b[0m \u001b[0mseries_of_strings\u001b[0m\u001b[1;33m.\u001b[0m\u001b[0mstr\u001b[0m\u001b[1;33m.\u001b[0m\u001b[0mfind\u001b[0m\u001b[1;33m(\u001b[0m\u001b[1;34m'H'\u001b[0m\u001b[1;33m)\u001b[0m\u001b[1;33m==\u001b[0m\u001b[1;36m0\u001b[0m\u001b[1;33m\u001b[0m\u001b[0m\n\u001b[1;32m      4\u001b[0m \u001b[0mexactly_one_head_at_first_flip\u001b[0m \u001b[1;33m=\u001b[0m \u001b[0mexactly_one_head\u001b[0m \u001b[1;33m&\u001b[0m \u001b[0mfirst_flip_is_head\u001b[0m\u001b[1;33m\u001b[0m\u001b[0m\n\u001b[1;32m      5\u001b[0m \u001b[1;33m\u001b[0m\u001b[0m\n",
      "\u001b[0;31mNameError\u001b[0m: name 'series_of_strings' is not defined"
     ]
    }
   ],
   "source": [
    "\n",
    "exactly_one_head = series_of_strings.str.count('H')==1\n",
    "first_flip_is_head = series_of_strings.str.find('H')==0\n",
    "exactly_one_head_at_first_flip = exactly_one_head & first_flip_is_head\n",
    "    \n",
    "def relative_probabilities():\n",
    "    \"\"\"returns P(Exactly one head)/ P(First flip is *only* head)\"\"\"\n",
    "    total_events = len(series_of_strings)\n",
    "    #sum is a cheap way to get the number of True's\n",
    "    #also total_events is redundant there in the bottom of each; they would cancel-out, but...\n",
    "    numerator = exactly_one_head.sum()/total_events\n",
    "    denominator = exactly_one_head_at_first_flip.sum()/total_events\n",
    "    print(numerator, denominator)\n",
    "    return numerator/denominator\n",
    "    \n",
    "relative_probabilities()"
   ]
  },
  {
   "cell_type": "code",
   "execution_count": 21,
   "metadata": {
    "collapsed": false
   },
   "outputs": [
    {
     "ename": "NameError",
     "evalue": "name 'relative_probabilities' is not defined",
     "output_type": "error",
     "traceback": [
      "\u001b[0;31m---------------------------------------------------------------------------\u001b[0m",
      "\u001b[0;31mNameError\u001b[0m                                 Traceback (most recent call last)",
      "\u001b[0;32m<ipython-input-21-670426ca2665>\u001b[0m in \u001b[0;36m<module>\u001b[0;34m()\u001b[0m\n\u001b[0;32m----> 1\u001b[0;31m \u001b[1;32massert\u001b[0m \u001b[0mnp\u001b[0m\u001b[1;33m.\u001b[0m\u001b[0misclose\u001b[0m\u001b[1;33m(\u001b[0m\u001b[0mrelative_probabilities\u001b[0m\u001b[1;33m(\u001b[0m\u001b[1;33m)\u001b[0m\u001b[1;33m,\u001b[0m\u001b[1;36m4\u001b[0m\u001b[1;33m)\u001b[0m\u001b[1;33m,\u001b[0m \u001b[1;34m'Expect the P(Exactly one head) to be 4 times higher than P(First flip is only head)'\u001b[0m\u001b[1;33m\u001b[0m\u001b[0m\n\u001b[0m",
      "\u001b[0;31mNameError\u001b[0m: name 'relative_probabilities' is not defined"
     ]
    }
   ],
   "source": [
    "assert np.isclose(relative_probabilities(),4), 'Expect the P(Exactly one head) to be 4 times higher than P(First flip is only head)'"
   ]
  },
  {
   "cell_type": "code",
   "execution_count": 22,
   "metadata": {
    "collapsed": false
   },
   "outputs": [],
   "source": [
    "def relative_probabilities_2():\n",
    "    \"\"\"Returns P(Exactly one head) / P(First flip is heads)\"\"\"\n",
    "    total_events = len(series_of_strings)\n",
    "    numerator = exactly_one_head.sum()/total_events\n",
    "    denominator = first_flip_is_head.sum()/total_events\n",
    "    print(numerator, denominator)\n",
    "    return numerator/denominator"
   ]
  },
  {
   "cell_type": "code",
   "execution_count": 23,
   "metadata": {
    "collapsed": false
   },
   "outputs": [
    {
     "ename": "NameError",
     "evalue": "name 'series_of_strings' is not defined",
     "output_type": "error",
     "traceback": [
      "\u001b[0;31m---------------------------------------------------------------------------\u001b[0m",
      "\u001b[0;31mNameError\u001b[0m                                 Traceback (most recent call last)",
      "\u001b[0;32m<ipython-input-23-5cba177e1c7e>\u001b[0m in \u001b[0;36m<module>\u001b[0;34m()\u001b[0m\n\u001b[0;32m----> 1\u001b[0;31m \u001b[1;32massert\u001b[0m \u001b[0mrelative_probabilities_2\u001b[0m\u001b[1;33m(\u001b[0m\u001b[1;33m)\u001b[0m\u001b[1;33m==\u001b[0m\u001b[1;36m0.5\u001b[0m\u001b[1;33m,\u001b[0m \u001b[1;34m'Expect P(Exactly one head) is half the size of  P(First flip is heads), becuase P(num) is 0.25 and P(denom) is 0.5'\u001b[0m\u001b[1;33m\u001b[0m\u001b[0m\n\u001b[0m",
      "\u001b[0;32m<ipython-input-22-a4b10032fd22>\u001b[0m in \u001b[0;36mrelative_probabilities_2\u001b[0;34m()\u001b[0m\n\u001b[1;32m      1\u001b[0m \u001b[1;32mdef\u001b[0m \u001b[0mrelative_probabilities_2\u001b[0m\u001b[1;33m(\u001b[0m\u001b[1;33m)\u001b[0m\u001b[1;33m:\u001b[0m\u001b[1;33m\u001b[0m\u001b[0m\n\u001b[1;32m      2\u001b[0m     \u001b[1;34m\"\"\"Returns P(Exactly one head) / P(First flip is heads)\"\"\"\u001b[0m\u001b[1;33m\u001b[0m\u001b[0m\n\u001b[0;32m----> 3\u001b[0;31m     \u001b[0mtotal_events\u001b[0m \u001b[1;33m=\u001b[0m \u001b[0mlen\u001b[0m\u001b[1;33m(\u001b[0m\u001b[0mseries_of_strings\u001b[0m\u001b[1;33m)\u001b[0m\u001b[1;33m\u001b[0m\u001b[0m\n\u001b[0m\u001b[1;32m      4\u001b[0m     \u001b[0mnumerator\u001b[0m \u001b[1;33m=\u001b[0m \u001b[0mexactly_one_head\u001b[0m\u001b[1;33m.\u001b[0m\u001b[0msum\u001b[0m\u001b[1;33m(\u001b[0m\u001b[1;33m)\u001b[0m\u001b[1;33m/\u001b[0m\u001b[0mtotal_events\u001b[0m\u001b[1;33m\u001b[0m\u001b[0m\n\u001b[1;32m      5\u001b[0m     \u001b[0mdenominator\u001b[0m \u001b[1;33m=\u001b[0m \u001b[0mfirst_flip_is_head\u001b[0m\u001b[1;33m.\u001b[0m\u001b[0msum\u001b[0m\u001b[1;33m(\u001b[0m\u001b[1;33m)\u001b[0m\u001b[1;33m/\u001b[0m\u001b[0mtotal_events\u001b[0m\u001b[1;33m\u001b[0m\u001b[0m\n",
      "\u001b[0;31mNameError\u001b[0m: name 'series_of_strings' is not defined"
     ]
    }
   ],
   "source": [
    "assert relative_probabilities_2()==0.5, 'Expect P(Exactly one head) is half the size of  P(First flip is heads), becuase P(num) is 0.25 and P(denom) is 0.5'"
   ]
  },
  {
   "cell_type": "code",
   "execution_count": 24,
   "metadata": {
    "collapsed": true
   },
   "outputs": [],
   "source": [
    "def relative_probabilities_2_answer():\n",
    "    \"\"\"Returns the number of events where first flip is heads\"\"\"\n",
    "    #If the first coin is Heads, there is no variation in it, the only other possibilities are the remaining 3 coins\n",
    "    # The language \"the first coin is heads\" doesn't restrict the latter three, so we can count the number where first is Heads,\n",
    "    #By counting the number where the latter three are *any remaining possible combinations*\n",
    "    return len(list(itertools.product(*['HT', 'HT', 'HT'])))"
   ]
  },
  {
   "cell_type": "code",
   "execution_count": 25,
   "metadata": {
    "collapsed": false
   },
   "outputs": [
    {
     "data": {
      "text/plain": [
       "8"
      ]
     },
     "execution_count": 25,
     "metadata": {},
     "output_type": "execute_result"
    }
   ],
   "source": [
    "relative_probabilities_2_answer()"
   ]
  },
  {
   "cell_type": "code",
   "execution_count": 26,
   "metadata": {
    "collapsed": false
   },
   "outputs": [
    {
     "data": {
      "text/plain": [
       "[('H', 'H', 'H'),\n",
       " ('H', 'H', 'T'),\n",
       " ('H', 'T', 'H'),\n",
       " ('H', 'T', 'T'),\n",
       " ('T', 'H', 'H'),\n",
       " ('T', 'H', 'T'),\n",
       " ('T', 'T', 'H'),\n",
       " ('T', 'T', 'T')]"
      ]
     },
     "execution_count": 26,
     "metadata": {},
     "output_type": "execute_result"
    }
   ],
   "source": [
    "list(itertools.product(*['HT', 'HT', 'HT']))"
   ]
  },
  {
   "cell_type": "code",
   "execution_count": 27,
   "metadata": {
    "collapsed": true
   },
   "outputs": [],
   "source": [
    "def quiz_same_coin():\n",
    "    \"\"\"\n",
    "    Equiprobable Coin 1 vs Coin 2\n",
    "    P(Coin 1) == P(Coin 2)\n",
    "    Coin 1 P(H) = 0.5 (Fair)\n",
    "    Coin 2 (PH) = 0.9 (Unfair)\n",
    "    \n",
    "    Returns the probability that two people flipped the same coin\n",
    "    At first I thought we should infer something from the results\n",
    "    HHT : My flips\n",
    "    THH : Your flips\n",
    "    \n",
    "    But now I think we should know the probability of flipping the same coin\n",
    "    because a priori (ignoring the flip results) we know probability of picking same coin\n",
    "    Notice that they pick thes ame coin as each other *half the time*\n",
    "    \"\"\"\n",
    "    \n",
    "    return list(itertools.product(*([('Coin 1', 'Coin 2')]*2)))\n",
    "    \n",
    "    "
   ]
  },
  {
   "cell_type": "code",
   "execution_count": 28,
   "metadata": {
    "collapsed": false
   },
   "outputs": [
    {
     "data": {
      "text/plain": [
       "[('Coin 1', 'Coin 1'),\n",
       " ('Coin 1', 'Coin 2'),\n",
       " ('Coin 2', 'Coin 1'),\n",
       " ('Coin 2', 'Coin 2')]"
      ]
     },
     "execution_count": 28,
     "metadata": {},
     "output_type": "execute_result"
    }
   ],
   "source": [
    "list(quiz_same_coin())"
   ]
  },
  {
   "cell_type": "code",
   "execution_count": 29,
   "metadata": {
    "collapsed": true
   },
   "outputs": [],
   "source": [
    "#My first guess was wrong, 0.5\n",
    "#He gave us the flip results, so he is not talking about probability before-the-fact\n",
    "#He is talking about the conditional probability; Probability(Have the same coin) GIVEN the Flip sequence he tell us about"
   ]
  },
  {
   "cell_type": "code",
   "execution_count": 30,
   "metadata": {
    "collapsed": true
   },
   "outputs": [],
   "source": [
    "#first lets review Probability it is Coin 1\n",
    "#Probability (Coin 1) GIVEN Flip sequence HHT\n",
    "\n",
    "#Numerator\n",
    "\n",
    "#Remember Bayes lets us start with one \"GIVEN\" and produce the INVERSE\n",
    "# X given Y , Y given X\n",
    "#Probability Flip Sequence HHT GIVEN Coin 1\n",
    "#Given Coin 1, we know that prob Prob(HHT) = 0.5 * 0.5 * 0.5 = 1/2 * 1/2 * 1/2 = 1/8 = 0.125\n",
    "\n",
    "#Numerator Part 1:\n",
    "#Probability Coin 1 = 0.5\n",
    "\n",
    "#Numerator Part 2:\n",
    "#Probability Flip Sequence Given Coin 1 = 0.125\n",
    "#Multiply these together, what is that?\n",
    "\n",
    "#The Numerator represents:\n",
    "#Probability Coin 1 AND Flip Sequence ; i.e. in the total possibilities\n",
    "\n",
    "#Denominator:\n",
    "\n",
    "#Denominator Part 1\n",
    "#Probability of Coin 1 and Flip Sequence\n",
    "#Look; same as numerator!\n",
    "# 0.5 * 0.125\n",
    "\n",
    "\n",
    "#Denominator Part 2:\n",
    "#Probability of Coin 2 and Flip Sequence\n",
    "# 0.5 * 0.081\n",
    "\n",
    "#Add together: What rule allows us to do this?\n",
    "#We know that represents Probability of that Flip Sequence more generally\n",
    "#Because we know Coin 1 and Coin 2 are the only other possibilities in the other event\n",
    "#But it also represents Probability (Flip Sequence and (Coin 1 or Coin 2))\n",
    "#I guess P(Any Event & Unity(1)) = P(Any Event); i.e. the Unity is always true...\n",
    "\n",
    "#Now just the total probability of the flip sequence, which will be in denominator\n",
    "#Add together any ways to reach flip sequence\n",
    "#0.5 * 0.125 + 0.5 * 0.081\n",
    "#Equals "
   ]
  },
  {
   "cell_type": "markdown",
   "metadata": {},
   "source": [
    "![showing instructor notes vis-a-vis the Bayes chainlink diagram I have been maintaining, how instructor produces numerator and denominator](img/coin flip problem in chains.png)"
   ]
  },
  {
   "cell_type": "code",
   "execution_count": 31,
   "metadata": {
    "collapsed": true
   },
   "outputs": [],
   "source": [
    "class Event(object):\n",
    "    \n",
    "    GIVEN = ' given '\n",
    "    NOT = 'not'\n",
    "    AND = ' and '\n",
    "    NEGATIVE = 'negative'\n",
    "    POSITIVE = 'positive'\n",
    "    \n",
    "    #def __new__(cls, name, prob, prob_universeprob_population={}):\n",
    "    #    return super().__new__(cls, name, prob, prob_population)\n",
    "    # Was gonna check first the population, but...\n",
    "    \n",
    "    def __init__(self, name):#, *args, **kwargs):\n",
    "        self.__name = str(name).strip()\n",
    "        \n",
    "    def __neg__(self):\n",
    "        return self.__invert__()\n",
    "    \n",
    "    def __invert__(self):\n",
    "        \"\"\"\n",
    "        The idea of a binary event\n",
    "        :returns: the 'inverse' of this event; this event not-happening\n",
    "        \"\"\"\n",
    "        # A conditional event; just negate the posterior\n",
    "        if self.given():\n",
    "            return (~self.posterior()) | self.given()\n",
    "        \n",
    "        # A joint event; negate both and re-join\n",
    "        if all(self.joint()):\n",
    "            return ~self.joint()[0]  & ~self.joint()[1]\n",
    "        \n",
    "        # A negative single event; make positive\n",
    "        if self.__name.startswith(self.NOT):\n",
    "            return Event(self.__name.lstrip(self.NOT).strip('()'))\n",
    "            \n",
    "        # A positive single event; make negative\n",
    "        else:\n",
    "            #if self.POSITIVE in self.__name:\n",
    "            #    not_name = self.__name.replace(self.POSITIVE, self.NEGATIVE)\n",
    "            #elif self.NEGATIVE in self.__name:\n",
    "            #    not_name = self.__name.replace(self.NEGATIVE, self.POSITIVE)\n",
    "            #else:\n",
    "            return Event('{0}({1})'.format(self.NOT, self.__name))\n",
    "        \n",
    "    def __or__(self, event_2):\n",
    "        \"\"\"Notice this would *not* support\n",
    "        transitive property as \"or\" normally should\n",
    "        Though I guess \"truthied\" things aren't actually transitive\n",
    "        (A__or__B == B__or__A)\n",
    "        \"\"\"\n",
    "        return self.given(event_2)\n",
    "    \n",
    "    def __and__(self, event_2):\n",
    "        \"\"\"\n",
    "        \"\"\"\n",
    "        return self.joint(event_2)\n",
    "    \n",
    "    def joint(self, event_2=None):\n",
    "        \"\"\"\n",
    "        Quiz: Prior And Posterior\n",
    "        CORRECTION: From 0:45 onward, the posterior for the cancer case \n",
    "        should be written as P(C, Pos) instead of P(C|Pos), and the \n",
    "        one for the non-cancer case should read P(~C, Pos) instead \n",
    "        of P(~C|Pos).\n",
    "        \n",
    "        there is a correction to when\n",
    "        consider that self.AND could be the *comma*, \n",
    "        https://classroom.udacity.com/courses/st101/lessons/48703346/concepts/487236370923\n",
    "        \"\"\"\n",
    "        if event_2 is None:\n",
    "            if self.AND in self.__name:\n",
    "                return [Event(_) for _ in self.__name.split(self.AND)]\n",
    "            else:\n",
    "                return [None, None]\n",
    "        else:\n",
    "            and_name = '{0}{1}{2}'.format(self, self.AND, event_2)\n",
    "            return Event(and_name)\n",
    "        \n",
    "    def alt_events(self):\n",
    "        first, second = self.joint()\n",
    "        other_joint = '{0}{1}{2}'.format(second, self.AND, first) \n",
    "        return [Event(_) for _ in [other_joint]]\n",
    "    \n",
    "    def posterior(self):\n",
    "        \"\"\"\n",
    "        If this is a conditional,\n",
    "        P(Cancer|Pos)\n",
    "        :returns: the name of the posterior event, that the patient has Cancer\n",
    "        \"\"\"\n",
    "        #GET method\n",
    "        if self.GIVEN in self.__name:\n",
    "            #assert self.GIVEN in self.__name, 'No second event'\n",
    "            return Event(self.__name.split(self.GIVEN)[0])\n",
    "        #No SET method because there is not left-to-right syntax\n",
    "        #Whereas the \"given\" method creates a new conditional\n",
    "            \n",
    "            \n",
    "   \n",
    "    def given(self, event_2=None):\n",
    "        \"\"\"\n",
    "        If this is a conditional, event\n",
    "        P(Cancer|Pos)\n",
    "        :params event_2: the second event IF you want to create a new given event\n",
    "        :returns: the name of the original event, that test is Positive, if no event_2 param passed and this is a conditional event\n",
    "        Else a new conditional event created by combining self and event_2\n",
    "        \"\"\"\n",
    "        #GET method\n",
    "        if event_2 is None:\n",
    "            \n",
    "            if self.GIVEN in self.__name:\n",
    "                #assert self.GIVEN in self.__name, 'No first event'\n",
    "                return Event(self.__name.split(self.GIVEN)[1])\n",
    "        #SET method\n",
    "        else:\n",
    "            given_name = '{0}{1}{2}'.format(self, self.GIVEN, event_2)\n",
    "            #given_prob = prob\n",
    "            return Event(given_name) #, given_prob, self.__probs)\n",
    "   \n",
    "    def __nickname__(self):\n",
    "        \"\"\"\n",
    "        Would want nicknames for like 'gay' could by 'G'\n",
    "        And other  conventions (saved as constants) like 'N' for 'not'\n",
    "        \n",
    "        'G' for given; or the symbol '|'\n",
    "        'A' for and; or the symbol or acceptable '&'\n",
    "        \"\"\"\n",
    "        return (self.__name\n",
    "                .replace(' given ', '|')\n",
    "                .replace(' and ', ',')\n",
    "                .upper())\n",
    "        \n",
    "    def __repr__(self):\n",
    "        return 'Event(\"{}\")'.format(self.__name)\n",
    "\n",
    "    def __str__(self):\n",
    "        return self.__name\n",
    "\n",
    "    def __hash__(self):\n",
    "        return hash(tuple(sorted(self.__name.split(self.AND))))\n",
    "\n",
    "    def __eq__(self, other):\n",
    "        return hash(self) == hash(other)\n",
    "class Probability(dict):\n",
    "    \n",
    "    \n",
    "    def __init__(self, print_log=False, *args, **kwargs):\n",
    "        # https://stackoverflow.com/a/2390997/1175496\n",
    "        # https://stackoverflow.com/a/2390913/1175496\n",
    "        self.print_log = print_log\n",
    "        self.__log__ = []\n",
    "        #Allows us to say P(Event('Red')) = set('AB'), i.e. the events 'A' and 'B' map direclty to red. \n",
    "        # TODO: What does this mean about their posterior relationship? their joint relationship? \n",
    "        #{'Red' : {'A', 'B'} }\n",
    "        #Then later:\n",
    "        #{'Red' : {'A', 'B'} , '~Red': {'C'}}\n",
    "        self.__event_set_map__ = {}\n",
    "        #After above produces:\n",
    "        #{\n",
    "        # 'A' : 'Red',\n",
    "        # 'B' : 'Red',\n",
    "        # 'C': '~Red'\n",
    "        #}\n",
    "\n",
    "        self.__set_element_event_map__ = {}\n",
    "        dict.__init__(self, *args, **kwargs)\n",
    "        \n",
    "    def __call__(self, event, *args, **kwargs):\n",
    "        return self.__getitem__(event)\n",
    "        \n",
    "    def log(self, *stuff):\n",
    "        self.__log__.append(*stuff)\n",
    "        if (self.print_log):\n",
    "            print(*stuff)\n",
    "            \n",
    "    def __getitem__(self, key):\n",
    "        \"\"\"\n",
    "        Not a sequence type;\n",
    "        Not implementing negative integers or accepting ranges\n",
    "        \"\"\"\n",
    "\n",
    "        if isinstance(key, str):\n",
    "            #Otherwise:\n",
    "            # <ipython-input-176-625a83d6e567> in __getitem__(self, key)\n",
    "            #      37         \"\"\"\n",
    "            #      38 \n",
    "            # ---> 39         result = super().__getitem__(key)\n",
    "            #      40         if  result is None:\n",
    "            #      41             for alt_event in key.alt_events():\n",
    "\n",
    "            # KeyError: 'A'\n",
    "            key = Event(key)\n",
    "            \n",
    "        result = super().__getitem__(key)\n",
    "        if  result is None:\n",
    "            for alt_event in key.alt_events():\n",
    "                result = super().__getitem__(alt_event)\n",
    "                if result:\n",
    "                    break\n",
    "                    \n",
    "        return result\n",
    "    \n",
    "    def __set__(self, event, prob):\n",
    "       \n",
    "        assert event is not None, 'Event must be not None'\n",
    "            \n",
    "        prob = float(prob)\n",
    "        event = Event(event)\n",
    "        \n",
    "        #NOTE: prob *can be 0*, and prob *can also be 1!\n",
    "        #Dont think of it as contiguous ranges; remember Probabilities add to 1!\n",
    "        #So prob of 0 and prob of 1 must co-exist!\n",
    "        assert 0 <= prob <= 1, 'Dont know probability of {0} ' \\\n",
    "        '{1} outside of limits 0 and 1'.format(event, prob) \n",
    "        \n",
    "        #If already set, dont continue\n",
    "        #Ah, but it could be zero!\n",
    "        \n",
    "        if self.get(event) is not None:\n",
    "            return \n",
    "        \n",
    "        self.log('setting event \"{}\" to prob {}'.format(event, prob))\n",
    "        \n",
    "        try:\n",
    "            if np.isclose(prob, 0): #prob===0:\n",
    "                self.log('the value is 0!')\n",
    "            super().__setitem__(event, prob)\n",
    "        except Exception as e:\n",
    "            self.log('Some error dont want it to bubble past me recursively')\n",
    "            self.log(e)\n",
    "        \n",
    "        #Create Joint from Conditional and Single matching Original Event\n",
    "        #=================\n",
    "        #Scenario 1; event = P(A|B) and already have P(B)\n",
    "        #Can create P(A&B)\n",
    "        \n",
    "        \n",
    "        try:\n",
    "            conditional_event = event\n",
    "            conditional_prob = prob\n",
    "            \n",
    "            given_event = event.given()\n",
    "            # print(given_event)\n",
    "            given_event_prob = self[given_event]\n",
    "            #Now set the probability (in the entire event space) \n",
    "            #of *both* the conditional event, and also the joint event; P(A&B):\n",
    "            #Who is the P(B) * P(A|B)\n",
    "            joint_event = conditional_event.posterior() & conditional_event.given()\n",
    "            joint_prob = conditional_prob * given_event_prob\n",
    "            \n",
    "            #print('joint', joint_event, joint_prob)\n",
    "            self.__set__(joint_event, joint_prob)\n",
    "            \n",
    "            #Create not from conditional\n",
    "            #=================\n",
    "            #Scenario 1a; event = P(A|B) \n",
    "            # Can create P(~A|B)\n",
    "            not_posterior_same_given = ~conditional_event.posterior()  | given_event\n",
    "            not_posterior_same_given_prob = 1 - prob\n",
    "            self.__set__(not_posterior_same_given, not_posterior_same_given_prob)\n",
    "            \n",
    "            \n",
    "            \n",
    "        except KeyError as e:\n",
    "            msg = 'dont have Probability for Event \"{}\"'.format(given_event) if given_event is not None else 'no event.given()'\n",
    "            self.log('No joint, {}'.format(msg))\n",
    "            \n",
    "        #Create Joint from Single and any matching Conditional\n",
    "        #================\n",
    "        #Scenario 2; event = P(B) and already have P(N|B); \n",
    "        #    notice how \"N\" could be anything! Could be more than one; for-loop it\n",
    "        #Can create P(N&B)\n",
    "        try:\n",
    "            original_prob = prob\n",
    "            original_event = event\n",
    "            conditional_events = [_ for _ in self.events() if _.given()==original_event]\n",
    "            #[0]\n",
    "  \n",
    "            for conditional_event in conditional_events:\n",
    "                conditional_prob = self[conditional_event]\n",
    "                \n",
    "                joint_event = conditional_event.posterior() & conditional_event.given()\n",
    "                joint_prob = conditional_prob * original_prob\n",
    "                \n",
    "                # print('joint', joint_event, joint_prob)\n",
    "                self.__set__(joint_event, joint_prob)\n",
    "            \n",
    "        #Exception expected from the list accessing first element: [0]\n",
    "        #except IndexError as e:\n",
    "        #It *was* error accessing first element, but I'm no longer doing that, I'm iterating\n",
    "        #And if there is no first element, that means I won't iterate! \n",
    "        #Is that \"graceful degradation\" or not?\n",
    "        except Exception as e:\n",
    "            self.log(e)\n",
    "            #print(e)\n",
    "            pass#print('No joint, dont have events with original {}'.format(original_event))#pass#print('No scenario 2')\n",
    "            \n",
    "        #Create Joint from Single and any matching Conditional\n",
    "        #================\n",
    "        #Scenario 2; event = P(B) and already have P(N&B) or P(B&N)\n",
    "        #    notice how \"N\" could be anything! Could be more than one; for-loop it\n",
    "        #Can create P(N|B)\n",
    "        try:\n",
    "            original_prob = prob\n",
    "            original_event = event\n",
    "            import pdb\n",
    "            #if str(original_event)=='positive':\n",
    "            #    pdb.set_trace()\n",
    "            joint_events = [_ for _ in self.events() if original_event in _.joint()]#[0]\n",
    "  \n",
    "            for joint_event in joint_events:\n",
    "                joint_prob = self[joint_event]\n",
    "                other_event = [_ for _ in joint_event.joint() if _ !=original_event][0]\n",
    "                \n",
    "                conditional_event = other_event | original_event\n",
    "                conditional_prob = joint_prob / original_prob\n",
    "                \n",
    "                #print('jointtt')\n",
    "                self.__set__(conditional_event, conditional_prob)\n",
    "            \n",
    "        except Exception as e:\n",
    "            print(e)\n",
    "            \n",
    "        \n",
    "        #Create Single from Joint and other Single in Joint\n",
    "        #====================\n",
    "        #Scenario one; event = P(A&B) and ...\n",
    "        #we have P(A) so we can create P(A|B) \n",
    "        #or we have P(B) and we can create P(B|A)\n",
    "        e_1, e_2 = event.joint() \n",
    "        joint_event = event\n",
    "        joint_prob = prob\n",
    "        for original_event, second_event in ((e_1, e_2), (e_2, e_1)):\n",
    "            try:\n",
    "                original_prob = self[original_event]\n",
    "                \n",
    "                conditional_event = second_event | original_event\n",
    "                conditional_event_prob = joint_prob / original_prob\n",
    "                \n",
    "                #print('conditional')\n",
    "                self.__set__(conditional_event, conditional_event_prob)\n",
    "\n",
    "            except Exception as e:\n",
    "                pass#print('No conditional')#pass\n",
    "            \n",
    "            #Create Single from Joint and other Single in Joint\n",
    "            #====================\n",
    "            #Scenario one; event = P(A&B) and ...\n",
    "            #we have P(A&~B) so we can create P(A) \n",
    "            #or we have P(B&~A) and we can create P(B)\n",
    "            #And if we can do those, we have to put them back through this method, right?\n",
    "            try:\n",
    "                original_and_not_second_prob = self[original_event & ~second_event]\n",
    "                \n",
    "                full_original_event = original_event\n",
    "                full_original_event_prob = joint_prob + original_and_not_second_prob\n",
    "                \n",
    "                #print('conditional')\n",
    "                #print('full', full_original_event)\n",
    "                self.__set__(full_original_event, full_original_event_prob)\n",
    "\n",
    "            except Exception as e:\n",
    "                if original_event and second_event:\n",
    "                    pass# print(e)\n",
    "\n",
    "    def events(self):\n",
    "        return self.keys()\n",
    "    \n",
    "    \n",
    "    def __setitem__(self, event, prob):\n",
    "        #IF we have P(A) we can get P(~A),\n",
    "        #And if the not would produce any other effects, we should follow those through\n",
    "        \n",
    "        if isinstance(prob, set):\n",
    "            original_set = prob\n",
    "            self.__event_set_map__[event] = original_set\n",
    "            for set_element in original_set:\n",
    "                \n",
    "                self.__set_element_event_map__[set_element] = event\n",
    "            \n",
    "            complement_set = self.__event_set_map__.get(~event)\n",
    "            \n",
    "            if complement_set is not None:\n",
    "                \n",
    "                    assert len(original_set & complement_set)==0, 'The sets contain duplicate elements!'\n",
    "                    #Take the union ; \n",
    "                    #Somehow we gotta know the total_set, the Event itself should be aware of that somehow.\n",
    "                    #It doesnt meant ht eevent is aware of all other events,\n",
    "                    #But at least that a P can know if they have all of em... Hmm...\n",
    "                    #So we can sum up to 1, or do posterior vs joints...\n",
    "                    total_set =  original_set | complement_set\n",
    "                    \n",
    "                    #First set the probabilities of each\n",
    "                    for set_element in total_set:\n",
    "                        #This supposes they are equally weighted, \n",
    "                        #But this is not always true!\n",
    "                        #Sebastians case he was able to give us P[A] = P[B] = P[C] = 1/3\n",
    "                        #But couldve done: P[A] = 1/2; P[B] = P[C] = 1/4\n",
    "                        #Only if these havent been set already . Great, if they are set already, then this will be ignored\n",
    "                        #Goes down to __set__, which ignores values if already set.\n",
    "                        self.__setitem__(set_element, 1/len(total_set))\n",
    "                        \n",
    "                    #Then set the individual probabilities of the events they map to\n",
    "                    #The complement will be taken care of by the (event, prob) , (~event, 1-prob) seen below...\n",
    "                    original_prob = len(original_set)/len(total_set)\n",
    "                    #this will trigger the numeric version\n",
    "                    self.__setitem__(event, original_prob)\n",
    "                    \n",
    "                    \n",
    "        else:\n",
    "            if isinstance(event, str):\n",
    "                #Otherwise:\n",
    "                # --> 243             for event, prob in ((event, prob), (~event, 1-prob)):\n",
    "                #     244                 #print(event, prob)\n",
    "                #     245                 self.__set__(event, prob)\n",
    "\n",
    "                # TypeError: bad operand type for unary ~: 'str'\n",
    "                event = Event(event)\n",
    "            #both the event and its complementary:\n",
    "            #complement is always in a special domain: The event or not the event.\n",
    "            #But the event may exist as part of a larger set; i.e. A, of { A, B, C}\n",
    "            #The ~event is called the complement; the 1-prob is called the \"inverse\" ???\n",
    "            \n",
    "            #https://classroom.udacity.com/courses/st101/lessons/48729374/concepts/486889570923\n",
    "            for event, prob in ((event, prob), (~event, 1-prob)):\n",
    "                #print(event, prob)\n",
    "                self.__set__(event, prob)\n",
    "        \n",
    "    def venn(self, event1, event2, round_to=4):\n",
    "        # P, C, Pos = cancer_test()\n",
    "        # #Remember the order:\n",
    "        # #                 Ab          aB        AB\n",
    "        # subsets =     (P(C&~Pos),  P(~C&Pos),  P(C&Pos))\n",
    "\n",
    "        # #Round it otherwise  the labels look bad:\n",
    "        # subsets = list(round(_, 4) for _ in subsets)\n",
    "        # venn2(subsets=subsets)\n",
    "        #TODO: I think this entire Probability class may only work if there are 2 distinct events (each of which comes with its \"not Event happens\" equivalent; so 4 things total)\n",
    "        #And manipulating the size of those 3 spaces, the 3 subsets, as far as the venn diagram is concerned\n",
    "        #But 4 spaces, when we know the 2 circles / 3 spaces are relative to a bounding box, we can size the bounding box.\n",
    "        \n",
    "        from matplotlib_venn import venn3, venn2\n",
    "        subsets =     (self[event1&~event2],  P[~event1&event2],  P[event1&event2])\n",
    "        subsets = list(round(_, round_to) for _ in subsets)\n",
    "        return venn2(subsets)"
   ]
  },
  {
   "cell_type": "code",
   "execution_count": 32,
   "metadata": {
    "collapsed": false
   },
   "outputs": [],
   "source": [
    "def same_coin_result():\n",
    "    coin_1 = Event('Coin 1')\n",
    "    # coin_2 is just the complement to coin_1\n",
    "    # coin_2 = Event('Coin 2')\n",
    "\n",
    "    #In this case, one twist:\n",
    "    #\"Treat these as the same\"\n",
    "    #after all, :\n",
    "    assert set('hht')==set('thh'), 'Sets are not ordered, they should be considered the same'\n",
    "    #So the same Bayes chainlink \n",
    "    #would be constructed for both \"My flips\" likelihood of being Coin 1, \n",
    "    #and \"Your flips\" likelihood of being Coin 1\n",
    "    \n",
    "    #So I dont need to distinguish between the flips; \n",
    "    \n",
    "    #my_flips = Event('hht')\n",
    "    #your_flips = Event('thh')\n",
    "    \n",
    "    #Let's just call them flips\n",
    "    flips = Event('flips') # \n",
    "    \n",
    "\n",
    "    P = Probability()\n",
    "    \n",
    "    P[coin_1] = 0.5\n",
    "    \n",
    "    heads = Event('heads')\n",
    "    \n",
    "    #These  probability is not directly related to our chainlink\n",
    "    #Notice the top half of chain link may be coin_1 or ~coin_2\n",
    "    # but bottom half of chain link event-space is no longer a series of flips, it is just the outcome of *one* flip\n",
    "    \n",
    "    #Could do\n",
    "    tails = ~heads\n",
    "    coin_2 = ~coin_1\n",
    "    \n",
    "    P[heads  | coin_1] = 0.5\n",
    "    P[heads  | coin_2] = 0.9\n",
    "    \n",
    "    P[flips | coin_1] = P[tails  | coin_1] * P[heads  | coin_1] * P[heads  | coin_1]\n",
    "    P[flips | coin_2] = P[tails  | coin_2] * P[heads  | coin_2] * P[heads  | coin_2]\n",
    "    \n",
    "    \n",
    "    #These probabilities are also not directly related to our chainlink...\n",
    "    both_coin_1 = Event('both_coin_1')\n",
    "    both_coin_2 = Event('both_coin_2')\n",
    "    same_coin = Event('same_coin')\n",
    "    \n",
    "    \n",
    "    #As discused earlier, we would normally do\n",
    "    my_flip = flips\n",
    "    your_flip = flips\n",
    "    P[both_coin_1] = P[coin_1 | my_flip] * P[coin_1 | your_flip] \n",
    "    P[both_coin_2] = P[~coin_1 | my_flip] * P[~coin_1 | your_flip] \n",
    "    P[same_coin] = P[both_coin_1] + P[both_coin_2]\n",
    "    \n",
    "    return P\n",
    "\n",
    "same_coin_probs = same_coin_result() \n",
    "same_coin_probs\n",
    "assert np.isclose(round(same_coin_probs['same_coin'], 3), 0.523), 'Probability of same coins (both C1 or both C2), given the flips,is 0.523 , but you provided {}'.format(same_coin_probs['same_coin'])"
   ]
  },
  {
   "cell_type": "code",
   "execution_count": 33,
   "metadata": {
    "collapsed": false
   },
   "outputs": [
    {
     "data": {
      "text/plain": [
       "True"
      ]
     },
     "execution_count": 33,
     "metadata": {},
     "output_type": "execute_result"
    }
   ],
   "source": [
    "set('hht')==set('thh')"
   ]
  },
  {
   "cell_type": "code",
   "execution_count": 34,
   "metadata": {
    "collapsed": false
   },
   "outputs": [
    {
     "data": {
      "text/plain": [
       "[(0.4615952732644018, True),\n",
       " (0.024587025215085937, True),\n",
       " (7.059301781108519e-05, True),\n",
       " (0.999964445708597, False),\n",
       " (0.9971282705807275, False)]"
      ]
     },
     "execution_count": 34,
     "metadata": {},
     "output_type": "execute_result"
    }
   ],
   "source": [
    "def is_it_fair(p_loaded = 0.1):\n",
    "    \"\"\"\n",
    "    \"\"\"\n",
    "    \n",
    "    P = Probability()\n",
    "    fair = Event('fair coin')\n",
    "    loaded = ~fair\n",
    "    \n",
    "    heads = Event('heads')\n",
    "    tails = ~heads\n",
    "    \n",
    "    P[heads | fair] = 0.5\n",
    "    P[heads | loaded] = 0.9\n",
    "    P[loaded] = p_loaded\n",
    "    \n",
    "    \n",
    "    def prob_sequence(sequence, prob_heads=0.5):\n",
    "        \"\"\"Where sequence is {'H' : 4, 'T': 0 } \n",
    "        for 'four heads zero tails' \n",
    "        prob_heads is 0.5 or some fraction\n",
    "        \"\"\"\n",
    "        return (prob_heads**sequence['H'])  *  ((1-prob_heads)**sequence['T'])\n",
    "    \n",
    "    sequences = [\n",
    "        {'H': 4, 'T' : 0},\n",
    "        {'H': 10, 'T' : 0},\n",
    "        {'H': 20, 'T' : 0},\n",
    "        {'H': 0, 'T' : 5},\n",
    "        {'H': 2, 'T' : 3},\n",
    "    ]\n",
    "    \n",
    "    def get_prob_fair_given_sequence(sequence):\n",
    "        flips = Event('{H}H{T}T'.format(**sequence))#sequence)\n",
    "        P[flips | fair] = prob_sequence(sequence, P[heads | fair])\n",
    "        #return P[flips | fair]\n",
    "        P[flips | loaded] = prob_sequence(sequence, P[heads | loaded])\n",
    "        return P[fair | flips]\n",
    "    \n",
    "    def less_than(amt, what=0.5):\n",
    "        return amt < what\n",
    "    \n",
    "    #Using a list because I'm about to map it in a less-than item\n",
    "    prob_fair_given_flips  = list(map(get_prob_fair_given_sequence, sequences))\n",
    "    \n",
    "    #return prob_fair_given_flips\n",
    "    return list(itertools.zip_longest(prob_fair_given_flips, map(less_than, prob_fair_given_flips)))\n",
    "#itertools.\n",
    "\n",
    "is_it_fair_1 = lambda : is_it_fair(0)\n",
    "is_it_fair_2 = is_it_fair\n",
    "\n",
    "\n",
    "is_it_fair_2()\n"
   ]
  },
  {
   "cell_type": "code",
   "execution_count": 35,
   "metadata": {
    "collapsed": false
   },
   "outputs": [],
   "source": [
    "assert [_[1] for _ in is_it_fair_2()] == [ True, True, True, False, False], 'Expected:\\\n",
    "first three to be less than 0.5 probability \\\n",
    "(because so many heads, must be loaded coin) \\\n",
    "and last two to be greater than 0.5 probablity \\\n",
    "because only tails, strong evidence they are *not* the loaded coin'"
   ]
  },
  {
   "cell_type": "code",
   "execution_count": 36,
   "metadata": {
    "collapsed": false
   },
   "outputs": [
    {
     "name": "stdout",
     "output_type": "stream",
     "text": [
      "float division by zero\n"
     ]
    },
    {
     "data": {
      "text/plain": [
       "[(1.0, False), (1.0, False), (1.0, False), (1.0, False), (1.0, False)]"
      ]
     },
     "execution_count": 36,
     "metadata": {},
     "output_type": "execute_result"
    }
   ],
   "source": [
    "is_it_fair_1()\n",
    "#Even if there are some crazy chances, that  {'H': 20, 'T' : 0} seems like a loaded coin\n",
    "#If you know there is no probability of a loaded coin, then still this isn't evidence of a loaded coin\n",
    "#Oops causes an error:"
   ]
  },
  {
   "cell_type": "code",
   "execution_count": 37,
   "metadata": {
    "collapsed": false
   },
   "outputs": [
    {
     "data": {
      "text/plain": [
       "Event(\"{'H': 4, 'T': 0}\")"
      ]
     },
     "execution_count": 37,
     "metadata": {},
     "output_type": "execute_result"
    }
   ],
   "source": [
    "Event({'H': 4, 'T' : 0})"
   ]
  },
  {
   "cell_type": "code",
   "execution_count": 38,
   "metadata": {
    "collapsed": false
   },
   "outputs": [
    {
     "name": "stdout",
     "output_type": "stream",
     "text": [
      "Help on class map in module builtins:\n",
      "\n",
      "class map(object)\n",
      " |  map(func, *iterables) --> map object\n",
      " |  \n",
      " |  Make an iterator that computes the function using arguments from\n",
      " |  each of the iterables.  Stops when the shortest iterable is exhausted.\n",
      " |  \n",
      " |  Methods defined here:\n",
      " |  \n",
      " |  __getattribute__(self, name, /)\n",
      " |      Return getattr(self, name).\n",
      " |  \n",
      " |  __iter__(self, /)\n",
      " |      Implement iter(self).\n",
      " |  \n",
      " |  __new__(*args, **kwargs) from builtins.type\n",
      " |      Create and return a new object.  See help(type) for accurate signature.\n",
      " |  \n",
      " |  __next__(self, /)\n",
      " |      Implement next(self).\n",
      " |  \n",
      " |  __reduce__(...)\n",
      " |      Return state information for pickling.\n",
      "\n"
     ]
    }
   ],
   "source": [
    "help(map)"
   ]
  },
  {
   "cell_type": "code",
   "execution_count": 39,
   "metadata": {
    "collapsed": true
   },
   "outputs": [],
   "source": [
    "#FlipPredictor\n",
    "#A coin is drawn at random from a bag of coins of varying probabilities\n",
    "#Each coin has the same chance of being drawn\n",
    "#Your class FlipPredictor will be initialized with a list of the probability of \n",
    "#heads for each coin. This list of probabilities can be accessed as self.coins \n",
    "#in the functions you must write. The function update will be called after every \n",
    "#flip to enable you to update your estimate of the probability of each coin being \n",
    "#the selected coin. The function pheads may be called and any time and will \n",
    "#return your best estimate of the next flip landing on heads.\n",
    "\n",
    "\n",
    "from __future__ import division\n",
    "class FlipPredictor(object):\n",
    "    \"\"\"The bayes link challenge represented here, is that the bottom layer of conditional P(coin 1 | heads),\n",
    "    *becomes* the new probability of a new Bayes link: P(1)\n",
    "    \n",
    "    Both my answer and accepted answer to the above \"shifting\"\n",
    "    \n",
    "    The difference between my answer and accepted answer is that\n",
    "    The accepted answer only looks at the next flip, one event, heads\n",
    "    whereas my answer was trying to keep track of  the cumulative likelihood of each flip\n",
    "    \n",
    "    So an event stream HHT looks like\n",
    "    Accepted answer    My Answer\n",
    "    H                  H\n",
    "    H                  HH\n",
    "    T                  HHT\n",
    "    \"\"\"\n",
    "    def __init__(self,coins):\n",
    "        self.coins=coins\n",
    "        n=len(coins)\n",
    "        self.probs=[1/n]*n\n",
    "        self.flips = ''\n",
    "        self.flip_probs = pd.Series(np.ones(n))\n",
    "\n",
    "        self.P = Probability()\n",
    "        \n",
    "    def coin_given_flips(self, coin_index):\n",
    "        \"\"\"After I peeked at the answer Im not sure this is what they meant\"\"\"\n",
    "        this_coin = Event('coin {}'.format(coin_index))\n",
    "        #This never changes because self.coins never changes, but I need it somewhere\n",
    "        #Actually don't need it \n",
    "        #heads = Event('heads')\n",
    "        #self.P[heads | this_coin] = self.coins[coin_index]\n",
    "        #self.flips is being updated with each new flip\n",
    "        these_flips = Event(self.flips)\n",
    "        self.P[these_flips | this_coin] = self.flip_probs[coin_index]\n",
    "        #Then add the other two? thats the only other probability?\n",
    "        #Using modulo to \"wrap around\"\n",
    "        self.P[these_flips | ~this_coin] = self.flip_probs[(coin_index+1)%3] + self.flip_probs[(coin_index+2)%3]\n",
    "        self.P[this_coin] = self.probs[coin_index]\n",
    "\n",
    "        return self.P[this_coin | self.flips]\n",
    "    \n",
    "    \n",
    "    def coin_probs(self):\n",
    "        return [self.coin_given_flips(_) for _ in range(0,3)]\n",
    "    \n",
    "    def pheads(self):\n",
    "        #Write a function that returns \n",
    "        #the probability of the next flip being heads \n",
    "        \n",
    "        return (pd.Series(self.coins) * pd.Series(self.probs)).sum()\n",
    "\n",
    "    def update(self,flip):\n",
    "        \"\"\"My function wont work, I thought one must consider the entire cumulative\n",
    "        history of the flips, but apparently they just let each new condition\n",
    "        adjust things incrementally\"\"\"\n",
    "        #Write a function the updates\n",
    "        #the probabilities of flipping each coin\n",
    "        self.flips += flip\n",
    "        #Acumulate flip_probs\n",
    "        self.flip_probs = self.flip_probs * (pd.Series(self.coins) if flip=='H' else (1-pd.Series(self.coins)))\n",
    "        #self.probs = list(map(lambda coin: coin if flip=='H' else (1-coin), self.coins))\n",
    "        return self.update_answer(flip)\n",
    "    \n",
    "    def update_answer(self,result):\n",
    "        \"\"\"Realizing the main assumption behind the accepted answer \n",
    "        is that you only need to consider one throw the current throw; \n",
    "        i.e. the top layer of bayes is always P(Heads) indirectly reflecting the accumulation based on prior results,\n",
    "        Whereas simplifying things\n",
    "        \"\"\"\n",
    "        pheads=self.pheads()\n",
    "        if result=='H':\n",
    "            #This update p_heads_given_coin*p_coin/pheads \n",
    "            #will produce p_heads_and_coin / pheads\n",
    "            # Which is p_coin given heads\n",
    "            self.probs=[p_heads_given_coin*p_coin/pheads for p_heads_given_coin,p_coin in zip(self.coins,self.probs)]\n",
    "        else:\n",
    "            self.probs=[(1-p_heads_given_coin)*p_coin/(1-pheads) for p_heads_given_coin,p_coin in zip(self.coins,self.probs)]\n",
    "            \n",
    "    def __str__(self):\n",
    "        return '{}:\\n{}\\n{}\\n{}'.format(self.flips, self.flip_probs, self.probs, self.pheads())"
   ]
  },
  {
   "cell_type": "code",
   "execution_count": 40,
   "metadata": {
    "collapsed": false
   },
   "outputs": [
    {
     "name": "stdout",
     "output_type": "stream",
     "text": [
      ":\n",
      "0    1.0\n",
      "1    1.0\n",
      "2    1.0\n",
      "dtype: float64\n",
      "[0.3333333333333333, 0.3333333333333333, 0.3333333333333333]\n",
      "0.39999999999999997\n",
      "H:\n",
      "0    0.5\n",
      "1    0.4\n",
      "2    0.3\n",
      "dtype: float64\n",
      "[0.4166666666666667, 0.33333333333333337, 0.25]\n",
      "0.4166666666666667\n",
      "HH:\n",
      "0    0.25\n",
      "1    0.16\n",
      "2    0.09\n",
      "dtype: float64\n",
      "[0.5, 0.32000000000000006, 0.18]\n",
      "0.432\n",
      "HHT:\n",
      "0    0.125\n",
      "1    0.096\n",
      "2    0.063\n",
      "dtype: float64\n",
      "[0.4401408450704225, 0.3380281690140845, 0.22183098591549294]\n",
      "0.42183098591549295\n",
      "HHTH:\n",
      "0    0.0625\n",
      "1    0.0384\n",
      "2    0.0189\n",
      "dtype: float64\n",
      "[0.5217028380634391, 0.320534223706177, 0.15776293823038395]\n",
      "0.43639398998330553\n",
      "[0.5433240513301267, 0.20509796176111414, 0.049684680800162445]\n"
     ]
    }
   ],
   "source": [
    "#You may add additional test cases or otherwise modify if desired\n",
    "def nate_test(coins,flips):        \n",
    "    f=FlipPredictor(coins)\n",
    "    guesses=[]\n",
    "    print(f)\n",
    "    for flip in flips:\n",
    "        f.update(flip)\n",
    "        guesses.append(f.pheads())\n",
    "        print(f)\n",
    "    print(f.coin_probs())\n",
    "nate_test([0.5,0.4,0.3],'HHTH')"
   ]
  },
  {
   "cell_type": "code",
   "execution_count": 41,
   "metadata": {
    "collapsed": false
   },
   "outputs": [
    {
     "name": "stdout",
     "output_type": "stream",
     "text": [
      "Correct\n",
      "Correct\n",
      "Correct\n",
      "Correct\n",
      "Correct\n"
     ]
    }
   ],
   "source": [
    "\n",
    "\n",
    "#The code below this line tests your implementation. \n",
    "#You need not change it\n",
    "#You may add additional test cases or otherwise modify if desired\n",
    "def test(coins,flips):        \n",
    "    f=FlipPredictor(coins)\n",
    "    guesses=[]\n",
    "    for flip in flips:\n",
    "        f.update(flip)\n",
    "        guesses.append(f.pheads())\n",
    "    return guesses   \n",
    "        \n",
    "def maxdiff(l1,l2):\n",
    "    return max([abs(x-y) for x,y in zip(l1,l2)])\n",
    "\n",
    "testcases=[\n",
    "(([0.5,0.4,0.3],'HHTH'),[0.4166666666666667, 0.432, 0.42183098591549295, 0.43639398998330553]),\n",
    "(([0.14,0.32,0.42,0.81,0.21],'HHHTTTHHH'),[0.5255789473684211, 0.6512136991788505, 0.7295055220497553, 0.6187139453483192, 0.4823974597714815, 0.3895729901052968, 0.46081730193074644, 0.5444108434105802, 0.6297110187222278]),\n",
    "(([0.14,0.32,0.42,0.81,0.21],'TTTHHHHHH'),[0.2907741935483871, 0.25157009005730924, 0.23136284577678012, 0.2766575695593804, 0.3296000585271367, 0.38957299010529806, 0.4608173019307465, 0.5444108434105804, 0.6297110187222278]),\n",
    "(([0.12,0.45,0.23,0.99,0.35,0.36],'THHTHTTH'),[0.28514285714285714, 0.3378256513026052, 0.380956725493104, 0.3518717367468537, 0.37500429586037076, 0.36528605387582497, 0.3555106542906013, 0.37479179323540324]),\n",
    "(([0.03,0.32,0.59,0.53,0.55,0.42,0.65],'HHTHTTHTHHT'),[0.528705501618123, 0.5522060353798126, 0.5337142767315369, 0.5521920592821695, 0.5348391689038525, 0.5152373451083692, 0.535385450497415, 0.5168208803156963, 0.5357708613431963, 0.5510509656933194, 0.536055356823069])]\n",
    "\n",
    "for inputs,output in testcases:\n",
    "    if maxdiff(test(*inputs),output)<0.001:\n",
    "        print('Correct')\n",
    "    else: \n",
    "        print('Incorrect')"
   ]
  },
  {
   "cell_type": "code",
   "execution_count": 42,
   "metadata": {
    "collapsed": false
   },
   "outputs": [
    {
     "data": {
      "text/plain": [
       "0    0\n",
       "1    1\n",
       "2    4\n",
       "3    9\n",
       "dtype: int32"
      ]
     },
     "execution_count": 42,
     "metadata": {},
     "output_type": "execute_result"
    }
   ],
   "source": [
    "pd.Series(range(4)) * pd.Series(range(4))"
   ]
  },
  {
   "cell_type": "code",
   "execution_count": 43,
   "metadata": {
    "collapsed": false
   },
   "outputs": [
    {
     "data": {
      "text/plain": [
       "[(0, 1, 2),\n",
       " (1, 2, 0),\n",
       " (2, 0, 1),\n",
       " (0, 1, 2),\n",
       " (1, 2, 0),\n",
       " (2, 0, 1),\n",
       " (0, 1, 2),\n",
       " (1, 2, 0),\n",
       " (2, 0, 1),\n",
       " (0, 1, 2),\n",
       " (1, 2, 0),\n",
       " (2, 0, 1),\n",
       " (0, 1, 2),\n",
       " (1, 2, 0),\n",
       " (2, 0, 1),\n",
       " (0, 1, 2),\n",
       " (1, 2, 0),\n",
       " (2, 0, 1),\n",
       " (0, 1, 2),\n",
       " (1, 2, 0)]"
      ]
     },
     "execution_count": 43,
     "metadata": {},
     "output_type": "execute_result"
    }
   ],
   "source": [
    "#Yes I thiiink this would work?\n",
    "list(map(lambda _: (_%3, (_+1)%3, (_+2)%3), range(0,20)))"
   ]
  }
 ],
 "metadata": {
  "kernelspec": {
   "display_name": "Python 3",
   "language": "python",
   "name": "python3"
  },
  "language_info": {
   "codemirror_mode": {
    "name": "ipython",
    "version": 3
   },
   "file_extension": ".py",
   "mimetype": "text/x-python",
   "name": "python",
   "nbconvert_exporter": "python",
   "pygments_lexer": "ipython3",
   "version": "3.6.0"
  }
 },
 "nbformat": 4,
 "nbformat_minor": 2
}
