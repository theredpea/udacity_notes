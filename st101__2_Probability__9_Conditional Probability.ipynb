{
 "cells": [
  {
   "cell_type": "markdown",
   "metadata": {},
   "source": [
    "# In real life; things depend on other things"
   ]
  },
  {
   "cell_type": "markdown",
   "metadata": {},
   "source": [
    "Probability Smart / Dumb is 0.5 / 0.5"
   ]
  },
  {
   "cell_type": "markdown",
   "metadata": {},
   "source": [
    " - P_S = Professor at Stanford\n",
    " - P(P_S) = 0.001\n",
    " - P(P_S | S) = 0.002\n",
    " - P(P_S | D) = 0.000"
   ]
  },
  {
   "cell_type": "code",
   "execution_count": 1,
   "metadata": {
    "collapsed": false
   },
   "outputs": [],
   "source": [
    "import pandas as pd\n",
    "import numpy as np\n",
    "import matplotlib.pyplot as plt\n",
    "import itertools\n",
    "%matplotlib inline\n",
    "\n",
    "def p_(h=None, t=None): \n",
    "    #if h is not None:\n",
    "    #    return 1-h\n",
    "    #elif t is not None:\n",
    "    #    return 1-t\n",
    "    #else:\n",
    "    #    return 1\n",
    "    \n",
    "    return 1-(h or t or 0)\n",
    "\n",
    "#Returns 1 by default; the totality\n",
    "assert p_()==1\n",
    "#Other standard probabilities\n",
    "assert p_(h=1)==0\n",
    "assert p_(h=0.5)==0.5\n",
    "assert p_(t=0.2)==0.8\n",
    "#Uses first nonzero arg\n",
    "assert p_(h=0,t=1)==0\n",
    "assert p_(h=0.2, t=0.5)==0.8\n",
    "\n"
   ]
  },
  {
   "cell_type": "code",
   "execution_count": 2,
   "metadata": {
    "collapsed": false
   },
   "outputs": [],
   "source": [
    "def cancer_example_1(p_c=0.1):\n",
    "    \"\"\"\n",
    "    :returns: P(¬C) if P(C) is 0.1\n",
    "    Solution: https://www.udacity.com/course/viewer#!/c-st101/l-48729372/e-48729371/m-48673740\n",
    "    \"\"\"\n",
    "    return p_(p_c)"
   ]
  },
  {
   "cell_type": "code",
   "execution_count": 4,
   "metadata": {
    "collapsed": false
   },
   "outputs": [],
   "source": [
    "assert cancer_example_1()==0.9, 'If 10% have cancer; 90% do not have cancer'"
   ]
  },
  {
   "cell_type": "markdown",
   "metadata": {},
   "source": [
    "# Conditional Probability\n",
    "Probability A given that Z has happened\n",
    "## P(A|Z)\n",
    "## p_a_g_z\n",
    "If there are two events; A,B and X,Z , then \n",
    " - P(A|X) + P(A|Z) == P(A)\n",
    " - P(A|X) + P(B|X) == 1\n",
    " \n",
    "  > This is called conditional probability. What's the probability of the thing on the left, *given* the event on the right\n",
    "\n",
    "The test is *not* deterministic; it makes mistakes!"
   ]
  },
  {
   "cell_type": "code",
   "execution_count": 5,
   "metadata": {
    "collapsed": false
   },
   "outputs": [],
   "source": [
    "p_c=0.1\n",
    "p_n_c = cancer_example_1(p_c)\n",
    "p_p_g_c = 0.9\n",
    "p_n_g_c = 0.1"
   ]
  },
  {
   "cell_type": "code",
   "execution_count": 7,
   "metadata": {
    "collapsed": false
   },
   "outputs": [],
   "source": [
    "p_p_g_n_c = 0.2\n",
    "p_n_g_n_c = p_(p_p_g_n_c)\n",
    "\n",
    "def cancer_example_2(p_p_g_n_c=p_p_g_n_c):\n",
    "    \"\"\"\n",
    "    :returns: P(N|¬C) ; the specificity rate; true negatives\n",
    "    http://en.wikipedia.org/wiki/Sensitivity_and_specificity\n",
    "    Solution: https://www.udacity.com/course/viewer#!/c-st101/l-48729372/e-48723639/m-48691628\n",
    "    \"\"\"\n",
    "    p_n_g_n_c = p_(p_p_g_n_c)\n",
    "    return p_n_g_n_c"
   ]
  },
  {
   "cell_type": "code",
   "execution_count": 8,
   "metadata": {
    "collapsed": false
   },
   "outputs": [],
   "source": [
    "assert cancer_example_2()==0.8, 'P(Negative Given No Cancer) should be 0.8; (because P(Positive Given No Cancer) is 0.2)'"
   ]
  },
  {
   "cell_type": "code",
   "execution_count": 9,
   "metadata": {
    "collapsed": false
   },
   "outputs": [],
   "source": [
    "import functools\n",
    "def basic_prob_law_reduction(p_list):\n",
    "    \"\"\"\n",
    "    :returns: joint probability\n",
    "    of all events in a list happening\n",
    "    by applying 2nd law\n",
    "    http://stackoverflow.com/a/13840436/1175496\n",
    "    \"\"\"\n",
    "    assert all([_<=1 for _ in p_list]), 'Should be less than or equal to 1'\n",
    "    #assert sum(p_list)==1; they are different events, needn't sum to 1\n",
    "    return functools.reduce(operator.mul, p_list)\n"
   ]
  },
  {
   "cell_type": "code",
   "execution_count": 38,
   "metadata": {
    "collapsed": false
   },
   "outputs": [],
   "source": [
    "import operator\n",
    "def c_map_assertion(c_map):\n",
    "    \"\"\"\n",
    "    :params c_map: where Key is of form 'D|I' and \n",
    "    value is conditional probability\n",
    "    \"\"\"\n",
    "    #Be very careful not to mix up P(N|N) and P(N|C) , they don't sum to 1; they sum to P(N)\n",
    "    c_map_items = c_map.items()\n",
    "    print(c_map_items)\n",
    "    #Same independent event; the second part of the 'P|C'\n",
    "    sie = lambda s: s[0].split('|')[1]\n",
    "    \n",
    "    \n",
    "    groups = itertools.groupby(sorted(c_map_items, key=sie), sie)\n",
    "    print(list(itertools.groupby(sorted(c_map_items, key=sie), sie)))\n",
    "    assert all([sum([_[1] for _ in k])==1 for p,k in groups]), 'All the conditionals should sum to 1'\n",
    "    "
   ]
  },
  {
   "cell_type": "code",
   "execution_count": 58,
   "metadata": {
    "collapsed": false
   },
   "outputs": [
    {
     "name": "stdout",
     "output_type": "stream",
     "text": [
      "dict_items([('P|C', 0.9), ('N|N', 0.8), ('P|N', 0.19999999999999996), ('N|C', 0.09999999999999998)])\n",
      "[('C', <itertools._grouper object at 0x000001A06069BFD0>), ('N', <itertools._grouper object at 0x000001A06069B1D0>)]\n",
      "   c  t  p_c  c_e  c_p\n",
      "0  P  C  NaN  P|C  0.9\n",
      "1  P  N  NaN  P|N  0.2\n",
      "2  N  C  0.9  N|C  0.1\n",
      "3  N  N  0.9  N|N  0.8\n"
     ]
    },
    {
     "ename": "AssertionError",
     "evalue": "('Should be less than or equal to 1', 'occurred at index 0')",
     "output_type": "error",
     "traceback": [
      "\u001b[0;31m---------------------------------------------------------------------------\u001b[0m",
      "\u001b[0;31mAssertionError\u001b[0m                            Traceback (most recent call last)",
      "\u001b[0;32m<ipython-input-58-9ee5119eab46>\u001b[0m in \u001b[0;36m<module>\u001b[0;34m()\u001b[0m\n\u001b[1;32m     45\u001b[0m     \u001b[1;32mreturn\u001b[0m \u001b[0mt_t\u001b[0m\u001b[1;33m\u001b[0m\u001b[0m\n\u001b[1;32m     46\u001b[0m \u001b[1;33m\u001b[0m\u001b[0m\n\u001b[0;32m---> 47\u001b[0;31m \u001b[0mcancer_example_truth_table\u001b[0m\u001b[1;33m(\u001b[0m\u001b[1;33m)\u001b[0m\u001b[1;33m\u001b[0m\u001b[0m\n\u001b[0m",
      "\u001b[0;32m<ipython-input-58-9ee5119eab46>\u001b[0m in \u001b[0;36mcancer_example_truth_table\u001b[0;34m(p_c, p_p_g_c, p_n_g_n_c)\u001b[0m\n\u001b[1;32m     40\u001b[0m     \u001b[0mprint\u001b[0m\u001b[1;33m(\u001b[0m\u001b[0mt_t\u001b[0m\u001b[1;33m)\u001b[0m\u001b[1;33m\u001b[0m\u001b[0m\n\u001b[1;32m     41\u001b[0m     \u001b[1;31m#The joint probability\u001b[0m\u001b[1;33m\u001b[0m\u001b[1;33m\u001b[0m\u001b[0m\n\u001b[0;32m---> 42\u001b[0;31m     \u001b[0mt_t\u001b[0m\u001b[1;33m[\u001b[0m\u001b[1;34m'j_p'\u001b[0m\u001b[1;33m]\u001b[0m \u001b[1;33m=\u001b[0m \u001b[0mt_t\u001b[0m\u001b[1;33m[\u001b[0m\u001b[1;33m[\u001b[0m\u001b[1;34m'c_p'\u001b[0m\u001b[1;33m,\u001b[0m \u001b[1;34m'p_c'\u001b[0m\u001b[1;33m]\u001b[0m\u001b[1;33m]\u001b[0m\u001b[1;33m.\u001b[0m\u001b[0mapply\u001b[0m\u001b[1;33m(\u001b[0m\u001b[0mbasic_prob_law_reduction\u001b[0m\u001b[1;33m,\u001b[0m\u001b[0maxis\u001b[0m\u001b[1;33m=\u001b[0m\u001b[1;36m1\u001b[0m\u001b[1;33m)\u001b[0m\u001b[1;33m\u001b[0m\u001b[0m\n\u001b[0m\u001b[1;32m     43\u001b[0m \u001b[1;33m\u001b[0m\u001b[0m\n\u001b[1;32m     44\u001b[0m     \u001b[0mt_t\u001b[0m \u001b[1;33m=\u001b[0m \u001b[0mt_t\u001b[0m\u001b[1;33m.\u001b[0m\u001b[0msort_values\u001b[0m\u001b[1;33m(\u001b[0m\u001b[0mby\u001b[0m\u001b[1;33m=\u001b[0m\u001b[1;34m'p_c'\u001b[0m\u001b[1;33m)\u001b[0m\u001b[1;33m\u001b[0m\u001b[0m\n",
      "\u001b[0;32mC:\\Users\\nnd\\AppData\\Local\\Continuum\\Anaconda3\\lib\\site-packages\\pandas\\core\\frame.py\u001b[0m in \u001b[0;36mapply\u001b[0;34m(self, func, axis, broadcast, raw, reduce, args, **kwds)\u001b[0m\n\u001b[1;32m   4150\u001b[0m                     \u001b[1;32mif\u001b[0m \u001b[0mreduce\u001b[0m \u001b[1;32mis\u001b[0m \u001b[1;32mNone\u001b[0m\u001b[1;33m:\u001b[0m\u001b[1;33m\u001b[0m\u001b[0m\n\u001b[1;32m   4151\u001b[0m                         \u001b[0mreduce\u001b[0m \u001b[1;33m=\u001b[0m \u001b[1;32mTrue\u001b[0m\u001b[1;33m\u001b[0m\u001b[0m\n\u001b[0;32m-> 4152\u001b[0;31m                     \u001b[1;32mreturn\u001b[0m \u001b[0mself\u001b[0m\u001b[1;33m.\u001b[0m\u001b[0m_apply_standard\u001b[0m\u001b[1;33m(\u001b[0m\u001b[0mf\u001b[0m\u001b[1;33m,\u001b[0m \u001b[0maxis\u001b[0m\u001b[1;33m,\u001b[0m \u001b[0mreduce\u001b[0m\u001b[1;33m=\u001b[0m\u001b[0mreduce\u001b[0m\u001b[1;33m)\u001b[0m\u001b[1;33m\u001b[0m\u001b[0m\n\u001b[0m\u001b[1;32m   4153\u001b[0m             \u001b[1;32melse\u001b[0m\u001b[1;33m:\u001b[0m\u001b[1;33m\u001b[0m\u001b[0m\n\u001b[1;32m   4154\u001b[0m                 \u001b[1;32mreturn\u001b[0m \u001b[0mself\u001b[0m\u001b[1;33m.\u001b[0m\u001b[0m_apply_broadcast\u001b[0m\u001b[1;33m(\u001b[0m\u001b[0mf\u001b[0m\u001b[1;33m,\u001b[0m \u001b[0maxis\u001b[0m\u001b[1;33m)\u001b[0m\u001b[1;33m\u001b[0m\u001b[0m\n",
      "\u001b[0;32mC:\\Users\\nnd\\AppData\\Local\\Continuum\\Anaconda3\\lib\\site-packages\\pandas\\core\\frame.py\u001b[0m in \u001b[0;36m_apply_standard\u001b[0;34m(self, func, axis, ignore_failures, reduce)\u001b[0m\n\u001b[1;32m   4246\u001b[0m             \u001b[1;32mtry\u001b[0m\u001b[1;33m:\u001b[0m\u001b[1;33m\u001b[0m\u001b[0m\n\u001b[1;32m   4247\u001b[0m                 \u001b[1;32mfor\u001b[0m \u001b[0mi\u001b[0m\u001b[1;33m,\u001b[0m \u001b[0mv\u001b[0m \u001b[1;32min\u001b[0m \u001b[0menumerate\u001b[0m\u001b[1;33m(\u001b[0m\u001b[0mseries_gen\u001b[0m\u001b[1;33m)\u001b[0m\u001b[1;33m:\u001b[0m\u001b[1;33m\u001b[0m\u001b[0m\n\u001b[0;32m-> 4248\u001b[0;31m                     \u001b[0mresults\u001b[0m\u001b[1;33m[\u001b[0m\u001b[0mi\u001b[0m\u001b[1;33m]\u001b[0m \u001b[1;33m=\u001b[0m \u001b[0mfunc\u001b[0m\u001b[1;33m(\u001b[0m\u001b[0mv\u001b[0m\u001b[1;33m)\u001b[0m\u001b[1;33m\u001b[0m\u001b[0m\n\u001b[0m\u001b[1;32m   4249\u001b[0m                     \u001b[0mkeys\u001b[0m\u001b[1;33m.\u001b[0m\u001b[0mappend\u001b[0m\u001b[1;33m(\u001b[0m\u001b[0mv\u001b[0m\u001b[1;33m.\u001b[0m\u001b[0mname\u001b[0m\u001b[1;33m)\u001b[0m\u001b[1;33m\u001b[0m\u001b[0m\n\u001b[1;32m   4250\u001b[0m             \u001b[1;32mexcept\u001b[0m \u001b[0mException\u001b[0m \u001b[1;32mas\u001b[0m \u001b[0me\u001b[0m\u001b[1;33m:\u001b[0m\u001b[1;33m\u001b[0m\u001b[0m\n",
      "\u001b[0;32m<ipython-input-9-0d9cd6537941>\u001b[0m in \u001b[0;36mbasic_prob_law_reduction\u001b[0;34m(p_list)\u001b[0m\n\u001b[1;32m      7\u001b[0m     \u001b[0mhttp\u001b[0m\u001b[1;33m:\u001b[0m\u001b[1;33m//\u001b[0m\u001b[0mstackoverflow\u001b[0m\u001b[1;33m.\u001b[0m\u001b[0mcom\u001b[0m\u001b[1;33m/\u001b[0m\u001b[0ma\u001b[0m\u001b[1;33m/\u001b[0m\u001b[1;36m13840436\u001b[0m\u001b[1;33m/\u001b[0m\u001b[1;36m1175496\u001b[0m\u001b[1;33m\u001b[0m\u001b[0m\n\u001b[1;32m      8\u001b[0m     \"\"\"\n\u001b[0;32m----> 9\u001b[0;31m     \u001b[1;32massert\u001b[0m \u001b[0mall\u001b[0m\u001b[1;33m(\u001b[0m\u001b[1;33m[\u001b[0m\u001b[0m_\u001b[0m\u001b[1;33m<=\u001b[0m\u001b[1;36m1\u001b[0m \u001b[1;32mfor\u001b[0m \u001b[0m_\u001b[0m \u001b[1;32min\u001b[0m \u001b[0mp_list\u001b[0m\u001b[1;33m]\u001b[0m\u001b[1;33m)\u001b[0m\u001b[1;33m,\u001b[0m \u001b[1;34m'Should be less than or equal to 1'\u001b[0m\u001b[1;33m\u001b[0m\u001b[0m\n\u001b[0m\u001b[1;32m     10\u001b[0m     \u001b[1;31m#assert sum(p_list)==1; they are different events, needn't sum to 1\u001b[0m\u001b[1;33m\u001b[0m\u001b[1;33m\u001b[0m\u001b[0m\n\u001b[1;32m     11\u001b[0m     \u001b[1;32mreturn\u001b[0m \u001b[0mfunctools\u001b[0m\u001b[1;33m.\u001b[0m\u001b[0mreduce\u001b[0m\u001b[1;33m(\u001b[0m\u001b[0moperator\u001b[0m\u001b[1;33m.\u001b[0m\u001b[0mmul\u001b[0m\u001b[1;33m,\u001b[0m \u001b[0mp_list\u001b[0m\u001b[1;33m)\u001b[0m\u001b[1;33m\u001b[0m\u001b[0m\n",
      "\u001b[0;31mAssertionError\u001b[0m: ('Should be less than or equal to 1', 'occurred at index 0')"
     ]
    }
   ],
   "source": [
    "\n",
    "    \n",
    "def cancer_example_truth_table(p_c=0.1, p_p_g_c=0.9, p_n_g_n_c=0.8):\n",
    "    \"\"\"\n",
    "    :params p_c: P(C)\n",
    "    :params p_p_g_c: P(P|C), sensitivity\n",
    "    :params p_n_g_n_c: P(N|¬C), specificity\n",
    "    :returns: truth table of sequential events\n",
    "    that depend / influence each other (conditional probability)\n",
    "    \"\"\"\n",
    "    #Scenarios / Binaries\n",
    "    b_c = ('C','N')\n",
    "    b_t = ('P','N')\n",
    "    \n",
    "    #Conditional map\n",
    "    c_map = {'P|C':p_p_g_c,\n",
    "         'N|N':p_n_g_n_c,\n",
    "         'P|N':p_(p_n_g_n_c),\n",
    "         'N|C':p_(p_p_g_c) }\n",
    "    \n",
    "    c_map_assertion(c_map)\n",
    "    \n",
    "    #Test on the left side; given Cancer , on the right sight T|C\n",
    "    cols = 'c|t'.split('|') #('t','c')\n",
    "    \n",
    "    #Start the truth table; \"C\" column is whether there is cancer \"T\" if test\n",
    "    t_t =  pd.DataFrame(list(itertools.product(b_t, b_c)), columns=cols)\n",
    "    \n",
    "    \n",
    "    #The probability of cancer \n",
    "    t_t['p_c'] = t_t['c'].map({'C':p_c , 'N':p_(p_c)})\n",
    "    \n",
    "    #Map them using the conditional probabilities; need 4 values in map (not just 2)\n",
    "    t_t['c_e'] = t_t[['c','t']].apply('|'.join, axis=1)\n",
    "    \n",
    "    t_t['c_p'] = t_t['c_e'].map(c_map)\n",
    "#     print(t_t['c_e'])\n",
    "#     print(t_t['c_p'])\n",
    "#     print(t_t['c_p'])\n",
    "    print(t_t)\n",
    "    #The joint probability\n",
    "    t_t['j_p'] = t_t[['c_p', 'p_c']].apply(basic_prob_law_reduction,axis=1)\n",
    "    \n",
    "    t_t = t_t.sort_values(by='p_c')\n",
    "    return t_t\n",
    "    \n",
    "cancer_example_truth_table()"
   ]
  },
  {
   "cell_type": "code",
   "execution_count": 55,
   "metadata": {
    "collapsed": false
   },
   "outputs": [
    {
     "data": {
      "text/plain": [
       "['t', 'c']"
      ]
     },
     "execution_count": 55,
     "metadata": {},
     "output_type": "execute_result"
    }
   ],
   "source": [
    "'c|t'.split('|')[::-1]"
   ]
  },
  {
   "cell_type": "code",
   "execution_count": 47,
   "metadata": {
    "collapsed": false
   },
   "outputs": [
    {
     "data": {
      "text/plain": [
       "[2, 1]"
      ]
     },
     "execution_count": 47,
     "metadata": {},
     "output_type": "execute_result"
    }
   ],
   "source": [
    "list(reversed((1,2)))"
   ]
  },
  {
   "cell_type": "code",
   "execution_count": 22,
   "metadata": {
    "collapsed": false
   },
   "outputs": [
    {
     "data": {
      "text/html": [
       "<div>\n",
       "<table border=\"1\" class=\"dataframe\">\n",
       "  <thead>\n",
       "    <tr style=\"text-align: right;\">\n",
       "      <th></th>\n",
       "      <th>t</th>\n",
       "      <th>c</th>\n",
       "      <th>c_e</th>\n",
       "      <th>p_c</th>\n",
       "      <th>c_p</th>\n",
       "      <th>j_p</th>\n",
       "    </tr>\n",
       "  </thead>\n",
       "  <tbody>\n",
       "    <tr>\n",
       "      <th>0</th>\n",
       "      <td>P</td>\n",
       "      <td>C</td>\n",
       "      <td>P|C</td>\n",
       "      <td>0.1</td>\n",
       "      <td>0.9</td>\n",
       "      <td>0.09</td>\n",
       "    </tr>\n",
       "    <tr>\n",
       "      <th>2</th>\n",
       "      <td>N</td>\n",
       "      <td>C</td>\n",
       "      <td>N|C</td>\n",
       "      <td>0.1</td>\n",
       "      <td>0.1</td>\n",
       "      <td>0.01</td>\n",
       "    </tr>\n",
       "    <tr>\n",
       "      <th>1</th>\n",
       "      <td>P</td>\n",
       "      <td>N</td>\n",
       "      <td>P|N</td>\n",
       "      <td>0.9</td>\n",
       "      <td>0.2</td>\n",
       "      <td>0.18</td>\n",
       "    </tr>\n",
       "    <tr>\n",
       "      <th>3</th>\n",
       "      <td>N</td>\n",
       "      <td>N</td>\n",
       "      <td>N|N</td>\n",
       "      <td>0.9</td>\n",
       "      <td>0.8</td>\n",
       "      <td>0.72</td>\n",
       "    </tr>\n",
       "  </tbody>\n",
       "</table>\n",
       "</div>"
      ],
      "text/plain": [
       "   t  c  c_e  p_c  c_p   j_p\n",
       "0  P  C  P|C  0.1  0.9  0.09\n",
       "2  N  C  N|C  0.1  0.1  0.01\n",
       "1  P  N  P|N  0.9  0.2  0.18\n",
       "3  N  N  N|N  0.9  0.8  0.72"
      ]
     },
     "execution_count": 22,
     "metadata": {},
     "output_type": "execute_result"
    }
   ],
   "source": [
    "cancer_example_truth_table()"
   ]
  },
  {
   "cell_type": "code",
   "execution_count": 107,
   "metadata": {
    "collapsed": false
   },
   "outputs": [],
   "source": [
    "def cancer_example_3(p_c=0.1, p_p_g_c=0.9, p_n_g_n_c=0.8):\n",
    "    \"\"\"\n",
    "    :returns: P(P,C)\n",
    "    Solution: \n",
    "    https://www.udacity.com/course/viewer#!/c-st101/l-48729372/e-48678914/m-48739237\n",
    "    \"\"\"\n",
    "    #t_t = cancer_example_truth_table()\n",
    "    #t_t['c_p'] = ((t_t['c']=='C') * p_c) * ((t_t['t']=='P') * p_p_g_c)\n",
    "    #return t_t.ix[0]['c_p']\n",
    "    return p_c * p_p_g_c"
   ]
  },
  {
   "cell_type": "code",
   "execution_count": 108,
   "metadata": {
    "collapsed": false
   },
   "outputs": [],
   "source": [
    "assert np.isclose(cancer_example_3(), 0.09), 'P(C) is 0.1; P(P|C) is 0.9. P(P,C) is 0.09'"
   ]
  },
  {
   "cell_type": "code",
   "execution_count": 109,
   "metadata": {
    "collapsed": false
   },
   "outputs": [],
   "source": [
    "def cancer_example_4(p_c=0.1, p_p_g_c=0.9, p_n_g_n_c=0.8):\n",
    "    \"\"\"\n",
    "    :returns: P(N,C)\n",
    "    Solution:\n",
    "    https://www.udacity.com/course/viewer#!/c-st101/l-48729372/e-48697751/m-48632850\n",
    "    \"\"\"\n",
    "    p_n_g_c = p_(p_p_g_c)\n",
    "    return p_c * p_n_g_c"
   ]
  },
  {
   "cell_type": "code",
   "execution_count": 110,
   "metadata": {
    "collapsed": false
   },
   "outputs": [],
   "source": [
    "assert np.isclose(cancer_example_4(), 0.01), 'P(C) is 0.1; P(P|C) is 0.9, so P(N|C) is 0.1; P(N,C) is 0.01'"
   ]
  },
  {
   "cell_type": "code",
   "execution_count": 111,
   "metadata": {
    "collapsed": false
   },
   "outputs": [],
   "source": [
    "def cancer_example_5(p_c=0.1, p_p_g_c=0.9, p_n_g_n_c=0.8):\n",
    "    \"\"\"\n",
    "    :returns: P(P,N)\n",
    "    Solution: https://www.udacity.com/course/viewer#!/c-st101/l-48729372/e-48692826/m-48641640\n",
    "    \"\"\"\n",
    "    p_n_c = p_(p_c)\n",
    "    p_p_g_n_c = p_(p_n_g_n_c)\n",
    "    return p_n_c * p_p_g_n_c\n"
   ]
  },
  {
   "cell_type": "code",
   "execution_count": 112,
   "metadata": {
    "collapsed": false
   },
   "outputs": [],
   "source": [
    "assert np.isclose(cancer_example_5(), 0.18), 'P(C) is 0.1, so P(N) is 0.9. P(N|N) is 0.8, so P(P|N) is 0.2. P(P,N) =0.9 * 0.2' "
   ]
  },
  {
   "cell_type": "code",
   "execution_count": 113,
   "metadata": {
    "collapsed": false
   },
   "outputs": [],
   "source": [
    "def cancer_example_6(p_c=0.1, p_p_g_c=0.9, p_n_g_n_c=0.8):\n",
    "    \"\"\" \n",
    "    :returns: P(N,N)\n",
    "    Solution:\n",
    "    https://www.udacity.com/course/viewer#!/c-st101/l-48729372/e-48698740/m-48730183\n",
    "    \"\"\"\n",
    "    p_n_c = p_(p_c)\n",
    "    return p_n_c * p_n_g_n_c"
   ]
  },
  {
   "cell_type": "code",
   "execution_count": 114,
   "metadata": {
    "collapsed": false
   },
   "outputs": [],
   "source": [
    "assert np.isclose(cancer_example_6(), 0.72), 'P(C) is 0.1 so P(N) is 0.9; P(N|N) is 0.8; so P(N,N) is 0.72'"
   ]
  },
  {
   "cell_type": "code",
   "execution_count": 115,
   "metadata": {
    "collapsed": false
   },
   "outputs": [],
   "source": [
    "def cancer_example_7(p_c=0.1, p_p_g_c=0.9, p_n_g_n_c=0.8):\n",
    "    \"\"\" \n",
    "    :returns: Sum of all joint probabilities, should be 1\n",
    "    Solution:\n",
    "    https://www.udacity.com/course/viewer#!/c-st101/l-48729372/e-48721494/m-48712380\n",
    "    \"\"\"\n",
    "    return sum((cancer_example_3(p_c, p_p_g_c, p_n_g_n_c),\n",
    "                cancer_example_4(p_c, p_p_g_c, p_n_g_n_c),\n",
    "                cancer_example_5(p_c, p_p_g_c, p_n_g_n_c),\n",
    "                cancer_example_6(p_c, p_p_g_c, p_n_g_n_c)))"
   ]
  },
  {
   "cell_type": "code",
   "execution_count": 116,
   "metadata": {
    "collapsed": false
   },
   "outputs": [],
   "source": [
    "assert cancer_example_7() ==1 , 'Sum of all probabilities should be 1'"
   ]
  },
  {
   "cell_type": "code",
   "execution_count": 128,
   "metadata": {
    "collapsed": false
   },
   "outputs": [],
   "source": [
    "def cancer_example_8():\n",
    "    \"\"\"\n",
    "    :returns: P(P)\n",
    "    Sum of P(P,N) + P(P,C)\n",
    "    Solution:\n",
    "    https://www.udacity.com/course/viewer#!/c-st101/l-48729372/e-48698741/m-48739233\n",
    "    \"\"\"\n",
    "    return cancer_example_5() + cancer_example_3()"
   ]
  },
  {
   "cell_type": "code",
   "execution_count": 129,
   "metadata": {
    "collapsed": false
   },
   "outputs": [],
   "source": [
    "assert np.isclose(cancer_example_8(), 0.27), 'Sum of P(P,N) and P(P,C) is P(P); '"
   ]
  },
  {
   "cell_type": "code",
   "execution_count": 132,
   "metadata": {
    "collapsed": false
   },
   "outputs": [],
   "source": [
    "def cancer_example_8():\n",
    "    \"\"\"\n",
    "    :returns:P(P) using the truth table approach\n",
    "    \"\"\"\n",
    "    test_positive = cancer_example_truth_table()['t']=='P'\n",
    "    return cancer_example_truth_table()[test_positive]['j_p'].sum()\n"
   ]
  },
  {
   "cell_type": "code",
   "execution_count": 133,
   "metadata": {
    "collapsed": false
   },
   "outputs": [],
   "source": [
    "assert np.isclose(cancer_example_8(), 0.27), 'Sum of P(P,N) and P(P,C) is P(P); '"
   ]
  },
  {
   "cell_type": "code",
   "execution_count": 161,
   "metadata": {
    "collapsed": false
   },
   "outputs": [],
   "source": [
    "def two_coins_1(p_h1=0.5, p_h2 = 0.9):\n",
    "    \"\"\"\n",
    "    :returns: P(T) for two coins\n",
    "    First of which P(H) = 0.5\n",
    "    Second of which P(H) = 0.9\n",
    "    Solution: \n",
    "    https://www.udacity.com/course/viewer#!/c-st101/l-48729372/e-48723640/m-48652466\n",
    "    \"\"\"\n",
    "    return p_(p_h1), p_(p_h2)\n",
    "    "
   ]
  },
  {
   "cell_type": "code",
   "execution_count": 162,
   "metadata": {
    "collapsed": false
   },
   "outputs": [],
   "source": [
    "assert np.allclose(two_coins_1(), (0.5,0.1)), 'P(T) would be 0.5 then 0.1'"
   ]
  },
  {
   "cell_type": "code",
   "execution_count": 164,
   "metadata": {
    "collapsed": false
   },
   "outputs": [],
   "source": [
    "def two_coins_2(p_h1=0.5, p_h2 = 0.9, p_p1 = 0.5):\n",
    "    \"\"\"\n",
    "    :returns: P(H) for randomly picking (equal chance) of two coins,\n",
    "    One P(H) = 0.5\n",
    "    The other P(H) = 0.9\n",
    "    \"\"\"\n",
    "    p_p2 = p_(p_p1)\n",
    "    p_h_g_1 = p_p1 * p_h1\n",
    "    p_h_g_2 = p_p2 * p_h2\n",
    "    return p_h_g_1 + p_h_g_2"
   ]
  },
  {
   "cell_type": "code",
   "execution_count": 166,
   "metadata": {
    "collapsed": false
   },
   "outputs": [],
   "source": [
    "assert np.isclose(two_coins_2(), 0.7), 'Total P(H) is 0.5 * 0.5 + 0.5 * 0.9' "
   ]
  },
  {
   "cell_type": "code",
   "execution_count": 189,
   "metadata": {
    "collapsed": false
   },
   "outputs": [],
   "source": [
    "def two_coins_truth_table(p_h1=0.5, p_h2 = 0.9, p_p1 = 0.5):\n",
    "    \"\"\"\n",
    "    :returns:\n",
    "    Two coins truth table\n",
    "    \"\"\"\n",
    "    b_c = (1,2)\n",
    "    b_h = ('h','t')\n",
    "    \n",
    "    c_map = {'h|1':p_h1,\n",
    "             't|1':p_(p_h1),\n",
    "             'h|2':p_h2,\n",
    "             't|2':p_(p_h2)}\n",
    "    \n",
    "    c_map_assertion(c_map)\n",
    "    \n",
    "    t_t = pd.DataFrame(list(itertools.product(b_h, b_c)), columns=('f', 'c'))\n",
    "\n",
    "    t_t['c_p'] = (t_t['f'].str.cat(t_t['c'].apply(str), '|')).map(c_map)\n",
    "    t_t['p_c'] = (t_t['c'].map({1:p_p1, 2:p_(p_p1)}))\n",
    "    t_t['j_p'] = t_t[['c_p', 'p_c']].apply(basic_prob_law_reduction, axis=1)\n",
    "    return t_t \n",
    "    "
   ]
  },
  {
   "cell_type": "code",
   "execution_count": 194,
   "metadata": {
    "collapsed": false
   },
   "outputs": [
    {
     "data": {
      "text/html": [
       "<div style=\"max-height:1000px;max-width:1500px;overflow:auto;\">\n",
       "<table border=\"1\" class=\"dataframe\">\n",
       "  <thead>\n",
       "    <tr style=\"text-align: right;\">\n",
       "      <th></th>\n",
       "      <th>f</th>\n",
       "      <th>c</th>\n",
       "      <th>c_p</th>\n",
       "      <th>p_c</th>\n",
       "      <th>j_p</th>\n",
       "    </tr>\n",
       "  </thead>\n",
       "  <tbody>\n",
       "    <tr>\n",
       "      <th>0</th>\n",
       "      <td> h</td>\n",
       "      <td> 1</td>\n",
       "      <td> 0.5</td>\n",
       "      <td> 0.5</td>\n",
       "      <td> 0.25</td>\n",
       "    </tr>\n",
       "    <tr>\n",
       "      <th>1</th>\n",
       "      <td> h</td>\n",
       "      <td> 2</td>\n",
       "      <td> 0.9</td>\n",
       "      <td> 0.5</td>\n",
       "      <td> 0.45</td>\n",
       "    </tr>\n",
       "    <tr>\n",
       "      <th>2</th>\n",
       "      <td> t</td>\n",
       "      <td> 1</td>\n",
       "      <td> 0.5</td>\n",
       "      <td> 0.5</td>\n",
       "      <td> 0.25</td>\n",
       "    </tr>\n",
       "    <tr>\n",
       "      <th>3</th>\n",
       "      <td> t</td>\n",
       "      <td> 2</td>\n",
       "      <td> 0.1</td>\n",
       "      <td> 0.5</td>\n",
       "      <td> 0.05</td>\n",
       "    </tr>\n",
       "  </tbody>\n",
       "</table>\n",
       "</div>"
      ],
      "text/plain": [
       "   f  c  c_p  p_c   j_p\n",
       "0  h  1  0.5  0.5  0.25\n",
       "1  h  2  0.9  0.5  0.45\n",
       "2  t  1  0.5  0.5  0.25\n",
       "3  t  2  0.1  0.5  0.05"
      ]
     },
     "execution_count": 194,
     "metadata": {},
     "output_type": "execute_result"
    }
   ],
   "source": [
    "two_coins_truth_table()\n"
   ]
  },
  {
   "cell_type": "code",
   "execution_count": 229,
   "metadata": {
    "collapsed": false
   },
   "outputs": [
    {
     "data": {
      "text/plain": [
       "0.7"
      ]
     },
     "execution_count": 229,
     "metadata": {},
     "output_type": "execute_result"
    }
   ],
   "source": [
    "\n",
    "two_coins_truth_table()[two_coins_truth_table()['f']=='h'].sum()['j_p']"
   ]
  },
  {
   "cell_type": "code",
   "execution_count": 344,
   "metadata": {
    "collapsed": false
   },
   "outputs": [],
   "source": [
    "def two_coins_3(p_h1=0.5, p_h2 = 0.9, p_p1 = 0.5):\n",
    "    \"\"\"\n",
    "    :returns: P(H,T) regardless of which coin\n",
    "    Only works because the original truth table doesn't enumerate all possibilities\n",
    "    Just H,T and H,T, which are here multiplied together with prod()\n",
    "    Solution: https://www.udacity.com/course/viewer#!/c-st101/l-48729372/e-48695799/m-48730182\n",
    "    \"\"\"\n",
    "    #Above is wrong, it applied the 0.5 of which coin-pick to both results separately;\n",
    "    #The coin isn't picked twice\n",
    "    #It only needs to be applied to the joint result; \n",
    "    #The coin is picked once\n",
    "    \n",
    "    #ht_c1 = basic_prob_law_reduction(t_t[t_t['c']==1]['j_p'])\n",
    "    #ht_c2 = basic_prob_law_reduction(t_t[t_t['c']==2]['j_p'])\n",
    "  \n",
    "    #print(ht_c1, ht_c2)\n",
    "    #return ht_c1 + ht_c2 #basic_prob_law_reduction(t_t[t_t['c']==1]['j_p'])\n",
    "    \n",
    "    t_t =  two_coins_truth_table(p_h1, p_h2, p_p1)\n",
    "    ht_g_c = t_t.groupby('c').prod()['c_p']\n",
    "    p_ht = (0.5*ht_g_c).sum() \n",
    "    return p_ht"
   ]
  },
  {
   "cell_type": "code",
   "execution_count": 326,
   "metadata": {
    "collapsed": false
   },
   "outputs": [],
   "source": [
    "assert np.isclose(two_coins_3(), 0.17), '0.17 is the sum of 0.5(0.25 + 0.09)'"
   ]
  },
  {
   "cell_type": "code",
   "execution_count": 348,
   "metadata": {
    "collapsed": false
   },
   "outputs": [],
   "source": [
    "#Better to make another truth table\n",
    "def two_coins_3(p_h1=0.5, p_h2 = 0.9, p_p1 = 0.5, f_1='h', f_2='t'):\n",
    "    \"\"\"\n",
    "    :returns: P(H,T) regardless of which coin\n",
    "    \"\"\"\n",
    "    coins = (1, 2)\n",
    "    flip = ('h','t')\n",
    "    c_map_dict_style = {1:{'h':p_h1,\n",
    "                           't':p_(p_h1)},\n",
    "                        2:{'h':p_h2,\n",
    "                           't':p_(p_h2)}}\n",
    "    red = lambda x,y: x.get(y)\n",
    "    app = lambda x: functools.reduce(red, list(x), c_map_dict_style)\n",
    "    t_t = pd.DataFrame(list(itertools.product(coins, flip, flip)), columns=('c','f1','f2'))\n",
    "    \n",
    "    \n",
    "    t_t['p_f1'] =  t_t[['c','f1']].apply(app, axis=1)\n",
    "    t_t['p_f2'] =  t_t[['c','f2']].apply(app, axis=1)\n",
    "    t_t['p_c']  =  t_t['c'].map({1:p_p1, 2:p_(p_p1)})\n",
    "    #print(t_t)\n",
    "    t_t['j_p'] = t_t[['p_f1','p_f2', 'p_c']].apply(basic_prob_law_reduction, axis=1)\n",
    "    #print(t_t)\n",
    "    #Again this is the wrong result; 0.5 is multiplied by both, when it needn't be.\n",
    "    result = (t_t[(t_t['f1']==f_1) & (t_t['f2']==f_2)]['j_p']).sum()\n",
    "    \n",
    "    return result\n",
    "    #return t_t"
   ]
  },
  {
   "cell_type": "code",
   "execution_count": 349,
   "metadata": {
    "collapsed": false
   },
   "outputs": [],
   "source": [
    "#functools.reduce(lambda x,y: x.get(y),['a','b'],  {'a':{'b':1}})\n",
    "assert np.isclose(two_coins_3(), 0.17), 'Also got using a dictionary reduction method'"
   ]
  },
  {
   "cell_type": "code",
   "execution_count": 352,
   "metadata": {
    "collapsed": false
   },
   "outputs": [],
   "source": [
    "def two_coins_4(p_h1=1, p_h2 = 0.6, p_p1 = 0.5,f_1='t',f_2='t'):\n",
    "    \"\"\"\n",
    "    :params p_h1: P(H|C1)\n",
    "    :params p_h2: P(H|C2)\n",
    "    :params p_p1: P(C1)\n",
    "    :params f_1: First flip result match\n",
    "    :params f_2: Second flip result match\n",
    "    :returns: P(T,T)\n",
    "    Solution:\n",
    "    https://www.udacity.com/course/viewer#!/c-st101/l-48729372/e-48701556/m-48691629\n",
    "    \"\"\"\n",
    "    return two_coins_3(p_h1, p_h2, p_p1, f_1=f_1, f_2=f_2)"
   ]
  },
  {
   "cell_type": "code",
   "execution_count": 353,
   "metadata": {
    "collapsed": false
   },
   "outputs": [],
   "source": [
    "assert np.isclose(two_coins_4(),0.08), 'Should be 0.08, very unlikely as P(H|C1) is 1;  so only possibility is 0.5 * 0.4 * 0.4' "
   ]
  },
  {
   "cell_type": "code",
   "execution_count": null,
   "metadata": {
    "collapsed": false
   },
   "outputs": [],
   "source": []
  }
 ],
 "metadata": {
  "kernelspec": {
   "display_name": "Python 3",
   "language": "python",
   "name": "python3"
  },
  "language_info": {
   "codemirror_mode": {
    "name": "ipython",
    "version": 3
   },
   "file_extension": ".py",
   "mimetype": "text/x-python",
   "name": "python",
   "nbconvert_exporter": "python",
   "pygments_lexer": "ipython3",
   "version": "3.6.0"
  }
 },
 "nbformat": 4,
 "nbformat_minor": 0
}
