{
 "cells": [
  {
   "cell_type": "markdown",
   "metadata": {},
   "source": [
    "# In real life; things depend on other things"
   ]
  },
  {
   "cell_type": "markdown",
   "metadata": {},
   "source": [
    "Probability Smart / Dumb is 0.5 / 0.5"
   ]
  },
  {
   "cell_type": "markdown",
   "metadata": {},
   "source": [
    " - P_S = Professor at Stanford\n",
    " - P(P_S) = 0.001\n",
    " - P(P_S | S) = 0.002\n",
    " - P(P_S | D) = 0.000"
   ]
  },
  {
   "cell_type": "code",
   "execution_count": 1,
   "metadata": {
    "collapsed": false
   },
   "outputs": [],
   "source": [
    "import pandas as pd\n",
    "import numpy as np\n",
    "import matplotlib.pyplot as plt\n",
    "import itertools\n",
    "%matplotlib inline\n",
    "\n",
    "def p_(h=None, t=None): \n",
    "    #if h is not None:\n",
    "    #    return 1-h\n",
    "    #elif t is not None:\n",
    "    #    return 1-t\n",
    "    #else:\n",
    "    #    return 1\n",
    "    \n",
    "    return 1-(h or t or 0)\n",
    "\n",
    "#Returns 1 by default; the totality\n",
    "assert p_()==1\n",
    "#Other standard probabilities\n",
    "assert p_(h=1)==0\n",
    "assert p_(h=0.5)==0.5\n",
    "assert p_(t=0.2)==0.8\n",
    "#Uses first nonzero arg\n",
    "assert p_(h=0,t=1)==0\n",
    "assert p_(h=0.2, t=0.5)==0.8\n",
    "\n"
   ]
  },
  {
   "cell_type": "code",
   "execution_count": 2,
   "metadata": {
    "collapsed": false
   },
   "outputs": [],
   "source": [
    "def cancer_example_1(p_c=0.1):\n",
    "    \"\"\"\n",
    "    :returns: P(¬C) if P(C) is 0.1\n",
    "    Solution: https://www.udacity.com/course/viewer#!/c-st101/l-48729372/e-48729371/m-48673740\n",
    "    \"\"\"\n",
    "    return p_(p_c)"
   ]
  },
  {
   "cell_type": "code",
   "execution_count": 4,
   "metadata": {
    "collapsed": false
   },
   "outputs": [],
   "source": [
    "assert cancer_example_1()==0.9, 'If 10% have cancer; 90% do not have cancer'"
   ]
  },
  {
   "cell_type": "markdown",
   "metadata": {},
   "source": [
    "# Conditional Probability\n",
    "Probability A given that Z has happened\n",
    "## P(A|Z)\n",
    "## p_a_g_z\n",
    "If there are two events; A,B and X,Z , then \n",
    " - P(A|X) + P(A|Z) == P(A)\n",
    " - P(A|X) + P(B|X) == 1\n",
    " \n",
    "  > This is called conditional probability. What's the probability of the thing on the left, *given* the event on the right\n",
    "\n",
    "The test is *not* deterministic; it makes mistakes!"
   ]
  },
  {
   "cell_type": "code",
   "execution_count": 5,
   "metadata": {
    "collapsed": false
   },
   "outputs": [],
   "source": [
    "p_c=0.1\n",
    "p_n_c = cancer_example_1(p_c)\n",
    "p_p_g_c = 0.9\n",
    "p_n_g_c = 0.1"
   ]
  },
  {
   "cell_type": "code",
   "execution_count": 7,
   "metadata": {
    "collapsed": false
   },
   "outputs": [],
   "source": [
    "p_p_g_n_c = 0.2\n",
    "p_n_g_n_c = p_(p_p_g_n_c)\n",
    "\n",
    "def cancer_example_2(p_p_g_n_c=p_p_g_n_c):\n",
    "    \"\"\"\n",
    "    :returns: P(N|¬C) ; the specificity rate; true negatives\n",
    "    http://en.wikipedia.org/wiki/Sensitivity_and_specificity\n",
    "    Solution: https://www.udacity.com/course/viewer#!/c-st101/l-48729372/e-48723639/m-48691628\n",
    "    \"\"\"\n",
    "    p_n_g_n_c = p_(p_p_g_n_c)\n",
    "    return p_n_g_n_c"
   ]
  },
  {
   "cell_type": "code",
   "execution_count": 8,
   "metadata": {
    "collapsed": false
   },
   "outputs": [],
   "source": [
    "assert cancer_example_2()==0.8, 'P(Negative Given No Cancer) should be 0.8; (because P(Positive Given No Cancer) is 0.2)'"
   ]
  },
  {
   "cell_type": "code",
   "execution_count": 9,
   "metadata": {
    "collapsed": false
   },
   "outputs": [],
   "source": [
    "import functools\n",
    "def basic_prob_law_reduction(p_list):\n",
    "    \"\"\"\n",
    "    :returns: joint probability\n",
    "    of all events in a list happening\n",
    "    by applying 2nd law\n",
    "    http://stackoverflow.com/a/13840436/1175496\n",
    "    \"\"\"\n",
    "    assert all([_<=1 for _ in p_list]), 'Should be less than or equal to 1'\n",
    "    #assert sum(p_list)==1; they are different events, needn't sum to 1\n",
    "    return functools.reduce(operator.mul, p_list)\n"
   ]
  },
  {
   "cell_type": "code",
   "execution_count": 67,
   "metadata": {
    "collapsed": false
   },
   "outputs": [],
   "source": [
    "import operator\n",
    "def c_map_assertion(c_map):\n",
    "    \"\"\"\n",
    "    :params c_map: where Key is of form 'D|I' and \n",
    "    value is conditional probability\n",
    "    \"\"\"\n",
    "    #Be very careful not to mix up P(N|N) and P(N|C) , they don't sum to 1; they sum to P(N)\n",
    "    c_map_items = c_map.items()\n",
    "    #print(c_map_items)\n",
    "    #Same independent event; the second part of the 'P|C'\n",
    "    sie = lambda s: s[0].split('|')[1]\n",
    "    \n",
    "    \n",
    "    groups = itertools.groupby(sorted(c_map_items, key=sie), sie)\n",
    "    #print(list(itertools.groupby(sorted(c_map_items, key=sie), sie)))\n",
    "    assert all([sum([_[1] for _ in k])==1 for p,k in groups]), 'All the conditionals should sum to 1'\n",
    "    "
   ]
  },
  {
   "cell_type": "code",
   "execution_count": 69,
   "metadata": {
    "collapsed": false
   },
   "outputs": [
    {
     "data": {
      "text/html": [
       "<div>\n",
       "<table border=\"1\" class=\"dataframe\">\n",
       "  <thead>\n",
       "    <tr style=\"text-align: right;\">\n",
       "      <th></th>\n",
       "      <th>c</th>\n",
       "      <th>t</th>\n",
       "      <th>p_c</th>\n",
       "      <th>c_e</th>\n",
       "      <th>c_p</th>\n",
       "      <th>j_p</th>\n",
       "    </tr>\n",
       "  </thead>\n",
       "  <tbody>\n",
       "    <tr>\n",
       "      <th>0</th>\n",
       "      <td>C</td>\n",
       "      <td>P</td>\n",
       "      <td>0.1</td>\n",
       "      <td>P|C</td>\n",
       "      <td>0.9</td>\n",
       "      <td>0.09</td>\n",
       "    </tr>\n",
       "    <tr>\n",
       "      <th>2</th>\n",
       "      <td>C</td>\n",
       "      <td>N</td>\n",
       "      <td>0.1</td>\n",
       "      <td>N|C</td>\n",
       "      <td>0.1</td>\n",
       "      <td>0.01</td>\n",
       "    </tr>\n",
       "    <tr>\n",
       "      <th>1</th>\n",
       "      <td>N</td>\n",
       "      <td>P</td>\n",
       "      <td>0.9</td>\n",
       "      <td>P|N</td>\n",
       "      <td>0.2</td>\n",
       "      <td>0.18</td>\n",
       "    </tr>\n",
       "    <tr>\n",
       "      <th>3</th>\n",
       "      <td>N</td>\n",
       "      <td>N</td>\n",
       "      <td>0.9</td>\n",
       "      <td>N|N</td>\n",
       "      <td>0.8</td>\n",
       "      <td>0.72</td>\n",
       "    </tr>\n",
       "  </tbody>\n",
       "</table>\n",
       "</div>"
      ],
      "text/plain": [
       "   c  t  p_c  c_e  c_p   j_p\n",
       "0  C  P  0.1  P|C  0.9  0.09\n",
       "2  C  N  0.1  N|C  0.1  0.01\n",
       "1  N  P  0.9  P|N  0.2  0.18\n",
       "3  N  N  0.9  N|N  0.8  0.72"
      ]
     },
     "execution_count": 69,
     "metadata": {},
     "output_type": "execute_result"
    }
   ],
   "source": [
    "\n",
    "    \n",
    "def cancer_example_truth_table(p_c=0.1, p_p_g_c=0.9, p_n_g_n_c=0.8):\n",
    "    \"\"\"\n",
    "    :params p_c: P(C)\n",
    "    :params p_p_g_c: P(P|C), sensitivity\n",
    "    :params p_n_g_n_c: P(N|¬C), specificity\n",
    "    :returns: truth table of sequential events\n",
    "    that depend / influence each other (conditional probability)\n",
    "    \"\"\"\n",
    "    #Scenarios / Binaries\n",
    "    b_c = ('C','N')\n",
    "    b_t = ('P','N')\n",
    "    \n",
    "    #Conditional map\n",
    "    c_map = {'P|C':p_p_g_c,\n",
    "         'N|N':p_n_g_n_c,\n",
    "         'P|N':p_(p_n_g_n_c),\n",
    "         'N|C':p_(p_p_g_c) }\n",
    "    \n",
    "    c_map_assertion(c_map)\n",
    "    \n",
    "    #Test on the left side; given Cancer , on the right sight T|C\n",
    "    cols = 't|c'.split('|') #('t','c')\n",
    "    \n",
    "    #Start the truth table; \"C\" column is whether there is cancer \"T\" if test\n",
    "    t_t =  pd.DataFrame(list(itertools.product(b_t, b_c)), columns=cols)\n",
    "    \n",
    "    \n",
    "    #The probability of cancer \n",
    "    t_t['p_c'] = t_t['c'].map({'C':p_c , 'N':p_(p_c)})\n",
    "    \n",
    "    #Map them using the conditional probabilities; need 4 values in map (not just 2)\n",
    "    t_t['c_e'] = t_t[cols].apply('|'.join, axis=1)\n",
    "    \n",
    "    t_t['c_p'] = t_t['c_e'].map(c_map)\n",
    "    #     print(t_t['c_e'])\n",
    "    #     print(t_t['c_p'])\n",
    "    #     print(t_t['c_p'])\n",
    "    #print(t_t)\n",
    "    #The joint probability\n",
    "    t_t['j_p'] = t_t[['c_p', 'p_c']].apply(basic_prob_law_reduction,axis=1)\n",
    "    \n",
    "    t_t = t_t.sort_values(by='p_c')\n",
    "    return t_t[['c', 't', 'p_c', 'c_e', 'c_p', 'j_p']]\n",
    "    return t_t\n",
    "    \n",
    "cancer_example_truth_table()"
   ]
  },
  {
   "cell_type": "code",
   "execution_count": 71,
   "metadata": {
    "collapsed": false
   },
   "outputs": [
    {
     "data": {
      "text/plain": [
       "['t', 'c']"
      ]
     },
     "execution_count": 71,
     "metadata": {},
     "output_type": "execute_result"
    }
   ],
   "source": [
    "'c|t'.split('|')[::-1]"
   ]
  },
  {
   "cell_type": "code",
   "execution_count": 72,
   "metadata": {
    "collapsed": false
   },
   "outputs": [
    {
     "data": {
      "text/plain": [
       "[2, 1]"
      ]
     },
     "execution_count": 72,
     "metadata": {},
     "output_type": "execute_result"
    }
   ],
   "source": [
    "list(reversed((1,2)))"
   ]
  },
  {
   "cell_type": "code",
   "execution_count": 73,
   "metadata": {
    "collapsed": false
   },
   "outputs": [
    {
     "data": {
      "text/html": [
       "<div>\n",
       "<table border=\"1\" class=\"dataframe\">\n",
       "  <thead>\n",
       "    <tr style=\"text-align: right;\">\n",
       "      <th></th>\n",
       "      <th>c</th>\n",
       "      <th>t</th>\n",
       "      <th>p_c</th>\n",
       "      <th>c_e</th>\n",
       "      <th>c_p</th>\n",
       "      <th>j_p</th>\n",
       "    </tr>\n",
       "  </thead>\n",
       "  <tbody>\n",
       "    <tr>\n",
       "      <th>0</th>\n",
       "      <td>C</td>\n",
       "      <td>P</td>\n",
       "      <td>0.1</td>\n",
       "      <td>P|C</td>\n",
       "      <td>0.9</td>\n",
       "      <td>0.09</td>\n",
       "    </tr>\n",
       "    <tr>\n",
       "      <th>2</th>\n",
       "      <td>C</td>\n",
       "      <td>N</td>\n",
       "      <td>0.1</td>\n",
       "      <td>N|C</td>\n",
       "      <td>0.1</td>\n",
       "      <td>0.01</td>\n",
       "    </tr>\n",
       "    <tr>\n",
       "      <th>1</th>\n",
       "      <td>N</td>\n",
       "      <td>P</td>\n",
       "      <td>0.9</td>\n",
       "      <td>P|N</td>\n",
       "      <td>0.2</td>\n",
       "      <td>0.18</td>\n",
       "    </tr>\n",
       "    <tr>\n",
       "      <th>3</th>\n",
       "      <td>N</td>\n",
       "      <td>N</td>\n",
       "      <td>0.9</td>\n",
       "      <td>N|N</td>\n",
       "      <td>0.8</td>\n",
       "      <td>0.72</td>\n",
       "    </tr>\n",
       "  </tbody>\n",
       "</table>\n",
       "</div>"
      ],
      "text/plain": [
       "   c  t  p_c  c_e  c_p   j_p\n",
       "0  C  P  0.1  P|C  0.9  0.09\n",
       "2  C  N  0.1  N|C  0.1  0.01\n",
       "1  N  P  0.9  P|N  0.2  0.18\n",
       "3  N  N  0.9  N|N  0.8  0.72"
      ]
     },
     "execution_count": 73,
     "metadata": {},
     "output_type": "execute_result"
    }
   ],
   "source": [
    "cancer_example_truth_table()"
   ]
  },
  {
   "cell_type": "code",
   "execution_count": 75,
   "metadata": {
    "collapsed": false
   },
   "outputs": [
    {
     "data": {
      "text/plain": [
       "1.0"
      ]
     },
     "execution_count": 75,
     "metadata": {},
     "output_type": "execute_result"
    }
   ],
   "source": [
    "cancer_example_truth_table()['j_p'].sum()"
   ]
  },
  {
   "cell_type": "code",
   "execution_count": 76,
   "metadata": {
    "collapsed": false
   },
   "outputs": [
    {
     "data": {
      "text/plain": [
       "0.26999999999999996"
      ]
     },
     "execution_count": 76,
     "metadata": {},
     "output_type": "execute_result"
    }
   ],
   "source": [
    "cancer_example_truth_table()[cancer_example_truth_table()['t']=='P']['j_p'].sum()"
   ]
  },
  {
   "cell_type": "code",
   "execution_count": 79,
   "metadata": {
    "collapsed": false
   },
   "outputs": [],
   "source": [
    "def cancer_example_3(p_c=0.1, p_p_g_c=0.9, p_n_g_n_c=0.8):\n",
    "    \"\"\"\n",
    "    :returns: P(P,C)\n",
    "    Solution: \n",
    "    https://www.udacity.com/course/viewer#!/c-st101/l-48729372/e-48678914/m-48739237\n",
    "    \"\"\"\n",
    "    #t_t = cancer_example_truth_table()\n",
    "    #t_t['c_p'] = ((t_t['c']=='C') * p_c) * ((t_t['t']=='P') * p_p_g_c)\n",
    "    #return t_t.ix[0]['c_p']\n",
    "    return p_c * p_p_g_c"
   ]
  },
  {
   "cell_type": "code",
   "execution_count": 84,
   "metadata": {
    "collapsed": false
   },
   "outputs": [
    {
     "data": {
      "text/plain": [
       "0.69999999999999996"
      ]
     },
     "execution_count": 84,
     "metadata": {},
     "output_type": "execute_result"
    }
   ],
   "source": [
    "#Remember dot products make this multpilication easier\n",
    "def two_coins():\n",
    "    return np.dot(np.array((0.5, 0.5)), np.array((0.9, 0.5)))\n",
    "two_coins()"
   ]
  },
  {
   "cell_type": "code",
   "execution_count": 78,
   "metadata": {
    "collapsed": false
   },
   "outputs": [],
   "source": [
    "assert np.isclose(cancer_example_3(), 0.09), 'P(C) is 0.1; P(P|C) is 0.9. P(P,C) is 0.09'"
   ]
  },
  {
   "cell_type": "code",
   "execution_count": 109,
   "metadata": {
    "collapsed": false
   },
   "outputs": [],
   "source": [
    "def cancer_example_4(p_c=0.1, p_p_g_c=0.9, p_n_g_n_c=0.8):\n",
    "    \"\"\"\n",
    "    :returns: P(N,C)\n",
    "    Solution:\n",
    "    https://www.udacity.com/course/viewer#!/c-st101/l-48729372/e-48697751/m-48632850\n",
    "    \"\"\"\n",
    "    p_n_g_c = p_(p_p_g_c)\n",
    "    return p_c * p_n_g_c"
   ]
  },
  {
   "cell_type": "code",
   "execution_count": 110,
   "metadata": {
    "collapsed": false
   },
   "outputs": [],
   "source": [
    "assert np.isclose(cancer_example_4(), 0.01), 'P(C) is 0.1; P(P|C) is 0.9, so P(N|C) is 0.1; P(N,C) is 0.01'"
   ]
  },
  {
   "cell_type": "code",
   "execution_count": 111,
   "metadata": {
    "collapsed": false
   },
   "outputs": [],
   "source": [
    "def cancer_example_5(p_c=0.1, p_p_g_c=0.9, p_n_g_n_c=0.8):\n",
    "    \"\"\"\n",
    "    :returns: P(P,N)\n",
    "    Solution: https://www.udacity.com/course/viewer#!/c-st101/l-48729372/e-48692826/m-48641640\n",
    "    \"\"\"\n",
    "    p_n_c = p_(p_c)\n",
    "    p_p_g_n_c = p_(p_n_g_n_c)\n",
    "    return p_n_c * p_p_g_n_c\n"
   ]
  },
  {
   "cell_type": "code",
   "execution_count": 112,
   "metadata": {
    "collapsed": false
   },
   "outputs": [],
   "source": [
    "assert np.isclose(cancer_example_5(), 0.18), 'P(C) is 0.1, so P(N) is 0.9. P(N|N) is 0.8, so P(P|N) is 0.2. P(P,N) =0.9 * 0.2' "
   ]
  },
  {
   "cell_type": "code",
   "execution_count": 113,
   "metadata": {
    "collapsed": false
   },
   "outputs": [],
   "source": [
    "def cancer_example_6(p_c=0.1, p_p_g_c=0.9, p_n_g_n_c=0.8):\n",
    "    \"\"\" \n",
    "    :returns: P(N,N)\n",
    "    Solution:\n",
    "    https://www.udacity.com/course/viewer#!/c-st101/l-48729372/e-48698740/m-48730183\n",
    "    \"\"\"\n",
    "    p_n_c = p_(p_c)\n",
    "    return p_n_c * p_n_g_n_c"
   ]
  },
  {
   "cell_type": "code",
   "execution_count": 114,
   "metadata": {
    "collapsed": false
   },
   "outputs": [],
   "source": [
    "assert np.isclose(cancer_example_6(), 0.72), 'P(C) is 0.1 so P(N) is 0.9; P(N|N) is 0.8; so P(N,N) is 0.72'"
   ]
  },
  {
   "cell_type": "code",
   "execution_count": 115,
   "metadata": {
    "collapsed": false
   },
   "outputs": [],
   "source": [
    "def cancer_example_7(p_c=0.1, p_p_g_c=0.9, p_n_g_n_c=0.8):\n",
    "    \"\"\" \n",
    "    :returns: Sum of all joint probabilities, should be 1\n",
    "    Solution:\n",
    "    https://www.udacity.com/course/viewer#!/c-st101/l-48729372/e-48721494/m-48712380\n",
    "    \"\"\"\n",
    "    return sum((cancer_example_3(p_c, p_p_g_c, p_n_g_n_c),\n",
    "                cancer_example_4(p_c, p_p_g_c, p_n_g_n_c),\n",
    "                cancer_example_5(p_c, p_p_g_c, p_n_g_n_c),\n",
    "                cancer_example_6(p_c, p_p_g_c, p_n_g_n_c)))"
   ]
  },
  {
   "cell_type": "code",
   "execution_count": 116,
   "metadata": {
    "collapsed": false
   },
   "outputs": [],
   "source": [
    "assert cancer_example_7() ==1 , 'Sum of all probabilities should be 1'"
   ]
  },
  {
   "cell_type": "code",
   "execution_count": 128,
   "metadata": {
    "collapsed": false
   },
   "outputs": [],
   "source": [
    "def cancer_example_8():\n",
    "    \"\"\"\n",
    "    :returns: P(P)\n",
    "    Sum of P(P,N) + P(P,C)\n",
    "    Solution:\n",
    "    https://www.udacity.com/course/viewer#!/c-st101/l-48729372/e-48698741/m-48739233\n",
    "    \"\"\"\n",
    "    return cancer_example_5() + cancer_example_3()"
   ]
  },
  {
   "cell_type": "code",
   "execution_count": 129,
   "metadata": {
    "collapsed": false
   },
   "outputs": [],
   "source": [
    "assert np.isclose(cancer_example_8(), 0.27), 'Sum of P(P,N) and P(P,C) is P(P); '"
   ]
  },
  {
   "cell_type": "code",
   "execution_count": 132,
   "metadata": {
    "collapsed": false
   },
   "outputs": [],
   "source": [
    "def cancer_example_8():\n",
    "    \"\"\"\n",
    "    :returns:P(P) using the truth table approach\n",
    "    \"\"\"\n",
    "    test_positive = cancer_example_truth_table()['t']=='P'\n",
    "    return cancer_example_truth_table()[test_positive]['j_p'].sum()\n"
   ]
  },
  {
   "cell_type": "code",
   "execution_count": 133,
   "metadata": {
    "collapsed": false
   },
   "outputs": [],
   "source": [
    "assert np.isclose(cancer_example_8(), 0.27), 'Sum of P(P,N) and P(P,C) is P(P); '"
   ]
  },
  {
   "cell_type": "code",
   "execution_count": 161,
   "metadata": {
    "collapsed": false
   },
   "outputs": [],
   "source": [
    "def two_coins_1(p_h1=0.5, p_h2 = 0.9):\n",
    "    \"\"\"\n",
    "    :returns: P(T) for two coins\n",
    "    First of which P(H) = 0.5\n",
    "    Second of which P(H) = 0.9\n",
    "    Solution: \n",
    "    https://www.udacity.com/course/viewer#!/c-st101/l-48729372/e-48723640/m-48652466\n",
    "    \"\"\"\n",
    "    return p_(p_h1), p_(p_h2)\n",
    "    "
   ]
  },
  {
   "cell_type": "code",
   "execution_count": 162,
   "metadata": {
    "collapsed": false
   },
   "outputs": [],
   "source": [
    "assert np.allclose(two_coins_1(), (0.5,0.1)), 'P(T) would be 0.5 then 0.1'"
   ]
  },
  {
   "cell_type": "code",
   "execution_count": 164,
   "metadata": {
    "collapsed": false
   },
   "outputs": [],
   "source": [
    "def two_coins_2(p_h1=0.5, p_h2 = 0.9, p_p1 = 0.5):\n",
    "    \"\"\"\n",
    "    :returns: P(H) for randomly picking (equal chance) of two coins,\n",
    "    One P(H) = 0.5\n",
    "    The other P(H) = 0.9\n",
    "    \"\"\"\n",
    "    p_p2 = p_(p_p1)\n",
    "    p_h_g_1 = p_p1 * p_h1\n",
    "    p_h_g_2 = p_p2 * p_h2\n",
    "    return p_h_g_1 + p_h_g_2"
   ]
  },
  {
   "cell_type": "code",
   "execution_count": 166,
   "metadata": {
    "collapsed": false
   },
   "outputs": [],
   "source": [
    "assert np.isclose(two_coins_2(), 0.7), 'Total P(H) is 0.5 * 0.5 + 0.5 * 0.9' "
   ]
  },
  {
   "cell_type": "code",
   "execution_count": 86,
   "metadata": {
    "collapsed": false
   },
   "outputs": [],
   "source": [
    "def two_coins_truth_table(p_h1=0.5, p_h2 = 0.9, p_p1 = 0.5):\n",
    "    \"\"\"\n",
    "    :returns:\n",
    "    Two coins truth table\n",
    "    \"\"\"\n",
    "    b_c = (1,2)\n",
    "    b_h = ('h','t')\n",
    "    \n",
    "    c_map = {'h|1':p_h1,\n",
    "             't|1':p_(p_h1),\n",
    "             'h|2':p_h2,\n",
    "             't|2':p_(p_h2)}\n",
    "    \n",
    "    c_map_assertion(c_map)\n",
    "    \n",
    "    t_t = pd.DataFrame(list(itertools.product(b_h, b_c)), columns=('f', 'c'))\n",
    "\n",
    "    t_t['c_p'] = (t_t['f'].str.cat(t_t['c'].apply(str), '|')).map(c_map)\n",
    "    t_t['p_c'] = (t_t['c'].map({1:p_p1, 2:p_(p_p1)}))\n",
    "    t_t['j_p'] = t_t[['c_p', 'p_c']].apply(basic_prob_law_reduction, axis=1)\n",
    "    return t_t \n",
    "    "
   ]
  },
  {
   "cell_type": "code",
   "execution_count": 111,
   "metadata": {
    "collapsed": false
   },
   "outputs": [
    {
     "name": "stdout",
     "output_type": "stream",
     "text": [
      "  coin f_1 f_2  coin_p  f_1_p  f_2_p    j_p\n",
      "0   c1   h   h     0.5    0.9    0.9  0.405\n",
      "1   c1   h   t     0.5    0.9    0.1  0.045\n",
      "2   c1   t   h     0.5    0.1    0.9  0.045\n",
      "3   c1   t   t     0.5    0.1    0.1  0.005\n",
      "4   c2   h   h     0.5    0.5    0.5  0.125\n",
      "5   c2   h   t     0.5    0.5    0.5  0.125\n",
      "6   c2   t   h     0.5    0.5    0.5  0.125\n",
      "7   c2   t   t     0.5    0.5    0.5  0.125\n",
      "1.0\n",
      "0.17\n"
     ]
    }
   ],
   "source": [
    "def two_coins_truth_table():\n",
    "    event_space = itertools.product(('c1', 'c2'), 'ht', 'ht')\n",
    "    event_df = pd.DataFrame(data=list(event_space), columns=('coin', 'f_1', 'f_2'))\n",
    "    event_df['coin_p'] = event_df['coin'].map({'c1': 0.5, 'c2': 0.5})\n",
    "    conditional_probability = {'c1' : {'h': 0.9, 't': 0.1}, 'c2': {'h': 0.5, 't': 0.5}}\n",
    "    event_df['f_1_p'] = event_df.apply(lambda event: conditional_probability.get(event.coin).get(event.f_1), axis=1) \n",
    "    event_df['f_2_p'] = event_df.apply(lambda event: conditional_probability.get(event.coin).get(event.f_2), axis=1) \n",
    "    event_df['j_p'] = event_df[['coin_p', 'f_1_p', 'f_2_p']].product(axis=1)\n",
    "    #https://stackoverflow.com/a/21167614/1175496\n",
    "    #.apply(lambda *x: operator.mul(x), axis=1)\n",
    "    return event_df # list(event_space)\n",
    "print(two_coins_truth_table())\n",
    "print(two_coins_truth_table()['j_p'].sum())\n",
    "#https://stackoverflow.com/a/35043989/1175496\n",
    "#print(two_coins_truth_table()['f_1']=='h')\n",
    "#print(two_coins_truth_table()['f_2']=='t')\n",
    "#ust be careful with operato rprecedence, I think the & wants to go first\n",
    "h_and_t = (two_coins_truth_table()['f_1']=='h') & (two_coins_truth_table()['f_2']=='t')\n",
    "#print(h_and_t)\n",
    "print(two_coins_truth_table()['j_p'][h_and_t].sum())"
   ]
  },
  {
   "cell_type": "code",
   "execution_count": 194,
   "metadata": {
    "collapsed": false
   },
   "outputs": [
    {
     "data": {
      "text/html": [
       "<div style=\"max-height:1000px;max-width:1500px;overflow:auto;\">\n",
       "<table border=\"1\" class=\"dataframe\">\n",
       "  <thead>\n",
       "    <tr style=\"text-align: right;\">\n",
       "      <th></th>\n",
       "      <th>f</th>\n",
       "      <th>c</th>\n",
       "      <th>c_p</th>\n",
       "      <th>p_c</th>\n",
       "      <th>j_p</th>\n",
       "    </tr>\n",
       "  </thead>\n",
       "  <tbody>\n",
       "    <tr>\n",
       "      <th>0</th>\n",
       "      <td> h</td>\n",
       "      <td> 1</td>\n",
       "      <td> 0.5</td>\n",
       "      <td> 0.5</td>\n",
       "      <td> 0.25</td>\n",
       "    </tr>\n",
       "    <tr>\n",
       "      <th>1</th>\n",
       "      <td> h</td>\n",
       "      <td> 2</td>\n",
       "      <td> 0.9</td>\n",
       "      <td> 0.5</td>\n",
       "      <td> 0.45</td>\n",
       "    </tr>\n",
       "    <tr>\n",
       "      <th>2</th>\n",
       "      <td> t</td>\n",
       "      <td> 1</td>\n",
       "      <td> 0.5</td>\n",
       "      <td> 0.5</td>\n",
       "      <td> 0.25</td>\n",
       "    </tr>\n",
       "    <tr>\n",
       "      <th>3</th>\n",
       "      <td> t</td>\n",
       "      <td> 2</td>\n",
       "      <td> 0.1</td>\n",
       "      <td> 0.5</td>\n",
       "      <td> 0.05</td>\n",
       "    </tr>\n",
       "  </tbody>\n",
       "</table>\n",
       "</div>"
      ],
      "text/plain": [
       "   f  c  c_p  p_c   j_p\n",
       "0  h  1  0.5  0.5  0.25\n",
       "1  h  2  0.9  0.5  0.45\n",
       "2  t  1  0.5  0.5  0.25\n",
       "3  t  2  0.1  0.5  0.05"
      ]
     },
     "execution_count": 194,
     "metadata": {},
     "output_type": "execute_result"
    }
   ],
   "source": [
    "two_coins_truth_table()\n"
   ]
  },
  {
   "cell_type": "code",
   "execution_count": 229,
   "metadata": {
    "collapsed": false
   },
   "outputs": [
    {
     "data": {
      "text/plain": [
       "0.7"
      ]
     },
     "execution_count": 229,
     "metadata": {},
     "output_type": "execute_result"
    }
   ],
   "source": [
    "\n",
    "two_coins_truth_table()[two_coins_truth_table()['f']=='h'].sum()['j_p']"
   ]
  },
  {
   "cell_type": "code",
   "execution_count": 344,
   "metadata": {
    "collapsed": false
   },
   "outputs": [],
   "source": [
    "def two_coins_3(p_h1=0.5, p_h2 = 0.9, p_p1 = 0.5):\n",
    "    \"\"\"\n",
    "    :returns: P(H,T) regardless of which coin\n",
    "    Only works because the original truth table doesn't enumerate all possibilities\n",
    "    Just H,T and H,T, which are here multiplied together with prod()\n",
    "    Solution: https://www.udacity.com/course/viewer#!/c-st101/l-48729372/e-48695799/m-48730182\n",
    "    \"\"\"\n",
    "    #Above is wrong, it applied the 0.5 of which coin-pick to both results separately;\n",
    "    #The coin isn't picked twice\n",
    "    #It only needs to be applied to the joint result; \n",
    "    #The coin is picked once\n",
    "    \n",
    "    #ht_c1 = basic_prob_law_reduction(t_t[t_t['c']==1]['j_p'])\n",
    "    #ht_c2 = basic_prob_law_reduction(t_t[t_t['c']==2]['j_p'])\n",
    "  \n",
    "    #print(ht_c1, ht_c2)\n",
    "    #return ht_c1 + ht_c2 #basic_prob_law_reduction(t_t[t_t['c']==1]['j_p'])\n",
    "    \n",
    "    t_t =  two_coins_truth_table(p_h1, p_h2, p_p1)\n",
    "    ht_g_c = t_t.groupby('c').prod()['c_p']\n",
    "    p_ht = (0.5*ht_g_c).sum() \n",
    "    return p_ht"
   ]
  },
  {
   "cell_type": "code",
   "execution_count": 326,
   "metadata": {
    "collapsed": false
   },
   "outputs": [],
   "source": [
    "assert np.isclose(two_coins_3(), 0.17), '0.17 is the sum of 0.5(0.25 + 0.09)'"
   ]
  },
  {
   "cell_type": "code",
   "execution_count": 112,
   "metadata": {
    "collapsed": false
   },
   "outputs": [],
   "source": [
    "#Better to make another truth table\n",
    "def two_coins_3(p_h1=0.5, p_h2 = 0.9, p_p1 = 0.5, f_1='h', f_2='t'):\n",
    "    \"\"\"\n",
    "    :returns: P(H,T) regardless of which coin\n",
    "    \"\"\"\n",
    "    coins = (1, 2)\n",
    "    flip = ('h','t')\n",
    "    c_map_dict_style = {1:{'h':p_h1,\n",
    "                           't':p_(p_h1)},\n",
    "                        2:{'h':p_h2,\n",
    "                           't':p_(p_h2)}}\n",
    "    red = lambda x,y: x.get(y)\n",
    "    app = lambda x: functools.reduce(red, list(x), c_map_dict_style)\n",
    "    t_t = pd.DataFrame(list(itertools.product(coins, flip, flip)), columns=('c','f1','f2'))\n",
    "    \n",
    "    \n",
    "    t_t['p_f1'] =  t_t[['c','f1']].apply(app, axis=1)\n",
    "    t_t['p_f2'] =  t_t[['c','f2']].apply(app, axis=1)\n",
    "    t_t['p_c']  =  t_t['c'].map({1:p_p1, 2:p_(p_p1)})\n",
    "    #print(t_t)\n",
    "    t_t['j_p'] = t_t[['p_f1','p_f2', 'p_c']].apply(basic_prob_law_reduction, axis=1)\n",
    "    #print(t_t)\n",
    "    #Again this is the wrong result; 0.5 is multiplied by both, when it needn't be.\n",
    "    result = (t_t[(t_t['f1']==f_1) & (t_t['f2']==f_2)]['j_p']).sum()\n",
    "    \n",
    "    return result\n",
    "    #return t_t"
   ]
  },
  {
   "cell_type": "code",
   "execution_count": 114,
   "metadata": {
    "collapsed": true
   },
   "outputs": [],
   "source": [
    "def two_coins_truth_table_diff():\n",
    "    event_space = itertools.product(('c1', 'c2'), 'ht', 'ht')\n",
    "    event_df = pd.DataFrame(data=list(event_space), columns=('coin', 'f_1', 'f_2'))\n",
    "    event_df['coin_p'] = event_df['coin'].map({'c1': 0.5, 'c2': 0.5})\n",
    "    conditional_probability = {'c1' : {'h': 1, 't': 0}, 'c2': {'h': 0.6, 't': 0.4}}\n",
    "    event_df['f_1_p'] = event_df.apply(lambda event: conditional_probability.get(event.coin).get(event.f_1), axis=1) \n",
    "    event_df['f_2_p'] = event_df.apply(lambda event: conditional_probability.get(event.coin).get(event.f_2), axis=1) \n",
    "    event_df['j_p'] = event_df[['coin_p', 'f_1_p', 'f_2_p']].product(axis=1)\n",
    "    #https://stackoverflow.com/a/21167614/1175496\n",
    "    #.apply(lambda *x: operator.mul(x), axis=1)\n",
    "    return event_df # list(event_space)"
   ]
  },
  {
   "cell_type": "code",
   "execution_count": 116,
   "metadata": {
    "collapsed": false
   },
   "outputs": [
    {
     "data": {
      "text/plain": [
       "0.08000000000000002"
      ]
     },
     "execution_count": 116,
     "metadata": {},
     "output_type": "execute_result"
    }
   ],
   "source": [
    "two_coins_truth_table_diff()[(two_coins_truth_table_diff()['f_1']=='t')&(two_coins_truth_table_diff()['f_2']=='t')]['j_p'].sum()"
   ]
  },
  {
   "cell_type": "code",
   "execution_count": 349,
   "metadata": {
    "collapsed": false
   },
   "outputs": [],
   "source": [
    "#functools.reduce(lambda x,y: x.get(y),['a','b'],  {'a':{'b':1}})\n",
    "assert np.isclose(two_coins_3(), 0.17), 'Also got using a dictionary reduction method'"
   ]
  },
  {
   "cell_type": "code",
   "execution_count": 117,
   "metadata": {
    "collapsed": false
   },
   "outputs": [],
   "source": [
    "def two_coins_4(p_h1=1, p_h2 = 0.6, p_p1 = 0.5,f_1='t',f_2='t'):\n",
    "    \"\"\"\n",
    "    :params p_h1: P(H|C1)\n",
    "    :params p_h2: P(H|C2)\n",
    "    :params p_p1: P(C1)\n",
    "    :params f_1: First flip result match\n",
    "    :params f_2: Second flip result match\n",
    "    :returns: P(T,T)\n",
    "    Solution:\n",
    "    https://www.udacity.com/course/viewer#!/c-st101/l-48729372/e-48701556/m-48691629\n",
    "    \"\"\"\n",
    "    return two_coins_3(p_h1, p_h2, p_p1, f_1=f_1, f_2=f_2)"
   ]
  },
  {
   "cell_type": "code",
   "execution_count": 118,
   "metadata": {
    "collapsed": false
   },
   "outputs": [],
   "source": [
    "assert np.isclose(two_coins_4(),0.08), 'Should be 0.08, very unlikely as P(H|C1) is 1;  so only possibility is 0.5 * 0.4 * 0.4' "
   ]
  },
  {
   "cell_type": "markdown",
   "metadata": {
    "collapsed": false
   },
   "source": [
    "# Summary : Important Lessons\n",
    "## Conditional Probability\n",
    "When an event depends on the outcome of a different event\n",
    "Like in knowing a medical test, whose results are (of course) affected by whether the patient has the disease or not!\n",
    "`P(Test Outcome | Condition Outcome)`\n",
    "`P(Test Positive) = P(Test Positive | Has Condition) + P(Test Positive | Not Have Condition)`"
   ]
  },
  {
   "cell_type": "code",
   "execution_count": null,
   "metadata": {
    "collapsed": true
   },
   "outputs": [],
   "source": []
  }
 ],
 "metadata": {
  "kernelspec": {
   "display_name": "Python 3",
   "language": "python",
   "name": "python3"
  },
  "language_info": {
   "codemirror_mode": {
    "name": "ipython",
    "version": 3
   },
   "file_extension": ".py",
   "mimetype": "text/x-python",
   "name": "python",
   "nbconvert_exporter": "python",
   "pygments_lexer": "ipython3",
   "version": "3.6.0"
  }
 },
 "nbformat": 4,
 "nbformat_minor": 0
}
