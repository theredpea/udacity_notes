{
 "metadata": {
  "name": "",
  "signature": "sha256:91312459880919993e2c40df5aac3f5e53c9415d236f715fef75c35bf9501d7f"
 },
 "nbformat": 3,
 "nbformat_minor": 0,
 "worksheets": []
}