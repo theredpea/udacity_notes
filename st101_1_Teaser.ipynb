{
 "metadata": {
  "name": "",
  "signature": "sha256:46c826d8833d8e94a04c51dcb85e7e84780fa58f0eb8374584426261bb190d59"
 },
 "nbformat": 3,
 "nbformat_minor": 0,
 "worksheets": [
  {
   "cells": [
    {
     "cell_type": "code",
     "collapsed": false,
     "input": [
      "\n",
      "type_of_person = set(('a','b'))\n",
      "\n",
      "#50%\n",
      "prob_of_type_a = .5\n",
      "prob_of_type_b = .5\n",
      "\n",
      "type_a_num_friends = 80\n",
      "type_b_num_friends = 20\n",
      "\n",
      "\n",
      "    "
     ],
     "language": "python",
     "metadata": {},
     "outputs": [],
     "prompt_number": 10
    },
    {
     "cell_type": "code",
     "collapsed": false,
     "input": [
      "\n",
      "def average_friends():\n",
      "    \"\"\"\n",
      "    :returns: expected number of friends the 'average' person has\n",
      "    \"\"\"\n",
      "    expected_num_friends = prob_of_type_a * type_a_num_friends + prob_of_type_b * type_b_num_friends\n",
      "    return expected_num_friends"
     ],
     "language": "python",
     "metadata": {},
     "outputs": []
    },
    {
     "cell_type": "code",
     "collapsed": false,
     "input": [
      "average_friends_answer = 'https://www.udacity.com/course/viewer#!/c-st101/l-48686797/e-48755049/m-48736073'\n",
      "assert average_friends()==50, 'Solution should be 50 {}'.format(average_friends_answer)"
     ],
     "language": "python",
     "metadata": {},
     "outputs": [],
     "prompt_number": 11
    },
    {
     "cell_type": "code",
     "collapsed": false,
     "input": [
      "def expected_friend_type():\n",
      "    \"\"\"\n",
      "    Picks a friend from your friends list.\n",
      "    :returns: dict. Keys are type of friend. Values are chance you picked them from your friends list\n",
      "    \"\"\"\n",
      "    global prob_pick_type_a\n",
      "    global prob_pick_type_b\n",
      "    \n",
      "    total_num_friends = type_a_num_friends + type_b_num_friends\n",
      "    \n",
      "    prob_pick_type_a = type_a_num_friends / total_num_friends\n",
      "    prob_pick_type_b = type_b_num_friends / total_num_friends\n",
      "    \n",
      "    \n",
      "    return dict(a=prob_pick_type_a,\n",
      "                b=prob_pick_type_b)"
     ],
     "language": "python",
     "metadata": {},
     "outputs": [],
     "prompt_number": 30
    },
    {
     "cell_type": "code",
     "collapsed": false,
     "input": [
      "expected_friend_type_answer = 'https://www.udacity.com/course/viewer#!/c-st101/l-48686797/e-48704342/m-48699516'\n",
      "\n",
      "assert sum(list(expected_friend_type().values()))==1, 'Sum of probs should add to 1 {}'.format(expected_friend_type_answer)\n",
      "assert expected_friend_type()['a']==.8, 'Chance of picking type a should be .8 {}'.format(expected_friend_type_answer)\n",
      "assert expected_friend_type()['b']==.2, 'Chance of picking type b should be .2 {}'.format(expected_friend_type_answer)\n"
     ],
     "language": "python",
     "metadata": {},
     "outputs": [],
     "prompt_number": 31
    },
    {
     "cell_type": "code",
     "collapsed": false,
     "input": [
      "def unpopular():\n",
      "    \"\"\"\n",
      "    Picks a friend ('picked friend') from your friends list.\n",
      "    :returns: expected number of friends in 'picked friends' friend list\n",
      "    \"\"\"\n",
      "    return prob_pick_type_a * type_a_num_friends + prob_pick_type_b * type_b_num_friends"
     ],
     "language": "python",
     "metadata": {},
     "outputs": [],
     "prompt_number": 34
    },
    {
     "cell_type": "code",
     "collapsed": false,
     "input": [
      "unpopular_answer = 'https://www.udacity.com/course/viewer#!/c-st101/l-48686797/e-48723634/m-48665936'\n",
      "assert unpopular()==68, 'A friend of yours should have 68 friends {}'.format(unpopular_answer)\n",
      "assert average_friends()<unpopular(), 'Your friend should have more friends than you'.format(unpopular_answer)"
     ],
     "language": "python",
     "metadata": {},
     "outputs": [],
     "prompt_number": 36
    },
    {
     "cell_type": "markdown",
     "metadata": {},
     "source": [
      "#Statistics\n",
      "##Types\n",
      "1. [Descriptive](https://www.coursera.org/course/descriptivestats)\n",
      "2. [Inferential](https://www.coursera.org/course/inferentialstats)"
     ]
    },
    {
     "cell_type": "markdown",
     "metadata": {},
     "source": [
      "#Statistics Data\n",
      "##[Types](https://d396qusza40orc.cloudfront.net/apstat/univariatedata/data_types.pdf)\n",
      "1. Population\n",
      " - everything we study\n",
      "2. Sample\n",
      " - a subset of everything"
     ]
    },
    {
     "cell_type": "markdown",
     "metadata": {},
     "source": [
      "#Statistics Variables\n",
      "##Type\n",
      "1. Quantiative\n",
      " - numeric; measurements\n",
      "     1. Discrete\n",
      "     2. Continuous\n",
      "2. Qualitative\n",
      " - categorical; types"
     ]
    },
    {
     "cell_type": "code",
     "collapsed": false,
     "input": [],
     "language": "python",
     "metadata": {},
     "outputs": []
    }
   ],
   "metadata": {}
  }
 ]
}