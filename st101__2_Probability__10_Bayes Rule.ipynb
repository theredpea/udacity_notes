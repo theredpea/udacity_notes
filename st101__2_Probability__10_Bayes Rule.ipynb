{
 "cells": [
  {
   "cell_type": "code",
   "execution_count": 1,
   "metadata": {
    "collapsed": false
   },
   "outputs": [],
   "source": [
    "import itertools\n",
    "import pandas as pd\n",
    "import numpy as np\n",
    "import matplotlib.pyplot as plt\n",
    "import functools\n",
    "\n",
    "%matplotlib inline\n"
   ]
  },
  {
   "cell_type": "markdown",
   "metadata": {},
   "source": [
    "# Bayes Rule\n",
    " - Reverend Thomas Bayes\n",
    " - To infers existence of God\n",
    " - Holy Grail of Probabilistic thinking\n",
    " - Informed Artificial Intelligence\n"
   ]
  },
  {
   "cell_type": "code",
   "execution_count": 2,
   "metadata": {
    "collapsed": false
   },
   "outputs": [],
   "source": [
    "def cancer_test():\n",
    "    \"\"\"\n",
    "    :returns: P(C|P);\n",
    "    Prob you have cancer given the test is positive\n",
    "    Solution: https://www.udacity.com/course/viewer#!/c-st101/l-48703346/e-48759018/m-48480554\n",
    "    \n",
    "    \"\"\"\n",
    "    #returning this suggests your chances of having cancer\n",
    "    #Haven't changed regardless of the test returning positive\n",
    "    p_c = 0.01 \n",
    "    \n",
    "    #Returning this is an answer to a different question;\n",
    "    #this is the probability of positive test result\n",
    "    #This question asks about the probability of cancer\n",
    "    p_p_g_c = 0.9\n",
    "    \n",
    "    p_c_g_p = 0.08\n",
    "    \n",
    "    #Since sensitivity (i.e. the amount of confidence we can put)\n",
    "    #That a positive test means a positive cancer?\n",
    "    #Is high; we expect it increases our chances from the generic population\n",
    "    assert p_c_g_p > p_c\n",
    "    \n",
    "    #And no relation to p_p_g_c; different question\n",
    "    \n",
    "    return p_c_g_p\n",
    "    "
   ]
  },
  {
   "cell_type": "markdown",
   "metadata": {},
   "source": [
    "# Sensitivity vs Specificity \n",
    "\n",
    " - **Sensitivity**\n",
    "  - Chances the outcome (i.e. have disease) is predicted by the indicator (i.e. a test says you have disease) \n",
    "  - the amount of confidence we can have in this test\n",
    " - **Specificity**\n",
    "  - Chances the lack of outcome (i.e. no disease) is predicted by indicator (i.e. a test says you dont have disease)\n",
    " \n",
    " If we are conservative, (in medicine we are) then... \n",
    "  - we are willing to say we have cancer even if we dont (fail sensitivity test)\n",
    "  - and we really want to be sure that a negative test, can be reliable (pass specificity test)\n",
    " \n",
    "\n"
   ]
  },
  {
   "cell_type": "code",
   "execution_count": 3,
   "metadata": {
    "collapsed": false
   },
   "outputs": [],
   "source": [
    "class Event(object):\n",
    "    \n",
    "    GIVEN = ' given '\n",
    "    NOT = 'not'\n",
    "    AND = ' and '\n",
    "    NEGATIVE = 'negative'\n",
    "    POSITIVE = 'positive'\n",
    "    \n",
    "    #def __new__(cls, name, prob, prob_universeprob_population={}):\n",
    "    #    return super().__new__(cls, name, prob, prob_population)\n",
    "    # Was gonna check first the population, but...\n",
    "    \n",
    "    def __init__(self, name):#, *args, **kwargs):\n",
    "        self.__name = str(name).strip()\n",
    "        \n",
    "    def __neg__(self):\n",
    "        return self.__invert__()\n",
    "    \n",
    "    def __invert__(self):\n",
    "        \"\"\"\n",
    "        The idea of a binary event\n",
    "        :returns: the 'inverse' of this event; this event not-happening\n",
    "        \"\"\"\n",
    "        # A conditional event; just negate the posterior\n",
    "        if self.given():\n",
    "            return (~self.posterior()) | self.given()\n",
    "        \n",
    "        # A joint event; negate both and re-join\n",
    "        if all(self.joint()):\n",
    "            return ~self.joint()[0]  & ~self.joint()[1]\n",
    "        \n",
    "        # A negative single event; make positive\n",
    "        if self.__name.startswith(self.NOT):\n",
    "            return Event(self.__name.lstrip(self.NOT).strip('()'))\n",
    "            \n",
    "        # A positive single event; make negative\n",
    "        else:\n",
    "            #if self.POSITIVE in self.__name:\n",
    "            #    not_name = self.__name.replace(self.POSITIVE, self.NEGATIVE)\n",
    "            #elif self.NEGATIVE in self.__name:\n",
    "            #    not_name = self.__name.replace(self.NEGATIVE, self.POSITIVE)\n",
    "            #else:\n",
    "            return Event('{0}({1})'.format(self.NOT, self.__name))\n",
    "        \n",
    "    def __or__(self, event_2):\n",
    "        \"\"\"Notice this would *not* support\n",
    "        transitive property as \"or\" normally should\n",
    "        Though I guess \"truthied\" things aren't actually transitive\n",
    "        (A__or__B == B__or__A)\n",
    "        \"\"\"\n",
    "        return self.given(event_2)\n",
    "    \n",
    "    def __and__(self, event_2):\n",
    "        \"\"\"\n",
    "        \"\"\"\n",
    "        return self.joint(event_2)\n",
    "    \n",
    "    def joint(self, event_2=None):\n",
    "        \"\"\"\n",
    "        Quiz: Prior And Posterior\n",
    "        CORRECTION: From 0:45 onward, the posterior for the cancer case \n",
    "        should be written as P(C, Pos) instead of P(C|Pos), and the \n",
    "        one for the non-cancer case should read P(~C, Pos) instead \n",
    "        of P(~C|Pos).\n",
    "        \n",
    "        there is a correction to when\n",
    "        consider that self.AND could be the *comma*, \n",
    "        https://classroom.udacity.com/courses/st101/lessons/48703346/concepts/487236370923\n",
    "        \"\"\"\n",
    "        if event_2 is None:\n",
    "            if self.AND in self.__name:\n",
    "                return [Event(_) for _ in self.__name.split(self.AND)]\n",
    "            else:\n",
    "                return [None, None]\n",
    "        else:\n",
    "            and_name = '{0}{1}{2}'.format(self, self.AND, event_2)\n",
    "            return Event(and_name)\n",
    "        \n",
    "    def alt_events(self):\n",
    "        first, second = self.joint()\n",
    "        other_joint = '{0}{1}{2}'.format(second, self.AND, first) \n",
    "        return [Event(_) for _ in [other_joint]]\n",
    "    \n",
    "    def posterior(self):\n",
    "        \"\"\"\n",
    "        If this is a conditional,\n",
    "        P(Cancer|Pos)\n",
    "        :returns: the name of the posterior event, that the patient has Cancer\n",
    "        \"\"\"\n",
    "        #GET method\n",
    "        if self.GIVEN in self.__name:\n",
    "            #assert self.GIVEN in self.__name, 'No second event'\n",
    "            return Event(self.__name.split(self.GIVEN)[0])\n",
    "        #No SET method because there is not left-to-right syntax\n",
    "        #Whereas the \"given\" method creates a new conditional\n",
    "            \n",
    "            \n",
    "   \n",
    "    def given(self, event_2=None):\n",
    "        \"\"\"\n",
    "        If this is a conditional, event\n",
    "        P(Cancer|Pos)\n",
    "        :params event_2: the second event IF you want to create a new given event\n",
    "        :returns: the name of the original event, that test is Positive, if no event_2 param passed and this is a conditional event\n",
    "        Else a new conditional event created by combining self and event_2\n",
    "        \"\"\"\n",
    "        #GET method\n",
    "        if event_2 is None:\n",
    "            \n",
    "            if self.GIVEN in self.__name:\n",
    "                #assert self.GIVEN in self.__name, 'No first event'\n",
    "                return Event(self.__name.split(self.GIVEN)[1])\n",
    "        #SET method\n",
    "        else:\n",
    "            given_name = '{0}{1}{2}'.format(self, self.GIVEN, event_2)\n",
    "            #given_prob = prob\n",
    "            return Event(given_name) #, given_prob, self.__probs)\n",
    "   \n",
    "    def __nickname__(self):\n",
    "        \"\"\"\n",
    "        Would want nicknames for like 'gay' could by 'G'\n",
    "        And other  conventions (saved as constants) like 'N' for 'not'\n",
    "        \n",
    "        'G' for given; or the symbol '|'\n",
    "        'A' for and; or the symbol or acceptable '&'\n",
    "        \"\"\"\n",
    "        return (self.__name\n",
    "                .replace(' given ', '|')\n",
    "                .replace(' and ', ',')\n",
    "                .upper())\n",
    "        \n",
    "    def __repr__(self):\n",
    "        return 'Event(\"{}\")'.format(self.__name)\n",
    "\n",
    "    def __str__(self):\n",
    "        return self.__name\n",
    "\n",
    "    def __hash__(self):\n",
    "        return hash(tuple(sorted(self.__name.split(self.AND))))\n",
    "\n",
    "    def __eq__(self, other):\n",
    "        return hash(self) == hash(other)"
   ]
  },
  {
   "cell_type": "code",
   "execution_count": 4,
   "metadata": {
    "collapsed": false
   },
   "outputs": [],
   "source": [
    "class Probability(dict):\n",
    "        \n",
    "    def __call__(self, event, *args, **kwargs):\n",
    "        return self.__getitem__(event)\n",
    "        \n",
    "    def __getitem__(self, key):\n",
    "        \"\"\"\n",
    "        Not a sequence type;\n",
    "        Not implementing negative integers or accepting ranges\n",
    "        \"\"\"\n",
    "        \n",
    "        result = super().__getitem__(key)\n",
    "        if not result:\n",
    "            for alt_event in key.alt_events():\n",
    "                result = super().__getitem__(alt_event)\n",
    "                if result:\n",
    "                    break\n",
    "                    \n",
    "        return result\n",
    "    \n",
    "    def __set__(self, event, prob):\n",
    "       \n",
    "        assert event is not None, 'Event must be not None'\n",
    "            \n",
    "        prob = float(prob)\n",
    "        event = Event(event)\n",
    "        \n",
    "        assert 0 <= prob <= 1, 'Dont know probability of {0} ' \\\n",
    "        '{1} outside of limits 0 and 1'.format(event, prob) \n",
    "        \n",
    "        #If already set, dont continue\n",
    "        if self.get(event):\n",
    "            return \n",
    "        \n",
    "        print('setting event \"{}\" to prob {}'.format(event, prob))\n",
    "        super().__setitem__(event, prob)\n",
    "        \n",
    "        #Create Joint from Conditional and Single matching Original Event\n",
    "        #=================\n",
    "        #Scenario 1; event = P(A|B) and already have P(B)\n",
    "        #Can create P(A&B)\n",
    "        \n",
    "        \n",
    "        try:\n",
    "            conditional_event = event\n",
    "            conditional_prob = prob\n",
    "            \n",
    "            given_event = event.given()\n",
    "            given_event_prob = self[given_event]\n",
    "            \n",
    "            #Now set the probability (in the entire event space) \n",
    "            #of *both* the conditional event, and also the joint event; P(A&B):\n",
    "            #Who is the P(B) * P(A|B)\n",
    "            joint_event = conditional_event.posterior() & conditional_event.given()\n",
    "            joint_prob = conditional_prob * given_event_prob\n",
    "            \n",
    "            self.__set__(joint_event, joint_prob)\n",
    "            \n",
    "            #Create not from conditional\n",
    "            #=================\n",
    "            #Scenario 1a; event = P(A|B) \n",
    "            # Can create P(~A|B)\n",
    "            not_posterior_same_given = ~conditional_event.posterior()  | given_event\n",
    "            not_posterior_same_given_prob = 1 - prob\n",
    "            self.__set__(not_posterior_same_given, not_posterior_same_given_prob)\n",
    "            \n",
    "            \n",
    "            \n",
    "        except KeyError as e:\n",
    "            msg = 'dont have P({})'.format(given_event) if given_event is not None else 'no event.given()'\n",
    "            #print('No joint, {}'.format(msg))\n",
    "            \n",
    "        #Create Joint from Single and any matching Conditional\n",
    "        #================\n",
    "        #Scenario 2; event = P(B) and already have P(N|B); \n",
    "        #    notice how \"N\" could be anything! Could be more than one; for-loop it\n",
    "        #Can create P(N&B)\n",
    "        try:\n",
    "            original_prob = prob\n",
    "            original_event = event\n",
    "            conditional_events = [_ for _ in self.events() if _.given()==original_event][0]\n",
    "  \n",
    "            for conditional_event in conditional_events:\n",
    "                conditional_prob = self[conditional_event]\n",
    "                \n",
    "                joint_event = conditional_event.posterior() & conditional_event.given()\n",
    "                joint_prob = conditional_prob * original_prob\n",
    "                \n",
    "                #print('joint')\n",
    "                self.__set__(joint_event, joint_prob)\n",
    "            \n",
    "        except Exception as e:\n",
    "            pass#print('No joint, dont have events with original {}'.format(original_event))#pass#print('No scenario 2')\n",
    "            \n",
    "        #Create Joint from Single and any matching Conditional\n",
    "        #================\n",
    "        #Scenario 2; event = P(B) and already have P(N&B) or P(B&N)\n",
    "        #    notice how \"N\" could be anything! Could be more than one; for-loop it\n",
    "        #Can create P(N|B)\n",
    "        try:\n",
    "            original_prob = prob\n",
    "            original_event = event\n",
    "            import pdb\n",
    "            #if str(original_event)=='positive':\n",
    "            #    pdb.set_trace()\n",
    "            joint_events = [_ for _ in self.events() if original_event in _.joint()]#[0]\n",
    "  \n",
    "            for joint_event in joint_events:\n",
    "                joint_prob = self[joint_event]\n",
    "                other_event = [_ for _ in joint_event.joint() if _ !=original_event][0]\n",
    "                \n",
    "                conditional_event = other_event | original_event\n",
    "                conditional_prob = joint_prob / original_prob\n",
    "                \n",
    "                #print('jointtt')\n",
    "                self.__set__(conditional_event, conditional_prob)\n",
    "            \n",
    "        except Exception as e:\n",
    "            print(e)\n",
    "            \n",
    "        \n",
    "        #Create Single from Joint and other Single in Joint\n",
    "        #====================\n",
    "        #Scenario one; event = P(A&B) and ...\n",
    "        #we have P(A) so we can create P(A|B) \n",
    "        #or we have P(B) and we can create P(B|A)\n",
    "        e_1, e_2 = event.joint() \n",
    "        joint_event = event\n",
    "        joint_prob = prob\n",
    "        for original_event, second_event in ((e_1, e_2), (e_2, e_1)):\n",
    "            try:\n",
    "                original_prob = self[original_event]\n",
    "                \n",
    "                conditional_event = second_event | original_event\n",
    "                conditional_event_prob = joint_prob / original_prob\n",
    "                \n",
    "                #print('conditional')\n",
    "                self.__set__(conditional_event, conditional_event_prob)\n",
    "\n",
    "            except Exception as e:\n",
    "                pass#print('No conditional')#pass\n",
    "            \n",
    "            #Create Single from Joint and other Single in Joint\n",
    "            #====================\n",
    "            #Scenario one; event = P(A&B) and ...\n",
    "            #we have P(A&~B) so we can create P(A) \n",
    "            #or we have P(B&~A) and we can create P(B)\n",
    "            #And if we can do those, we have to put them back through this method, right?\n",
    "            try:\n",
    "                original_and_not_second_prob = self[original_event & ~second_event]\n",
    "                \n",
    "                full_original_event = original_event\n",
    "                full_original_event_prob = joint_prob + original_and_not_second_prob\n",
    "                \n",
    "                #print('conditional')\n",
    "                #print('full', full_original_event)\n",
    "                self.__set__(full_original_event, full_original_event_prob)\n",
    "\n",
    "            except Exception as e:\n",
    "                if original_event and second_event:\n",
    "                    pass# print(e)\n",
    "\n",
    "    def events(self):\n",
    "        return self.keys()\n",
    "    \n",
    "    def __setitem__(self, event, prob):\n",
    "        #IF we have P(A) we can get P(~A),\n",
    "        #And if the not would produce any other effects, we should follow those through\n",
    "        for event, prob in ((event, prob), (~event, 1-prob)):\n",
    "            #print(event, prob)\n",
    "            self.__set__(event, prob)\n",
    "        "
   ]
  },
  {
   "cell_type": "code",
   "execution_count": 17,
   "metadata": {
    "collapsed": false
   },
   "outputs": [
    {
     "name": "stdout",
     "output_type": "stream",
     "text": [
      "setting event \"cancer\" to prob 0.01\n",
      "setting event \"not(cancer)\" to prob 0.99\n",
      "setting event \"positive given cancer\" to prob 0.9\n",
      "setting event \"positive and cancer\" to prob 0.009000000000000001\n",
      "setting event \"not(positive) given cancer\" to prob 0.09999999999999998\n",
      "setting event \"not(positive) and cancer\" to prob 0.0009999999999999998\n",
      "setting event \"not(positive) given not(cancer)\" to prob 0.9\n",
      "setting event \"not(positive) and not(cancer)\" to prob 0.891\n",
      "setting event \"not(positive)\" to prob 0.892\n",
      "setting event \"cancer given not(positive)\" to prob 0.0011210762331838563\n",
      "setting event \"not(cancer) given not(positive)\" to prob 0.9988789237668162\n",
      "setting event \"positive given not(cancer)\" to prob 0.09999999999999998\n",
      "setting event \"positive and not(cancer)\" to prob 0.09899999999999998\n",
      "setting event \"positive\" to prob 0.10799999999999998\n",
      "setting event \"cancer given positive\" to prob 0.08333333333333336\n",
      "setting event \"not(cancer) given positive\" to prob 0.9166666666666666\n",
      "0.99\n",
      "0.9\n",
      "0.09999999999999998\n"
     ]
    }
   ],
   "source": [
    "\n",
    "P = Probability()\n",
    "C = Event('cancer')\n",
    "Pos = Event('positive') \n",
    "Neg = ~Pos\n",
    "p_g_c=Pos | C\n",
    "#print(p_g_c)\n",
    "#print(p_g_c.given())\n",
    "#print(p_g_c.posterior())\n",
    "#print(Pos | None)\n",
    "\n",
    "def cancer_test():\n",
    "    \"\"\"\n",
    "    The question being asked is this: 1% of the population has cancer. \n",
    "    Given that there is a 90% chance that you will test positive if you \n",
    "    have cancer and that there is a 90% chance you will test negative \n",
    "    if you don't have cancer, what is the probability that you have \n",
    "    cancer if you test positive?\n",
    "    \"\"\"\n",
    "\n",
    "    P = Probability()\n",
    "    C = Event('cancer')\n",
    "    Pos = Event('positive') \n",
    "    \n",
    "    P[C] = 0.01\n",
    "    P[Pos | C] = 0.9\n",
    "    P[~Pos | ~C] = 0.9\n",
    "\n",
    "    return P, C, Pos\n",
    "          \n",
    "P, C, Pos = cancer_test()\n",
    "\n",
    "# print(P(C | Pos))\n",
    "# print(P(~C | Pos))\n",
    "# print(P(C & Pos))\n",
    "# print(P(Pos & C))\n",
    "# print(P(~C & Pos))\n",
    "# print(P(Pos & ~C))\n",
    "print(P[~C])\n",
    "print(P[~Pos|~C])\n",
    "print(P[Pos|~C])"
   ]
  },
  {
   "cell_type": "markdown",
   "metadata": {},
   "source": [
    "![See the venn diagram that Sebastian drew](img/venn_diagram.png)"
   ]
  },
  {
   "cell_type": "code",
   "execution_count": 6,
   "metadata": {
    "collapsed": false
   },
   "outputs": [
    {
     "data": {
      "text/plain": [
       "[None, None]"
      ]
     },
     "execution_count": 6,
     "metadata": {},
     "output_type": "execute_result"
    }
   ],
   "source": [
    "(C | Pos).joint()"
   ]
  },
  {
   "cell_type": "code",
   "execution_count": 7,
   "metadata": {
    "collapsed": false
   },
   "outputs": [
    {
     "data": {
      "text/plain": [
       "(Event(\"cancer\"), Event(\"positive\"))"
      ]
     },
     "execution_count": 7,
     "metadata": {},
     "output_type": "execute_result"
    }
   ],
   "source": [
    "(C | Pos).posterior() , (C | Pos).given()"
   ]
  },
  {
   "cell_type": "code",
   "execution_count": 8,
   "metadata": {
    "collapsed": false
   },
   "outputs": [
    {
     "data": {
      "text/plain": [
       "[Event(\"cancer\"), Event(\"positive\")]"
      ]
     },
     "execution_count": 8,
     "metadata": {},
     "output_type": "execute_result"
    }
   ],
   "source": [
    "(C & Pos).joint()"
   ]
  },
  {
   "cell_type": "code",
   "execution_count": 16,
   "metadata": {
    "collapsed": false
   },
   "outputs": [
    {
     "name": "stdout",
     "output_type": "stream",
     "text": [
      "[(Event(\"cancer\"), 0.01),\n",
      " (Event(\"not(cancer)\"), 0.99),\n",
      " (Event(\"positive given cancer\"), 0.9),\n",
      " (Event(\"positive and cancer\"), 0.009000000000000001),\n",
      " (Event(\"not(positive) given cancer\"), 0.09999999999999998),\n",
      " (Event(\"not(positive) and cancer\"), 0.0009999999999999998),\n",
      " (Event(\"not(positive) given not(cancer)\"), 0.9),\n",
      " (Event(\"not(positive) and not(cancer)\"), 0.891),\n",
      " (Event(\"not(positive)\"), 0.892),\n",
      " (Event(\"cancer given not(positive)\"), 0.0011210762331838563),\n",
      " (Event(\"not(cancer) given not(positive)\"), 0.9988789237668162),\n",
      " (Event(\"positive given not(cancer)\"), 0.09999999999999998),\n",
      " (Event(\"positive and not(cancer)\"), 0.09899999999999998),\n",
      " (Event(\"positive\"), 0.10799999999999998),\n",
      " (Event(\"cancer given positive\"), 0.08333333333333336),\n",
      " (Event(\"not(cancer) given positive\"), 0.9166666666666666)]\n",
      "Should have 16 long. 2 for the cancer vs ~cancer. 2 for the pos vs ~pos. 4 for the combination of \"givens\" in one direction, 4 for the combinations of \"givens\" in the other direction, and  4 for the combination of \"ands\" in the middle\n",
      "16\n"
     ]
    }
   ],
   "source": [
    "import pprint\n",
    "pprint.pprint(list(P.items()))\n",
    "print('Should have 16 long. 2 for the cancer vs ~cancer. 2 for the pos vs ~pos. 4 for the combination of \"givens\" in one direction, 4 for the combinations of \"givens\" in the other direction, and  4 for the combination of \"ands\" in the middle')\n",
    "pprint.pprint(len(list(P.items())))"
   ]
  },
  {
   "cell_type": "code",
   "execution_count": 14,
   "metadata": {
    "collapsed": false
   },
   "outputs": [
    {
     "data": {
      "text/plain": [
       "1.0"
      ]
     },
     "execution_count": 14,
     "metadata": {},
     "output_type": "execute_result"
    }
   ],
   "source": [
    "0.892 + 0.107999999999999999999\n"
   ]
  },
  {
   "cell_type": "code",
   "execution_count": 55,
   "metadata": {
    "collapsed": false
   },
   "outputs": [
    {
     "data": {
      "text/plain": [
       "0.16666666666666666"
      ]
     },
     "execution_count": 55,
     "metadata": {},
     "output_type": "execute_result"
    }
   ],
   "source": [
    "1/6."
   ]
  },
  {
   "cell_type": "code",
   "execution_count": 40,
   "metadata": {
    "collapsed": false
   },
   "outputs": [
    {
     "data": {
      "text/plain": [
       "dict_keys([Event(\"cancer\"), Event(\"not(cancer)\"), Event(\"positive given cancer\"), Event(\"positive and cancer\"), Event(\"not(positive) given cancer\"), Event(\"not(positive) and cancer\"), Event(\"not(positive) given not(cancer)\"), Event(\"not(positive) and not(cancer)\"), Event(\"positive given not(cancer)\"), Event(\"positive and not(cancer)\")])"
      ]
     },
     "execution_count": 40,
     "metadata": {},
     "output_type": "execute_result"
    }
   ],
   "source": [
    "P.keys()"
   ]
  },
  {
   "cell_type": "code",
   "execution_count": 236,
   "metadata": {
    "collapsed": false
   },
   "outputs": [
    {
     "data": {
      "text/plain": [
       "True"
      ]
     },
     "execution_count": 236,
     "metadata": {},
     "output_type": "execute_result"
    }
   ],
   "source": [
    "'Event(\"cancer\", 0.5)' == 'Event(\"cancer\", 0.5)'"
   ]
  },
  {
   "cell_type": "code",
   "execution_count": 20,
   "metadata": {
    "collapsed": false
   },
   "outputs": [
    {
     "data": {
      "text/plain": [
       "0.10799999999999998"
      ]
     },
     "execution_count": 20,
     "metadata": {},
     "output_type": "execute_result"
    }
   ],
   "source": [
    "def normalizing_1():\n",
    "    return (P(C&Pos) + P(~C&Pos))\n",
    "normalizing_1()"
   ]
  },
  {
   "cell_type": "code",
   "execution_count": 21,
   "metadata": {
    "collapsed": true
   },
   "outputs": [],
   "source": [
    "assert np.isclose(normalizing_1(), 0.108), 'Normalized sum of P(C&Pos) + P(~C&Pos) should be around 0.108'"
   ]
  },
  {
   "cell_type": "code",
   "execution_count": 28,
   "metadata": {
    "collapsed": false
   },
   "outputs": [
    {
     "data": {
      "text/plain": [
       "0.08333333333333336"
      ]
     },
     "execution_count": 28,
     "metadata": {},
     "output_type": "execute_result"
    }
   ],
   "source": [
    "def normalizing_2():\n",
    "    return P(C|Pos)\n",
    "normalizing_2()"
   ]
  },
  {
   "cell_type": "code",
   "execution_count": 24,
   "metadata": {
    "collapsed": false
   },
   "outputs": [
    {
     "data": {
      "text/plain": [
       "(0.009000000000000001, 0.10799999999999998)"
      ]
     },
     "execution_count": 24,
     "metadata": {},
     "output_type": "execute_result"
    }
   ],
   "source": [
    "P(C&Pos),P(Pos)"
   ]
  },
  {
   "cell_type": "code",
   "execution_count": 30,
   "metadata": {
    "collapsed": false
   },
   "outputs": [],
   "source": [
    "assert np.isclose(normalizing_2(), 0.0833333), 'The P(C|Pos) 0.0833, which is P(C&Pos) / P(Pos) = 0.009 / 0.108 = 0.0833 '"
   ]
  },
  {
   "cell_type": "code",
   "execution_count": 31,
   "metadata": {
    "collapsed": false
   },
   "outputs": [
    {
     "data": {
      "text/plain": [
       "0.0833333"
      ]
     },
     "execution_count": 31,
     "metadata": {},
     "output_type": "execute_result"
    }
   ],
   "source": [
    "0.0833333"
   ]
  },
  {
   "cell_type": "code",
   "execution_count": 26,
   "metadata": {
    "collapsed": false
   },
   "outputs": [
    {
     "data": {
      "text/plain": [
       "0.08333333333333333"
      ]
     },
     "execution_count": 26,
     "metadata": {},
     "output_type": "execute_result"
    }
   ],
   "source": [
    " 0.009 / 0.108"
   ]
  },
  {
   "cell_type": "code",
   "execution_count": 33,
   "metadata": {
    "collapsed": false
   },
   "outputs": [
    {
     "data": {
      "text/plain": [
       "0.9166666666666666"
      ]
     },
     "execution_count": 33,
     "metadata": {},
     "output_type": "execute_result"
    }
   ],
   "source": [
    "def normalizing_3():\n",
    "    return P(~C|Pos)\n",
    "normalizing_3()"
   ]
  },
  {
   "cell_type": "code",
   "execution_count": 35,
   "metadata": {
    "collapsed": false
   },
   "outputs": [
    {
     "data": {
      "text/plain": [
       "0.09899999999999998"
      ]
     },
     "execution_count": 35,
     "metadata": {},
     "output_type": "execute_result"
    }
   ],
   "source": [
    "P(~C&Pos)"
   ]
  },
  {
   "cell_type": "code",
   "execution_count": 36,
   "metadata": {
    "collapsed": false
   },
   "outputs": [
    {
     "data": {
      "text/plain": [
       "0.916574074074074"
      ]
     },
     "execution_count": 36,
     "metadata": {},
     "output_type": "execute_result"
    }
   ],
   "source": [
    "0.09899 / 0.108"
   ]
  },
  {
   "cell_type": "code",
   "execution_count": 37,
   "metadata": {
    "collapsed": true
   },
   "outputs": [],
   "source": [
    "assert np.isclose(normalizing_3(), 0.916666), 'The P(~C|Pos) 0.9166, which is P(~C&Pos) / P(Pos) = 0.09899 / 0.108 = 0.91657'"
   ]
  },
  {
   "cell_type": "code",
   "execution_count": 39,
   "metadata": {
    "collapsed": false
   },
   "outputs": [
    {
     "data": {
      "text/plain": [
       "1.0"
      ]
     },
     "execution_count": 39,
     "metadata": {},
     "output_type": "execute_result"
    }
   ],
   "source": [
    "def total_probability():\n",
    "    return P(C|Pos) + P(~C|Pos)\n",
    "total_probability()"
   ]
  },
  {
   "cell_type": "code",
   "execution_count": 40,
   "metadata": {
    "collapsed": true
   },
   "outputs": [],
   "source": [
    "assert np.isclose(total_probability(), 1.0), 'total_probability, which can only be a sum of conditional probabilities, should be 1, not {}'.format(total_probability())"
   ]
  },
  {
   "cell_type": "markdown",
   "metadata": {},
   "source": [
    "![Nate added more stuff](img/diagram remade.png)"
   ]
  },
  {
   "cell_type": "code",
   "execution_count": null,
   "metadata": {
    "collapsed": true
   },
   "outputs": [],
   "source": []
  }
 ],
 "metadata": {
  "kernelspec": {
   "display_name": "Python 3",
   "language": "python",
   "name": "python3"
  },
  "language_info": {
   "codemirror_mode": {
    "name": "ipython",
    "version": 3
   },
   "file_extension": ".py",
   "mimetype": "text/x-python",
   "name": "python",
   "nbconvert_exporter": "python",
   "pygments_lexer": "ipython3",
   "version": "3.6.0"
  }
 },
 "nbformat": 4,
 "nbformat_minor": 0
}
