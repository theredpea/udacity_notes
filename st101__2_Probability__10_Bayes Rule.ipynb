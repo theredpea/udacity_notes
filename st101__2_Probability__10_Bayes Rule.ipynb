{
 "metadata": {
  "name": "",
  "signature": "sha256:aac7ad603243de75f78a0cc260615acd80a9c93fcd4060724756506f21f88177"
 },
 "nbformat": 3,
 "nbformat_minor": 0,
 "worksheets": [
  {
   "cells": [
    {
     "cell_type": "code",
     "collapsed": false,
     "input": [
      "import itertools\n",
      "import pandas as pd\n",
      "import numpy as np\n",
      "import matplotlib.pyplot as plt\n",
      "import functools\n",
      "\n",
      "%matplotlib inline\n"
     ],
     "language": "python",
     "metadata": {},
     "outputs": [],
     "prompt_number": 1
    },
    {
     "cell_type": "markdown",
     "metadata": {},
     "source": [
      "#Bayes Rule\n",
      " - Reverend Thomas Bayes\n",
      " - To infers existence of God\n",
      " - Informed Artificial Intelligence\n"
     ]
    },
    {
     "cell_type": "code",
     "collapsed": false,
     "input": [
      "def cancer_test():\n",
      "    \"\"\"\n",
      "    :returns: P(C|P);\n",
      "    Prob you have cancer given the test is positive\n",
      "    Solution: https://www.udacity.com/course/viewer#!/c-st101/l-48703346/e-48759018/m-48480554\n",
      "    \n",
      "    \"\"\"\n",
      "    #returning this suggests your chances of having cancer\n",
      "    #Haven't changed regardless of the test returning positive\n",
      "    p_c = 0.01 \n",
      "    \n",
      "    #Returning this is an answer to a different question;\n",
      "    #this is the probability of positive test result\n",
      "    #This question asks about the probability of cancer\n",
      "    p_p_g_c = 0.9\n",
      "    \n",
      "    p_c_g_p = 0.08\n",
      "    \n",
      "    #Since sensitivity (i.e. the amount of confidence we can put)\n",
      "    #That a positive test means a positive cancer?\n",
      "    #Is high; we expect it increases our chances from the generic population\n",
      "    assert p_c_g_p > p_c\n",
      "    \n",
      "    #And no relation to p_p_g_c; different question\n",
      "    \n",
      "    return p_c_g_p\n",
      "    "
     ],
     "language": "python",
     "metadata": {},
     "outputs": [],
     "prompt_number": 8
    },
    {
     "cell_type": "code",
     "collapsed": false,
     "input": [
      "class Event(object):\n",
      "    \n",
      "    GIVEN = ' given '\n",
      "    NOT = 'not '\n",
      "    AND = ' and '\n",
      "    NEGATIVE = 'negative'\n",
      "    POSITIVE = 'positive'\n",
      "    \n",
      "    #def __new__(cls, name, prob, prob_universeprob_population={}):\n",
      "    #    return super().__new__(cls, name, prob, prob_population)\n",
      "    # Was gonna check first the population, but...\n",
      "    \n",
      "    def __init__(self, name):#, *args, **kwargs):\n",
      "        self.__name = name.strip()\n",
      "        \n",
      "    def __neg__(self):\n",
      "        return self.__invert__()\n",
      "    \n",
      "    def __invert__(self):\n",
      "        \"\"\"\n",
      "        The idea of a binary event\n",
      "        :returns: the 'inverse' of this event; this event not-happening\n",
      "        \"\"\"\n",
      "        if self.NOT in self.__name:\n",
      "            not_name = self.__name.replace(self.NOT, '')\n",
      "        else:\n",
      "            #if self.POSITIVE in self.__name:\n",
      "            #    not_name = self.__name.replace(self.POSITIVE, self.NEGATIVE)\n",
      "            #elif self.NEGATIVE in self.__name:\n",
      "            #    not_name = self.__name.replace(self.NEGATIVE, self.POSITIVE)\n",
      "            #else:\n",
      "            not_name = '{0}{1}'.format(self.NOT, self.__name)\n",
      "        \n",
      "        #not_prob = 1-self.__prob\n",
      "        return Event(not_name) #not_prob, self.__probs)\n",
      "    \n",
      "    def __or__(self, event_2):\n",
      "        \"\"\"Notice this would *not* support\n",
      "        transitive property as \"or\" normally should\n",
      "        Though I guess \"truthied\" things aren't actually transitive\n",
      "        (A__or__B == B__or__A)\n",
      "        \"\"\"\n",
      "        return self.given(event_2)\n",
      "    \n",
      "    def __and__(self, event_2):\n",
      "        \"\"\"Notice this would *not* support\n",
      "        transitive property as \"or\" normally should\n",
      "        Though I guess \"truthied\" things aren't actually transitive\n",
      "        (A__or__B == B__or__A)\n",
      "        \"\"\"\n",
      "        return self.joint(event_2)\n",
      "    \n",
      "    def joint(self, event_2=None):\n",
      "        if event_2 is None:\n",
      "            if self.AND in self.__name:\n",
      "                return [Event(_) for _ in self.__name.split(self.AND)]\n",
      "        else:\n",
      "            and_name = '{0}{1}{2}'.format(self, self.AND, event_2)\n",
      "            return Event(and_name)\n",
      "\n",
      "    def posterior(self):\n",
      "        if self.GIVEN in self.__name:\n",
      "            #assert self.GIVEN in self.__name, 'No second event'\n",
      "            return Event(self.__name.split(self.GIVEN)[0])\n",
      "            \n",
      "            \n",
      "   \n",
      "    def given(self, event_2=None):\n",
      "        \n",
      "        if event_2 is None:\n",
      "            \n",
      "            if self.GIVEN in self.__name:\n",
      "                #assert self.GIVEN in self.__name, 'No first event'\n",
      "                return Event(self.__name.split(self.GIVEN)[1])\n",
      "            \n",
      "        else:\n",
      "            given_name = '{0}{1}{2}'.format(self, self.GIVEN, event_2)\n",
      "            #given_prob = prob\n",
      "            return Event(given_name) #, given_prob, self.__probs)\n",
      "   \n",
      "    def __nickname__(self):\n",
      "        \"\"\"\n",
      "        Would want nicknames for like 'gay' could by 'G'\n",
      "        And other  conventions (saved as constants) like 'N' for 'not'\n",
      "        \n",
      "        'G' for given; or the symbol '|'\n",
      "        'A' for and; or the symbol or acceptable '&'\n",
      "        \"\"\"\n",
      "        return (self.__name\n",
      "                .replace(' given ', '|')\n",
      "                .replace(' and ', ',')\n",
      "                .upper())\n",
      "        \n",
      "    def __repr__(self):\n",
      "        return 'Event(\"{}\")'.format(self.__name)\n",
      "\n",
      "    def __str__(self):\n",
      "        return self.__name\n",
      "\n",
      "    def __hash__(self):\n",
      "        return hash(tuple(sorted(self.__name.split(self.AND))))\n",
      "\n",
      "    def __eq__(self, other):\n",
      "        return hash(self) == hash(other)"
     ],
     "language": "python",
     "metadata": {},
     "outputs": [],
     "prompt_number": 456
    },
    {
     "cell_type": "code",
     "collapsed": false,
     "input": [
      "class Probability(dict):\n",
      "        \n",
      "    def __call__(self, event, *args, **kwargs):\n",
      "        return self.__getitem__(event)\n",
      "        \n",
      "    def __getitem__(self, key):\n",
      "        \"\"\"\n",
      "        Not a sequence type;\n",
      "        Not implementing negative integers or accepting ranges\n",
      "        \"\"\"\n",
      "        \n",
      "        return super().__getitem__(key)\n",
      "    \n",
      "    def set_with_inverse(self, event, prob):\n",
      "        super().__setitem__(event, prob)\n",
      "        super().__setitem__(~event, 1-prob)\n",
      "    def __setitem__(self, event, probability):\n",
      "        \n",
      "        prob = float(probability)\n",
      "        event = Event(str(event))\n",
      "        \n",
      "        assert 0 <= float(value) <= 1, 'Dont know probability of {0} ' \\\n",
      "        '{1} outside of limits 0 and 1'.format(event, prob) \n",
      "        \n",
      "        self.set_with_inverse(event, prob)\n",
      "        \n",
      "        #Conditional Probability\n",
      "        #Scenario 1; event = P(A|B) and already have self.get(P(B))\n",
      "        #Scenario 2; event = P(B) and already have P(A|B)\n",
      "        \n",
      "        if self.get(event.given()) is not None:\n",
      "            \n",
      "            joint_event = event.posterior() & event.given()\n",
      "            \n",
      "            #Bayes rule P(A&B) =P(A|B)\n",
      "            joint_event_val = prob * self.get(event.given())\n",
      "            \n",
      "            self.set_with_inverse(joint_event, joint_event_val)\n",
      "        \n",
      "        if \n",
      "            "
     ],
     "language": "python",
     "metadata": {},
     "outputs": [],
     "prompt_number": 457
    },
    {
     "cell_type": "code",
     "collapsed": false,
     "input": [
      "\n",
      "P = Probability()\n",
      "P['cancer'] = 0.5\n",
      "cancer = Event('cancer')\n",
      "pos = Event('test positive')\n",
      "P[cancer] = 0.5"
     ],
     "language": "python",
     "metadata": {},
     "outputs": [],
     "prompt_number": 458
    },
    {
     "cell_type": "code",
     "collapsed": false,
     "input": [
      "(cancer | pos).joint()"
     ],
     "language": "python",
     "metadata": {},
     "outputs": [],
     "prompt_number": 461
    },
    {
     "cell_type": "code",
     "collapsed": false,
     "input": [
      "(cancer & pos).joint()"
     ],
     "language": "python",
     "metadata": {},
     "outputs": [
      {
       "metadata": {},
       "output_type": "pyout",
       "prompt_number": 460,
       "text": [
        "[Event(\"cancer\"), Event(\"test positive\")]"
       ]
      }
     ],
     "prompt_number": 460
    },
    {
     "cell_type": "code",
     "collapsed": false,
     "input": [
      "P.items()"
     ],
     "language": "python",
     "metadata": {},
     "outputs": [
      {
       "metadata": {},
       "output_type": "pyout",
       "prompt_number": 435,
       "text": [
        "dict_items([(Event(\"test positive and cancer\"), 0.020000000000000004), (Event(\"not cancer\"), 0.5), (Event(\"cancer\"), 0.5), (Event(\"not cancer given test positive\"), 0.8), (Event(\"test positive\"), 0.1), (Event(\"not test positive\"), 0.9), (Event(\"cancer given test positive\"), 0.2), (Event(\"not test positive and cancer\"), 0.98)])"
       ]
      }
     ],
     "prompt_number": 435
    },
    {
     "cell_type": "code",
     "collapsed": false,
     "input": [],
     "language": "python",
     "metadata": {},
     "outputs": [
      {
       "ename": "TypeError",
       "evalue": "__init__() takes 2 positional arguments but 3 were given",
       "output_type": "pyerr",
       "traceback": [
        "\u001b[1;31m---------------------------------------------------------------------------\u001b[0m\n\u001b[1;31mTypeError\u001b[0m                                 Traceback (most recent call last)",
        "\u001b[1;32m<ipython-input-370-271d8e2fb39f>\u001b[0m in \u001b[0;36m<module>\u001b[1;34m()\u001b[0m\n\u001b[1;32m----> 1\u001b[1;33m \u001b[0mpositive\u001b[0m \u001b[1;33m=\u001b[0m \u001b[0mEvent\u001b[0m\u001b[1;33m(\u001b[0m\u001b[1;34m'positive'\u001b[0m\u001b[1;33m,\u001b[0m \u001b[1;36m0.2\u001b[0m\u001b[1;33m)\u001b[0m\u001b[1;33m\u001b[0m\u001b[0m\n\u001b[0m\u001b[0;32m      2\u001b[0m \u001b[0mcancer\u001b[0m\u001b[1;33m.\u001b[0m\u001b[0mgiven\u001b[0m\u001b[1;33m(\u001b[0m\u001b[0mpositive\u001b[0m\u001b[1;33m,\u001b[0m \u001b[1;36m0.1\u001b[0m\u001b[1;33m)\u001b[0m\u001b[1;33m\u001b[0m\u001b[0m\n",
        "\u001b[1;31mTypeError\u001b[0m: __init__() takes 2 positional arguments but 3 were given"
       ]
      }
     ],
     "prompt_number": 370
    },
    {
     "cell_type": "code",
     "collapsed": false,
     "input": [
      "P.all().keys()"
     ],
     "language": "python",
     "metadata": {},
     "outputs": [
      {
       "metadata": {},
       "output_type": "pyout",
       "prompt_number": 264,
       "text": [
        "dict_keys([<__main__.Event object at 0x0000000005411E48>])"
       ]
      }
     ],
     "prompt_number": 264
    },
    {
     "cell_type": "code",
     "collapsed": false,
     "input": [
      "'Event(\"cancer\", 0.5)' == 'Event(\"cancer\", 0.5)'"
     ],
     "language": "python",
     "metadata": {},
     "outputs": [
      {
       "metadata": {},
       "output_type": "pyout",
       "prompt_number": 236,
       "text": [
        "True"
       ]
      }
     ],
     "prompt_number": 236
    },
    {
     "cell_type": "code",
     "collapsed": false,
     "input": [],
     "language": "python",
     "metadata": {},
     "outputs": []
    }
   ],
   "metadata": {}
  }
 ]
}