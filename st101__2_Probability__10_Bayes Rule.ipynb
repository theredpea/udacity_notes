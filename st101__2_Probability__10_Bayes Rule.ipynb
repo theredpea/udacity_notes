{
 "metadata": {
  "name": "",
  "signature": "sha256:8bc12a506424e0469237e9899eb16079441183901440f04c9568d0e046f51b51"
 },
 "nbformat": 3,
 "nbformat_minor": 0,
 "worksheets": [
  {
   "cells": [
    {
     "cell_type": "code",
     "collapsed": false,
     "input": [
      "import itertools\n",
      "import pandas as pd\n",
      "import numpy as np\n",
      "import matplotlib.pyplot as plt\n",
      "import functools\n",
      "\n",
      "%matplotlib inline\n"
     ],
     "language": "python",
     "metadata": {},
     "outputs": [],
     "prompt_number": 1
    },
    {
     "cell_type": "markdown",
     "metadata": {},
     "source": [
      "#Bayes Rule\n",
      " - Reverend Thomas Bayes\n",
      " - To infers existence of God\n",
      " - Informed Artificial Intelligence\n"
     ]
    },
    {
     "cell_type": "code",
     "collapsed": false,
     "input": [
      "def cancer_test():\n",
      "    \"\"\"\n",
      "    :returns: P(C|P);\n",
      "    Prob you have cancer given the test is positive\n",
      "    Solution: https://www.udacity.com/course/viewer#!/c-st101/l-48703346/e-48759018/m-48480554\n",
      "    \n",
      "    \"\"\"\n",
      "    #returning this suggests your chances of having cancer\n",
      "    #Haven't changed regardless of the test returning positive\n",
      "    p_c = 0.01 \n",
      "    \n",
      "    #Returning this is an answer to a different question;\n",
      "    #this is the probability of positive test result\n",
      "    #This question asks about the probability of cancer\n",
      "    p_p_g_c = 0.9\n",
      "    \n",
      "    p_c_g_p = 0.08\n",
      "    \n",
      "    #Since sensitivity (i.e. the amount of confidence we can put)\n",
      "    #That a positive test means a positive cancer?\n",
      "    #Is high; we expect it increases our chances from the generic population\n",
      "    assert p_c_g_p > p_c\n",
      "    \n",
      "    #And no relation to p_p_g_c; different question\n",
      "    \n",
      "    return p_c_g_p\n",
      "    "
     ],
     "language": "python",
     "metadata": {},
     "outputs": [],
     "prompt_number": 8
    },
    {
     "cell_type": "code",
     "collapsed": false,
     "input": [
      "class Event(object):\n",
      "    \n",
      "    #def __new__(cls, name, prob, prob_universe={}):\n",
      "    #    return super().__new__(cls, name, prob, prob_universe)\n",
      "    # Was gonna check first the universe, but...\n",
      "    \n",
      "    def __init__(self, name, prob, prob_universe={}):\n",
      "        \n",
      "        #assert prob<=1, 'Probability must be <= 1'\n",
      "        self.__name = name\n",
      "        self.__prob_universe = prob_universe\n",
      "        \n",
      "        self.__prob = prob or self.__prob_universe.get(self.__name, -1)\n",
      "        self.__prob_universe[name] = self.__prob\n",
      "        \n",
      "        self.__givens = {}\n",
      "        self.prop = 'value'\n",
      "        \n",
      "    def __setattr__(self, name, value):\n",
      "        \n",
      "        #Check if it's prob, which has a special value\n",
      "        #print(name)\n",
      "        if name=='_Event__prob':\n",
      "            self.__prob_universe[name] = self #value\n",
      "        object.__setattr__(self, name, value)\n",
      "\n",
      "            \n",
      "    def __neg__(self):\n",
      "        return self.__invert__()\n",
      "    \n",
      "    def __invert__(self):\n",
      "        \"\"\"\n",
      "        The idea of a binary event\n",
      "        :returns: the 'inverse' of this event; this event not-happening\n",
      "        \"\"\"\n",
      "        return Event('not ' + self.__name, 1-self.__prob)\n",
      "    \n",
      "    def __or__(self, event_2):\n",
      "        \"\"\"Notice this would *not* support\n",
      "        transitive property as \"or\" normally should\n",
      "        Though I guess \"truthied\" things aren't actually transitive\n",
      "        (A__or__B == B__or__A)\n",
      "        \"\"\"\n",
      "        return self.given(event_2, -1)\n",
      "    \n",
      "    def given(self, event_2, prob=None):\n",
      "        __e = Event('{0} given {1}'.format(self.__name, event_2.__name), prob)\n",
      "        self.__givens[str(event_2)] = __e\n",
      "        return __e\n",
      "    \n",
      "    def prob(self):\n",
      "        assert 0 <= self.__prob <= 1, 'Dont know probability of {0} ' \\\n",
      "        '{1} outside of limits 0 and 1'.format(self.__name, self.__prob) \n",
      "        return self.__prob\n",
      "\n",
      "    def __repr__(self):\n",
      "        return 'Event(\"{0}\", {1})'.format(self.__name, self.__prob)\n",
      "    \n",
      "    def __str__(self):\n",
      "        return self.__name\n",
      "    \n",
      "    def __nickname__(self):\n",
      "        #Would want nicknames for like 'gay' could by 'G'\n",
      "        #And other  conventions like 'N' for 'not'\n",
      "        #'G' for given; or the symbol '|'\n",
      "        #'A' for and; or the symbol or acceptable '&'\n",
      "        return (self.__name\n",
      "                .replace(' given ', '|')\n",
      "                .replace(' and ', ',')\n",
      "                .upper())\n",
      "        \n",
      "    def __float__(self):\n",
      "        return self.prob()\n",
      "    \n",
      "class Probability(object):\n",
      "    \n",
      "    def __init__(self, universe={}):\n",
      "        \"\"\"\n",
      "        :params universe: a dictionary; \n",
      "        keys are event names, \n",
      "        values are \n",
      "        \"\"\"\n",
      "        self.__universe = universe\n",
      "        \n",
      "    def __call__(self, event, *args, **kwargs):\n",
      "        return self.__getitem__(event)\n",
      "    \n",
      "    def __getitem__(self, key):\n",
      "        \"\"\"\n",
      "        Not a sequence type;\n",
      "        Not implementing negative integers or accepting ranges\n",
      "        \"\"\"\n",
      "        \n",
      "        #First treat it like an object; they know their own.\n",
      "        try:\n",
      "            self.__universe[key] = key.prob()\n",
      "            self.__universe[str(~key)] = (~key).prob()\n",
      "        except AttributeError as e:\n",
      "            try:\n",
      "                return float(self.__universe[key])\n",
      "                \n",
      "            except AttributeError as e:\n",
      "                \n",
      "                raise Exception('Do not know probability of this event')\n",
      "    \n",
      "    def all(self):\n",
      "        \n",
      "        return self.__universe"
     ],
     "language": "python",
     "metadata": {},
     "outputs": [],
     "prompt_number": 171
    },
    {
     "cell_type": "code",
     "collapsed": false,
     "input": [
      "cancer = Event('cancer', 0.5)"
     ],
     "language": "python",
     "metadata": {},
     "outputs": [],
     "prompt_number": 166
    },
    {
     "cell_type": "code",
     "collapsed": false,
     "input": [
      "universe = {}\n",
      "P = Probability()\n",
      "cancer.prob()"
     ],
     "language": "python",
     "metadata": {},
     "outputs": [
      {
       "metadata": {},
       "output_type": "pyout",
       "prompt_number": 167,
       "text": [
        "0.5"
       ]
      }
     ],
     "prompt_number": 167
    },
    {
     "cell_type": "code",
     "collapsed": false,
     "input": [
      "P(cancer)\n",
      "P.all()"
     ],
     "language": "python",
     "metadata": {},
     "outputs": [
      {
       "metadata": {},
       "output_type": "pyout",
       "prompt_number": 168,
       "text": [
        "{Event(\"cancer\", 0.5): 0.5, 'not cancer': 0.5}"
       ]
      }
     ],
     "prompt_number": 168
    },
    {
     "cell_type": "code",
     "collapsed": false,
     "input": [
      "P(~cancer)"
     ],
     "language": "python",
     "metadata": {},
     "outputs": [],
     "prompt_number": 169
    },
    {
     "cell_type": "code",
     "collapsed": false,
     "input": [
      "positive = Event('positive', 0.2)\n",
      "cancer.given(positive, 0.1)"
     ],
     "language": "python",
     "metadata": {},
     "outputs": [
      {
       "metadata": {},
       "output_type": "pyout",
       "prompt_number": 170,
       "text": [
        "Event(\"cancer given positive\", 0.1)"
       ]
      }
     ],
     "prompt_number": 170
    },
    {
     "cell_type": "code",
     "collapsed": false,
     "input": [
      "P.all()"
     ],
     "language": "python",
     "metadata": {},
     "outputs": []
    },
    {
     "cell_type": "code",
     "collapsed": false,
     "input": [],
     "language": "python",
     "metadata": {},
     "outputs": []
    }
   ],
   "metadata": {}
  }
 ]
}