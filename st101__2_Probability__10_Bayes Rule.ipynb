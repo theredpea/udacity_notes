{
 "metadata": {
  "name": "",
  "signature": "sha256:ff4fd46876ff5ccca7369391017e3791ea22ddfbb8f07e7550db71af861c6a6d"
 },
 "nbformat": 3,
 "nbformat_minor": 0,
 "worksheets": [
  {
   "cells": [
    {
     "cell_type": "code",
     "collapsed": false,
     "input": [
      "import itertools\n",
      "import pandas as pd\n",
      "import numpy as np\n",
      "import matplotlib.pyplot as plt\n",
      "import functools\n",
      "\n",
      "%matplotlib inline\n"
     ],
     "language": "python",
     "metadata": {},
     "outputs": [],
     "prompt_number": 1
    },
    {
     "cell_type": "markdown",
     "metadata": {},
     "source": [
      "#Bayes Rule\n",
      " - Reverend Thomas Bayes\n",
      " - To infers existence of God\n",
      " - Informed Artificial Intelligence\n"
     ]
    },
    {
     "cell_type": "code",
     "collapsed": false,
     "input": [
      "def cancer_test():\n",
      "    \"\"\"\n",
      "    :returns: P(C|P);\n",
      "    Prob you have cancer given the test is positive\n",
      "    Solution: https://www.udacity.com/course/viewer#!/c-st101/l-48703346/e-48759018/m-48480554\n",
      "    \n",
      "    \"\"\"\n",
      "    #returning this suggests your chances of having cancer\n",
      "    #Haven't changed regardless of the test returning positive\n",
      "    p_c = 0.01 \n",
      "    \n",
      "    #Returning this is an answer to a different question;\n",
      "    #this is the probability of positive test result\n",
      "    #This question asks about the probability of cancer\n",
      "    p_p_g_c = 0.9\n",
      "    \n",
      "    p_c_g_p = 0.08\n",
      "    \n",
      "    #Since sensitivity (i.e. the amount of confidence we can put)\n",
      "    #That a positive test means a positive cancer?\n",
      "    #Is high; we expect it increases our chances from the generic population\n",
      "    assert p_c_g_p > p_c\n",
      "    \n",
      "    #And no relation to p_p_g_c; different question\n",
      "    \n",
      "    return p_c_g_p\n",
      "    "
     ],
     "language": "python",
     "metadata": {},
     "outputs": [],
     "prompt_number": 8
    },
    {
     "cell_type": "code",
     "collapsed": false,
     "input": [
      "class Event(object):\n",
      "    \n",
      "    def __init__(name, prob):\n",
      "        \n",
      "        assert prob<=1, 'Probability must be <= 1'\n",
      "        self.__name = name\n",
      "        self.__prob = prob\n",
      "        \n",
      "    def __neg__(self):\n",
      "        \n",
      "        return 1-self.__prob"
     ],
     "language": "python",
     "metadata": {},
     "outputs": [
      {
       "metadata": {},
       "output_type": "pyout",
       "prompt_number": 7,
       "text": [
        "0.08"
       ]
      }
     ],
     "prompt_number": 7
    },
    {
     "cell_type": "code",
     "collapsed": false,
     "input": [],
     "language": "python",
     "metadata": {},
     "outputs": []
    }
   ],
   "metadata": {}
  }
 ]
}