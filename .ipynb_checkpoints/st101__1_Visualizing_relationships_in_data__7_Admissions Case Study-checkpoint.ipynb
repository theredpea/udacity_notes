{
 "metadata": {
  "name": "",
  "signature": "sha256:547d7e0fd3adaeab3ac8c1463ea18e97ab4dac19d34dfe0b22ba4fc3db029e54"
 },
 "nbformat": 3,
 "nbformat_minor": 0,
 "worksheets": [
  {
   "cells": [
    {
     "cell_type": "markdown",
     "metadata": {},
     "source": [
      "#UC Berkeley conducted a study\n",
      "##To see if admissions are gender-biased\n",
      "###An example of *Simpson's Paradox*"
     ]
    },
    {
     "cell_type": "code",
     "collapsed": false,
     "input": [
      "import pandas as pd\n",
      "import numpy as np\n",
      "import matplotlib.pyplot as plt\n",
      "\n",
      "%matplotlib inline"
     ],
     "language": "python",
     "metadata": {},
     "outputs": [],
     "prompt_number": 1
    },
    {
     "cell_type": "code",
     "collapsed": false,
     "input": [
      "a1_m_app = 900\n",
      "a1_m_acc = 450\n",
      "\n",
      "def admissions_1(app=a1_m_app, acc=a1_m_acc):\n",
      "    \"\"\"\n",
      "    :param app: the denominator in a rate; defaults to men applied\n",
      "    :param acc: the numerator in a rate; defaults to men acceptd\n",
      "    :returns: acceptance rate among men in major 1 (but can )\n",
      "    \"\"\"\n",
      "    return (acc/float(app))*100"
     ],
     "language": "python",
     "metadata": {},
     "outputs": [],
     "prompt_number": 35
    },
    {
     "cell_type": "code",
     "collapsed": false,
     "input": [
      "assert admissions_1() == 50, '50 percent of men were admitted to major 1'\n",
      "admissions_1_solution = 'https://www.udacity.com/course/viewer#!/c-st101/l-48759015/e-48686794/m-48742017'"
     ],
     "language": "python",
     "metadata": {},
     "outputs": [],
     "prompt_number": 4
    },
    {
     "cell_type": "code",
     "collapsed": false,
     "input": [
      "a2_m_app = 100\n",
      "a2_m_acc = 10\n",
      "\n",
      "def admissions_2(app=a2_m_app, acc=a2_m_acc):\n",
      "    \"\"\"\n",
      "    :returns : acceptance rate among men in major 2\n",
      "    \"\"\"\n",
      "    return admissions_1(app, acc)"
     ],
     "language": "python",
     "metadata": {},
     "outputs": [],
     "prompt_number": 9
    },
    {
     "cell_type": "code",
     "collapsed": false,
     "input": [
      "assert admissions_2() == 10, '10 percent of men were admitted to major 2'\n",
      "admissions_2_solution = 'https://www.udacity.com/course/viewer#!/c-st101/l-48759015/e-48759013/m-48697539'"
     ],
     "language": "python",
     "metadata": {},
     "outputs": [],
     "prompt_number": 11
    },
    {
     "cell_type": "code",
     "collapsed": false,
     "input": [
      "a1_f_app, a1_f_acc = 100, 80\n",
      "a2_f_app, a2_f_acc = 900, 180\n",
      "def admissions_3():\n",
      "    \"\"\"\n",
      "    :returns : acc rate among females in major 1\n",
      "    \"\"\"\n",
      "    #a tuple; first value is acc rate among females in major 1,\n",
      "    #second value is acc rate among femals in major 2\n",
      "    return admissions_1(a1_f_app, a1_f_acc)#, admissions_1(a2_f_app, a2_f_acc)"
     ],
     "language": "python",
     "metadata": {},
     "outputs": [],
     "prompt_number": 14
    },
    {
     "cell_type": "code",
     "collapsed": false,
     "input": [
      "assert admissions_3() == 80, '80 percent of females admitted to major 1'\n",
      "admissions_3_solution = 'https://www.udacity.com/course/viewer#!/c-st101/l-48759015/e-48748094/m-48723349'"
     ],
     "language": "python",
     "metadata": {},
     "outputs": [],
     "prompt_number": 16
    },
    {
     "cell_type": "code",
     "collapsed": false,
     "input": [
      "def admissions_4():\n",
      "    \n",
      "    \"\"\"\n",
      "    :returns : acc rate among females in major 2\n",
      "    \"\"\"\n",
      "    return admissions_1(a2_f_app, a2_f_acc)"
     ],
     "language": "python",
     "metadata": {},
     "outputs": [],
     "prompt_number": 17
    },
    {
     "cell_type": "code",
     "collapsed": false,
     "input": [
      "assert admissions_4() == 20, '20 percent of females admitted to major 2'\n",
      "admissions_4_solution = 'https://www.udacity.com/course/viewer#!/c-st101/l-48759015/e-48686795/m-48701380'"
     ],
     "language": "python",
     "metadata": {},
     "outputs": [],
     "prompt_number": 18
    },
    {
     "cell_type": "code",
     "collapsed": false,
     "input": [
      "def gender_bias():\n",
      "    \"\"\"\n",
      "    :returns: A naive conclusion about gender bias; that \n",
      "    'a higher rate of women' were accepted into both majors\n",
      "    \"\"\"\n",
      "    return admissions_4() > admissions_2() and admissions_3() > admissions_1()"
     ],
     "language": "python",
     "metadata": {},
     "outputs": [],
     "prompt_number": 23
    },
    {
     "cell_type": "code",
     "collapsed": false,
     "input": [
      "assert gender_bias() == True, 'Naively thinking there is gender bias; higher proportion of women getting into both majors'\n",
      "gender_bias_solution = 'https://www.udacity.com/course/viewer#!/c-st101/l-48759015/e-48759014/m-48742015'"
     ],
     "language": "python",
     "metadata": {},
     "outputs": [],
     "prompt_number": 25
    },
    {
     "cell_type": "code",
     "collapsed": false,
     "input": [
      "def aggregation(a1=a1_m_acc, a2=a2_m_acc):\n",
      "    \"\"\"\n",
      "    Blows your mind away;\n",
      "    :param a1 : first subset\n",
      "    :param a2 : second subset\n",
      "    :returns: Number of males accepted to both majors (i.e. aggregates)\n",
      "    \n",
      "    \"\"\"\n",
      "    return a1+a2\n",
      "\n",
      "\n",
      "    "
     ],
     "language": "python",
     "metadata": {},
     "outputs": [],
     "prompt_number": 30
    },
    {
     "cell_type": "code",
     "collapsed": false,
     "input": [
      "msg = '460 males accepted out of a total of {}'.format(a1_m_app + a2_m_app)\n",
      "print(msg)\n",
      "assert aggregation() == 460, msg\n",
      "aggregation_solution = 'https://www.udacity.com/course/viewer#!/c-st101/l-48759015/e-48723631/m-48680639'"
     ],
     "language": "python",
     "metadata": {},
     "outputs": [
      {
       "output_type": "stream",
       "stream": "stdout",
       "text": [
        "460 males accepted out of a total of 1000\n"
       ]
      }
     ],
     "prompt_number": 31
    },
    {
     "cell_type": "code",
     "collapsed": false,
     "input": [
      "def aggregation_2():\n",
      "    \"\"\"\n",
      "    :returns: Rate of males accepted to both majors (i.e. aggregates)\n",
      "    \"\"\"\n",
      "    return admissions_1(aggregation(a1_m_app, a2_m_app), aggregation())"
     ],
     "language": "python",
     "metadata": {},
     "outputs": [],
     "prompt_number": 38
    },
    {
     "cell_type": "code",
     "collapsed": false,
     "input": [
      "assert aggregation_2()==46, '46 percent of men aggregately accepted in majors 1 and 2'\n",
      "aggregation_2_solution = 'https://www.udacity.com/course/viewer#!/c-st101/l-48759015/e-48755046/m-48721290'"
     ],
     "language": "python",
     "metadata": {},
     "outputs": [],
     "prompt_number": 40
    },
    {
     "cell_type": "code",
     "collapsed": false,
     "input": [
      "def aggregation_3():\n",
      "    \"\"\"\n",
      "    :returns: Rate of females accepted to both majors (i.e. aggregates)\n",
      "    \"\"\"\n",
      "    return admissions_1(aggregation(a1_f_app, a2_f_app), aggregation(a1_f_acc, a2_f_acc))"
     ],
     "language": "python",
     "metadata": {},
     "outputs": [],
     "prompt_number": 41
    },
    {
     "cell_type": "code",
     "collapsed": false,
     "input": [
      "assert aggregation_3()==26, 'Only 26 percent of women aggregately accepted in majors 1 and 2'\n",
      "aggregation_3_solution = 'https://www.udacity.com/course/viewer#!/c-st101/l-48759015/e-48704341/m-48742016'"
     ],
     "language": "python",
     "metadata": {},
     "outputs": [],
     "prompt_number": 44
    },
    {
     "cell_type": "code",
     "collapsed": false,
     "input": [
      "def gender_bias_revisited():\n",
      "    \"\"\"\n",
      "    :returns: who is being favored based on aggregation\n",
      "    \"\"\"\n",
      "    return 'Male' if  aggregation_2() > aggregation_3() else 'Female'"
     ],
     "language": "python",
     "metadata": {},
     "outputs": [],
     "prompt_number": 45
    },
    {
     "cell_type": "code",
     "collapsed": false,
     "input": [
      "assert gender_bias_revisited() == 'Male', 'Males are being favored in the aggregate'\n",
      "gender_bias_revisited_solution = 'https://www.udacity.com/course/viewer#!/c-st101/l-48759015/e-48723632/m-48695545'"
     ],
     "language": "python",
     "metadata": {},
     "outputs": [],
     "prompt_number": 47
    },
    {
     "cell_type": "code",
     "collapsed": false,
     "input": [
      "def danger_of_statistics():\n",
      "    \"\"\"\n",
      "    Statistics can be ambiguous\n",
      "    In choosing how to graph your data, you can majorly impact what people think to be the case\n",
      "    'I never believe in statistics I did not doctor myself'\n",
      "    :returns: Who is this quote attributed to\n",
      "    \n",
      "    \"\"\"\n",
      "    from urllib import request\n",
      "    quote_page = request.urlopen('http://feureau.com/post/30466610497/i-never-believe-in-statistics-i-didnt-doctor-myself').read().decode('utf-8')\n",
      "    return 'Winston Churchill' if 'Winston Churchill' in quote_page else '...'\n",
      "    "
     ],
     "language": "python",
     "metadata": {},
     "outputs": [],
     "prompt_number": 56
    },
    {
     "cell_type": "code",
     "collapsed": false,
     "input": [
      "assert danger_of_statistics()=='Winston Churchill', 'Winston Churchill said it; the other answers are tempting'\n",
      "danger_of_statistics_2 = 'https://www.udacity.com/course/viewer#!/c-st101/l-48759015/e-48755047/m-48697534'"
     ],
     "language": "python",
     "metadata": {},
     "outputs": [],
     "prompt_number": 58
    },
    {
     "cell_type": "code",
     "collapsed": false,
     "input": [],
     "language": "python",
     "metadata": {},
     "outputs": []
    }
   ],
   "metadata": {}
  }
 ]
}