{
 "metadata": {
  "name": "",
  "signature": "sha256:5fbf418d2d16a9ad4ba204adb066933a22f757d06109266e166df66cb9715a9f"
 },
 "nbformat": 3,
 "nbformat_minor": 0,
 "worksheets": [
  {
   "cells": [
    {
     "cell_type": "code",
     "collapsed": false,
     "input": [
      "import itertools\n",
      "import pandas as pd\n",
      "import numpy as np\n",
      "import matplotlib.pyplot as plt\n",
      "import functools\n",
      "\n",
      "%matplotlib inline\n"
     ],
     "language": "python",
     "metadata": {},
     "outputs": [],
     "prompt_number": 1
    },
    {
     "cell_type": "markdown",
     "metadata": {},
     "source": [
      "#Bayes Rule\n",
      " - Reverend Thomas Bayes\n",
      " - To infers existence of God\n",
      " - Informed Artificial Intelligence\n"
     ]
    },
    {
     "cell_type": "code",
     "collapsed": false,
     "input": [
      "def cancer_test():\n",
      "    \"\"\"\n",
      "    :returns: P(C|P);\n",
      "    Prob you have cancer given the test is positive\n",
      "    Solution: https://www.udacity.com/course/viewer#!/c-st101/l-48703346/e-48759018/m-48480554\n",
      "    \n",
      "    \"\"\"\n",
      "    #returning this suggests your chances of having cancer\n",
      "    #Haven't changed regardless of the test returning positive\n",
      "    p_c = 0.01 \n",
      "    \n",
      "    #Returning this is an answer to a different question;\n",
      "    #this is the probability of positive test result\n",
      "    #This question asks about the probability of cancer\n",
      "    p_p_g_c = 0.9\n",
      "    \n",
      "    p_c_g_p = 0.08\n",
      "    \n",
      "    #Since sensitivity (i.e. the amount of confidence we can put)\n",
      "    #That a positive test means a positive cancer?\n",
      "    #Is high; we expect it increases our chances from the generic population\n",
      "    assert p_c_g_p > p_c\n",
      "    \n",
      "    #And no relation to p_p_g_c; different question\n",
      "    \n",
      "    return p_c_g_p\n",
      "    "
     ],
     "language": "python",
     "metadata": {},
     "outputs": [],
     "prompt_number": 8
    },
    {
     "cell_type": "code",
     "collapsed": false,
     "input": [
      "class Event(object):\n",
      "    \n",
      "    GIVEN = ' given '\n",
      "    NOT = 'not '\n",
      "    AND = ' and '\n",
      "    NEGATIVE = 'negative'\n",
      "    POSITIVE = 'positive'\n",
      "    \n",
      "    #def __new__(cls, name, prob, prob_universeprob_population={}):\n",
      "    #    return super().__new__(cls, name, prob, prob_population)\n",
      "    # Was gonna check first the population, but...\n",
      "    \n",
      "    def __init__(self, name):#, *args, **kwargs):\n",
      "        self.__name = str(name).strip()\n",
      "        \n",
      "    def __neg__(self):\n",
      "        return self.__invert__()\n",
      "    \n",
      "    def __invert__(self):\n",
      "        \"\"\"\n",
      "        The idea of a binary event\n",
      "        :returns: the 'inverse' of this event; this event not-happening\n",
      "        \"\"\"\n",
      "        if self.__name.startswith(self.NOT):\n",
      "            not_name = self.__name.lstrip(self.NOT)\n",
      "        else:\n",
      "            #if self.POSITIVE in self.__name:\n",
      "            #    not_name = self.__name.replace(self.POSITIVE, self.NEGATIVE)\n",
      "            #elif self.NEGATIVE in self.__name:\n",
      "            #    not_name = self.__name.replace(self.NEGATIVE, self.POSITIVE)\n",
      "            #else:\n",
      "            not_name = '{0}{1}'.format(self.NOT, self.__name)\n",
      "        \n",
      "        #not_prob = 1-self.__prob\n",
      "        return Event(not_name) #not_prob, self.__probs)\n",
      "    \n",
      "    def __or__(self, event_2):\n",
      "        \"\"\"Notice this would *not* support\n",
      "        transitive property as \"or\" normally should\n",
      "        Though I guess \"truthied\" things aren't actually transitive\n",
      "        (A__or__B == B__or__A)\n",
      "        \"\"\"\n",
      "        return self.given(event_2)\n",
      "    \n",
      "    def __and__(self, event_2):\n",
      "        \"\"\"Notice this would *not* support\n",
      "        transitive property as \"or\" normally should\n",
      "        Though I guess \"truthied\" things aren't actually transitive\n",
      "        (A__or__B == B__or__A)\n",
      "        \"\"\"\n",
      "        return self.joint(event_2)\n",
      "    \n",
      "    def joint(self, event_2=None):\n",
      "        if event_2 is None:\n",
      "            if self.AND in self.__name:\n",
      "                return [Event(_) for _ in self.__name.split(self.AND)]\n",
      "            else:\n",
      "                return [None, None]\n",
      "        else:\n",
      "            and_name = '{0}{1}{2}'.format(self, self.AND, event_2)\n",
      "            return Event(and_name)\n",
      "\n",
      "    def posterior(self):\n",
      "        if self.GIVEN in self.__name:\n",
      "            #assert self.GIVEN in self.__name, 'No second event'\n",
      "            return Event(self.__name.split(self.GIVEN)[0])\n",
      "            \n",
      "            \n",
      "   \n",
      "    def given(self, event_2=None):\n",
      "        \n",
      "        if event_2 is None:\n",
      "            \n",
      "            if self.GIVEN in self.__name:\n",
      "                #assert self.GIVEN in self.__name, 'No first event'\n",
      "                return Event(self.__name.split(self.GIVEN)[1])\n",
      "            \n",
      "        else:\n",
      "            given_name = '{0}{1}{2}'.format(self, self.GIVEN, event_2)\n",
      "            #given_prob = prob\n",
      "            return Event(given_name) #, given_prob, self.__probs)\n",
      "   \n",
      "    def __nickname__(self):\n",
      "        \"\"\"\n",
      "        Would want nicknames for like 'gay' could by 'G'\n",
      "        And other  conventions (saved as constants) like 'N' for 'not'\n",
      "        \n",
      "        'G' for given; or the symbol '|'\n",
      "        'A' for and; or the symbol or acceptable '&'\n",
      "        \"\"\"\n",
      "        return (self.__name\n",
      "                .replace(' given ', '|')\n",
      "                .replace(' and ', ',')\n",
      "                .upper())\n",
      "        \n",
      "    def __repr__(self):\n",
      "        return 'Event(\"{}\")'.format(self.__name)\n",
      "\n",
      "    def __str__(self):\n",
      "        return self.__name\n",
      "\n",
      "    def __hash__(self):\n",
      "        return hash(tuple(sorted(self.__name.split(self.AND))))\n",
      "\n",
      "    def __eq__(self, other):\n",
      "        return hash(self) == hash(other)"
     ],
     "language": "python",
     "metadata": {},
     "outputs": [],
     "prompt_number": 569
    },
    {
     "cell_type": "code",
     "collapsed": false,
     "input": [
      "class Probability(dict):\n",
      "        \n",
      "    def __call__(self, event, *args, **kwargs):\n",
      "        return self.__getitem__(event)\n",
      "        \n",
      "    def __getitem__(self, key):\n",
      "        \"\"\"\n",
      "        Not a sequence type;\n",
      "        Not implementing negative integers or accepting ranges\n",
      "        \"\"\"\n",
      "        \n",
      "        return super().__getitem__(key)\n",
      "    \n",
      "    def set_with_inverse(self, event, prob):\n",
      "        super().__setitem__(event, prob)\n",
      "        super().__setitem__(~event, 1-prob)\n",
      "\n",
      "    def events(self):\n",
      "        return self.keys()\n",
      "    \n",
      "    def __setitem__(self, event, prob):\n",
      "\n",
      "        assert event is not None, 'Event must be not None'\n",
      "            \n",
      "        prob = float(prob)\n",
      "        event = Event(event)\n",
      "        \n",
      "        assert 0 <= prob <= 1, 'Dont know probability of {0} ' \\\n",
      "        '{1} outside of limits 0 and 1'.format(event, prob) \n",
      "        \n",
      "        self.set_with_inverse(event, prob)\n",
      "        \n",
      "        #Conditional Probability\n",
      "        #Scenario 1; event = P(A|B) and already have P(B)\n",
      "        #Can create P(A&B)\n",
      "        \n",
      "        try:\n",
      "            conditional_event = event\n",
      "            conditional_prob = prob\n",
      "            original_event = event.given()\n",
      "            original_prob = self[original_event]\n",
      "            \n",
      "            joint_event = conditional_event.posterior() & conditional_event.given()\n",
      "            joint_prob = conditional_prob * original_prob\n",
      "            #print('joint')\n",
      "            self.set_with_inverse(joint_event, joint_prob)\n",
      "            \n",
      "        except KeyError as e:\n",
      "            msg = 'dont have P({})'.format(original_event) if original_event is not None else 'no original event'\n",
      "            pass#print('No joint, {}'.format(msg))\n",
      "            \n",
      "        #Scenario 2; event = P(B) and already have P(N|B); notice how \"N\" could be anything! Could be more than one; for-loop it\n",
      "        #Can create P(N&B)\n",
      "        try:\n",
      "            original_prob = prob\n",
      "            original_event = event\n",
      "            conditional_event = [_ for _ in self.events() if _.given()==original_event][0]\n",
      "  \n",
      "            for conditional_event in conditional_events:\n",
      "                conditional_prob = self[conditional_event]\n",
      "                \n",
      "                joint_event = conditional_event.posterior() & conditional_event.given()\n",
      "                joint_prob = conditional_prob * original_prob\n",
      "                \n",
      "                #print('joint')\n",
      "                self.set_with_inverse(joint_event, joint_prob)\n",
      "            \n",
      "        except Exception as e:\n",
      "            pass#print('No joint, dont have events with original {}'.format(original_event))#pass#print('No scenario 2')\n",
      "            \n",
      "        \n",
      "        #Joint probability\n",
      "        e_1, e_2 = event.joint() \n",
      "        joint_event = event\n",
      "        joint_prob = prob\n",
      "        #Scenario one; event = P(A&B) and we have A\n",
      "        for original_event, second_event in ((e_1, e_2), (e_2, e_1)):\n",
      "            try:\n",
      "                original_prob = self[original_event]\n",
      "                \n",
      "                conditional_event = second_event | original_event\n",
      "                conditional_event_prob = joint_prob / original_prob\n",
      "                \n",
      "                #print('conditional')\n",
      "                self.set_with_inverse(conditional_event, conditional_event_prob)\n",
      "            except Exception as e:\n",
      "                pass#print('No conditional')#pass\n",
      "       "
     ],
     "language": "python",
     "metadata": {},
     "outputs": [],
     "prompt_number": 579
    },
    {
     "cell_type": "code",
     "collapsed": false,
     "input": [
      "\n",
      "P = Probability()\n",
      "C = Event('cancer')\n",
      "Pos = Event('positive') \n",
      "Neg = ~Pos\n",
      "\n",
      "P[C] = 0.01\n",
      "P[Pos | C] = 0.9\n",
      "P[Neg | ~C] = 0.9\n",
      "\n",
      "print(P(~C) * P(Pos | ~C))\n",
      "print(P[~C & Pos])\n"
     ],
     "language": "python",
     "metadata": {},
     "outputs": [
      {
       "output_type": "stream",
       "stream": "stdout",
       "text": [
        "0.09899999999999998\n",
        "0.10899999999999999\n"
       ]
      }
     ],
     "prompt_number": 589
    },
    {
     "cell_type": "code",
     "collapsed": false,
     "input": [
      "(cancer | pos).joint()"
     ],
     "language": "python",
     "metadata": {},
     "outputs": [
      {
       "metadata": {},
       "output_type": "pyout",
       "prompt_number": 554,
       "text": [
        "[None, None]"
       ]
      }
     ],
     "prompt_number": 554
    },
    {
     "cell_type": "code",
     "collapsed": false,
     "input": [
      "(cancer & pos).joint()"
     ],
     "language": "python",
     "metadata": {},
     "outputs": [
      {
       "metadata": {},
       "output_type": "pyout",
       "prompt_number": 555,
       "text": [
        "[Event(\"cancer\"), Event(\"test positive\")]"
       ]
      }
     ],
     "prompt_number": 555
    },
    {
     "cell_type": "code",
     "collapsed": false,
     "input": [
      "import pprint\n",
      "pprint.pprint(list(P.items()))"
     ],
     "language": "python",
     "metadata": {},
     "outputs": [
      {
       "output_type": "stream",
       "stream": "stdout",
       "text": [
        "[(Event(\"positive given cancer\"), 0.09999999999999998),\n",
        " (Event(\"not cancer\"), 0.99),\n",
        " (Event(\"not positive and cancer\"), 0.991),\n",
        " (Event(\"cancer\"), 0.01),\n",
        " (Event(\"not positive and not cancer\"), 0.891),\n",
        " (Event(\"not positive given not cancer\"), 0.9),\n",
        " (Event(\"not positive given cancer\"), 0.09999999999999998),\n",
        " (Event(\"positive and cancer\"), 0.10899999999999999)]\n"
       ]
      }
     ],
     "prompt_number": 556
    },
    {
     "cell_type": "code",
     "collapsed": false,
     "input": [],
     "language": "python",
     "metadata": {},
     "outputs": [
      {
       "ename": "TypeError",
       "evalue": "__init__() takes 2 positional arguments but 3 were given",
       "output_type": "pyerr",
       "traceback": [
        "\u001b[1;31m---------------------------------------------------------------------------\u001b[0m\n\u001b[1;31mTypeError\u001b[0m                                 Traceback (most recent call last)",
        "\u001b[1;32m<ipython-input-370-271d8e2fb39f>\u001b[0m in \u001b[0;36m<module>\u001b[1;34m()\u001b[0m\n\u001b[1;32m----> 1\u001b[1;33m \u001b[0mpositive\u001b[0m \u001b[1;33m=\u001b[0m \u001b[0mEvent\u001b[0m\u001b[1;33m(\u001b[0m\u001b[1;34m'positive'\u001b[0m\u001b[1;33m,\u001b[0m \u001b[1;36m0.2\u001b[0m\u001b[1;33m)\u001b[0m\u001b[1;33m\u001b[0m\u001b[0m\n\u001b[0m\u001b[0;32m      2\u001b[0m \u001b[0mcancer\u001b[0m\u001b[1;33m.\u001b[0m\u001b[0mgiven\u001b[0m\u001b[1;33m(\u001b[0m\u001b[0mpositive\u001b[0m\u001b[1;33m,\u001b[0m \u001b[1;36m0.1\u001b[0m\u001b[1;33m)\u001b[0m\u001b[1;33m\u001b[0m\u001b[0m\n",
        "\u001b[1;31mTypeError\u001b[0m: __init__() takes 2 positional arguments but 3 were given"
       ]
      }
     ],
     "prompt_number": 370
    },
    {
     "cell_type": "code",
     "collapsed": false,
     "input": [
      "P.all().keys()"
     ],
     "language": "python",
     "metadata": {},
     "outputs": [
      {
       "metadata": {},
       "output_type": "pyout",
       "prompt_number": 264,
       "text": [
        "dict_keys([<__main__.Event object at 0x0000000005411E48>])"
       ]
      }
     ],
     "prompt_number": 264
    },
    {
     "cell_type": "code",
     "collapsed": false,
     "input": [
      "'Event(\"cancer\", 0.5)' == 'Event(\"cancer\", 0.5)'"
     ],
     "language": "python",
     "metadata": {},
     "outputs": [
      {
       "metadata": {},
       "output_type": "pyout",
       "prompt_number": 236,
       "text": [
        "True"
       ]
      }
     ],
     "prompt_number": 236
    },
    {
     "cell_type": "code",
     "collapsed": false,
     "input": [],
     "language": "python",
     "metadata": {},
     "outputs": []
    }
   ],
   "metadata": {}
  }
 ]
}