{
 "cells": [
  {
   "cell_type": "code",
   "execution_count": 1,
   "metadata": {
    "collapsed": false
   },
   "outputs": [],
   "source": [
    "import itertools\n",
    "import pandas as pd\n",
    "import numpy as np\n",
    "import matplotlib.pyplot as plt\n",
    "import functools\n",
    "\n",
    "%matplotlib inline\n"
   ]
  },
  {
   "cell_type": "markdown",
   "metadata": {},
   "source": [
    "# Bayes Rule\n",
    " - Reverend Thomas Bayes\n",
    " - To infers existence of God\n",
    " - Holy Grail of Probabilistic thinking\n",
    " - Informed Artificial Intelligence\n"
   ]
  },
  {
   "cell_type": "code",
   "execution_count": 2,
   "metadata": {
    "collapsed": false
   },
   "outputs": [],
   "source": [
    "def cancer_test():\n",
    "    \"\"\"\n",
    "    :returns: P(C|P);\n",
    "    Prob you have cancer given the test is positive\n",
    "    Solution: https://www.udacity.com/course/viewer#!/c-st101/l-48703346/e-48759018/m-48480554\n",
    "    \n",
    "    \"\"\"\n",
    "    #returning this suggests your chances of having cancer\n",
    "    #Haven't changed regardless of the test returning positive\n",
    "    p_c = 0.01 \n",
    "    \n",
    "    #Returning this is an answer to a different question;\n",
    "    #this is the probability of positive test result\n",
    "    #This question asks about the probability of cancer\n",
    "    p_p_g_c = 0.9\n",
    "    \n",
    "    p_c_g_p = 0.08\n",
    "    \n",
    "    #Since sensitivity (i.e. the amount of confidence we can put)\n",
    "    #That a positive test means a positive cancer?\n",
    "    #Is high; we expect it increases our chances from the generic population\n",
    "    assert p_c_g_p > p_c\n",
    "    \n",
    "    #And no relation to p_p_g_c; different question\n",
    "    \n",
    "    return p_c_g_p\n",
    "    "
   ]
  },
  {
   "cell_type": "markdown",
   "metadata": {},
   "source": [
    "# Sensitivity vs Specificity \n",
    "\n",
    " - **Sensitivity**\n",
    "  - Chances the outcome (i.e. have disease) is predicted by the indicator (i.e. a test says you have disease) \n",
    "  - the amount of confidence we can have in this test\n",
    " - **Specificity**\n",
    "  - Chances the lack of outcome (i.e. no disease) is predicted by indicator (i.e. a test says you dont have disease)\n",
    " \n",
    " If we are conservative, (in medicine we are) then... \n",
    "  - we are willing to say we have cancer even if we dont (fail sensitivity test)\n",
    "  - and we really want to be sure that a negative test, can be reliable (pass specificity test)\n",
    " \n",
    "\n"
   ]
  },
  {
   "cell_type": "code",
   "execution_count": 3,
   "metadata": {
    "collapsed": false
   },
   "outputs": [],
   "source": [
    "class Event(object):\n",
    "    \n",
    "    GIVEN = ' given '\n",
    "    NOT = 'not'\n",
    "    AND = ' and '\n",
    "    NEGATIVE = 'negative'\n",
    "    POSITIVE = 'positive'\n",
    "    \n",
    "    #def __new__(cls, name, prob, prob_universeprob_population={}):\n",
    "    #    return super().__new__(cls, name, prob, prob_population)\n",
    "    # Was gonna check first the population, but...\n",
    "    \n",
    "    def __init__(self, name):#, *args, **kwargs):\n",
    "        self.__name = str(name).strip()\n",
    "        \n",
    "    def __neg__(self):\n",
    "        return self.__invert__()\n",
    "    \n",
    "    def __invert__(self):\n",
    "        \"\"\"\n",
    "        The idea of a binary event\n",
    "        :returns: the 'inverse' of this event; this event not-happening\n",
    "        \"\"\"\n",
    "        # A conditional event; just negate the posterior\n",
    "        if self.given():\n",
    "            return (~self.posterior()) | self.given()\n",
    "        \n",
    "        # A joint event; negate both and re-join\n",
    "        if all(self.joint()):\n",
    "            return ~self.joint()[0]  & ~self.joint()[1]\n",
    "        \n",
    "        # A negative single event; make positive\n",
    "        if self.__name.startswith(self.NOT):\n",
    "            return Event(self.__name.lstrip(self.NOT).strip('()'))\n",
    "            \n",
    "        # A positive single event; make negative\n",
    "        else:\n",
    "            #if self.POSITIVE in self.__name:\n",
    "            #    not_name = self.__name.replace(self.POSITIVE, self.NEGATIVE)\n",
    "            #elif self.NEGATIVE in self.__name:\n",
    "            #    not_name = self.__name.replace(self.NEGATIVE, self.POSITIVE)\n",
    "            #else:\n",
    "            return Event('{0}({1})'.format(self.NOT, self.__name))\n",
    "        \n",
    "    def __or__(self, event_2):\n",
    "        \"\"\"Notice this would *not* support\n",
    "        transitive property as \"or\" normally should\n",
    "        Though I guess \"truthied\" things aren't actually transitive\n",
    "        (A__or__B == B__or__A)\n",
    "        \"\"\"\n",
    "        return self.given(event_2)\n",
    "    \n",
    "    def __and__(self, event_2):\n",
    "        \"\"\"\n",
    "        \"\"\"\n",
    "        return self.joint(event_2)\n",
    "    \n",
    "    def joint(self, event_2=None):\n",
    "        \"\"\"\n",
    "        Quiz: Prior And Posterior\n",
    "        CORRECTION: From 0:45 onward, the posterior for the cancer case \n",
    "        should be written as P(C, Pos) instead of P(C|Pos), and the \n",
    "        one for the non-cancer case should read P(~C, Pos) instead \n",
    "        of P(~C|Pos).\n",
    "        \n",
    "        there is a correction to when\n",
    "        consider that self.AND could be the *comma*, \n",
    "        https://classroom.udacity.com/courses/st101/lessons/48703346/concepts/487236370923\n",
    "        \"\"\"\n",
    "        if event_2 is None:\n",
    "            if self.AND in self.__name:\n",
    "                return [Event(_) for _ in self.__name.split(self.AND)]\n",
    "            else:\n",
    "                return [None, None]\n",
    "        else:\n",
    "            and_name = '{0}{1}{2}'.format(self, self.AND, event_2)\n",
    "            return Event(and_name)\n",
    "        \n",
    "    def alt_events(self):\n",
    "        first, second = self.joint()\n",
    "        other_joint = '{0}{1}{2}'.format(second, self.AND, first) \n",
    "        return [Event(_) for _ in [other_joint]]\n",
    "    \n",
    "    def posterior(self):\n",
    "        \"\"\"\n",
    "        If this is a conditional,\n",
    "        P(Cancer|Pos)\n",
    "        :returns: the name of the posterior event, that the patient has Cancer\n",
    "        \"\"\"\n",
    "        #GET method\n",
    "        if self.GIVEN in self.__name:\n",
    "            #assert self.GIVEN in self.__name, 'No second event'\n",
    "            return Event(self.__name.split(self.GIVEN)[0])\n",
    "        #No SET method because there is not left-to-right syntax\n",
    "        #Whereas the \"given\" method creates a new conditional\n",
    "            \n",
    "            \n",
    "   \n",
    "    def given(self, event_2=None):\n",
    "        \"\"\"\n",
    "        If this is a conditional, event\n",
    "        P(Cancer|Pos)\n",
    "        :params event_2: the second event IF you want to create a new given event\n",
    "        :returns: the name of the original event, that test is Positive, if no event_2 param passed and this is a conditional event\n",
    "        Else a new conditional event created by combining self and event_2\n",
    "        \"\"\"\n",
    "        #GET method\n",
    "        if event_2 is None:\n",
    "            \n",
    "            if self.GIVEN in self.__name:\n",
    "                #assert self.GIVEN in self.__name, 'No first event'\n",
    "                return Event(self.__name.split(self.GIVEN)[1])\n",
    "        #SET method\n",
    "        else:\n",
    "            given_name = '{0}{1}{2}'.format(self, self.GIVEN, event_2)\n",
    "            #given_prob = prob\n",
    "            return Event(given_name) #, given_prob, self.__probs)\n",
    "   \n",
    "    def __nickname__(self):\n",
    "        \"\"\"\n",
    "        Would want nicknames for like 'gay' could by 'G'\n",
    "        And other  conventions (saved as constants) like 'N' for 'not'\n",
    "        \n",
    "        'G' for given; or the symbol '|'\n",
    "        'A' for and; or the symbol or acceptable '&'\n",
    "        \"\"\"\n",
    "        return (self.__name\n",
    "                .replace(' given ', '|')\n",
    "                .replace(' and ', ',')\n",
    "                .upper())\n",
    "        \n",
    "    def __repr__(self):\n",
    "        return 'Event(\"{}\")'.format(self.__name)\n",
    "\n",
    "    def __str__(self):\n",
    "        return self.__name\n",
    "\n",
    "    def __hash__(self):\n",
    "        return hash(tuple(sorted(self.__name.split(self.AND))))\n",
    "\n",
    "    def __eq__(self, other):\n",
    "        return hash(self) == hash(other)"
   ]
  },
  {
   "cell_type": "code",
   "execution_count": 195,
   "metadata": {
    "collapsed": false
   },
   "outputs": [],
   "source": [
    "class Probability(dict):\n",
    "    \n",
    "    \n",
    "    def __init__(self, print_log=False, *args, **kwargs):\n",
    "        # https://stackoverflow.com/a/2390997/1175496\n",
    "        # https://stackoverflow.com/a/2390913/1175496\n",
    "        self.print_log = print_log\n",
    "        self.__log__ = []\n",
    "        #Allows us to say P(Event('Red')) = set('AB'), i.e. the events 'A' and 'B' map direclty to red. \n",
    "        # TODO: What does this mean about their posterior relationship? their joint relationship? \n",
    "        #{'Red' : {'A', 'B'} }\n",
    "        #Then later:\n",
    "        #{'Red' : {'A', 'B'} , '~Red': {'C'}}\n",
    "        self.__event_set_map__ = {}\n",
    "        #After above produces:\n",
    "        #{\n",
    "        # 'A' : 'Red',\n",
    "        # 'B' : 'Red',\n",
    "        # 'C': '~Red'\n",
    "        #}\n",
    "\n",
    "        self.__set_element_event_map__ = {}\n",
    "        dict.__init__(self, *args, **kwargs)\n",
    "        \n",
    "    def __call__(self, event, *args, **kwargs):\n",
    "        return self.__getitem__(event)\n",
    "        \n",
    "    def log(self, *stuff):\n",
    "        self.__log__.append(*stuff)\n",
    "        if (self.print_log):\n",
    "            print(*stuff)\n",
    "            \n",
    "    def __getitem__(self, key):\n",
    "        \"\"\"\n",
    "        Not a sequence type;\n",
    "        Not implementing negative integers or accepting ranges\n",
    "        \"\"\"\n",
    "\n",
    "        if isinstance(key, str):\n",
    "            #Otherwise:\n",
    "            # <ipython-input-176-625a83d6e567> in __getitem__(self, key)\n",
    "            #      37         \"\"\"\n",
    "            #      38 \n",
    "            # ---> 39         result = super().__getitem__(key)\n",
    "            #      40         if  result is None:\n",
    "            #      41             for alt_event in key.alt_events():\n",
    "\n",
    "            # KeyError: 'A'\n",
    "            key = Event(key)\n",
    "            \n",
    "        result = super().__getitem__(key)\n",
    "        if  result is None:\n",
    "            for alt_event in key.alt_events():\n",
    "                result = super().__getitem__(alt_event)\n",
    "                if result:\n",
    "                    break\n",
    "                    \n",
    "        return result\n",
    "    \n",
    "    def __set__(self, event, prob):\n",
    "       \n",
    "        assert event is not None, 'Event must be not None'\n",
    "            \n",
    "        prob = float(prob)\n",
    "        event = Event(event)\n",
    "        \n",
    "        #NOTE: prob *can be 0*, and prob *can also be 1!\n",
    "        #Dont think of it as contiguous ranges; remember Probabilities add to 1!\n",
    "        #So prob of 0 and prob of 1 must co-exist!\n",
    "        assert 0 <= prob <= 1, 'Dont know probability of {0} ' \\\n",
    "        '{1} outside of limits 0 and 1'.format(event, prob) \n",
    "        \n",
    "        #If already set, dont continue\n",
    "        #Ah, but it could be zero!\n",
    "        \n",
    "        if self.get(event) is not None:\n",
    "            return \n",
    "        \n",
    "        self.log('setting event \"{}\" to prob {}'.format(event, prob))\n",
    "        \n",
    "        try:\n",
    "            if np.isclose(prob, 0): #prob===0:\n",
    "                self.log('the value is 0!')\n",
    "            super().__setitem__(event, prob)\n",
    "        except Exception as e:\n",
    "            self.log('Some error dont want it to bubble past me recursively')\n",
    "            self.log(e)\n",
    "        \n",
    "        #Create Joint from Conditional and Single matching Original Event\n",
    "        #=================\n",
    "        #Scenario 1; event = P(A|B) and already have P(B)\n",
    "        #Can create P(A&B)\n",
    "        \n",
    "        \n",
    "        try:\n",
    "            conditional_event = event\n",
    "            conditional_prob = prob\n",
    "            \n",
    "            given_event = event.given()\n",
    "            # print(given_event)\n",
    "            given_event_prob = self[given_event]\n",
    "            #Now set the probability (in the entire event space) \n",
    "            #of *both* the conditional event, and also the joint event; P(A&B):\n",
    "            #Who is the P(B) * P(A|B)\n",
    "            joint_event = conditional_event.posterior() & conditional_event.given()\n",
    "            joint_prob = conditional_prob * given_event_prob\n",
    "            \n",
    "            #print('joint', joint_event, joint_prob)\n",
    "            self.__set__(joint_event, joint_prob)\n",
    "            \n",
    "            #Create not from conditional\n",
    "            #=================\n",
    "            #Scenario 1a; event = P(A|B) \n",
    "            # Can create P(~A|B)\n",
    "            not_posterior_same_given = ~conditional_event.posterior()  | given_event\n",
    "            not_posterior_same_given_prob = 1 - prob\n",
    "            self.__set__(not_posterior_same_given, not_posterior_same_given_prob)\n",
    "            \n",
    "            \n",
    "            \n",
    "        except KeyError as e:\n",
    "            msg = 'dont have Probability for Event \"{}\"'.format(given_event) if given_event is not None else 'no event.given()'\n",
    "            self.log('No joint, {}'.format(msg))\n",
    "            \n",
    "        #Create Joint from Single and any matching Conditional\n",
    "        #================\n",
    "        #Scenario 2; event = P(B) and already have P(N|B); \n",
    "        #    notice how \"N\" could be anything! Could be more than one; for-loop it\n",
    "        #Can create P(N&B)\n",
    "        try:\n",
    "            original_prob = prob\n",
    "            original_event = event\n",
    "            conditional_events = [_ for _ in self.events() if _.given()==original_event]\n",
    "            #[0]\n",
    "  \n",
    "            for conditional_event in conditional_events:\n",
    "                conditional_prob = self[conditional_event]\n",
    "                \n",
    "                joint_event = conditional_event.posterior() & conditional_event.given()\n",
    "                joint_prob = conditional_prob * original_prob\n",
    "                \n",
    "                # print('joint', joint_event, joint_prob)\n",
    "                self.__set__(joint_event, joint_prob)\n",
    "            \n",
    "        #Exception expected from the list accessing first element: [0]\n",
    "        #except IndexError as e:\n",
    "        #It *was* error accessing first element, but I'm no longer doing that, I'm iterating\n",
    "        #And if there is no first element, that means I won't iterate! \n",
    "        #Is that \"graceful degradation\" or not?\n",
    "        except Exception as e:\n",
    "            self.log(e)\n",
    "            #print(e)\n",
    "            pass#print('No joint, dont have events with original {}'.format(original_event))#pass#print('No scenario 2')\n",
    "            \n",
    "        #Create Joint from Single and any matching Conditional\n",
    "        #================\n",
    "        #Scenario 2; event = P(B) and already have P(N&B) or P(B&N)\n",
    "        #    notice how \"N\" could be anything! Could be more than one; for-loop it\n",
    "        #Can create P(N|B)\n",
    "        try:\n",
    "            original_prob = prob\n",
    "            original_event = event\n",
    "            import pdb\n",
    "            #if str(original_event)=='positive':\n",
    "            #    pdb.set_trace()\n",
    "            joint_events = [_ for _ in self.events() if original_event in _.joint()]#[0]\n",
    "  \n",
    "            for joint_event in joint_events:\n",
    "                joint_prob = self[joint_event]\n",
    "                other_event = [_ for _ in joint_event.joint() if _ !=original_event][0]\n",
    "                \n",
    "                conditional_event = other_event | original_event\n",
    "                conditional_prob = joint_prob / original_prob\n",
    "                \n",
    "                #print('jointtt')\n",
    "                self.__set__(conditional_event, conditional_prob)\n",
    "            \n",
    "        except Exception as e:\n",
    "            print(e)\n",
    "            \n",
    "        \n",
    "        #Create Single from Joint and other Single in Joint\n",
    "        #====================\n",
    "        #Scenario one; event = P(A&B) and ...\n",
    "        #we have P(A) so we can create P(A|B) \n",
    "        #or we have P(B) and we can create P(B|A)\n",
    "        e_1, e_2 = event.joint() \n",
    "        joint_event = event\n",
    "        joint_prob = prob\n",
    "        for original_event, second_event in ((e_1, e_2), (e_2, e_1)):\n",
    "            try:\n",
    "                original_prob = self[original_event]\n",
    "                \n",
    "                conditional_event = second_event | original_event\n",
    "                conditional_event_prob = joint_prob / original_prob\n",
    "                \n",
    "                #print('conditional')\n",
    "                self.__set__(conditional_event, conditional_event_prob)\n",
    "\n",
    "            except Exception as e:\n",
    "                pass#print('No conditional')#pass\n",
    "            \n",
    "            #Create Single from Joint and other Single in Joint\n",
    "            #====================\n",
    "            #Scenario one; event = P(A&B) and ...\n",
    "            #we have P(A&~B) so we can create P(A) \n",
    "            #or we have P(B&~A) and we can create P(B)\n",
    "            #And if we can do those, we have to put them back through this method, right?\n",
    "            try:\n",
    "                original_and_not_second_prob = self[original_event & ~second_event]\n",
    "                \n",
    "                full_original_event = original_event\n",
    "                full_original_event_prob = joint_prob + original_and_not_second_prob\n",
    "                \n",
    "                #print('conditional')\n",
    "                #print('full', full_original_event)\n",
    "                self.__set__(full_original_event, full_original_event_prob)\n",
    "\n",
    "            except Exception as e:\n",
    "                if original_event and second_event:\n",
    "                    pass# print(e)\n",
    "\n",
    "    def events(self):\n",
    "        return self.keys()\n",
    "    \n",
    "    \n",
    "    def __setitem__(self, event, prob):\n",
    "        #IF we have P(A) we can get P(~A),\n",
    "        #And if the not would produce any other effects, we should follow those through\n",
    "        \n",
    "        if isinstance(prob, set):\n",
    "            original_set = prob\n",
    "            self.__event_set_map__[event] = original_set\n",
    "            for set_element in original_set:\n",
    "                \n",
    "                self.__set_element_event_map__[set_element] = event\n",
    "            \n",
    "            complement_set = self.__event_set_map__.get(~event)\n",
    "            \n",
    "            if complement_set is not None:\n",
    "                \n",
    "                    assert len(original_set & complement_set)==0, 'The sets contain duplicate elements!'\n",
    "                    #Take the union ; \n",
    "                    #Somehow we gotta know the total_set, the Event itself should be aware of that somehow.\n",
    "                    #It doesnt meant ht eevent is aware of all other events,\n",
    "                    #But at least that a P can know if they have all of em... Hmm...\n",
    "                    #So we can sum up to 1, or do posterior vs joints...\n",
    "                    total_set =  original_set | complement_set\n",
    "                    \n",
    "                    #First set the probabilities of each\n",
    "                    for set_element in total_set:\n",
    "                        #This supposes they are equally weighted, \n",
    "                        #But this is not always true!\n",
    "                        #Sebastians case he was able to give us P[A] = P[B] = P[C] = 1/3\n",
    "                        #But couldve done: P[A] = 1/2; P[B] = P[C] = 1/4\n",
    "                        #Only if these havent been set already . Great, if they are set already, then this will be ignored\n",
    "                        #Goes down to __set__, which ignores values if already set.\n",
    "                        self.__setitem__(set_element, 1/len(total_set))\n",
    "                        \n",
    "                    #Then set the individual probabilities of the events they map to\n",
    "                    #The complement will be taken care of by the (event, prob) , (~event, 1-prob) seen below...\n",
    "                    original_prob = len(original_set)/len(total_set)\n",
    "                    #this will trigger the numeric version\n",
    "                    self.__setitem__(event, original_prob)\n",
    "                    \n",
    "                    \n",
    "        else:\n",
    "            if isinstance(event, str):\n",
    "                #Otherwise:\n",
    "                # --> 243             for event, prob in ((event, prob), (~event, 1-prob)):\n",
    "                #     244                 #print(event, prob)\n",
    "                #     245                 self.__set__(event, prob)\n",
    "\n",
    "                # TypeError: bad operand type for unary ~: 'str'\n",
    "                event = Event(event)\n",
    "            #both the event and its complementary:\n",
    "            #complement is always in a special domain: The event or not the event.\n",
    "            #But the event may exist as part of a larger set; i.e. A, of { A, B, C}\n",
    "            #The ~event is called the complement; the 1-prob is called the \"inverse\" ???\n",
    "            \n",
    "            #https://classroom.udacity.com/courses/st101/lessons/48729374/concepts/486889570923\n",
    "            for event, prob in ((event, prob), (~event, 1-prob)):\n",
    "                #print(event, prob)\n",
    "                self.__set__(event, prob)\n",
    "        \n",
    "    def venn(self, event1, event2, round_to=4):\n",
    "        # P, C, Pos = cancer_test()\n",
    "        # #Remember the order:\n",
    "        # #                 Ab          aB        AB\n",
    "        # subsets =     (P(C&~Pos),  P(~C&Pos),  P(C&Pos))\n",
    "\n",
    "        # #Round it otherwise  the labels look bad:\n",
    "        # subsets = list(round(_, 4) for _ in subsets)\n",
    "        # venn2(subsets=subsets)\n",
    "        #TODO: I think this entire Probability class may only work if there are 2 distinct events (each of which comes with its \"not Event happens\" equivalent; so 4 things total)\n",
    "        #And manipulating the size of those 3 spaces, the 3 subsets, as far as the venn diagram is concerned\n",
    "        #But 4 spaces, when we know the 2 circles / 3 spaces are relative to a bounding box, we can size the bounding box.\n",
    "        \n",
    "        from matplotlib_venn import venn3, venn2\n",
    "        subsets =     (self[event1&~event2],  P[~event1&event2],  P[event1&event2])\n",
    "        subsets = list(round(_, round_to) for _ in subsets)\n",
    "        return venn2(subsets)"
   ]
  },
  {
   "cell_type": "code",
   "execution_count": 108,
   "metadata": {
    "collapsed": false,
    "scrolled": true
   },
   "outputs": [
    {
     "name": "stdout",
     "output_type": "stream",
     "text": [
      "None\n",
      "No joint, no event.given()\n",
      "None\n",
      "No joint, no event.given()\n",
      "cancer\n",
      "joint positive and cancer 0.009000000000000001\n",
      "None\n",
      "No joint, no event.given()\n",
      "cancer\n",
      "joint not(positive) and cancer 0.0009999999999999998\n",
      "None\n",
      "No joint, no event.given()\n",
      "not(cancer)\n",
      "joint not(positive) and not(cancer) 0.891\n",
      "None\n",
      "No joint, no event.given()\n",
      "None\n",
      "No joint, no event.given()\n",
      "not(positive)\n",
      "joint cancer and not(positive) 0.0009999999999999998\n",
      "not(positive)\n",
      "joint not(cancer) and not(positive) 0.891\n",
      "not(cancer)\n",
      "joint positive and not(cancer) 0.09899999999999998\n",
      "None\n",
      "No joint, no event.given()\n",
      "None\n",
      "No joint, no event.given()\n",
      "positive\n",
      "joint cancer and positive 0.009000000000000001\n",
      "positive\n",
      "joint not(cancer) and positive 0.09899999999999998\n",
      "0.99\n",
      "0.09999999999999998\n",
      "0.09999999999999998\n"
     ]
    }
   ],
   "source": [
    "\n",
    "P = Probability()\n",
    "C = Event('cancer')\n",
    "Pos = Event('positive') \n",
    "Neg = ~Pos\n",
    "p_g_c=Pos | C\n",
    "#print(p_g_c)\n",
    "#print(p_g_c.given())\n",
    "#print(p_g_c.posterior())\n",
    "#print(Pos | None)\n",
    "\n",
    "def cancer_test():\n",
    "    \"\"\"\n",
    "    The question being asked is this: 1% of the population has cancer. \n",
    "    Given that there is a 90% chance that you will test positive if you \n",
    "    have cancer and that there is a 90% chance you will test negative \n",
    "    if you don't have cancer, what is the probability that you have \n",
    "    cancer if you test positive?\n",
    "    \"\"\"\n",
    "\n",
    "    P = Probability()\n",
    "    C = Event('cancer')\n",
    "    Pos = Event('positive') \n",
    "    \n",
    "    P[C] = 0.01\n",
    "    P[Pos | C] = 0.9\n",
    "    P[~Pos | ~C] = 0.9\n",
    "\n",
    "    return P, C, Pos\n",
    "          \n",
    "P, C, Pos = cancer_test()\n",
    "\n",
    "# print(P(C | Pos))\n",
    "# print(P(~C | Pos))\n",
    "# print(P(C & Pos))\n",
    "# print(P(Pos & C))\n",
    "# print(P(~C & Pos))\n",
    "# print(P(Pos & ~C))\n",
    "print(P[~C])\n",
    "print(P[~Pos|C])\n",
    "print(P[Pos|~C])"
   ]
  },
  {
   "cell_type": "code",
   "execution_count": 25,
   "metadata": {
    "collapsed": false
   },
   "outputs": [
    {
     "name": "stdout",
     "output_type": "stream",
     "text": [
      "0.0009999999999999998\n",
      "0.891\n"
     ]
    }
   ],
   "source": [
    "\n",
    "P, C, Pos = cancer_test()\n",
    "print(P(C & ~Pos))\n",
    "print(P(~C & ~Pos))"
   ]
  },
  {
   "cell_type": "code",
   "execution_count": 27,
   "metadata": {
    "collapsed": false
   },
   "outputs": [
    {
     "name": "stdout",
     "output_type": "stream",
     "text": [
      "0.892\n"
     ]
    }
   ],
   "source": [
    "\n",
    "P, C, Pos = cancer_test()\n",
    "print(P(~Pos))"
   ]
  },
  {
   "cell_type": "code",
   "execution_count": 29,
   "metadata": {
    "collapsed": false
   },
   "outputs": [
    {
     "name": "stdout",
     "output_type": "stream",
     "text": [
      "0.0011210762331838563\n",
      "0.9988789237668162\n"
     ]
    }
   ],
   "source": [
    "\n",
    "P, C, Pos = cancer_test()\n",
    "print(P(C|~Pos))\n",
    "print(P(~C|~Pos))"
   ]
  },
  {
   "cell_type": "code",
   "execution_count": 32,
   "metadata": {
    "collapsed": false
   },
   "outputs": [
    {
     "name": "stdout",
     "output_type": "stream",
     "text": [
      "0.01\n",
      "0.0011210762331838563\n",
      "So our cancer probability went down by about a factor of 9\n",
      "8.920000000000002\n"
     ]
    }
   ],
   "source": [
    "\n",
    "P, C, Pos = cancer_test()\n",
    "print(P(C))\n",
    "print(P(C|~Pos))\n",
    "print('So our cancer probability went down by about a factor of 9')\n",
    "print(P(C)/P(C|~Pos))"
   ]
  },
  {
   "cell_type": "code",
   "execution_count": 37,
   "metadata": {
    "collapsed": false
   },
   "outputs": [
    {
     "name": "stdout",
     "output_type": "stream",
     "text": [
      "0.99\n",
      "0.9988789237668162\n",
      "So our not-having-cancer probability went up by a very small number, (factor of 1.00896? = 0.8% increase?)\n",
      "1.0089686098654709\n"
     ]
    }
   ],
   "source": [
    "\n",
    "P, C, Pos = cancer_test()\n",
    "print(P(~C))\n",
    "print(P(~C|~Pos))\n",
    "print('So our not-having-cancer probability went up by a very small number, (factor of 1.00896? = 0.8% increase?)')\n",
    "print(P(~C|~Pos)/P(~C))\n",
    "# This would be the consistent operand order as the previous post, however, \n",
    "# I concluded the larger of the operands should always go first\n",
    "# print(P(~C)/P(~C|~Pos))"
   ]
  },
  {
   "cell_type": "code",
   "execution_count": 40,
   "metadata": {
    "collapsed": false
   },
   "outputs": [
    {
     "ename": "ModuleNotFoundError",
     "evalue": "No module named 'matplotlib_venn'",
     "output_type": "error",
     "traceback": [
      "\u001b[0;31m---------------------------------------------------------------------------\u001b[0m",
      "\u001b[0;31mModuleNotFoundError\u001b[0m                       Traceback (most recent call last)",
      "\u001b[0;32m<ipython-input-40-d9aafb03c739>\u001b[0m in \u001b[0;36m<module>\u001b[0;34m()\u001b[0m\n\u001b[0;32m----> 1\u001b[0;31m \u001b[1;32mfrom\u001b[0m \u001b[0mmatplotlib_venn\u001b[0m \u001b[1;32mimport\u001b[0m \u001b[0mvenn3\u001b[0m\u001b[1;33m\u001b[0m\u001b[0m\n\u001b[0m",
      "\u001b[0;31mModuleNotFoundError\u001b[0m: No module named 'matplotlib_venn'"
     ]
    }
   ],
   "source": [
    "from matplotlib_venn import venn3"
   ]
  },
  {
   "cell_type": "code",
   "execution_count": 44,
   "metadata": {
    "collapsed": false
   },
   "outputs": [
    {
     "name": "stdout",
     "output_type": "stream",
     "text": [
      "Requirement already satisfied: matplotlib_venn in c:\\users\\nnd\\appdata\\local\\continuum\\anaconda3\\lib\\site-packages\n",
      "Requirement already satisfied: scipy in c:\\users\\nnd\\appdata\\local\\continuum\\anaconda3\\lib\\site-packages (from matplotlib_venn)\n",
      "Requirement already satisfied: matplotlib in c:\\users\\nnd\\appdata\\local\\continuum\\anaconda3\\lib\\site-packages (from matplotlib_venn)\n",
      "Requirement already satisfied: numpy in c:\\users\\nnd\\appdata\\local\\continuum\\anaconda3\\lib\\site-packages (from matplotlib_venn)\n",
      "Requirement already satisfied: six>=1.10 in c:\\users\\nnd\\appdata\\local\\continuum\\anaconda3\\lib\\site-packages (from matplotlib->matplotlib_venn)\n",
      "Requirement already satisfied: python-dateutil in c:\\users\\nnd\\appdata\\local\\continuum\\anaconda3\\lib\\site-packages (from matplotlib->matplotlib_venn)\n",
      "Requirement already satisfied: pytz in c:\\users\\nnd\\appdata\\local\\continuum\\anaconda3\\lib\\site-packages (from matplotlib->matplotlib_venn)\n",
      "Requirement already satisfied: cycler>=0.10 in c:\\users\\nnd\\appdata\\local\\continuum\\anaconda3\\lib\\site-packages (from matplotlib->matplotlib_venn)\n",
      "Requirement already satisfied: pyparsing!=2.0.4,!=2.1.2,!=2.1.6,>=1.5.6 in c:\\users\\nnd\\appdata\\local\\continuum\\anaconda3\\lib\\site-packages (from matplotlib->matplotlib_venn)\n"
     ]
    }
   ],
   "source": [
    "!pip install matplotlib_venn"
   ]
  },
  {
   "cell_type": "code",
   "execution_count": 51,
   "metadata": {
    "collapsed": true
   },
   "outputs": [],
   "source": [
    "from matplotlib_venn import venn3, venn2"
   ]
  },
  {
   "cell_type": "code",
   "execution_count": 54,
   "metadata": {
    "collapsed": false
   },
   "outputs": [
    {
     "data": {
      "text/plain": [
       "<matplotlib_venn._common.VennDiagram at 0x1db88185ba8>"
      ]
     },
     "execution_count": 54,
     "metadata": {},
     "output_type": "execute_result"
    },
    {
     "data": {
      "image/png": "[encoded data removed]",
      "text/plain": [
       "<matplotlib.figure.Figure at 0x1db880ac470>"
      ]
     },
     "metadata": {},
     "output_type": "display_data"
    }
   ],
   "source": [
    "venn2([set(['A', 'B', 'C']), set(['A', 'D', 'E', 'F'])])"
   ]
  },
  {
   "cell_type": "code",
   "execution_count": 58,
   "metadata": {
    "collapsed": false
   },
   "outputs": [
    {
     "data": {
      "text/plain": [
       "<matplotlib_venn._common.VennDiagram at 0x1db883a0a20>"
      ]
     },
     "execution_count": 58,
     "metadata": {},
     "output_type": "execute_result"
    },
    {
     "data": {
      "image/png": "[encoded data removed]",
      "text/plain": [
       "<matplotlib.figure.Figure at 0x1db882c4668>"
      ]
     },
     "metadata": {},
     "output_type": "display_data"
    }
   ],
   "source": [
    "#Or can use a 3-element argument:\n",
    "#\"The functions venn2 and venn2_circles accept as their only required argument a 3-element list (Ab, aB, AB) of subset sizes, e.g.:\"\n",
    "# https://pypi.python.org/pypi/matplotlib-venn\n",
    "venn2(subsets=(1, 12, 20))"
   ]
  },
  {
   "cell_type": "code",
   "execution_count": 66,
   "metadata": {
    "collapsed": false
   },
   "outputs": [
    {
     "data": {
      "text/plain": [
       "<matplotlib_venn._common.VennDiagram at 0x1db88554b00>"
      ]
     },
     "execution_count": 66,
     "metadata": {},
     "output_type": "execute_result"
    },
    {
     "data": {
      "image/png": "[encoded data removed]",
      "text/plain": [
       "<matplotlib.figure.Figure at 0x1db88472588>"
      ]
     },
     "metadata": {},
     "output_type": "display_data"
    }
   ],
   "source": [
    "#The P() function above does not directly produce the crescents labeled '1' and '12' in the above case;\n",
    "#In other words, the areas where circle A doesnt touch B and vice versa.\n",
    "#If circle A represented cancer, and circle B represented the test is positive\n",
    "#Then the crescent for A represents having cancer, but test comes back negative.\n",
    "#Crescent B represents the test coming back positive, but not having cancer\n",
    "#Oh... we actually do have a concept for those, right?\n",
    "# (~Pos | C) test is negative given you have cancer\n",
    "# (~C | Pos) dont have cancer given test is positive\n",
    "\n",
    "#Yes but they are relative to different denominators ; \n",
    "#i.e. (~Pos | C) only tells you what proportion of Cancer \n",
    "#To get those areas relative to a common denominator, the \"normalizer\"\n",
    "\n",
    "#The ones we want are:\n",
    "# (~Pos & C) test is negative and you have cancer (opposite of sensitivity?)\n",
    "# (~C & Pos) you dont have cancer and test is positive  (opposite of specificity?)\n",
    "\n",
    "\n",
    "P, C, Pos = cancer_test()\n",
    "#Remember the order:\n",
    "#                 Ab          aB        AB\n",
    "subsets =     (P(C&~Pos),  P(~C&Pos),  P(C&Pos))\n",
    "\n",
    "#Round it otherwise  the labels look bad:\n",
    "subsets = list(round(_, 4) for _ in subsets)\n",
    "venn2(subsets=subsets)"
   ]
  },
  {
   "cell_type": "markdown",
   "metadata": {},
   "source": [
    "![See the venn diagram that Sebastian drew](img/venn_diagram.png)"
   ]
  },
  {
   "cell_type": "code",
   "execution_count": 6,
   "metadata": {
    "collapsed": false
   },
   "outputs": [
    {
     "data": {
      "text/plain": [
       "[None, None]"
      ]
     },
     "execution_count": 6,
     "metadata": {},
     "output_type": "execute_result"
    }
   ],
   "source": [
    "(C | Pos).joint()"
   ]
  },
  {
   "cell_type": "code",
   "execution_count": 7,
   "metadata": {
    "collapsed": false
   },
   "outputs": [
    {
     "data": {
      "text/plain": [
       "(Event(\"cancer\"), Event(\"positive\"))"
      ]
     },
     "execution_count": 7,
     "metadata": {},
     "output_type": "execute_result"
    }
   ],
   "source": [
    "(C | Pos).posterior() , (C | Pos).given()"
   ]
  },
  {
   "cell_type": "code",
   "execution_count": 8,
   "metadata": {
    "collapsed": false
   },
   "outputs": [
    {
     "data": {
      "text/plain": [
       "[Event(\"cancer\"), Event(\"positive\")]"
      ]
     },
     "execution_count": 8,
     "metadata": {},
     "output_type": "execute_result"
    }
   ],
   "source": [
    "(C & Pos).joint()"
   ]
  },
  {
   "cell_type": "code",
   "execution_count": 16,
   "metadata": {
    "collapsed": false
   },
   "outputs": [
    {
     "name": "stdout",
     "output_type": "stream",
     "text": [
      "[(Event(\"cancer\"), 0.01),\n",
      " (Event(\"not(cancer)\"), 0.99),\n",
      " (Event(\"positive given cancer\"), 0.9),\n",
      " (Event(\"positive and cancer\"), 0.009000000000000001),\n",
      " (Event(\"not(positive) given cancer\"), 0.09999999999999998),\n",
      " (Event(\"not(positive) and cancer\"), 0.0009999999999999998),\n",
      " (Event(\"not(positive) given not(cancer)\"), 0.9),\n",
      " (Event(\"not(positive) and not(cancer)\"), 0.891),\n",
      " (Event(\"not(positive)\"), 0.892),\n",
      " (Event(\"cancer given not(positive)\"), 0.0011210762331838563),\n",
      " (Event(\"not(cancer) given not(positive)\"), 0.9988789237668162),\n",
      " (Event(\"positive given not(cancer)\"), 0.09999999999999998),\n",
      " (Event(\"positive and not(cancer)\"), 0.09899999999999998),\n",
      " (Event(\"positive\"), 0.10799999999999998),\n",
      " (Event(\"cancer given positive\"), 0.08333333333333336),\n",
      " (Event(\"not(cancer) given positive\"), 0.9166666666666666)]\n",
      "Should have 16 long. 2 for the cancer vs ~cancer. 2 for the pos vs ~pos. 4 for the combination of \"givens\" in one direction, 4 for the combinations of \"givens\" in the other direction, and  4 for the combination of \"ands\" in the middle\n",
      "16\n"
     ]
    }
   ],
   "source": [
    "import pprint\n",
    "pprint.pprint(list(P.items()))\n",
    "print('Should have 16 long. 2 for the cancer vs ~cancer. 2 for the pos vs ~pos. 4 for the combination of \"givens\" in one direction, 4 for the combinations of \"givens\" in the other direction, and  4 for the combination of \"ands\" in the middle')\n",
    "pprint.pprint(len(list(P.items())))"
   ]
  },
  {
   "cell_type": "code",
   "execution_count": 14,
   "metadata": {
    "collapsed": false
   },
   "outputs": [
    {
     "data": {
      "text/plain": [
       "1.0"
      ]
     },
     "execution_count": 14,
     "metadata": {},
     "output_type": "execute_result"
    }
   ],
   "source": [
    "0.892 + 0.107999999999999999999\n"
   ]
  },
  {
   "cell_type": "code",
   "execution_count": 55,
   "metadata": {
    "collapsed": false
   },
   "outputs": [
    {
     "data": {
      "text/plain": [
       "0.16666666666666666"
      ]
     },
     "execution_count": 55,
     "metadata": {},
     "output_type": "execute_result"
    }
   ],
   "source": [
    "1/6."
   ]
  },
  {
   "cell_type": "code",
   "execution_count": 40,
   "metadata": {
    "collapsed": false
   },
   "outputs": [
    {
     "data": {
      "text/plain": [
       "dict_keys([Event(\"cancer\"), Event(\"not(cancer)\"), Event(\"positive given cancer\"), Event(\"positive and cancer\"), Event(\"not(positive) given cancer\"), Event(\"not(positive) and cancer\"), Event(\"not(positive) given not(cancer)\"), Event(\"not(positive) and not(cancer)\"), Event(\"positive given not(cancer)\"), Event(\"positive and not(cancer)\")])"
      ]
     },
     "execution_count": 40,
     "metadata": {},
     "output_type": "execute_result"
    }
   ],
   "source": [
    "P.keys()"
   ]
  },
  {
   "cell_type": "code",
   "execution_count": 236,
   "metadata": {
    "collapsed": false
   },
   "outputs": [
    {
     "data": {
      "text/plain": [
       "True"
      ]
     },
     "execution_count": 236,
     "metadata": {},
     "output_type": "execute_result"
    }
   ],
   "source": [
    "'Event(\"cancer\", 0.5)' == 'Event(\"cancer\", 0.5)'"
   ]
  },
  {
   "cell_type": "code",
   "execution_count": 67,
   "metadata": {
    "collapsed": false
   },
   "outputs": [
    {
     "data": {
      "text/plain": [
       "0.10799999999999998"
      ]
     },
     "execution_count": 67,
     "metadata": {},
     "output_type": "execute_result"
    }
   ],
   "source": [
    "def normalizing_1():\n",
    "    return (P(C&Pos) + P(~C&Pos))\n",
    "normalizing_1()"
   ]
  },
  {
   "cell_type": "code",
   "execution_count": 21,
   "metadata": {
    "collapsed": true
   },
   "outputs": [],
   "source": [
    "assert np.isclose(normalizing_1(), 0.108), 'Normalized sum of P(C&Pos) + P(~C&Pos) should be around 0.108'"
   ]
  },
  {
   "cell_type": "code",
   "execution_count": 68,
   "metadata": {
    "collapsed": false
   },
   "outputs": [
    {
     "data": {
      "text/plain": [
       "0.08333333333333336"
      ]
     },
     "execution_count": 68,
     "metadata": {},
     "output_type": "execute_result"
    }
   ],
   "source": [
    "def normalizing_2():\n",
    "    return P(C|Pos)\n",
    "normalizing_2()"
   ]
  },
  {
   "cell_type": "code",
   "execution_count": 24,
   "metadata": {
    "collapsed": false
   },
   "outputs": [
    {
     "data": {
      "text/plain": [
       "(0.009000000000000001, 0.10799999999999998)"
      ]
     },
     "execution_count": 24,
     "metadata": {},
     "output_type": "execute_result"
    }
   ],
   "source": [
    "P(C&Pos),P(Pos)"
   ]
  },
  {
   "cell_type": "code",
   "execution_count": 30,
   "metadata": {
    "collapsed": false
   },
   "outputs": [],
   "source": [
    "assert np.isclose(normalizing_2(), 0.0833333), 'The P(C|Pos) 0.0833, which is P(C&Pos) / P(Pos) = 0.009 / 0.108 = 0.0833 '"
   ]
  },
  {
   "cell_type": "code",
   "execution_count": 31,
   "metadata": {
    "collapsed": false
   },
   "outputs": [
    {
     "data": {
      "text/plain": [
       "0.0833333"
      ]
     },
     "execution_count": 31,
     "metadata": {},
     "output_type": "execute_result"
    }
   ],
   "source": [
    "0.0833333"
   ]
  },
  {
   "cell_type": "code",
   "execution_count": 26,
   "metadata": {
    "collapsed": false
   },
   "outputs": [
    {
     "data": {
      "text/plain": [
       "0.08333333333333333"
      ]
     },
     "execution_count": 26,
     "metadata": {},
     "output_type": "execute_result"
    }
   ],
   "source": [
    " 0.009 / 0.108"
   ]
  },
  {
   "cell_type": "code",
   "execution_count": 33,
   "metadata": {
    "collapsed": false
   },
   "outputs": [
    {
     "data": {
      "text/plain": [
       "0.9166666666666666"
      ]
     },
     "execution_count": 33,
     "metadata": {},
     "output_type": "execute_result"
    }
   ],
   "source": [
    "def normalizing_3():\n",
    "    return P(~C|Pos)\n",
    "normalizing_3()"
   ]
  },
  {
   "cell_type": "code",
   "execution_count": 35,
   "metadata": {
    "collapsed": false
   },
   "outputs": [
    {
     "data": {
      "text/plain": [
       "0.09899999999999998"
      ]
     },
     "execution_count": 35,
     "metadata": {},
     "output_type": "execute_result"
    }
   ],
   "source": [
    "P(~C&Pos)"
   ]
  },
  {
   "cell_type": "code",
   "execution_count": 36,
   "metadata": {
    "collapsed": false
   },
   "outputs": [
    {
     "data": {
      "text/plain": [
       "0.916574074074074"
      ]
     },
     "execution_count": 36,
     "metadata": {},
     "output_type": "execute_result"
    }
   ],
   "source": [
    "0.09899 / 0.108"
   ]
  },
  {
   "cell_type": "code",
   "execution_count": 37,
   "metadata": {
    "collapsed": true
   },
   "outputs": [],
   "source": [
    "assert np.isclose(normalizing_3(), 0.916666), 'The P(~C|Pos) 0.9166, which is P(~C&Pos) / P(Pos) = 0.09899 / 0.108 = 0.91657'"
   ]
  },
  {
   "cell_type": "code",
   "execution_count": 39,
   "metadata": {
    "collapsed": false
   },
   "outputs": [
    {
     "data": {
      "text/plain": [
       "1.0"
      ]
     },
     "execution_count": 39,
     "metadata": {},
     "output_type": "execute_result"
    }
   ],
   "source": [
    "def total_probability():\n",
    "    return P(C|Pos) + P(~C|Pos)\n",
    "total_probability()"
   ]
  },
  {
   "cell_type": "code",
   "execution_count": 40,
   "metadata": {
    "collapsed": true
   },
   "outputs": [],
   "source": [
    "assert np.isclose(total_probability(), 1.0), 'total_probability, which can only be a sum of conditional probabilities, should be 1, not {}'.format(total_probability())"
   ]
  },
  {
   "cell_type": "markdown",
   "metadata": {},
   "source": [
    "![Nate added more stuff](img/diagram remade.png)"
   ]
  },
  {
   "cell_type": "code",
   "execution_count": 73,
   "metadata": {
    "collapsed": false
   },
   "outputs": [
    {
     "name": "stdout",
     "output_type": "stream",
     "text": [
      "0.9\n",
      "0.09999999999999998\n",
      "0.5\n",
      "0.009999999999999998\n",
      "0.45\n",
      "0.46\n",
      "0.021739130434782605\n",
      "0.9782608695652174\n"
     ]
    }
   ],
   "source": [
    "P=Probability()\n",
    "Cancer = Event('Cancer')\n",
    "Positive = Event('Positive')\n",
    "P[Cancer]=0.1\n",
    "P[Positive|Cancer]=0.9\n",
    "P[~Positive|~Cancer]=0.5\n",
    "print(P(~Cancer))\n",
    "print(P(~Positive|Cancer))\n",
    "print(P(Positive|~Cancer))\n",
    "\n",
    "\n",
    "print(P(Cancer&~Positive))\n",
    "print(P(~Cancer&~Positive))\n",
    "print(P(~Positive))\n",
    "\n",
    "\n",
    "print(P(Cancer|~Positive))\n",
    "print(P(~Cancer|~Positive))\n"
   ]
  },
  {
   "cell_type": "code",
   "execution_count": 74,
   "metadata": {
    "collapsed": false
   },
   "outputs": [
    {
     "name": "stdout",
     "output_type": "stream",
     "text": [
      "0.09000000000000001\n",
      "0.45\n",
      "0.54\n",
      "0.16666666666666669\n",
      "0.8333333333333333\n"
     ]
    }
   ],
   "source": [
    "\n",
    "print(P(Cancer&Positive))\n",
    "print(P(~Cancer&Positive))\n",
    "print(P(Positive))\n",
    "\n",
    "\n",
    "print(P(Cancer|Positive))\n",
    "print(P(~Cancer|Positive))"
   ]
  },
  {
   "cell_type": "code",
   "execution_count": 130,
   "metadata": {
    "collapsed": false
   },
   "outputs": [
    {
     "name": "stdout",
     "output_type": "stream",
     "text": [
      "setting event \"Red\" to prob 0.5\n",
      "No joint, no event.given()\n",
      "setting event \"not(Red)\" to prob 0.5\n",
      "No joint, no event.given()\n",
      "setting event \"Senses Red given Red\" to prob 0.8\n",
      "setting event \"Senses Red and Red\" to prob 0.4\n",
      "No joint, no event.given()\n",
      "setting event \"not(Senses Red) given Red\" to prob 0.19999999999999996\n",
      "setting event \"not(Senses Red) and Red\" to prob 0.09999999999999998\n",
      "No joint, no event.given()\n",
      "setting event \"not(Senses Red) given not(Red)\" to prob 0.8\n",
      "setting event \"not(Senses Red) and not(Red)\" to prob 0.4\n",
      "No joint, no event.given()\n",
      "setting event \"not(Senses Red)\" to prob 0.5\n",
      "No joint, no event.given()\n",
      "setting event \"Red given not(Senses Red)\" to prob 0.19999999999999996\n",
      "setting event \"not(Red) given not(Senses Red)\" to prob 0.8\n",
      "setting event \"Senses Red given not(Red)\" to prob 0.19999999999999996\n",
      "setting event \"Senses Red and not(Red)\" to prob 0.09999999999999998\n",
      "No joint, no event.given()\n",
      "setting event \"Senses Red\" to prob 0.5\n",
      "No joint, no event.given()\n",
      "setting event \"Red given Senses Red\" to prob 0.8\n",
      "setting event \"not(Red) given Senses Red\" to prob 0.19999999999999996\n",
      "0.8\n",
      "0.19999999999999996\n"
     ]
    }
   ],
   "source": [
    "P = Probability(print_log=True)\n",
    "R = Event('Red')\n",
    "TestR = Event('Senses Red')\n",
    "#\"equal distribution\" \n",
    "P[R] = P[~R] = 0.5\n",
    "#sensitivity and specificity are both 0.8. \n",
    "P[TestR|R] = P[~TestR|~R] = 0.8\n",
    "print(P[R| TestR])\n",
    "print(P[~R| TestR])"
   ]
  },
  {
   "cell_type": "code",
   "execution_count": 131,
   "metadata": {
    "collapsed": false
   },
   "outputs": [
    {
     "name": "stdout",
     "output_type": "stream",
     "text": [
      "setting event \"Red\" to prob 0.0\n",
      "the value is 0!\n",
      "No joint, no event.given()\n",
      "setting event \"not(Red)\" to prob 1.0\n",
      "No joint, no event.given()\n",
      "setting event \"Senses Red given Red\" to prob 0.8\n",
      "setting event \"Senses Red and Red\" to prob 0.0\n",
      "the value is 0!\n",
      "No joint, no event.given()\n",
      "setting event \"not(Senses Red) given Red\" to prob 0.19999999999999996\n",
      "setting event \"not(Senses Red) and Red\" to prob 0.0\n",
      "the value is 0!\n",
      "No joint, no event.given()\n",
      "setting event \"not(Senses Red) given not(Red)\" to prob 0.8\n",
      "setting event \"not(Senses Red) and not(Red)\" to prob 0.8\n",
      "No joint, no event.given()\n",
      "setting event \"not(Senses Red)\" to prob 0.8\n",
      "No joint, no event.given()\n",
      "setting event \"Red given not(Senses Red)\" to prob 0.0\n",
      "the value is 0!\n",
      "setting event \"not(Red) given not(Senses Red)\" to prob 1.0\n",
      "setting event \"Senses Red given not(Red)\" to prob 0.19999999999999996\n",
      "setting event \"Senses Red and not(Red)\" to prob 0.19999999999999996\n",
      "No joint, no event.given()\n",
      "setting event \"Senses Red\" to prob 0.19999999999999996\n",
      "No joint, no event.given()\n",
      "setting event \"Red given Senses Red\" to prob 0.0\n",
      "the value is 0!\n",
      "setting event \"not(Red) given Senses Red\" to prob 1.0\n",
      "0.0\n",
      "1.0\n"
     ]
    }
   ],
   "source": [
    "P = Probability(print_log=True)\n",
    "R = Event('Red')\n",
    "TestR = Event('Senses Red')\n",
    "P[R] = 0\n",
    "#sensitivity and specificity are both 0.8. \n",
    "P[TestR|R] = P[~TestR|~R] = 0.8\n",
    "print(P[R| TestR])\n",
    "print(P[~R| TestR])"
   ]
  },
  {
   "cell_type": "code",
   "execution_count": 132,
   "metadata": {
    "collapsed": false
   },
   "outputs": [
    {
     "name": "stdout",
     "output_type": "stream",
     "text": [
      "0.0\n",
      "1.0\n"
     ]
    }
   ],
   "source": [
    "P = Probability()\n",
    "R = Event('Red')\n",
    "TestR = Event('Senses Red')\n",
    "P[R] = 0\n",
    "#sensitivity and specificity are both 0.8. \n",
    "P[TestR|R] = P[~TestR|~R] = 0.8\n",
    "print(P[R| TestR])\n",
    "print(P[~R| TestR])"
   ]
  },
  {
   "cell_type": "code",
   "execution_count": 144,
   "metadata": {
    "collapsed": false
   },
   "outputs": [
    {
     "name": "stdout",
     "output_type": "stream",
     "text": [
      "0.6153846153846154\n",
      "0.3846153846153846\n"
     ]
    },
    {
     "data": {
      "text/plain": [
       "<matplotlib_venn._common.VennDiagram at 0x1db89793dd8>"
      ]
     },
     "execution_count": 144,
     "metadata": {},
     "output_type": "execute_result"
    },
    {
     "data": {
      "image/png": "[encoded data removed]",
      "text/plain": [
       "<matplotlib.figure.Figure at 0x1db896bff28>"
      ]
     },
     "metadata": {},
     "output_type": "display_data"
    }
   ],
   "source": [
    "P = Probability()\n",
    "R = Event('Red')\n",
    "TestR = Event('Senses Red')\n",
    "#sensitivity is 0.8\n",
    "P[TestR|R] = 0.8\n",
    "#But specificity is 0.5\n",
    "P[~TestR|~R] = 0.5\n",
    "#And this is back to a uniform distribution\n",
    "#No need to use the second P[R] = P[~R]; TODO: \n",
    "#1) P should detect inconsistencies if user passes new values but there is existing value\n",
    "#Or would infer new values that contradict existing values\n",
    "# 2) ability to turn off the error checking, and just \"100% push out the wrinkles\" in every direction after each new value is set.\n",
    "#\n",
    "#TypeError: 'Event' object is not iterable\n",
    "\n",
    "P[R] = 0.5\n",
    "\n",
    "#And I am moving this assignment P[R] = ..., *after* the above assignments, to test that my P class can go all the directions\n",
    "#It needs to go!\n",
    "print(P[R| TestR])\n",
    "print(P[~R| TestR])\n",
    "P.venn(R, TestR)"
   ]
  },
  {
   "cell_type": "code",
   "execution_count": 146,
   "metadata": {
    "collapsed": false
   },
   "outputs": [
    {
     "name": "stdout",
     "output_type": "stream",
     "text": [
      "0.9876543209876543\n",
      "0.012345679012345734\n"
     ]
    },
    {
     "data": {
      "text/plain": [
       "<matplotlib_venn._common.VennDiagram at 0x1db8989f6a0>"
      ]
     },
     "execution_count": 146,
     "metadata": {},
     "output_type": "execute_result"
    },
    {
     "data": {
      "image/png": "[encoded data removed]",
      "text/plain": [
       "<matplotlib.figure.Figure at 0x1db897b4940>"
      ]
     },
     "metadata": {},
     "output_type": "display_data"
    }
   ],
   "source": [
    "P = Probability()\n",
    "R = Event('Red')\n",
    "TestR = Event('Senses Red')\n",
    "#sensitivity is 0.8\n",
    "P[TestR|R] = 0.8\n",
    "#But specificity is 0.5\n",
    "P[~TestR|~R] = 0.99\n",
    "#And this is back to a uniform distribution\n",
    "#No need to use the second P[R] = P[~R]; TODO: \n",
    "#1) P should detect inconsistencies if user passes new values but there is existing value\n",
    "#Or would infer new values that contradict existing values\n",
    "# 2) ability to turn off the error checking, and just \"100% push out the wrinkles\" in every direction after each new value is set.\n",
    "#\n",
    "#TypeError: 'Event' object is not iterable\n",
    "\n",
    "P[R] = 0.5\n",
    "\n",
    "#And I am moving this assignment P[R] = ..., *after* the above assignments, to test that my P class can go all the directions\n",
    "#It needs to go!\n",
    "print(P[R| TestR])\n",
    "print(P[~R| TestR])\n",
    "P.venn(R, TestR)"
   ]
  },
  {
   "cell_type": "code",
   "execution_count": 151,
   "metadata": {
    "collapsed": false
   },
   "outputs": [
    {
     "name": "stdout",
     "output_type": "stream",
     "text": [
      "0.3\n",
      "0.3\n",
      "0.3\n"
     ]
    }
   ],
   "source": [
    "P = Probability()\n",
    "A = Event('A - Red')\n",
    "B = Event('B - Green')\n",
    "C = Event('C - Green')\n",
    "P[A] = P[B] = P[C] = (1/3.)\n",
    "TestR = Event('Test Red')\n",
    "#WHOA this works even though I now have multiple possible events; 3 events (A, B, C), \n",
    "#However, those events are reduced to the thing-being-tested-for : are you Red or ~Red ? \n",
    "#And the representation in this case, is pretty poor... I just append \"A - Red\" , or \"B - Green\"...\n",
    "P[TestR | A] = P[TestR | B] = P[TestR | C] = 0.9\n",
    "print(P(A & TestR))\n",
    "#Ah, so it doesnt work, because it I really do need to be using the P(G), which I dont calculate anywhere\n",
    "#I could start using sets, this is where the venn diagram excels;\n",
    "#So I say Event('Red', set('A'))\n",
    "#And then Event(~Red, set('B', 'C'))\n",
    "#And then only know the Event('Red') = 1/3, and the Event (~Red) = 2/3, because we have their full sets ? \n",
    "#that strongly associates the sets with the Event, which I thought we were trying to keep the probabilities associated with each intsance of P\n",
    "#P(Red) = set('A', 'C')\n",
    "#What if there is overlap!\n",
    "print(P(B & TestR))\n",
    "print(P(C & TestR))"
   ]
  },
  {
   "cell_type": "code",
   "execution_count": 153,
   "metadata": {
    "collapsed": true
   },
   "outputs": [],
   "source": [
    "# I dont like in Robot Sending 5 how P(R|A) is used; the \"R\" is ambiguous; \n",
    "# is it \"see R\" or \"is R\"? I think it must be \"see R\"\n"
   ]
  },
  {
   "cell_type": "code",
   "execution_count": 155,
   "metadata": {
    "collapsed": false
   },
   "outputs": [],
   "source": [
    "s=set('AB')"
   ]
  },
  {
   "cell_type": "code",
   "execution_count": 156,
   "metadata": {
    "collapsed": false
   },
   "outputs": [
    {
     "data": {
      "text/plain": [
       "True"
      ]
     },
     "execution_count": 156,
     "metadata": {},
     "output_type": "execute_result"
    }
   ],
   "source": [
    "isinstance(s,set)"
   ]
  },
  {
   "cell_type": "code",
   "execution_count": 189,
   "metadata": {
    "collapsed": false
   },
   "outputs": [
    {
     "name": "stdout",
     "output_type": "stream",
     "text": [
      "0.30000000000000004\n",
      "0.033333333333333326\n",
      "{Event(\"Red\"): {'A'}, Event(\"not(Red)\"): {'B', 'C'}}\n",
      "0.3333333333333333\n",
      "0.3333333333333333\n",
      "0.6666666666666667\n"
     ]
    }
   ],
   "source": [
    "P = Probability()\n",
    "Red = Event('Red')\n",
    "P[Red] = set('A')\n",
    "P[~Red] = set('BC')\n",
    "\n",
    "#We wont actually represent their probabilities directly\n",
    "#they are only relevant insofar as they help us infer probability of Red\n",
    "#P[A] = P[B] = P[C] = (1/3.)\n",
    "TestR = Event('Test Red')\n",
    "P[TestR | Red] = 0.9\n",
    "P[~TestR | ~Red] = 0.9\n",
    "print(P(Red & TestR))\n",
    "#Divide by two because the Probability is equality distributed between them\n",
    "print(P(~Red & TestR) /2)\n",
    "print(P.__event_set_map__)\n",
    "print(P('A'))\n",
    "print(P('B'))\n",
    "print(P(~Event('B')))"
   ]
  },
  {
   "cell_type": "code",
   "execution_count": 175,
   "metadata": {
    "collapsed": false
   },
   "outputs": [
    {
     "data": {
      "text/plain": [
       "__main__.Event"
      ]
     },
     "execution_count": 175,
     "metadata": {},
     "output_type": "execute_result"
    }
   ],
   "source": [
    "\n",
    "type(Event('Red'))"
   ]
  },
  {
   "cell_type": "code",
   "execution_count": 168,
   "metadata": {
    "collapsed": false
   },
   "outputs": [
    {
     "name": "stdout",
     "output_type": "stream",
     "text": [
      "0.033333333333333326\n"
     ]
    }
   ],
   "source": [
    "prob_r_giv_b =1- 0.9\n",
    "prob_b = 1./3.\n",
    "prob_r_and_b = prob_r_giv_b*prob_b\n",
    "print(prob_r_and_b)"
   ]
  },
  {
   "cell_type": "code",
   "execution_count": 194,
   "metadata": {
    "collapsed": false
   },
   "outputs": [
    {
     "name": "stdout",
     "output_type": "stream",
     "text": [
      "0.3333333333333333\n",
      "0.3\n",
      "0.033333333333333326\n",
      "0.033333333333333326\n"
     ]
    }
   ],
   "source": [
    "#alright trying it again\n",
    "#Robot Sensing 6:\n",
    "P = Probability()\n",
    "A = Event('A')\n",
    "B = Event('B')\n",
    "C = Event('C')\n",
    "#Can skip this for now, am inferring from the fact that they are in teh set\n",
    "# P[A] = P[B] = P[C] = (1/3.)\n",
    "Red = Event('Red')\n",
    "P[Red] = {A}\n",
    "P[~Red] = {B, C}\n",
    "TestR = Event('Test Red')\n",
    "print(P(A))\n",
    "#WHOA this works even though I now have multiple possible events; 3 events (A, B, C), \n",
    "#However, those events are reduced to the thing-being-tested-for : are you Red or ~Red ? \n",
    "#And the representation in this case, is pretty poor... I just append \"A - Red\" , or \"B - Green\"...\n",
    "P[TestR | A] = P[~TestR | B] = P[~TestR | C] = 0.9\n",
    "print(P(A & TestR))\n",
    "#Ah, so it doesnt work, because it I really do need to be using the P(G), which I dont calculate anywhere\n",
    "#I could start using sets, this is where the venn diagram excels;\n",
    "#So I say Event('Red', set('A'))\n",
    "#And then Event(~Red, set('B', 'C'))\n",
    "#And then only know the Event('Red') = 1/3, and the Event (~Red) = 2/3, because we have their full sets ? \n",
    "#that strongly associates the sets with the Event, which I thought we were trying to keep the probabilities associated with each intsance of P\n",
    "#P(Red) = set('A', 'C')\n",
    "#What if there is overlap!\n",
    "print(P(B & TestR))\n",
    "print(P(C & TestR))"
   ]
  },
  {
   "cell_type": "code",
   "execution_count": 212,
   "metadata": {
    "collapsed": false
   },
   "outputs": [
    {
     "name": "stdout",
     "output_type": "stream",
     "text": [
      "0.3333333333333333\n",
      "0.3\n",
      "0.033333333333333326\n",
      "0.033333333333333326\n",
      "None\n",
      "0.36666666666666664\n",
      "0.09999999999999998\n",
      "0.36666666666666664\n"
     ]
    }
   ],
   "source": [
    "#alright trying it again\n",
    "#Robot Sensing 6:\n",
    "P = Probability()\n",
    "A = Event('A')\n",
    "B = Event('B')\n",
    "C = Event('C')\n",
    "#WHOA I can just *tell it*, and it will work !\n",
    "#P[A] = 1/2.; P[B] = P[C] = (1/3.);\n",
    "Red = Event('Red')\n",
    "P[Red] = {A}\n",
    "P[~Red] = {B, C}\n",
    "TestR = Event('Test Red')\n",
    "print(P(A))\n",
    "#WHOA this works even though I now have multiple possible events; 3 events (A, B, C), \n",
    "#However, those events are reduced to the thing-being-tested-for : are you Red or ~Red ? \n",
    "#And the representation in this case, is pretty poor... I just append \"A - Red\" , or \"B - Green\"...\n",
    "P[TestR | A] = P[~TestR | B] = P[~TestR | C] = 0.9\n",
    "print(P(A & TestR))\n",
    "#Ah, so it doesnt work, because it I really do need to be using the P(G), which I dont calculate anywhere\n",
    "#I could start using sets, this is where the venn diagram excels;\n",
    "#So I say Event('Red', set('A'))\n",
    "#And then Event(~Red, set('B', 'C'))\n",
    "#And then only know the Event('Red') = 1/3, and the Event (~Red) = 2/3, because we have their full sets ? \n",
    "#that strongly associates the sets with the Event, which I thought we were trying to keep the probabilities associated with each intsance of P\n",
    "#P(Red) = set('A', 'C')\n",
    "#What if there is overlap!\n",
    "print(P(B & TestR))\n",
    "print(P(C & TestR))\n",
    "\n",
    "#Darn , don't know it yet, even though can infer it...\n",
    "print(P.get(TestR))\n",
    "#That would require , either \n",
    "#1------------\n",
    "#Figuring the Red & TestR vs ~Red & TestR (not done, easy to imagine now because B and C are equally good specificity. But even if we merge denominators, we merge numerators, we just divide again. Problem is, while we dont know  separate, denominators, thats what we are trying to find, we know union of denominators!)\n",
    "    #This is i still hard, requires we have the entire set of elements for a given Event, like all the red subsevents (A), and all green subevents (B, C)\n",
    "    #But we do have those in a map...\n",
    "# adding these two  to get TestR (done)\n",
    "#P(TestR | R) * P(R) + P(~TestR | ~R) * P(~R)\n",
    "print(0.9 * (1./3.) + 0.1 * (2./3.))\n",
    "    #The P(~TestR | ~R) is 0.1 because :\n",
    "    #Normalizing over their repsective sections of green:\n",
    "    #Practically 0.1...\n",
    "print(((1-0.9) *  1./3. + (1-0.9)   * 1./3.)/(2./3.))\n",
    "#2------------\n",
    "#inferring which joints are part of the same \"Event domain\" (not done, hard, means events must be domained!) or else we can only know this when we know we have that total_set ? \n",
    "#adding all of them, however many there are:  the A & TestR + B & TestR + C & TestR (not done, hopefully easy, can replace \"add two\" with \"add all events of same domain\")\n",
    "#P(A&TestR)\n",
    "\n",
    "#and \n",
    "print(0.9 * (1./3.) + 0.1 * (1./3.) + 0.1 * (1./3.))"
   ]
  },
  {
   "cell_type": "code",
   "execution_count": 199,
   "metadata": {
    "collapsed": false
   },
   "outputs": [
    {
     "ename": "KeyError",
     "evalue": "Event(\"Test Red\")",
     "output_type": "error",
     "traceback": [
      "\u001b[0;31m---------------------------------------------------------------------------\u001b[0m",
      "\u001b[0;31mKeyError\u001b[0m                                  Traceback (most recent call last)",
      "\u001b[0;32m<ipython-input-199-71ce33fa67e2>\u001b[0m in \u001b[0;36m<module>\u001b[0;34m()\u001b[0m\n\u001b[0;32m----> 1\u001b[0;31m \u001b[0mP\u001b[0m\u001b[1;33m[\u001b[0m\u001b[0mTestR\u001b[0m\u001b[1;33m]\u001b[0m\u001b[1;33m\u001b[0m\u001b[0m\n\u001b[0m",
      "\u001b[0;32m<ipython-input-195-762acc37408a>\u001b[0m in \u001b[0;36m__getitem__\u001b[0;34m(self, key)\u001b[0m\n\u001b[1;32m     49\u001b[0m             \u001b[0mkey\u001b[0m \u001b[1;33m=\u001b[0m \u001b[0mEvent\u001b[0m\u001b[1;33m(\u001b[0m\u001b[0mkey\u001b[0m\u001b[1;33m)\u001b[0m\u001b[1;33m\u001b[0m\u001b[0m\n\u001b[1;32m     50\u001b[0m \u001b[1;33m\u001b[0m\u001b[0m\n\u001b[0;32m---> 51\u001b[0;31m         \u001b[0mresult\u001b[0m \u001b[1;33m=\u001b[0m \u001b[0msuper\u001b[0m\u001b[1;33m(\u001b[0m\u001b[1;33m)\u001b[0m\u001b[1;33m.\u001b[0m\u001b[0m__getitem__\u001b[0m\u001b[1;33m(\u001b[0m\u001b[0mkey\u001b[0m\u001b[1;33m)\u001b[0m\u001b[1;33m\u001b[0m\u001b[0m\n\u001b[0m\u001b[1;32m     52\u001b[0m         \u001b[1;32mif\u001b[0m  \u001b[0mresult\u001b[0m \u001b[1;32mis\u001b[0m \u001b[1;32mNone\u001b[0m\u001b[1;33m:\u001b[0m\u001b[1;33m\u001b[0m\u001b[0m\n\u001b[1;32m     53\u001b[0m             \u001b[1;32mfor\u001b[0m \u001b[0malt_event\u001b[0m \u001b[1;32min\u001b[0m \u001b[0mkey\u001b[0m\u001b[1;33m.\u001b[0m\u001b[0malt_events\u001b[0m\u001b[1;33m(\u001b[0m\u001b[1;33m)\u001b[0m\u001b[1;33m:\u001b[0m\u001b[1;33m\u001b[0m\u001b[0m\n",
      "\u001b[0;31mKeyError\u001b[0m: Event(\"Test Red\")"
     ]
    }
   ],
   "source": [
    "P[TestR]"
   ]
  },
  {
   "cell_type": "code",
   "execution_count": 211,
   "metadata": {
    "collapsed": false
   },
   "outputs": [
    {
     "name": "stdout",
     "output_type": "stream",
     "text": [
      "0.819672131147541\n",
      "0.09016393442622951\n",
      "0.09016393442622951\n"
     ]
    }
   ],
   "source": [
    "print(0.3/0.366)\n",
    "print(0.033/0.366)\n",
    "print(0.033/0.366)"
   ]
  },
  {
   "cell_type": "code",
   "execution_count": 215,
   "metadata": {
    "collapsed": false
   },
   "outputs": [
    {
     "name": "stdout",
     "output_type": "stream",
     "text": [
      "0.021739130434782608\n"
     ]
    },
    {
     "data": {
      "text/plain": [
       "<matplotlib_venn._common.VennDiagram at 0x1db899ec828>"
      ]
     },
     "execution_count": 215,
     "metadata": {},
     "output_type": "execute_result"
    },
    {
     "data": {
      "image/png": "[encoded data removed]",
      "text/plain": [
       "<matplotlib.figure.Figure at 0x1db89919240>"
      ]
     },
     "metadata": {},
     "output_type": "display_data"
    }
   ],
   "source": [
    "P = Probability()\n",
    "home = Event('home')\n",
    "rain = Event('rain')\n",
    "P[~home] = 0.6\n",
    "#Duh! P[home]\n",
    "\n",
    "P[rain | home] = 0.01\n",
    "#Can calculate the \"specificity\" using this...\n",
    "P[rain | ~home] = 0.3\n",
    "\n",
    "print(P[home| rain])\n",
    "\n",
    "P.venn(home, rain)\n"
   ]
  },
  {
   "cell_type": "code",
   "execution_count": 217,
   "metadata": {
    "collapsed": false
   },
   "outputs": [
    {
     "data": {
      "text/plain": [
       "0.78"
      ]
     },
     "execution_count": 217,
     "metadata": {},
     "output_type": "execute_result"
    }
   ],
   "source": [
    "def flip_one_of_two():\n",
    "    #prob you pick coin 1\n",
    "    p0 = 0.3\n",
    "    #prob you flip heads given coin 1\n",
    "    p1 = 0.5\n",
    "    #prob you flip heads given coin 2\n",
    "    p2 = 0.9\n",
    "    #p(h | 1)\n",
    "    #p(h | 2)\n",
    "    #since 1 and 2 are mutually exclusive and together represent the unity (i.e. 1, the only possibilities)\n",
    "    ph = p0 * p1 + (1-p0) * p2\n",
    "    return ph\n",
    "flip_one_of_two()\n",
    "    "
   ]
  },
  {
   "cell_type": "code",
   "execution_count": 229,
   "metadata": {
    "collapsed": false
   },
   "outputs": [
    {
     "name": "stdout",
     "output_type": "stream",
     "text": [
      "0.26999999999999996\n"
     ]
    }
   ],
   "source": [
    "def cancer_example_1():\n",
    "    p0 = 0.1 #p_c\n",
    "    p1 = 0.9 #p_pos_giv_c\n",
    "    p2 = 0.8 #p_neg_giv_notc\n",
    "    \n",
    "    p_c=p0\n",
    "    p_pos_giv_c = p1\n",
    "    p_neg_giv_notc = p2\n",
    "    \n",
    "    #... Same formula. This is what he was doing. Trickery! Haha. Effective... \n",
    "    #Oh, not quite, note we must subtract the second number from 1 first, (turning the specificity into something else...)\n",
    "    p_pos = p0 * p1 + (1- p0) * (1-p2)\n",
    "    return p_pos\n",
    "    \n",
    "print(cancer_example_1())\n",
    "assert np.isclose(cancer_example_1(),0.270), 'cancer normalizer (i.e. probability test is positive) should be\\\n",
    "sum of p(c) * p(pos|c) + p(~c) * p(pos|~c), which is 0.2670 in this case'"
   ]
  },
  {
   "cell_type": "code",
   "execution_count": 223,
   "metadata": {
    "collapsed": false
   },
   "outputs": [
    {
     "name": "stdout",
     "output_type": "stream",
     "text": [
      "0.26999999999999996\n"
     ]
    }
   ],
   "source": [
    "P=Probability()\n",
    "P['C'] = 0.1\n",
    "P[Event('Pos') | Event('C')] = 0.9\n",
    "P[~Event('Pos') | ~Event('C')] = 0.8\n",
    "print(P['Pos'])"
   ]
  },
  {
   "cell_type": "code",
   "execution_count": 230,
   "metadata": {
    "collapsed": false
   },
   "outputs": [
    {
     "name": "stdout",
     "output_type": "stream",
     "text": [
      "0.26999999999999996\n",
      "0.3333333333333334\n"
     ]
    }
   ],
   "source": [
    "P=Probability()\n",
    "P['C'] = 0.1\n",
    "P[Event('Pos') | Event('C')] = 0.9\n",
    "P[~Event('Pos') | ~Event('C')] = 0.8\n",
    "print(P['Pos'])\n",
    "print(P[Event('C') | Event('Pos')])"
   ]
  },
  {
   "cell_type": "code",
   "execution_count": 231,
   "metadata": {
    "collapsed": false
   },
   "outputs": [
    {
     "data": {
      "text/plain": [
       "0.33333333333333337"
      ]
     },
     "execution_count": 231,
     "metadata": {},
     "output_type": "execute_result"
    }
   ],
   "source": [
    "0.1 * 0.9 / 0.270"
   ]
  },
  {
   "cell_type": "code",
   "execution_count": 235,
   "metadata": {
    "collapsed": false
   },
   "outputs": [
    {
     "name": "stdout",
     "output_type": "stream",
     "text": [
      "0.3333333333333334\n"
     ]
    }
   ],
   "source": [
    "def cancer_example_2():\n",
    "    p0 = 0.1 #p_c\n",
    "    p1 = 0.9 #p_pos_giv_c\n",
    "    p2 = 0.8 #p_neg_giv_notc\n",
    "    \n",
    "    p_c=p0\n",
    "    p_pos_giv_c = p1\n",
    "    p_neg_giv_notc = p2\n",
    "    \n",
    "    #... Same formula. This is what he was doing. Trickery! Haha. Effective... \n",
    "    #Oh, not quite, note we must subtract the second number from 1 first, (turning the specificity into something else...)\n",
    "    p_pos = p0 * p1 / (p0 * p1 + (1- p0) * (1-p2))\n",
    "    return p_pos\n",
    "    \n",
    "print(cancer_example_2())\n",
    "assert np.isclose(cancer_example_2(),0.333333), 'cancer normalizer (i.e. probability have cancer given test is positive) should be\\\n",
    "(p(c) * p(pos|c)  / ( sum of p(c) * p(pos|c) + p(~c) * p(pos|~c)), which is 0.33 in this case'"
   ]
  },
  {
   "cell_type": "code",
   "execution_count": 241,
   "metadata": {
    "collapsed": false
   },
   "outputs": [
    {
     "name": "stdout",
     "output_type": "stream",
     "text": [
      "0.013698630136986297\n"
     ]
    }
   ],
   "source": [
    "def program_bayes_rule_2():\n",
    "    p0 = 0.1 #p_c\n",
    "    p1 = 0.9 #p_pos_giv_c\n",
    "    p2 = 0.8 #p_neg_giv_notc\n",
    "    \n",
    "    p_c=p0\n",
    "    p_pos_giv_c = p1\n",
    "    p_neg_giv_notc = p2\n",
    "    \n",
    "    #... Same formula. This is what he was doing. Trickery! Haha. Effective... \n",
    "    #Oh, not quite, note we must subtract the second number from 1 first, (turning the specificity into something else...)\n",
    "    p_pos = (p0 * p1 + (1- p0) * (1-p2))\n",
    "    \n",
    "    p_neg = 1-p_pos\n",
    "    #p_not_c_giv_neg = p_neg_giv_notc * (1-p_c)/(1-p_pos)\n",
    "    #p a conditioned on not b\n",
    "    \n",
    "    #There is another way to do it, this is how Sebastian does it:\n",
    "    p_neg = p0 * (1-p1) + (1-p0) * p2\n",
    "    p_c_giv_neg = p_c * (1-p_pos_giv_c) / p_neg # (1-p_pos)\n",
    "    \n",
    "    #     return p_not_c_giv_neg\n",
    "    return p_c_giv_neg\n",
    "\n",
    "print(program_bayes_rule_2())\n",
    "assert np.isclose(program_bayes_rule_2(),0.01369863013), 'cancer normalizer (i.e. probability have cancer given test is negative) should be\\\n",
    "(p(c) * (1-p(pos|c))  / (1-( sum of p(c) * p(pos|c) + p(~c) * p(pos|~c))), which is 0.01369863013 in this case'"
   ]
  },
  {
   "cell_type": "code",
   "execution_count": 242,
   "metadata": {
    "collapsed": false
   },
   "outputs": [
    {
     "data": {
      "text/plain": [
       "0.08333333333333333"
      ]
     },
     "execution_count": 242,
     "metadata": {},
     "output_type": "execute_result"
    }
   ],
   "source": [
    "(290-260)/360."
   ]
  },
  {
   "cell_type": "code",
   "execution_count": 243,
   "metadata": {
    "collapsed": false
   },
   "outputs": [
    {
     "data": {
      "text/plain": [
       "0.002777777777777778"
      ]
     },
     "execution_count": 243,
     "metadata": {},
     "output_type": "execute_result"
    }
   ],
   "source": [
    "1/360."
   ]
  },
  {
   "cell_type": "code",
   "execution_count": 244,
   "metadata": {
    "collapsed": false
   },
   "outputs": [
    {
     "data": {
      "text/plain": [
       "0.016666666666666666"
      ]
     },
     "execution_count": 244,
     "metadata": {},
     "output_type": "execute_result"
    }
   ],
   "source": [
    "1/60."
   ]
  },
  {
   "cell_type": "code",
   "execution_count": 245,
   "metadata": {
    "collapsed": false
   },
   "outputs": [
    {
     "data": {
      "text/plain": [
       "0.041666666666666664"
      ]
     },
     "execution_count": 245,
     "metadata": {},
     "output_type": "execute_result"
    }
   ],
   "source": [
    "1/24"
   ]
  },
  {
   "cell_type": "code",
   "execution_count": 246,
   "metadata": {
    "collapsed": false
   },
   "outputs": [
    {
     "data": {
      "text/plain": [
       "0.027777777777777776"
      ]
     },
     "execution_count": 246,
     "metadata": {},
     "output_type": "execute_result"
    }
   ],
   "source": [
    "(1/24) * (2/3)"
   ]
  },
  {
   "cell_type": "code",
   "execution_count": 247,
   "metadata": {
    "collapsed": false
   },
   "outputs": [
    {
     "data": {
      "text/plain": [
       "0.05555555555555555"
      ]
     },
     "execution_count": 247,
     "metadata": {},
     "output_type": "execute_result"
    }
   ],
   "source": [
    "(1/24) * (2/3) * 2"
   ]
  },
  {
   "cell_type": "code",
   "execution_count": 251,
   "metadata": {
    "collapsed": false
   },
   "outputs": [
    {
     "data": {
      "text/plain": [
       "0.027777777777777776"
      ]
     },
     "execution_count": 251,
     "metadata": {},
     "output_type": "execute_result"
    }
   ],
   "source": [
    "# Just consider that the *area* must be one-third. Can think in terms of unity\n",
    "#And since the *width* is 12 hrs, then the height must be... (area divided by width) \n",
    "1/3. / 12"
   ]
  },
  {
   "cell_type": "code",
   "execution_count": 252,
   "metadata": {
    "collapsed": false
   },
   "outputs": [
    {
     "data": {
      "text/plain": [
       "0.05555555555555555"
      ]
     },
     "execution_count": 252,
     "metadata": {},
     "output_type": "execute_result"
    }
   ],
   "source": [
    "#4 'probability units' (?)\n",
    "2/3. / 12"
   ]
  },
  {
   "cell_type": "code",
   "execution_count": 253,
   "metadata": {
    "collapsed": false
   },
   "outputs": [
    {
     "data": {
      "text/plain": [
       "36"
      ]
     },
     "execution_count": 253,
     "metadata": {},
     "output_type": "execute_result"
    }
   ],
   "source": []
  },
  {
   "cell_type": "code",
   "execution_count": null,
   "metadata": {
    "collapsed": true
   },
   "outputs": [],
   "source": []
  }
 ],
 "metadata": {
  "kernelspec": {
   "display_name": "Python 3",
   "language": "python",
   "name": "python3"
  },
  "language_info": {
   "codemirror_mode": {
    "name": "ipython",
    "version": 3
   },
   "file_extension": ".py",
   "mimetype": "text/x-python",
   "name": "python",
   "nbconvert_exporter": "python",
   "pygments_lexer": "ipython3",
   "version": "3.6.0"
  }
 },
 "nbformat": 4,
 "nbformat_minor": 0
}
