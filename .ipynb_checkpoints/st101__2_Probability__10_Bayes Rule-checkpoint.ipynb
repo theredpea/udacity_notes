{
 "cells": [
  {
   "cell_type": "code",
   "execution_count": 6,
   "metadata": {
    "collapsed": false
   },
   "outputs": [],
   "source": [
    "import itertools\n",
    "import pandas as pd\n",
    "import numpy as np\n",
    "import matplotlib.pyplot as plt\n",
    "import functools\n",
    "\n",
    "%matplotlib inline\n"
   ]
  },
  {
   "cell_type": "markdown",
   "metadata": {},
   "source": [
    "# Bayes Rule\n",
    " - Reverend Thomas Bayes\n",
    " - To infers existence of God\n",
    " - Holy Grail of Probabilistic thinking\n",
    " - Informed Artificial Intelligence\n"
   ]
  },
  {
   "cell_type": "code",
   "execution_count": 8,
   "metadata": {
    "collapsed": false
   },
   "outputs": [],
   "source": [
    "def cancer_test():\n",
    "    \"\"\"\n",
    "    :returns: P(C|P);\n",
    "    Prob you have cancer given the test is positive\n",
    "    Solution: https://www.udacity.com/course/viewer#!/c-st101/l-48703346/e-48759018/m-48480554\n",
    "    \n",
    "    \"\"\"\n",
    "    #returning this suggests your chances of having cancer\n",
    "    #Haven't changed regardless of the test returning positive\n",
    "    p_c = 0.01 \n",
    "    \n",
    "    #Returning this is an answer to a different question;\n",
    "    #this is the probability of positive test result\n",
    "    #This question asks about the probability of cancer\n",
    "    p_p_g_c = 0.9\n",
    "    \n",
    "    p_c_g_p = 0.08\n",
    "    \n",
    "    #Since sensitivity (i.e. the amount of confidence we can put)\n",
    "    #That a positive test means a positive cancer?\n",
    "    #Is high; we expect it increases our chances from the generic population\n",
    "    assert p_c_g_p > p_c\n",
    "    \n",
    "    #And no relation to p_p_g_c; different question\n",
    "    \n",
    "    return p_c_g_p\n",
    "    "
   ]
  },
  {
   "cell_type": "markdown",
   "metadata": {},
   "source": [
    "# Sensitivity vs Specificity \n",
    "\n",
    " - **Sensitivity**\n",
    "  - Chances the outcome (i.e. have disease) is predicted by the indicator (i.e. a test says you have disease) \n",
    "  - the amount of confidence we can have in this test\n",
    " - **Specificity**\n",
    "  - Chances the lack of outcome (i.e. no disease) is predicted by indicator (i.e. a test says you dont have disease)\n",
    " \n",
    " If we are conservative, (in medicine we are) then... \n",
    "  - we are willing to say we have cancer even if we dont (fail sensitivity test)\n",
    "  - and we really want to be sure that a negative test, can be reliable (pass specificity test)\n",
    " \n",
    "\n"
   ]
  },
  {
   "cell_type": "code",
   "execution_count": 10,
   "metadata": {
    "collapsed": false
   },
   "outputs": [],
   "source": [
    "class Event(object):\n",
    "    \n",
    "    GIVEN = ' given '\n",
    "    NOT = 'not'\n",
    "    AND = ' and '\n",
    "    NEGATIVE = 'negative'\n",
    "    POSITIVE = 'positive'\n",
    "    \n",
    "    #def __new__(cls, name, prob, prob_universeprob_population={}):\n",
    "    #    return super().__new__(cls, name, prob, prob_population)\n",
    "    # Was gonna check first the population, but...\n",
    "    \n",
    "    def __init__(self, name):#, *args, **kwargs):\n",
    "        self.__name = str(name).strip()\n",
    "        \n",
    "    def __neg__(self):\n",
    "        return self.__invert__()\n",
    "    \n",
    "    def __invert__(self):\n",
    "        \"\"\"\n",
    "        The idea of a binary event\n",
    "        :returns: the 'inverse' of this event; this event not-happening\n",
    "        \"\"\"\n",
    "        # A conditional event; just negate the posterior\n",
    "        if self.given():\n",
    "            return (~self.posterior()) | self.given()\n",
    "        \n",
    "        # A joint event; negate both and re-join\n",
    "        if all(self.joint()):\n",
    "            return ~self.joint()[0]  & ~self.joint()[1]\n",
    "        \n",
    "        # A negative single event; make positive\n",
    "        if self.__name.startswith(self.NOT):\n",
    "            return Event(self.__name.lstrip(self.NOT).strip('()'))\n",
    "            \n",
    "        # A positive single event; make negative\n",
    "        else:\n",
    "            #if self.POSITIVE in self.__name:\n",
    "            #    not_name = self.__name.replace(self.POSITIVE, self.NEGATIVE)\n",
    "            #elif self.NEGATIVE in self.__name:\n",
    "            #    not_name = self.__name.replace(self.NEGATIVE, self.POSITIVE)\n",
    "            #else:\n",
    "            return Event('{0}({1})'.format(self.NOT, self.__name))\n",
    "        \n",
    "    def __or__(self, event_2):\n",
    "        \"\"\"Notice this would *not* support\n",
    "        transitive property as \"or\" normally should\n",
    "        Though I guess \"truthied\" things aren't actually transitive\n",
    "        (A__or__B == B__or__A)\n",
    "        \"\"\"\n",
    "        return self.given(event_2)\n",
    "    \n",
    "    def __and__(self, event_2):\n",
    "        \"\"\"\n",
    "        \"\"\"\n",
    "        return self.joint(event_2)\n",
    "    \n",
    "    def joint(self, event_2=None):\n",
    "        if event_2 is None:\n",
    "            if self.AND in self.__name:\n",
    "                return [Event(_) for _ in self.__name.split(self.AND)]\n",
    "            else:\n",
    "                return [None, None]\n",
    "        else:\n",
    "            and_name = '{0}{1}{2}'.format(self, self.AND, event_2)\n",
    "            return Event(and_name)\n",
    "\n",
    "    def posterior(self):\n",
    "        \"\"\"\n",
    "        If this is a conditional,\n",
    "        P(Cancer|Pos)\n",
    "        :returns: the name of the posterior event, that the patient has Cancer\n",
    "        \"\"\"\n",
    "        #GET method\n",
    "        if self.GIVEN in self.__name:\n",
    "            #assert self.GIVEN in self.__name, 'No second event'\n",
    "            return Event(self.__name.split(self.GIVEN)[0])\n",
    "        #No SET method because there is not left-to-right syntax\n",
    "        #Whereas the \"given\" method creates a new conditional\n",
    "            \n",
    "            \n",
    "   \n",
    "    def given(self, event_2=None):\n",
    "        \"\"\"\n",
    "        If this is a conditional, event\n",
    "        P(Cancer|Pos)\n",
    "        :params event_2: the second event IF you want to create a new given event\n",
    "        :returns: the name of the original event, that test is Positive, if no event_2 param passed and this is a conditional event\n",
    "        Else a new conditional event created by combining self and event_2\n",
    "        \"\"\"\n",
    "        #GET method\n",
    "        if event_2 is None:\n",
    "            \n",
    "            if self.GIVEN in self.__name:\n",
    "                #assert self.GIVEN in self.__name, 'No first event'\n",
    "                return Event(self.__name.split(self.GIVEN)[1])\n",
    "        #SET method\n",
    "        else:\n",
    "            given_name = '{0}{1}{2}'.format(self, self.GIVEN, event_2)\n",
    "            #given_prob = prob\n",
    "            return Event(given_name) #, given_prob, self.__probs)\n",
    "   \n",
    "    def __nickname__(self):\n",
    "        \"\"\"\n",
    "        Would want nicknames for like 'gay' could by 'G'\n",
    "        And other  conventions (saved as constants) like 'N' for 'not'\n",
    "        \n",
    "        'G' for given; or the symbol '|'\n",
    "        'A' for and; or the symbol or acceptable '&'\n",
    "        \"\"\"\n",
    "        return (self.__name\n",
    "                .replace(' given ', '|')\n",
    "                .replace(' and ', ',')\n",
    "                .upper())\n",
    "        \n",
    "    def __repr__(self):\n",
    "        return 'Event(\"{}\")'.format(self.__name)\n",
    "\n",
    "    def __str__(self):\n",
    "        return self.__name\n",
    "\n",
    "    def __hash__(self):\n",
    "        return hash(tuple(sorted(self.__name.split(self.AND))))\n",
    "\n",
    "    def __eq__(self, other):\n",
    "        return hash(self) == hash(other)"
   ]
  },
  {
   "cell_type": "code",
   "execution_count": 25,
   "metadata": {
    "collapsed": false
   },
   "outputs": [],
   "source": [
    "class Probability(dict):\n",
    "        \n",
    "    def __call__(self, event, *args, **kwargs):\n",
    "        return self.__getitem__(event)\n",
    "        \n",
    "    def __getitem__(self, key):\n",
    "        \"\"\"\n",
    "        Not a sequence type;\n",
    "        Not implementing negative integers or accepting ranges\n",
    "        \"\"\"\n",
    "        \n",
    "        return super().__getitem__(key)\n",
    "    \n",
    "    def __set__(self, event, prob):\n",
    "       \n",
    "        assert event is not None, 'Event must be not None'\n",
    "            \n",
    "        prob = float(prob)\n",
    "        event = Event(event)\n",
    "        \n",
    "        assert 0 <= prob <= 1, 'Dont know probability of {0} ' \\\n",
    "        '{1} outside of limits 0 and 1'.format(event, prob) \n",
    "        \n",
    "        super().__setitem__(event, prob)\n",
    "        \n",
    "        #Create Joint from Conditional and Single matching Original Event\n",
    "        #=================\n",
    "        #Scenario 1; event = P(A|B) and already have P(B)\n",
    "        #Can create P(A&B)\n",
    "        \n",
    "        #Create not from conditional\n",
    "        #=================\n",
    "        #Scenario 1a; event = P(A|B) \n",
    "        # Can create P(~A|B)\n",
    "        \n",
    "        try:\n",
    "            conditional_event = event\n",
    "            conditional_prob = prob\n",
    "            \n",
    "            given_event = event.given()\n",
    "            given_event_prob = self[given_event]\n",
    "            \n",
    "            #Now set the probability (in the entire event space) \n",
    "            #of *both* the conditional event, and also the joint event; P(A&B):\n",
    "            #Who is the P(B) * P(A|B)\n",
    "            joint_event = conditional_event.posterior() & conditional_event.given()\n",
    "            joint_prob = conditional_prob * given_event_prob\n",
    "            \n",
    "            super().__setitem__(joint_event, joint_prob)\n",
    "            \n",
    "        except KeyError as e:\n",
    "            msg = 'dont have P({})'.format(given_event) if given_event is not None else 'no event.given()'\n",
    "            #print('No joint, {}'.format(msg))\n",
    "            \n",
    "        #Create Joint from Single and any matching Conditional\n",
    "        #================\n",
    "        #Scenario 2; event = P(B) and already have P(N|B); \n",
    "        #    notice how \"N\" could be anything! Could be more than one; for-loop it\n",
    "        #Can create P(N&B)\n",
    "        try:\n",
    "            original_prob = prob\n",
    "            original_event = event\n",
    "            conditional_event = [_ for _ in self.events() if _.given()==original_event][0]\n",
    "  \n",
    "            for conditional_event in conditional_events:\n",
    "                conditional_prob = self[conditional_event]\n",
    "                \n",
    "                joint_event = conditional_event.posterior() & conditional_event.given()\n",
    "                joint_prob = conditional_prob * original_prob\n",
    "                \n",
    "                #print('joint')\n",
    "                super().__setitem__(joint_event, joint_prob)\n",
    "            \n",
    "        except Exception as e:\n",
    "            pass#print('No joint, dont have events with original {}'.format(original_event))#pass#print('No scenario 2')\n",
    "            \n",
    "        \n",
    "        #Create Single from Joint and other Single in Joint\n",
    "        #====================\n",
    "        #Scenario one; event = P(A&B) and ...\n",
    "        #we have P(A) so we can create P(A|B) \n",
    "        #or we have P(B) and we can create P(B|A)\n",
    "        e_1, e_2 = event.joint() \n",
    "        joint_event = event\n",
    "        joint_prob = prob\n",
    "        for original_event, second_event in ((e_1, e_2), (e_2, e_1)):\n",
    "            try:\n",
    "                original_prob = self[original_event]\n",
    "                \n",
    "                conditional_event = second_event | original_event\n",
    "                conditional_event_prob = joint_prob / original_prob\n",
    "                \n",
    "                #print('conditional')\n",
    "                super().__setitem__(conditional_event, conditional_event_prob)\n",
    "            except Exception as e:\n",
    "                pass#print('No conditional')#pass\n",
    "            \n",
    "\n",
    "    def events(self):\n",
    "        return self.keys()\n",
    "    \n",
    "    def __setitem__(self, event, prob):\n",
    "        #IF we have P(A) we can get P(~A),\n",
    "        #And if the not would produce any other effects, we should follow those through\n",
    "        for event, prob in ((event, prob), (~event, 1-prob)):\n",
    "            print(event, prob)\n",
    "            self.__set__(event, prob)\n",
    "        "
   ]
  },
  {
   "cell_type": "code",
   "execution_count": 45,
   "metadata": {
    "collapsed": false
   },
   "outputs": [
    {
     "name": "stdout",
     "output_type": "stream",
     "text": [
      "cancer 0.01\n",
      "not(cancer) 0.99\n",
      "--\n",
      "positive given cancer 0.9\n",
      "not(positive) given cancer 0.09999999999999998\n",
      "--\n",
      "not(positive) given not(cancer) 0.9\n",
      "positive given not(cancer) 0.09999999999999998\n",
      "--\n",
      "0.09899999999999998\n",
      "0.09899999999999998\n"
     ]
    },
    {
     "ename": "KeyError",
     "evalue": "Event(\"cancer given positive\")",
     "output_type": "error",
     "traceback": [
      "\u001b[0;31m---------------------------------------------------------------------------\u001b[0m",
      "\u001b[0;31mKeyError\u001b[0m                                  Traceback (most recent call last)",
      "\u001b[0;32m<ipython-input-45-fb5a4ac76077>\u001b[0m in \u001b[0;36m<module>\u001b[0;34m()\u001b[0m\n\u001b[1;32m     27\u001b[0m     \u001b[1;32mreturn\u001b[0m \u001b[0mP\u001b[0m\u001b[1;33m(\u001b[0m\u001b[0mC\u001b[0m \u001b[1;33m|\u001b[0m \u001b[0mPos\u001b[0m\u001b[1;33m)\u001b[0m\u001b[1;33m\u001b[0m\u001b[0m\n\u001b[1;32m     28\u001b[0m \u001b[1;33m\u001b[0m\u001b[0m\n\u001b[0;32m---> 29\u001b[0;31m \u001b[0mcancer_test\u001b[0m\u001b[1;33m(\u001b[0m\u001b[1;33m)\u001b[0m\u001b[1;33m\u001b[0m\u001b[0m\n\u001b[0m",
      "\u001b[0;32m<ipython-input-45-fb5a4ac76077>\u001b[0m in \u001b[0;36mcancer_test\u001b[0;34m()\u001b[0m\n\u001b[1;32m     25\u001b[0m     \u001b[0mprint\u001b[0m\u001b[1;33m(\u001b[0m\u001b[0mP\u001b[0m\u001b[1;33m(\u001b[0m\u001b[1;33m~\u001b[0m\u001b[0mC\u001b[0m\u001b[1;33m)\u001b[0m \u001b[1;33m*\u001b[0m \u001b[0mP\u001b[0m\u001b[1;33m(\u001b[0m\u001b[0mPos\u001b[0m \u001b[1;33m|\u001b[0m \u001b[1;33m~\u001b[0m\u001b[0mC\u001b[0m\u001b[1;33m)\u001b[0m\u001b[1;33m)\u001b[0m\u001b[1;33m\u001b[0m\u001b[0m\n\u001b[1;32m     26\u001b[0m     \u001b[0mprint\u001b[0m\u001b[1;33m(\u001b[0m\u001b[0mP\u001b[0m\u001b[1;33m(\u001b[0m\u001b[1;33m~\u001b[0m\u001b[0mC\u001b[0m \u001b[1;33m&\u001b[0m \u001b[0mPos\u001b[0m\u001b[1;33m)\u001b[0m\u001b[1;33m)\u001b[0m\u001b[1;33m\u001b[0m\u001b[0m\n\u001b[0;32m---> 27\u001b[0;31m     \u001b[1;32mreturn\u001b[0m \u001b[0mP\u001b[0m\u001b[1;33m(\u001b[0m\u001b[0mC\u001b[0m \u001b[1;33m|\u001b[0m \u001b[0mPos\u001b[0m\u001b[1;33m)\u001b[0m\u001b[1;33m\u001b[0m\u001b[0m\n\u001b[0m\u001b[1;32m     28\u001b[0m \u001b[1;33m\u001b[0m\u001b[0m\n\u001b[1;32m     29\u001b[0m \u001b[0mcancer_test\u001b[0m\u001b[1;33m(\u001b[0m\u001b[1;33m)\u001b[0m\u001b[1;33m\u001b[0m\u001b[0m\n",
      "\u001b[0;32m<ipython-input-25-de5e408ca5c7>\u001b[0m in \u001b[0;36m__call__\u001b[0;34m(self, event, *args, **kwargs)\u001b[0m\n\u001b[1;32m      2\u001b[0m \u001b[1;33m\u001b[0m\u001b[0m\n\u001b[1;32m      3\u001b[0m     \u001b[1;32mdef\u001b[0m \u001b[0m__call__\u001b[0m\u001b[1;33m(\u001b[0m\u001b[0mself\u001b[0m\u001b[1;33m,\u001b[0m \u001b[0mevent\u001b[0m\u001b[1;33m,\u001b[0m \u001b[1;33m*\u001b[0m\u001b[0margs\u001b[0m\u001b[1;33m,\u001b[0m \u001b[1;33m**\u001b[0m\u001b[0mkwargs\u001b[0m\u001b[1;33m)\u001b[0m\u001b[1;33m:\u001b[0m\u001b[1;33m\u001b[0m\u001b[0m\n\u001b[0;32m----> 4\u001b[0;31m         \u001b[1;32mreturn\u001b[0m \u001b[0mself\u001b[0m\u001b[1;33m.\u001b[0m\u001b[0m__getitem__\u001b[0m\u001b[1;33m(\u001b[0m\u001b[0mevent\u001b[0m\u001b[1;33m)\u001b[0m\u001b[1;33m\u001b[0m\u001b[0m\n\u001b[0m\u001b[1;32m      5\u001b[0m \u001b[1;33m\u001b[0m\u001b[0m\n\u001b[1;32m      6\u001b[0m     \u001b[1;32mdef\u001b[0m \u001b[0m__getitem__\u001b[0m\u001b[1;33m(\u001b[0m\u001b[0mself\u001b[0m\u001b[1;33m,\u001b[0m \u001b[0mkey\u001b[0m\u001b[1;33m)\u001b[0m\u001b[1;33m:\u001b[0m\u001b[1;33m\u001b[0m\u001b[0m\n",
      "\u001b[0;32m<ipython-input-25-de5e408ca5c7>\u001b[0m in \u001b[0;36m__getitem__\u001b[0;34m(self, key)\u001b[0m\n\u001b[1;32m     10\u001b[0m         \"\"\"\n\u001b[1;32m     11\u001b[0m \u001b[1;33m\u001b[0m\u001b[0m\n\u001b[0;32m---> 12\u001b[0;31m         \u001b[1;32mreturn\u001b[0m \u001b[0msuper\u001b[0m\u001b[1;33m(\u001b[0m\u001b[1;33m)\u001b[0m\u001b[1;33m.\u001b[0m\u001b[0m__getitem__\u001b[0m\u001b[1;33m(\u001b[0m\u001b[0mkey\u001b[0m\u001b[1;33m)\u001b[0m\u001b[1;33m\u001b[0m\u001b[0m\n\u001b[0m\u001b[1;32m     13\u001b[0m \u001b[1;33m\u001b[0m\u001b[0m\n\u001b[1;32m     14\u001b[0m     \u001b[1;32mdef\u001b[0m \u001b[0m__set__\u001b[0m\u001b[1;33m(\u001b[0m\u001b[0mself\u001b[0m\u001b[1;33m,\u001b[0m \u001b[0mevent\u001b[0m\u001b[1;33m,\u001b[0m \u001b[0mprob\u001b[0m\u001b[1;33m)\u001b[0m\u001b[1;33m:\u001b[0m\u001b[1;33m\u001b[0m\u001b[0m\n",
      "\u001b[0;31mKeyError\u001b[0m: Event(\"cancer given positive\")"
     ]
    }
   ],
   "source": [
    "\n",
    "P = Probability()\n",
    "C = Event('cancer')\n",
    "Pos = Event('positive') \n",
    "Neg = ~Pos\n",
    "p_g_c=Pos | C\n",
    "#print(p_g_c)\n",
    "#print(p_g_c.given())\n",
    "#print(p_g_c.posterior())\n",
    "#print(Pos | None)\n",
    "\n",
    "def cancer_test():\n",
    "    \"\"\"\n",
    "    The question being asked is this: 1% of the population has cancer. \n",
    "    Given that there is a 90% chance that you will test positive if you \n",
    "    have cancer and that there is a 90% chance you will test negative \n",
    "    if you don't have cancer, what is the probability that you have \n",
    "    cancer if you test positive?\n",
    "    \"\"\"\n",
    "\n",
    "    P[C] = 0.01\n",
    "    P[Pos | C] = 0.9\n",
    "    P[Neg | ~C] = 0.9\n",
    "\n",
    "    print(P(~C) * P(Pos | ~C))\n",
    "    print(P(~C & Pos))\n",
    "    return P(C | Pos)\n",
    "          \n",
    "cancer_test()"
   ]
  },
  {
   "cell_type": "markdown",
   "metadata": {},
   "source": [
    "![See the venn diagram that Sebastian drew](img/venn_diagram.png)"
   ]
  },
  {
   "cell_type": "code",
   "execution_count": 30,
   "metadata": {
    "collapsed": false
   },
   "outputs": [
    {
     "data": {
      "text/plain": [
       "[None, None]"
      ]
     },
     "execution_count": 30,
     "metadata": {},
     "output_type": "execute_result"
    }
   ],
   "source": [
    "(C | Pos).joint()"
   ]
  },
  {
   "cell_type": "code",
   "execution_count": 34,
   "metadata": {
    "collapsed": false
   },
   "outputs": [
    {
     "data": {
      "text/plain": [
       "(Event(\"cancer\"), Event(\"positive\"))"
      ]
     },
     "execution_count": 34,
     "metadata": {},
     "output_type": "execute_result"
    }
   ],
   "source": [
    "(C | Pos).posterior() , (C | Pos).given()"
   ]
  },
  {
   "cell_type": "code",
   "execution_count": 37,
   "metadata": {
    "collapsed": false
   },
   "outputs": [
    {
     "data": {
      "text/plain": [
       "[Event(\"cancer\"), Event(\"positive\")]"
      ]
     },
     "execution_count": 37,
     "metadata": {},
     "output_type": "execute_result"
    }
   ],
   "source": [
    "(C & Pos).joint()"
   ]
  },
  {
   "cell_type": "code",
   "execution_count": 38,
   "metadata": {
    "collapsed": false
   },
   "outputs": [
    {
     "name": "stdout",
     "output_type": "stream",
     "text": [
      "[(Event(\"cancer\"), 0.01),\n",
      " (Event(\"not(cancer)\"), 0.99),\n",
      " (Event(\"positive given cancer\"), 0.9),\n",
      " (Event(\"positive and cancer\"), 0.009000000000000001),\n",
      " (Event(\"not(positive) given cancer\"), 0.09999999999999998),\n",
      " (Event(\"not(positive) and cancer\"), 0.0009999999999999998),\n",
      " (Event(\"not(positive) given not(cancer)\"), 0.9),\n",
      " (Event(\"not(positive) and not(cancer)\"), 0.891),\n",
      " (Event(\"positive given not(cancer)\"), 0.09999999999999998),\n",
      " (Event(\"positive and not(cancer)\"), 0.09899999999999998)]\n"
     ]
    }
   ],
   "source": [
    "import pprint\n",
    "pprint.pprint(list(P.items()))"
   ]
  },
  {
   "cell_type": "code",
   "execution_count": null,
   "metadata": {
    "collapsed": false
   },
   "outputs": [],
   "source": []
  },
  {
   "cell_type": "code",
   "execution_count": 40,
   "metadata": {
    "collapsed": false
   },
   "outputs": [
    {
     "data": {
      "text/plain": [
       "dict_keys([Event(\"cancer\"), Event(\"not(cancer)\"), Event(\"positive given cancer\"), Event(\"positive and cancer\"), Event(\"not(positive) given cancer\"), Event(\"not(positive) and cancer\"), Event(\"not(positive) given not(cancer)\"), Event(\"not(positive) and not(cancer)\"), Event(\"positive given not(cancer)\"), Event(\"positive and not(cancer)\")])"
      ]
     },
     "execution_count": 40,
     "metadata": {},
     "output_type": "execute_result"
    }
   ],
   "source": [
    "P.keys()"
   ]
  },
  {
   "cell_type": "code",
   "execution_count": 236,
   "metadata": {
    "collapsed": false
   },
   "outputs": [
    {
     "data": {
      "text/plain": [
       "True"
      ]
     },
     "execution_count": 236,
     "metadata": {},
     "output_type": "execute_result"
    }
   ],
   "source": [
    "'Event(\"cancer\", 0.5)' == 'Event(\"cancer\", 0.5)'"
   ]
  },
  {
   "cell_type": "code",
   "execution_count": null,
   "metadata": {
    "collapsed": false
   },
   "outputs": [],
   "source": []
  }
 ],
 "metadata": {
  "kernelspec": {
   "display_name": "Python 3",
   "language": "python",
   "name": "python3"
  },
  "language_info": {
   "codemirror_mode": {
    "name": "ipython",
    "version": 3
   },
   "file_extension": ".py",
   "mimetype": "text/x-python",
   "name": "python",
   "nbconvert_exporter": "python",
   "pygments_lexer": "ipython3",
   "version": "3.6.0"
  }
 },
 "nbformat": 4,
 "nbformat_minor": 0
}
