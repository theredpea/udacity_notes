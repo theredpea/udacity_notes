{
 "metadata": {
  "name": "",
  "signature": "sha256:ba5b15252b952fde0faa61b451478b97509c9d84dd926c4969bb9409db4a3895"
 },
 "nbformat": 3,
 "nbformat_minor": 0,
 "worksheets": [
  {
   "cells": [
    {
     "cell_type": "code",
     "collapsed": false,
     "input": [
      "import inspect\n"
     ],
     "language": "python",
     "metadata": {},
     "outputs": [],
     "prompt_number": 3
    },
    {
     "cell_type": "code",
     "collapsed": false,
     "input": [
      "print('another line first')\n",
      "def a():\n",
      "    print ('a')\n",
      "inspect.getsourcelines(a)"
     ],
     "language": "python",
     "metadata": {},
     "outputs": [
      {
       "output_type": "stream",
       "stream": "stdout",
       "text": [
        "another line first\n"
       ]
      },
      {
       "metadata": {},
       "output_type": "pyout",
       "prompt_number": 5,
       "text": [
        "(['def a():\\n', \"    print ('a')\\n\"], 2)"
       ]
      }
     ],
     "prompt_number": 5
    },
    {
     "cell_type": "code",
     "collapsed": false,
     "input": [
      "%run 2to3 'print \"a\"'"
     ],
     "language": "python",
     "metadata": {},
     "outputs": [
      {
       "output_type": "stream",
       "stream": "stderr",
       "text": [
        "ERROR: File `'2to3.py'` not found.\n"
       ]
      }
     ],
     "prompt_number": 6
    },
    {
     "cell_type": "code",
     "collapsed": false,
     "input": [
      "with open('old_print.py', 'w') as f:\n",
      "    f.write('print \"a\"')\n",
      "\n",
      "%run ../Tools/Scripts/2to3.py old_print.py"
     ],
     "language": "python",
     "metadata": {},
     "outputs": [
      {
       "output_type": "stream",
       "stream": "stdout",
       "text": [
        "--- old_print.py\t(original)\n",
        "+++ old_print.py\t(refactored)\n",
        "@@ -1 +1 @@\n",
        "-print \"a\"\n",
        "+print(\"a\")\n"
       ]
      }
     ],
     "prompt_number": 10
    },
    {
     "cell_type": "code",
     "collapsed": false,
     "input": [
      "#http://www.diveintopython3.net/porting-code-to-python-3-with-2to3.html#print"
     ],
     "language": "python",
     "metadata": {},
     "outputs": [],
     "prompt_number": 11
    },
    {
     "cell_type": "code",
     "collapsed": false,
     "input": [
      "import os\n",
      "os.getcwd()\n"
     ],
     "language": "python",
     "metadata": {},
     "outputs": [
      {
       "metadata": {},
       "output_type": "pyout",
       "prompt_number": 9,
       "text": [
        "'C:\\\\Anaconda3\\\\notebooks'"
       ]
      }
     ],
     "prompt_number": 9
    },
    {
     "cell_type": "code",
     "collapsed": false,
     "input": [
      "#Trying multi-line copy-paste with Ctrl+Shift+v"
     ],
     "language": "python",
     "metadata": {},
     "outputs": [],
     "prompt_number": 12
    },
    {
     "cell_type": "code",
     "collapsed": false,
     "input": [
      "%paste"
     ],
     "language": "python",
     "metadata": {},
     "outputs": [
      {
       "output_type": "stream",
       "stream": "stderr",
       "text": [
        "ERROR: Line magic function `%paste` not found.\n"
       ]
      }
     ],
     "prompt_number": 14
    },
    {
     "cell_type": "code",
     "collapsed": false,
     "input": [
      "%cpaste"
     ],
     "language": "python",
     "metadata": {},
     "outputs": [
      {
       "output_type": "stream",
       "stream": "stderr",
       "text": [
        "ERROR: Line magic function `%cpaste` not found.\n"
       ]
      }
     ],
     "prompt_number": 15
    },
    {
     "cell_type": "code",
     "collapsed": false,
     "input": [
      "#OK, starting\n",
      "print(0.3)"
     ],
     "language": "python",
     "metadata": {},
     "outputs": [
      {
       "output_type": "stream",
       "stream": "stdout",
       "text": [
        "0.3\n"
       ]
      }
     ],
     "prompt_number": 17
    },
    {
     "cell_type": "code",
     "collapsed": false,
     "input": [
      "def f(p):\n",
      "    return p\n",
      "\n",
      "print(f(0.3))"
     ],
     "language": "python",
     "metadata": {},
     "outputs": [
      {
       "output_type": "stream",
       "stream": "stdout",
       "text": [
        "0.3\n"
       ]
      }
     ],
     "prompt_number": 18
    },
    {
     "cell_type": "code",
     "collapsed": false,
     "input": [
      "def complement(p):\n",
      "    return 1-p\n",
      "complement(0.1)"
     ],
     "language": "python",
     "metadata": {},
     "outputs": [
      {
       "metadata": {},
       "output_type": "pyout",
       "prompt_number": 19,
       "text": [
        "0.9"
       ]
      }
     ],
     "prompt_number": 19
    },
    {
     "cell_type": "code",
     "collapsed": false,
     "input": [
      "def two_heads(p_h):\n",
      "    return p_h**2 #Or p_h * p_h\n",
      "\n",
      "two_heads(0.5)"
     ],
     "language": "python",
     "metadata": {},
     "outputs": [
      {
       "metadata": {},
       "output_type": "pyout",
       "prompt_number": 20,
       "text": [
        "0.25"
       ]
      }
     ],
     "prompt_number": 20
    },
    {
     "cell_type": "code",
     "collapsed": false,
     "input": [
      "two_heads(0.1)"
     ],
     "language": "python",
     "metadata": {},
     "outputs": [
      {
       "metadata": {},
       "output_type": "pyout",
       "prompt_number": 21,
       "text": [
        "0.010000000000000002"
       ]
      }
     ],
     "prompt_number": 21
    },
    {
     "cell_type": "code",
     "collapsed": false,
     "input": [
      "def three_heads(p_h):\n",
      "    #ONLY three heads; heads EXACTLY once\n",
      "    return p_h * complement(p_h) * complement(p_h) * 3 \n",
      "    #Originally made a mistake; it is not p_h **3 (aka p_h * p_h * p_h)\n",
      "    #That represents the likelihood of flipping heads three times in a row\n"
     ],
     "language": "python",
     "metadata": {},
     "outputs": [],
     "prompt_number": 23
    },
    {
     "cell_type": "code",
     "collapsed": false,
     "input": [
      "print(three_heads(0.5))\n",
      "three_flips = three_heads(0.8)\n",
      "print(three_flips)"
     ],
     "language": "python",
     "metadata": {},
     "outputs": [
      {
       "output_type": "stream",
       "stream": "stdout",
       "text": [
        "0.375\n",
        "0.09599999999999996\n"
       ]
      }
     ],
     "prompt_number": 26
    },
    {
     "cell_type": "code",
     "collapsed": false,
     "input": [
      "#Interesting; can we answer; what is the probability of heads that makes \"exactly one heads\" most likely?\n",
      "%matplotlib inline"
     ],
     "language": "python",
     "metadata": {},
     "outputs": [],
     "prompt_number": 28
    },
    {
     "cell_type": "code",
     "collapsed": false,
     "input": [
      "import pandas as pd\n",
      "import numpy as np"
     ],
     "language": "python",
     "metadata": {},
     "outputs": [],
     "prompt_number": 30
    },
    {
     "cell_type": "code",
     "collapsed": false,
     "input": [
      "np.arange(0,1,0.01)"
     ],
     "language": "python",
     "metadata": {},
     "outputs": [
      {
       "metadata": {},
       "output_type": "pyout",
       "prompt_number": 31,
       "text": [
        "array([ 0.  ,  0.01,  0.02,  0.03,  0.04,  0.05,  0.06,  0.07,  0.08,\n",
        "        0.09,  0.1 ,  0.11,  0.12,  0.13,  0.14,  0.15,  0.16,  0.17,\n",
        "        0.18,  0.19,  0.2 ,  0.21,  0.22,  0.23,  0.24,  0.25,  0.26,\n",
        "        0.27,  0.28,  0.29,  0.3 ,  0.31,  0.32,  0.33,  0.34,  0.35,\n",
        "        0.36,  0.37,  0.38,  0.39,  0.4 ,  0.41,  0.42,  0.43,  0.44,\n",
        "        0.45,  0.46,  0.47,  0.48,  0.49,  0.5 ,  0.51,  0.52,  0.53,\n",
        "        0.54,  0.55,  0.56,  0.57,  0.58,  0.59,  0.6 ,  0.61,  0.62,\n",
        "        0.63,  0.64,  0.65,  0.66,  0.67,  0.68,  0.69,  0.7 ,  0.71,\n",
        "        0.72,  0.73,  0.74,  0.75,  0.76,  0.77,  0.78,  0.79,  0.8 ,\n",
        "        0.81,  0.82,  0.83,  0.84,  0.85,  0.86,  0.87,  0.88,  0.89,\n",
        "        0.9 ,  0.91,  0.92,  0.93,  0.94,  0.95,  0.96,  0.97,  0.98,  0.99])"
       ]
      }
     ],
     "prompt_number": 31
    },
    {
     "cell_type": "code",
     "collapsed": false,
     "input": [
      "head_to_three_heads = pd.DataFrame({'heads':np.arange(0,1,0.01)})"
     ],
     "language": "python",
     "metadata": {},
     "outputs": [],
     "prompt_number": 32
    },
    {
     "cell_type": "code",
     "collapsed": false,
     "input": [
      "head_to_three_heads['three_heads'] = head_to_three_heads.heads.map(three_heads)"
     ],
     "language": "python",
     "metadata": {},
     "outputs": [],
     "prompt_number": 33
    },
    {
     "cell_type": "code",
     "collapsed": false,
     "input": [
      "head_to_three_heads.plot()"
     ],
     "language": "python",
     "metadata": {},
     "outputs": [
      {
       "metadata": {},
       "output_type": "pyout",
       "prompt_number": 34,
       "text": [
        "<matplotlib.axes.AxesSubplot at 0x7bcd748>"
       ]
      },
      {
       "metadata": {},
       "output_type": "display_data",
       "png": "[encoded data removed]",
       "text": [
        "<matplotlib.figure.Figure at 0x7bcd198>"
       ]
      }
     ],
     "prompt_number": 34
    },
    {
     "cell_type": "code",
     "collapsed": false,
     "input": [
      "#Looks like the probability of three_heads is highest when x is around 35? Could it be, 33.1/3?\n",
      "head_to_three_heads[head_to_three_heads.three_heads == head_to_three_heads.three_heads.max()]"
     ],
     "language": "python",
     "metadata": {},
     "outputs": [
      {
       "html": [
        "<div style=\"max-height:1000px;max-width:1500px;overflow:auto;\">\n",
        "<table border=\"1\" class=\"dataframe\">\n",
        "  <thead>\n",
        "    <tr style=\"text-align: right;\">\n",
        "      <th></th>\n",
        "      <th>heads</th>\n",
        "      <th>three_heads</th>\n",
        "    </tr>\n",
        "  </thead>\n",
        "  <tbody>\n",
        "    <tr>\n",
        "      <th>33</th>\n",
        "      <td> 0.33</td>\n",
        "      <td> 0.444411</td>\n",
        "    </tr>\n",
        "  </tbody>\n",
        "</table>\n",
        "</div>"
       ],
       "metadata": {},
       "output_type": "pyout",
       "prompt_number": 37,
       "text": [
        "    heads  three_heads\n",
        "33   0.33     0.444411"
       ]
      }
     ],
     "prompt_number": 37
    },
    {
     "cell_type": "code",
     "collapsed": false,
     "input": [
      "def flip_two_coins(c1_p_h, c2_p_h):\n",
      "    return c1_p_h * c2_p_h\n"
     ],
     "language": "python",
     "metadata": {},
     "outputs": [],
     "prompt_number": 39
    },
    {
     "cell_type": "code",
     "collapsed": false,
     "input": [
      "def flip_one_of_two_coins(p_c1 = 0.3, p_h_g_c1 = 0.5, p_h_g_c2 = 0.9):\n",
      "    p_c2 = 1-p_c1\n",
      "    p_h_a_c1 = p_h_g_c1 * p_c1\n",
      "    p_h_a_c2 = p_h_g_c2 * p_c2\n",
      "    p_h = p_h_a_c1 + p_h_a_c2\n",
      "    \n",
      "    return p_h\n",
      "flip_one_of_two_coins()\n",
      "    "
     ],
     "language": "python",
     "metadata": {},
     "outputs": [
      {
       "metadata": {},
       "output_type": "pyout",
       "prompt_number": 40,
       "text": [
        "0.78"
       ]
      }
     ],
     "prompt_number": 40
    },
    {
     "cell_type": "code",
     "collapsed": false,
     "input": [
      "#OH he was calling them p0, p1, and p2 so that I knew the order he expected them when he called my func\n",
      "#Incidentally above is correct"
     ],
     "language": "python",
     "metadata": {},
     "outputs": [],
     "prompt_number": 41
    },
    {
     "cell_type": "code",
     "collapsed": false,
     "input": [
      "#But the one_of_two_coins defined the p_h_g_c2\n",
      "#Here he gives us p_t_g_c2; aka the p_np_g_nc\n",
      "p_np_g_nc = 0.8 \n",
      "flip_one_of_two_coins(0.1, 0.9, complement(p_np_g_nc))"
     ],
     "language": "python",
     "metadata": {},
     "outputs": [
      {
       "metadata": {},
       "output_type": "pyout",
       "prompt_number": 44,
       "text": [
        "0.26999999999999996"
       ]
      }
     ],
     "prompt_number": 44
    },
    {
     "cell_type": "code",
     "collapsed": false,
     "input": [
      "def flip_one_of_two_coins_second_p_tails(p_c1=0.3, p_h_g_c1 = 0.5, p_t_g_c2 = 0.1):\n",
      "    return flip_one_of_two_coins(p_c1, p_h_g_c1, complement(p_t_g_c2))"
     ],
     "language": "python",
     "metadata": {},
     "outputs": [],
     "prompt_number": 45
    },
    {
     "cell_type": "code",
     "collapsed": false,
     "input": [
      "def posterior_possibility_cancer(p_c = 0.1, p_p_g_c = 0.9, p_n_g_nc = 0.8, observe_positive = True):\n",
      "    p_p_g_nc = 1-p_n_g_nc\n",
      "    p_n_g_c = 1-p_p_g_c\n",
      "    p_nc = 1 - p_c\n",
      "    #p_p = p_p_g_nc + p_p_g_c This is wrong; don't add together \"givens\" aka posteriors \n",
      "    #that are based on different conditions\n",
      "    #Like adding fractions w/o a common denominator\n",
      "    \n",
      "    p_p_a_c = p_c * p_p_g_c\n",
      "    \n",
      "    p_p_a_nc = p_nc * p_p_g_nc\n",
      "    p_p = p_p_a_c + p_p_a_nc\n",
      "    \n",
      "    \n",
      "    p_n_a_c =  p_c * p_n_g_c\n",
      "    p_n_a_nc = p_nc * p_n_g_nc\n",
      "    \n",
      "    assert 1-p_p -  (p_n_a_c + p_n_a_nc) < 0.0001, '{} != {}'.format(1-p_p, p_n_a_c+p_n_a_nc)\n",
      "    p_n = 1-p_p\n",
      "    \n",
      "    p_c_g_p = p_p_a_c / p_p\n",
      "    \n",
      "    p_c_g_n = p_n_a_c / p_n\n",
      "    \n",
      "    return p_c_g_p if observe_positive else p_c_g_n\n",
      "posterior_possibility_cancer()\n"
     ],
     "language": "python",
     "metadata": {},
     "outputs": [
      {
       "metadata": {},
       "output_type": "pyout",
       "prompt_number": 58,
       "text": [
        "0.3333333333333334"
       ]
      }
     ],
     "prompt_number": 58
    },
    {
     "cell_type": "code",
     "collapsed": false,
     "input": [
      "posterior_possibility_cancer(observe_positive=False)"
     ],
     "language": "python",
     "metadata": {},
     "outputs": [
      {
       "metadata": {},
       "output_type": "pyout",
       "prompt_number": 59,
       "text": [
        "0.013698630136986299"
       ]
      }
     ],
     "prompt_number": 59
    },
    {
     "cell_type": "code",
     "collapsed": false,
     "input": [],
     "language": "python",
     "metadata": {},
     "outputs": []
    }
   ],
   "metadata": {}
  }
 ]
}