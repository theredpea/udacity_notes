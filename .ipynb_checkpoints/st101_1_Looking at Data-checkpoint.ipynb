{
 "cells": [
  {
   "cell_type": "markdown",
   "metadata": {},
   "source": [
    "# Statististics\n",
    "## From Data to Decisions\n",
    "\n",
    "## All Disciplines\n",
    "- Social Sciences\n",
    "- Medicine\n",
    "- Engineering\n",
    "- Public Policy\n",
    "- Psychology\n",
    "- Climatology\n",
    "- Robotics\n",
    "- Archaeology\n",
    "- Health Sciences\n",
    "- Finance\n",
    "- Business & Marketing\n",
    "\n",
    "even...\n",
    "- Biology\n",
    "- Physics"
   ]
  },
  {
   "cell_type": "code",
   "execution_count": 6,
   "metadata": {
    "collapsed": false
   },
   "outputs": [],
   "source": [
    "import pandas as pd, numpy as np"
   ]
  },
  {
   "cell_type": "code",
   "execution_count": 23,
   "metadata": {
    "collapsed": false
   },
   "outputs": [],
   "source": [
    "size_v_cost = pd.DataFrame(dict(house_size=(1400,\n",
    "                                      2400,\n",
    "                                      1800,\n",
    "                                      1900,\n",
    "                                      1300,\n",
    "                                      1100), \n",
    "                                cost=(112000,\n",
    "                                      192000,\n",
    "                                      144000,\n",
    "                                      152000,\n",
    "                                      104000,\n",
    "                                      88000)))\n"
   ]
  },
  {
   "cell_type": "code",
   "execution_count": 34,
   "metadata": {
    "collapsed": false
   },
   "outputs": [],
   "source": [
    "\n",
    "def valuing_houses_1(house_size=1300, svc=None):\n",
    "    \"\"\"\n",
    "    :param size: Size (in sqft) of house\n",
    "    :returns: How much money should you pay for that house\n",
    "    \"\"\"\n",
    "    svc =  size_v_cost if svc is None else svc\n",
    "    return svc.cost[svc.house_size==house_size].iat[0]"
   ]
  },
  {
   "cell_type": "code",
   "execution_count": 35,
   "metadata": {
    "collapsed": false
   },
   "outputs": [
    {
     "data": {
      "text/plain": [
       "0    1400\n",
       "1    2400\n",
       "2    1800\n",
       "3    1900\n",
       "4    1300\n",
       "5    1100\n",
       "Name: house_size, dtype: int64"
      ]
     },
     "execution_count": 35,
     "metadata": {},
     "output_type": "execute_result"
    }
   ],
   "source": [
    "size_v_cost['house_size']"
   ]
  },
  {
   "cell_type": "code",
   "execution_count": 36,
   "metadata": {
    "collapsed": false
   },
   "outputs": [
    {
     "data": {
      "text/plain": [
       "0    False\n",
       "1    False\n",
       "2    False\n",
       "3    False\n",
       "4     True\n",
       "5    False\n",
       "Name: house_size, dtype: bool"
      ]
     },
     "execution_count": 36,
     "metadata": {},
     "output_type": "execute_result"
    }
   ],
   "source": [
    "size_v_cost['house_size']==1300"
   ]
  },
  {
   "cell_type": "code",
   "execution_count": 37,
   "metadata": {
    "collapsed": false
   },
   "outputs": [
    {
     "data": {
      "text/plain": [
       "104000"
      ]
     },
     "execution_count": 37,
     "metadata": {},
     "output_type": "execute_result"
    }
   ],
   "source": [
    "valuing_houses_1()"
   ]
  },
  {
   "cell_type": "code",
   "execution_count": 38,
   "metadata": {
    "collapsed": false
   },
   "outputs": [],
   "source": [
    "valuing_houses_1_answer = 'https://www.udacity.com/course/viewer#!/c-st101/l-48696651/e-48727691/m-48734093'\n",
    "assert valuing_houses_1()==104000, 'A house of 1300 sq ft sold for 104,000 you should pay 104,000 {}'.format(valuing_houses_1_answer)"
   ]
  },
  {
   "cell_type": "code",
   "execution_count": 39,
   "metadata": {
    "collapsed": false
   },
   "outputs": [],
   "source": [
    "def valuing_houses_2():\n",
    "    return valuing_houses_1(1800)"
   ]
  },
  {
   "cell_type": "code",
   "execution_count": 40,
   "metadata": {
    "collapsed": false
   },
   "outputs": [],
   "source": [
    "valuing_houses_2_answer = 'https://www.udacity.com/course/viewer#!/c-st101/l-48696651/e-48532777/m-48719197'\n",
    "assert valuing_houses_2()==144000, 'A house of 1300 sq ft sold for 144,000 you should pay 144,000 {}'.format(valuing_houses_2_answer)"
   ]
  },
  {
   "cell_type": "code",
   "execution_count": 41,
   "metadata": {
    "collapsed": false
   },
   "outputs": [],
   "source": [
    "def valuing_houses_3():\n",
    "    return valuing_houses_1(2100)"
   ]
  },
  {
   "cell_type": "markdown",
   "metadata": {},
   "source": [
    "**Will cause an error (specifically IndexError) because there is no house that is 2100 sq ft**"
   ]
  },
  {
   "cell_type": "code",
   "execution_count": 43,
   "metadata": {
    "collapsed": false
   },
   "outputs": [
    {
     "ename": "IndexError",
     "evalue": "index 0 is out of bounds for axis 0 with size 0",
     "output_type": "error",
     "traceback": [
      "\u001b[0;31m---------------------------------------------------------------------------\u001b[0m",
      "\u001b[0;31mIndexError\u001b[0m                                Traceback (most recent call last)",
      "\u001b[0;32m<ipython-input-43-b23e957ca477>\u001b[0m in \u001b[0;36m<module>\u001b[0;34m()\u001b[0m\n\u001b[0;32m----> 1\u001b[0;31m \u001b[0mvaluing_houses_3\u001b[0m\u001b[1;33m(\u001b[0m\u001b[1;33m)\u001b[0m\u001b[1;33m\u001b[0m\u001b[0m\n\u001b[0m",
      "\u001b[0;32m<ipython-input-41-450cae9adcc7>\u001b[0m in \u001b[0;36mvaluing_houses_3\u001b[0;34m()\u001b[0m\n\u001b[1;32m      1\u001b[0m \u001b[1;32mdef\u001b[0m \u001b[0mvaluing_houses_3\u001b[0m\u001b[1;33m(\u001b[0m\u001b[1;33m)\u001b[0m\u001b[1;33m:\u001b[0m\u001b[1;33m\u001b[0m\u001b[0m\n\u001b[0;32m----> 2\u001b[0;31m     \u001b[1;32mreturn\u001b[0m \u001b[0mvaluing_houses_1\u001b[0m\u001b[1;33m(\u001b[0m\u001b[1;36m2100\u001b[0m\u001b[1;33m)\u001b[0m\u001b[1;33m\u001b[0m\u001b[0m\n\u001b[0m",
      "\u001b[0;32m<ipython-input-34-4dd647f9164b>\u001b[0m in \u001b[0;36mvaluing_houses_1\u001b[0;34m(house_size, svc)\u001b[0m\n\u001b[1;32m      6\u001b[0m     \"\"\"\n\u001b[1;32m      7\u001b[0m     \u001b[0msvc\u001b[0m \u001b[1;33m=\u001b[0m  \u001b[0msize_v_cost\u001b[0m \u001b[1;32mif\u001b[0m \u001b[0msvc\u001b[0m \u001b[1;32mis\u001b[0m \u001b[1;32mNone\u001b[0m \u001b[1;32melse\u001b[0m \u001b[0msvc\u001b[0m\u001b[1;33m\u001b[0m\u001b[0m\n\u001b[0;32m----> 8\u001b[0;31m     \u001b[1;32mreturn\u001b[0m \u001b[0msvc\u001b[0m\u001b[1;33m.\u001b[0m\u001b[0mcost\u001b[0m\u001b[1;33m[\u001b[0m\u001b[0msvc\u001b[0m\u001b[1;33m.\u001b[0m\u001b[0mhouse_size\u001b[0m\u001b[1;33m==\u001b[0m\u001b[0mhouse_size\u001b[0m\u001b[1;33m]\u001b[0m\u001b[1;33m.\u001b[0m\u001b[0miat\u001b[0m\u001b[1;33m[\u001b[0m\u001b[1;36m0\u001b[0m\u001b[1;33m]\u001b[0m\u001b[1;33m\u001b[0m\u001b[0m\n\u001b[0m",
      "\u001b[0;32mC:\\Users\\nnd\\AppData\\Local\\Continuum\\Anaconda3\\lib\\site-packages\\pandas\\core\\indexing.py\u001b[0m in \u001b[0;36m__getitem__\u001b[0;34m(self, key)\u001b[0m\n\u001b[1;32m   1663\u001b[0m \u001b[1;33m\u001b[0m\u001b[0m\n\u001b[1;32m   1664\u001b[0m         \u001b[0mkey\u001b[0m \u001b[1;33m=\u001b[0m \u001b[0mself\u001b[0m\u001b[1;33m.\u001b[0m\u001b[0m_convert_key\u001b[0m\u001b[1;33m(\u001b[0m\u001b[0mkey\u001b[0m\u001b[1;33m)\u001b[0m\u001b[1;33m\u001b[0m\u001b[0m\n\u001b[0;32m-> 1665\u001b[0;31m         \u001b[1;32mreturn\u001b[0m \u001b[0mself\u001b[0m\u001b[1;33m.\u001b[0m\u001b[0mobj\u001b[0m\u001b[1;33m.\u001b[0m\u001b[0mget_value\u001b[0m\u001b[1;33m(\u001b[0m\u001b[1;33m*\u001b[0m\u001b[0mkey\u001b[0m\u001b[1;33m,\u001b[0m \u001b[0mtakeable\u001b[0m\u001b[1;33m=\u001b[0m\u001b[0mself\u001b[0m\u001b[1;33m.\u001b[0m\u001b[0m_takeable\u001b[0m\u001b[1;33m)\u001b[0m\u001b[1;33m\u001b[0m\u001b[0m\n\u001b[0m\u001b[1;32m   1666\u001b[0m \u001b[1;33m\u001b[0m\u001b[0m\n\u001b[1;32m   1667\u001b[0m     \u001b[1;32mdef\u001b[0m \u001b[0m__setitem__\u001b[0m\u001b[1;33m(\u001b[0m\u001b[0mself\u001b[0m\u001b[1;33m,\u001b[0m \u001b[0mkey\u001b[0m\u001b[1;33m,\u001b[0m \u001b[0mvalue\u001b[0m\u001b[1;33m)\u001b[0m\u001b[1;33m:\u001b[0m\u001b[1;33m\u001b[0m\u001b[0m\n",
      "\u001b[0;32mC:\\Users\\nnd\\AppData\\Local\\Continuum\\Anaconda3\\lib\\site-packages\\pandas\\core\\series.py\u001b[0m in \u001b[0;36mget_value\u001b[0;34m(self, label, takeable)\u001b[0m\n\u001b[1;32m    918\u001b[0m         \"\"\"\n\u001b[1;32m    919\u001b[0m         \u001b[1;32mif\u001b[0m \u001b[0mtakeable\u001b[0m \u001b[1;32mis\u001b[0m \u001b[1;32mTrue\u001b[0m\u001b[1;33m:\u001b[0m\u001b[1;33m\u001b[0m\u001b[0m\n\u001b[0;32m--> 920\u001b[0;31m             \u001b[1;32mreturn\u001b[0m \u001b[0m_maybe_box_datetimelike\u001b[0m\u001b[1;33m(\u001b[0m\u001b[0mself\u001b[0m\u001b[1;33m.\u001b[0m\u001b[0m_values\u001b[0m\u001b[1;33m[\u001b[0m\u001b[0mlabel\u001b[0m\u001b[1;33m]\u001b[0m\u001b[1;33m)\u001b[0m\u001b[1;33m\u001b[0m\u001b[0m\n\u001b[0m\u001b[1;32m    921\u001b[0m         \u001b[1;32mreturn\u001b[0m \u001b[0mself\u001b[0m\u001b[1;33m.\u001b[0m\u001b[0mindex\u001b[0m\u001b[1;33m.\u001b[0m\u001b[0mget_value\u001b[0m\u001b[1;33m(\u001b[0m\u001b[0mself\u001b[0m\u001b[1;33m.\u001b[0m\u001b[0m_values\u001b[0m\u001b[1;33m,\u001b[0m \u001b[0mlabel\u001b[0m\u001b[1;33m)\u001b[0m\u001b[1;33m\u001b[0m\u001b[0m\n\u001b[1;32m    922\u001b[0m \u001b[1;33m\u001b[0m\u001b[0m\n",
      "\u001b[0;31mIndexError\u001b[0m: index 0 is out of bounds for axis 0 with size 0"
     ]
    }
   ],
   "source": [
    "valuing_houses_3()"
   ]
  },
  {
   "cell_type": "markdown",
   "metadata": {},
   "source": [
    "*Let's interpolate*\n"
   ]
  },
  {
   "cell_type": "code",
   "execution_count": 67,
   "metadata": {
    "collapsed": false
   },
   "outputs": [],
   "source": [
    "def valuing_houses_3(sizes=(2100,), size=2100):\n",
    "    \"\"\"\n",
    "    Interpolates dependent linearly over independent\n",
    "    http://stackoverflow.com/a/27217695/1175496\n",
    "    :returns : Expected cost of new house given its sq footage\n",
    "    \"\"\"\n",
    "    #Appending a row with a null cost, but sizes\n",
    "    svc_appended = size_v_cost.copy().append(pd.DataFrame({'house_size':sizes}), True)\n",
    "    #Since I have indexes, I use sort_index;\n",
    "    #Avoiding FutureWarning: order is deprecated\n",
    "    cost_interpolated = pd.Series(index=svc_appended.house_size, data=svc_appended.cost.values).sort_index().interpolate(method='values')[size]\n",
    "    \n",
    "    return cost_interpolated"
   ]
  },
  {
   "cell_type": "code",
   "execution_count": 68,
   "metadata": {
    "collapsed": false
   },
   "outputs": [
    {
     "data": {
      "text/plain": [
       "168000.0"
      ]
     },
     "execution_count": 68,
     "metadata": {},
     "output_type": "execute_result"
    }
   ],
   "source": [
    "valuing_houses_3()"
   ]
  },
  {
   "cell_type": "code",
   "execution_count": 69,
   "metadata": {
    "collapsed": false
   },
   "outputs": [],
   "source": [
    "valuing_houses_3_answer = 'https://www.udacity.com/course/viewer#!/c-st101/l-48696651/e-48532778/m-48204890'\n",
    "assert valuing_houses_3() == 168000, 'Expected value of 2,100 sq ft home is 168,000 {}'.format(valuing_houses_3_answer)"
   ]
  },
  {
   "cell_type": "code",
   "execution_count": 72,
   "metadata": {
    "collapsed": false
   },
   "outputs": [],
   "source": [
    "def valuing_houses_4():\n",
    "    return valuing_houses_3(sizes=(1500,), size=1500)"
   ]
  },
  {
   "cell_type": "code",
   "execution_count": 81,
   "metadata": {
    "collapsed": false
   },
   "outputs": [],
   "source": [
    "s=pd.Series(data=(1, None, 4, 8, 9, None, 11), index=(10, 30, 40, 50, 60, 62, 80))\n"
   ]
  },
  {
   "cell_type": "code",
   "execution_count": 86,
   "metadata": {
    "collapsed": false
   },
   "outputs": [
    {
     "data": {
      "text/plain": [
       "10     1.0\n",
       "30     2.5\n",
       "40     4.0\n",
       "50     8.0\n",
       "60     9.0\n",
       "62    10.0\n",
       "80    11.0\n",
       "dtype: float64"
      ]
     },
     "execution_count": 86,
     "metadata": {},
     "output_type": "execute_result"
    }
   ],
   "source": [
    "# Note how interpolate() by default uses method='linear';\n",
    "# > ‘linear’: ignore the index and treat the values as equally spaced.\n",
    "# So the first None becomes 2.5; equidistant from  1 and 4.0 ; \n",
    "# Same 1.5 distance from adjoining points *in the same column*\n",
    "s.interpolate()"
   ]
  },
  {
   "cell_type": "code",
   "execution_count": 87,
   "metadata": {
    "collapsed": false
   },
   "outputs": [
    {
     "data": {
      "text/plain": [
       "10     1.0\n",
       "30     3.0\n",
       "40     4.0\n",
       "50     8.0\n",
       "60     9.0\n",
       "62     9.2\n",
       "80    11.0\n",
       "dtype: float64"
      ]
     },
     "execution_count": 87,
     "metadata": {},
     "output_type": "execute_result"
    }
   ],
   "source": [
    "# Whereas interpolate(method='values')\n",
    "# > ‘index’, ‘values’: use the actual numerical values of the index\n",
    "# So the first None becomes 3.0; proportianately same distance from  1 and 4.0 ; \n",
    "# As *the adjoining points in the index* are from corresponding index value 30; \n",
    "# Distance of 2/3 of the way between index values 10 and 40;\n",
    "# Produces proportinal interpolation for the data points; 2/3 between 1 and 4 is 3.\n",
    "s.interpolate(method='values')"
   ]
  },
  {
   "cell_type": "code",
   "execution_count": 71,
   "metadata": {
    "collapsed": false
   },
   "outputs": [],
   "source": [
    "valuing_houses_4_answer = 'https://www.udacity.com/course/viewer#!/c-st101/l-48696651/e-48696650/m-48299936'\n",
    "assert valuing_houses_4() == 120000, 'Expected value of  1,500 sq ft home is 120,000 {}'.format(valuing_houses_4_answer)"
   ]
  },
  {
   "cell_type": "markdown",
   "metadata": {},
   "source": [
    "# Proportionality is Constant\n",
    "It turns out that cost per sq ft is the same for all house datapoints"
   ]
  },
  {
   "cell_type": "code",
   "execution_count": 32,
   "metadata": {
    "collapsed": false
   },
   "outputs": [],
   "source": [
    "def valuing_houses_5():\n",
    "    cost_per_sqft = size_v_cost.cost/size_v_cost.size\n",
    "    different_costs_per_sqft = cost_per_sqft.value_counts()\n",
    "    assert len(different_costs_per_sqft)==1, 'There are multiple costs per sq ft, cannot return just one'\n",
    "    return cost_per_sqft.iloc[0]"
   ]
  },
  {
   "cell_type": "code",
   "execution_count": 33,
   "metadata": {
    "collapsed": false
   },
   "outputs": [],
   "source": [
    "valuing_houses_5_answer = 'https://www.udacity.com/course/viewer#!/c-st101/l-48696651/e-48369931/m-48634702'\n",
    "assert valuing_houses_5()==80, 'Cost per sq ft ($/sqft) should be 80 {}'.format(valuing_houses_5_answer)"
   ]
  },
  {
   "cell_type": "code",
   "execution_count": null,
   "metadata": {
    "collapsed": false
   },
   "outputs": [],
   "source": []
  }
 ],
 "metadata": {
  "kernelspec": {
   "display_name": "Python 3",
   "language": "python",
   "name": "python3"
  },
  "language_info": {
   "codemirror_mode": {
    "name": "ipython",
    "version": 3
   },
   "file_extension": ".py",
   "mimetype": "text/x-python",
   "name": "python",
   "nbconvert_exporter": "python",
   "pygments_lexer": "ipython3",
   "version": "3.6.0"
  }
 },
 "nbformat": 4,
 "nbformat_minor": 0
}
