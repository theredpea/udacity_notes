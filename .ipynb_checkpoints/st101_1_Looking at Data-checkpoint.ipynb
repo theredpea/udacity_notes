{
 "cells": [
  {
   "cell_type": "markdown",
   "metadata": {},
   "source": [
    "# Statististics\n",
    "## From Data to Decisions\n",
    "\n",
    "## All Disciplines\n",
    "- Social Sciences\n",
    "- Medicine\n",
    "- Engineering\n",
    "- Public Policy\n",
    "- Psychology\n",
    "- Climatology\n",
    "- Robotics\n",
    "- Archaeology\n",
    "- Health Sciences\n",
    "- Finance\n",
    "- Business & Marketing\n",
    "\n",
    "even...\n",
    "- Biology\n",
    "- Physics"
   ]
  },
  {
   "cell_type": "code",
   "execution_count": 6,
   "metadata": {
    "collapsed": false
   },
   "outputs": [],
   "source": [
    "import pandas as pd, numpy as np"
   ]
  },
  {
   "cell_type": "code",
   "execution_count": 23,
   "metadata": {
    "collapsed": false
   },
   "outputs": [],
   "source": [
    "size_v_cost = pd.DataFrame(dict(house_size=(1400,\n",
    "                                      2400,\n",
    "                                      1800,\n",
    "                                      1900,\n",
    "                                      1300,\n",
    "                                      1100), \n",
    "                                cost=(112000,\n",
    "                                      192000,\n",
    "                                      144000,\n",
    "                                      152000,\n",
    "                                      104000,\n",
    "                                      88000)))\n"
   ]
  },
  {
   "cell_type": "code",
   "execution_count": 34,
   "metadata": {
    "collapsed": false
   },
   "outputs": [],
   "source": [
    "\n",
    "def valuing_houses_1(house_size=1300, svc=None):\n",
    "    \"\"\"\n",
    "    :param size: Size (in sqft) of house\n",
    "    :returns: How much money should you pay for that house\n",
    "    \"\"\"\n",
    "    svc =  size_v_cost if svc is None else svc\n",
    "    return svc.cost[svc.house_size==house_size].iat[0]"
   ]
  },
  {
   "cell_type": "code",
   "execution_count": 35,
   "metadata": {
    "collapsed": false
   },
   "outputs": [
    {
     "data": {
      "text/plain": [
       "0    1400\n",
       "1    2400\n",
       "2    1800\n",
       "3    1900\n",
       "4    1300\n",
       "5    1100\n",
       "Name: house_size, dtype: int64"
      ]
     },
     "execution_count": 35,
     "metadata": {},
     "output_type": "execute_result"
    }
   ],
   "source": [
    "size_v_cost['house_size']"
   ]
  },
  {
   "cell_type": "code",
   "execution_count": 36,
   "metadata": {
    "collapsed": false
   },
   "outputs": [
    {
     "data": {
      "text/plain": [
       "0    False\n",
       "1    False\n",
       "2    False\n",
       "3    False\n",
       "4     True\n",
       "5    False\n",
       "Name: house_size, dtype: bool"
      ]
     },
     "execution_count": 36,
     "metadata": {},
     "output_type": "execute_result"
    }
   ],
   "source": [
    "size_v_cost['house_size']==1300"
   ]
  },
  {
   "cell_type": "code",
   "execution_count": 37,
   "metadata": {
    "collapsed": false
   },
   "outputs": [
    {
     "data": {
      "text/plain": [
       "104000"
      ]
     },
     "execution_count": 37,
     "metadata": {},
     "output_type": "execute_result"
    }
   ],
   "source": [
    "valuing_houses_1()"
   ]
  },
  {
   "cell_type": "code",
   "execution_count": 38,
   "metadata": {
    "collapsed": false
   },
   "outputs": [],
   "source": [
    "valuing_houses_1_answer = 'https://www.udacity.com/course/viewer#!/c-st101/l-48696651/e-48727691/m-48734093'\n",
    "assert valuing_houses_1()==104000, 'A house of 1300 sq ft sold for 104,000 you should pay 104,000 {}'.format(valuing_houses_1_answer)"
   ]
  },
  {
   "cell_type": "code",
   "execution_count": 39,
   "metadata": {
    "collapsed": false
   },
   "outputs": [],
   "source": [
    "def valuing_houses_2():\n",
    "    return valuing_houses_1(1800)"
   ]
  },
  {
   "cell_type": "code",
   "execution_count": 40,
   "metadata": {
    "collapsed": false
   },
   "outputs": [],
   "source": [
    "valuing_houses_2_answer = 'https://www.udacity.com/course/viewer#!/c-st101/l-48696651/e-48532777/m-48719197'\n",
    "assert valuing_houses_2()==144000, 'A house of 1300 sq ft sold for 144,000 you should pay 144,000 {}'.format(valuing_houses_2_answer)"
   ]
  },
  {
   "cell_type": "code",
   "execution_count": 41,
   "metadata": {
    "collapsed": false
   },
   "outputs": [],
   "source": [
    "def valuing_houses_3():\n",
    "    return valuing_houses_1(2100)"
   ]
  },
  {
   "cell_type": "markdown",
   "metadata": {},
   "source": [
    "**Will cause an error (specifically IndexError) because there is no house that is 2100 sq ft**"
   ]
  },
  {
   "cell_type": "code",
   "execution_count": 88,
   "metadata": {
    "collapsed": false
   },
   "outputs": [
    {
     "data": {
      "text/plain": [
       "168000.0"
      ]
     },
     "execution_count": 88,
     "metadata": {},
     "output_type": "execute_result"
    }
   ],
   "source": [
    "valuing_houses_3()"
   ]
  },
  {
   "cell_type": "code",
   "execution_count": 91,
   "metadata": {
    "collapsed": false
   },
   "outputs": [
    {
     "data": {
      "text/plain": [
       "12.5"
      ]
     },
     "execution_count": 91,
     "metadata": {},
     "output_type": "execute_result"
    }
   ],
   "source": [
    "#Simple math:\n",
    "(2400-1900)/(192-152) "
   ]
  },
  {
   "cell_type": "code",
   "execution_count": 94,
   "metadata": {
    "collapsed": false
   },
   "outputs": [
    {
     "data": {
      "text/plain": [
       "168.0"
      ]
     },
     "execution_count": 94,
     "metadata": {},
     "output_type": "execute_result"
    }
   ],
   "source": [
    "192-((2400-2100)/12.5)"
   ]
  },
  {
   "cell_type": "markdown",
   "metadata": {},
   "source": [
    "*Let's interpolate*\n"
   ]
  },
  {
   "cell_type": "code",
   "execution_count": 67,
   "metadata": {
    "collapsed": false
   },
   "outputs": [],
   "source": [
    "def valuing_houses_3(sizes=(2100,), size=2100):\n",
    "    \"\"\"\n",
    "    Interpolates dependent linearly over independent\n",
    "    http://stackoverflow.com/a/27217695/1175496\n",
    "    :returns : Expected cost of new house given its sq footage\n",
    "    \"\"\"\n",
    "    #Appending a row with a null cost, but sizes\n",
    "    svc_appended = size_v_cost.copy().append(pd.DataFrame({'house_size':sizes}), True)\n",
    "    #Since I have indexes, I use sort_index;\n",
    "    #Avoiding FutureWarning: order is deprecated\n",
    "    cost_interpolated = pd.Series(index=svc_appended.house_size, data=svc_appended.cost.values).sort_index().interpolate(method='values')[size]\n",
    "    \n",
    "    return cost_interpolated"
   ]
  },
  {
   "cell_type": "code",
   "execution_count": 68,
   "metadata": {
    "collapsed": false
   },
   "outputs": [
    {
     "data": {
      "text/plain": [
       "168000.0"
      ]
     },
     "execution_count": 68,
     "metadata": {},
     "output_type": "execute_result"
    }
   ],
   "source": [
    "valuing_houses_3()"
   ]
  },
  {
   "cell_type": "code",
   "execution_count": 95,
   "metadata": {
    "collapsed": false
   },
   "outputs": [],
   "source": [
    "valuing_houses_3_answer = 'https://www.udacity.com/course/viewer#!/c-st101/l-48696651/e-48532778/m-48204890'\n",
    "assert valuing_houses_3() == 168000, 'Expected value of 2,100 sq ft home is 168,000 {}'.format(valuing_houses_3_answer)"
   ]
  },
  {
   "cell_type": "code",
   "execution_count": 96,
   "metadata": {
    "collapsed": false
   },
   "outputs": [
    {
     "data": {
      "text/plain": [
       "120.0"
      ]
     },
     "execution_count": 96,
     "metadata": {},
     "output_type": "execute_result"
    }
   ],
   "source": [
    "144-(1800-1500)/((1800-1400)/(144-112))"
   ]
  },
  {
   "cell_type": "code",
   "execution_count": 72,
   "metadata": {
    "collapsed": false
   },
   "outputs": [],
   "source": [
    "def valuing_houses_4():\n",
    "    return valuing_houses_3(sizes=(1500,), size=1500)"
   ]
  },
  {
   "cell_type": "code",
   "execution_count": 81,
   "metadata": {
    "collapsed": false
   },
   "outputs": [],
   "source": [
    "s=pd.Series(data=(1, None, 4, 8, 9, None, 11), index=(10, 30, 40, 50, 60, 62, 80))\n"
   ]
  },
  {
   "cell_type": "code",
   "execution_count": 71,
   "metadata": {
    "collapsed": false
   },
   "outputs": [],
   "source": [
    "valuing_houses_4_answer = 'https://www.udacity.com/course/viewer#!/c-st101/l-48696651/e-48696650/m-48299936'\n",
    "assert valuing_houses_4() == 120000, 'Expected value of  1,500 sq ft home is 120,000 {}'.format(valuing_houses_4_answer)"
   ]
  },
  {
   "cell_type": "markdown",
   "metadata": {},
   "source": [
    "# Proportionality is Constant\n",
    "It turns out that cost per sq ft is the same for all house datapoints"
   ]
  },
  {
   "cell_type": "markdown",
   "metadata": {},
   "source": [
    "But if it wasnt constant..."
   ]
  },
  {
   "cell_type": "code",
   "execution_count": 86,
   "metadata": {
    "collapsed": false
   },
   "outputs": [
    {
     "data": {
      "text/plain": [
       "10     1.0\n",
       "30     2.5\n",
       "40     4.0\n",
       "50     8.0\n",
       "60     9.0\n",
       "62    10.0\n",
       "80    11.0\n",
       "dtype: float64"
      ]
     },
     "execution_count": 86,
     "metadata": {},
     "output_type": "execute_result"
    }
   ],
   "source": [
    "# Note how interpolate() by default uses method='linear';\n",
    "# > ‘linear’: ignore the index and treat the values as equally spaced.\n",
    "# So the first None becomes 2.5; equidistant from  1 and 4.0 ; \n",
    "# Same 1.5 distance from adjoining points *in the same column*\n",
    "s.interpolate()"
   ]
  },
  {
   "cell_type": "code",
   "execution_count": 87,
   "metadata": {
    "collapsed": false
   },
   "outputs": [
    {
     "data": {
      "text/plain": [
       "10     1.0\n",
       "30     3.0\n",
       "40     4.0\n",
       "50     8.0\n",
       "60     9.0\n",
       "62     9.2\n",
       "80    11.0\n",
       "dtype: float64"
      ]
     },
     "execution_count": 87,
     "metadata": {},
     "output_type": "execute_result"
    }
   ],
   "source": [
    "# Whereas interpolate(method='values')\n",
    "# > ‘index’, ‘vassssssssslues’: use the actual numerical values of the index\n",
    "# So the first None becomes 3.0; proportianately same distance from  1 and 4.0 ; \n",
    "# As *the adjoining points in the index* are from corresponding index value 30; \n",
    "# Distance of 2/3 of the way between index values 10 and 40;\n",
    "# Produces proportinal interpolation for the data points; 2/3 between 1 and 4 is 3.\n",
    "s.interpolate(method='values')"
   ]
  },
  {
   "cell_type": "code",
   "execution_count": 103,
   "metadata": {
    "collapsed": false
   },
   "outputs": [],
   "source": [
    "def valuing_houses_5():\n",
    "    cost_per_sqft = size_v_cost.cost/size_v_cost.house_size\n",
    "    different_costs_per_sqft = cost_per_sqft.value_counts()\n",
    "    assert len(different_costs_per_sqft)==1, 'There are multiple costs per sq ft, \\\n",
    "    Sebastians question implies  only one value is common among all datapoints'\n",
    "    return cost_per_sqft.iloc[0]"
   ]
  },
  {
   "cell_type": "code",
   "execution_count": 104,
   "metadata": {
    "collapsed": false
   },
   "outputs": [],
   "source": [
    "valuing_houses_5_answer = 'https://www.udacity.com/course/viewer#!/c-st101/l-48696651/e-48369931/m-48634702'\n",
    "assert valuing_houses_5()==80, 'Cost per sq ft ($/sqft) should be 80 {}'.format(valuing_houses_5_answer)"
   ]
  },
  {
   "cell_type": "code",
   "execution_count": 105,
   "metadata": {
    "collapsed": false
   },
   "outputs": [],
   "source": [
    "size_v_cost['cpsf'] = size_v_cost.cost/size_v_cost.house_size"
   ]
  },
  {
   "cell_type": "code",
   "execution_count": 106,
   "metadata": {
    "collapsed": false
   },
   "outputs": [
    {
     "data": {
      "text/html": [
       "<div>\n",
       "<table border=\"1\" class=\"dataframe\">\n",
       "  <thead>\n",
       "    <tr style=\"text-align: right;\">\n",
       "      <th></th>\n",
       "      <th>cost</th>\n",
       "      <th>house_size</th>\n",
       "      <th>cpsf</th>\n",
       "    </tr>\n",
       "  </thead>\n",
       "  <tbody>\n",
       "    <tr>\n",
       "      <th>0</th>\n",
       "      <td>112000</td>\n",
       "      <td>1400</td>\n",
       "      <td>80.0</td>\n",
       "    </tr>\n",
       "    <tr>\n",
       "      <th>1</th>\n",
       "      <td>192000</td>\n",
       "      <td>2400</td>\n",
       "      <td>80.0</td>\n",
       "    </tr>\n",
       "    <tr>\n",
       "      <th>2</th>\n",
       "      <td>144000</td>\n",
       "      <td>1800</td>\n",
       "      <td>80.0</td>\n",
       "    </tr>\n",
       "    <tr>\n",
       "      <th>3</th>\n",
       "      <td>152000</td>\n",
       "      <td>1900</td>\n",
       "      <td>80.0</td>\n",
       "    </tr>\n",
       "    <tr>\n",
       "      <th>4</th>\n",
       "      <td>104000</td>\n",
       "      <td>1300</td>\n",
       "      <td>80.0</td>\n",
       "    </tr>\n",
       "    <tr>\n",
       "      <th>5</th>\n",
       "      <td>88000</td>\n",
       "      <td>1100</td>\n",
       "      <td>80.0</td>\n",
       "    </tr>\n",
       "  </tbody>\n",
       "</table>\n",
       "</div>"
      ],
      "text/plain": [
       "     cost  house_size  cpsf\n",
       "0  112000        1400  80.0\n",
       "1  192000        2400  80.0\n",
       "2  144000        1800  80.0\n",
       "3  152000        1900  80.0\n",
       "4  104000        1300  80.0\n",
       "5   88000        1100  80.0"
      ]
     },
     "execution_count": 106,
     "metadata": {},
     "output_type": "execute_result"
    }
   ],
   "source": [
    "size_v_cost\n"
   ]
  },
  {
   "cell_type": "markdown",
   "metadata": {},
   "source": [
    "*Note the [use of `Series.value_counts(...)`](http://pandas.pydata.org/pandas-docs/stable/generated/pandas.Series.value_counts.html), which is used here to determine the unique values in the `cpsf` column; it expects there is only one unique value (in this case, that value is 80.0) *\n",
    "\n",
    " > Series.value_counts(normalize=False, sort=True, ascending=False, bins=None, dropna=True)[source]\n",
    " >   Returns object containing counts of **unique** values.\n",
    "\n",
    "It must produce, let's see...\n",
    "\n"
   ]
  },
  {
   "cell_type": "code",
   "execution_count": 107,
   "metadata": {
    "collapsed": false
   },
   "outputs": [
    {
     "data": {
      "text/plain": [
       "80.0    6\n",
       "Name: cpsf, dtype: int64"
      ]
     },
     "execution_count": 107,
     "metadata": {},
     "output_type": "execute_result"
    }
   ],
   "source": [
    "size_v_cost.cpsf.value_counts()"
   ]
  },
  {
   "cell_type": "code",
   "execution_count": 108,
   "metadata": {
    "collapsed": false
   },
   "outputs": [
    {
     "data": {
      "text/plain": [
       "Float64Index([80.0], dtype='float64')"
      ]
     },
     "execution_count": 108,
     "metadata": {},
     "output_type": "execute_result"
    }
   ],
   "source": [
    "size_v_cost.cpsf.value_counts().index"
   ]
  },
  {
   "cell_type": "markdown",
   "metadata": {},
   "source": [
    "Indeed, the values become a new index (as achieved by a `GROUP BY` statement in SQL-style languages), and the new values become the count of the occurrence of the original value in the original series (as achieved by a `COUNT(...)` in SQL-style languages)"
   ]
  },
  {
   "cell_type": "code",
   "execution_count": null,
   "metadata": {
    "collapsed": true
   },
   "outputs": [],
   "source": []
  }
 ],
 "metadata": {
  "kernelspec": {
   "display_name": "Python 3",
   "language": "python",
   "name": "python3"
  },
  "language_info": {
   "codemirror_mode": {
    "name": "ipython",
    "version": 3
   },
   "file_extension": ".py",
   "mimetype": "text/x-python",
   "name": "python",
   "nbconvert_exporter": "python",
   "pygments_lexer": "ipython3",
   "version": "3.6.0"
  }
 },
 "nbformat": 4,
 "nbformat_minor": 0
}
