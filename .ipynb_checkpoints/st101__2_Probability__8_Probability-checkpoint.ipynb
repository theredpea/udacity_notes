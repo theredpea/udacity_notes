{
 "metadata": {
  "name": "",
  "signature": "sha256:691f2753b73ed45456ddfe1f57f812542d3eeccdfb1d912c080f199a28b6ddb9"
 },
 "nbformat": 3,
 "nbformat_minor": 0,
 "worksheets": [
  {
   "cells": [
    {
     "cell_type": "markdown",
     "metadata": {},
     "source": [
      "#Probability is the opposite of statistics"
     ]
    },
    {
     "cell_type": "markdown",
     "metadata": {},
     "source": [
      " - In statistics\n",
      "    - given data\n",
      "    - infer causes\n",
      " - In probability\n",
      "    - given causes\n",
      "    - predict data"
     ]
    },
    {
     "cell_type": "code",
     "collapsed": false,
     "input": [
      "#In a fair coin\n",
      "p_h = 0.5 # 1 of 2 ; 1/2\n",
      "\n",
      "def fair_coin():\n",
      "    \"\"\"\n",
      "    :returns: prob of tails\n",
      "    \"\"\"\n",
      "    return p_h #Same as prob of heads\n",
      "\n",
      "assert fair_coin()==0.5, 'prob tails is 0.5'\n",
      "fair_coin_solution = 'https://www.udacity.com/course/viewer#!/c-st101/l-48738235/e-48738233/m-48698595'\n"
     ],
     "language": "python",
     "metadata": {},
     "outputs": [],
     "prompt_number": 2
    },
    {
     "cell_type": "code",
     "collapsed": false,
     "input": [
      "def loaded_coin_1():\n",
      "    \"\"\"\n",
      "    :returns: probability of heads\n",
      "    if a loaded coin always lands heads\n",
      "    \"\"\"\n",
      "    return 1\n",
      "\n",
      "assert loaded_coin_1()==1, 'An \"always\" probability is 1; same as 100%'\n",
      "loaded_coin_1_solution = 'https://www.udacity.com/course/viewer#!/c-st101/l-48738235/e-48754089/m-48721344'"
     ],
     "language": "python",
     "metadata": {},
     "outputs": [],
     "prompt_number": 4
    },
    {
     "cell_type": "code",
     "collapsed": false,
     "input": [
      "def loaded_coin_2():\n",
      "    \"\"\"\n",
      "    :returns: probability of tails\n",
      "    if a loaded coin always lands heads\n",
      "    \"\"\"\n",
      "    return 0\n",
      "assert loaded_coin_1()==1, 'An \"never\" probability is 0; same as 0%'\n",
      "loaded_coin_1_solution = 'https://www.udacity.com/course/viewer#!/c-st101/l-48738235/e-48699715/m-48693696'"
     ],
     "language": "python",
     "metadata": {},
     "outputs": [],
     "prompt_number": 5
    },
    {
     "cell_type": "code",
     "collapsed": false,
     "input": [
      "p_t = fair_coin()\n",
      "assert  p_h==p_t, 'A fair coin has equal probabilities in both outcomes H or T'\n",
      "assert p_h+p_t==1, 'The sum of all probabilities should be one'\n"
     ],
     "language": "python",
     "metadata": {},
     "outputs": [],
     "prompt_number": 12
    },
    {
     "cell_type": "code",
     "collapsed": false,
     "input": [
      "assert loaded_coin_1()+loaded_coin_2()==1, 'The sum of all probabilities should be one'\\\n",
      "'even in the loaded case; a loaded coin does not defy probabilities'\n",
      " "
     ],
     "language": "python",
     "metadata": {},
     "outputs": [],
     "prompt_number": 14
    },
    {
     "cell_type": "code",
     "collapsed": false,
     "input": [
      "def p_(h=None, t=None): \n",
      "    #if h is not None:\n",
      "    #    return 1-h\n",
      "    #elif t is not None:\n",
      "    #    return 1-t\n",
      "    #else:\n",
      "    #    return 1\n",
      "    \n",
      "    return 1-(h or t or 0)\n",
      "\n",
      "#Returns 1 by default; the totality\n",
      "assert p_()==1\n",
      "#Other standard probabilities\n",
      "assert p_(h=1)==0\n",
      "assert p_(h=0.5)==0.5\n",
      "assert p_(t=0.2)==0.8\n",
      "#Uses first nonzero arg\n",
      "assert p_(h=0,t=1)==0\n",
      "assert p_(h=0.2, t=0.5)==0.8"
     ],
     "language": "python",
     "metadata": {},
     "outputs": [],
     "prompt_number": 37
    },
    {
     "cell_type": "markdown",
     "metadata": {},
     "source": [
      "#Note my new way of specifying conclusions"
     ]
    },
    {
     "cell_type": "code",
     "collapsed": false,
     "input": [
      "def loaded_coin_3(h=0.75):\n",
      "    \"\"\"\n",
      "    :returns: P(Tails) if P(Heads) = 0.75\n",
      "    Solution https://www.udacity.com/course/viewer#!/c-st101/l-48738235/e-48750147/m-48698590\n",
      "    \"\"\"\n",
      "    return p_(h=h)\n"
     ],
     "language": "python",
     "metadata": {},
     "outputs": [],
     "prompt_number": 40
    },
    {
     "cell_type": "code",
     "collapsed": false,
     "input": [
      "assert loaded_coin_3()==0.25"
     ],
     "language": "python",
     "metadata": {},
     "outputs": [],
     "prompt_number": 41
    },
    {
     "cell_type": "markdown",
     "metadata": {},
     "source": [
      "#1st Basic Probability Law\n",
      "#P(A) = 1 - P(\u00acA)"
     ]
    },
    {
     "cell_type": "code",
     "collapsed": false,
     "input": [
      "#Stated in Python with the p_ function\n",
      "p_a = 0.25\n",
      "p_n_a = p_(p_a)\n",
      "p_a, p_n_a\n",
      "\n",
      "def complementary_outcomes(p_a, p_n_a):\n",
      "    \"\"\"\n",
      "    asserts the basic law of probability\n",
      "    https://www.udacity.com/course/viewer#!/c-st101/l-48738235/m-48742067\n",
      "    \"\"\"\n",
      "    assert p_a == 1 - p_n_a, 'Does not follow basic law in probability'\n",
      "\n",
      "complementary_outcomes(p_a, p_n_a)"
     ],
     "language": "python",
     "metadata": {},
     "outputs": [],
     "prompt_number": 49
    },
    {
     "cell_type": "code",
     "collapsed": false,
     "input": [
      "import itertools\n",
      "import pandas as pd\n",
      "\n",
      "def two_flips_1(num_coins=2):\n",
      "    \"\"\"\n",
      "    :returns: P(H,H) Probability of flipping heads twice\n",
      "    Of a fair_coin\n",
      "    P(H) one head; P(H,H) one head followed by another head\n",
      "    P(H) AND P(H)\n",
      "    Solution: https://www.udacity.com/course/viewer#!/c-st101/l-48738235/e-48754090/m-48697594\n",
      "    \"\"\"\n",
      "    h,t='h','t'\n",
      "    #Scenario whre it's a fair coin; each element represents a side of the coin\n",
      "    s_fair_coin = [(h,t)]\n",
      "    #Scenario where H first flip; H second flip; each element represents a scenario\n",
      "    s_h_a_h = [(h,h)] # \"_a_ for AND ; _s for scenario \n",
      "    #All scenarios; \"Every possible outcome\"; each element represents a scenario\n",
      "    s_all = [(h,t),\n",
      "             (h,h),\n",
      "             (t,h),\n",
      "             (t,t)]\n",
      "    \n",
      "    # itertools.product can determine all the scenarios\n",
      "    assert set(s_all) == set(itertools.product(*2*s_fair_coin))\n",
      "    \n",
      "    #DataFrame doesn't accept print(list(zip(*s_all)))\n",
      "    truth_table = pd.DataFrame.from_records(s_all, columns=('Flip 1', 'Flip 2'))\n",
      "    truth_table.index.name = 'Truth Table for coin flipped successively'\n",
      "    print(truth_table)\n",
      "    \n",
      "    return len(s_h_a_h) / len(s_all)"
     ],
     "language": "python",
     "metadata": {},
     "outputs": [],
     "prompt_number": 112
    },
    {
     "cell_type": "code",
     "collapsed": false,
     "input": [
      "two_flips_1()\n",
      "d=pd.DataFrame()"
     ],
     "language": "python",
     "metadata": {},
     "outputs": [
      {
       "output_type": "stream",
       "stream": "stdout",
       "text": [
        "                                          Flip 1 Flip 2\n",
        "Truth Table for coin flipped successively              \n",
        "0                                              h      t\n",
        "1                                              h      h\n",
        "2                                              t      h\n",
        "3                                              t      t\n"
       ]
      }
     ],
     "prompt_number": 113
    },
    {
     "cell_type": "code",
     "collapsed": false,
     "input": [
      "def two_flips_2(p_h=0.6):\n",
      "    \"\"\"\n",
      "    :returns: P(T) when P(H) is 0.6; a biased coin\n",
      "    Solution: https://www.udacity.com/course/viewer#!/c-st101/l-48738235/e-48738234/m-48678786\n",
      "    \"\"\"\n",
      "    return p_(p_h)"
     ],
     "language": "python",
     "metadata": {},
     "outputs": [],
     "prompt_number": 114
    },
    {
     "cell_type": "code",
     "collapsed": false,
     "input": [
      "assert two_flips_2() == 0.4, 'P(T) when coin is biased P(H); is 40% or 0.4'"
     ],
     "language": "python",
     "metadata": {},
     "outputs": [],
     "prompt_number": 116
    },
    {
     "cell_type": "code",
     "collapsed": false,
     "input": [],
     "language": "python",
     "metadata": {},
     "outputs": []
    }
   ],
   "metadata": {}
  }
 ]
}