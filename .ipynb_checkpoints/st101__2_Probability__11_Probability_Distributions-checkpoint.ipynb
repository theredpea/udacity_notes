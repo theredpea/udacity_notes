{
 "cells": [
  {
   "cell_type": "code",
   "execution_count": 1,
   "metadata": {
    "collapsed": true
   },
   "outputs": [],
   "source": [
    "import itertools\n",
    "import pandas as pd\n",
    "import numpy as np\n",
    "import matplotlib.pyplot as plt\n",
    "import functools\n",
    "\n",
    "%matplotlib inline"
   ]
  },
  {
   "cell_type": "markdown",
   "metadata": {},
   "source": [
    "\n",
    "# Probability Distributions\n",
    "\n",
    "## Continuous (Probability) Distributions\n",
    "\n",
    " - Nerf gun\n",
    " - we know it will land *somewhere* between 5ft and 8 ft\n",
    " - whats the probability it will land at exactly 5.2456ft ?"
   ]
  },
  {
   "cell_type": "code",
   "execution_count": 2,
   "metadata": {
    "collapsed": false
   },
   "outputs": [
    {
     "data": {
      "text/plain": [
       "array([ 0.58578311,  0.53500423,  0.61787088,  0.50652861,  0.86689918,\n",
       "        0.93610072,  0.21372244,  0.41382984,  0.16407446,  0.13222845])"
      ]
     },
     "execution_count": 2,
     "metadata": {},
     "output_type": "execute_result"
    }
   ],
   "source": [
    "np.random.rand(10)"
   ]
  },
  {
   "cell_type": "code",
   "execution_count": 3,
   "metadata": {
    "collapsed": false
   },
   "outputs": [
    {
     "name": "stdout",
     "output_type": "stream",
     "text": [
      "[ 0.77390129  0.75344713  0.90215903  0.6224875   0.44710458]\n"
     ]
    }
   ],
   "source": [
    "#I later realized that the specificity of my pick ... matters\n",
    "#Only because the specificity of the np.random.rand array, is fixed to... 8 decimal places\n",
    "print(np.random.rand(5))\n",
    "my_pick = 5.27456"
   ]
  },
  {
   "cell_type": "code",
   "execution_count": 4,
   "metadata": {
    "collapsed": false
   },
   "outputs": [
    {
     "name": "stdout",
     "output_type": "stream",
     "text": [
      "8\n"
     ]
    }
   ],
   "source": [
    "print(len('0.31959022')-2)"
   ]
  },
  {
   "cell_type": "code",
   "execution_count": 5,
   "metadata": {
    "collapsed": false
   },
   "outputs": [
    {
     "data": {
      "text/plain": [
       "0"
      ]
     },
     "execution_count": 5,
     "metadata": {},
     "output_type": "execute_result"
    }
   ],
   "source": [
    "((np.random.rand(1000000) *3) + 5 == my_pick).sum()\n",
    "#Zero"
   ]
  },
  {
   "cell_type": "code",
   "execution_count": 6,
   "metadata": {
    "collapsed": true
   },
   "outputs": [],
   "source": [
    "def uniform_between(a,b,samples=10000, close_to=my_pick):\n",
    "    return np.isclose(np.random.rand(samples) * (b-a) + a, my_pick).sum()"
   ]
  },
  {
   "cell_type": "code",
   "execution_count": 7,
   "metadata": {
    "collapsed": false,
    "scrolled": true
   },
   "outputs": [
    {
     "data": {
      "text/plain": [
       "0"
      ]
     },
     "execution_count": 7,
     "metadata": {},
     "output_type": "execute_result"
    }
   ],
   "source": [
    "#one thousand times\n",
    "uniform_between(5,8, 1000)"
   ]
  },
  {
   "cell_type": "code",
   "execution_count": 8,
   "metadata": {
    "collapsed": false
   },
   "outputs": [
    {
     "data": {
      "text/plain": [
       "0"
      ]
     },
     "execution_count": 8,
     "metadata": {},
     "output_type": "execute_result"
    }
   ],
   "source": [
    "#ten thousand times\n",
    "uniform_between(5,8, 10000)"
   ]
  },
  {
   "cell_type": "code",
   "execution_count": 9,
   "metadata": {
    "collapsed": false
   },
   "outputs": [
    {
     "data": {
      "text/plain": [
       "3"
      ]
     },
     "execution_count": 9,
     "metadata": {},
     "output_type": "execute_result"
    }
   ],
   "source": [
    "#one hundred thousand times\n",
    "uniform_between(5,8, 100000)"
   ]
  },
  {
   "cell_type": "code",
   "execution_count": 10,
   "metadata": {
    "collapsed": false
   },
   "outputs": [],
   "source": [
    "assert uniform_between(5,8, samples=10000)==0, 'Any overly specific value cant be assigned a probability, unless you tried *a lot*'"
   ]
  },
  {
   "cell_type": "code",
   "execution_count": 11,
   "metadata": {
    "collapsed": true
   },
   "outputs": [],
   "source": [
    "#He hasnt changed the question, just the parameters to the question\n",
    "#https://classroom.udacity.com/courses/st101/lessons/48748100/concepts/483118880923\n",
    "assert uniform_between(0,360, samples=10000, close_to=180)==0, 'Any overly specific value cant be assigned a probability, unless you tried *a lot*'"
   ]
  },
  {
   "cell_type": "code",
   "execution_count": 12,
   "metadata": {
    "collapsed": true
   },
   "outputs": [],
   "source": [
    "def stops_nowhere(a,b,samples=10000):\n",
    "    return np.isnan(np.random.rand(samples) * (b-a) + a).sum()"
   ]
  },
  {
   "cell_type": "code",
   "execution_count": 13,
   "metadata": {
    "collapsed": false
   },
   "outputs": [],
   "source": [
    "assert stops_nowhere(0,360)==0, 'They all start and stop somewhere; so we expect 0 to sastify isnan ; note this might print different results than measured against because results are randomly generated with each call'"
   ]
  },
  {
   "cell_type": "markdown",
   "metadata": {},
   "source": [
    "# In continuous distributions...\n",
    "## Every outcome has probability 0"
   ]
  },
  {
   "cell_type": "code",
   "execution_count": 40,
   "metadata": {
    "collapsed": false
   },
   "outputs": [],
   "source": [
    "def get_uniform_samples(a,b,samples=10000):\n",
    "    return np.random.rand(samples) * (b-a) + a\n",
    "\n",
    "def uniform_between_range(a,b,samples=10000,  filter_lambda=lambda x:x):\n",
    "    return np.array(list(map(filter_lambda, get_uniform_samples(a,b,samples)))).sum()"
   ]
  },
  {
   "cell_type": "code",
   "execution_count": 41,
   "metadata": {
    "collapsed": false
   },
   "outputs": [
    {
     "name": "stdout",
     "output_type": "stream",
     "text": [
      "[ 197.82543845  108.39391085   46.00783562   67.90770806  221.81489264\n",
      "  221.74203964  210.84091599  194.65668389  265.10807761  354.58781915\n",
      "  106.55613749  337.33650455    2.64056092  267.31990313  349.3332606\n",
      "   34.08752197  264.80933793  213.48506824  286.3573089    82.9407757 ]\n"
     ]
    },
    {
     "data": {
      "text/plain": [
       "[0.50309999999999999,\n",
       " 0.50319999999999998,\n",
       " 0.50260000000000005,\n",
       " 0.49540000000000001,\n",
       " 0.50309999999999999,\n",
       " 0.50080000000000002,\n",
       " 0.50190000000000001,\n",
       " 0.50009999999999999,\n",
       " 0.50680000000000003,\n",
       " 0.49790000000000001,\n",
       " 0.50780000000000003,\n",
       " 0.50439999999999996,\n",
       " 0.49559999999999998,\n",
       " 0.49740000000000001,\n",
       " 0.50409999999999999,\n",
       " 0.50109999999999999,\n",
       " 0.49630000000000002,\n",
       " 0.50039999999999996,\n",
       " 0.50049999999999994,\n",
       " 0.50049999999999994,\n",
       " 0.49569999999999997,\n",
       " 0.50409999999999999,\n",
       " 0.49769999999999998,\n",
       " 0.50590000000000002,\n",
       " 0.4985,\n",
       " 0.49149999999999999,\n",
       " 0.49680000000000002,\n",
       " 0.50129999999999997,\n",
       " 0.51070000000000004,\n",
       " 0.50009999999999999]"
      ]
     },
     "execution_count": 41,
     "metadata": {},
     "output_type": "execute_result"
    },
    {
     "data": {
      "image/png": "[encoded data removed]",
      "text/plain": [
       "<matplotlib.figure.Figure at 0x25152655828>"
      ]
     },
     "metadata": {},
     "output_type": "display_data"
    }
   ],
   "source": [
    "a=0\n",
    "b=360\n",
    "samples=10000\n",
    "core_dist =(np.random.rand(samples) * (b-a) + a)\n",
    "\n",
    "print( core_dist[:20])\n",
    "core_dist_series = pd.Series(core_dist)\n",
    "core_dist_series.plot(kind='hist')\n",
    "filter_lambda = lambda x:0<x and x<=180\n",
    "\n",
    "[uniform_between_range(a,b,samples,filter_lambda)/samples for _ in range(30) ]"
   ]
  },
  {
   "cell_type": "code",
   "execution_count": 42,
   "metadata": {
    "collapsed": false
   },
   "outputs": [
    {
     "data": {
      "text/plain": [
       "<matplotlib.axes._subplots.AxesSubplot at 0x25155bf2e10>"
      ]
     },
     "execution_count": 42,
     "metadata": {},
     "output_type": "execute_result"
    },
    {
     "data": {
      "image/png": "[encoded data removed]",
      "text/plain": [
       "<matplotlib.figure.Figure at 0x25156425da0>"
      ]
     },
     "metadata": {},
     "output_type": "display_data"
    }
   ],
   "source": [
    "sample_prob_series = pd.Series([uniform_between_range(a,b,samples,filter_lambda)/samples for _ in range(30) ])\n",
    "sample_prob_series.plot(ylim=(0,1))"
   ]
  },
  {
   "cell_type": "code",
   "execution_count": 17,
   "metadata": {
    "collapsed": false
   },
   "outputs": [
    {
     "data": {
      "text/plain": [
       "[0.049896999999999997,\n",
       " 0.049827999999999997,\n",
       " 0.050318000000000002,\n",
       " 0.049896000000000003,\n",
       " 0.050069000000000002,\n",
       " 0.050040000000000001,\n",
       " 0.049997,\n",
       " 0.049999000000000002,\n",
       " 0.050167000000000003,\n",
       " 0.049850999999999999]"
      ]
     },
     "execution_count": 17,
     "metadata": {},
     "output_type": "execute_result"
    }
   ],
   "source": [
    "\n",
    "[uniform_between_range(a,b,100000,filter_lambda)/1e6 for _ in range(10) ]\n",
    "#----------------------------v\n",
    "#[uniform_between_range(a,b,1e6,filter_lambda)/1e6 for _ in range(10) ]\n",
    "#oops VisibleDeprecationWarning: using a non-integer number instead of an integer will result in an error in the future\n",
    "# https://github.com/numpy/numpy/pull/2891"
   ]
  },
  {
   "cell_type": "code",
   "execution_count": 18,
   "metadata": {
    "collapsed": false
   },
   "outputs": [
    {
     "data": {
      "text/plain": [
       "[0.0082620000000000002,\n",
       " 0.0084399999999999996,\n",
       " 0.0083510000000000008,\n",
       " 0.0083070000000000001,\n",
       " 0.0084049999999999993,\n",
       " 0.0083180000000000007,\n",
       " 0.0083979999999999992,\n",
       " 0.0082959999999999996,\n",
       " 0.0083490000000000005,\n",
       " 0.0082740000000000001]"
      ]
     },
     "execution_count": 18,
     "metadata": {},
     "output_type": "execute_result"
    }
   ],
   "source": [
    "\n",
    "[uniform_between_range(a,b,100000,lambda x: 260<x<=290)/1e6 for _ in range(10) ]"
   ]
  },
  {
   "cell_type": "code",
   "execution_count": 19,
   "metadata": {
    "collapsed": false
   },
   "outputs": [
    {
     "data": {
      "text/plain": [
       "[0.00027300000000000002,\n",
       " 0.00025999999999999998,\n",
       " 0.00029999999999999997,\n",
       " 0.00029599999999999998,\n",
       " 0.00025500000000000002,\n",
       " 0.00027999999999999998,\n",
       " 0.00030299999999999999,\n",
       " 0.00028699999999999998,\n",
       " 0.000272,\n",
       " 0.00029700000000000001]"
      ]
     },
     "execution_count": 19,
     "metadata": {},
     "output_type": "execute_result"
    }
   ],
   "source": [
    "\n",
    "[uniform_between_range(a,b,100000,lambda x: 179<x<=180)/1e6 for _ in range(10) ]"
   ]
  },
  {
   "cell_type": "code",
   "execution_count": 20,
   "metadata": {
    "collapsed": false
   },
   "outputs": [
    {
     "data": {
      "text/plain": [
       "0.00027730000000000002"
      ]
     },
     "execution_count": 20,
     "metadata": {},
     "output_type": "execute_result"
    }
   ],
   "source": [
    "np.mean([uniform_between_range(a,b,100000,lambda x: 179<x<=180)/1e6 for _ in range(10) ])"
   ]
  },
  {
   "cell_type": "code",
   "execution_count": 21,
   "metadata": {
    "collapsed": false
   },
   "outputs": [
    {
     "name": "stdout",
     "output_type": "stream",
     "text": [
      "-0.002777777777777778\n"
     ]
    }
   ],
   "source": [
    "#An inexact number is wrong answer;\n",
    "#Must use precise math to reach exact number:\n",
    "range_probability_3 = (179-180) / 360\n",
    "print(range_probability_3)"
   ]
  },
  {
   "cell_type": "code",
   "execution_count": 22,
   "metadata": {
    "collapsed": false
   },
   "outputs": [
    {
     "data": {
      "text/plain": [
       "0.016666666666666666"
      ]
     },
     "execution_count": 22,
     "metadata": {},
     "output_type": "execute_result"
    }
   ],
   "source": [
    "1/60."
   ]
  },
  {
   "cell_type": "code",
   "execution_count": 43,
   "metadata": {
    "collapsed": false
   },
   "outputs": [
    {
     "data": {
      "text/plain": [
       "<matplotlib.axes._subplots.AxesSubplot at 0x251564b8710>"
      ]
     },
     "execution_count": 43,
     "metadata": {},
     "output_type": "execute_result"
    },
    {
     "data": {
      "image/png": "[encoded data removed]",
      "text/plain": [
       "<matplotlib.figure.Figure at 0x2515640fcf8>"
      ]
     },
     "metadata": {},
     "output_type": "display_data"
    }
   ],
   "source": [
    "pd.Series(get_uniform_samples(a=0,b=60)).plot(kind='hist')"
   ]
  },
  {
   "cell_type": "code",
   "execution_count": 37,
   "metadata": {
    "collapsed": true
   },
   "outputs": [],
   "source": [
    "from scipy import stats\n"
   ]
  },
  {
   "cell_type": "code",
   "execution_count": 45,
   "metadata": {
    "collapsed": false
   },
   "outputs": [],
   "source": [
    "kde_func=stats.gaussian_kde(pd.Series(get_uniform_samples(a=0,b=60)))"
   ]
  },
  {
   "cell_type": "code",
   "execution_count": 46,
   "metadata": {
    "collapsed": false
   },
   "outputs": [
    {
     "data": {
      "text/plain": [
       "array([ 0.01648613])"
      ]
     },
     "execution_count": 46,
     "metadata": {},
     "output_type": "execute_result"
    }
   ],
   "source": [
    "kde_func(20)"
   ]
  },
  {
   "cell_type": "code",
   "execution_count": 47,
   "metadata": {
    "collapsed": false
   },
   "outputs": [
    {
     "data": {
      "text/plain": [
       "array([ 0.01683605])"
      ]
     },
     "execution_count": 47,
     "metadata": {},
     "output_type": "execute_result"
    }
   ],
   "source": [
    "kde_func(30)\n"
   ]
  },
  {
   "cell_type": "code",
   "execution_count": 49,
   "metadata": {
    "collapsed": false
   },
   "outputs": [
    {
     "data": {
      "text/plain": [
       "array([ 0.00827449,  0.01069953,  0.01284795,  0.01450533,  0.01560614,\n",
       "        0.01621752,  0.01647704,  0.01653021,  0.01649432,  0.01644705,\n",
       "        0.01642689,  0.01643923,  0.01646848,  0.01649423,  0.01650478,\n",
       "        0.01650179,  0.01649544,  0.01649512,  0.01650141,  0.01650374,\n",
       "        0.01648613,  0.01644014,  0.01637816,  0.01633489,  0.01634955,\n",
       "        0.01643765,  0.01657555,  0.01671357,  0.01680791,  0.01684426,\n",
       "        0.01683605,  0.01680571,  0.01676976,  0.01673729,  0.01671488,\n",
       "        0.01670776,  0.01671614,  0.01673301,  0.01674756,  0.01675141,\n",
       "        0.01674294,  0.01672751,  0.01671506,  0.01671598,  0.01673546,\n",
       "        0.01676906,  0.01680438,  0.01683023,  0.01684676,  0.01686703,\n",
       "        0.01690679,  0.01696796,  0.0170251 ,  0.0170208 ,  0.01686936,\n",
       "        0.01646449,  0.01569128,  0.01445117,  0.01270626,  0.01052882])"
      ]
     },
     "execution_count": 49,
     "metadata": {},
     "output_type": "execute_result"
    }
   ],
   "source": [
    "kde_func(range(0,60))"
   ]
  },
  {
   "cell_type": "code",
   "execution_count": 52,
   "metadata": {
    "collapsed": false
   },
   "outputs": [
    {
     "data": {
      "text/plain": [
       "0.016070075886410788"
      ]
     },
     "execution_count": 52,
     "metadata": {},
     "output_type": "execute_result"
    }
   ],
   "source": [
    "np.mean(kde_func(range(0,60)))"
   ]
  },
  {
   "cell_type": "code",
   "execution_count": 53,
   "metadata": {
    "collapsed": true
   },
   "outputs": [],
   "source": [
    "#almost equal tol 0.016666...."
   ]
  },
  {
   "cell_type": "code",
   "execution_count": 82,
   "metadata": {
    "collapsed": true
   },
   "outputs": [],
   "source": [
    "xs = np.linspace(0,8,200)"
   ]
  },
  {
   "cell_type": "code",
   "execution_count": 56,
   "metadata": {
    "collapsed": false
   },
   "outputs": [
    {
     "data": {
      "text/plain": [
       "0.04"
      ]
     },
     "execution_count": 56,
     "metadata": {},
     "output_type": "execute_result"
    }
   ],
   "source": [
    "8/200."
   ]
  },
  {
   "cell_type": "code",
   "execution_count": 58,
   "metadata": {
    "collapsed": false
   },
   "outputs": [
    {
     "data": {
      "text/plain": [
       "0.040201005025125629"
      ]
     },
     "execution_count": 58,
     "metadata": {},
     "output_type": "execute_result"
    }
   ],
   "source": [
    "xs[1]"
   ]
  },
  {
   "cell_type": "code",
   "execution_count": 60,
   "metadata": {
    "collapsed": false
   },
   "outputs": [
    {
     "data": {
      "text/plain": [
       "(0.040201005025125629, 0.040201005025125629)"
      ]
     },
     "execution_count": 60,
     "metadata": {},
     "output_type": "execute_result"
    }
   ],
   "source": [
    "xs[1]-xs[0], xs[2]-xs[1]"
   ]
  },
  {
   "cell_type": "code",
   "execution_count": 71,
   "metadata": {
    "collapsed": false
   },
   "outputs": [
    {
     "data": {
      "text/plain": [
       "array([-0.04020101, -0.04020101, -0.04020101, -0.04020101, -0.04020101,\n",
       "       -0.04020101, -0.04020101, -0.04020101, -0.04020101, -0.04020101,\n",
       "       -0.04020101, -0.04020101, -0.04020101, -0.04020101, -0.04020101,\n",
       "       -0.04020101, -0.04020101, -0.04020101, -0.04020101, -0.04020101,\n",
       "       -0.04020101, -0.04020101, -0.04020101, -0.04020101, -0.04020101,\n",
       "       -0.04020101, -0.04020101, -0.04020101, -0.04020101, -0.04020101,\n",
       "       -0.04020101, -0.04020101, -0.04020101, -0.04020101, -0.04020101,\n",
       "       -0.04020101, -0.04020101, -0.04020101, -0.04020101, -0.04020101,\n",
       "       -0.04020101, -0.04020101, -0.04020101, -0.04020101, -0.04020101,\n",
       "       -0.04020101, -0.04020101, -0.04020101, -0.04020101, -0.04020101,\n",
       "       -0.04020101, -0.04020101, -0.04020101, -0.04020101, -0.04020101,\n",
       "       -0.04020101, -0.04020101, -0.04020101, -0.04020101, -0.04020101,\n",
       "       -0.04020101, -0.04020101, -0.04020101, -0.04020101, -0.04020101,\n",
       "       -0.04020101, -0.04020101, -0.04020101, -0.04020101, -0.04020101,\n",
       "       -0.04020101, -0.04020101, -0.04020101, -0.04020101, -0.04020101,\n",
       "       -0.04020101, -0.04020101, -0.04020101, -0.04020101, -0.04020101,\n",
       "       -0.04020101, -0.04020101, -0.04020101, -0.04020101, -0.04020101,\n",
       "       -0.04020101, -0.04020101, -0.04020101, -0.04020101, -0.04020101,\n",
       "       -0.04020101, -0.04020101, -0.04020101, -0.04020101, -0.04020101,\n",
       "       -0.04020101, -0.04020101, -0.04020101, -0.04020101, -0.04020101,\n",
       "       -0.04020101, -0.04020101, -0.04020101, -0.04020101, -0.04020101,\n",
       "       -0.04020101, -0.04020101, -0.04020101, -0.04020101, -0.04020101,\n",
       "       -0.04020101, -0.04020101, -0.04020101, -0.04020101, -0.04020101,\n",
       "       -0.04020101, -0.04020101, -0.04020101, -0.04020101, -0.04020101,\n",
       "       -0.04020101, -0.04020101, -0.04020101, -0.04020101, -0.04020101,\n",
       "       -0.04020101, -0.04020101, -0.04020101, -0.04020101, -0.04020101,\n",
       "       -0.04020101, -0.04020101, -0.04020101, -0.04020101, -0.04020101,\n",
       "       -0.04020101, -0.04020101, -0.04020101, -0.04020101, -0.04020101,\n",
       "       -0.04020101, -0.04020101, -0.04020101, -0.04020101, -0.04020101,\n",
       "       -0.04020101, -0.04020101, -0.04020101, -0.04020101, -0.04020101,\n",
       "       -0.04020101, -0.04020101, -0.04020101, -0.04020101, -0.04020101,\n",
       "       -0.04020101, -0.04020101, -0.04020101, -0.04020101, -0.04020101,\n",
       "       -0.04020101, -0.04020101, -0.04020101, -0.04020101, -0.04020101,\n",
       "       -0.04020101, -0.04020101, -0.04020101, -0.04020101, -0.04020101,\n",
       "       -0.04020101, -0.04020101, -0.04020101, -0.04020101, -0.04020101,\n",
       "       -0.04020101, -0.04020101, -0.04020101, -0.04020101, -0.04020101,\n",
       "       -0.04020101, -0.04020101, -0.04020101, -0.04020101, -0.04020101,\n",
       "       -0.04020101, -0.04020101, -0.04020101, -0.04020101, -0.04020101,\n",
       "       -0.04020101, -0.04020101, -0.04020101, -0.04020101, -0.04020101,\n",
       "       -0.04020101, -0.04020101, -0.04020101, -0.04020101,  0.        ])"
      ]
     },
     "execution_count": 71,
     "metadata": {},
     "output_type": "execute_result"
    }
   ],
   "source": [
    "xs - np.array(list(xs[1:]) + [8])"
   ]
  },
  {
   "cell_type": "code",
   "execution_count": 72,
   "metadata": {
    "collapsed": false
   },
   "outputs": [
    {
     "data": {
      "text/plain": [
       "-8.0"
      ]
     },
     "execution_count": 72,
     "metadata": {},
     "output_type": "execute_result"
    }
   ],
   "source": [
    "(xs - np.array(list(xs[1:]) + [8])).sum()"
   ]
  },
  {
   "cell_type": "code",
   "execution_count": 73,
   "metadata": {
    "collapsed": true
   },
   "outputs": [],
   "source": [
    "diffs=(xs - np.array(list(xs[1:]) + [8]))"
   ]
  },
  {
   "cell_type": "code",
   "execution_count": 74,
   "metadata": {
    "collapsed": false
   },
   "outputs": [
    {
     "data": {
      "text/plain": [
       "200"
      ]
     },
     "execution_count": 74,
     "metadata": {},
     "output_type": "execute_result"
    }
   ],
   "source": [
    "len(diffs)"
   ]
  },
  {
   "cell_type": "code",
   "execution_count": 75,
   "metadata": {
    "collapsed": false
   },
   "outputs": [
    {
     "data": {
      "text/plain": [
       "0.04020100502512563"
      ]
     },
     "execution_count": 75,
     "metadata": {},
     "output_type": "execute_result"
    }
   ],
   "source": [
    "8/199."
   ]
  },
  {
   "cell_type": "code",
   "execution_count": 76,
   "metadata": {
    "collapsed": true
   },
   "outputs": [],
   "source": [
    "#Oh becuase it divids into 199 partitions, each one is a bit larger than 8/200."
   ]
  },
  {
   "cell_type": "code",
   "execution_count": 84,
   "metadata": {
    "collapsed": false
   },
   "outputs": [
    {
     "data": {
      "text/plain": [
       "0.04"
      ]
     },
     "execution_count": 84,
     "metadata": {},
     "output_type": "execute_result"
    }
   ],
   "source": [
    "8/200."
   ]
  },
  {
   "cell_type": "code",
   "execution_count": 85,
   "metadata": {
    "collapsed": true
   },
   "outputs": [],
   "source": [
    "xs = np.linspace(0,60,300)"
   ]
  },
  {
   "cell_type": "code",
   "execution_count": 93,
   "metadata": {
    "collapsed": false
   },
   "outputs": [
    {
     "data": {
      "text/plain": [
       "[<matplotlib.lines.Line2D at 0x25157b19eb8>]"
      ]
     },
     "execution_count": 93,
     "metadata": {},
     "output_type": "execute_result"
    },
    {
     "data": {
      "image/png": "[encoded data removed]",
      "text/plain": [
       "<matplotlib.figure.Figure at 0x25157827358>"
      ]
     },
     "metadata": {},
     "output_type": "display_data"
    }
   ],
   "source": [
    "plt.plot(xs, stats.gaussian_kde(pd.Series(get_uniform_samples(a=0,b=60)), 1)(xs))"
   ]
  },
  {
   "cell_type": "code",
   "execution_count": 94,
   "metadata": {
    "collapsed": false
   },
   "outputs": [
    {
     "data": {
      "text/plain": [
       "0.016666666666666666"
      ]
     },
     "execution_count": 94,
     "metadata": {},
     "output_type": "execute_result"
    }
   ],
   "source": [
    "1/60."
   ]
  },
  {
   "cell_type": "code",
   "execution_count": 99,
   "metadata": {
    "collapsed": false
   },
   "outputs": [],
   "source": [
    "from scipy.integrate import simps"
   ]
  },
  {
   "cell_type": "code",
   "execution_count": null,
   "metadata": {
    "collapsed": true
   },
   "outputs": [],
   "source": []
  }
 ],
 "metadata": {
  "kernelspec": {
   "display_name": "Python 3",
   "language": "python",
   "name": "python3"
  },
  "language_info": {
   "codemirror_mode": {
    "name": "ipython",
    "version": 3
   },
   "file_extension": ".py",
   "mimetype": "text/x-python",
   "name": "python",
   "nbconvert_exporter": "python",
   "pygments_lexer": "ipython3",
   "version": "3.6.0"
  }
 },
 "nbformat": 4,
 "nbformat_minor": 2
}
