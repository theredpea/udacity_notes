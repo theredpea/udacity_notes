{
 "metadata": {
  "name": "",
  "signature": "sha256:5932751e819d75853914a6d566c386db0d8052afa8c26f58e6f0745ae748e4c0"
 },
 "nbformat": 3,
 "nbformat_minor": 0,
 "worksheets": [
  {
   "cells": [
    {
     "cell_type": "code",
     "collapsed": false,
     "input": [
      "import pandas as pd\n",
      "import numpy as np\n",
      "import matplotlib.pyplot as plt\n",
      "\n",
      "def voting_1():\n",
      "    \"\"\"\n",
      "    Prints pie graph of 50/50 split\n",
      "    :returns: pie split\n",
      "    \"\"\"\n",
      "    pd.Series(('A','B')).pie()"
     ],
     "language": "python",
     "metadata": {},
     "outputs": [],
     "prompt_number": 2
    },
    {
     "cell_type": "code",
     "collapsed": false,
     "input": [
      "%matplotlib  inline\n",
      "fifty=pd.Series((1,1))\n"
     ],
     "language": "python",
     "metadata": {},
     "outputs": [],
     "prompt_number": 12
    },
    {
     "cell_type": "code",
     "collapsed": false,
     "input": [
      "def voting_1():\n",
      "    #fifty.plot(kind='pie', figsize=(6,6))\n",
      "    pd.Series(index=('A','B'), data=(1,1)).plot(kind='pie', colors=('red', 'blue'), figsize=(6,6), legend=False, startangle=90)\n",
      "    \n",
      "voting_1()"
     ],
     "language": "python",
     "metadata": {},
     "outputs": [
      {
       "metadata": {},
       "output_type": "display_data",
       "png": "[encoded data removed]",
       "text": [
        "<matplotlib.figure.Figure at 0x8743160>"
       ]
      }
     ],
     "prompt_number": 27
    },
    {
     "cell_type": "code",
     "collapsed": false,
     "input": [
      "voting_1_solution = 'https://www.udacity.com/course/viewer#!/c-st101/l-48646868/e-48648859/m-48729157'"
     ],
     "language": "python",
     "metadata": {},
     "outputs": [],
     "prompt_number": 25
    },
    {
     "cell_type": "code",
     "collapsed": false,
     "input": [
      "def voting_2():\n",
      "    \"\"\"\n",
      "    prints pie chart, good for relative data\n",
      "    :returns : \n",
      "    \"\"\"\n",
      "    votes = pd.DataFrame(index=('A','B'), data={'Votes':(724, 181)})\n",
      "    return 100*votes.Votes/votes.Votes.sum()"
     ],
     "language": "python",
     "metadata": {},
     "outputs": [],
     "prompt_number": 35
    },
    {
     "cell_type": "code",
     "collapsed": false,
     "input": [
      "assert (voting_2().values==pd.Series((80,20))).all(), '80 percent votes for A, only 20 percent voted for B'\n",
      "voting_2_solution = 'https://www.udacity.com/course/viewer#!/c-st101/l-48646868/e-48747153/m-48697516'"
     ],
     "language": "python",
     "metadata": {},
     "outputs": [],
     "prompt_number": 43
    },
    {
     "cell_type": "code",
     "collapsed": false,
     "input": [
      "def voting_3():\n",
      "    voting_2().plot(kind='pie', colors=('red', 'blue'), legend=False, figsize=(6,6), startangle=90)"
     ],
     "language": "python",
     "metadata": {},
     "outputs": [],
     "prompt_number": 48
    },
    {
     "cell_type": "code",
     "collapsed": false,
     "input": [
      "voting_3()\n",
      "voting_3_solution = 'https://www.udacity.com/course/viewer#!/c-st101/l-48646868/e-48728369/m-48723323'"
     ],
     "language": "python",
     "metadata": {},
     "outputs": [
      {
       "metadata": {},
       "output_type": "display_data",
       "png": "[encoded data removed]",
       "text": [
        "<matplotlib.figure.Figure at 0x87cdc88>"
       ]
      }
     ],
     "prompt_number": 50
    },
    {
     "cell_type": "code",
     "collapsed": false,
     "input": [
      "def voting_4(new_size_b=23000):\n",
      "    \"\"\"\n",
      "    :params new_size_b: new size B\n",
      "    :returns: the size of A  voters based on voting_2() percentages (80%)\n",
      "    \"\"\"\n",
      "    total_size = new_size_b/(voting_2()['B']/100)\n",
      "    #print(total_size)\n",
      "    return total_size * (voting_2()['A']/100)"
     ],
     "language": "python",
     "metadata": {},
     "outputs": [],
     "prompt_number": 65
    },
    {
     "cell_type": "code",
     "collapsed": false,
     "input": [
      "assert voting_4() == 92000, 'The 23K is 20% so the total is 115K so the 80% is 92K'"
     ],
     "language": "python",
     "metadata": {},
     "outputs": [],
     "prompt_number": 66
    },
    {
     "cell_type": "code",
     "collapsed": false,
     "input": [],
     "language": "python",
     "metadata": {},
     "outputs": []
    }
   ],
   "metadata": {}
  }
 ]
}