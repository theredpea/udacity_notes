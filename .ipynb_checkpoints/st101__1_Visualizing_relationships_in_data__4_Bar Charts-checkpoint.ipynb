{
 "metadata": {
  "name": "",
  "signature": "sha256:6e6ee0eac821591258cc5b60a716a30790320e1ffc44d609a23f9a332502fc35"
 },
 "nbformat": 3,
 "nbformat_minor": 0,
 "worksheets": [
  {
   "cells": [
    {
     "cell_type": "markdown",
     "metadata": {},
     "source": [
      "#Barcharts and Histograms\n",
      "##Aggregate data;\n",
      " - Barchart - 2D data\n",
      " - Histograms - 1D data"
     ]
    },
    {
     "cell_type": "code",
     "collapsed": false,
     "input": [
      "def summary():\n",
      "    \"\"\"\n",
      "    Both use vertical bars;\n",
      "    Aggregate data\n",
      "    :returns: barchart or histogram\n",
      "    \"\"\"\n",
      "    pass"
     ],
     "language": "python",
     "metadata": {},
     "outputs": [],
     "prompt_number": 20
    },
    {
     "cell_type": "code",
     "collapsed": false,
     "input": [
      "import pandas as pd\n",
      "import matplotlib.pyplot as plt\n",
      "import numpy as np\n"
     ],
     "language": "python",
     "metadata": {},
     "outputs": [],
     "prompt_number": 21
    },
    {
     "cell_type": "code",
     "collapsed": false,
     "input": [
      "%matplotlib inline"
     ],
     "language": "python",
     "metadata": {},
     "outputs": [],
     "prompt_number": 22
    },
    {
     "cell_type": "code",
     "collapsed": false,
     "input": [
      "s_v_c = pd.DataFrame({'size':pd.Series((13, 14, 16, 19, 21, 23))*100,\n",
      "                    'cost':pd.Series((88,72,94,86,112,98))*1000})\n",
      "def scatter_plot(svc=None, highlight_size=2400):\n",
      "    \"\"\"\n",
      "    Graphs sizes horizontally\n",
      "    And costs vertically\n",
      "    http://matplotlib.org/examples/shapes_and_collections/scatter_demo.html\n",
      "    Cannot use pandas native .plot method, does not handle color keyword arg?\n",
      "    \"\"\"\n",
      "    svc = s_v_c if svc is None else svc\n",
      "    color =  (svc.size==highlight_size)*1\n",
      "    size = [100]*len(svc)\n",
      "    kind='scatter'\n",
      "    cmap='PuRd'\n",
      "    plt.scatter(svc.size, svc.cost, c=color, s=size, cmap=cmap)\n",
      "    #svc.plot('size', 'cost', c=color, s=[100]*len(size_v_cost), kind='scatter', cmap='PuRd')\n",
      "\n",
      "def checking_linearity(svc=None):\n",
      "    \"\"\"\n",
      "    When a line governs the relationship of two datapoints; \n",
      "    the data is called 'linear'\n",
      "    Linearity is a rare occurrence in statistics\n",
      "    \"\"\"\n",
      "    \n",
      "    svc = size_v_cost_changed if svc is None else svc\n",
      "    scatter_plot(svc)\n",
      "    #print(plt.ylim())\n",
      "    #plt.ylim(min(svc.cost), max(svc.cost))\n",
      "    plt.plot([min(svc.size), max(svc.size)], [min(svc.cost), max(svc.cost)], color='black', ls='dotted')#vlines\n",
      "    \n",
      "checking_linearity(s_v_c)"
     ],
     "language": "python",
     "metadata": {},
     "outputs": [
      {
       "metadata": {},
       "output_type": "display_data",
       "png": "[encoded data removed]",
       "text": [
        "<matplotlib.figure.Figure at 0x80c7b00>"
       ]
      }
     ],
     "prompt_number": 23
    },
    {
     "cell_type": "code",
     "collapsed": false,
     "input": [
      "checking_linearity_solution = 'https://www.udacity.com/course/viewer#!/c-st101/l-48727696/e-48702501/m-48724214'"
     ],
     "language": "python",
     "metadata": {},
     "outputs": [],
     "prompt_number": 24
    },
    {
     "cell_type": "code",
     "collapsed": false,
     "input": [
      "def interpolation(svc=None, n=0):\n",
      "    \"\"\"\n",
      "    :param n: The size for which to return expected cost\n",
      "    :returns : How much to pay for an 'n' sq ft house\n",
      "    \"\"\"\n",
      "    svc=svc.append(pd.DataFrame({'size':(n,)}), True)\n",
      "    ordered = pd.Series(index=svc.size, data=svc.cost.values).sort_index()\n",
      "    #Must sort by size; (even though it appears to be the independent variable) \n",
      "    #some w/ more size still cost less; \n",
      "    \n",
      "    print(ordered)\n",
      "    return (ordered #Orders by the index, which is size in sq ft; interpolation depends on order (see OP)\n",
      "    .interpolate(method='index')[n]) #Interpolate using method 'index'"
     ],
     "language": "python",
     "metadata": {},
     "outputs": [],
     "prompt_number": 31
    },
    {
     "cell_type": "code",
     "collapsed": false,
     "input": [
      "interpolation(s_v_c, 2200)\n"
     ],
     "language": "python",
     "metadata": {},
     "outputs": [
      {
       "output_type": "stream",
       "stream": "stdout",
       "text": [
        "size\n",
        "1300     88000\n",
        "1400     72000\n",
        "1600     94000\n",
        "1900     86000\n",
        "2100    112000\n",
        "2200       NaN\n",
        "2300     98000\n",
        "dtype: float64\n"
       ]
      },
      {
       "metadata": {},
       "output_type": "pyout",
       "prompt_number": 46,
       "text": [
        "2100"
       ]
      }
     ],
     "prompt_number": 46
    },
    {
     "cell_type": "code",
     "collapsed": false,
     "input": [
      "def interpolation(svc=None, num=2200):\n",
      "    \"\"\"\n",
      "    :returns: expected value based on closest two bounding points\n",
      "    \"\"\"\n",
      "    \n",
      "    svc = s_v_c if svc is None else svc\n",
      "    svc_series = pd.Series(index=svc.size, data=svc.cost.values)\n",
      "    return (s_v_c.cost[s_v_c.size<num].max() + s_v_c.cost[s_v_c.size>num].min())/2"
     ],
     "language": "python",
     "metadata": {},
     "outputs": [],
     "prompt_number": 51
    },
    {
     "cell_type": "code",
     "collapsed": false,
     "input": [
      "interpolation_solution = 'https://www.udacity.com/course/viewer#!/c-st101/l-48727696/e-48532779/m-48480448'\n",
      "assert interpolation()==105000, 'The answer is the average of the cost of homes sized 2100 and 2300'"
     ],
     "language": "python",
     "metadata": {},
     "outputs": [],
     "prompt_number": 82
    },
    {
     "cell_type": "code",
     "collapsed": false,
     "input": [
      "def trust():\n",
      "    svc = s_v_c.copy()\n",
      "    svc = svc.append(pd.DataFrame({'size':(2200,),'cost':(105000,)}), True)\n",
      "    #print(svc)\n",
      "    scatter_plot(svc, 2200)\n",
      "    return False\n",
      "    "
     ],
     "language": "python",
     "metadata": {},
     "outputs": [],
     "prompt_number": 64
    },
    {
     "cell_type": "code",
     "collapsed": false,
     "input": [
      "trust()\n",
      "'Not a lot of trust in this number...'"
     ],
     "language": "python",
     "metadata": {},
     "outputs": [
      {
       "metadata": {},
       "output_type": "pyout",
       "prompt_number": 65,
       "text": [
        "'Not a lot of trust in this number...'"
       ]
      },
      {
       "metadata": {},
       "output_type": "display_data",
       "png": "[encoded data removed]",
       "text": [
        "<matplotlib.figure.Figure at 0x8531278>"
       ]
      }
     ],
     "prompt_number": 65
    },
    {
     "cell_type": "code",
     "collapsed": false,
     "input": [
      "trust_solution = 'https://www.udacity.com/course/viewer#!/c-st101/l-48727696/e-48728368/m-48439340'"
     ],
     "language": "python",
     "metadata": {},
     "outputs": [],
     "prompt_number": 66
    },
    {
     "cell_type": "markdown",
     "metadata": {},
     "source": [
      " - Likelihood that a squiggly line predicts these points?\n",
      " - More likely that a linear line predicts them and the distance from this line is called \"noise\""
     ]
    },
    {
     "cell_type": "markdown",
     "metadata": {},
     "source": [
      "*Bars help smooth out differences*\n",
      "\n",
      "All the data falling between two points on x-axis can be summarized by a single point on y-axis \n"
     ]
    },
    {
     "cell_type": "code",
     "collapsed": false,
     "input": [
      "def grouping_data(svc=None, s=1000, e=1500):\n",
      "    \n",
      "    svc = s_v_c if svc is None else svc\n",
      "    return s_v_c.cost[(s_v_c.size>=s) & (s_v_c.size<=e)].mean()"
     ],
     "language": "python",
     "metadata": {},
     "outputs": [],
     "prompt_number": 77
    },
    {
     "cell_type": "code",
     "collapsed": false,
     "input": [
      "assert grouping_data()== 80000, \"Answer is halfway point between 88K and 72K\""
     ],
     "language": "python",
     "metadata": {},
     "outputs": [],
     "prompt_number": 80
    },
    {
     "cell_type": "code",
     "collapsed": false,
     "input": [
      "grouping_data_solution='https://www.udacity.com/course/viewer#!/c-st101/l-48727696/e-48747152/m-48729153'"
     ],
     "language": "python",
     "metadata": {},
     "outputs": [],
     "prompt_number": 83
    },
    {
     "cell_type": "code",
     "collapsed": false,
     "input": [
      "def grouping_data_2(svc=None, s=1500, e=2000):\n",
      "    return (grouping_data(svc, s, e))"
     ],
     "language": "python",
     "metadata": {},
     "outputs": [],
     "prompt_number": 84
    },
    {
     "cell_type": "code",
     "collapsed": false,
     "input": [
      "assert grouping_data_2()==90000, \"Answer is halfway point between 86K and 94K\""
     ],
     "language": "python",
     "metadata": {},
     "outputs": [],
     "prompt_number": 86
    },
    {
     "cell_type": "code",
     "collapsed": false,
     "input": [
      "grouping_data_2_solution='https://www.udacity.com/course/viewer#!/c-st101/l-48727696/e-48717440/m-48680614'"
     ],
     "language": "python",
     "metadata": {},
     "outputs": [],
     "prompt_number": 87
    },
    {
     "cell_type": "code",
     "collapsed": false,
     "input": [
      "def grouping_data_3(svc=None, s=2000, e=2500):\n",
      "    return grouping_data(svc, s, e)"
     ],
     "language": "python",
     "metadata": {},
     "outputs": [],
     "prompt_number": 88
    },
    {
     "cell_type": "code",
     "collapsed": false,
     "input": [
      "assert grouping_data_3()==105000, 'Answer is halfway between 86 and 112K'\n",
      "grouping_data_3_solution = 'https://www.udacity.com/course/viewer#!/c-st101/l-48727696/e-48532781/m-48695529'"
     ],
     "language": "python",
     "metadata": {},
     "outputs": [],
     "prompt_number": 90
    },
    {
     "cell_type": "code",
     "collapsed": false,
     "input": [
      "def bar_charts():\n",
      "    \"\"\"\n",
      "    :returns: if bar charts are cool\n",
      "    \"\"\"\n",
      "    return True\n",
      "assert bar_charts(), 'Bar charts are cool according to Sebastian'\n",
      "bar_charts_solution = 'https://www.udacity.com/course/viewer#!/c-st101/l-48727696/e-48727695/m-48701367'"
     ],
     "language": "python",
     "metadata": {},
     "outputs": [],
     "prompt_number": 91
    },
    {
     "cell_type": "code",
     "collapsed": false,
     "input": [
      "income = pd.Series((132754, 137192,122177,147121,143000,126010,129200,124312,128132))"
     ],
     "language": "python",
     "metadata": {},
     "outputs": [],
     "prompt_number": 92
    },
    {
     "cell_type": "code",
     "collapsed": false,
     "input": [
      "list(range(125,150,5))"
     ],
     "language": "python",
     "metadata": {},
     "outputs": [
      {
       "metadata": {},
       "output_type": "pyout",
       "prompt_number": 94,
       "text": [
        "[125, 130, 135, 140, 145]"
       ]
      }
     ],
     "prompt_number": 94
    },
    {
     "cell_type": "code",
     "collapsed": false,
     "input": [
      "#income.hist()\n",
      "#income.hist(bins=len(range(125,150,5)))\n",
      "#income.hist(bins=3)\n",
      "def histograms(bin=0):\n",
      "    \"\"\"\n",
      "    :returns : Value of frequency of the first bin\n",
      "    \"\"\"\n",
      "    income_hist = plt.hist(income.data,bins=pd.Series([120,130,140,150])*1000)\n",
      "    assert np.allclose(income_hist[0],np.array((5.,2.,2.))) #The values in each bin; len == n\n",
      "    assert np.allclose(income_hist[1], np.array((120000, 130000, 140000, 150000))) #The bin boundaries; lin == (n+1)\n",
      "    return income_hist[0][bin]"
     ],
     "language": "python",
     "metadata": {},
     "outputs": [],
     "prompt_number": 114
    },
    {
     "cell_type": "code",
     "collapsed": false,
     "input": [
      "assert histograms()==5., 'The number of incomes falling in the first bin, 120K to 130K, is 5'\n",
      "histograms_solution = 'https://www.udacity.com/course/viewer#!/c-st101/l-48727696/e-48648858/m-48709161'"
     ],
     "language": "python",
     "metadata": {},
     "outputs": [
      {
       "metadata": {},
       "output_type": "display_data",
       "png": "[encoded data removed]",
       "text": [
        "<matplotlib.figure.Figure at 0x870e7b8>"
       ]
      }
     ],
     "prompt_number": 115
    },
    {
     "cell_type": "code",
     "collapsed": false,
     "input": [
      "def histograms_2(bin=1):\n",
      "    return histograms(1)"
     ],
     "language": "python",
     "metadata": {},
     "outputs": [],
     "prompt_number": 116
    },
    {
     "cell_type": "code",
     "collapsed": false,
     "input": [
      "assert histograms_2()==2., 'The second bin has frequency of 2 incomes (between 130K and 140K)'"
     ],
     "language": "python",
     "metadata": {},
     "outputs": [
      {
       "metadata": {},
       "output_type": "display_data",
       "png": "[encoded data removed]",
       "text": [
        "<matplotlib.figure.Figure at 0x80ad1d0>"
       ]
      }
     ],
     "prompt_number": 122
    },
    {
     "cell_type": "code",
     "collapsed": false,
     "input": [
      "histograms_2_solution = 'https://www.udacity.com/course/viewer#!/c-st101/l-48727696/e-48702503/m-48688776'"
     ],
     "language": "python",
     "metadata": {},
     "outputs": [],
     "prompt_number": 123
    },
    {
     "cell_type": "code",
     "collapsed": false,
     "input": [
      "ages = pd.Series((21, 17, 9, 27, 39, 4, 32, 12, 14, 12, 38, 9, 19, 22, 14, 21, 3, 31, 8, 15, 33, 29))"
     ],
     "language": "python",
     "metadata": {},
     "outputs": [],
     "prompt_number": 124
    },
    {
     "cell_type": "code",
     "collapsed": false,
     "input": [
      "def age_distribution():\n",
      "    dist = plt.hist(ages,bins=[0,10, 20, 30, 40])\n",
      "    return dist[0]"
     ],
     "language": "python",
     "metadata": {},
     "outputs": [],
     "prompt_number": 126
    },
    {
     "cell_type": "code",
     "collapsed": false,
     "input": [
      "assert np.allclose(age_distribution(), np.array((5.,7.,5.,5.))), 'Distribution should be 5, 7, 5, 5'\n",
      "age_distribution_solution = 'https://www.udacity.com/course/viewer#!/c-st101/l-48727696/e-48532782/m-48688775'"
     ],
     "language": "python",
     "metadata": {},
     "outputs": [
      {
       "metadata": {},
       "output_type": "display_data",
       "png": "[encoded data removed]",
       "text": [
        "<matplotlib.figure.Figure at 0x87acf98>"
       ]
      }
     ],
     "prompt_number": 129
    },
    {
     "cell_type": "code",
     "collapsed": false,
     "input": [
      "def summary():\n",
      "    \"\"\"\n",
      "    :returns: Summary of this lesson\n",
      "    \"\"\"\n",
      "    return 'Histogram is 1D data, Bar chart is 2D data, both group datapoints. '\\\n",
      "+ 'Histograms group by  frequencies in a bin, bar charts by averages of the bin'"
     ],
     "language": "python",
     "metadata": {},
     "outputs": [],
     "prompt_number": 132
    },
    {
     "cell_type": "code",
     "collapsed": false,
     "input": [
      "print(summary())"
     ],
     "language": "python",
     "metadata": {},
     "outputs": [
      {
       "output_type": "stream",
       "stream": "stdout",
       "text": [
        "Histogram is 1D data, Bar chart is 2D data, both group datapoints. Histograms group by  frequencies in a bin, bar charts by averages of the bin\n"
       ]
      }
     ],
     "prompt_number": 133
    },
    {
     "cell_type": "code",
     "collapsed": false,
     "input": [],
     "language": "python",
     "metadata": {},
     "outputs": []
    }
   ],
   "metadata": {}
  }
 ]
}