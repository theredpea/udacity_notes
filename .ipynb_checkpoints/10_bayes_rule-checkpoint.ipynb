{
 "cells": [
  {
   "cell_type": "markdown",
   "metadata": {},
   "source": [
    "<span style=\"color:red;\">A</span><span style=\"color:green;\">B</span><span style=\"color:green;\">C</span>"
   ]
  },
  {
   "cell_type": "code",
   "execution_count": 43,
   "metadata": {
    "collapsed": false
   },
   "outputs": [],
   "source": [
    "def robot_sensing_abc(joints=True):\n",
    "    p_a = p_b = p_c = 1/3\n",
    "    p_r_g_a = 0.9; p_g_g_a = 1-p_r_g_a\n",
    "    p_g_g_b = 0.9; p_r_g_b = 1-p_g_g_b\n",
    "    p_g_g_c = 0.9; p_r_g_c = 1-p_g_g_c\n",
    "    p_r_a_a = p_a_a_r = p_a * p_r_g_a\n",
    "    p_r_a_b = p_r_g_b * p_b\n",
    "    p_r_a_c = p_r_g_c * p_c\n",
    "    \n",
    "    #WRONG This is based on drawing p_r = 1/3; p_g = 1-p_r\n",
    "    #This normalizer is the calculation of robot_sensing_7\n",
    "    p_r = p_r_a_a + p_r_a_b + p_r_a_c\n",
    "    \n",
    "    p_a_g_r = p_r_a_a / p_r\n",
    "    p_b_g_r = p_r_a_b / p_r\n",
    "    p_c_g_r = p_r_a_c / p_r\n",
    "    \n",
    "    return (p_r_a_a, p_r_a_b, p_r_a_c) if joints else (p_a_g_r, p_b_g_r, p_c_g_r)"
   ]
  },
  {
   "cell_type": "code",
   "execution_count": 38,
   "metadata": {
    "collapsed": false
   },
   "outputs": [
    {
     "data": {
      "text/plain": [
       "(0.3, 0.033333333333333326, 0.033333333333333326)"
      ]
     },
     "execution_count": 38,
     "metadata": {},
     "output_type": "execute_result"
    }
   ],
   "source": [
    "robot_sensing_4,robot_sensing_5,robot_sensing_6  = robot_sensing_abc()\n",
    "robot_sensing_4,robot_sensing_5,robot_sensing_6 \n"
   ]
  },
  {
   "cell_type": "code",
   "execution_count": 39,
   "metadata": {
    "collapsed": false
   },
   "outputs": [],
   "source": [
    "assert robot_sensing_5 == robot_sensing_6 #Because p_b and p_c have the same prior probability \n",
    "#and the same posterior probability "
   ]
  },
  {
   "cell_type": "code",
   "execution_count": 40,
   "metadata": {
    "collapsed": false
   },
   "outputs": [
    {
     "data": {
      "text/plain": [
       "0.36666666666666664"
      ]
     },
     "execution_count": 40,
     "metadata": {},
     "output_type": "execute_result"
    }
   ],
   "source": [
    "robot_sensing_7 = sum((robot_sensing_4,robot_sensing_5,robot_sensing_6))#Normalizer\n",
    "robot_sensing_7"
   ]
  },
  {
   "cell_type": "code",
   "execution_count": 41,
   "metadata": {
    "collapsed": false
   },
   "outputs": [
    {
     "data": {
      "text/plain": [
       "(0.8181818181818182, 0.0909090909090909, 0.0909090909090909)"
      ]
     },
     "execution_count": 41,
     "metadata": {},
     "output_type": "execute_result"
    }
   ],
   "source": [
    "robot_sensing_8 = robot_sensing_abc(False) #Want the posterior of reverse events; not the joints\n",
    "robot_sensing_8"
   ]
  },
  {
   "cell_type": "code",
   "execution_count": 42,
   "metadata": {
    "collapsed": false
   },
   "outputs": [
    {
     "data": {
      "text/plain": [
       "1.0"
      ]
     },
     "execution_count": 42,
     "metadata": {},
     "output_type": "execute_result"
    }
   ],
   "source": [
    "sum(robot_sensing_8)"
   ]
  },
  {
   "cell_type": "code",
   "execution_count": 45,
   "metadata": {
    "collapsed": false
   },
   "outputs": [
    {
     "data": {
      "text/plain": [
       "0.021739130434782608"
      ]
     },
     "execution_count": 45,
     "metadata": {},
     "output_type": "execute_result"
    }
   ],
   "source": [
    "def gone_baby_gone():\n",
    "    p_g = 0.6; p_h = 1-p_g\n",
    "    p_r_g_h = 0.01; p_nr_g_h = 1-p_r_g_h\n",
    "    p_r_g_g = 0.3; p_nr_g_g = 1-p_r_g_g\n",
    "    \n",
    "    p_h_a_r = p_r_a_h = p_r_g_h * p_h\n",
    "    p_g_a_r = p_r_a_g = p_r_g_g * p_g\n",
    "    \n",
    "    p_r = p_r_a_h + p_r_a_g; p_g = 1-p_r\n",
    "    p_h_g_r = p_h_a_r / p_r\n",
    "    p_g_g_r = p_g_a_r / p_r\n",
    "    \n",
    "    return p_h_g_r\n",
    "sebastian_at_home = gone_baby_gone()\n",
    "sebastian_at_home\n",
    "    "
   ]
  },
  {
   "cell_type": "code",
   "execution_count": null,
   "metadata": {
    "collapsed": false
   },
   "outputs": [],
   "source": []
  }
 ],
 "metadata": {
  "kernelspec": {
   "display_name": "Python 3",
   "language": "python",
   "name": "python3"
  },
  "language_info": {
   "codemirror_mode": {
    "name": "ipython",
    "version": 3
   },
   "file_extension": ".py",
   "mimetype": "text/x-python",
   "name": "python",
   "nbconvert_exporter": "python",
   "pygments_lexer": "ipython3",
   "version": "3.6.0"
  }
 },
 "nbformat": 4,
 "nbformat_minor": 0
}
