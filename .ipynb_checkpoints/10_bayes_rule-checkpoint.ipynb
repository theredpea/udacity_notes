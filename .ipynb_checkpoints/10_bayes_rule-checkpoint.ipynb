{
 "metadata": {
  "name": "",
  "signature": "sha256:d22584ffdb79ff97034e9d44f7f2cafd2a766926f2673d7fec0459d2d0d167e5"
 },
 "nbformat": 3,
 "nbformat_minor": 0,
 "worksheets": [
  {
   "cells": [
    {
     "cell_type": "markdown",
     "metadata": {},
     "source": [
      "<span style=\"color:red;\">A</span><span style=\"color:green;\">B</span><span style=\"color:green;\">C</span>"
     ]
    },
    {
     "cell_type": "code",
     "collapsed": false,
     "input": [
      "def robot_sensing_abc(joints=True):\n",
      "    p_a = p_b = p_c = 1/3\n",
      "    p_r_g_a = 0.9; p_g_g_a = 1-p_r_g_a\n",
      "    p_g_g_b = 0.9; p_r_g_b = 1-p_g_g_b\n",
      "    p_g_g_c = 0.9; p_r_g_c = 1-p_g_g_c\n",
      "    p_r_a_a = p_a_a_r = p_a * p_r_g_a\n",
      "    p_r_a_b = p_r_g_b * p_b\n",
      "    p_r_a_c = p_r_g_c * p_c\n",
      "    \n",
      "    #WRONG This is based on drawing p_r = 1/3; p_g = 1-p_r\n",
      "    #This normalizer is the calculation of robot_sensing_7\n",
      "    p_r = p_r_a_a + p_r_a_b + p_r_a_c\n",
      "    \n",
      "    p_a_g_r = p_r_a_a / p_r\n",
      "    p_b_g_r = p_r_a_b / p_r\n",
      "    p_c_g_r = p_r_a_c / p_r\n",
      "    \n",
      "    return (p_r_a_a, p_r_a_b, p_r_a_c) if joints else (p_a_g_r, p_b_g_r, p_c_g_r)"
     ],
     "language": "python",
     "metadata": {},
     "outputs": [],
     "prompt_number": 43
    },
    {
     "cell_type": "code",
     "collapsed": false,
     "input": [
      "robot_sensing_4,robot_sensing_5,robot_sensing_6  = robot_sensing_abc()\n",
      "robot_sensing_4,robot_sensing_5,robot_sensing_6 \n"
     ],
     "language": "python",
     "metadata": {},
     "outputs": [
      {
       "metadata": {},
       "output_type": "pyout",
       "prompt_number": 38,
       "text": [
        "(0.3, 0.033333333333333326, 0.033333333333333326)"
       ]
      }
     ],
     "prompt_number": 38
    },
    {
     "cell_type": "code",
     "collapsed": false,
     "input": [
      "assert robot_sensing_5 == robot_sensing_6 #Because p_b and p_c have the same prior probability \n",
      "#and the same posterior probability "
     ],
     "language": "python",
     "metadata": {},
     "outputs": [],
     "prompt_number": 39
    },
    {
     "cell_type": "code",
     "collapsed": false,
     "input": [
      "robot_sensing_7 = sum((robot_sensing_4,robot_sensing_5,robot_sensing_6))#Normalizer\n",
      "robot_sensing_7"
     ],
     "language": "python",
     "metadata": {},
     "outputs": [
      {
       "metadata": {},
       "output_type": "pyout",
       "prompt_number": 40,
       "text": [
        "0.36666666666666664"
       ]
      }
     ],
     "prompt_number": 40
    },
    {
     "cell_type": "code",
     "collapsed": false,
     "input": [
      "robot_sensing_8 = robot_sensing_abc(False) #Want the posterior of reverse events; not the joints\n",
      "robot_sensing_8"
     ],
     "language": "python",
     "metadata": {},
     "outputs": [
      {
       "metadata": {},
       "output_type": "pyout",
       "prompt_number": 41,
       "text": [
        "(0.8181818181818182, 0.0909090909090909, 0.0909090909090909)"
       ]
      }
     ],
     "prompt_number": 41
    },
    {
     "cell_type": "code",
     "collapsed": false,
     "input": [
      "sum(robot_sensing_8)"
     ],
     "language": "python",
     "metadata": {},
     "outputs": [
      {
       "metadata": {},
       "output_type": "pyout",
       "prompt_number": 42,
       "text": [
        "1.0"
       ]
      }
     ],
     "prompt_number": 42
    },
    {
     "cell_type": "code",
     "collapsed": false,
     "input": [
      "def gone_baby_gone():\n",
      "    p_g = 0.6; p_h = 1-p_g\n",
      "    p_r_g_h = 0.01; p_nr_g_h = 1-p_r_g_h\n",
      "    p_r_g_g = 0.3; p_nr_g_g = 1-p_r_g_g\n",
      "    \n",
      "    p_h_a_r = p_r_a_h = p_r_g_h * p_h\n",
      "    p_g_a_r = p_r_a_g = p_r_g_g * p_g\n",
      "    \n",
      "    p_r = p_r_a_h + p_r_a_g; p_g = 1-p_r\n",
      "    p_h_g_r = p_h_a_r / p_r\n",
      "    p_g_g_r = p_g_a_r / p_r\n",
      "    \n",
      "    return p_h_g_r\n",
      "sebastian_at_home = gone_baby_gone()\n",
      "sebastian_at_home\n",
      "    "
     ],
     "language": "python",
     "metadata": {},
     "outputs": [
      {
       "metadata": {},
       "output_type": "pyout",
       "prompt_number": 45,
       "text": [
        "0.021739130434782608"
       ]
      }
     ],
     "prompt_number": 45
    },
    {
     "cell_type": "code",
     "collapsed": false,
     "input": [],
     "language": "python",
     "metadata": {},
     "outputs": []
    }
   ],
   "metadata": {}
  }
 ]
}