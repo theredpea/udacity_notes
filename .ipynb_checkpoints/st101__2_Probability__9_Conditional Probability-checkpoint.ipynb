{
 "metadata": {
  "name": "",
  "signature": "sha256:be0fe1bd17c1bdf8fa68f59a5173b6a23bff8240bf0817fbd0e573b66050bdba"
 },
 "nbformat": 3,
 "nbformat_minor": 0,
 "worksheets": [
  {
   "cells": [
    {
     "cell_type": "markdown",
     "metadata": {},
     "source": [
      "#In real life; things depend on other things"
     ]
    },
    {
     "cell_type": "markdown",
     "metadata": {},
     "source": [
      "Probability Smart / Dumb is 0.5 / 0.5"
     ]
    },
    {
     "cell_type": "markdown",
     "metadata": {},
     "source": [
      " - P_S = Professor at Stanford\n",
      " - P(P_S) = 0.001\n",
      " - P(P_S | S) = 0.002\n",
      " - P(P_S | D) = 0.000"
     ]
    },
    {
     "cell_type": "code",
     "collapsed": false,
     "input": [
      "def p_(h=None, t=None): \n",
      "    #if h is not None:\n",
      "    #    return 1-h\n",
      "    #elif t is not None:\n",
      "    #    return 1-t\n",
      "    #else:\n",
      "    #    return 1\n",
      "    \n",
      "    return 1-(h or t or 0)\n",
      "\n",
      "#Returns 1 by default; the totality\n",
      "assert p_()==1\n",
      "#Other standard probabilities\n",
      "assert p_(h=1)==0\n",
      "assert p_(h=0.5)==0.5\n",
      "assert p_(t=0.2)==0.8\n",
      "#Uses first nonzero arg\n",
      "assert p_(h=0,t=1)==0\n",
      "assert p_(h=0.2, t=0.5)==0.8\n",
      "\n"
     ],
     "language": "python",
     "metadata": {},
     "outputs": [],
     "prompt_number": 2
    },
    {
     "cell_type": "code",
     "collapsed": false,
     "input": [
      "def cancer_example_1(p_c=0.1):\n",
      "    \"\"\"\n",
      "    :returns: P(\u00acC) if P(C) is 0.1\n",
      "    Solution: https://www.udacity.com/course/viewer#!/c-st101/l-48729372/e-48729371/m-48673740\n",
      "    \"\"\"\n",
      "    return p_(p_c)"
     ],
     "language": "python",
     "metadata": {},
     "outputs": [],
     "prompt_number": 3
    },
    {
     "cell_type": "code",
     "collapsed": false,
     "input": [
      "assert cancer_example_1()==0.9, 'If 10% have cancer; 90% do not have cancer'"
     ],
     "language": "python",
     "metadata": {},
     "outputs": [],
     "prompt_number": 4
    },
    {
     "cell_type": "markdown",
     "metadata": {},
     "source": [
      "#Conditional Probability\n",
      "Probability A given that Z has happened\n",
      "##P(A|Z)\n",
      "## p_a_g_z\n",
      "If there are two events; A,B and X,Z , then \n",
      " - P(A|X) + P(A|Z) == P(A)\n",
      " - P(A|X) + P(B|X) == 1"
     ]
    },
    {
     "cell_type": "code",
     "collapsed": false,
     "input": [
      "p_c=0.1\n",
      "p_n_c = cancer_example_1(p_c)\n",
      "p_p_g_c = 0.9\n",
      "p_n_g_c = 0.1"
     ],
     "language": "python",
     "metadata": {},
     "outputs": [],
     "prompt_number": 6
    },
    {
     "cell_type": "code",
     "collapsed": false,
     "input": [
      "p_p_g_n_c = 0.2\n",
      "p_n_g_n_c = p_(p_p_g_n_c)\n",
      "\n",
      "def cancer_example_2(p_p_g_n_c=p_p_g_n_c):\n",
      "    \"\"\"\n",
      "    :returns: P(N|\u00acC) ; the specificity\n",
      "    \"\"\"\n",
      "    p_n_g_n_c = p_(p_p_g_n_c)\n",
      "    return p_n_g_n_c"
     ],
     "language": "python",
     "metadata": {},
     "outputs": [],
     "prompt_number": 8
    },
    {
     "cell_type": "code",
     "collapsed": false,
     "input": [
      "assert cancer_example_2()==0.8, 'P(Negative Given No Cancer) should be 0.8; (because P(Positive Given No Cancer) is 20%)'"
     ],
     "language": "python",
     "metadata": {},
     "outputs": [],
     "prompt_number": 10
    },
    {
     "cell_type": "code",
     "collapsed": false,
     "input": [],
     "language": "python",
     "metadata": {},
     "outputs": []
    }
   ],
   "metadata": {}
  }
 ]
}