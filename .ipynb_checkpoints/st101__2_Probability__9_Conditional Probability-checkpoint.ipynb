{
 "metadata": {
  "name": "",
  "signature": "sha256:87c7b56042b7521e15198c2adc6143db49431471cb4f79ffb49e77ef03b186f4"
 },
 "nbformat": 3,
 "nbformat_minor": 0,
 "worksheets": [
  {
   "cells": [
    {
     "cell_type": "markdown",
     "metadata": {},
     "source": [
      "#In real life; things depend on other things"
     ]
    },
    {
     "cell_type": "markdown",
     "metadata": {},
     "source": [
      "Probability Smart / Dumb is 0.5 / 0.5"
     ]
    },
    {
     "cell_type": "markdown",
     "metadata": {},
     "source": [
      " - P_S = Professor at Stanford\n",
      " - P(P_S) = 0.001\n",
      " - P(P_S | S) = 0.002\n",
      " - P(P_S | D) = 0.000"
     ]
    },
    {
     "cell_type": "code",
     "collapsed": false,
     "input": [
      "import pandas as pd\n",
      "import numpy as np\n",
      "import matplotlib.pyplot as plt\n",
      "import itertools\n",
      "%matplotlib inline\n",
      "\n",
      "def p_(h=None, t=None): \n",
      "    #if h is not None:\n",
      "    #    return 1-h\n",
      "    #elif t is not None:\n",
      "    #    return 1-t\n",
      "    #else:\n",
      "    #    return 1\n",
      "    \n",
      "    return 1-(h or t or 0)\n",
      "\n",
      "#Returns 1 by default; the totality\n",
      "assert p_()==1\n",
      "#Other standard probabilities\n",
      "assert p_(h=1)==0\n",
      "assert p_(h=0.5)==0.5\n",
      "assert p_(t=0.2)==0.8\n",
      "#Uses first nonzero arg\n",
      "assert p_(h=0,t=1)==0\n",
      "assert p_(h=0.2, t=0.5)==0.8\n",
      "\n"
     ],
     "language": "python",
     "metadata": {},
     "outputs": [],
     "prompt_number": 18
    },
    {
     "cell_type": "code",
     "collapsed": false,
     "input": [
      "def cancer_example_1(p_c=0.1):\n",
      "    \"\"\"\n",
      "    :returns: P(\u00acC) if P(C) is 0.1\n",
      "    Solution: https://www.udacity.com/course/viewer#!/c-st101/l-48729372/e-48729371/m-48673740\n",
      "    \"\"\"\n",
      "    return p_(p_c)"
     ],
     "language": "python",
     "metadata": {},
     "outputs": [],
     "prompt_number": 19
    },
    {
     "cell_type": "code",
     "collapsed": false,
     "input": [
      "assert cancer_example_1()==0.9, 'If 10% have cancer; 90% do not have cancer'"
     ],
     "language": "python",
     "metadata": {},
     "outputs": [],
     "prompt_number": 20
    },
    {
     "cell_type": "markdown",
     "metadata": {},
     "source": [
      "#Conditional Probability\n",
      "Probability A given that Z has happened\n",
      "##P(A|Z)\n",
      "## p_a_g_z\n",
      "If there are two events; A,B and X,Z , then \n",
      " - P(A|X) + P(A|Z) == P(A)\n",
      " - P(A|X) + P(B|X) == 1"
     ]
    },
    {
     "cell_type": "code",
     "collapsed": false,
     "input": [
      "p_c=0.1\n",
      "p_n_c = cancer_example_1(p_c)\n",
      "p_p_g_c = 0.9\n",
      "p_n_g_c = 0.1"
     ],
     "language": "python",
     "metadata": {},
     "outputs": [],
     "prompt_number": 21
    },
    {
     "cell_type": "code",
     "collapsed": false,
     "input": [
      "p_p_g_n_c = 0.2\n",
      "p_n_g_n_c = p_(p_p_g_n_c)\n",
      "\n",
      "def cancer_example_2(p_p_g_n_c=p_p_g_n_c):\n",
      "    \"\"\"\n",
      "    :returns: P(N|\u00acC) ; the specificity rate; true negatives\n",
      "    http://en.wikipedia.org/wiki/Sensitivity_and_specificity\n",
      "    Solution: https://www.udacity.com/course/viewer#!/c-st101/l-48729372/e-48723639/m-48691628\n",
      "    \"\"\"\n",
      "    p_n_g_n_c = p_(p_p_g_n_c)\n",
      "    return p_n_g_n_c"
     ],
     "language": "python",
     "metadata": {},
     "outputs": [],
     "prompt_number": 22
    },
    {
     "cell_type": "code",
     "collapsed": false,
     "input": [
      "assert cancer_example_2()==0.8, 'P(Negative Given No Cancer) should be 0.8; (because P(Positive Given No Cancer) is 0.2)'"
     ],
     "language": "python",
     "metadata": {},
     "outputs": [],
     "prompt_number": 23
    },
    {
     "cell_type": "code",
     "collapsed": false,
     "input": [
      "import functools\n",
      "def basic_prob_law_reduction(p_list):\n",
      "    \"\"\"\n",
      "    :returns: joint probability\n",
      "    of all events in a list happening\n",
      "    by applying 2nd law\n",
      "    http://stackoverflow.com/a/13840436/1175496\n",
      "    \"\"\"\n",
      "    assert all([_<=1 for _ in p_list]), 'Should be less than or equal to 1'\n",
      "    #assert sum(p_list)==1; they are different events, needn't sum to 1\n",
      "    return functools.reduce(operator.mul, p_list)\n"
     ],
     "language": "python",
     "metadata": {},
     "outputs": [],
     "prompt_number": 68
    },
    {
     "cell_type": "code",
     "collapsed": false,
     "input": [
      "def cancer_example_truth_table(p_c=0.1, p_p_g_c=0.9, p_n_g_n_c=0.8):\n",
      "    \"\"\"\n",
      "    :params p_c: P(C)\n",
      "    :params p_p_g_c: P(P|C), sensitivity\n",
      "    :params p_n_g_n_c: P(N|\u00acC), specificity\n",
      "    :returns: truth table of sequential events\n",
      "    that depend / influence each other (conditional probability)\n",
      "    \"\"\"\n",
      "    #Scenarios / Binaries\n",
      "    b_c = ('C','N')\n",
      "    b_t = ('P','N')\n",
      "    \n",
      "    #Conditional map\n",
      "    c_map = {'P|C':p_p_g_c,\n",
      "         'N|N':p_n_g_n_c,\n",
      "         'P|N':p_(p_p_g_c),\n",
      "         'N|C':p_(p_n_g_n_c) }\n",
      "    \n",
      "    #Test on the left side; given Cancer , on the right sight T|C\n",
      "    cols = 't|c'.split('|') #('t','c')\n",
      "    \n",
      "    #Start the truth table; \"C\" column is whether there is cancer \"T\" if test\n",
      "    t_t =  pd.DataFrame(list(itertools.product(b_t, b_c)), columns=cols)\n",
      "    \n",
      "    #Map them using the conditional probabilities; need 4 values in map (not just 2)\n",
      "    t_t['c_p'] = t_t[cols].apply('|'.join, axis=1).map(c_map)\n",
      "    \n",
      "    #The probability of cancer \n",
      "    t_t['p_c'] = t_t['c'].map({'C':p_c , 'N':p_(p_c)})\n",
      "    \n",
      "    #The joint probability\n",
      "    t_t['j_p'] = t_t[['c_p', 'p_c']].apply(basic_prob_law_reduction,axis=1)\n",
      "    \n",
      "    return t_t\n",
      "    "
     ],
     "language": "python",
     "metadata": {},
     "outputs": [],
     "prompt_number": 71
    },
    {
     "cell_type": "code",
     "collapsed": false,
     "input": [
      "cancer_example_truth_table()"
     ],
     "language": "python",
     "metadata": {},
     "outputs": [
      {
       "html": [
        "<div style=\"max-height:1000px;max-width:1500px;overflow:auto;\">\n",
        "<table border=\"1\" class=\"dataframe\">\n",
        "  <thead>\n",
        "    <tr style=\"text-align: right;\">\n",
        "      <th></th>\n",
        "      <th>t</th>\n",
        "      <th>c</th>\n",
        "      <th>c_p</th>\n",
        "      <th>p_c</th>\n",
        "      <th>j_p</th>\n",
        "    </tr>\n",
        "  </thead>\n",
        "  <tbody>\n",
        "    <tr>\n",
        "      <th>0</th>\n",
        "      <td> P</td>\n",
        "      <td> C</td>\n",
        "      <td> 0.9</td>\n",
        "      <td> 0.1</td>\n",
        "      <td> 0.09</td>\n",
        "    </tr>\n",
        "    <tr>\n",
        "      <th>1</th>\n",
        "      <td> P</td>\n",
        "      <td> N</td>\n",
        "      <td> 0.1</td>\n",
        "      <td> 0.9</td>\n",
        "      <td> 0.09</td>\n",
        "    </tr>\n",
        "    <tr>\n",
        "      <th>2</th>\n",
        "      <td> N</td>\n",
        "      <td> C</td>\n",
        "      <td> 0.2</td>\n",
        "      <td> 0.1</td>\n",
        "      <td> 0.02</td>\n",
        "    </tr>\n",
        "    <tr>\n",
        "      <th>3</th>\n",
        "      <td> N</td>\n",
        "      <td> N</td>\n",
        "      <td> 0.8</td>\n",
        "      <td> 0.9</td>\n",
        "      <td> 0.72</td>\n",
        "    </tr>\n",
        "  </tbody>\n",
        "</table>\n",
        "</div>"
       ],
       "metadata": {},
       "output_type": "pyout",
       "prompt_number": 72,
       "text": [
        "   t  c  c_p  p_c   j_p\n",
        "0  P  C  0.9  0.1  0.09\n",
        "1  P  N  0.1  0.9  0.09\n",
        "2  N  C  0.2  0.1  0.02\n",
        "3  N  N  0.8  0.9  0.72"
       ]
      }
     ],
     "prompt_number": 72
    },
    {
     "cell_type": "code",
     "collapsed": false,
     "input": [
      "def cancer_example_3(p_c=0.1, p_p_g_c=0.9, p_n_g_n_c=0.8):\n",
      "    \"\"\"\n",
      "    Solution: \n",
      "    https://www.udacity.com/course/viewer#!/c-st101/l-48729372/e-48678914/m-48739237\n",
      "    \"\"\"\n",
      "    t_t = cancer_example_truth_table()\n",
      "    t_t['c_p'] = ((t_t['c']=='C') * p_c) * ((t_t['t']=='P') * p_p_g_c)\n",
      "    return t_t.ix[0]['c_p']"
     ],
     "language": "python",
     "metadata": {},
     "outputs": [],
     "prompt_number": 35
    },
    {
     "cell_type": "code",
     "collapsed": false,
     "input": [
      "assert np.isclose(cancer_example_3(), 0.09), 'P(C) is 0.1; P(P|C) is 0.9. P(P,C) is 0.09'"
     ],
     "language": "python",
     "metadata": {},
     "outputs": [],
     "prompt_number": 36
    },
    {
     "cell_type": "code",
     "collapsed": false,
     "input": [
      "import operator\n"
     ],
     "language": "python",
     "metadata": {},
     "outputs": [],
     "prompt_number": 60
    },
    {
     "cell_type": "code",
     "collapsed": false,
     "input": [
      "operator.mul(1,2,3)"
     ],
     "language": "python",
     "metadata": {},
     "outputs": [
      {
       "ename": "TypeError",
       "evalue": "op_mul expected 2 arguments, got 3",
       "output_type": "pyerr",
       "traceback": [
        "\u001b[1;31m---------------------------------------------------------------------------\u001b[0m\n\u001b[1;31mTypeError\u001b[0m                                 Traceback (most recent call last)",
        "\u001b[1;32m<ipython-input-61-ebeb597380c9>\u001b[0m in \u001b[0;36m<module>\u001b[1;34m()\u001b[0m\n\u001b[1;32m----> 1\u001b[1;33m \u001b[0moperator\u001b[0m\u001b[1;33m.\u001b[0m\u001b[0mmul\u001b[0m\u001b[1;33m(\u001b[0m\u001b[1;36m1\u001b[0m\u001b[1;33m,\u001b[0m\u001b[1;36m2\u001b[0m\u001b[1;33m,\u001b[0m\u001b[1;36m3\u001b[0m\u001b[1;33m)\u001b[0m\u001b[1;33m\u001b[0m\u001b[0m\n\u001b[0m",
        "\u001b[1;31mTypeError\u001b[0m: op_mul expected 2 arguments, got 3"
       ]
      }
     ],
     "prompt_number": 61
    },
    {
     "cell_type": "code",
     "collapsed": false,
     "input": [],
     "language": "python",
     "metadata": {},
     "outputs": []
    }
   ],
   "metadata": {}
  }
 ]
}