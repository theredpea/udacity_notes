{
 "cells": [
  {
   "cell_type": "markdown",
   "metadata": {},
   "source": [
    "# Estimators"
   ]
  },
  {
   "cell_type": "markdown",
   "metadata": {},
   "source": [
    "## Maximum Likelihood Estimator\n",
    "## Laplacian Estimator\n",
    "\n",
    "Allows you to derive a probability from things such as coin flips"
   ]
  },
  {
   "cell_type": "markdown",
   "metadata": {},
   "source": [
    "> To fake or not to fake... the outcome will surprise you"
   ]
  },
  {
   "cell_type": "code",
   "execution_count": 4,
   "metadata": {
    "collapsed": true
   },
   "outputs": [],
   "source": [
    "import pandas as pd\n",
    "import numpy as np\n",
    "from __future__ import division"
   ]
  },
  {
   "cell_type": "code",
   "execution_count": 5,
   "metadata": {
    "collapsed": true
   },
   "outputs": [],
   "source": [
    "quiz_1_series = pd.Series([1, 0, 0, 1, 0 , 1])"
   ]
  },
  {
   "cell_type": "code",
   "execution_count": 11,
   "metadata": {
    "collapsed": false
   },
   "outputs": [
    {
     "data": {
      "text/plain": [
       "0.5"
      ]
     },
     "execution_count": 11,
     "metadata": {},
     "output_type": "execute_result"
    }
   ],
   "source": [
    "\n",
    "\n",
    "def quiz_probability_of_heads_1(heads_series=quiz_1_series):\n",
    "    return heads_series.sum()/len(heads_series)\n",
    "\n",
    "quiz_probability_of_heads_1()"
   ]
  },
  {
   "cell_type": "code",
   "execution_count": 12,
   "metadata": {
    "collapsed": false
   },
   "outputs": [],
   "source": [
    "assert quiz_probability_of_heads_1()==0.5, 'Heads 3 times, tails 3 times, it is a fair coin; should be 0.5 not {}'.format(quiz_probability_of_heads_1())"
   ]
  },
  {
   "cell_type": "code",
   "execution_count": 13,
   "metadata": {
    "collapsed": true
   },
   "outputs": [],
   "source": [
    "quiz_2_series = pd.Series([1,1,  0, 1, 1])"
   ]
  },
  {
   "cell_type": "code",
   "execution_count": 14,
   "metadata": {
    "collapsed": false
   },
   "outputs": [
    {
     "data": {
      "text/plain": [
       "0.8"
      ]
     },
     "execution_count": 14,
     "metadata": {},
     "output_type": "execute_result"
    }
   ],
   "source": [
    "def quiz_probability_of_heads_2():\n",
    "    return quiz_probability_of_heads_1(quiz_2_series)\n",
    "quiz_probability_of_heads_2()"
   ]
  },
  {
   "cell_type": "code",
   "execution_count": 18,
   "metadata": {
    "collapsed": true
   },
   "outputs": [],
   "source": [
    "assert quiz_probability_of_heads_2()==0.8, 'Heads 4 times out of 5 tosses;expected 0.8 not {}'.format(quiz_probability_of_heads_2())"
   ]
  },
  {
   "cell_type": "markdown",
   "metadata": {},
   "source": [
    "## Empirical\n",
    " > Empirical means the same as observations\n",
    " > We observed 4 heads out of 5 tosses; 4/5 = 0.8"
   ]
  },
  {
   "cell_type": "code",
   "execution_count": 15,
   "metadata": {
    "collapsed": true
   },
   "outputs": [],
   "source": [
    "quiz_3_series = pd.Series(np.zeros(7))"
   ]
  },
  {
   "cell_type": "code",
   "execution_count": 16,
   "metadata": {
    "collapsed": false
   },
   "outputs": [
    {
     "data": {
      "text/plain": [
       "0.0"
      ]
     },
     "execution_count": 16,
     "metadata": {},
     "output_type": "execute_result"
    }
   ],
   "source": [
    "def quiz_probability_of_heads_3():\n",
    "    return quiz_probability_of_heads_1(quiz_3_series)\n",
    "quiz_probability_of_heads_3()"
   ]
  },
  {
   "cell_type": "code",
   "execution_count": 19,
   "metadata": {
    "collapsed": true
   },
   "outputs": [],
   "source": [
    "assert quiz_probability_of_heads_3()==0, 'Never heads; expected prob of heads to be 0, not {}'.format(quiz_probability_of_heads_3())"
   ]
  },
  {
   "cell_type": "code",
   "execution_count": 22,
   "metadata": {
    "collapsed": false
   },
   "outputs": [],
   "source": [
    "def quiz_identify_estimator():\n",
    "    \"\"\"\n",
    "    Because I use pandas, I stated the formula\n",
    "    In a way consistent with the answer here:\n",
    "    \n",
    "        How can I answer this quiz question with a Python function\n",
    "        \n",
    "        I'll just return the Mathjax to represent the calculation I did:\n",
    "            return heads_series.sum()/len(heads_series)\n",
    "            \n",
    "        And the Mathjax will match one of Sebastian's choices\n",
    "    \"\"\"\n",
    "    return '\\sum_{i=0}^N X_i'"
   ]
  },
  {
   "cell_type": "markdown",
   "metadata": {},
   "source": [
    "# Mathjax Basics\n",
    "[Quick reference](https://math.meta.stackexchange.com/questions/5020/mathjax-basic-tutorial-and-quick-reference)\n",
    "\n",
    "$$\\sum_{i=0}^n i^2 = \\frac{(n^2+n)(2n+1)}{6}$$"
   ]
  },
  {
   "cell_type": "markdown",
   "metadata": {},
   "source": [
    "## Data:\n",
    "\n",
    "$$X_1,X_2,... X_N$$\n"
   ]
  },
  {
   "cell_type": "markdown",
   "metadata": {},
   "source": [
    "# A\n",
    "$$\\sum_{i=0}^N X_i$$"
   ]
  },
  {
   "cell_type": "markdown",
   "metadata": {},
   "source": [
    "# B\n",
    "$$\\frac{1}{N}\\sum_{i=0}^N X_i$$"
   ]
  },
  {
   "cell_type": "markdown",
   "metadata": {},
   "source": [
    "# C\n",
    "$$\\prod_{i=0}^N X_i$$"
   ]
  },
  {
   "cell_type": "markdown",
   "metadata": {},
   "source": [
    "# D\n",
    "$$\\frac{1}{N}\\prod_{i=0}^N X_i$$"
   ]
  },
  {
   "cell_type": "markdown",
   "metadata": {},
   "source": [
    "The reason we could use a `pd.Series(...).sum()` (i.e. use a  $\\sum_{i=0}^N$ ...) is because the values in the array are:\n",
    "  - 1 for true\n",
    "  - 0 for false\n",
    "  \n",
    "  \n",
    "If the array is `pd.Series(['H','H', 'T', 'H'])`, then .sum() won't work... yet:\n",
    " So convert that series into its \"boolean\" equivalent:\n",
    " \n",
    "  - For heads: `pd.Series([1,1,0,1])`\n",
    "  - For tails: `pd.Series([0,0,1,0])`\n",
    " \n",
    " \n",
    "These \"boolean\" arrays sum as you would expect..."
   ]
  },
  {
   "cell_type": "markdown",
   "metadata": {},
   "source": [
    "# Normalization\n",
    "\n",
    "Dividing by the number of observations is called \"normalizing\"; it means the number now represents a fraction of the `N` observations\n",
    "\n",
    "# Maximum Likelihood Estimator\n",
    "\n",
    "$$\\frac{1}{N}\\sum_{i=0}^N X_i$$\n",
    "\n",
    " > Keep this formula in mind; it is a really good way to guess an underlying probability that might've produced any given dataset. Let's generalize to >2 outcomes..."
   ]
  },
  {
   "cell_type": "code",
   "execution_count": 23,
   "metadata": {
    "collapsed": true
   },
   "outputs": [],
   "source": [
    "dice_prob_1_series = pd.Series([1,6,6,3,2,6,5,4,6,2])"
   ]
  },
  {
   "cell_type": "code",
   "execution_count": 37,
   "metadata": {
    "collapsed": false
   },
   "outputs": [
    {
     "data": {
      "text/plain": [
       "1    0.1\n",
       "2    0.2\n",
       "3    0.1\n",
       "4    0.1\n",
       "5    0.1\n",
       "6    0.4\n",
       "dtype: float64"
      ]
     },
     "execution_count": 37,
     "metadata": {},
     "output_type": "execute_result"
    }
   ],
   "source": [
    "def quiz_dice_probabilities_1(dice_series =dice_prob_1_series):\n",
    "    \"\"\"\n",
    "    Returns the Maximum Likelihood Estimator which we just discussed\n",
    "    Except for an item with multiple outcomes\n",
    "    MLE\n",
    "    \"\"\"\n",
    "    dice_value_counts = dice_series.value_counts()\n",
    "    dice_value_counts.sort_index(inplace=True)\n",
    "    return dice_value_counts / len(dice_series)\n",
    "\n",
    "quiz_dice_probabilities_1()"
   ]
  },
  {
   "cell_type": "code",
   "execution_count": 36,
   "metadata": {
    "collapsed": true
   },
   "outputs": [],
   "source": [
    "assert np.allclose(quiz_dice_probabilities_1(), pd.Series({1: 0.1, 2: 0.2, 3: 0.1, 4: 0.1, 5:0.1, 6:0.4})), 'Expected dice probabilities of 0.1, 0.2, 0.1, 0.1, 0.1, 0.4 for 1-6 respectively, but you predicted {}'.format(quiz_dice_probabilities_1())"
   ]
  },
  {
   "cell_type": "code",
   "execution_count": 40,
   "metadata": {
    "collapsed": false
   },
   "outputs": [
    {
     "data": {
      "text/plain": [
       "1.0"
      ]
     },
     "execution_count": 40,
     "metadata": {},
     "output_type": "execute_result"
    }
   ],
   "source": [
    "def quiz_dice_probabilities_2(dice_series =dice_prob_1_series):\n",
    "    return quiz_dice_probabilities_1(dice_series).sum()\n",
    "\n",
    "quiz_dice_probabilities_2()"
   ]
  },
  {
   "cell_type": "code",
   "execution_count": 41,
   "metadata": {
    "collapsed": true
   },
   "outputs": [],
   "source": [
    "assert quiz_dice_probabilities_2() ==1, 'Sum of probabilities should be 1, but you had {}'.format(quiz_dice_probabilities_2())"
   ]
  },
  {
   "cell_type": "markdown",
   "metadata": {},
   "source": [
    "# Estimation Problem:\n",
    "\n",
    " 1. `Data` -> `Inferred Probability`\n",
    " 2. then use `Inferred Probability` -> `P(Data)` \n",
    " \n",
    "i.e. estimate the likelihood of some new event\n",
    "    "
   ]
  },
  {
   "cell_type": "code",
   "execution_count": 46,
   "metadata": {
    "collapsed": false
   },
   "outputs": [
    {
     "data": {
      "text/plain": [
       "0.125"
      ]
     },
     "execution_count": 46,
     "metadata": {},
     "output_type": "execute_result"
    }
   ],
   "source": [
    "likelihood_1_series = pd.Series([1,0,1])\n",
    "\n",
    "def quiz_likelihood_1(likelihood_series=likelihood_1_series, prob={0: 0.5, 1: 0.5}):\n",
    "    \n",
    "    return likelihood_series.map(prob).prod()\n",
    "\n",
    "quiz_likelihood_1()"
   ]
  },
  {
   "cell_type": "code",
   "execution_count": 45,
   "metadata": {
    "collapsed": true
   },
   "outputs": [],
   "source": [
    "assert quiz_likelihood_1()==0.125, 'Given that we know the probability is 0.5; i.e. a fair coin; the likelihood of 1, 0, 1 (half, half, half; = one eighth) should be 0.125, but you guessed {}'.format(quiz_likelihood_1())"
   ]
  },
  {
   "cell_type": "code",
   "execution_count": 51,
   "metadata": {
    "collapsed": false
   },
   "outputs": [
    {
     "data": {
      "text/plain": [
       "0.07407407407407407"
      ]
     },
     "execution_count": 51,
     "metadata": {},
     "output_type": "execute_result"
    }
   ],
   "source": [
    "\n",
    "def quiz_likelihood_2():\n",
    "    \"\"\"\n",
    "    Sebastian says:\n",
    "    > Lets now change `P`, to be one third\n",
    "    Nate says: To clarify, `P` represents `P(Heads)`, \n",
    "    Which is equivalent to a `1` in the boolean index;\n",
    "    While `P(Tails)` equivalent to a 0 in the boolean index\n",
    "    \n",
    "    In the previous example, the coin was fair, and P(Heads)=P(Tails)=0.5\n",
    "    Because both had the same value, the ambiguity when we just called it \"the probability\", \n",
    "    didn't cause us issues\n",
    "    \"\"\"\n",
    "    return quiz_likelihood_1(prob= {1: 1/3, 0: 2/3})\n",
    "\n",
    "quiz_likelihood_2()"
   ]
  },
  {
   "cell_type": "code",
   "execution_count": 52,
   "metadata": {
    "collapsed": true
   },
   "outputs": [],
   "source": [
    "assert np.isclose(quiz_likelihood_2(),0.07407407), 'Given that we know the probability *of heads* is 0.333; the likelihood of 1, 0, 1  ios only 0.07407 ( about half as  likely as for a fair coin!) , but you guessed {}'.format(quiz_likelihood_2())"
   ]
  },
  {
   "cell_type": "code",
   "execution_count": 53,
   "metadata": {
    "collapsed": false
   },
   "outputs": [
    {
     "data": {
      "text/plain": [
       "0.14814814814814814"
      ]
     },
     "execution_count": 53,
     "metadata": {},
     "output_type": "execute_result"
    }
   ],
   "source": [
    "\n",
    "def quiz_likelihood_3():\n",
    "    return quiz_likelihood_1(prob= {1: 2/3, 0: 1/3})\n",
    "quiz_likelihood_3()"
   ]
  },
  {
   "cell_type": "code",
   "execution_count": 55,
   "metadata": {
    "collapsed": false
   },
   "outputs": [],
   "source": [
    "assert np.isclose(quiz_likelihood_3(),0.148148), 'Given that we know the probability *of heads* is 0.666; \\\n",
    "the likelihood of 1, 0, 1  is only 0.148 (more likely than a fair coin... in fact, could this be the *most* \\\n",
    "likely this outcome ever becomes, since the outcome exactly matches the probability , but you guessed {}'.format(quiz_likelihood_3())"
   ]
  },
  {
   "cell_type": "code",
   "execution_count": 56,
   "metadata": {
    "collapsed": false
   },
   "outputs": [
    {
     "data": {
      "text/plain": [
       "0.14700000000000002"
      ]
     },
     "execution_count": 56,
     "metadata": {},
     "output_type": "execute_result"
    }
   ],
   "source": [
    "\n",
    "quiz_likelihood_1(prob= {1: 2.1/3, 0: 0.9/3})"
   ]
  },
  {
   "cell_type": "code",
   "execution_count": 58,
   "metadata": {
    "collapsed": false
   },
   "outputs": [
    {
     "data": {
      "text/plain": [
       "0.14814814814814814"
      ]
     },
     "execution_count": 58,
     "metadata": {},
     "output_type": "execute_result"
    }
   ],
   "source": [
    "quiz_likelihood_1(prob= {1: 2/3, 0: 1/3})"
   ]
  },
  {
   "cell_type": "code",
   "execution_count": 57,
   "metadata": {
    "collapsed": false
   },
   "outputs": [
    {
     "data": {
      "text/plain": [
       "0.14707407407407405"
      ]
     },
     "execution_count": 57,
     "metadata": {},
     "output_type": "execute_result"
    }
   ],
   "source": [
    "quiz_likelihood_1(prob= {1: 1.9/3, 0: 1.1/3})"
   ]
  },
  {
   "cell_type": "code",
   "execution_count": 59,
   "metadata": {
    "collapsed": true
   },
   "outputs": [],
   "source": [
    "#Yes indeed, it looks like the likelihood of this event \"peaks\" when the Probability of heads is 2/3,\n",
    "#This is intuitive because it is the probability of heads we would *guess*, given these results; i.e. the estimator?"
   ]
  },
  {
   "cell_type": "code",
   "execution_count": null,
   "metadata": {
    "collapsed": true
   },
   "outputs": [],
   "source": []
  }
 ],
 "metadata": {
  "kernelspec": {
   "display_name": "Python 3",
   "language": "python",
   "name": "python3"
  },
  "language_info": {
   "codemirror_mode": {
    "name": "ipython",
    "version": 3
   },
   "file_extension": ".py",
   "mimetype": "text/x-python",
   "name": "python",
   "nbconvert_exporter": "python",
   "pygments_lexer": "ipython3",
   "version": "3.6.0"
  }
 },
 "nbformat": 4,
 "nbformat_minor": 2
}
