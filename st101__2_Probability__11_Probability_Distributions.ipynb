{
 "cells": [
  {
   "cell_type": "code",
   "execution_count": 1,
   "metadata": {
    "collapsed": true
   },
   "outputs": [],
   "source": [
    "import itertools\n",
    "import pandas as pd\n",
    "import numpy as np\n",
    "import matplotlib.pyplot as plt\n",
    "import functools\n",
    "\n",
    "%matplotlib inline"
   ]
  },
  {
   "cell_type": "markdown",
   "metadata": {},
   "source": [
    "\n",
    "# Probability Distributions\n",
    "\n",
    "## Continuous (Probability) Distributions\n",
    "\n",
    " - Nerf gun\n",
    " - we know it will land *somewhere* between 5ft and 8 ft\n",
    " - whats the probability it will land at exactly 5.2456ft ?"
   ]
  },
  {
   "cell_type": "code",
   "execution_count": 2,
   "metadata": {
    "collapsed": false
   },
   "outputs": [
    {
     "data": {
      "text/plain": [
       "array([ 0.58578311,  0.53500423,  0.61787088,  0.50652861,  0.86689918,\n",
       "        0.93610072,  0.21372244,  0.41382984,  0.16407446,  0.13222845])"
      ]
     },
     "execution_count": 2,
     "metadata": {},
     "output_type": "execute_result"
    }
   ],
   "source": [
    "np.random.rand(10)"
   ]
  },
  {
   "cell_type": "code",
   "execution_count": 3,
   "metadata": {
    "collapsed": false
   },
   "outputs": [
    {
     "name": "stdout",
     "output_type": "stream",
     "text": [
      "[ 0.77390129  0.75344713  0.90215903  0.6224875   0.44710458]\n"
     ]
    }
   ],
   "source": [
    "#I later realized that the specificity of my pick ... matters\n",
    "#Only because the specificity of the np.random.rand array, is fixed to... 8 decimal places\n",
    "print(np.random.rand(5))\n",
    "my_pick = 5.27456"
   ]
  },
  {
   "cell_type": "code",
   "execution_count": 4,
   "metadata": {
    "collapsed": false
   },
   "outputs": [
    {
     "name": "stdout",
     "output_type": "stream",
     "text": [
      "8\n"
     ]
    }
   ],
   "source": [
    "print(len('0.31959022')-2)"
   ]
  },
  {
   "cell_type": "code",
   "execution_count": 5,
   "metadata": {
    "collapsed": false
   },
   "outputs": [
    {
     "data": {
      "text/plain": [
       "0"
      ]
     },
     "execution_count": 5,
     "metadata": {},
     "output_type": "execute_result"
    }
   ],
   "source": [
    "((np.random.rand(1000000) *3) + 5 == my_pick).sum()\n",
    "#Zero"
   ]
  },
  {
   "cell_type": "code",
   "execution_count": 6,
   "metadata": {
    "collapsed": true
   },
   "outputs": [],
   "source": [
    "def uniform_between(a,b,samples=10000, close_to=my_pick):\n",
    "    return np.isclose(np.random.rand(samples) * (b-a) + a, my_pick).sum()"
   ]
  },
  {
   "cell_type": "code",
   "execution_count": 7,
   "metadata": {
    "collapsed": false,
    "scrolled": true
   },
   "outputs": [
    {
     "data": {
      "text/plain": [
       "0"
      ]
     },
     "execution_count": 7,
     "metadata": {},
     "output_type": "execute_result"
    }
   ],
   "source": [
    "#one thousand times\n",
    "uniform_between(5,8, 1000)"
   ]
  },
  {
   "cell_type": "code",
   "execution_count": 8,
   "metadata": {
    "collapsed": false
   },
   "outputs": [
    {
     "data": {
      "text/plain": [
       "0"
      ]
     },
     "execution_count": 8,
     "metadata": {},
     "output_type": "execute_result"
    }
   ],
   "source": [
    "#ten thousand times\n",
    "uniform_between(5,8, 10000)"
   ]
  },
  {
   "cell_type": "code",
   "execution_count": 9,
   "metadata": {
    "collapsed": false
   },
   "outputs": [
    {
     "data": {
      "text/plain": [
       "3"
      ]
     },
     "execution_count": 9,
     "metadata": {},
     "output_type": "execute_result"
    }
   ],
   "source": [
    "#one hundred thousand times\n",
    "uniform_between(5,8, 100000)"
   ]
  },
  {
   "cell_type": "code",
   "execution_count": 10,
   "metadata": {
    "collapsed": false
   },
   "outputs": [],
   "source": [
    "assert uniform_between(5,8, samples=10000)==0, 'Any overly specific value cant be assigned a probability, unless you tried *a lot*'"
   ]
  },
  {
   "cell_type": "code",
   "execution_count": 11,
   "metadata": {
    "collapsed": true
   },
   "outputs": [],
   "source": [
    "#He hasnt changed the question, just the parameters to the question\n",
    "#https://classroom.udacity.com/courses/st101/lessons/48748100/concepts/483118880923\n",
    "assert uniform_between(0,360, samples=10000, close_to=180)==0, 'Any overly specific value cant be assigned a probability, unless you tried *a lot*'"
   ]
  },
  {
   "cell_type": "code",
   "execution_count": 12,
   "metadata": {
    "collapsed": true
   },
   "outputs": [],
   "source": [
    "def stops_nowhere(a,b,samples=10000):\n",
    "    return np.isnan(np.random.rand(samples) * (b-a) + a).sum()"
   ]
  },
  {
   "cell_type": "code",
   "execution_count": 13,
   "metadata": {
    "collapsed": false
   },
   "outputs": [],
   "source": [
    "assert stops_nowhere(0,360)==0, 'They all start and stop somewhere; so we expect 0 to sastify isnan ; note this might print different results than measured against because results are randomly generated with each call'"
   ]
  },
  {
   "cell_type": "markdown",
   "metadata": {},
   "source": [
    "# In continuous distributions...\n",
    "## Every outcome has probability 0"
   ]
  },
  {
   "cell_type": "code",
   "execution_count": 40,
   "metadata": {
    "collapsed": false
   },
   "outputs": [],
   "source": [
    "def get_uniform_samples(a,b,samples=10000):\n",
    "    return np.random.rand(samples) * (b-a) + a\n",
    "\n",
    "def uniform_between_range(a,b,samples=10000,  filter_lambda=lambda x:x):\n",
    "    return np.array(list(map(filter_lambda, get_uniform_samples(a,b,samples)))).sum()"
   ]
  },
  {
   "cell_type": "code",
   "execution_count": 41,
   "metadata": {
    "collapsed": false
   },
   "outputs": [
    {
     "name": "stdout",
     "output_type": "stream",
     "text": [
      "[ 197.82543845  108.39391085   46.00783562   67.90770806  221.81489264\n",
      "  221.74203964  210.84091599  194.65668389  265.10807761  354.58781915\n",
      "  106.55613749  337.33650455    2.64056092  267.31990313  349.3332606\n",
      "   34.08752197  264.80933793  213.48506824  286.3573089    82.9407757 ]\n"
     ]
    },
    {
     "data": {
      "text/plain": [
       "[0.50309999999999999,\n",
       " 0.50319999999999998,\n",
       " 0.50260000000000005,\n",
       " 0.49540000000000001,\n",
       " 0.50309999999999999,\n",
       " 0.50080000000000002,\n",
       " 0.50190000000000001,\n",
       " 0.50009999999999999,\n",
       " 0.50680000000000003,\n",
       " 0.49790000000000001,\n",
       " 0.50780000000000003,\n",
       " 0.50439999999999996,\n",
       " 0.49559999999999998,\n",
       " 0.49740000000000001,\n",
       " 0.50409999999999999,\n",
       " 0.50109999999999999,\n",
       " 0.49630000000000002,\n",
       " 0.50039999999999996,\n",
       " 0.50049999999999994,\n",
       " 0.50049999999999994,\n",
       " 0.49569999999999997,\n",
       " 0.50409999999999999,\n",
       " 0.49769999999999998,\n",
       " 0.50590000000000002,\n",
       " 0.4985,\n",
       " 0.49149999999999999,\n",
       " 0.49680000000000002,\n",
       " 0.50129999999999997,\n",
       " 0.51070000000000004,\n",
       " 0.50009999999999999]"
      ]
     },
     "execution_count": 41,
     "metadata": {},
     "output_type": "execute_result"
    },
    {
     "data": {
      "image/png": "[encoded data removed]",
      "text/plain": [
       "<matplotlib.figure.Figure at 0x25152655828>"
      ]
     },
     "metadata": {},
     "output_type": "display_data"
    }
   ],
   "source": [
    "a=0\n",
    "b=360\n",
    "samples=10000\n",
    "core_dist =(np.random.rand(samples) * (b-a) + a)\n",
    "\n",
    "print( core_dist[:20])\n",
    "core_dist_series = pd.Series(core_dist)\n",
    "core_dist_series.plot(kind='hist')\n",
    "filter_lambda = lambda x:0<x and x<=180\n",
    "\n",
    "[uniform_between_range(a,b,samples,filter_lambda)/samples for _ in range(30) ]"
   ]
  },
  {
   "cell_type": "code",
   "execution_count": 132,
   "metadata": {
    "collapsed": false
   },
   "outputs": [
    {
     "data": {
      "text/plain": [
       "<matplotlib.axes._subplots.AxesSubplot at 0x251013d87f0>"
      ]
     },
     "execution_count": 132,
     "metadata": {},
     "output_type": "execute_result"
    },
    {
     "data": {
      "image/png": "[encoded data removed]",
      "text/plain": [
       "<matplotlib.figure.Figure at 0x25101435c88>"
      ]
     },
     "metadata": {},
     "output_type": "display_data"
    }
   ],
   "source": [
    "sample_prob_series = pd.Series([uniform_between_range(a,b,samples,filter_lambda)/samples for _ in range(30) ])\n",
    "sample_prob_series.plot(xlim=(-10,30),ylim=(0,1))"
   ]
  },
  {
   "cell_type": "code",
   "execution_count": 17,
   "metadata": {
    "collapsed": false
   },
   "outputs": [
    {
     "data": {
      "text/plain": [
       "[0.049896999999999997,\n",
       " 0.049827999999999997,\n",
       " 0.050318000000000002,\n",
       " 0.049896000000000003,\n",
       " 0.050069000000000002,\n",
       " 0.050040000000000001,\n",
       " 0.049997,\n",
       " 0.049999000000000002,\n",
       " 0.050167000000000003,\n",
       " 0.049850999999999999]"
      ]
     },
     "execution_count": 17,
     "metadata": {},
     "output_type": "execute_result"
    }
   ],
   "source": [
    "\n",
    "[uniform_between_range(a,b,100000,filter_lambda)/1e6 for _ in range(10) ]\n",
    "#----------------------------v\n",
    "#[uniform_between_range(a,b,1e6,filter_lambda)/1e6 for _ in range(10) ]\n",
    "#oops VisibleDeprecationWarning: using a non-integer number instead of an integer will result in an error in the future\n",
    "# https://github.com/numpy/numpy/pull/2891"
   ]
  },
  {
   "cell_type": "code",
   "execution_count": 18,
   "metadata": {
    "collapsed": false
   },
   "outputs": [
    {
     "data": {
      "text/plain": [
       "[0.0082620000000000002,\n",
       " 0.0084399999999999996,\n",
       " 0.0083510000000000008,\n",
       " 0.0083070000000000001,\n",
       " 0.0084049999999999993,\n",
       " 0.0083180000000000007,\n",
       " 0.0083979999999999992,\n",
       " 0.0082959999999999996,\n",
       " 0.0083490000000000005,\n",
       " 0.0082740000000000001]"
      ]
     },
     "execution_count": 18,
     "metadata": {},
     "output_type": "execute_result"
    }
   ],
   "source": [
    "\n",
    "[uniform_between_range(a,b,100000,lambda x: 260<x<=290)/1e6 for _ in range(10) ]"
   ]
  },
  {
   "cell_type": "code",
   "execution_count": 19,
   "metadata": {
    "collapsed": false
   },
   "outputs": [
    {
     "data": {
      "text/plain": [
       "[0.00027300000000000002,\n",
       " 0.00025999999999999998,\n",
       " 0.00029999999999999997,\n",
       " 0.00029599999999999998,\n",
       " 0.00025500000000000002,\n",
       " 0.00027999999999999998,\n",
       " 0.00030299999999999999,\n",
       " 0.00028699999999999998,\n",
       " 0.000272,\n",
       " 0.00029700000000000001]"
      ]
     },
     "execution_count": 19,
     "metadata": {},
     "output_type": "execute_result"
    }
   ],
   "source": [
    "\n",
    "[uniform_between_range(a,b,100000,lambda x: 179<x<=180)/1e6 for _ in range(10) ]"
   ]
  },
  {
   "cell_type": "code",
   "execution_count": 20,
   "metadata": {
    "collapsed": false
   },
   "outputs": [
    {
     "data": {
      "text/plain": [
       "0.00027730000000000002"
      ]
     },
     "execution_count": 20,
     "metadata": {},
     "output_type": "execute_result"
    }
   ],
   "source": [
    "np.mean([uniform_between_range(a,b,100000,lambda x: 179<x<=180)/1e6 for _ in range(10) ])"
   ]
  },
  {
   "cell_type": "code",
   "execution_count": 21,
   "metadata": {
    "collapsed": false
   },
   "outputs": [
    {
     "name": "stdout",
     "output_type": "stream",
     "text": [
      "-0.002777777777777778\n"
     ]
    }
   ],
   "source": [
    "#An inexact number is wrong answer;\n",
    "#Must use precise math to reach exact number:\n",
    "range_probability_3 = (179-180) / 360\n",
    "print(range_probability_3)"
   ]
  },
  {
   "cell_type": "code",
   "execution_count": 22,
   "metadata": {
    "collapsed": false
   },
   "outputs": [
    {
     "data": {
      "text/plain": [
       "0.016666666666666666"
      ]
     },
     "execution_count": 22,
     "metadata": {},
     "output_type": "execute_result"
    }
   ],
   "source": [
    "1/60."
   ]
  },
  {
   "cell_type": "code",
   "execution_count": 43,
   "metadata": {
    "collapsed": false
   },
   "outputs": [
    {
     "data": {
      "text/plain": [
       "<matplotlib.axes._subplots.AxesSubplot at 0x251564b8710>"
      ]
     },
     "execution_count": 43,
     "metadata": {},
     "output_type": "execute_result"
    },
    {
     "data": {
      "image/png": "[encoded data removed]",
      "text/plain": [
       "<matplotlib.figure.Figure at 0x2515640fcf8>"
      ]
     },
     "metadata": {},
     "output_type": "display_data"
    }
   ],
   "source": [
    "pd.Series(get_uniform_samples(a=0,b=60)).plot(kind='hist')"
   ]
  },
  {
   "cell_type": "code",
   "execution_count": 37,
   "metadata": {
    "collapsed": true
   },
   "outputs": [],
   "source": [
    "from scipy import stats\n"
   ]
  },
  {
   "cell_type": "code",
   "execution_count": 45,
   "metadata": {
    "collapsed": false
   },
   "outputs": [],
   "source": [
    "kde_func=stats.gaussian_kde(pd.Series(get_uniform_samples(a=0,b=60)))"
   ]
  },
  {
   "cell_type": "code",
   "execution_count": 46,
   "metadata": {
    "collapsed": false
   },
   "outputs": [
    {
     "data": {
      "text/plain": [
       "array([ 0.01648613])"
      ]
     },
     "execution_count": 46,
     "metadata": {},
     "output_type": "execute_result"
    }
   ],
   "source": [
    "kde_func(20)"
   ]
  },
  {
   "cell_type": "code",
   "execution_count": 47,
   "metadata": {
    "collapsed": false
   },
   "outputs": [
    {
     "data": {
      "text/plain": [
       "array([ 0.01683605])"
      ]
     },
     "execution_count": 47,
     "metadata": {},
     "output_type": "execute_result"
    }
   ],
   "source": [
    "kde_func(30)\n"
   ]
  },
  {
   "cell_type": "code",
   "execution_count": 49,
   "metadata": {
    "collapsed": false
   },
   "outputs": [
    {
     "data": {
      "text/plain": [
       "array([ 0.00827449,  0.01069953,  0.01284795,  0.01450533,  0.01560614,\n",
       "        0.01621752,  0.01647704,  0.01653021,  0.01649432,  0.01644705,\n",
       "        0.01642689,  0.01643923,  0.01646848,  0.01649423,  0.01650478,\n",
       "        0.01650179,  0.01649544,  0.01649512,  0.01650141,  0.01650374,\n",
       "        0.01648613,  0.01644014,  0.01637816,  0.01633489,  0.01634955,\n",
       "        0.01643765,  0.01657555,  0.01671357,  0.01680791,  0.01684426,\n",
       "        0.01683605,  0.01680571,  0.01676976,  0.01673729,  0.01671488,\n",
       "        0.01670776,  0.01671614,  0.01673301,  0.01674756,  0.01675141,\n",
       "        0.01674294,  0.01672751,  0.01671506,  0.01671598,  0.01673546,\n",
       "        0.01676906,  0.01680438,  0.01683023,  0.01684676,  0.01686703,\n",
       "        0.01690679,  0.01696796,  0.0170251 ,  0.0170208 ,  0.01686936,\n",
       "        0.01646449,  0.01569128,  0.01445117,  0.01270626,  0.01052882])"
      ]
     },
     "execution_count": 49,
     "metadata": {},
     "output_type": "execute_result"
    }
   ],
   "source": [
    "kde_func(range(0,60))"
   ]
  },
  {
   "cell_type": "code",
   "execution_count": 52,
   "metadata": {
    "collapsed": false
   },
   "outputs": [
    {
     "data": {
      "text/plain": [
       "0.016070075886410788"
      ]
     },
     "execution_count": 52,
     "metadata": {},
     "output_type": "execute_result"
    }
   ],
   "source": [
    "np.mean(kde_func(range(0,60)))"
   ]
  },
  {
   "cell_type": "code",
   "execution_count": 53,
   "metadata": {
    "collapsed": true
   },
   "outputs": [],
   "source": [
    "#almost equal tol 0.016666...."
   ]
  },
  {
   "cell_type": "code",
   "execution_count": 82,
   "metadata": {
    "collapsed": true
   },
   "outputs": [],
   "source": [
    "xs = np.linspace(0,8,200)"
   ]
  },
  {
   "cell_type": "code",
   "execution_count": 56,
   "metadata": {
    "collapsed": false
   },
   "outputs": [
    {
     "data": {
      "text/plain": [
       "0.04"
      ]
     },
     "execution_count": 56,
     "metadata": {},
     "output_type": "execute_result"
    }
   ],
   "source": [
    "8/200."
   ]
  },
  {
   "cell_type": "code",
   "execution_count": 58,
   "metadata": {
    "collapsed": false
   },
   "outputs": [
    {
     "data": {
      "text/plain": [
       "0.040201005025125629"
      ]
     },
     "execution_count": 58,
     "metadata": {},
     "output_type": "execute_result"
    }
   ],
   "source": [
    "xs[1]"
   ]
  },
  {
   "cell_type": "code",
   "execution_count": 60,
   "metadata": {
    "collapsed": false
   },
   "outputs": [
    {
     "data": {
      "text/plain": [
       "(0.040201005025125629, 0.040201005025125629)"
      ]
     },
     "execution_count": 60,
     "metadata": {},
     "output_type": "execute_result"
    }
   ],
   "source": [
    "xs[1]-xs[0], xs[2]-xs[1]"
   ]
  },
  {
   "cell_type": "code",
   "execution_count": 71,
   "metadata": {
    "collapsed": false
   },
   "outputs": [
    {
     "data": {
      "text/plain": [
       "array([-0.04020101, -0.04020101, -0.04020101, -0.04020101, -0.04020101,\n",
       "       -0.04020101, -0.04020101, -0.04020101, -0.04020101, -0.04020101,\n",
       "       -0.04020101, -0.04020101, -0.04020101, -0.04020101, -0.04020101,\n",
       "       -0.04020101, -0.04020101, -0.04020101, -0.04020101, -0.04020101,\n",
       "       -0.04020101, -0.04020101, -0.04020101, -0.04020101, -0.04020101,\n",
       "       -0.04020101, -0.04020101, -0.04020101, -0.04020101, -0.04020101,\n",
       "       -0.04020101, -0.04020101, -0.04020101, -0.04020101, -0.04020101,\n",
       "       -0.04020101, -0.04020101, -0.04020101, -0.04020101, -0.04020101,\n",
       "       -0.04020101, -0.04020101, -0.04020101, -0.04020101, -0.04020101,\n",
       "       -0.04020101, -0.04020101, -0.04020101, -0.04020101, -0.04020101,\n",
       "       -0.04020101, -0.04020101, -0.04020101, -0.04020101, -0.04020101,\n",
       "       -0.04020101, -0.04020101, -0.04020101, -0.04020101, -0.04020101,\n",
       "       -0.04020101, -0.04020101, -0.04020101, -0.04020101, -0.04020101,\n",
       "       -0.04020101, -0.04020101, -0.04020101, -0.04020101, -0.04020101,\n",
       "       -0.04020101, -0.04020101, -0.04020101, -0.04020101, -0.04020101,\n",
       "       -0.04020101, -0.04020101, -0.04020101, -0.04020101, -0.04020101,\n",
       "       -0.04020101, -0.04020101, -0.04020101, -0.04020101, -0.04020101,\n",
       "       -0.04020101, -0.04020101, -0.04020101, -0.04020101, -0.04020101,\n",
       "       -0.04020101, -0.04020101, -0.04020101, -0.04020101, -0.04020101,\n",
       "       -0.04020101, -0.04020101, -0.04020101, -0.04020101, -0.04020101,\n",
       "       -0.04020101, -0.04020101, -0.04020101, -0.04020101, -0.04020101,\n",
       "       -0.04020101, -0.04020101, -0.04020101, -0.04020101, -0.04020101,\n",
       "       -0.04020101, -0.04020101, -0.04020101, -0.04020101, -0.04020101,\n",
       "       -0.04020101, -0.04020101, -0.04020101, -0.04020101, -0.04020101,\n",
       "       -0.04020101, -0.04020101, -0.04020101, -0.04020101, -0.04020101,\n",
       "       -0.04020101, -0.04020101, -0.04020101, -0.04020101, -0.04020101,\n",
       "       -0.04020101, -0.04020101, -0.04020101, -0.04020101, -0.04020101,\n",
       "       -0.04020101, -0.04020101, -0.04020101, -0.04020101, -0.04020101,\n",
       "       -0.04020101, -0.04020101, -0.04020101, -0.04020101, -0.04020101,\n",
       "       -0.04020101, -0.04020101, -0.04020101, -0.04020101, -0.04020101,\n",
       "       -0.04020101, -0.04020101, -0.04020101, -0.04020101, -0.04020101,\n",
       "       -0.04020101, -0.04020101, -0.04020101, -0.04020101, -0.04020101,\n",
       "       -0.04020101, -0.04020101, -0.04020101, -0.04020101, -0.04020101,\n",
       "       -0.04020101, -0.04020101, -0.04020101, -0.04020101, -0.04020101,\n",
       "       -0.04020101, -0.04020101, -0.04020101, -0.04020101, -0.04020101,\n",
       "       -0.04020101, -0.04020101, -0.04020101, -0.04020101, -0.04020101,\n",
       "       -0.04020101, -0.04020101, -0.04020101, -0.04020101, -0.04020101,\n",
       "       -0.04020101, -0.04020101, -0.04020101, -0.04020101, -0.04020101,\n",
       "       -0.04020101, -0.04020101, -0.04020101, -0.04020101, -0.04020101,\n",
       "       -0.04020101, -0.04020101, -0.04020101, -0.04020101,  0.        ])"
      ]
     },
     "execution_count": 71,
     "metadata": {},
     "output_type": "execute_result"
    }
   ],
   "source": [
    "xs - np.array(list(xs[1:]) + [8])"
   ]
  },
  {
   "cell_type": "code",
   "execution_count": 72,
   "metadata": {
    "collapsed": false
   },
   "outputs": [
    {
     "data": {
      "text/plain": [
       "-8.0"
      ]
     },
     "execution_count": 72,
     "metadata": {},
     "output_type": "execute_result"
    }
   ],
   "source": [
    "(xs - np.array(list(xs[1:]) + [8])).sum()"
   ]
  },
  {
   "cell_type": "code",
   "execution_count": 73,
   "metadata": {
    "collapsed": true
   },
   "outputs": [],
   "source": [
    "diffs=(xs - np.array(list(xs[1:]) + [8]))"
   ]
  },
  {
   "cell_type": "code",
   "execution_count": 74,
   "metadata": {
    "collapsed": false
   },
   "outputs": [
    {
     "data": {
      "text/plain": [
       "200"
      ]
     },
     "execution_count": 74,
     "metadata": {},
     "output_type": "execute_result"
    }
   ],
   "source": [
    "len(diffs)"
   ]
  },
  {
   "cell_type": "code",
   "execution_count": 75,
   "metadata": {
    "collapsed": false
   },
   "outputs": [
    {
     "data": {
      "text/plain": [
       "0.04020100502512563"
      ]
     },
     "execution_count": 75,
     "metadata": {},
     "output_type": "execute_result"
    }
   ],
   "source": [
    "8/199."
   ]
  },
  {
   "cell_type": "code",
   "execution_count": 76,
   "metadata": {
    "collapsed": true
   },
   "outputs": [],
   "source": [
    "#Oh becuase it divids into 199 partitions, each one is a bit larger than 8/200."
   ]
  },
  {
   "cell_type": "code",
   "execution_count": 84,
   "metadata": {
    "collapsed": false
   },
   "outputs": [
    {
     "data": {
      "text/plain": [
       "0.04"
      ]
     },
     "execution_count": 84,
     "metadata": {},
     "output_type": "execute_result"
    }
   ],
   "source": [
    "8/200."
   ]
  },
  {
   "cell_type": "code",
   "execution_count": 85,
   "metadata": {
    "collapsed": true
   },
   "outputs": [],
   "source": [
    "xs = np.linspace(0,60,300)"
   ]
  },
  {
   "cell_type": "code",
   "execution_count": 93,
   "metadata": {
    "collapsed": false
   },
   "outputs": [
    {
     "data": {
      "text/plain": [
       "[<matplotlib.lines.Line2D at 0x25157b19eb8>]"
      ]
     },
     "execution_count": 93,
     "metadata": {},
     "output_type": "execute_result"
    },
    {
     "data": {
      "image/png": "[encoded data removed]",
      "text/plain": [
       "<matplotlib.figure.Figure at 0x25157827358>"
      ]
     },
     "metadata": {},
     "output_type": "display_data"
    }
   ],
   "source": [
    "plt.plot(xs, stats.gaussian_kde(pd.Series(get_uniform_samples(a=0,b=60)), 1)(xs))"
   ]
  },
  {
   "cell_type": "code",
   "execution_count": 94,
   "metadata": {
    "collapsed": false
   },
   "outputs": [
    {
     "data": {
      "text/plain": [
       "0.016666666666666666"
      ]
     },
     "execution_count": 94,
     "metadata": {},
     "output_type": "execute_result"
    }
   ],
   "source": [
    "1/60."
   ]
  },
  {
   "cell_type": "code",
   "execution_count": 99,
   "metadata": {
    "collapsed": false
   },
   "outputs": [],
   "source": [
    "from scipy.integrate import simps"
   ]
  },
  {
   "cell_type": "code",
   "execution_count": 105,
   "metadata": {
    "collapsed": false
   },
   "outputs": [
    {
     "data": {
      "text/plain": [
       "0.26559113741721641"
      ]
     },
     "execution_count": 105,
     "metadata": {},
     "output_type": "execute_result"
    }
   ],
   "source": [
    "simps(stats.gaussian_kde(pd.Series(get_uniform_samples(a=0,b=60)), 5)(xs), xs)"
   ]
  },
  {
   "cell_type": "code",
   "execution_count": 106,
   "metadata": {
    "collapsed": false
   },
   "outputs": [
    {
     "data": {
      "text/plain": [
       "0.98830754112280639"
      ]
     },
     "execution_count": 106,
     "metadata": {},
     "output_type": "execute_result"
    }
   ],
   "source": [
    "simps(stats.gaussian_kde(pd.Series(get_uniform_samples(a=0,b=60)), 0.05)(xs), xs)"
   ]
  },
  {
   "cell_type": "code",
   "execution_count": 107,
   "metadata": {
    "collapsed": false
   },
   "outputs": [
    {
     "data": {
      "text/plain": [
       "0.96195912777826187"
      ]
     },
     "execution_count": 107,
     "metadata": {},
     "output_type": "execute_result"
    }
   ],
   "source": [
    "simps(stats.gaussian_kde(pd.Series(get_uniform_samples(a=0,b=60)))(xs), xs)"
   ]
  },
  {
   "cell_type": "code",
   "execution_count": 114,
   "metadata": {
    "collapsed": false
   },
   "outputs": [
    {
     "data": {
      "text/plain": [
       "[<matplotlib.lines.Line2D at 0x251000ba320>]"
      ]
     },
     "execution_count": 114,
     "metadata": {},
     "output_type": "execute_result"
    },
    {
     "data": {
      "image/png": "[encoded data removed]",
      "text/plain": [
       "<matplotlib.figure.Figure at 0x25157b88668>"
      ]
     },
     "metadata": {},
     "output_type": "display_data"
    }
   ],
   "source": [
    "plt.plot(xs, stats.gaussian_kde(pd.Series(get_uniform_samples(a=0,b=60, samples=10**5)))(xs))#, xs)"
   ]
  },
  {
   "cell_type": "code",
   "execution_count": 110,
   "metadata": {
    "collapsed": false
   },
   "outputs": [
    {
     "data": {
      "text/plain": [
       "10000000"
      ]
     },
     "execution_count": 110,
     "metadata": {},
     "output_type": "execute_result"
    }
   ],
   "source": [
    "10**7"
   ]
  },
  {
   "cell_type": "code",
   "execution_count": 118,
   "metadata": {
    "collapsed": false
   },
   "outputs": [
    {
     "data": {
      "text/plain": [
       "[]"
      ]
     },
     "execution_count": 118,
     "metadata": {},
     "output_type": "execute_result"
    }
   ],
   "source": [
    "list(filter(lambda x:x==0, get_uniform_samples(a=0,b=60)))"
   ]
  },
  {
   "cell_type": "code",
   "execution_count": null,
   "metadata": {
    "collapsed": true
   },
   "outputs": [],
   "source": []
  },
  {
   "cell_type": "code",
   "execution_count": 121,
   "metadata": {
    "collapsed": false
   },
   "outputs": [
    {
     "ename": "TypeError",
     "evalue": "rand() got an unexpected keyword argument 'size'",
     "output_type": "error",
     "traceback": [
      "\u001b[0;31m---------------------------------------------------------------------------\u001b[0m",
      "\u001b[0;31mTypeError\u001b[0m                                 Traceback (most recent call last)",
      "\u001b[0;32m<ipython-input-121-4cf226e32a1e>\u001b[0m in \u001b[0;36m<module>\u001b[0;34m()\u001b[0m\n\u001b[0;32m----> 1\u001b[0;31m \u001b[0mnp\u001b[0m\u001b[1;33m.\u001b[0m\u001b[0mrandom\u001b[0m\u001b[1;33m.\u001b[0m\u001b[0mrand\u001b[0m\u001b[1;33m(\u001b[0m\u001b[0msize\u001b[0m\u001b[1;33m=\u001b[0m\u001b[1;36m5\u001b[0m\u001b[1;33m)\u001b[0m\u001b[1;33m\u001b[0m\u001b[0m\n\u001b[0m",
      "\u001b[0;31mTypeError\u001b[0m: rand() got an unexpected keyword argument 'size'"
     ]
    }
   ],
   "source": [
    "np.random.rand(size=5)"
   ]
  },
  {
   "cell_type": "code",
   "execution_count": 122,
   "metadata": {
    "collapsed": false
   },
   "outputs": [
    {
     "data": {
      "text/plain": [
       "<matplotlib.axes._subplots.AxesSubplot at 0x2513127db70>"
      ]
     },
     "execution_count": 122,
     "metadata": {},
     "output_type": "execute_result"
    },
    {
     "data": {
      "image/png": "[encoded data removed]",
      "text/plain": [
       "<matplotlib.figure.Figure at 0x251000dde80>"
      ]
     },
     "metadata": {},
     "output_type": "display_data"
    }
   ],
   "source": [
    "pd.Series(get_uniform_samples(a=0,b=60)).plot(kind='density')"
   ]
  },
  {
   "cell_type": "code",
   "execution_count": 124,
   "metadata": {
    "collapsed": false
   },
   "outputs": [
    {
     "data": {
      "text/plain": [
       "100000"
      ]
     },
     "execution_count": 124,
     "metadata": {},
     "output_type": "execute_result"
    }
   ],
   "source": [
    "stats.gaussian_kde(pd.Series(get_uniform_samples(a=0,b=60, samples=10**5))).n"
   ]
  },
  {
   "cell_type": "code",
   "execution_count": 125,
   "metadata": {
    "collapsed": false
   },
   "outputs": [
    {
     "data": {
      "text/plain": [
       "0.099999999999999992"
      ]
     },
     "execution_count": 125,
     "metadata": {},
     "output_type": "execute_result"
    }
   ],
   "source": [
    "stats.gaussian_kde(pd.Series(get_uniform_samples(a=0,b=60, samples=10**5))).factor"
   ]
  },
  {
   "cell_type": "code",
   "execution_count": 128,
   "metadata": {
    "collapsed": false
   },
   "outputs": [
    {
     "data": {
      "text/plain": [
       "[<matplotlib.lines.Line2D at 0x251012f8a90>]"
      ]
     },
     "execution_count": 128,
     "metadata": {},
     "output_type": "execute_result"
    },
    {
     "data": {
      "image/png": "[encoded data removed]",
      "text/plain": [
       "<matplotlib.figure.Figure at 0x25100233a20>"
      ]
     },
     "metadata": {},
     "output_type": "display_data"
    }
   ],
   "source": [
    "xs = np.linspace(0,60, 1000)\n",
    "xs2 = np.linspace(-30,90, 2000)\n",
    "kde =stats.gaussian_kde(pd.Series(get_uniform_samples(a=0,b=60, samples=10**5)))\n",
    "plt.plot(xs, kde(xs))"
   ]
  },
  {
   "cell_type": "code",
   "execution_count": 129,
   "metadata": {
    "collapsed": false
   },
   "outputs": [
    {
     "data": {
      "text/plain": [
       "[<matplotlib.lines.Line2D at 0x2510138a0f0>]"
      ]
     },
     "execution_count": 129,
     "metadata": {},
     "output_type": "execute_result"
    },
    {
     "data": {
      "image/png": "[encoded data removed]",
      "text/plain": [
       "<matplotlib.figure.Figure at 0x2510026ac50>"
      ]
     },
     "metadata": {},
     "output_type": "display_data"
    }
   ],
   "source": [
    "\n",
    "plt.plot(xs2, kde(xs2))"
   ]
  },
  {
   "cell_type": "code",
   "execution_count": 133,
   "metadata": {
    "collapsed": false
   },
   "outputs": [
    {
     "data": {
      "text/plain": [
       "<matplotlib.axes._subplots.AxesSubplot at 0x251014c82e8>"
      ]
     },
     "execution_count": 133,
     "metadata": {},
     "output_type": "execute_result"
    },
    {
     "data": {
      "image/png": "[encoded data removed]",
      "text/plain": [
       "<matplotlib.figure.Figure at 0x25101301dd8>"
      ]
     },
     "metadata": {},
     "output_type": "display_data"
    }
   ],
   "source": [
    "pd.Series(get_uniform_samples(a=0,b=60)).plot()#kind='density')"
   ]
  },
  {
   "cell_type": "code",
   "execution_count": 135,
   "metadata": {
    "collapsed": false
   },
   "outputs": [
    {
     "data": {
      "text/plain": [
       "<matplotlib.axes._subplots.AxesSubplot at 0x251016b06d8>"
      ]
     },
     "execution_count": 135,
     "metadata": {},
     "output_type": "execute_result"
    },
    {
     "data": {
      "image/png": "[encoded data removed]",
      "text/plain": [
       "<matplotlib.figure.Figure at 0x2510155dba8>"
      ]
     },
     "metadata": {},
     "output_type": "display_data"
    }
   ],
   "source": [
    "xs = np.linspace(0,60,3000)\n",
    "pd.Series(index=xs, data=kde(xs)).plot(xlim=(-10,70))"
   ]
  },
  {
   "cell_type": "code",
   "execution_count": 137,
   "metadata": {
    "collapsed": false
   },
   "outputs": [
    {
     "data": {
      "text/plain": [
       "0.016666666666666666"
      ]
     },
     "execution_count": 137,
     "metadata": {},
     "output_type": "execute_result"
    }
   ],
   "source": [
    "1/60."
   ]
  },
  {
   "cell_type": "code",
   "execution_count": 139,
   "metadata": {
    "collapsed": true
   },
   "outputs": [],
   "source": [
    "s=pd.Series(index=xs, data=kde(xs))"
   ]
  },
  {
   "cell_type": "code",
   "execution_count": 140,
   "metadata": {
    "collapsed": false
   },
   "outputs": [
    {
     "data": {
      "text/plain": [
       "<matplotlib.axes._subplots.AxesSubplot at 0x251026ef630>"
      ]
     },
     "execution_count": 140,
     "metadata": {},
     "output_type": "execute_result"
    },
    {
     "data": {
      "image/png": "[encoded data removed]",
      "text/plain": [
       "<matplotlib.figure.Figure at 0x251015a8a20>"
      ]
     },
     "metadata": {},
     "output_type": "display_data"
    }
   ],
   "source": [
    "s.plot(kind='density',bw_method=0.5)"
   ]
  },
  {
   "cell_type": "code",
   "execution_count": 144,
   "metadata": {
    "collapsed": false
   },
   "outputs": [
    {
     "data": {
      "text/plain": [
       "<matplotlib.axes._subplots.AxesSubplot at 0x2510283eb38>"
      ]
     },
     "execution_count": 144,
     "metadata": {},
     "output_type": "execute_result"
    },
    {
     "data": {
      "image/png": "[encoded data removed]",
      "text/plain": [
       "<matplotlib.figure.Figure at 0x25102894f98>"
      ]
     },
     "metadata": {},
     "output_type": "display_data"
    }
   ],
   "source": [
    "xs = np.linspace(0,60,3000)\n",
    "pd.Series(index=xs, data=kde(xs)).plot(xlim=(-10,70))"
   ]
  },
  {
   "cell_type": "code",
   "execution_count": 145,
   "metadata": {
    "collapsed": true
   },
   "outputs": [],
   "source": [
    "xs = np.linspace(0,60,3000)\n",
    "s=pd.Series(index=xs, data=kde(xs))#.plot(xlim=(-10,70))"
   ]
  },
  {
   "cell_type": "code",
   "execution_count": 148,
   "metadata": {
    "collapsed": false
   },
   "outputs": [
    {
     "data": {
      "text/plain": [
       "array([ 0.        ,  0.02000667,  0.04001334,  0.06002001,  0.08002668])"
      ]
     },
     "execution_count": 148,
     "metadata": {},
     "output_type": "execute_result"
    }
   ],
   "source": [
    "xs[0:5]"
   ]
  },
  {
   "cell_type": "code",
   "execution_count": 149,
   "metadata": {
    "collapsed": false
   },
   "outputs": [
    {
     "data": {
      "text/plain": [
       "<matplotlib.axes._subplots.AxesSubplot at 0x25102948358>"
      ]
     },
     "execution_count": 149,
     "metadata": {},
     "output_type": "execute_result"
    },
    {
     "data": {
      "image/png": "[encoded data removed]",
      "text/plain": [
       "<matplotlib.figure.Figure at 0x25101600e10>"
      ]
     },
     "metadata": {},
     "output_type": "display_data"
    }
   ],
   "source": [
    "s.plot(kind='density',bw_method=0.001)"
   ]
  },
  {
   "cell_type": "code",
   "execution_count": 153,
   "metadata": {
    "collapsed": true
   },
   "outputs": [],
   "source": [
    "uniform_samples = get_uniform_samples(a=0,b=60, samples=10**5)"
   ]
  },
  {
   "cell_type": "code",
   "execution_count": 154,
   "metadata": {
    "collapsed": false
   },
   "outputs": [
    {
     "data": {
      "text/plain": [
       "<matplotlib.axes._subplots.AxesSubplot at 0x25104bfd080>"
      ]
     },
     "execution_count": 154,
     "metadata": {},
     "output_type": "execute_result"
    },
    {
     "data": {
      "image/png": "[encoded data removed]",
      "text/plain": [
       "<matplotlib.figure.Figure at 0x25102a42908>"
      ]
     },
     "metadata": {},
     "output_type": "display_data"
    }
   ],
   "source": [
    "pd.Series(uniform_samples).plot(kind='density', bw_method=0.2, xlim=(-10,70))"
   ]
  },
  {
   "cell_type": "code",
   "execution_count": 155,
   "metadata": {
    "collapsed": false
   },
   "outputs": [
    {
     "data": {
      "text/plain": [
       "<matplotlib.axes._subplots.AxesSubplot at 0x25104cd72b0>"
      ]
     },
     "execution_count": 155,
     "metadata": {},
     "output_type": "execute_result"
    },
    {
     "data": {
      "image/png": "[encoded data removed]",
      "text/plain": [
       "<matplotlib.figure.Figure at 0x25104be5eb8>"
      ]
     },
     "metadata": {},
     "output_type": "display_data"
    }
   ],
   "source": [
    "pd.Series(uniform_samples).plot(kind='density', bw_method=0.2, xlim=(5, 55))"
   ]
  },
  {
   "cell_type": "code",
   "execution_count": 159,
   "metadata": {
    "collapsed": true
   },
   "outputs": [],
   "source": [
    "#Pandas actually \"zooms in\"\n",
    "\n",
    "bw_method = 0.2\n",
    "kde =stats.gaussian_kde(uniform_samples, bw_method)\n",
    "how_many = 1000"
   ]
  },
  {
   "cell_type": "code",
   "execution_count": 162,
   "metadata": {
    "collapsed": false
   },
   "outputs": [
    {
     "ename": "AttributeError",
     "evalue": "'list' object has no attribute 'xlim'",
     "output_type": "error",
     "traceback": [
      "\u001b[0;31m---------------------------------------------------------------------------\u001b[0m",
      "\u001b[0;31mAttributeError\u001b[0m                            Traceback (most recent call last)",
      "\u001b[0;32m<ipython-input-162-08f1b0b2d576>\u001b[0m in \u001b[0;36m<module>\u001b[0;34m()\u001b[0m\n\u001b[1;32m      3\u001b[0m \u001b[1;33m\u001b[0m\u001b[0m\n\u001b[1;32m      4\u001b[0m \u001b[0mplot\u001b[0m\u001b[1;33m=\u001b[0m\u001b[0mplt\u001b[0m\u001b[1;33m.\u001b[0m\u001b[0mplot\u001b[0m\u001b[1;33m(\u001b[0m\u001b[0mxs\u001b[0m\u001b[1;33m,\u001b[0m \u001b[0mkde\u001b[0m\u001b[1;33m(\u001b[0m\u001b[0mxs\u001b[0m\u001b[1;33m)\u001b[0m\u001b[1;33m)\u001b[0m\u001b[1;33m\u001b[0m\u001b[0m\n\u001b[0;32m----> 5\u001b[0;31m \u001b[0mplot\u001b[0m\u001b[1;33m.\u001b[0m\u001b[0mxlim\u001b[0m\u001b[1;33m(\u001b[0m\u001b[1;33m*\u001b[0m\u001b[0mxlim\u001b[0m\u001b[1;33m)\u001b[0m\u001b[1;33m\u001b[0m\u001b[0m\n\u001b[0m",
      "\u001b[0;31mAttributeError\u001b[0m: 'list' object has no attribute 'xlim'"
     ]
    },
    {
     "data": {
      "image/png": "[encoded data removed]",
      "text/plain": [
       "<matplotlib.figure.Figure at 0x25104dcc898>"
      ]
     },
     "metadata": {},
     "output_type": "display_data"
    }
   ],
   "source": [
    "xlim=(-10, 70) \n",
    "xs=np.linspace(*xlim, how_many)\n",
    "\n",
    "plot=plt.plot(xs, kde(xs))\n",
    "plot.xlim(*xlim)"
   ]
  },
  {
   "cell_type": "code",
   "execution_count": 166,
   "metadata": {
    "collapsed": false
   },
   "outputs": [
    {
     "data": {
      "image/png": "[encoded data removed]",
      "text/plain": [
       "<matplotlib.figure.Figure at 0x25102b32da0>"
      ]
     },
     "metadata": {},
     "output_type": "display_data"
    }
   ],
   "source": [
    "xlim=(-10, 70) \n",
    "xs=np.linspace(*xlim, how_many)\n",
    "\n",
    "plt.xlim = (-5,65)\n",
    "plot = plt.plot(xs, kde(xs))\n"
   ]
  },
  {
   "cell_type": "markdown",
   "metadata": {},
   "source": [
    "## matplotlib OO vs state-machine\n",
    "At this point I spent some time learning about [matplotlib OO vs state-machine](https://matplotlib.org/faq/usage_faq.html#matplotlib-pyplot-and-pylab-how-are-they-related) interfaces; how axes (in the OO interface, which is \"1 level deeper\" than the state-machine interface); are necessary to set xlim and ylim, which I wanted to do, in order to demonstrate that pyplot would try to \"(e.g., 'contour this 2-D array')\", *considering xlim and ylim*!\n",
    "\n"
   ]
  },
  {
   "cell_type": "code",
   "execution_count": 167,
   "metadata": {
    "collapsed": false
   },
   "outputs": [
    {
     "name": "stderr",
     "output_type": "stream",
     "text": [
      "'[answering' is not recognized as an internal or external command,\n",
      "operable program or batch file.\n"
     ]
    }
   ],
   "source": [
    "![answering density properties](img/explanation density properties.png)"
   ]
  },
  {
   "cell_type": "code",
   "execution_count": 171,
   "metadata": {
    "collapsed": false
   },
   "outputs": [],
   "source": [
    "#Oops the error \"'[answering' is not recognized as an internal or external command,operable program or batch file.\" "
   ]
  },
  {
   "cell_type": "markdown",
   "metadata": {},
   "source": [
    "![answering density properties](img/explanation density properties.png)"
   ]
  },
  {
   "cell_type": "markdown",
   "metadata": {},
   "source": [
    "## Summary\n",
    "Learned about:\n",
    " 1. Uniform PDFs (rectangles which integrate to 1)\n",
    " 2. Stepwise PDFs (noncontinuous functions \n",
    " 3. And other \"funky\" PDFs like \"Gaussian\"\n",
    " \n",
    " So will learn about Gaussian after learning the \"Central Limit Theorem\" (in context of large numbers) in the next lesson"
   ]
  },
  {
   "cell_type": "code",
   "execution_count": null,
   "metadata": {
    "collapsed": true
   },
   "outputs": [],
   "source": []
  }
 ],
 "metadata": {
  "kernelspec": {
   "display_name": "Python 3",
   "language": "python",
   "name": "python3"
  },
  "language_info": {
   "codemirror_mode": {
    "name": "ipython",
    "version": 3
   },
   "file_extension": ".py",
   "mimetype": "text/x-python",
   "name": "python",
   "nbconvert_exporter": "python",
   "pygments_lexer": "ipython3",
   "version": "3.6.0"
  }
 },
 "nbformat": 4,
 "nbformat_minor": 2
}
